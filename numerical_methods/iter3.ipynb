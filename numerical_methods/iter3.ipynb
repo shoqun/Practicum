{
 "cells": [
  {
   "cell_type": "markdown",
   "metadata": {},
   "source": [
    "<div style=\"border-radius: 15px; border: 2px solid steelblue; background-color: lavender; padding: 15px;\">\n",
    "  <h3>🧑‍🎓 Комментарий студента 🖋️ Версия 1.0 </h3>\n",
    "Привет, Света еще раз! Я прошелся по замечаниям, но скорее всего мог что-то упустить. В принципе если будет что-то серьезное, то готов все поправить. 4 часа ушло на правки жесть. некст тайм буду оптимизировать время\n",
    "  \n",
    "</div>\n"
   ]
  },
  {
   "cell_type": "markdown",
   "metadata": {},
   "source": [
    "<div style=\"border-radius: 15px; border: 3px solid indigo; padding: 15px;\">\n",
    "<b> Комментарий ревьюера 2</b>\n",
    "    \n",
    "Спасибо за корректировки, отличная работа получилась! Очень заметно старание. Я оставила новые комментарии с цифрой 2. Осталось немного :) Попробуй не разбивать одну и ту же выборку несколько раз. Возьми сразу нужные столбцы, подготовь выборки и обучи модели. Лучше чуть больше времени потратить на подбор гиперпараметров, чем на пребор комбинаций признаков.\n",
    "</div>"
   ]
  },
  {
   "cell_type": "markdown",
   "metadata": {},
   "source": [
    "<div style=\"border-radius: 15px; border: 2px solid steelblue; background-color: lightskyblue; padding: 15px;\">\n",
    "  <b>Комментарий студента 2</b><br>\n",
    "Привет, на борту 7 июля. Что-то я припозднился с проектом. Просто была мастерская параллельно и там пришлось переделывать проект, а также немного делал новый спринт, но большинство времени наверно заняла прокрастинация. Прошу прощения. Сейчас буду исправлять недочеты. 17:01. В общем тяжело как и в первый раз, надо оставлять модели и бренд так как дублей 250к из 350к данных. У катбуста нет проблем с этими признаками. Буду делать дома. буду брать другие признаки для обучения модели<br><br>\n",
    "  🔹 \n",
    "</div>\n"
   ]
  },
  {
   "cell_type": "markdown",
   "metadata": {},
   "source": [
    "\n",
    "\n",
    "<div style=\"border-radius: 15px; border: 2px solid steelblue; background-color: lightblue; padding: 15px;\">\n",
    "  <b>Комментарий студента — Версия 0.1: Хроники правки</b><br>\n",
    "  ver. 1 from 20.06\n",
    "Черновой вариант с моими мыслями, \"юмором\" и размышлениями. Во второй итерации такого уже не будет!* Ахах. Решил разнообразить проверку, чтобы общение было повеселее.\n",
    "\n",
    "Привет, ревьювер! Меня зовут Артур, я буду делать этот проект. Если не против, давай общаться на \"ты\" :) Но если это неудобно, обязательно дай знать, и мы придумаем что-нибудь ещё!\n",
    "\n",
    "Цель проекта - не просто сдать проект, а помочь мне сделать мою работу ещё лучше, устранив недочёты и приблизив её к реальным задачам специалиста по работе с данными. Поэтому я стараюсь идти дальше, сильно не расстраиваюсь, если что-то не получилось с первого раза - это нормально, и это поможет мне вырасти!ъъ \n",
    "\n",
    "Мне было непросто делать этот проект, потому что я нечётко структурировал задачи и не очень хорошо двигался, очищая данные.\n",
    "\n",
    "Во второй итерации я почищу \"ненужный текст\", добавлю оглавление, аккуратно и понятно оформлю уже незамыленным глазом, поправлю желтые и красные пометки, быть может, добавлю новых функций. Ждать ответ, возможно, придется до 23-24, так как надо делать еще мастерскую...\n",
    "\n",
    "Upd_from_26.06: доделал мастерскую, теперь добавлю фичей, закодирую, модельки и отправлю на проверку)\n",
    "\n",
    "Upd_from26_06:*(Или будет, если не против)\n",
    "\n",
    "upd_from27.06:<br>Определение стоимости автомобилей\n",
    "~~Специалист по Data Science.~~ Специалист по предобработке данных)\n",
    "~~ML-инженер, senior~~ Data Cleaner 80-го уровня\n",
    "</div>\n"
   ]
  },
  {
   "cell_type": "markdown",
   "metadata": {},
   "source": [
    "<div style=\"border-radius: 15px; border: 3px solid indigo; background-color: lightblue; padding: 15px; \">\n",
    "<b> Комментарий копирайтера — Версия 0.1: Хроники правки</b>\n",
    "    \n",
    "Черновой вариант с моими мыслями, \"юмором\" и размышлениями. Во второй итерации такого уже не будет! Ахах. Решил разнообразить проверку, \n",
    "чтобы общение было повеселее.\n",
    "    \n",
    "Привет, ревьювер! Меня зовут Артур, я буду делать этот проект. Если не против, давай общаться на \"ты\" :) \n",
    "Но если это неудобно, обязательно дай знать, и мы придумаем что-нибудь ещё!\n",
    "\n",
    "\n",
    "    \n",
    "**Ответы на мои комментарии или доработки по моим рекомендациям попрошу выделить каким-нибудь цветом.**\n",
    "Также я попрошу тебя **не менять и не передвигать мои комментарии**, чтобы при последующей проверке мне было проще ориентироваться))0\n",
    "    \n",
    "    \n",
    "<font color= 'dodgerblue'>**По проекту:**</font> работа сделана очень хорошо, все оформлено аккуратно и понятно. Код легко читается и сопровождается выводами, что очень важно!! Функции написаны верно, модели обучены корректно. Во время выполнения проекта у меня остались некоторые вопросы. Посмотри, пожалуйста, мои комментарии, возможно, я выделю их цветом. <div class=\"alert alert-warning\" style=\"border-radius: 15px; box-shadow: 4px 4px 4px; border: 1px solid \">\n",
    "\n",
    "Желтым с пометкой ⚠️ отмечено то, что можно или нужно оптимизировать, в зависимости от контекста.</div>    \n",
    "\n",
    "Вот это удалить: \"Там же ты также найдешь рекомендации по улучшению проекта. Буду ждать работу на повторное ревью.\"\n",
    "</div>"
   ]
  },
  {
   "cell_type": "markdown",
   "metadata": {},
   "source": [
    "<div style=\"border-radius: 15px; border: 3px solid indigo; padding: 15px; \">\n",
    "<b> Комментарий ревьюера</b>\n",
    "    \n",
    "Привет Артур! Это снова Света, рада видеть! \n",
    "    \n",
    "    \n",
    "Я буду снова использовать стандартную цветовую разметку:\n",
    "    \n",
    "    \n",
    "<div class=\"alert alert-success\" style=\"border-radius: 15px; box-shadow: 4px 4px 4px; border: 1px solid \">\n",
    "\n",
    "Зеленым с пометкой ✔️ отмечены отличные решения и идеи, которые можно и нужно использовать в будущем.\n",
    "</div>\n",
    "    \n",
    "<div class=\"alert alert-warning\" style=\"border-radius: 15px; box-shadow: 4px 4px 4px; border: 1px solid \">\n",
    "\n",
    "Желтым с пометкой ⚠️ отмечено то, что можно или нужно оптимизировать, в зависимости от контекста.</div>    \n",
    "    \n",
    "<div class=\"alert alert-danger\" style=\"border-radius: 15px; box-shadow: 4px 4px 4px; border: 1px solid \">\n",
    "\n",
    "Красным с пометкой ❌ обозначены пропущенные пункты задания и ошибки, которые обязательно надо будет исправить, чтобы результаты были верные.</div> \n",
    "    \n",
    "**Ответы на мои комментарии или доработки по моим рекомендациям попрошу выделить каким-нибудь цветом, кроме трех перечисленных.**\n",
    "Также я попрошу тебя **не менять и не передвигать мои комментарии**, чтобы при последующей проверке мне было проще ориентироваться.\n",
    "       \n",
    "<hr>\n",
    "    \n",
    "<font color= 'dodgerblue'>**По проекту:**</font> очень хороший проект получился, с качественным исследовательским анализом. Это весьма полезно для оценки признаков. Не переживай насчет финальной метрики, давай пока исправим ключевые моменты, которые я отметила в комментариях. Как только мы их исправим, метрики тоже должны улучшиться. Вообще в таких задачах lgbm хорошо работает, так что она должна выдать качественные результаты. \n",
    "</div>\n"
   ]
  },
  {
   "cell_type": "markdown",
   "metadata": {},
   "source": [
    "<div style=\"border-radius: 15px; border: 2px solid steelblue; background-color: lightblue; padding: 15px;\">\n",
    "  <b>Комментарий студента  Версия 1.0: от // 27.06, 15:20</b><br>\n",
    "    Привет, Света! Будем двигаться по проекту вместе, рад тебя снова видеть.<br>\n",
    "    28 замечаний приняты в обработку. За часика два, думаю, управлюсь.\n",
    "    Как и ~~говорил~~ писал в предыдущей итерации, почистил проект и добавил немного формальности. \"Живое\" отдельно вынесено в рамочки, сохранено в логах синей рамки под версией 0.1. \n",
    "</div>\n"
   ]
  },
  {
   "cell_type": "markdown",
   "metadata": {},
   "source": [
    "<div style=\"border-radius: 15px; border: 2px solid steelblue; background-color: lightblue; padding: 15px;\">\n",
    "  <b>Комментарий студента  Версия 1.0: от // 27.06, 17:40</b><br>\n",
    "    Я устал. Потом продолжу\n",
    "</div>\n"
   ]
  },
  {
   "cell_type": "markdown",
   "metadata": {},
   "source": [
    "<div style=\"border-radius: 15px; border: 2px solid steelblue; background-color: lightblue; padding: 15px;\">\n",
    "  <b>Комментарий студента  Версия 1.0: от // 27.06, 20:25</b><br>\n",
    "    Продолжаем\n",
    "    <br>22:20 Finished;\n",
    "</div>"
   ]
  },
  {
   "cell_type": "markdown",
   "metadata": {},
   "source": [
    "# Проект: Предсказание рыночной стоимости автомобиля\n",
    "\n",
    "---\n",
    "\n",
    "## 🎯 Цель исследования\n",
    "\n",
    "Разработать модель, способную предсказать рыночную стоимость автомобиля на основе технических характеристик, комплектации и цене различных автомобилей;\n",
    "\n",
    "---\n",
    "\n",
    "## 💼 Бизнес-задача\n",
    "\n",
    "\n",
    "- Построить модель, предсказывающую цену автомобиля.\n",
    "- Добиться **качества предсказания RMSE < 2500**.\n",
    "- Обеспечить **приемлемое время обучения модели**.\n",
    "- Обеспечить **приемлемое время предсказания**.\n",
    "\n",
    "---\n",
    "\n",
    "## 📦 Описание данных\n",
    "\n",
    "Файл: `/datasets/autos.csv`\n",
    "\n",
    "**Признаки:**\n",
    "\n",
    "- `DateCrawled` — дата скачивания анкеты  \n",
    "- `VehicleType` — тип кузова  \n",
    "- `RegistrationYear` — год регистрации  \n",
    "- `Gearbox` — тип коробки передач  \n",
    "- `Power` — мощность (л.с.)  \n",
    "- `Model` — модель авто  \n",
    "- `Kilometer` — пробег (км)  \n",
    "- `RegistrationMonth` — месяц регистрации  \n",
    "- `FuelType` — тип топлива  \n",
    "- `Brand` — марка  \n",
    "- `Repaired` — был ли ремонт  \n",
    "- `DateCreated` — дата создания анкеты  \n",
    "- `NumberOfPictures` — количество фото  \n",
    "- `PostalCode` — почтовый индекс  \n",
    "- `LastSeen` — дата последней активности  \n",
    "\n",
    "**Целевой признак:** `Price` — цена автомобиля (евро)\n",
    "\n",
    "---\n",
    "\n",
    "## 🗺️ План работы\n",
    "\n",
    "1. **Загрузка и обзор данных**\n",
    "2. **Очистка: пропуски, выбросы, аномалии**\n",
    "3. **Создание новых признаков и кодирование**\n",
    "4. **Формирование обучающих и тестовых выборок**\n",
    "5. **Обучение моделей:**\n",
    "   - Базовые модели (Linear, Ridge и др.)\n",
    "   - Модели бустинга (CatBoost, LightGBM)\n",
    "6. **Сравнение моделей по:**\n",
    "   - Качеству (RMSE)\n",
    "   - Времени обучения\n",
    "   - Времени предсказания\n",
    "7. **Вывод: финальная модель и обоснование выбора**\n",
    "\n",
    "---\n",
    "\n",
    "\n"
   ]
  },
  {
   "cell_type": "markdown",
   "metadata": {},
   "source": [
    "<div style=\"border-radius: 15px; border: 2px solid steelblue; background-color: lavender; padding: 15px;\">\n",
    "  <b>Комментарий студента</b><br>\n",
    "  Спасибо за замечания!<br><br>\n",
    "  🔹\n",
    "  \n",
    "</div>\n"
   ]
  },
  {
   "cell_type": "markdown",
   "metadata": {},
   "source": [
    "<div style=\"border-radius: 15px; border: 2px solid steelblue; background-color: gainsboro; padding: 15px;\">\n",
    "  <b>Комментарий студента</b><br>\n",
    "  Спасибо за замечания!<br><br>\n",
    "    🔹\n",
    "</div>\n"
   ]
  },
  {
   "cell_type": "markdown",
   "metadata": {},
   "source": [
    "<div style=\"border-radius: 15px; border: 2px solid steelblue; background-color: lightblue; padding: 15px;\">\n",
    "  <b>Комментарий студента</b><br>\n",
    "  Спасибо за замечания!<br><br>\n",
    "  🔹 \n",
    "</div>\n"
   ]
  },
  {
   "cell_type": "markdown",
   "metadata": {},
   "source": [
    "<div style=\"border-radius: 15px; border: 2px solid steelblue; background-color: lightskyblue; padding: 15px;\">\n",
    "  <b>Комментарий студента</b><br>\n",
    "  Спасибо за замечания!<br><br>\n",
    "  🔹 \n",
    "</div>\n"
   ]
  },
  {
   "cell_type": "markdown",
   "metadata": {},
   "source": [
    "## Подготовка данных"
   ]
  },
  {
   "cell_type": "markdown",
   "metadata": {},
   "source": [
    "### Загрузка..."
   ]
  },
  {
   "cell_type": "code",
   "execution_count": 2,
   "metadata": {},
   "outputs": [
    {
     "name": "stdout",
     "output_type": "stream",
     "text": [
      "Collecting lightgbm\n",
      "  Downloading lightgbm-4.6.0-py3-none-macosx_10_15_x86_64.whl.metadata (17 kB)\n",
      "Requirement already satisfied: numpy>=1.17.0 in /opt/goinfre/migdalia/homebrew/Caskroom/miniconda/base/envs/kaggle/lib/python3.11/site-packages (from lightgbm) (2.0.0)\n",
      "Requirement already satisfied: scipy in /opt/goinfre/migdalia/homebrew/Caskroom/miniconda/base/envs/kaggle/lib/python3.11/site-packages (from lightgbm) (1.15.3)\n",
      "Downloading lightgbm-4.6.0-py3-none-macosx_10_15_x86_64.whl (2.0 MB)\n",
      "\u001b[2K   \u001b[38;2;114;156;31m━━━━━━━━━━━━━━━━━━━━━━━━━━━━━━━━━━━━━━━━\u001b[0m \u001b[32m2.0/2.0 MB\u001b[0m \u001b[31m9.8 MB/s\u001b[0m eta \u001b[36m0:00:00\u001b[0m0m eta \u001b[36m-:--:--\u001b[0m\n",
      "Installing collected packages: lightgbm\n",
      "Successfully installed lightgbm-4.6.0\n"
     ]
    }
   ],
   "source": [
    "!pip install lightgbm\n"
   ]
  },
  {
   "cell_type": "code",
   "execution_count": 3,
   "metadata": {},
   "outputs": [],
   "source": [
    "import os\n",
    "import pandas as pd\n",
    "import numpy as np\n",
    "import matplotlib.pyplot as plt\n",
    "\n",
    "import seaborn as sns\n",
    "\n",
    "from sklearn.preprocessing import OneHotEncoder\n",
    "from sklearn.preprocessing import StandardScaler\n",
    "from sklearn.compose import ColumnTransformer\n",
    "\n",
    "from sklearn.model_selection import train_test_split\n",
    "from sklearn.linear_model import LinearRegression\n",
    "from sklearn.linear_model import Ridge\n",
    "\n",
    "from catboost import CatBoostRegressor\n",
    "from catboost import CatBoostRegressor, Pool\n",
    "\n",
    "\n",
    "from sklearn.metrics import mean_squared_error, r2_score"
   ]
  },
  {
   "cell_type": "code",
   "execution_count": 5,
   "metadata": {},
   "outputs": [],
   "source": [
    "path1 = '/datasets/autos.csv'\n",
    "path2 = '../../autos.csv'\n",
    "\n",
    "if os.path.exists(path1):\n",
    "    data = pd.read_csv(path1)\n",
    "elif os.path.exists(path2):\n",
    "    data = pd.read_csv(path2)\n",
    "else:\n",
    "    print('something is wrong')\n",
    "    \n"
   ]
  },
  {
   "cell_type": "code",
   "execution_count": 6,
   "metadata": {},
   "outputs": [
    {
     "data": {
      "text/html": [
       "<div>\n",
       "<style scoped>\n",
       "    .dataframe tbody tr th:only-of-type {\n",
       "        vertical-align: middle;\n",
       "    }\n",
       "\n",
       "    .dataframe tbody tr th {\n",
       "        vertical-align: top;\n",
       "    }\n",
       "\n",
       "    .dataframe thead th {\n",
       "        text-align: right;\n",
       "    }\n",
       "</style>\n",
       "<table border=\"1\" class=\"dataframe\">\n",
       "  <thead>\n",
       "    <tr style=\"text-align: right;\">\n",
       "      <th></th>\n",
       "      <th>DateCrawled</th>\n",
       "      <th>Price</th>\n",
       "      <th>VehicleType</th>\n",
       "      <th>RegistrationYear</th>\n",
       "      <th>Gearbox</th>\n",
       "      <th>Power</th>\n",
       "      <th>Model</th>\n",
       "      <th>Kilometer</th>\n",
       "      <th>RegistrationMonth</th>\n",
       "      <th>FuelType</th>\n",
       "      <th>Brand</th>\n",
       "      <th>Repaired</th>\n",
       "      <th>DateCreated</th>\n",
       "      <th>NumberOfPictures</th>\n",
       "      <th>PostalCode</th>\n",
       "      <th>LastSeen</th>\n",
       "    </tr>\n",
       "  </thead>\n",
       "  <tbody>\n",
       "    <tr>\n",
       "      <th>0</th>\n",
       "      <td>2016-03-24 11:52:17</td>\n",
       "      <td>480</td>\n",
       "      <td>NaN</td>\n",
       "      <td>1993</td>\n",
       "      <td>manual</td>\n",
       "      <td>0</td>\n",
       "      <td>golf</td>\n",
       "      <td>150000</td>\n",
       "      <td>0</td>\n",
       "      <td>petrol</td>\n",
       "      <td>volkswagen</td>\n",
       "      <td>NaN</td>\n",
       "      <td>2016-03-24 00:00:00</td>\n",
       "      <td>0</td>\n",
       "      <td>70435</td>\n",
       "      <td>2016-04-07 03:16:57</td>\n",
       "    </tr>\n",
       "    <tr>\n",
       "      <th>1</th>\n",
       "      <td>2016-03-24 10:58:45</td>\n",
       "      <td>18300</td>\n",
       "      <td>coupe</td>\n",
       "      <td>2011</td>\n",
       "      <td>manual</td>\n",
       "      <td>190</td>\n",
       "      <td>NaN</td>\n",
       "      <td>125000</td>\n",
       "      <td>5</td>\n",
       "      <td>gasoline</td>\n",
       "      <td>audi</td>\n",
       "      <td>yes</td>\n",
       "      <td>2016-03-24 00:00:00</td>\n",
       "      <td>0</td>\n",
       "      <td>66954</td>\n",
       "      <td>2016-04-07 01:46:50</td>\n",
       "    </tr>\n",
       "    <tr>\n",
       "      <th>2</th>\n",
       "      <td>2016-03-14 12:52:21</td>\n",
       "      <td>9800</td>\n",
       "      <td>suv</td>\n",
       "      <td>2004</td>\n",
       "      <td>auto</td>\n",
       "      <td>163</td>\n",
       "      <td>grand</td>\n",
       "      <td>125000</td>\n",
       "      <td>8</td>\n",
       "      <td>gasoline</td>\n",
       "      <td>jeep</td>\n",
       "      <td>NaN</td>\n",
       "      <td>2016-03-14 00:00:00</td>\n",
       "      <td>0</td>\n",
       "      <td>90480</td>\n",
       "      <td>2016-04-05 12:47:46</td>\n",
       "    </tr>\n",
       "    <tr>\n",
       "      <th>3</th>\n",
       "      <td>2016-03-17 16:54:04</td>\n",
       "      <td>1500</td>\n",
       "      <td>small</td>\n",
       "      <td>2001</td>\n",
       "      <td>manual</td>\n",
       "      <td>75</td>\n",
       "      <td>golf</td>\n",
       "      <td>150000</td>\n",
       "      <td>6</td>\n",
       "      <td>petrol</td>\n",
       "      <td>volkswagen</td>\n",
       "      <td>no</td>\n",
       "      <td>2016-03-17 00:00:00</td>\n",
       "      <td>0</td>\n",
       "      <td>91074</td>\n",
       "      <td>2016-03-17 17:40:17</td>\n",
       "    </tr>\n",
       "    <tr>\n",
       "      <th>4</th>\n",
       "      <td>2016-03-31 17:25:20</td>\n",
       "      <td>3600</td>\n",
       "      <td>small</td>\n",
       "      <td>2008</td>\n",
       "      <td>manual</td>\n",
       "      <td>69</td>\n",
       "      <td>fabia</td>\n",
       "      <td>90000</td>\n",
       "      <td>7</td>\n",
       "      <td>gasoline</td>\n",
       "      <td>skoda</td>\n",
       "      <td>no</td>\n",
       "      <td>2016-03-31 00:00:00</td>\n",
       "      <td>0</td>\n",
       "      <td>60437</td>\n",
       "      <td>2016-04-06 10:17:21</td>\n",
       "    </tr>\n",
       "  </tbody>\n",
       "</table>\n",
       "</div>"
      ],
      "text/plain": [
       "           DateCrawled  Price VehicleType  RegistrationYear Gearbox  Power  \\\n",
       "0  2016-03-24 11:52:17    480         NaN              1993  manual      0   \n",
       "1  2016-03-24 10:58:45  18300       coupe              2011  manual    190   \n",
       "2  2016-03-14 12:52:21   9800         suv              2004    auto    163   \n",
       "3  2016-03-17 16:54:04   1500       small              2001  manual     75   \n",
       "4  2016-03-31 17:25:20   3600       small              2008  manual     69   \n",
       "\n",
       "   Model  Kilometer  RegistrationMonth  FuelType       Brand Repaired  \\\n",
       "0   golf     150000                  0    petrol  volkswagen      NaN   \n",
       "1    NaN     125000                  5  gasoline        audi      yes   \n",
       "2  grand     125000                  8  gasoline        jeep      NaN   \n",
       "3   golf     150000                  6    petrol  volkswagen       no   \n",
       "4  fabia      90000                  7  gasoline       skoda       no   \n",
       "\n",
       "           DateCreated  NumberOfPictures  PostalCode             LastSeen  \n",
       "0  2016-03-24 00:00:00                 0       70435  2016-04-07 03:16:57  \n",
       "1  2016-03-24 00:00:00                 0       66954  2016-04-07 01:46:50  \n",
       "2  2016-03-14 00:00:00                 0       90480  2016-04-05 12:47:46  \n",
       "3  2016-03-17 00:00:00                 0       91074  2016-03-17 17:40:17  \n",
       "4  2016-03-31 00:00:00                 0       60437  2016-04-06 10:17:21  "
      ]
     },
     "execution_count": 6,
     "metadata": {},
     "output_type": "execute_result"
    }
   ],
   "source": [
    "data.head(5)"
   ]
  },
  {
   "cell_type": "code",
   "execution_count": 7,
   "metadata": {},
   "outputs": [
    {
     "data": {
      "text/plain": [
       "(354369, 16)"
      ]
     },
     "execution_count": 7,
     "metadata": {},
     "output_type": "execute_result"
    }
   ],
   "source": [
    "data.shape"
   ]
  },
  {
   "cell_type": "code",
   "execution_count": null,
   "metadata": {},
   "outputs": [],
   "source": []
  },
  {
   "cell_type": "code",
   "execution_count": 8,
   "metadata": {},
   "outputs": [],
   "source": [
    "# 2. Удаление дубликатов\n",
    "data = data.drop_duplicates()\n"
   ]
  },
  {
   "cell_type": "code",
   "execution_count": 9,
   "metadata": {},
   "outputs": [
    {
     "data": {
      "text/plain": [
       "(354365, 16)"
      ]
     },
     "execution_count": 9,
     "metadata": {},
     "output_type": "execute_result"
    }
   ],
   "source": [
    "data.shape"
   ]
  },
  {
   "cell_type": "markdown",
   "metadata": {},
   "source": [
    "Данные загружены успешно и без ошибок отображаются"
   ]
  },
  {
   "cell_type": "code",
   "execution_count": 132,
   "metadata": {},
   "outputs": [
    {
     "name": "stdout",
     "output_type": "stream",
     "text": [
      "<class 'pandas.core.frame.DataFrame'>\n",
      "Int64Index: 354365 entries, 0 to 354368\n",
      "Data columns (total 16 columns):\n",
      " #   Column             Non-Null Count   Dtype \n",
      "---  ------             --------------   ----- \n",
      " 0   DateCrawled        354365 non-null  object\n",
      " 1   Price              354365 non-null  int64 \n",
      " 2   VehicleType        316875 non-null  object\n",
      " 3   RegistrationYear   354365 non-null  int64 \n",
      " 4   Gearbox            334532 non-null  object\n",
      " 5   Power              354365 non-null  int64 \n",
      " 6   Model              334660 non-null  object\n",
      " 7   Kilometer          354365 non-null  int64 \n",
      " 8   RegistrationMonth  354365 non-null  int64 \n",
      " 9   FuelType           321470 non-null  object\n",
      " 10  Brand              354365 non-null  object\n",
      " 11  Repaired           283211 non-null  object\n",
      " 12  DateCreated        354365 non-null  object\n",
      " 13  NumberOfPictures   354365 non-null  int64 \n",
      " 14  PostalCode         354365 non-null  int64 \n",
      " 15  LastSeen           354365 non-null  object\n",
      "dtypes: int64(7), object(9)\n",
      "memory usage: 46.0+ MB\n"
     ]
    }
   ],
   "source": [
    "data.info()"
   ]
  },
  {
   "cell_type": "markdown",
   "metadata": {},
   "source": [
    "Явные пропуски есть в столбцах:\n",
    "* VehicleType – тип автомобильного кузова\n",
    "* Gearbox — тип коробки передач\n",
    "* Model – модель автомобиля\n",
    "* FuelType – тип топлива\n",
    "* Repaired – была машина в ремонте или нет\n"
   ]
  },
  {
   "cell_type": "markdown",
   "metadata": {},
   "source": [
    "### Заполнение пропусков"
   ]
  },
  {
   "cell_type": "markdown",
   "metadata": {},
   "source": [
    "Для начала я бы спросил у старшего, чем лучше заполнить пропуски и предложил бы свои мысли. Так как старшего нет, то сразу будем придерживаться плана.\n",
    "\n",
    "**План такой.** \n",
    "VehicleType: заполняем пропуски модой по Brand/Model. \n",
    "Альтернатива: если модель отсутствует, можно fallback на моду по Brand, либо просто 'other'.\n",
    "\n",
    "Model: заполняем модой по Brand, fallback → 'other1' или 'other'\n",
    "\n",
    "Gearbox заполняем модой по `Model`, с fallback на глобальную моду в случае отсутствия данных.\n",
    "Важно для цены, но менее точно привязано к бренду/модели.\n",
    "\n",
    "Repaired: часто утаивается умышленно → NaN тут может иметь значение само по себе.\n",
    "Заполнить 'unknown'.\n"
   ]
  },
  {
   "cell_type": "markdown",
   "metadata": {},
   "source": [
    "<div class=\"alert alert-warning\" style=\"border-radius: 15px; box-shadow: 4px 4px 4px; border: 1px solid \">\n",
    "<h2> Комментарий ревьюера  ⚠️</h2>\n",
    "    \n",
    "Коробку лучше взять в зависимости от модели, а не типа кузова, как мне кажется. \n",
    "    \n",
    "</div>"
   ]
  },
  {
   "cell_type": "markdown",
   "metadata": {},
   "source": [
    "<div style=\"border-radius: 15px; border: 2px solid steelblue; background-color: lavender; padding: 15px;\">\n",
    "  <h3>🧑‍🎓 Комментарий студента 🖋️ Версия 1.0 </h3>\n",
    "  Спасибо за замечания 🔹<br><br>\n",
    "  Действительно, логичнее восстанавливать Gearbox на основе Model, а не VehicleType — это более конкретная и информативная привязка.<br>\n",
    "  К моменту заполнения коробки мы уже восстановим Model, так что последовательность действий позволяет сделать замену корректно.<br><br>\n",
    "  План обновлён: Gearbox теперь заполняется модой по `Model`, с fallback на глобальную моду в случае отсутствия данных.\n",
    "  \n",
    "</div>\n"
   ]
  },
  {
   "cell_type": "markdown",
   "metadata": {},
   "source": [
    "<div class=\"alert alert-success\" style=\"border-radius: 15px; box-shadow: 4px 4px 4px; border: 1px solid \">\n",
    "<h2> Комментарий ревьюера 2 ✔️</h2>\n",
    "    \n",
    "Отлично! \n",
    "</div>"
   ]
  },
  {
   "cell_type": "markdown",
   "metadata": {},
   "source": [
    "#### Заполнение пропусков в Model:"
   ]
  },
  {
   "cell_type": "code",
   "execution_count": 11,
   "metadata": {},
   "outputs": [],
   "source": [
    "Model_counts_before = data['Model'].value_counts(dropna=False)"
   ]
  },
  {
   "cell_type": "code",
   "execution_count": 12,
   "metadata": {},
   "outputs": [],
   "source": [
    "# Находим наиболее частую Model для каждой Brand\n",
    "model_by_brand = data.groupby('Brand')['Model'].agg(\n",
    "    lambda x: x.mode().iloc[0] if not x.mode().empty else 'other'\n",
    ")\n"
   ]
  },
  {
   "cell_type": "markdown",
   "metadata": {},
   "source": [
    "<div class=\"alert alert-success\" style=\"border-radius: 15px; box-shadow: 4px 4px 4px; border: 1px solid \">\n",
    "<h2> Комментарий ревьюера ✔️</h2>\n",
    "    \n",
    "Хорошая идея.   \n",
    "</div>"
   ]
  },
  {
   "cell_type": "code",
   "execution_count": 13,
   "metadata": {},
   "outputs": [],
   "source": [
    "# Заполняем пропуски в Model на основе Brand\n",
    "data['Model'] = data['Model'].fillna(data['Brand'].map(model_by_brand))"
   ]
  },
  {
   "cell_type": "code",
   "execution_count": 14,
   "metadata": {},
   "outputs": [],
   "source": [
    "Model_counts = data['Model'].value_counts(dropna=False)\n"
   ]
  },
  {
   "cell_type": "code",
   "execution_count": 15,
   "metadata": {
    "scrolled": true
   },
   "outputs": [
    {
     "data": {
      "text/html": [
       "<div>\n",
       "<style scoped>\n",
       "    .dataframe tbody tr th:only-of-type {\n",
       "        vertical-align: middle;\n",
       "    }\n",
       "\n",
       "    .dataframe tbody tr th {\n",
       "        vertical-align: top;\n",
       "    }\n",
       "\n",
       "    .dataframe thead th {\n",
       "        text-align: right;\n",
       "    }\n",
       "</style>\n",
       "<table border=\"1\" class=\"dataframe\">\n",
       "  <thead>\n",
       "    <tr style=\"text-align: right;\">\n",
       "      <th></th>\n",
       "      <th>Before</th>\n",
       "      <th>After</th>\n",
       "      <th>Change</th>\n",
       "      <th>Ratio</th>\n",
       "    </tr>\n",
       "    <tr>\n",
       "      <th>Model</th>\n",
       "      <th></th>\n",
       "      <th></th>\n",
       "      <th></th>\n",
       "      <th></th>\n",
       "    </tr>\n",
       "  </thead>\n",
       "  <tbody>\n",
       "    <tr>\n",
       "      <th>601</th>\n",
       "      <td>419</td>\n",
       "      <td>514.0</td>\n",
       "      <td>95.0</td>\n",
       "      <td>22.67</td>\n",
       "    </tr>\n",
       "    <tr>\n",
       "      <th>156</th>\n",
       "      <td>629</td>\n",
       "      <td>766.0</td>\n",
       "      <td>137.0</td>\n",
       "      <td>21.78</td>\n",
       "    </tr>\n",
       "    <tr>\n",
       "      <th>impreza</th>\n",
       "      <td>225</td>\n",
       "      <td>269.0</td>\n",
       "      <td>44.0</td>\n",
       "      <td>19.56</td>\n",
       "    </tr>\n",
       "    <tr>\n",
       "      <th>i_reihe</th>\n",
       "      <td>1226</td>\n",
       "      <td>1454.0</td>\n",
       "      <td>228.0</td>\n",
       "      <td>18.60</td>\n",
       "    </tr>\n",
       "    <tr>\n",
       "      <th>2_reihe</th>\n",
       "      <td>4816</td>\n",
       "      <td>5707.0</td>\n",
       "      <td>891.0</td>\n",
       "      <td>18.50</td>\n",
       "    </tr>\n",
       "    <tr>\n",
       "      <th>colt</th>\n",
       "      <td>869</td>\n",
       "      <td>1029.0</td>\n",
       "      <td>160.0</td>\n",
       "      <td>18.41</td>\n",
       "    </tr>\n",
       "    <tr>\n",
       "      <th>cayenne</th>\n",
       "      <td>232</td>\n",
       "      <td>274.0</td>\n",
       "      <td>42.0</td>\n",
       "      <td>18.10</td>\n",
       "    </tr>\n",
       "    <tr>\n",
       "      <th>focus</th>\n",
       "      <td>5874</td>\n",
       "      <td>6887.0</td>\n",
       "      <td>1013.0</td>\n",
       "      <td>17.25</td>\n",
       "    </tr>\n",
       "    <tr>\n",
       "      <th>other</th>\n",
       "      <td>24420</td>\n",
       "      <td>28604.0</td>\n",
       "      <td>4184.0</td>\n",
       "      <td>17.13</td>\n",
       "    </tr>\n",
       "    <tr>\n",
       "      <th>yaris</th>\n",
       "      <td>1033</td>\n",
       "      <td>1190.0</td>\n",
       "      <td>157.0</td>\n",
       "      <td>15.20</td>\n",
       "    </tr>\n",
       "    <tr>\n",
       "      <th>punto</th>\n",
       "      <td>3347</td>\n",
       "      <td>3849.0</td>\n",
       "      <td>502.0</td>\n",
       "      <td>15.00</td>\n",
       "    </tr>\n",
       "    <tr>\n",
       "      <th>corsa</th>\n",
       "      <td>12570</td>\n",
       "      <td>14441.0</td>\n",
       "      <td>1871.0</td>\n",
       "      <td>14.88</td>\n",
       "    </tr>\n",
       "    <tr>\n",
       "      <th>twingo</th>\n",
       "      <td>4953</td>\n",
       "      <td>5688.0</td>\n",
       "      <td>735.0</td>\n",
       "      <td>14.84</td>\n",
       "    </tr>\n",
       "    <tr>\n",
       "      <th>c_klasse</th>\n",
       "      <td>8312</td>\n",
       "      <td>9522.0</td>\n",
       "      <td>1210.0</td>\n",
       "      <td>14.56</td>\n",
       "    </tr>\n",
       "  </tbody>\n",
       "</table>\n",
       "</div>"
      ],
      "text/plain": [
       "          Before    After  Change  Ratio\n",
       "Model                                   \n",
       "601          419    514.0    95.0  22.67\n",
       "156          629    766.0   137.0  21.78\n",
       "impreza      225    269.0    44.0  19.56\n",
       "i_reihe     1226   1454.0   228.0  18.60\n",
       "2_reihe     4816   5707.0   891.0  18.50\n",
       "colt         869   1029.0   160.0  18.41\n",
       "cayenne      232    274.0    42.0  18.10\n",
       "focus       5874   6887.0  1013.0  17.25\n",
       "other      24420  28604.0  4184.0  17.13\n",
       "yaris       1033   1190.0   157.0  15.20\n",
       "punto       3347   3849.0   502.0  15.00\n",
       "corsa      12570  14441.0  1871.0  14.88\n",
       "twingo      4953   5688.0   735.0  14.84\n",
       "c_klasse    8312   9522.0  1210.0  14.56"
      ]
     },
     "execution_count": 15,
     "metadata": {},
     "output_type": "execute_result"
    }
   ],
   "source": [
    "# Сравнение\n",
    "comparison = pd.concat([Model_counts_before, Model_counts], axis=1)\n",
    "comparison.columns = ['Before', 'After']\n",
    "comparison['Change'] = comparison['After'] - comparison['Before']\n",
    "comparison['Ratio'] = (comparison['After'] / comparison['Before'] * 100 - 100).round(2)\n",
    "comparison.sort_values(by='Ratio', ascending=False).head(14)\n"
   ]
  },
  {
   "cell_type": "code",
   "execution_count": 16,
   "metadata": {},
   "outputs": [
    {
     "data": {
      "text/html": [
       "<div>\n",
       "<style scoped>\n",
       "    .dataframe tbody tr th:only-of-type {\n",
       "        vertical-align: middle;\n",
       "    }\n",
       "\n",
       "    .dataframe tbody tr th {\n",
       "        vertical-align: top;\n",
       "    }\n",
       "\n",
       "    .dataframe thead th {\n",
       "        text-align: right;\n",
       "    }\n",
       "</style>\n",
       "<table border=\"1\" class=\"dataframe\">\n",
       "  <thead>\n",
       "    <tr style=\"text-align: right;\">\n",
       "      <th></th>\n",
       "      <th>Before</th>\n",
       "      <th>After</th>\n",
       "      <th>Change</th>\n",
       "      <th>Ratio</th>\n",
       "    </tr>\n",
       "    <tr>\n",
       "      <th>Model</th>\n",
       "      <th></th>\n",
       "      <th></th>\n",
       "      <th></th>\n",
       "      <th></th>\n",
       "    </tr>\n",
       "  </thead>\n",
       "  <tbody>\n",
       "    <tr>\n",
       "      <th>golf</th>\n",
       "      <td>29232</td>\n",
       "      <td>32737.0</td>\n",
       "      <td>3505.0</td>\n",
       "      <td>11.99</td>\n",
       "    </tr>\n",
       "    <tr>\n",
       "      <th>other</th>\n",
       "      <td>24420</td>\n",
       "      <td>28604.0</td>\n",
       "      <td>4184.0</td>\n",
       "      <td>17.13</td>\n",
       "    </tr>\n",
       "    <tr>\n",
       "      <th>3er</th>\n",
       "      <td>19761</td>\n",
       "      <td>21696.0</td>\n",
       "      <td>1935.0</td>\n",
       "      <td>9.79</td>\n",
       "    </tr>\n",
       "    <tr>\n",
       "      <th>NaN</th>\n",
       "      <td>19705</td>\n",
       "      <td>NaN</td>\n",
       "      <td>NaN</td>\n",
       "      <td>NaN</td>\n",
       "    </tr>\n",
       "    <tr>\n",
       "      <th>polo</th>\n",
       "      <td>13066</td>\n",
       "      <td>13066.0</td>\n",
       "      <td>0.0</td>\n",
       "      <td>0.00</td>\n",
       "    </tr>\n",
       "  </tbody>\n",
       "</table>\n",
       "</div>"
      ],
      "text/plain": [
       "       Before    After  Change  Ratio\n",
       "Model                                \n",
       "golf    29232  32737.0  3505.0  11.99\n",
       "other   24420  28604.0  4184.0  17.13\n",
       "3er     19761  21696.0  1935.0   9.79\n",
       "NaN     19705      NaN     NaN    NaN\n",
       "polo    13066  13066.0     0.0   0.00"
      ]
     },
     "execution_count": 16,
     "metadata": {},
     "output_type": "execute_result"
    }
   ],
   "source": [
    "comparison.head()"
   ]
  },
  {
   "cell_type": "markdown",
   "metadata": {},
   "source": [
    "#### Заполнение пропусков в VehicleType:"
   ]
  },
  {
   "cell_type": "code",
   "execution_count": 17,
   "metadata": {},
   "outputs": [],
   "source": [
    "# До заполнения\n",
    "vehicle_counts_before = data['VehicleType'].value_counts(dropna=False)\n",
    "\n",
    "# Заполнение VehicleType модой по по модели\n",
    "vehicle_modes_by_model = data.groupby('Model')['VehicleType'].agg(\n",
    "    lambda x: x.mode().iloc[0] if not x.mode().empty else pd.Na\n",
    ")\n",
    "data['VehicleType'] = data['VehicleType'].fillna(data['Model'].map(vehicle_modes_by_model))\n",
    "\n",
    "# После заполнения\n",
    "vehicle_counts_after = data['VehicleType'].value_counts(dropna=False)\n",
    "\n",
    "\n"
   ]
  },
  {
   "cell_type": "markdown",
   "metadata": {},
   "source": [
    "<div class=\"alert alert-success\" style=\"border-radius: 15px; box-shadow: 4px 4px 4px; border: 1px solid \">\n",
    "<h2> Комментарий ревьюера ✔️</h2>\n",
    "    \n",
    "Соглашусь. \n",
    "</div>"
   ]
  },
  {
   "cell_type": "code",
   "execution_count": 18,
   "metadata": {},
   "outputs": [
    {
     "data": {
      "text/html": [
       "<div>\n",
       "<style scoped>\n",
       "    .dataframe tbody tr th:only-of-type {\n",
       "        vertical-align: middle;\n",
       "    }\n",
       "\n",
       "    .dataframe tbody tr th {\n",
       "        vertical-align: top;\n",
       "    }\n",
       "\n",
       "    .dataframe thead th {\n",
       "        text-align: right;\n",
       "    }\n",
       "</style>\n",
       "<table border=\"1\" class=\"dataframe\">\n",
       "  <thead>\n",
       "    <tr style=\"text-align: right;\">\n",
       "      <th></th>\n",
       "      <th>Before</th>\n",
       "      <th>After</th>\n",
       "      <th>Change</th>\n",
       "      <th>Ratio</th>\n",
       "    </tr>\n",
       "    <tr>\n",
       "      <th>VehicleType</th>\n",
       "      <th></th>\n",
       "      <th></th>\n",
       "      <th></th>\n",
       "      <th></th>\n",
       "    </tr>\n",
       "  </thead>\n",
       "  <tbody>\n",
       "    <tr>\n",
       "      <th>sedan</th>\n",
       "      <td>91457</td>\n",
       "      <td>109944.0</td>\n",
       "      <td>18487.0</td>\n",
       "      <td>20.21</td>\n",
       "    </tr>\n",
       "    <tr>\n",
       "      <th>small</th>\n",
       "      <td>79830</td>\n",
       "      <td>90342.0</td>\n",
       "      <td>10512.0</td>\n",
       "      <td>13.17</td>\n",
       "    </tr>\n",
       "    <tr>\n",
       "      <th>wagon</th>\n",
       "      <td>65165</td>\n",
       "      <td>69396.0</td>\n",
       "      <td>4231.0</td>\n",
       "      <td>6.49</td>\n",
       "    </tr>\n",
       "    <tr>\n",
       "      <th>NaN</th>\n",
       "      <td>37490</td>\n",
       "      <td>NaN</td>\n",
       "      <td>NaN</td>\n",
       "      <td>NaN</td>\n",
       "    </tr>\n",
       "    <tr>\n",
       "      <th>bus</th>\n",
       "      <td>28775</td>\n",
       "      <td>31882.0</td>\n",
       "      <td>3107.0</td>\n",
       "      <td>10.80</td>\n",
       "    </tr>\n",
       "    <tr>\n",
       "      <th>convertible</th>\n",
       "      <td>20203</td>\n",
       "      <td>20458.0</td>\n",
       "      <td>255.0</td>\n",
       "      <td>1.26</td>\n",
       "    </tr>\n",
       "    <tr>\n",
       "      <th>coupe</th>\n",
       "      <td>16161</td>\n",
       "      <td>16553.0</td>\n",
       "      <td>392.0</td>\n",
       "      <td>2.43</td>\n",
       "    </tr>\n",
       "  </tbody>\n",
       "</table>\n",
       "</div>"
      ],
      "text/plain": [
       "             Before     After   Change  Ratio\n",
       "VehicleType                                  \n",
       "sedan         91457  109944.0  18487.0  20.21\n",
       "small         79830   90342.0  10512.0  13.17\n",
       "wagon         65165   69396.0   4231.0   6.49\n",
       "NaN           37490       NaN      NaN    NaN\n",
       "bus           28775   31882.0   3107.0  10.80\n",
       "convertible   20203   20458.0    255.0   1.26\n",
       "coupe         16161   16553.0    392.0   2.43"
      ]
     },
     "execution_count": 18,
     "metadata": {},
     "output_type": "execute_result"
    }
   ],
   "source": [
    "# Сравнение\n",
    "comparison = pd.concat([vehicle_counts_before, vehicle_counts_after], axis=1)\n",
    "comparison.columns = ['Before', 'After']\n",
    "comparison['Change'] = comparison['After'] - comparison['Before']\n",
    "comparison['Ratio'] = (comparison['After'] / comparison['Before'] * 100 - 100).round(2)\n",
    "\n",
    "comparison.head(7)"
   ]
  },
  {
   "cell_type": "markdown",
   "metadata": {},
   "source": [
    "#### Заполнение пропусков в Gearbox:"
   ]
  },
  {
   "cell_type": "code",
   "execution_count": 19,
   "metadata": {},
   "outputs": [],
   "source": [
    "Gearbox_counts_before = data['Gearbox'].value_counts(dropna=False)\n",
    "\n",
    "# 1. Находим моду Gearbox для каждого Model\n",
    "gearbox_mode_by_vtype = (\n",
    "    data.groupby('Model')['Gearbox']\n",
    "    .agg(lambda x: x.mode().iloc[0] if not x.mode().empty else np.nan)\n",
    ")\n",
    "\n",
    "# 2. Заполняем пропуски в Gearbox модой по Model\n",
    "data['Gearbox'] = data['Gearbox'].fillna(data['Model'].map(gearbox_mode_by_vtype))\n",
    "\n",
    "# 3. После заполнения\n",
    "Gearbox_counts_after = data['Gearbox'].value_counts(dropna=False)\n",
    "\n",
    "# 4. Сравнение\n",
    "comparison = pd.concat([Gearbox_counts_before, Gearbox_counts_after], axis=1)\n",
    "comparison.columns = ['Before', 'After']\n",
    "comparison['Change'] = comparison['After'] - comparison['Before']\n",
    "comparison['Ratio'] = (comparison['After'] / comparison['Before'] * 100 - 100).round(2)"
   ]
  },
  {
   "cell_type": "code",
   "execution_count": 20,
   "metadata": {},
   "outputs": [
    {
     "data": {
      "text/html": [
       "<div>\n",
       "<style scoped>\n",
       "    .dataframe tbody tr th:only-of-type {\n",
       "        vertical-align: middle;\n",
       "    }\n",
       "\n",
       "    .dataframe tbody tr th {\n",
       "        vertical-align: top;\n",
       "    }\n",
       "\n",
       "    .dataframe thead th {\n",
       "        text-align: right;\n",
       "    }\n",
       "</style>\n",
       "<table border=\"1\" class=\"dataframe\">\n",
       "  <thead>\n",
       "    <tr style=\"text-align: right;\">\n",
       "      <th></th>\n",
       "      <th>Before</th>\n",
       "      <th>After</th>\n",
       "      <th>Change</th>\n",
       "      <th>Ratio</th>\n",
       "    </tr>\n",
       "    <tr>\n",
       "      <th>Gearbox</th>\n",
       "      <th></th>\n",
       "      <th></th>\n",
       "      <th></th>\n",
       "      <th></th>\n",
       "    </tr>\n",
       "  </thead>\n",
       "  <tbody>\n",
       "    <tr>\n",
       "      <th>manual</th>\n",
       "      <td>268249</td>\n",
       "      <td>286284.0</td>\n",
       "      <td>18035.0</td>\n",
       "      <td>6.72</td>\n",
       "    </tr>\n",
       "    <tr>\n",
       "      <th>auto</th>\n",
       "      <td>66283</td>\n",
       "      <td>68081.0</td>\n",
       "      <td>1798.0</td>\n",
       "      <td>2.71</td>\n",
       "    </tr>\n",
       "    <tr>\n",
       "      <th>NaN</th>\n",
       "      <td>19833</td>\n",
       "      <td>NaN</td>\n",
       "      <td>NaN</td>\n",
       "      <td>NaN</td>\n",
       "    </tr>\n",
       "  </tbody>\n",
       "</table>\n",
       "</div>"
      ],
      "text/plain": [
       "         Before     After   Change  Ratio\n",
       "Gearbox                                  \n",
       "manual   268249  286284.0  18035.0   6.72\n",
       "auto      66283   68081.0   1798.0   2.71\n",
       "NaN       19833       NaN      NaN    NaN"
      ]
     },
     "execution_count": 20,
     "metadata": {},
     "output_type": "execute_result"
    }
   ],
   "source": [
    "comparison"
   ]
  },
  {
   "cell_type": "markdown",
   "metadata": {},
   "source": [
    "<h4>Заполнение пропусков в FuelType:</h4>"
   ]
  },
  {
   "cell_type": "code",
   "execution_count": 21,
   "metadata": {},
   "outputs": [],
   "source": [
    "\n",
    "fuel_counts_before = data['FuelType'].value_counts(dropna=False)\n",
    "\n",
    "# 1. Находим моду FuelType по Model\n",
    "fuel_mode_by_model = data.groupby('Model')['FuelType'].agg(\n",
    "    lambda x: x.mode().iloc[0] if not x.mode().empty else pd.NA\n",
    ")\n",
    "\n",
    "# 2. Заполняем пропуски \n",
    "data['FuelType'] = data['FuelType'].fillna(data['Model'].map(fuel_mode_by_model))\n",
    "\n",
    "# 3. Сохраняем распределение после заполнения\n",
    "fuel_counts_after = data['FuelType'].value_counts(dropna=False)\n",
    "\n"
   ]
  },
  {
   "cell_type": "code",
   "execution_count": 22,
   "metadata": {},
   "outputs": [
    {
     "data": {
      "text/html": [
       "<div>\n",
       "<style scoped>\n",
       "    .dataframe tbody tr th:only-of-type {\n",
       "        vertical-align: middle;\n",
       "    }\n",
       "\n",
       "    .dataframe tbody tr th {\n",
       "        vertical-align: top;\n",
       "    }\n",
       "\n",
       "    .dataframe thead th {\n",
       "        text-align: right;\n",
       "    }\n",
       "</style>\n",
       "<table border=\"1\" class=\"dataframe\">\n",
       "  <thead>\n",
       "    <tr style=\"text-align: right;\">\n",
       "      <th></th>\n",
       "      <th>Before</th>\n",
       "      <th>After</th>\n",
       "      <th>Change</th>\n",
       "      <th>Ratio</th>\n",
       "    </tr>\n",
       "    <tr>\n",
       "      <th>FuelType</th>\n",
       "      <th></th>\n",
       "      <th></th>\n",
       "      <th></th>\n",
       "      <th></th>\n",
       "    </tr>\n",
       "  </thead>\n",
       "  <tbody>\n",
       "    <tr>\n",
       "      <th>petrol</th>\n",
       "      <td>216349</td>\n",
       "      <td>243953.0</td>\n",
       "      <td>27604.0</td>\n",
       "      <td>12.76</td>\n",
       "    </tr>\n",
       "    <tr>\n",
       "      <th>gasoline</th>\n",
       "      <td>98719</td>\n",
       "      <td>104010.0</td>\n",
       "      <td>5291.0</td>\n",
       "      <td>5.36</td>\n",
       "    </tr>\n",
       "    <tr>\n",
       "      <th>lpg</th>\n",
       "      <td>5310</td>\n",
       "      <td>5310.0</td>\n",
       "      <td>0.0</td>\n",
       "      <td>0.00</td>\n",
       "    </tr>\n",
       "    <tr>\n",
       "      <th>cng</th>\n",
       "      <td>565</td>\n",
       "      <td>565.0</td>\n",
       "      <td>0.0</td>\n",
       "      <td>0.00</td>\n",
       "    </tr>\n",
       "    <tr>\n",
       "      <th>hybrid</th>\n",
       "      <td>233</td>\n",
       "      <td>233.0</td>\n",
       "      <td>0.0</td>\n",
       "      <td>0.00</td>\n",
       "    </tr>\n",
       "    <tr>\n",
       "      <th>other</th>\n",
       "      <td>204</td>\n",
       "      <td>204.0</td>\n",
       "      <td>0.0</td>\n",
       "      <td>0.00</td>\n",
       "    </tr>\n",
       "    <tr>\n",
       "      <th>electric</th>\n",
       "      <td>90</td>\n",
       "      <td>90.0</td>\n",
       "      <td>0.0</td>\n",
       "      <td>0.00</td>\n",
       "    </tr>\n",
       "    <tr>\n",
       "      <th>NaN</th>\n",
       "      <td>32895</td>\n",
       "      <td>NaN</td>\n",
       "      <td>NaN</td>\n",
       "      <td>NaN</td>\n",
       "    </tr>\n",
       "  </tbody>\n",
       "</table>\n",
       "</div>"
      ],
      "text/plain": [
       "          Before     After   Change  Ratio\n",
       "FuelType                                  \n",
       "petrol    216349  243953.0  27604.0  12.76\n",
       "gasoline   98719  104010.0   5291.0   5.36\n",
       "lpg         5310    5310.0      0.0   0.00\n",
       "cng          565     565.0      0.0   0.00\n",
       "hybrid       233     233.0      0.0   0.00\n",
       "other        204     204.0      0.0   0.00\n",
       "electric      90      90.0      0.0   0.00\n",
       "NaN        32895       NaN      NaN    NaN"
      ]
     },
     "execution_count": 22,
     "metadata": {},
     "output_type": "execute_result"
    }
   ],
   "source": [
    "# 3. Сравнение\n",
    "comparison = pd.concat([fuel_counts_before, fuel_counts_after], axis=1)\n",
    "comparison.columns = ['Before', 'After']\n",
    "comparison['Change'] = comparison['After'] - comparison['Before']\n",
    "comparison['Ratio'] = (comparison['After'] / comparison['Before'] * 100 - 100).round(2)\n",
    "comparison.sort_values(by='Ratio', ascending=False)\n"
   ]
  },
  {
   "cell_type": "markdown",
   "metadata": {},
   "source": [
    "<h4>Заполнение пропусков в Repaired:</h4>"
   ]
  },
  {
   "cell_type": "code",
   "execution_count": 23,
   "metadata": {},
   "outputs": [],
   "source": [
    "data['Repaired'] = data['Repaired'].fillna('unknown')\n"
   ]
  },
  {
   "cell_type": "code",
   "execution_count": 24,
   "metadata": {},
   "outputs": [
    {
     "data": {
      "text/plain": [
       "Repaired\n",
       "no         247158\n",
       "unknown     71154\n",
       "yes         36053\n",
       "Name: count, dtype: int64"
      ]
     },
     "execution_count": 24,
     "metadata": {},
     "output_type": "execute_result"
    }
   ],
   "source": [
    "data['Repaired'].value_counts(dropna=False)"
   ]
  },
  {
   "cell_type": "markdown",
   "metadata": {},
   "source": [
    "Проверим теперь данные на неявные пропуски/некорректные значения:"
   ]
  },
  {
   "cell_type": "code",
   "execution_count": 25,
   "metadata": {},
   "outputs": [
    {
     "data": {
      "text/plain": [
       "array(['volkswagen', 'audi', 'jeep', 'skoda', 'bmw', 'peugeot', 'ford',\n",
       "       'mazda', 'nissan', 'renault', 'mercedes_benz', 'opel', 'seat',\n",
       "       'citroen', 'honda', 'fiat', 'mini', 'smart', 'hyundai',\n",
       "       'sonstige_autos', 'alfa_romeo', 'subaru', 'volvo', 'mitsubishi',\n",
       "       'kia', 'suzuki', 'lancia', 'toyota', 'chevrolet', 'dacia',\n",
       "       'daihatsu', 'trabant', 'saab', 'chrysler', 'jaguar', 'daewoo',\n",
       "       'porsche', 'rover', 'land_rover', 'lada'], dtype=object)"
      ]
     },
     "execution_count": 25,
     "metadata": {},
     "output_type": "execute_result"
    }
   ],
   "source": [
    "# Заметил уже в конце предобработки в Brand: rover и land_rover. Их можно объединить в одну компанию, нашел инфу, что это одно и то же.\n",
    "data.Brand.unique()"
   ]
  },
  {
   "cell_type": "code",
   "execution_count": 26,
   "metadata": {},
   "outputs": [],
   "source": [
    "data[\"Brand\"] = data[\"Brand\"].replace(\"rover\", \"land_rover\")"
   ]
  },
  {
   "cell_type": "code",
   "execution_count": 27,
   "metadata": {},
   "outputs": [
    {
     "data": {
      "text/plain": [
       "354365"
      ]
     },
     "execution_count": 27,
     "metadata": {},
     "output_type": "execute_result"
    }
   ],
   "source": [
    "data.shape[0]"
   ]
  },
  {
   "cell_type": "code",
   "execution_count": 28,
   "metadata": {},
   "outputs": [
    {
     "data": {
      "text/plain": [
       "array([0])"
      ]
     },
     "execution_count": 28,
     "metadata": {},
     "output_type": "execute_result"
    }
   ],
   "source": [
    "data.NumberOfPictures.unique()"
   ]
  },
  {
   "cell_type": "code",
   "execution_count": 29,
   "metadata": {},
   "outputs": [
    {
     "data": {
      "text/plain": [
       "8143"
      ]
     },
     "execution_count": 29,
     "metadata": {},
     "output_type": "execute_result"
    }
   ],
   "source": [
    "# почтовый индекс владельца анкеты (пользователя)\n",
    "data.PostalCode.nunique()"
   ]
  },
  {
   "cell_type": "code",
   "execution_count": 30,
   "metadata": {},
   "outputs": [],
   "source": [
    "# то есть 8143 разных человека на 354 000 объявлений? Интересно, нужен ли нам почтовый индекс?"
   ]
  },
  {
   "cell_type": "code",
   "execution_count": 31,
   "metadata": {},
   "outputs": [
    {
     "data": {
      "text/plain": [
       "array([70435, 66954, 90480, ..., 38528, 38325, 31096])"
      ]
     },
     "execution_count": 31,
     "metadata": {},
     "output_type": "execute_result"
    }
   ],
   "source": [
    "data.PostalCode.unique()"
   ]
  },
  {
   "cell_type": "code",
   "execution_count": 32,
   "metadata": {},
   "outputs": [],
   "source": [
    "data = data.drop(columns=['NumberOfPictures']) # Тут одни нули, поэтому удаляем столбец"
   ]
  },
  {
   "cell_type": "markdown",
   "metadata": {},
   "source": [
    "<div class=\"alert alert-success\" style=\"border-radius: 15px; box-shadow: 4px 4px 4px; border: 1px solid \">\n",
    "<h2> Комментарий ревьюера ✔️</h2>\n",
    "    \n",
    "Даже если и не нули, столбец не так полезен. \n",
    "</div>"
   ]
  },
  {
   "cell_type": "code",
   "execution_count": 33,
   "metadata": {},
   "outputs": [
    {
     "name": "stdout",
     "output_type": "stream",
     "text": [
      "<class 'pandas.core.frame.DataFrame'>\n",
      "Index: 354365 entries, 0 to 354368\n",
      "Data columns (total 15 columns):\n",
      " #   Column             Non-Null Count   Dtype \n",
      "---  ------             --------------   ----- \n",
      " 0   DateCrawled        354365 non-null  object\n",
      " 1   Price              354365 non-null  int64 \n",
      " 2   VehicleType        354365 non-null  object\n",
      " 3   RegistrationYear   354365 non-null  int64 \n",
      " 4   Gearbox            354365 non-null  object\n",
      " 5   Power              354365 non-null  int64 \n",
      " 6   Model              354365 non-null  object\n",
      " 7   Kilometer          354365 non-null  int64 \n",
      " 8   RegistrationMonth  354365 non-null  int64 \n",
      " 9   FuelType           354365 non-null  object\n",
      " 10  Brand              354365 non-null  object\n",
      " 11  Repaired           354365 non-null  object\n",
      " 12  DateCreated        354365 non-null  object\n",
      " 13  PostalCode         354365 non-null  int64 \n",
      " 14  LastSeen           354365 non-null  object\n",
      "dtypes: int64(6), object(9)\n",
      "memory usage: 43.3+ MB\n"
     ]
    }
   ],
   "source": [
    "data.info()"
   ]
  },
  {
   "cell_type": "code",
   "execution_count": 34,
   "metadata": {},
   "outputs": [],
   "source": [
    "# Преобразование столбцов в Datetime\n",
    "data['DateCreated'] = pd.to_datetime(data['DateCreated'])\n",
    "data['DateCrawled'] = pd.to_datetime(data['DateCrawled'])\n",
    "data['LastSeen'] = pd.to_datetime(data['LastSeen'])"
   ]
  },
  {
   "cell_type": "code",
   "execution_count": 35,
   "metadata": {},
   "outputs": [],
   "source": [
    "# Преобразование DateCreated без времени 00:00:00\n",
    "data['DateCreated'] = pd.to_datetime(data['DateCreated']).dt.date\n",
    "data['DateCreated'] = pd.to_datetime(data['DateCreated'])\n"
   ]
  },
  {
   "cell_type": "markdown",
   "metadata": {},
   "source": [
    "<div class=\"alert alert-warning\" style=\"border-radius: 15px; box-shadow: 4px 4px 4px; border: 1px solid \">\n",
    "<h2> Комментарий ревьюера  ⚠️</h2>\n",
    "    \n",
    "Если допускаешь или уже заранее знаешь, что столбец не будет нужен, можно не тратить ресурсы на его предобработку. \n",
    "    \n",
    "</div>"
   ]
  },
  {
   "cell_type": "markdown",
   "metadata": {},
   "source": [
    "<div style=\"border-radius: 15px; border: 2px solid steelblue; background-color: lavender; padding: 15px;\">\n",
    "  <h3>🧑‍🎓 Комментарий студента 🖋️ Версия 1.0 </h3>\n",
    "  Спасибо за замечания 🔹<br>\n",
    "  В моменте не подумал, что столбцы LastSeen, DateCreated никак не будут использоваться.<br>\n",
    "  \n",
    "</div>\n"
   ]
  },
  {
   "cell_type": "code",
   "execution_count": 36,
   "metadata": {},
   "outputs": [
    {
     "data": {
      "text/html": [
       "<div>\n",
       "<style scoped>\n",
       "    .dataframe tbody tr th:only-of-type {\n",
       "        vertical-align: middle;\n",
       "    }\n",
       "\n",
       "    .dataframe tbody tr th {\n",
       "        vertical-align: top;\n",
       "    }\n",
       "\n",
       "    .dataframe thead th {\n",
       "        text-align: right;\n",
       "    }\n",
       "</style>\n",
       "<table border=\"1\" class=\"dataframe\">\n",
       "  <thead>\n",
       "    <tr style=\"text-align: right;\">\n",
       "      <th></th>\n",
       "      <th>DateCrawled</th>\n",
       "      <th>Price</th>\n",
       "      <th>VehicleType</th>\n",
       "      <th>RegistrationYear</th>\n",
       "      <th>Gearbox</th>\n",
       "      <th>Power</th>\n",
       "      <th>Model</th>\n",
       "      <th>Kilometer</th>\n",
       "      <th>RegistrationMonth</th>\n",
       "      <th>FuelType</th>\n",
       "      <th>Brand</th>\n",
       "      <th>Repaired</th>\n",
       "      <th>DateCreated</th>\n",
       "      <th>PostalCode</th>\n",
       "      <th>LastSeen</th>\n",
       "    </tr>\n",
       "  </thead>\n",
       "  <tbody>\n",
       "    <tr>\n",
       "      <th>7</th>\n",
       "      <td>2016-03-21 18:54:38</td>\n",
       "      <td>0</td>\n",
       "      <td>sedan</td>\n",
       "      <td>1980</td>\n",
       "      <td>manual</td>\n",
       "      <td>50</td>\n",
       "      <td>other</td>\n",
       "      <td>40000</td>\n",
       "      <td>7</td>\n",
       "      <td>petrol</td>\n",
       "      <td>volkswagen</td>\n",
       "      <td>no</td>\n",
       "      <td>2016-03-21</td>\n",
       "      <td>19348</td>\n",
       "      <td>2016-03-25 16:47:58</td>\n",
       "    </tr>\n",
       "    <tr>\n",
       "      <th>40</th>\n",
       "      <td>2016-03-26 22:06:17</td>\n",
       "      <td>0</td>\n",
       "      <td>small</td>\n",
       "      <td>1990</td>\n",
       "      <td>manual</td>\n",
       "      <td>0</td>\n",
       "      <td>corsa</td>\n",
       "      <td>150000</td>\n",
       "      <td>1</td>\n",
       "      <td>petrol</td>\n",
       "      <td>opel</td>\n",
       "      <td>unknown</td>\n",
       "      <td>2016-03-26</td>\n",
       "      <td>56412</td>\n",
       "      <td>2016-03-27 17:43:34</td>\n",
       "    </tr>\n",
       "    <tr>\n",
       "      <th>111</th>\n",
       "      <td>2016-03-19 18:40:12</td>\n",
       "      <td>0</td>\n",
       "      <td>sedan</td>\n",
       "      <td>2017</td>\n",
       "      <td>manual</td>\n",
       "      <td>0</td>\n",
       "      <td>golf</td>\n",
       "      <td>5000</td>\n",
       "      <td>12</td>\n",
       "      <td>petrol</td>\n",
       "      <td>volkswagen</td>\n",
       "      <td>unknown</td>\n",
       "      <td>2016-03-19</td>\n",
       "      <td>21698</td>\n",
       "      <td>2016-04-01 08:47:05</td>\n",
       "    </tr>\n",
       "    <tr>\n",
       "      <th>115</th>\n",
       "      <td>2016-03-20 18:53:27</td>\n",
       "      <td>0</td>\n",
       "      <td>small</td>\n",
       "      <td>1999</td>\n",
       "      <td>manual</td>\n",
       "      <td>0</td>\n",
       "      <td>golf</td>\n",
       "      <td>5000</td>\n",
       "      <td>0</td>\n",
       "      <td>petrol</td>\n",
       "      <td>volkswagen</td>\n",
       "      <td>unknown</td>\n",
       "      <td>2016-03-20</td>\n",
       "      <td>37520</td>\n",
       "      <td>2016-04-07 02:45:22</td>\n",
       "    </tr>\n",
       "    <tr>\n",
       "      <th>152</th>\n",
       "      <td>2016-03-11 18:55:53</td>\n",
       "      <td>0</td>\n",
       "      <td>bus</td>\n",
       "      <td>2004</td>\n",
       "      <td>manual</td>\n",
       "      <td>101</td>\n",
       "      <td>meriva</td>\n",
       "      <td>150000</td>\n",
       "      <td>10</td>\n",
       "      <td>lpg</td>\n",
       "      <td>opel</td>\n",
       "      <td>yes</td>\n",
       "      <td>2016-03-11</td>\n",
       "      <td>27432</td>\n",
       "      <td>2016-03-12 23:47:10</td>\n",
       "    </tr>\n",
       "    <tr>\n",
       "      <th>...</th>\n",
       "      <td>...</td>\n",
       "      <td>...</td>\n",
       "      <td>...</td>\n",
       "      <td>...</td>\n",
       "      <td>...</td>\n",
       "      <td>...</td>\n",
       "      <td>...</td>\n",
       "      <td>...</td>\n",
       "      <td>...</td>\n",
       "      <td>...</td>\n",
       "      <td>...</td>\n",
       "      <td>...</td>\n",
       "      <td>...</td>\n",
       "      <td>...</td>\n",
       "      <td>...</td>\n",
       "    </tr>\n",
       "    <tr>\n",
       "      <th>354205</th>\n",
       "      <td>2016-03-09 15:56:30</td>\n",
       "      <td>0</td>\n",
       "      <td>small</td>\n",
       "      <td>2000</td>\n",
       "      <td>manual</td>\n",
       "      <td>65</td>\n",
       "      <td>corsa</td>\n",
       "      <td>150000</td>\n",
       "      <td>0</td>\n",
       "      <td>petrol</td>\n",
       "      <td>opel</td>\n",
       "      <td>yes</td>\n",
       "      <td>2016-03-09</td>\n",
       "      <td>23758</td>\n",
       "      <td>2016-03-30 11:16:08</td>\n",
       "    </tr>\n",
       "    <tr>\n",
       "      <th>354238</th>\n",
       "      <td>2016-03-20 14:55:07</td>\n",
       "      <td>0</td>\n",
       "      <td>small</td>\n",
       "      <td>2002</td>\n",
       "      <td>manual</td>\n",
       "      <td>60</td>\n",
       "      <td>fiesta</td>\n",
       "      <td>150000</td>\n",
       "      <td>3</td>\n",
       "      <td>petrol</td>\n",
       "      <td>ford</td>\n",
       "      <td>unknown</td>\n",
       "      <td>2016-03-20</td>\n",
       "      <td>33659</td>\n",
       "      <td>2016-04-06 18:45:23</td>\n",
       "    </tr>\n",
       "    <tr>\n",
       "      <th>354248</th>\n",
       "      <td>2016-03-24 13:48:05</td>\n",
       "      <td>0</td>\n",
       "      <td>small</td>\n",
       "      <td>1999</td>\n",
       "      <td>manual</td>\n",
       "      <td>53</td>\n",
       "      <td>swift</td>\n",
       "      <td>150000</td>\n",
       "      <td>3</td>\n",
       "      <td>petrol</td>\n",
       "      <td>suzuki</td>\n",
       "      <td>unknown</td>\n",
       "      <td>2016-03-24</td>\n",
       "      <td>42329</td>\n",
       "      <td>2016-04-07 05:17:24</td>\n",
       "    </tr>\n",
       "    <tr>\n",
       "      <th>354277</th>\n",
       "      <td>2016-03-10 22:55:50</td>\n",
       "      <td>0</td>\n",
       "      <td>small</td>\n",
       "      <td>1999</td>\n",
       "      <td>manual</td>\n",
       "      <td>37</td>\n",
       "      <td>arosa</td>\n",
       "      <td>150000</td>\n",
       "      <td>7</td>\n",
       "      <td>petrol</td>\n",
       "      <td>seat</td>\n",
       "      <td>yes</td>\n",
       "      <td>2016-03-10</td>\n",
       "      <td>22559</td>\n",
       "      <td>2016-03-12 23:46:32</td>\n",
       "    </tr>\n",
       "    <tr>\n",
       "      <th>354364</th>\n",
       "      <td>2016-03-21 09:50:58</td>\n",
       "      <td>0</td>\n",
       "      <td>sedan</td>\n",
       "      <td>2005</td>\n",
       "      <td>manual</td>\n",
       "      <td>0</td>\n",
       "      <td>colt</td>\n",
       "      <td>150000</td>\n",
       "      <td>7</td>\n",
       "      <td>petrol</td>\n",
       "      <td>mitsubishi</td>\n",
       "      <td>yes</td>\n",
       "      <td>2016-03-21</td>\n",
       "      <td>2694</td>\n",
       "      <td>2016-03-21 10:42:49</td>\n",
       "    </tr>\n",
       "  </tbody>\n",
       "</table>\n",
       "<p>10772 rows × 15 columns</p>\n",
       "</div>"
      ],
      "text/plain": [
       "               DateCrawled  Price VehicleType  RegistrationYear Gearbox  \\\n",
       "7      2016-03-21 18:54:38      0       sedan              1980  manual   \n",
       "40     2016-03-26 22:06:17      0       small              1990  manual   \n",
       "111    2016-03-19 18:40:12      0       sedan              2017  manual   \n",
       "115    2016-03-20 18:53:27      0       small              1999  manual   \n",
       "152    2016-03-11 18:55:53      0         bus              2004  manual   \n",
       "...                    ...    ...         ...               ...     ...   \n",
       "354205 2016-03-09 15:56:30      0       small              2000  manual   \n",
       "354238 2016-03-20 14:55:07      0       small              2002  manual   \n",
       "354248 2016-03-24 13:48:05      0       small              1999  manual   \n",
       "354277 2016-03-10 22:55:50      0       small              1999  manual   \n",
       "354364 2016-03-21 09:50:58      0       sedan              2005  manual   \n",
       "\n",
       "        Power   Model  Kilometer  RegistrationMonth FuelType       Brand  \\\n",
       "7          50   other      40000                  7   petrol  volkswagen   \n",
       "40          0   corsa     150000                  1   petrol        opel   \n",
       "111         0    golf       5000                 12   petrol  volkswagen   \n",
       "115         0    golf       5000                  0   petrol  volkswagen   \n",
       "152       101  meriva     150000                 10      lpg        opel   \n",
       "...       ...     ...        ...                ...      ...         ...   \n",
       "354205     65   corsa     150000                  0   petrol        opel   \n",
       "354238     60  fiesta     150000                  3   petrol        ford   \n",
       "354248     53   swift     150000                  3   petrol      suzuki   \n",
       "354277     37   arosa     150000                  7   petrol        seat   \n",
       "354364      0    colt     150000                  7   petrol  mitsubishi   \n",
       "\n",
       "       Repaired DateCreated  PostalCode            LastSeen  \n",
       "7            no  2016-03-21       19348 2016-03-25 16:47:58  \n",
       "40      unknown  2016-03-26       56412 2016-03-27 17:43:34  \n",
       "111     unknown  2016-03-19       21698 2016-04-01 08:47:05  \n",
       "115     unknown  2016-03-20       37520 2016-04-07 02:45:22  \n",
       "152         yes  2016-03-11       27432 2016-03-12 23:47:10  \n",
       "...         ...         ...         ...                 ...  \n",
       "354205      yes  2016-03-09       23758 2016-03-30 11:16:08  \n",
       "354238  unknown  2016-03-20       33659 2016-04-06 18:45:23  \n",
       "354248  unknown  2016-03-24       42329 2016-04-07 05:17:24  \n",
       "354277      yes  2016-03-10       22559 2016-03-12 23:46:32  \n",
       "354364      yes  2016-03-21        2694 2016-03-21 10:42:49  \n",
       "\n",
       "[10772 rows x 15 columns]"
      ]
     },
     "execution_count": 36,
     "metadata": {},
     "output_type": "execute_result"
    }
   ],
   "source": [
    "data.query('Price == 0')"
   ]
  },
  {
   "cell_type": "markdown",
   "metadata": {},
   "source": [
    "Ух ты, бесплатные машины! дайте две!\n",
    "Запомним эту аномалию и вернемся к ней, когда обработаем другие аномалии"
   ]
  },
  {
   "cell_type": "code",
   "execution_count": 37,
   "metadata": {},
   "outputs": [
    {
     "data": {
      "text/html": [
       "<div>\n",
       "<style scoped>\n",
       "    .dataframe tbody tr th:only-of-type {\n",
       "        vertical-align: middle;\n",
       "    }\n",
       "\n",
       "    .dataframe tbody tr th {\n",
       "        vertical-align: top;\n",
       "    }\n",
       "\n",
       "    .dataframe thead th {\n",
       "        text-align: right;\n",
       "    }\n",
       "</style>\n",
       "<table border=\"1\" class=\"dataframe\">\n",
       "  <thead>\n",
       "    <tr style=\"text-align: right;\">\n",
       "      <th></th>\n",
       "      <th>DateCrawled</th>\n",
       "      <th>Price</th>\n",
       "      <th>RegistrationYear</th>\n",
       "      <th>Power</th>\n",
       "      <th>Kilometer</th>\n",
       "      <th>RegistrationMonth</th>\n",
       "      <th>DateCreated</th>\n",
       "      <th>PostalCode</th>\n",
       "      <th>LastSeen</th>\n",
       "    </tr>\n",
       "  </thead>\n",
       "  <tbody>\n",
       "    <tr>\n",
       "      <th>count</th>\n",
       "      <td>10772</td>\n",
       "      <td>10772.0</td>\n",
       "      <td>10772.000000</td>\n",
       "      <td>10772.000000</td>\n",
       "      <td>10772.000000</td>\n",
       "      <td>10772.000000</td>\n",
       "      <td>10772</td>\n",
       "      <td>10772.000000</td>\n",
       "      <td>10772</td>\n",
       "    </tr>\n",
       "    <tr>\n",
       "      <th>mean</th>\n",
       "      <td>2016-03-21 14:36:28.390178048</td>\n",
       "      <td>0.0</td>\n",
       "      <td>2008.848403</td>\n",
       "      <td>81.200056</td>\n",
       "      <td>124177.961381</td>\n",
       "      <td>3.697271</td>\n",
       "      <td>2016-03-20 22:15:19.717786880</td>\n",
       "      <td>44937.204790</td>\n",
       "      <td>2016-03-28 16:15:04.602023680</td>\n",
       "    </tr>\n",
       "    <tr>\n",
       "      <th>min</th>\n",
       "      <td>2016-03-05 14:06:50</td>\n",
       "      <td>0.0</td>\n",
       "      <td>1000.000000</td>\n",
       "      <td>0.000000</td>\n",
       "      <td>5000.000000</td>\n",
       "      <td>0.000000</td>\n",
       "      <td>2016-01-26 00:00:00</td>\n",
       "      <td>1069.000000</td>\n",
       "      <td>2016-03-05 15:17:56</td>\n",
       "    </tr>\n",
       "    <tr>\n",
       "      <th>25%</th>\n",
       "      <td>2016-03-13 15:48:17</td>\n",
       "      <td>0.0</td>\n",
       "      <td>1996.000000</td>\n",
       "      <td>0.000000</td>\n",
       "      <td>125000.000000</td>\n",
       "      <td>0.000000</td>\n",
       "      <td>2016-03-13 00:00:00</td>\n",
       "      <td>25336.750000</td>\n",
       "      <td>2016-03-21 11:54:36.500000</td>\n",
       "    </tr>\n",
       "    <tr>\n",
       "      <th>50%</th>\n",
       "      <td>2016-03-21 19:56:36.500000</td>\n",
       "      <td>0.0</td>\n",
       "      <td>2000.000000</td>\n",
       "      <td>75.000000</td>\n",
       "      <td>150000.000000</td>\n",
       "      <td>2.000000</td>\n",
       "      <td>2016-03-21 00:00:00</td>\n",
       "      <td>42855.000000</td>\n",
       "      <td>2016-03-31 20:47:31</td>\n",
       "    </tr>\n",
       "    <tr>\n",
       "      <th>75%</th>\n",
       "      <td>2016-03-29 12:57:47.750000128</td>\n",
       "      <td>0.0</td>\n",
       "      <td>2005.000000</td>\n",
       "      <td>120.000000</td>\n",
       "      <td>150000.000000</td>\n",
       "      <td>7.000000</td>\n",
       "      <td>2016-03-29 00:00:00</td>\n",
       "      <td>63668.750000</td>\n",
       "      <td>2016-04-06 04:16:58</td>\n",
       "    </tr>\n",
       "    <tr>\n",
       "      <th>max</th>\n",
       "      <td>2016-04-07 14:36:45</td>\n",
       "      <td>0.0</td>\n",
       "      <td>9999.000000</td>\n",
       "      <td>15016.000000</td>\n",
       "      <td>150000.000000</td>\n",
       "      <td>12.000000</td>\n",
       "      <td>2016-04-07 00:00:00</td>\n",
       "      <td>99996.000000</td>\n",
       "      <td>2016-04-07 14:58:50</td>\n",
       "    </tr>\n",
       "    <tr>\n",
       "      <th>std</th>\n",
       "      <td>NaN</td>\n",
       "      <td>0.0</td>\n",
       "      <td>267.729824</td>\n",
       "      <td>235.273205</td>\n",
       "      <td>48423.379468</td>\n",
       "      <td>4.046864</td>\n",
       "      <td>NaN</td>\n",
       "      <td>26395.784541</td>\n",
       "      <td>NaN</td>\n",
       "    </tr>\n",
       "  </tbody>\n",
       "</table>\n",
       "</div>"
      ],
      "text/plain": [
       "                         DateCrawled    Price  RegistrationYear         Power  \\\n",
       "count                          10772  10772.0      10772.000000  10772.000000   \n",
       "mean   2016-03-21 14:36:28.390178048      0.0       2008.848403     81.200056   \n",
       "min              2016-03-05 14:06:50      0.0       1000.000000      0.000000   \n",
       "25%              2016-03-13 15:48:17      0.0       1996.000000      0.000000   \n",
       "50%       2016-03-21 19:56:36.500000      0.0       2000.000000     75.000000   \n",
       "75%    2016-03-29 12:57:47.750000128      0.0       2005.000000    120.000000   \n",
       "max              2016-04-07 14:36:45      0.0       9999.000000  15016.000000   \n",
       "std                              NaN      0.0        267.729824    235.273205   \n",
       "\n",
       "           Kilometer  RegistrationMonth                    DateCreated  \\\n",
       "count   10772.000000       10772.000000                          10772   \n",
       "mean   124177.961381           3.697271  2016-03-20 22:15:19.717786880   \n",
       "min      5000.000000           0.000000            2016-01-26 00:00:00   \n",
       "25%    125000.000000           0.000000            2016-03-13 00:00:00   \n",
       "50%    150000.000000           2.000000            2016-03-21 00:00:00   \n",
       "75%    150000.000000           7.000000            2016-03-29 00:00:00   \n",
       "max    150000.000000          12.000000            2016-04-07 00:00:00   \n",
       "std     48423.379468           4.046864                            NaN   \n",
       "\n",
       "         PostalCode                       LastSeen  \n",
       "count  10772.000000                          10772  \n",
       "mean   44937.204790  2016-03-28 16:15:04.602023680  \n",
       "min     1069.000000            2016-03-05 15:17:56  \n",
       "25%    25336.750000     2016-03-21 11:54:36.500000  \n",
       "50%    42855.000000            2016-03-31 20:47:31  \n",
       "75%    63668.750000            2016-04-06 04:16:58  \n",
       "max    99996.000000            2016-04-07 14:58:50  \n",
       "std    26395.784541                            NaN  "
      ]
     },
     "execution_count": 37,
     "metadata": {},
     "output_type": "execute_result"
    }
   ],
   "source": [
    "zero_price = data[data['Price'] == 0]\n",
    "zero_price.describe()"
   ]
  },
  {
   "cell_type": "code",
   "execution_count": 38,
   "metadata": {},
   "outputs": [
    {
     "data": {
      "text/plain": [
       "Model\n",
       "golf         1378\n",
       "other        1314\n",
       "3er           789\n",
       "corsa         558\n",
       "polo          438\n",
       "             ... \n",
       "defender        1\n",
       "serie_1         1\n",
       "discovery       1\n",
       "boxster         1\n",
       "b_klasse        1\n",
       "Name: count, Length: 222, dtype: int64"
      ]
     },
     "execution_count": 38,
     "metadata": {},
     "output_type": "execute_result"
    }
   ],
   "source": [
    "zero_price['Model'].value_counts()"
   ]
  },
  {
   "cell_type": "code",
   "execution_count": 39,
   "metadata": {},
   "outputs": [
    {
     "data": {
      "text/plain": [
       "RegistrationYear\n",
       "2000    1418\n",
       "1999     733\n",
       "1998     721\n",
       "1997     675\n",
       "1995     654\n",
       "        ... \n",
       "9229       1\n",
       "1969       1\n",
       "1942       1\n",
       "7500       1\n",
       "3500       1\n",
       "Name: count, Length: 96, dtype: int64"
      ]
     },
     "execution_count": 39,
     "metadata": {},
     "output_type": "execute_result"
    }
   ],
   "source": [
    "zero_price['RegistrationYear'].value_counts()"
   ]
  },
  {
   "cell_type": "code",
   "execution_count": 40,
   "metadata": {},
   "outputs": [
    {
     "data": {
      "text/plain": [
       "array([2016, 2015, 2014], dtype=int32)"
      ]
     },
     "execution_count": 40,
     "metadata": {},
     "output_type": "execute_result"
    }
   ],
   "source": [
    "# Получаем уникальные года\n",
    "data['DateCreated'].dt.year.unique()\n"
   ]
  },
  {
   "cell_type": "code",
   "execution_count": 41,
   "metadata": {},
   "outputs": [
    {
     "data": {
      "text/plain": [
       "151"
      ]
     },
     "execution_count": 41,
     "metadata": {},
     "output_type": "execute_result"
    }
   ],
   "source": [
    "#3   RegistrationYear   354369 non-null  int64\n",
    "data.RegistrationYear.nunique()"
   ]
  },
  {
   "cell_type": "code",
   "execution_count": 42,
   "metadata": {},
   "outputs": [
    {
     "data": {
      "text/plain": [
       "array([1993, 2011, 2004, 2001, 2008, 1995, 1980, 2014, 1998, 2005, 1910,\n",
       "       2016, 2007, 2009, 2002, 2018, 1997, 1990, 2017, 1981, 2003, 1994,\n",
       "       1991, 1984, 2006, 1999, 2012, 2010, 2000, 1992, 2013, 1996, 1985,\n",
       "       1989, 2015, 1982, 1976, 1983, 1973, 1111, 1969, 1971, 1987, 1986,\n",
       "       1988, 1970, 1965, 1945, 1925, 1974, 1979, 1955, 1978, 1972, 1968,\n",
       "       1977, 1961, 1960, 1966, 1975, 1963, 1964, 5000, 1954, 1958, 1967,\n",
       "       1959, 9999, 1956, 3200, 1000, 1941, 8888, 1500, 2200, 4100, 1962,\n",
       "       1929, 1957, 1940, 3000, 2066, 1949, 2019, 1937, 1951, 1800, 1953,\n",
       "       1234, 8000, 5300, 9000, 2900, 6000, 5900, 5911, 1933, 1400, 1950,\n",
       "       4000, 1948, 1952, 1200, 8500, 1932, 1255, 3700, 3800, 4800, 1942,\n",
       "       7000, 1935, 1936, 6500, 1923, 2290, 2500, 1930, 1001, 9450, 1944,\n",
       "       1943, 1934, 1938, 1688, 2800, 1253, 1928, 1919, 5555, 5600, 1600,\n",
       "       2222, 1039, 9996, 1300, 8455, 1931, 1915, 4500, 1920, 1602, 7800,\n",
       "       9229, 1947, 1927, 7100, 8200, 1946, 7500, 3500])"
      ]
     },
     "execution_count": 42,
     "metadata": {},
     "output_type": "execute_result"
    }
   ],
   "source": [
    "data.RegistrationYear.unique()"
   ]
  },
  {
   "cell_type": "markdown",
   "metadata": {},
   "source": [
    "Ух ты, машины из 5900 года и выше. Даже есть машины из 1111."
   ]
  },
  {
   "cell_type": "markdown",
   "metadata": {},
   "source": [
    "Посмотрим сколько машин младше 2016 года:"
   ]
  },
  {
   "cell_type": "code",
   "execution_count": 43,
   "metadata": {},
   "outputs": [
    {
     "data": {
      "text/html": [
       "<div>\n",
       "<style scoped>\n",
       "    .dataframe tbody tr th:only-of-type {\n",
       "        vertical-align: middle;\n",
       "    }\n",
       "\n",
       "    .dataframe tbody tr th {\n",
       "        vertical-align: top;\n",
       "    }\n",
       "\n",
       "    .dataframe thead th {\n",
       "        text-align: right;\n",
       "    }\n",
       "</style>\n",
       "<table border=\"1\" class=\"dataframe\">\n",
       "  <thead>\n",
       "    <tr style=\"text-align: right;\">\n",
       "      <th></th>\n",
       "      <th>DateCrawled</th>\n",
       "      <th>Price</th>\n",
       "      <th>VehicleType</th>\n",
       "      <th>RegistrationYear</th>\n",
       "      <th>Gearbox</th>\n",
       "      <th>Power</th>\n",
       "      <th>Model</th>\n",
       "      <th>Kilometer</th>\n",
       "      <th>RegistrationMonth</th>\n",
       "      <th>FuelType</th>\n",
       "      <th>Brand</th>\n",
       "      <th>Repaired</th>\n",
       "      <th>DateCreated</th>\n",
       "      <th>PostalCode</th>\n",
       "      <th>LastSeen</th>\n",
       "    </tr>\n",
       "  </thead>\n",
       "  <tbody>\n",
       "    <tr>\n",
       "      <th>22</th>\n",
       "      <td>2016-03-23 14:52:51</td>\n",
       "      <td>2900</td>\n",
       "      <td>bus</td>\n",
       "      <td>2018</td>\n",
       "      <td>manual</td>\n",
       "      <td>90</td>\n",
       "      <td>meriva</td>\n",
       "      <td>150000</td>\n",
       "      <td>5</td>\n",
       "      <td>petrol</td>\n",
       "      <td>opel</td>\n",
       "      <td>no</td>\n",
       "      <td>2016-03-23</td>\n",
       "      <td>49716</td>\n",
       "      <td>2016-03-31 01:16:33</td>\n",
       "    </tr>\n",
       "    <tr>\n",
       "      <th>26</th>\n",
       "      <td>2016-03-10 19:38:18</td>\n",
       "      <td>5555</td>\n",
       "      <td>sedan</td>\n",
       "      <td>2017</td>\n",
       "      <td>manual</td>\n",
       "      <td>125</td>\n",
       "      <td>c4</td>\n",
       "      <td>125000</td>\n",
       "      <td>4</td>\n",
       "      <td>gasoline</td>\n",
       "      <td>citroen</td>\n",
       "      <td>no</td>\n",
       "      <td>2016-03-10</td>\n",
       "      <td>31139</td>\n",
       "      <td>2016-03-16 09:16:46</td>\n",
       "    </tr>\n",
       "    <tr>\n",
       "      <th>48</th>\n",
       "      <td>2016-03-25 14:40:12</td>\n",
       "      <td>7750</td>\n",
       "      <td>sedan</td>\n",
       "      <td>2017</td>\n",
       "      <td>manual</td>\n",
       "      <td>80</td>\n",
       "      <td>golf</td>\n",
       "      <td>100000</td>\n",
       "      <td>1</td>\n",
       "      <td>petrol</td>\n",
       "      <td>volkswagen</td>\n",
       "      <td>unknown</td>\n",
       "      <td>2016-03-25</td>\n",
       "      <td>48499</td>\n",
       "      <td>2016-03-31 21:47:44</td>\n",
       "    </tr>\n",
       "    <tr>\n",
       "      <th>51</th>\n",
       "      <td>2016-03-07 18:57:08</td>\n",
       "      <td>2000</td>\n",
       "      <td>small</td>\n",
       "      <td>2017</td>\n",
       "      <td>manual</td>\n",
       "      <td>90</td>\n",
       "      <td>punto</td>\n",
       "      <td>150000</td>\n",
       "      <td>11</td>\n",
       "      <td>gasoline</td>\n",
       "      <td>fiat</td>\n",
       "      <td>yes</td>\n",
       "      <td>2016-03-07</td>\n",
       "      <td>66115</td>\n",
       "      <td>2016-03-07 18:57:08</td>\n",
       "    </tr>\n",
       "    <tr>\n",
       "      <th>57</th>\n",
       "      <td>2016-03-10 20:53:19</td>\n",
       "      <td>2399</td>\n",
       "      <td>sedan</td>\n",
       "      <td>2018</td>\n",
       "      <td>manual</td>\n",
       "      <td>64</td>\n",
       "      <td>other</td>\n",
       "      <td>125000</td>\n",
       "      <td>3</td>\n",
       "      <td>petrol</td>\n",
       "      <td>seat</td>\n",
       "      <td>no</td>\n",
       "      <td>2016-03-10</td>\n",
       "      <td>33397</td>\n",
       "      <td>2016-03-25 10:17:37</td>\n",
       "    </tr>\n",
       "    <tr>\n",
       "      <th>...</th>\n",
       "      <td>...</td>\n",
       "      <td>...</td>\n",
       "      <td>...</td>\n",
       "      <td>...</td>\n",
       "      <td>...</td>\n",
       "      <td>...</td>\n",
       "      <td>...</td>\n",
       "      <td>...</td>\n",
       "      <td>...</td>\n",
       "      <td>...</td>\n",
       "      <td>...</td>\n",
       "      <td>...</td>\n",
       "      <td>...</td>\n",
       "      <td>...</td>\n",
       "      <td>...</td>\n",
       "    </tr>\n",
       "    <tr>\n",
       "      <th>354112</th>\n",
       "      <td>2016-03-11 15:49:51</td>\n",
       "      <td>3600</td>\n",
       "      <td>bus</td>\n",
       "      <td>2017</td>\n",
       "      <td>manual</td>\n",
       "      <td>86</td>\n",
       "      <td>transit</td>\n",
       "      <td>150000</td>\n",
       "      <td>5</td>\n",
       "      <td>gasoline</td>\n",
       "      <td>ford</td>\n",
       "      <td>unknown</td>\n",
       "      <td>2016-03-11</td>\n",
       "      <td>32339</td>\n",
       "      <td>2016-03-12 05:45:02</td>\n",
       "    </tr>\n",
       "    <tr>\n",
       "      <th>354140</th>\n",
       "      <td>2016-03-29 16:47:29</td>\n",
       "      <td>1000</td>\n",
       "      <td>wagon</td>\n",
       "      <td>2017</td>\n",
       "      <td>manual</td>\n",
       "      <td>101</td>\n",
       "      <td>a4</td>\n",
       "      <td>150000</td>\n",
       "      <td>9</td>\n",
       "      <td>gasoline</td>\n",
       "      <td>audi</td>\n",
       "      <td>unknown</td>\n",
       "      <td>2016-03-29</td>\n",
       "      <td>38315</td>\n",
       "      <td>2016-04-06 02:44:27</td>\n",
       "    </tr>\n",
       "    <tr>\n",
       "      <th>354203</th>\n",
       "      <td>2016-03-17 00:56:26</td>\n",
       "      <td>2140</td>\n",
       "      <td>small</td>\n",
       "      <td>2018</td>\n",
       "      <td>manual</td>\n",
       "      <td>80</td>\n",
       "      <td>fiesta</td>\n",
       "      <td>150000</td>\n",
       "      <td>6</td>\n",
       "      <td>petrol</td>\n",
       "      <td>ford</td>\n",
       "      <td>no</td>\n",
       "      <td>2016-03-17</td>\n",
       "      <td>44866</td>\n",
       "      <td>2016-03-29 15:45:04</td>\n",
       "    </tr>\n",
       "    <tr>\n",
       "      <th>354253</th>\n",
       "      <td>2016-03-25 09:37:59</td>\n",
       "      <td>1250</td>\n",
       "      <td>small</td>\n",
       "      <td>2018</td>\n",
       "      <td>manual</td>\n",
       "      <td>0</td>\n",
       "      <td>corsa</td>\n",
       "      <td>150000</td>\n",
       "      <td>0</td>\n",
       "      <td>petrol</td>\n",
       "      <td>opel</td>\n",
       "      <td>unknown</td>\n",
       "      <td>2016-03-25</td>\n",
       "      <td>45527</td>\n",
       "      <td>2016-04-06 07:46:13</td>\n",
       "    </tr>\n",
       "    <tr>\n",
       "      <th>354289</th>\n",
       "      <td>2016-03-05 14:55:29</td>\n",
       "      <td>5000</td>\n",
       "      <td>sedan</td>\n",
       "      <td>2017</td>\n",
       "      <td>manual</td>\n",
       "      <td>120</td>\n",
       "      <td>other</td>\n",
       "      <td>150000</td>\n",
       "      <td>7</td>\n",
       "      <td>petrol</td>\n",
       "      <td>citroen</td>\n",
       "      <td>yes</td>\n",
       "      <td>2016-03-05</td>\n",
       "      <td>15518</td>\n",
       "      <td>2016-04-05 11:48:09</td>\n",
       "    </tr>\n",
       "  </tbody>\n",
       "</table>\n",
       "<p>14530 rows × 15 columns</p>\n",
       "</div>"
      ],
      "text/plain": [
       "               DateCrawled  Price VehicleType  RegistrationYear Gearbox  \\\n",
       "22     2016-03-23 14:52:51   2900         bus              2018  manual   \n",
       "26     2016-03-10 19:38:18   5555       sedan              2017  manual   \n",
       "48     2016-03-25 14:40:12   7750       sedan              2017  manual   \n",
       "51     2016-03-07 18:57:08   2000       small              2017  manual   \n",
       "57     2016-03-10 20:53:19   2399       sedan              2018  manual   \n",
       "...                    ...    ...         ...               ...     ...   \n",
       "354112 2016-03-11 15:49:51   3600         bus              2017  manual   \n",
       "354140 2016-03-29 16:47:29   1000       wagon              2017  manual   \n",
       "354203 2016-03-17 00:56:26   2140       small              2018  manual   \n",
       "354253 2016-03-25 09:37:59   1250       small              2018  manual   \n",
       "354289 2016-03-05 14:55:29   5000       sedan              2017  manual   \n",
       "\n",
       "        Power    Model  Kilometer  RegistrationMonth  FuelType       Brand  \\\n",
       "22         90   meriva     150000                  5    petrol        opel   \n",
       "26        125       c4     125000                  4  gasoline     citroen   \n",
       "48         80     golf     100000                  1    petrol  volkswagen   \n",
       "51         90    punto     150000                 11  gasoline        fiat   \n",
       "57         64    other     125000                  3    petrol        seat   \n",
       "...       ...      ...        ...                ...       ...         ...   \n",
       "354112     86  transit     150000                  5  gasoline        ford   \n",
       "354140    101       a4     150000                  9  gasoline        audi   \n",
       "354203     80   fiesta     150000                  6    petrol        ford   \n",
       "354253      0    corsa     150000                  0    petrol        opel   \n",
       "354289    120    other     150000                  7    petrol     citroen   \n",
       "\n",
       "       Repaired DateCreated  PostalCode            LastSeen  \n",
       "22           no  2016-03-23       49716 2016-03-31 01:16:33  \n",
       "26           no  2016-03-10       31139 2016-03-16 09:16:46  \n",
       "48      unknown  2016-03-25       48499 2016-03-31 21:47:44  \n",
       "51          yes  2016-03-07       66115 2016-03-07 18:57:08  \n",
       "57           no  2016-03-10       33397 2016-03-25 10:17:37  \n",
       "...         ...         ...         ...                 ...  \n",
       "354112  unknown  2016-03-11       32339 2016-03-12 05:45:02  \n",
       "354140  unknown  2016-03-29       38315 2016-04-06 02:44:27  \n",
       "354203       no  2016-03-17       44866 2016-03-29 15:45:04  \n",
       "354253  unknown  2016-03-25       45527 2016-04-06 07:46:13  \n",
       "354289      yes  2016-03-05       15518 2016-04-05 11:48:09  \n",
       "\n",
       "[14530 rows x 15 columns]"
      ]
     },
     "execution_count": 43,
     "metadata": {},
     "output_type": "execute_result"
    }
   ],
   "source": [
    "data.query('RegistrationYear > 2016') "
   ]
  },
  {
   "cell_type": "markdown",
   "metadata": {},
   "source": [
    "Интересно, как такое возможно, если анкета создана в 2016?\n",
    "А сколько машин младше 2025?"
   ]
  },
  {
   "cell_type": "code",
   "execution_count": 44,
   "metadata": {},
   "outputs": [
    {
     "data": {
      "text/html": [
       "<div>\n",
       "<style scoped>\n",
       "    .dataframe tbody tr th:only-of-type {\n",
       "        vertical-align: middle;\n",
       "    }\n",
       "\n",
       "    .dataframe tbody tr th {\n",
       "        vertical-align: top;\n",
       "    }\n",
       "\n",
       "    .dataframe thead th {\n",
       "        text-align: right;\n",
       "    }\n",
       "</style>\n",
       "<table border=\"1\" class=\"dataframe\">\n",
       "  <thead>\n",
       "    <tr style=\"text-align: right;\">\n",
       "      <th></th>\n",
       "      <th>DateCrawled</th>\n",
       "      <th>Price</th>\n",
       "      <th>VehicleType</th>\n",
       "      <th>RegistrationYear</th>\n",
       "      <th>Gearbox</th>\n",
       "      <th>Power</th>\n",
       "      <th>Model</th>\n",
       "      <th>Kilometer</th>\n",
       "      <th>RegistrationMonth</th>\n",
       "      <th>FuelType</th>\n",
       "      <th>Brand</th>\n",
       "      <th>Repaired</th>\n",
       "      <th>DateCreated</th>\n",
       "      <th>PostalCode</th>\n",
       "      <th>LastSeen</th>\n",
       "    </tr>\n",
       "  </thead>\n",
       "  <tbody>\n",
       "    <tr>\n",
       "      <th>12946</th>\n",
       "      <td>2016-03-29 18:39:40</td>\n",
       "      <td>49</td>\n",
       "      <td>sedan</td>\n",
       "      <td>5000</td>\n",
       "      <td>manual</td>\n",
       "      <td>0</td>\n",
       "      <td>golf</td>\n",
       "      <td>5000</td>\n",
       "      <td>12</td>\n",
       "      <td>petrol</td>\n",
       "      <td>volkswagen</td>\n",
       "      <td>unknown</td>\n",
       "      <td>2016-03-29</td>\n",
       "      <td>74523</td>\n",
       "      <td>2016-04-06 04:16:14</td>\n",
       "    </tr>\n",
       "    <tr>\n",
       "      <th>15147</th>\n",
       "      <td>2016-03-14 00:52:02</td>\n",
       "      <td>0</td>\n",
       "      <td>sedan</td>\n",
       "      <td>9999</td>\n",
       "      <td>manual</td>\n",
       "      <td>0</td>\n",
       "      <td>other</td>\n",
       "      <td>10000</td>\n",
       "      <td>0</td>\n",
       "      <td>petrol</td>\n",
       "      <td>sonstige_autos</td>\n",
       "      <td>unknown</td>\n",
       "      <td>2016-03-13</td>\n",
       "      <td>32689</td>\n",
       "      <td>2016-03-21 23:46:46</td>\n",
       "    </tr>\n",
       "    <tr>\n",
       "      <th>15870</th>\n",
       "      <td>2016-04-02 11:55:48</td>\n",
       "      <td>1700</td>\n",
       "      <td>sedan</td>\n",
       "      <td>3200</td>\n",
       "      <td>manual</td>\n",
       "      <td>0</td>\n",
       "      <td>other</td>\n",
       "      <td>5000</td>\n",
       "      <td>0</td>\n",
       "      <td>petrol</td>\n",
       "      <td>sonstige_autos</td>\n",
       "      <td>unknown</td>\n",
       "      <td>2016-04-02</td>\n",
       "      <td>33649</td>\n",
       "      <td>2016-04-06 09:46:13</td>\n",
       "    </tr>\n",
       "    <tr>\n",
       "      <th>17271</th>\n",
       "      <td>2016-03-23 16:43:29</td>\n",
       "      <td>700</td>\n",
       "      <td>sedan</td>\n",
       "      <td>9999</td>\n",
       "      <td>manual</td>\n",
       "      <td>0</td>\n",
       "      <td>other</td>\n",
       "      <td>10000</td>\n",
       "      <td>0</td>\n",
       "      <td>petrol</td>\n",
       "      <td>opel</td>\n",
       "      <td>unknown</td>\n",
       "      <td>2016-03-23</td>\n",
       "      <td>21769</td>\n",
       "      <td>2016-04-05 20:16:15</td>\n",
       "    </tr>\n",
       "    <tr>\n",
       "      <th>17346</th>\n",
       "      <td>2016-03-06 16:06:20</td>\n",
       "      <td>6500</td>\n",
       "      <td>sedan</td>\n",
       "      <td>8888</td>\n",
       "      <td>manual</td>\n",
       "      <td>0</td>\n",
       "      <td>other</td>\n",
       "      <td>10000</td>\n",
       "      <td>0</td>\n",
       "      <td>petrol</td>\n",
       "      <td>sonstige_autos</td>\n",
       "      <td>unknown</td>\n",
       "      <td>2016-03-06</td>\n",
       "      <td>55262</td>\n",
       "      <td>2016-03-30 20:46:55</td>\n",
       "    </tr>\n",
       "    <tr>\n",
       "      <th>...</th>\n",
       "      <td>...</td>\n",
       "      <td>...</td>\n",
       "      <td>...</td>\n",
       "      <td>...</td>\n",
       "      <td>...</td>\n",
       "      <td>...</td>\n",
       "      <td>...</td>\n",
       "      <td>...</td>\n",
       "      <td>...</td>\n",
       "      <td>...</td>\n",
       "      <td>...</td>\n",
       "      <td>...</td>\n",
       "      <td>...</td>\n",
       "      <td>...</td>\n",
       "      <td>...</td>\n",
       "    </tr>\n",
       "    <tr>\n",
       "      <th>334967</th>\n",
       "      <td>2016-03-20 17:53:51</td>\n",
       "      <td>12000</td>\n",
       "      <td>sedan</td>\n",
       "      <td>4000</td>\n",
       "      <td>manual</td>\n",
       "      <td>500</td>\n",
       "      <td>golf</td>\n",
       "      <td>5000</td>\n",
       "      <td>0</td>\n",
       "      <td>petrol</td>\n",
       "      <td>volkswagen</td>\n",
       "      <td>no</td>\n",
       "      <td>2016-03-20</td>\n",
       "      <td>57392</td>\n",
       "      <td>2016-04-07 00:46:30</td>\n",
       "    </tr>\n",
       "    <tr>\n",
       "      <th>335727</th>\n",
       "      <td>2016-03-09 07:01:27</td>\n",
       "      <td>0</td>\n",
       "      <td>sedan</td>\n",
       "      <td>7500</td>\n",
       "      <td>manual</td>\n",
       "      <td>0</td>\n",
       "      <td>other</td>\n",
       "      <td>10000</td>\n",
       "      <td>0</td>\n",
       "      <td>petrol</td>\n",
       "      <td>mini</td>\n",
       "      <td>no</td>\n",
       "      <td>2016-03-09</td>\n",
       "      <td>9669</td>\n",
       "      <td>2016-03-19 19:44:50</td>\n",
       "    </tr>\n",
       "    <tr>\n",
       "      <th>338829</th>\n",
       "      <td>2016-03-24 19:49:36</td>\n",
       "      <td>50</td>\n",
       "      <td>sedan</td>\n",
       "      <td>3000</td>\n",
       "      <td>manual</td>\n",
       "      <td>3000</td>\n",
       "      <td>golf</td>\n",
       "      <td>100000</td>\n",
       "      <td>6</td>\n",
       "      <td>petrol</td>\n",
       "      <td>volkswagen</td>\n",
       "      <td>yes</td>\n",
       "      <td>2016-03-24</td>\n",
       "      <td>23992</td>\n",
       "      <td>2016-04-03 13:17:57</td>\n",
       "    </tr>\n",
       "    <tr>\n",
       "      <th>340548</th>\n",
       "      <td>2016-04-02 17:44:03</td>\n",
       "      <td>0</td>\n",
       "      <td>sedan</td>\n",
       "      <td>3500</td>\n",
       "      <td>manual</td>\n",
       "      <td>75</td>\n",
       "      <td>other</td>\n",
       "      <td>5000</td>\n",
       "      <td>3</td>\n",
       "      <td>petrol</td>\n",
       "      <td>sonstige_autos</td>\n",
       "      <td>unknown</td>\n",
       "      <td>2016-04-02</td>\n",
       "      <td>96465</td>\n",
       "      <td>2016-04-04 15:17:51</td>\n",
       "    </tr>\n",
       "    <tr>\n",
       "      <th>341791</th>\n",
       "      <td>2016-03-28 17:37:30</td>\n",
       "      <td>1</td>\n",
       "      <td>bus</td>\n",
       "      <td>3000</td>\n",
       "      <td>manual</td>\n",
       "      <td>0</td>\n",
       "      <td>zafira</td>\n",
       "      <td>5000</td>\n",
       "      <td>0</td>\n",
       "      <td>petrol</td>\n",
       "      <td>opel</td>\n",
       "      <td>unknown</td>\n",
       "      <td>2016-03-28</td>\n",
       "      <td>26624</td>\n",
       "      <td>2016-04-02 22:17:49</td>\n",
       "    </tr>\n",
       "  </tbody>\n",
       "</table>\n",
       "<p>105 rows × 15 columns</p>\n",
       "</div>"
      ],
      "text/plain": [
       "               DateCrawled  Price VehicleType  RegistrationYear Gearbox  \\\n",
       "12946  2016-03-29 18:39:40     49       sedan              5000  manual   \n",
       "15147  2016-03-14 00:52:02      0       sedan              9999  manual   \n",
       "15870  2016-04-02 11:55:48   1700       sedan              3200  manual   \n",
       "17271  2016-03-23 16:43:29    700       sedan              9999  manual   \n",
       "17346  2016-03-06 16:06:20   6500       sedan              8888  manual   \n",
       "...                    ...    ...         ...               ...     ...   \n",
       "334967 2016-03-20 17:53:51  12000       sedan              4000  manual   \n",
       "335727 2016-03-09 07:01:27      0       sedan              7500  manual   \n",
       "338829 2016-03-24 19:49:36     50       sedan              3000  manual   \n",
       "340548 2016-04-02 17:44:03      0       sedan              3500  manual   \n",
       "341791 2016-03-28 17:37:30      1         bus              3000  manual   \n",
       "\n",
       "        Power   Model  Kilometer  RegistrationMonth FuelType           Brand  \\\n",
       "12946       0    golf       5000                 12   petrol      volkswagen   \n",
       "15147       0   other      10000                  0   petrol  sonstige_autos   \n",
       "15870       0   other       5000                  0   petrol  sonstige_autos   \n",
       "17271       0   other      10000                  0   petrol            opel   \n",
       "17346       0   other      10000                  0   petrol  sonstige_autos   \n",
       "...       ...     ...        ...                ...      ...             ...   \n",
       "334967    500    golf       5000                  0   petrol      volkswagen   \n",
       "335727      0   other      10000                  0   petrol            mini   \n",
       "338829   3000    golf     100000                  6   petrol      volkswagen   \n",
       "340548     75   other       5000                  3   petrol  sonstige_autos   \n",
       "341791      0  zafira       5000                  0   petrol            opel   \n",
       "\n",
       "       Repaired DateCreated  PostalCode            LastSeen  \n",
       "12946   unknown  2016-03-29       74523 2016-04-06 04:16:14  \n",
       "15147   unknown  2016-03-13       32689 2016-03-21 23:46:46  \n",
       "15870   unknown  2016-04-02       33649 2016-04-06 09:46:13  \n",
       "17271   unknown  2016-03-23       21769 2016-04-05 20:16:15  \n",
       "17346   unknown  2016-03-06       55262 2016-03-30 20:46:55  \n",
       "...         ...         ...         ...                 ...  \n",
       "334967       no  2016-03-20       57392 2016-04-07 00:46:30  \n",
       "335727       no  2016-03-09        9669 2016-03-19 19:44:50  \n",
       "338829      yes  2016-03-24       23992 2016-04-03 13:17:57  \n",
       "340548  unknown  2016-04-02       96465 2016-04-04 15:17:51  \n",
       "341791  unknown  2016-03-28       26624 2016-04-02 22:17:49  \n",
       "\n",
       "[105 rows x 15 columns]"
      ]
     },
     "execution_count": 44,
     "metadata": {},
     "output_type": "execute_result"
    }
   ],
   "source": [
    "data.query('RegistrationYear >=2025')"
   ]
  },
  {
   "cell_type": "code",
   "execution_count": 45,
   "metadata": {},
   "outputs": [
    {
     "data": {
      "text/plain": [
       "354365"
      ]
     },
     "execution_count": 45,
     "metadata": {},
     "output_type": "execute_result"
    }
   ],
   "source": [
    "data.shape[0] # 1% – 3543 rows"
   ]
  },
  {
   "cell_type": "markdown",
   "metadata": {},
   "source": [
    "<div class=\"alert alert-danger\" style=\"border-radius: 15px; box-shadow: 4px 4px 4px; border: 1px solid \">\n",
    "<h2> Комментарий ревьюера  ❌</h2>\n",
    "    \n",
    "Стоит сравнить с `DateCrawled`. Максимальные значения даты регистрации и `DateCrawled` должны совпадать. Автомобиль не должен быть зарегистрирован после даты выгрузки :) \n",
    "    \n",
    "</div>"
   ]
  },
  {
   "cell_type": "markdown",
   "metadata": {},
   "source": [
    "<div style=\"border-radius: 15px; border: 2px solid steelblue; background-color: lavender; padding: 15px;\">\n",
    "  <h3>🧑‍🎓 Комментарий студента 🖋️ Версия 1.0 </h3>\n",
    "  Боссу лучше знать. Сейчас переделаем 🔹<br>\n",
    "  \n",
    "</div>\n"
   ]
  },
  {
   "cell_type": "code",
   "execution_count": 46,
   "metadata": {},
   "outputs": [
    {
     "data": {
      "text/plain": [
       "0   2016-03-24 11:52:17\n",
       "1   2016-03-24 10:58:45\n",
       "2   2016-03-14 12:52:21\n",
       "3   2016-03-17 16:54:04\n",
       "4   2016-03-31 17:25:20\n",
       "Name: DateCrawled, dtype: datetime64[ns]"
      ]
     },
     "execution_count": 46,
     "metadata": {},
     "output_type": "execute_result"
    }
   ],
   "source": [
    "data.DateCrawled.head()"
   ]
  },
  {
   "cell_type": "code",
   "execution_count": 47,
   "metadata": {},
   "outputs": [
    {
     "data": {
      "text/plain": [
       "354365"
      ]
     },
     "execution_count": 47,
     "metadata": {},
     "output_type": "execute_result"
    }
   ],
   "source": [
    "data.shape[0]"
   ]
  },
  {
   "cell_type": "code",
   "execution_count": 48,
   "metadata": {},
   "outputs": [],
   "source": [
    "# Выделяем год и месяц из DateCrawled\n",
    "crawled_year = data[\"DateCrawled\"].dt.year\n",
    "crawled_month = data[\"DateCrawled\"].dt.month\n",
    "\n",
    "# Условие отбора\n",
    "condition = (\n",
    "    (crawled_year > data[\"RegistrationYear\"]) | # так\n",
    "    ((crawled_year == data[\"RegistrationYear\"]) & (crawled_month >= data[\"RegistrationMonth\"])) # если год совпадает то смотрим и месяц\n",
    ")\n",
    "\n",
    "# Применяем фильтр\n",
    "data = data[condition]"
   ]
  },
  {
   "cell_type": "markdown",
   "metadata": {},
   "source": [
    "<div class=\"alert alert-warning\" style=\"border-radius: 15px; box-shadow: 4px 4px 4px; border: 1px solid \">\n",
    "<h2> Комментарий ревьюера 2 ⚠️</h2>\n",
    "    \n",
    "Можно обойтись условием \"<\".     \n",
    "</div>"
   ]
  },
  {
   "cell_type": "markdown",
   "metadata": {},
   "source": [
    "<div style=\"border-radius: 15px; border: 2px solid steelblue; background-color: lightskyblue; padding: 15px;\">\n",
    "  <b>Комментарий студента 2 </b><br>\n",
    "Это как? <br><br>\n",
    "  🔹 \n",
    "</div>\n"
   ]
  },
  {
   "cell_type": "code",
   "execution_count": 49,
   "metadata": {},
   "outputs": [
    {
     "data": {
      "text/plain": [
       "334606"
      ]
     },
     "execution_count": 49,
     "metadata": {},
     "output_type": "execute_result"
    }
   ],
   "source": [
    "data.shape[0]"
   ]
  },
  {
   "cell_type": "code",
   "execution_count": 50,
   "metadata": {},
   "outputs": [
    {
     "data": {
      "text/html": [
       "<div>\n",
       "<style scoped>\n",
       "    .dataframe tbody tr th:only-of-type {\n",
       "        vertical-align: middle;\n",
       "    }\n",
       "\n",
       "    .dataframe tbody tr th {\n",
       "        vertical-align: top;\n",
       "    }\n",
       "\n",
       "    .dataframe thead th {\n",
       "        text-align: right;\n",
       "    }\n",
       "</style>\n",
       "<table border=\"1\" class=\"dataframe\">\n",
       "  <thead>\n",
       "    <tr style=\"text-align: right;\">\n",
       "      <th></th>\n",
       "      <th>DateCrawled</th>\n",
       "      <th>Price</th>\n",
       "      <th>VehicleType</th>\n",
       "      <th>RegistrationYear</th>\n",
       "      <th>Gearbox</th>\n",
       "      <th>Power</th>\n",
       "      <th>Model</th>\n",
       "      <th>Kilometer</th>\n",
       "      <th>RegistrationMonth</th>\n",
       "      <th>FuelType</th>\n",
       "      <th>Brand</th>\n",
       "      <th>Repaired</th>\n",
       "      <th>DateCreated</th>\n",
       "      <th>PostalCode</th>\n",
       "      <th>LastSeen</th>\n",
       "    </tr>\n",
       "  </thead>\n",
       "  <tbody>\n",
       "    <tr>\n",
       "      <th>0</th>\n",
       "      <td>2016-03-24 11:52:17</td>\n",
       "      <td>480</td>\n",
       "      <td>sedan</td>\n",
       "      <td>1993</td>\n",
       "      <td>manual</td>\n",
       "      <td>0</td>\n",
       "      <td>golf</td>\n",
       "      <td>150000</td>\n",
       "      <td>0</td>\n",
       "      <td>petrol</td>\n",
       "      <td>volkswagen</td>\n",
       "      <td>unknown</td>\n",
       "      <td>2016-03-24</td>\n",
       "      <td>70435</td>\n",
       "      <td>2016-04-07 03:16:57</td>\n",
       "    </tr>\n",
       "    <tr>\n",
       "      <th>1</th>\n",
       "      <td>2016-03-24 10:58:45</td>\n",
       "      <td>18300</td>\n",
       "      <td>coupe</td>\n",
       "      <td>2011</td>\n",
       "      <td>manual</td>\n",
       "      <td>190</td>\n",
       "      <td>a4</td>\n",
       "      <td>125000</td>\n",
       "      <td>5</td>\n",
       "      <td>gasoline</td>\n",
       "      <td>audi</td>\n",
       "      <td>yes</td>\n",
       "      <td>2016-03-24</td>\n",
       "      <td>66954</td>\n",
       "      <td>2016-04-07 01:46:50</td>\n",
       "    </tr>\n",
       "    <tr>\n",
       "      <th>2</th>\n",
       "      <td>2016-03-14 12:52:21</td>\n",
       "      <td>9800</td>\n",
       "      <td>suv</td>\n",
       "      <td>2004</td>\n",
       "      <td>auto</td>\n",
       "      <td>163</td>\n",
       "      <td>grand</td>\n",
       "      <td>125000</td>\n",
       "      <td>8</td>\n",
       "      <td>gasoline</td>\n",
       "      <td>jeep</td>\n",
       "      <td>unknown</td>\n",
       "      <td>2016-03-14</td>\n",
       "      <td>90480</td>\n",
       "      <td>2016-04-05 12:47:46</td>\n",
       "    </tr>\n",
       "    <tr>\n",
       "      <th>3</th>\n",
       "      <td>2016-03-17 16:54:04</td>\n",
       "      <td>1500</td>\n",
       "      <td>small</td>\n",
       "      <td>2001</td>\n",
       "      <td>manual</td>\n",
       "      <td>75</td>\n",
       "      <td>golf</td>\n",
       "      <td>150000</td>\n",
       "      <td>6</td>\n",
       "      <td>petrol</td>\n",
       "      <td>volkswagen</td>\n",
       "      <td>no</td>\n",
       "      <td>2016-03-17</td>\n",
       "      <td>91074</td>\n",
       "      <td>2016-03-17 17:40:17</td>\n",
       "    </tr>\n",
       "    <tr>\n",
       "      <th>4</th>\n",
       "      <td>2016-03-31 17:25:20</td>\n",
       "      <td>3600</td>\n",
       "      <td>small</td>\n",
       "      <td>2008</td>\n",
       "      <td>manual</td>\n",
       "      <td>69</td>\n",
       "      <td>fabia</td>\n",
       "      <td>90000</td>\n",
       "      <td>7</td>\n",
       "      <td>gasoline</td>\n",
       "      <td>skoda</td>\n",
       "      <td>no</td>\n",
       "      <td>2016-03-31</td>\n",
       "      <td>60437</td>\n",
       "      <td>2016-04-06 10:17:21</td>\n",
       "    </tr>\n",
       "  </tbody>\n",
       "</table>\n",
       "</div>"
      ],
      "text/plain": [
       "          DateCrawled  Price VehicleType  RegistrationYear Gearbox  Power  \\\n",
       "0 2016-03-24 11:52:17    480       sedan              1993  manual      0   \n",
       "1 2016-03-24 10:58:45  18300       coupe              2011  manual    190   \n",
       "2 2016-03-14 12:52:21   9800         suv              2004    auto    163   \n",
       "3 2016-03-17 16:54:04   1500       small              2001  manual     75   \n",
       "4 2016-03-31 17:25:20   3600       small              2008  manual     69   \n",
       "\n",
       "   Model  Kilometer  RegistrationMonth  FuelType       Brand Repaired  \\\n",
       "0   golf     150000                  0    petrol  volkswagen  unknown   \n",
       "1     a4     125000                  5  gasoline        audi      yes   \n",
       "2  grand     125000                  8  gasoline        jeep  unknown   \n",
       "3   golf     150000                  6    petrol  volkswagen       no   \n",
       "4  fabia      90000                  7  gasoline       skoda       no   \n",
       "\n",
       "  DateCreated  PostalCode            LastSeen  \n",
       "0  2016-03-24       70435 2016-04-07 03:16:57  \n",
       "1  2016-03-24       66954 2016-04-07 01:46:50  \n",
       "2  2016-03-14       90480 2016-04-05 12:47:46  \n",
       "3  2016-03-17       91074 2016-03-17 17:40:17  \n",
       "4  2016-03-31       60437 2016-04-06 10:17:21  "
      ]
     },
     "execution_count": 50,
     "metadata": {},
     "output_type": "execute_result"
    }
   ],
   "source": [
    "data.head()"
   ]
  },
  {
   "cell_type": "code",
   "execution_count": 51,
   "metadata": {},
   "outputs": [
    {
     "data": {
      "image/png": "[encoded data removed]",
      "text/plain": [
       "<Figure size 1200x600 with 1 Axes>"
      ]
     },
     "metadata": {},
     "output_type": "display_data"
    }
   ],
   "source": [
    "\n",
    "filtered = data.query('RegistrationYear < 1989')\n",
    "\n",
    "year_counts = filtered['RegistrationYear'].value_counts().sort_index()\n",
    "\n",
    "plt.figure(figsize=(12,6))\n",
    "year_counts.plot(kind='bar', color='skyblue', edgecolor='black')\n",
    "\n",
    "plt.title('Количество автомобилей с RegistrationYear < 1989 по годам')\n",
    "plt.xlabel('Год регистрации')\n",
    "plt.ylabel('Количество')\n",
    "plt.xticks(rotation=90, fontsize=9)\n",
    "plt.grid(axis='y', linestyle='--', alpha=0.7)\n",
    "plt.tight_layout()\n",
    "plt.show()"
   ]
  },
  {
   "cell_type": "code",
   "execution_count": 52,
   "metadata": {},
   "outputs": [
    {
     "data": {
      "text/html": [
       "<div>\n",
       "<style scoped>\n",
       "    .dataframe tbody tr th:only-of-type {\n",
       "        vertical-align: middle;\n",
       "    }\n",
       "\n",
       "    .dataframe tbody tr th {\n",
       "        vertical-align: top;\n",
       "    }\n",
       "\n",
       "    .dataframe thead th {\n",
       "        text-align: right;\n",
       "    }\n",
       "</style>\n",
       "<table border=\"1\" class=\"dataframe\">\n",
       "  <thead>\n",
       "    <tr style=\"text-align: right;\">\n",
       "      <th></th>\n",
       "      <th>DateCrawled</th>\n",
       "      <th>Price</th>\n",
       "      <th>VehicleType</th>\n",
       "      <th>RegistrationYear</th>\n",
       "      <th>Gearbox</th>\n",
       "      <th>Power</th>\n",
       "      <th>Model</th>\n",
       "      <th>Kilometer</th>\n",
       "      <th>RegistrationMonth</th>\n",
       "      <th>FuelType</th>\n",
       "      <th>Brand</th>\n",
       "      <th>Repaired</th>\n",
       "      <th>DateCreated</th>\n",
       "      <th>PostalCode</th>\n",
       "      <th>LastSeen</th>\n",
       "    </tr>\n",
       "  </thead>\n",
       "  <tbody>\n",
       "    <tr>\n",
       "      <th>15</th>\n",
       "      <td>2016-03-11 21:39:15</td>\n",
       "      <td>450</td>\n",
       "      <td>small</td>\n",
       "      <td>1910</td>\n",
       "      <td>manual</td>\n",
       "      <td>0</td>\n",
       "      <td>ka</td>\n",
       "      <td>5000</td>\n",
       "      <td>0</td>\n",
       "      <td>petrol</td>\n",
       "      <td>ford</td>\n",
       "      <td>unknown</td>\n",
       "      <td>2016-03-11</td>\n",
       "      <td>24148</td>\n",
       "      <td>2016-03-19 08:46:47</td>\n",
       "    </tr>\n",
       "    <tr>\n",
       "      <th>6629</th>\n",
       "      <td>2016-04-02 13:47:16</td>\n",
       "      <td>0</td>\n",
       "      <td>small</td>\n",
       "      <td>1910</td>\n",
       "      <td>manual</td>\n",
       "      <td>0</td>\n",
       "      <td>other</td>\n",
       "      <td>5000</td>\n",
       "      <td>1</td>\n",
       "      <td>other</td>\n",
       "      <td>sonstige_autos</td>\n",
       "      <td>unknown</td>\n",
       "      <td>2016-04-02</td>\n",
       "      <td>93105</td>\n",
       "      <td>2016-04-04 11:16:30</td>\n",
       "    </tr>\n",
       "    <tr>\n",
       "      <th>6977</th>\n",
       "      <td>2016-03-24 08:37:22</td>\n",
       "      <td>135</td>\n",
       "      <td>small</td>\n",
       "      <td>1910</td>\n",
       "      <td>manual</td>\n",
       "      <td>0</td>\n",
       "      <td>corsa</td>\n",
       "      <td>5000</td>\n",
       "      <td>0</td>\n",
       "      <td>petrol</td>\n",
       "      <td>opel</td>\n",
       "      <td>unknown</td>\n",
       "      <td>2016-03-24</td>\n",
       "      <td>19374</td>\n",
       "      <td>2016-04-06 20:46:08</td>\n",
       "    </tr>\n",
       "    <tr>\n",
       "      <th>10183</th>\n",
       "      <td>2016-03-27 13:59:08</td>\n",
       "      <td>1250</td>\n",
       "      <td>sedan</td>\n",
       "      <td>1910</td>\n",
       "      <td>manual</td>\n",
       "      <td>0</td>\n",
       "      <td>other</td>\n",
       "      <td>5000</td>\n",
       "      <td>0</td>\n",
       "      <td>petrol</td>\n",
       "      <td>audi</td>\n",
       "      <td>unknown</td>\n",
       "      <td>2016-03-27</td>\n",
       "      <td>18445</td>\n",
       "      <td>2016-04-07 10:45:31</td>\n",
       "    </tr>\n",
       "    <tr>\n",
       "      <th>18023</th>\n",
       "      <td>2016-03-24 08:57:13</td>\n",
       "      <td>1</td>\n",
       "      <td>sedan</td>\n",
       "      <td>1910</td>\n",
       "      <td>manual</td>\n",
       "      <td>0</td>\n",
       "      <td>golf</td>\n",
       "      <td>5000</td>\n",
       "      <td>0</td>\n",
       "      <td>petrol</td>\n",
       "      <td>volkswagen</td>\n",
       "      <td>unknown</td>\n",
       "      <td>2016-03-24</td>\n",
       "      <td>50829</td>\n",
       "      <td>2016-04-06 22:45:09</td>\n",
       "    </tr>\n",
       "    <tr>\n",
       "      <th>...</th>\n",
       "      <td>...</td>\n",
       "      <td>...</td>\n",
       "      <td>...</td>\n",
       "      <td>...</td>\n",
       "      <td>...</td>\n",
       "      <td>...</td>\n",
       "      <td>...</td>\n",
       "      <td>...</td>\n",
       "      <td>...</td>\n",
       "      <td>...</td>\n",
       "      <td>...</td>\n",
       "      <td>...</td>\n",
       "      <td>...</td>\n",
       "      <td>...</td>\n",
       "      <td>...</td>\n",
       "    </tr>\n",
       "    <tr>\n",
       "      <th>331076</th>\n",
       "      <td>2016-03-26 03:29:46</td>\n",
       "      <td>0</td>\n",
       "      <td>sedan</td>\n",
       "      <td>1910</td>\n",
       "      <td>manual</td>\n",
       "      <td>0</td>\n",
       "      <td>other</td>\n",
       "      <td>5000</td>\n",
       "      <td>1</td>\n",
       "      <td>petrol</td>\n",
       "      <td>sonstige_autos</td>\n",
       "      <td>unknown</td>\n",
       "      <td>2016-03-25</td>\n",
       "      <td>35606</td>\n",
       "      <td>2016-03-29 08:15:17</td>\n",
       "    </tr>\n",
       "    <tr>\n",
       "      <th>333004</th>\n",
       "      <td>2016-03-20 14:57:29</td>\n",
       "      <td>0</td>\n",
       "      <td>suv</td>\n",
       "      <td>1910</td>\n",
       "      <td>manual</td>\n",
       "      <td>0</td>\n",
       "      <td>yaris</td>\n",
       "      <td>5000</td>\n",
       "      <td>0</td>\n",
       "      <td>petrol</td>\n",
       "      <td>toyota</td>\n",
       "      <td>unknown</td>\n",
       "      <td>2016-03-20</td>\n",
       "      <td>48683</td>\n",
       "      <td>2016-03-20 14:57:29</td>\n",
       "    </tr>\n",
       "    <tr>\n",
       "      <th>334901</th>\n",
       "      <td>2016-03-29 03:36:18</td>\n",
       "      <td>1300</td>\n",
       "      <td>wagon</td>\n",
       "      <td>1910</td>\n",
       "      <td>manual</td>\n",
       "      <td>0</td>\n",
       "      <td>a4</td>\n",
       "      <td>5000</td>\n",
       "      <td>9</td>\n",
       "      <td>gasoline</td>\n",
       "      <td>audi</td>\n",
       "      <td>unknown</td>\n",
       "      <td>2016-03-29</td>\n",
       "      <td>82256</td>\n",
       "      <td>2016-04-05 17:25:59</td>\n",
       "    </tr>\n",
       "    <tr>\n",
       "      <th>343083</th>\n",
       "      <td>2016-04-01 08:51:08</td>\n",
       "      <td>1</td>\n",
       "      <td>other</td>\n",
       "      <td>1910</td>\n",
       "      <td>manual</td>\n",
       "      <td>0</td>\n",
       "      <td>golf</td>\n",
       "      <td>5000</td>\n",
       "      <td>1</td>\n",
       "      <td>other</td>\n",
       "      <td>volkswagen</td>\n",
       "      <td>unknown</td>\n",
       "      <td>2016-04-01</td>\n",
       "      <td>18273</td>\n",
       "      <td>2016-04-07 05:44:39</td>\n",
       "    </tr>\n",
       "    <tr>\n",
       "      <th>353961</th>\n",
       "      <td>2016-03-17 13:54:22</td>\n",
       "      <td>200</td>\n",
       "      <td>sedan</td>\n",
       "      <td>1910</td>\n",
       "      <td>manual</td>\n",
       "      <td>0</td>\n",
       "      <td>other</td>\n",
       "      <td>5000</td>\n",
       "      <td>0</td>\n",
       "      <td>petrol</td>\n",
       "      <td>sonstige_autos</td>\n",
       "      <td>unknown</td>\n",
       "      <td>2016-03-17</td>\n",
       "      <td>42289</td>\n",
       "      <td>2016-03-31 22:46:47</td>\n",
       "    </tr>\n",
       "  </tbody>\n",
       "</table>\n",
       "<p>101 rows × 15 columns</p>\n",
       "</div>"
      ],
      "text/plain": [
       "               DateCrawled  Price VehicleType  RegistrationYear Gearbox  \\\n",
       "15     2016-03-11 21:39:15    450       small              1910  manual   \n",
       "6629   2016-04-02 13:47:16      0       small              1910  manual   \n",
       "6977   2016-03-24 08:37:22    135       small              1910  manual   \n",
       "10183  2016-03-27 13:59:08   1250       sedan              1910  manual   \n",
       "18023  2016-03-24 08:57:13      1       sedan              1910  manual   \n",
       "...                    ...    ...         ...               ...     ...   \n",
       "331076 2016-03-26 03:29:46      0       sedan              1910  manual   \n",
       "333004 2016-03-20 14:57:29      0         suv              1910  manual   \n",
       "334901 2016-03-29 03:36:18   1300       wagon              1910  manual   \n",
       "343083 2016-04-01 08:51:08      1       other              1910  manual   \n",
       "353961 2016-03-17 13:54:22    200       sedan              1910  manual   \n",
       "\n",
       "        Power  Model  Kilometer  RegistrationMonth  FuelType           Brand  \\\n",
       "15          0     ka       5000                  0    petrol            ford   \n",
       "6629        0  other       5000                  1     other  sonstige_autos   \n",
       "6977        0  corsa       5000                  0    petrol            opel   \n",
       "10183       0  other       5000                  0    petrol            audi   \n",
       "18023       0   golf       5000                  0    petrol      volkswagen   \n",
       "...       ...    ...        ...                ...       ...             ...   \n",
       "331076      0  other       5000                  1    petrol  sonstige_autos   \n",
       "333004      0  yaris       5000                  0    petrol          toyota   \n",
       "334901      0     a4       5000                  9  gasoline            audi   \n",
       "343083      0   golf       5000                  1     other      volkswagen   \n",
       "353961      0  other       5000                  0    petrol  sonstige_autos   \n",
       "\n",
       "       Repaired DateCreated  PostalCode            LastSeen  \n",
       "15      unknown  2016-03-11       24148 2016-03-19 08:46:47  \n",
       "6629    unknown  2016-04-02       93105 2016-04-04 11:16:30  \n",
       "6977    unknown  2016-03-24       19374 2016-04-06 20:46:08  \n",
       "10183   unknown  2016-03-27       18445 2016-04-07 10:45:31  \n",
       "18023   unknown  2016-03-24       50829 2016-04-06 22:45:09  \n",
       "...         ...         ...         ...                 ...  \n",
       "331076  unknown  2016-03-25       35606 2016-03-29 08:15:17  \n",
       "333004  unknown  2016-03-20       48683 2016-03-20 14:57:29  \n",
       "334901  unknown  2016-03-29       82256 2016-04-05 17:25:59  \n",
       "343083  unknown  2016-04-01       18273 2016-04-07 05:44:39  \n",
       "353961  unknown  2016-03-17       42289 2016-03-31 22:46:47  \n",
       "\n",
       "[101 rows x 15 columns]"
      ]
     },
     "execution_count": 52,
     "metadata": {},
     "output_type": "execute_result"
    }
   ],
   "source": [
    "data.query('RegistrationYear == 1910')"
   ]
  },
  {
   "cell_type": "code",
   "execution_count": 53,
   "metadata": {},
   "outputs": [
    {
     "data": {
      "text/plain": [
       "422"
      ]
     },
     "execution_count": 53,
     "metadata": {},
     "output_type": "execute_result"
    }
   ],
   "source": [
    "len(data.query('RegistrationYear <= 1959'))"
   ]
  },
  {
   "cell_type": "markdown",
   "metadata": {},
   "source": [
    "Удаляем всё до 1983 года включительно..."
   ]
  },
  {
   "cell_type": "markdown",
   "metadata": {},
   "source": [
    "Короче, удаляем винтажные машины: на свалку!!!\n",
    "\n",
    "Цель — построить ML-модель оценки стоимости на нормальные автомобили (обычные покупки-продажи), поэтому трициклы Бенца удаляем. "
   ]
  },
  {
   "cell_type": "code",
   "execution_count": 54,
   "metadata": {},
   "outputs": [],
   "source": [
    "data = data[data['RegistrationYear'] >= 1983]\n"
   ]
  },
  {
   "cell_type": "code",
   "execution_count": 55,
   "metadata": {},
   "outputs": [
    {
     "data": {
      "text/plain": [
       "329987"
      ]
     },
     "execution_count": 55,
     "metadata": {},
     "output_type": "execute_result"
    }
   ],
   "source": [
    "data.shape[0]"
   ]
  },
  {
   "cell_type": "markdown",
   "metadata": {},
   "source": [
    "5% удалил. Приемлемо"
   ]
  },
  {
   "cell_type": "code",
   "execution_count": 56,
   "metadata": {},
   "outputs": [
    {
     "data": {
      "text/plain": [
       "33712"
      ]
     },
     "execution_count": 56,
     "metadata": {},
     "output_type": "execute_result"
    }
   ],
   "source": [
    "len(data.query('Power == 0'))"
   ]
  },
  {
   "cell_type": "markdown",
   "metadata": {},
   "source": [
    "Предлагаю заполнить медианным значением по модели автомобиля и году. К примеру, возьмем и сложим все гольфы до 1993 года включительно и найдем медиану."
   ]
  },
  {
   "cell_type": "markdown",
   "metadata": {},
   "source": [
    "#### Преобразование Power"
   ]
  },
  {
   "cell_type": "code",
   "execution_count": 57,
   "metadata": {},
   "outputs": [],
   "source": [
    "# Подготовим df, где Power > 30\n",
    "power_data = data[data['Power'] > 30]\n",
    "\n",
    "# Считаем медиану Power по Model + RegistrationYear (группировка по двум признакам)\n",
    "median_power_by_model_year = power_data.groupby(['Model', 'RegistrationYear'])['Power'].median()\n",
    "\n",
    "# Если нет точного совпадения Model+Year — используем просто медиану по Model\n",
    "median_power_by_model = power_data.groupby('Model')['Power'].median()\n",
    "\n",
    "# Функция: выбираем медиану для строки\n",
    "def get_filled_power(row):\n",
    "    if row['Power'] > 30:\n",
    "        return row['Power']\n",
    "    \n",
    "    key = (row['Model'], row['RegistrationYear'])\n",
    "    if key in median_power_by_model_year:\n",
    "        return median_power_by_model_year[key]\n",
    "    elif row['Model'] in median_power_by_model:\n",
    "        return median_power_by_model[row['Model']]\n",
    "    else:\n",
    "        return np.nan\n",
    "\n",
    "# Применяем быстро через apply (без фильтрации внутри)\n",
    "data['Power'] = data.apply(get_filled_power, axis=1)"
   ]
  },
  {
   "cell_type": "code",
   "execution_count": 58,
   "metadata": {},
   "outputs": [
    {
     "data": {
      "text/plain": [
       "array(['volkswagen', 'audi', 'jeep', 'skoda', 'bmw', 'peugeot', 'ford',\n",
       "       'mazda', 'nissan', 'renault', 'mercedes_benz', 'seat', 'honda',\n",
       "       'fiat', 'opel', 'mini', 'smart', 'hyundai', 'sonstige_autos',\n",
       "       'alfa_romeo', 'subaru', 'volvo', 'mitsubishi', 'kia', 'lancia',\n",
       "       'citroen', 'toyota', 'chevrolet', 'dacia', 'suzuki', 'daihatsu',\n",
       "       'trabant', 'saab', 'chrysler', 'jaguar', 'daewoo', 'porsche',\n",
       "       'land_rover', 'lada'], dtype=object)"
      ]
     },
     "execution_count": 58,
     "metadata": {},
     "output_type": "execute_result"
    }
   ],
   "source": [
    "data.Brand.unique()"
   ]
  },
  {
   "cell_type": "markdown",
   "metadata": {},
   "source": [
    "Этим преобразованием мы решаем проблему с нулевой мощностью `Power`. Порог в 30 л.с. — практичный и аккуратный:\n",
    "\n",
    "Не отсекает легальные маломощные модели (Aixam, Smart первых поколений, старые малолитражки).\n",
    "\n",
    "Одновременно устраняет ошибки типа Power = 0, Power = 1, «временно неизвестно», «не указано» и т.д.\n",
    "\n"
   ]
  },
  {
   "cell_type": "code",
   "execution_count": 59,
   "metadata": {},
   "outputs": [
    {
     "data": {
      "image/png": "[encoded data removed]",
      "text/plain": [
       "<Figure size 640x480 with 1 Axes>"
      ]
     },
     "metadata": {},
     "output_type": "display_data"
    },
    {
     "data": {
      "image/png": "[encoded data removed]",
      "text/plain": [
       "<Figure size 1200x600 with 1 Axes>"
      ]
     },
     "metadata": {},
     "output_type": "display_data"
    }
   ],
   "source": [
    "# Можно ограничить отображение, чтобы не мешали выбросы\n",
    "data[data['Power'] <= 100]['Power'].plot(kind='hist', bins=100, color='skyblue', edgecolor='black')\n",
    "plt.title('Распределение мощности (Power) до 100 л.с', fontsize=16)\n",
    "plt.xlabel('Мощность (л.с.)', fontsize=14)\n",
    "plt.ylabel('Количество автомобилей', fontsize=14)\n",
    "plt.grid(axis='y', linestyle='--', alpha=0.7)\n",
    "plt.tight_layout()\n",
    "plt.show()\n",
    "\n",
    "# Фильтрация: от 100 до 200 л.с.\n",
    "filtered = data[(data['Power'] >= 100) & (data['Power'] <= 200)]\n",
    "\n",
    "# Построение гистограммы\n",
    "plt.figure(figsize=(12, 6))\n",
    "filtered['Power'].plot(kind='hist', bins=50, color='skyblue', edgecolor='black')\n",
    "plt.title('Распределение мощности (Power) от 100 до 200', fontsize=16)\n",
    "plt.xlabel('Мощность (л.с.)', fontsize=14)\n",
    "plt.ylabel('Количество автомобилей', fontsize=14)\n",
    "plt.grid(axis='y', linestyle='--', alpha=0.7)\n",
    "plt.tight_layout()\n",
    "plt.show()"
   ]
  },
  {
   "cell_type": "code",
   "execution_count": 60,
   "metadata": {},
   "outputs": [
    {
     "data": {
      "text/html": [
       "<div>\n",
       "<style scoped>\n",
       "    .dataframe tbody tr th:only-of-type {\n",
       "        vertical-align: middle;\n",
       "    }\n",
       "\n",
       "    .dataframe tbody tr th {\n",
       "        vertical-align: top;\n",
       "    }\n",
       "\n",
       "    .dataframe thead th {\n",
       "        text-align: right;\n",
       "    }\n",
       "</style>\n",
       "<table border=\"1\" class=\"dataframe\">\n",
       "  <thead>\n",
       "    <tr style=\"text-align: right;\">\n",
       "      <th></th>\n",
       "      <th>DateCrawled</th>\n",
       "      <th>Price</th>\n",
       "      <th>VehicleType</th>\n",
       "      <th>RegistrationYear</th>\n",
       "      <th>Gearbox</th>\n",
       "      <th>Power</th>\n",
       "      <th>Model</th>\n",
       "      <th>Kilometer</th>\n",
       "      <th>RegistrationMonth</th>\n",
       "      <th>FuelType</th>\n",
       "      <th>Brand</th>\n",
       "      <th>Repaired</th>\n",
       "      <th>DateCreated</th>\n",
       "      <th>PostalCode</th>\n",
       "      <th>LastSeen</th>\n",
       "    </tr>\n",
       "  </thead>\n",
       "  <tbody>\n",
       "    <tr>\n",
       "      <th>295582</th>\n",
       "      <td>2016-03-20 20:51:39</td>\n",
       "      <td>11000</td>\n",
       "      <td>sedan</td>\n",
       "      <td>1998</td>\n",
       "      <td>manual</td>\n",
       "      <td>286.0</td>\n",
       "      <td>fortwo</td>\n",
       "      <td>150000</td>\n",
       "      <td>7</td>\n",
       "      <td>petrol</td>\n",
       "      <td>smart</td>\n",
       "      <td>no</td>\n",
       "      <td>2016-03-20</td>\n",
       "      <td>85778</td>\n",
       "      <td>2016-03-24 14:18:00</td>\n",
       "    </tr>\n",
       "  </tbody>\n",
       "</table>\n",
       "</div>"
      ],
      "text/plain": [
       "               DateCrawled  Price VehicleType  RegistrationYear Gearbox  \\\n",
       "295582 2016-03-20 20:51:39  11000       sedan              1998  manual   \n",
       "\n",
       "        Power   Model  Kilometer  RegistrationMonth FuelType  Brand Repaired  \\\n",
       "295582  286.0  fortwo     150000                  7   petrol  smart       no   \n",
       "\n",
       "       DateCreated  PostalCode            LastSeen  \n",
       "295582  2016-03-20       85778 2016-03-24 14:18:00  "
      ]
     },
     "execution_count": 60,
     "metadata": {},
     "output_type": "execute_result"
    }
   ],
   "source": [
    "data.query('Model == \"fortwo\" and Power == 286')"
   ]
  },
  {
   "cell_type": "markdown",
   "metadata": {},
   "source": [
    "smart fortwo как будто столько не стоит. да и 286 сил многовато! Чипанул так чипанул)) что же делать с таким выбросом?"
   ]
  },
  {
   "cell_type": "code",
   "execution_count": 61,
   "metadata": {},
   "outputs": [
    {
     "data": {
      "text/html": [
       "<div>\n",
       "<style scoped>\n",
       "    .dataframe tbody tr th:only-of-type {\n",
       "        vertical-align: middle;\n",
       "    }\n",
       "\n",
       "    .dataframe tbody tr th {\n",
       "        vertical-align: top;\n",
       "    }\n",
       "\n",
       "    .dataframe thead th {\n",
       "        text-align: right;\n",
       "    }\n",
       "</style>\n",
       "<table border=\"1\" class=\"dataframe\">\n",
       "  <thead>\n",
       "    <tr style=\"text-align: right;\">\n",
       "      <th></th>\n",
       "      <th>DateCrawled</th>\n",
       "      <th>Price</th>\n",
       "      <th>RegistrationYear</th>\n",
       "      <th>Power</th>\n",
       "      <th>Kilometer</th>\n",
       "      <th>RegistrationMonth</th>\n",
       "      <th>DateCreated</th>\n",
       "      <th>PostalCode</th>\n",
       "      <th>LastSeen</th>\n",
       "    </tr>\n",
       "  </thead>\n",
       "  <tbody>\n",
       "    <tr>\n",
       "      <th>count</th>\n",
       "      <td>4353</td>\n",
       "      <td>4353.000000</td>\n",
       "      <td>4353.000000</td>\n",
       "      <td>4353.000000</td>\n",
       "      <td>4353.000000</td>\n",
       "      <td>4353.000000</td>\n",
       "      <td>4353</td>\n",
       "      <td>4353.000000</td>\n",
       "      <td>4353</td>\n",
       "    </tr>\n",
       "    <tr>\n",
       "      <th>mean</th>\n",
       "      <td>2016-03-21 18:58:32.383184128</td>\n",
       "      <td>3574.331955</td>\n",
       "      <td>2005.325752</td>\n",
       "      <td>66.173444</td>\n",
       "      <td>96428.899609</td>\n",
       "      <td>6.089593</td>\n",
       "      <td>2016-03-21 01:00:52.101998848</td>\n",
       "      <td>49602.219389</td>\n",
       "      <td>2016-03-30 17:13:40.436480768</td>\n",
       "    </tr>\n",
       "    <tr>\n",
       "      <th>min</th>\n",
       "      <td>2016-03-05 14:08:23</td>\n",
       "      <td>0.000000</td>\n",
       "      <td>1992.000000</td>\n",
       "      <td>31.000000</td>\n",
       "      <td>5000.000000</td>\n",
       "      <td>0.000000</td>\n",
       "      <td>2015-12-30 00:00:00</td>\n",
       "      <td>1108.000000</td>\n",
       "      <td>2016-03-05 17:17:02</td>\n",
       "    </tr>\n",
       "    <tr>\n",
       "      <th>25%</th>\n",
       "      <td>2016-03-14 10:43:53</td>\n",
       "      <td>1700.000000</td>\n",
       "      <td>2001.000000</td>\n",
       "      <td>54.000000</td>\n",
       "      <td>60000.000000</td>\n",
       "      <td>3.000000</td>\n",
       "      <td>2016-03-14 00:00:00</td>\n",
       "      <td>26789.000000</td>\n",
       "      <td>2016-03-24 13:54:13</td>\n",
       "    </tr>\n",
       "    <tr>\n",
       "      <th>50%</th>\n",
       "      <td>2016-03-21 20:44:02</td>\n",
       "      <td>2900.000000</td>\n",
       "      <td>2005.000000</td>\n",
       "      <td>61.000000</td>\n",
       "      <td>100000.000000</td>\n",
       "      <td>6.000000</td>\n",
       "      <td>2016-03-21 00:00:00</td>\n",
       "      <td>50126.000000</td>\n",
       "      <td>2016-04-04 22:47:42</td>\n",
       "    </tr>\n",
       "    <tr>\n",
       "      <th>75%</th>\n",
       "      <td>2016-03-29 13:37:42</td>\n",
       "      <td>4990.000000</td>\n",
       "      <td>2009.000000</td>\n",
       "      <td>71.000000</td>\n",
       "      <td>125000.000000</td>\n",
       "      <td>9.000000</td>\n",
       "      <td>2016-03-29 00:00:00</td>\n",
       "      <td>70193.000000</td>\n",
       "      <td>2016-04-06 11:46:47</td>\n",
       "    </tr>\n",
       "    <tr>\n",
       "      <th>max</th>\n",
       "      <td>2016-04-07 13:36:22</td>\n",
       "      <td>19690.000000</td>\n",
       "      <td>2016.000000</td>\n",
       "      <td>10218.000000</td>\n",
       "      <td>150000.000000</td>\n",
       "      <td>12.000000</td>\n",
       "      <td>2016-04-07 00:00:00</td>\n",
       "      <td>99974.000000</td>\n",
       "      <td>2016-04-07 14:58:49</td>\n",
       "    </tr>\n",
       "    <tr>\n",
       "      <th>std</th>\n",
       "      <td>NaN</td>\n",
       "      <td>2530.084587</td>\n",
       "      <td>4.566353</td>\n",
       "      <td>235.271412</td>\n",
       "      <td>42718.841426</td>\n",
       "      <td>3.630101</td>\n",
       "      <td>NaN</td>\n",
       "      <td>25053.370767</td>\n",
       "      <td>NaN</td>\n",
       "    </tr>\n",
       "  </tbody>\n",
       "</table>\n",
       "</div>"
      ],
      "text/plain": [
       "                         DateCrawled         Price  RegistrationYear  \\\n",
       "count                           4353   4353.000000       4353.000000   \n",
       "mean   2016-03-21 18:58:32.383184128   3574.331955       2005.325752   \n",
       "min              2016-03-05 14:08:23      0.000000       1992.000000   \n",
       "25%              2016-03-14 10:43:53   1700.000000       2001.000000   \n",
       "50%              2016-03-21 20:44:02   2900.000000       2005.000000   \n",
       "75%              2016-03-29 13:37:42   4990.000000       2009.000000   \n",
       "max              2016-04-07 13:36:22  19690.000000       2016.000000   \n",
       "std                              NaN   2530.084587          4.566353   \n",
       "\n",
       "              Power      Kilometer  RegistrationMonth  \\\n",
       "count   4353.000000    4353.000000        4353.000000   \n",
       "mean      66.173444   96428.899609           6.089593   \n",
       "min       31.000000    5000.000000           0.000000   \n",
       "25%       54.000000   60000.000000           3.000000   \n",
       "50%       61.000000  100000.000000           6.000000   \n",
       "75%       71.000000  125000.000000           9.000000   \n",
       "max    10218.000000  150000.000000          12.000000   \n",
       "std      235.271412   42718.841426           3.630101   \n",
       "\n",
       "                         DateCreated    PostalCode  \\\n",
       "count                           4353   4353.000000   \n",
       "mean   2016-03-21 01:00:52.101998848  49602.219389   \n",
       "min              2015-12-30 00:00:00   1108.000000   \n",
       "25%              2016-03-14 00:00:00  26789.000000   \n",
       "50%              2016-03-21 00:00:00  50126.000000   \n",
       "75%              2016-03-29 00:00:00  70193.000000   \n",
       "max              2016-04-07 00:00:00  99974.000000   \n",
       "std                              NaN  25053.370767   \n",
       "\n",
       "                            LastSeen  \n",
       "count                           4353  \n",
       "mean   2016-03-30 17:13:40.436480768  \n",
       "min              2016-03-05 17:17:02  \n",
       "25%              2016-03-24 13:54:13  \n",
       "50%              2016-04-04 22:47:42  \n",
       "75%              2016-04-06 11:46:47  \n",
       "max              2016-04-07 14:58:49  \n",
       "std                              NaN  "
      ]
     },
     "execution_count": 61,
     "metadata": {},
     "output_type": "execute_result"
    }
   ],
   "source": [
    "data.query('Model == \"fortwo\"').describe()"
   ]
  },
  {
   "cell_type": "code",
   "execution_count": 62,
   "metadata": {},
   "outputs": [
    {
     "name": "stdout",
     "output_type": "stream",
     "text": [
      "Q1: 75.0, Q2 (median): 110.0, Q3: 145.0\n",
      "IQR: 70.0\n",
      "Whisker bounds: -30.0 ... 250.0\n"
     ]
    }
   ],
   "source": [
    "q1 = data['Power'].quantile(0.25)\n",
    "q2 = data['Power'].median()\n",
    "q3 = data['Power'].quantile(0.75)\n",
    "iqr = q3 - q1\n",
    "lower_bound = q1 - 1.5 * iqr\n",
    "upper_bound = q3 + 1.5 * iqr\n",
    "\n",
    "print(f\"Q1: {q1}, Q2 (median): {q2}, Q3: {q3}\")\n",
    "print(f\"IQR: {iqr}\")\n",
    "print(f\"Whisker bounds: {lower_bound} ... {upper_bound}\")\n"
   ]
  },
  {
   "cell_type": "code",
   "execution_count": 63,
   "metadata": {},
   "outputs": [
    {
     "name": "stdout",
     "output_type": "stream",
     "text": [
      "405\n"
     ]
    },
    {
     "data": {
      "image/png": "[encoded data removed]",
      "text/plain": [
       "<Figure size 1000x600 with 1 Axes>"
      ]
     },
     "metadata": {},
     "output_type": "display_data"
    }
   ],
   "source": [
    "\n",
    "\n",
    "power_above_300 = data[data['Power'] > 500]['Power']\n",
    "print(power_above_300.shape[0])\n",
    "# Построение гистограммы\n",
    "plt.figure(figsize=(10, 6))\n",
    "sns.histplot(power_above_300, bins=30, kde=True, color='royalblue')\n",
    "\n",
    "plt.title('Распределение мощности автомобилей (Power > 500 л.с.)')\n",
    "plt.xlabel('Мощность (л.с.)')\n",
    "plt.ylabel('Количество автомобилей')\n",
    "plt.grid(True, linestyle='--', alpha=0.5)\n",
    "plt.show()"
   ]
  },
  {
   "cell_type": "code",
   "execution_count": 64,
   "metadata": {},
   "outputs": [],
   "source": [
    "premium = {\n",
    "    \"audi\", \"bmw\", \"mercedes_benz\", \"porsche\", \"jaguar\",\n",
    "    \"land_rover\", \"mini\", \"jeep\", \"alfa_romeo\"\n",
    "}\n",
    "\n",
    "mass = {\n",
    "    \"volkswagen\", \"ford\", \"opel\", \"skoda\", \"peugeot\", \"nissan\",\n",
    "    \"mazda\", \"renault\", \"citroen\", \"honda\", \"seat\", \"subaru\",\n",
    "    \"volvo\", \"mitsubishi\", \"toyota\", \"chrysler\"\n",
    "}\n",
    "\n",
    "budget = {\n",
    "    \"kia\", \"hyundai\", \"dacia\", \"fiat\", \"chevrolet\", \"suzuki\",\n",
    "    \"daihatsu\", \"trabant\", \"saab\", \"daewoo\", \"smart\", \"lancia\", \"lada\", \"sonstige_autos\"\n",
    "}\n",
    "\n",
    "def classify_brand(brand):\n",
    "    if brand in premium:\n",
    "        return \"premium\"\n",
    "    elif brand in mass:\n",
    "        return \"mass\"\n",
    "    elif brand in budget:\n",
    "        return \"budget\"\n",
    "    else:\n",
    "        return \"other\"\n",
    "\n",
    "data[\"BrandClass\"] = data[\"Brand\"].apply(classify_brand)\n"
   ]
  },
  {
   "cell_type": "code",
   "execution_count": 65,
   "metadata": {},
   "outputs": [
    {
     "data": {
      "text/plain": [
       "110.0"
      ]
     },
     "execution_count": 65,
     "metadata": {},
     "output_type": "execute_result"
    }
   ],
   "source": [
    "data.Power.median()"
   ]
  },
  {
   "cell_type": "code",
   "execution_count": 66,
   "metadata": {},
   "outputs": [
    {
     "data": {
      "text/plain": [
       "329987"
      ]
     },
     "execution_count": 66,
     "metadata": {},
     "output_type": "execute_result"
    }
   ],
   "source": [
    "data.shape[0]"
   ]
  },
  {
   "cell_type": "code",
   "execution_count": 67,
   "metadata": {},
   "outputs": [],
   "source": [
    "# замена аномально больших Power с учётом класса автомобиля \n",
    "def replace_power_outliers_by_brandclass(df):\n",
    "    df = df.copy()\n",
    "\n",
    "    max_power_by_class = {\n",
    "        \"premium\": 700,\n",
    "        \"mass\": 400,\n",
    "        \"budget\": 300,\n",
    "        \"other\": 350\n",
    "    }\n",
    "\n",
    "    for brand_class, group in df.groupby(\"BrandClass\"):\n",
    "        max_power = max_power_by_class.get(brand_class, 350)\n",
    "        median_power = group.loc[group[\"Power\"] <= max_power, \"Power\"].median()\n",
    "\n",
    "        outliers_mask = (df[\"BrandClass\"] == brand_class) & (df[\"Power\"] > max_power)\n",
    "        df.loc[outliers_mask, \"Power\"] = median_power\n",
    "\n",
    "    return df\n",
    "\n",
    "# Применение\n",
    "data = replace_power_outliers_by_brandclass(data)"
   ]
  },
  {
   "cell_type": "code",
   "execution_count": 68,
   "metadata": {},
   "outputs": [
    {
     "data": {
      "text/plain": [
       "110.0"
      ]
     },
     "execution_count": 68,
     "metadata": {},
     "output_type": "execute_result"
    }
   ],
   "source": [
    "data.Power.median()"
   ]
  },
  {
   "cell_type": "markdown",
   "metadata": {},
   "source": [
    "<div class=\"alert alert-warning\" style=\"border-radius: 15px; box-shadow: 4px 4px 4px; border: 1px solid \">\n",
    "<h2> Комментарий ревьюера  ⚠️</h2>\n",
    "    \n",
    "    \n",
    "IQR следует использовать, если распределение нормальное. Не все, что за усами, это выбросы. Точно так же не все, что в их пределах, это не выбросы. \n",
    "\n",
    "\n",
    "\n",
    "</div>"
   ]
  },
  {
   "cell_type": "markdown",
   "metadata": {},
   "source": [
    "<div style=\"border-radius: 15px; border: 2px solid steelblue; background-color: lavender; padding: 15px;\">\n",
    "  <h3>🧑‍🎓 Комментарий студента 🖋️ Версия 1.0 </h3>\n",
    "  Благодарю за замечание.<br>\n",
    "Согласен, что выбросы не всегда означают ошибочные значения, особенно в случае моделей с высокой мощностью (например, спортивных автомобилей).<br><br>\n",
    "Я использовал IQR как базовый метод, не предполагающий нормальности распределения, но понимаю, что он не учитывает контекст модели.  \n",
    "В доработке рассмотрю пороговые значения (Power > 500) и пересмотрю замену с учётом класса автомобиля (BrandClass). См. выше\n",
    "  \n",
    "</div>\n"
   ]
  },
  {
   "cell_type": "markdown",
   "metadata": {},
   "source": [
    "<div class=\"alert alert-success\" style=\"border-radius: 15px; box-shadow: 4px 4px 4px; border: 1px solid \">\n",
    "<h2> Комментарий ревьюера 2 ✔️</h2>\n",
    "    \n",
    "Хорошо.\n",
    "\n",
    "</div>"
   ]
  },
  {
   "cell_type": "code",
   "execution_count": 69,
   "metadata": {},
   "outputs": [
    {
     "data": {
      "text/html": [
       "<div>\n",
       "<style scoped>\n",
       "    .dataframe tbody tr th:only-of-type {\n",
       "        vertical-align: middle;\n",
       "    }\n",
       "\n",
       "    .dataframe tbody tr th {\n",
       "        vertical-align: top;\n",
       "    }\n",
       "\n",
       "    .dataframe thead th {\n",
       "        text-align: right;\n",
       "    }\n",
       "</style>\n",
       "<table border=\"1\" class=\"dataframe\">\n",
       "  <thead>\n",
       "    <tr style=\"text-align: right;\">\n",
       "      <th></th>\n",
       "      <th>DateCrawled</th>\n",
       "      <th>Price</th>\n",
       "      <th>RegistrationYear</th>\n",
       "      <th>Power</th>\n",
       "      <th>Kilometer</th>\n",
       "      <th>RegistrationMonth</th>\n",
       "      <th>DateCreated</th>\n",
       "      <th>PostalCode</th>\n",
       "      <th>LastSeen</th>\n",
       "    </tr>\n",
       "  </thead>\n",
       "  <tbody>\n",
       "    <tr>\n",
       "      <th>count</th>\n",
       "      <td>4353</td>\n",
       "      <td>4353.000000</td>\n",
       "      <td>4353.000000</td>\n",
       "      <td>4353.000000</td>\n",
       "      <td>4353.000000</td>\n",
       "      <td>4353.000000</td>\n",
       "      <td>4353</td>\n",
       "      <td>4353.000000</td>\n",
       "      <td>4353</td>\n",
       "    </tr>\n",
       "    <tr>\n",
       "      <th>mean</th>\n",
       "      <td>2016-03-21 18:58:32.383184128</td>\n",
       "      <td>3574.331955</td>\n",
       "      <td>2005.325752</td>\n",
       "      <td>60.031473</td>\n",
       "      <td>96428.899609</td>\n",
       "      <td>6.089593</td>\n",
       "      <td>2016-03-21 01:00:52.101998848</td>\n",
       "      <td>49602.219389</td>\n",
       "      <td>2016-03-30 17:13:40.436480768</td>\n",
       "    </tr>\n",
       "    <tr>\n",
       "      <th>min</th>\n",
       "      <td>2016-03-05 14:08:23</td>\n",
       "      <td>0.000000</td>\n",
       "      <td>1992.000000</td>\n",
       "      <td>31.000000</td>\n",
       "      <td>5000.000000</td>\n",
       "      <td>0.000000</td>\n",
       "      <td>2015-12-30 00:00:00</td>\n",
       "      <td>1108.000000</td>\n",
       "      <td>2016-03-05 17:17:02</td>\n",
       "    </tr>\n",
       "    <tr>\n",
       "      <th>25%</th>\n",
       "      <td>2016-03-14 10:43:53</td>\n",
       "      <td>1700.000000</td>\n",
       "      <td>2001.000000</td>\n",
       "      <td>54.000000</td>\n",
       "      <td>60000.000000</td>\n",
       "      <td>3.000000</td>\n",
       "      <td>2016-03-14 00:00:00</td>\n",
       "      <td>26789.000000</td>\n",
       "      <td>2016-03-24 13:54:13</td>\n",
       "    </tr>\n",
       "    <tr>\n",
       "      <th>50%</th>\n",
       "      <td>2016-03-21 20:44:02</td>\n",
       "      <td>2900.000000</td>\n",
       "      <td>2005.000000</td>\n",
       "      <td>61.000000</td>\n",
       "      <td>100000.000000</td>\n",
       "      <td>6.000000</td>\n",
       "      <td>2016-03-21 00:00:00</td>\n",
       "      <td>50126.000000</td>\n",
       "      <td>2016-04-04 22:47:42</td>\n",
       "    </tr>\n",
       "    <tr>\n",
       "      <th>75%</th>\n",
       "      <td>2016-03-29 13:37:42</td>\n",
       "      <td>4990.000000</td>\n",
       "      <td>2009.000000</td>\n",
       "      <td>71.000000</td>\n",
       "      <td>125000.000000</td>\n",
       "      <td>9.000000</td>\n",
       "      <td>2016-03-29 00:00:00</td>\n",
       "      <td>70193.000000</td>\n",
       "      <td>2016-04-06 11:46:47</td>\n",
       "    </tr>\n",
       "    <tr>\n",
       "      <th>max</th>\n",
       "      <td>2016-04-07 13:36:22</td>\n",
       "      <td>19690.000000</td>\n",
       "      <td>2016.000000</td>\n",
       "      <td>286.000000</td>\n",
       "      <td>150000.000000</td>\n",
       "      <td>12.000000</td>\n",
       "      <td>2016-04-07 00:00:00</td>\n",
       "      <td>99974.000000</td>\n",
       "      <td>2016-04-07 14:58:49</td>\n",
       "    </tr>\n",
       "    <tr>\n",
       "      <th>std</th>\n",
       "      <td>NaN</td>\n",
       "      <td>2530.084587</td>\n",
       "      <td>4.566353</td>\n",
       "      <td>13.121911</td>\n",
       "      <td>42718.841426</td>\n",
       "      <td>3.630101</td>\n",
       "      <td>NaN</td>\n",
       "      <td>25053.370767</td>\n",
       "      <td>NaN</td>\n",
       "    </tr>\n",
       "  </tbody>\n",
       "</table>\n",
       "</div>"
      ],
      "text/plain": [
       "                         DateCrawled         Price  RegistrationYear  \\\n",
       "count                           4353   4353.000000       4353.000000   \n",
       "mean   2016-03-21 18:58:32.383184128   3574.331955       2005.325752   \n",
       "min              2016-03-05 14:08:23      0.000000       1992.000000   \n",
       "25%              2016-03-14 10:43:53   1700.000000       2001.000000   \n",
       "50%              2016-03-21 20:44:02   2900.000000       2005.000000   \n",
       "75%              2016-03-29 13:37:42   4990.000000       2009.000000   \n",
       "max              2016-04-07 13:36:22  19690.000000       2016.000000   \n",
       "std                              NaN   2530.084587          4.566353   \n",
       "\n",
       "             Power      Kilometer  RegistrationMonth  \\\n",
       "count  4353.000000    4353.000000        4353.000000   \n",
       "mean     60.031473   96428.899609           6.089593   \n",
       "min      31.000000    5000.000000           0.000000   \n",
       "25%      54.000000   60000.000000           3.000000   \n",
       "50%      61.000000  100000.000000           6.000000   \n",
       "75%      71.000000  125000.000000           9.000000   \n",
       "max     286.000000  150000.000000          12.000000   \n",
       "std      13.121911   42718.841426           3.630101   \n",
       "\n",
       "                         DateCreated    PostalCode  \\\n",
       "count                           4353   4353.000000   \n",
       "mean   2016-03-21 01:00:52.101998848  49602.219389   \n",
       "min              2015-12-30 00:00:00   1108.000000   \n",
       "25%              2016-03-14 00:00:00  26789.000000   \n",
       "50%              2016-03-21 00:00:00  50126.000000   \n",
       "75%              2016-03-29 00:00:00  70193.000000   \n",
       "max              2016-04-07 00:00:00  99974.000000   \n",
       "std                              NaN  25053.370767   \n",
       "\n",
       "                            LastSeen  \n",
       "count                           4353  \n",
       "mean   2016-03-30 17:13:40.436480768  \n",
       "min              2016-03-05 17:17:02  \n",
       "25%              2016-03-24 13:54:13  \n",
       "50%              2016-04-04 22:47:42  \n",
       "75%              2016-04-06 11:46:47  \n",
       "max              2016-04-07 14:58:49  \n",
       "std                              NaN  "
      ]
     },
     "execution_count": 69,
     "metadata": {},
     "output_type": "execute_result"
    }
   ],
   "source": [
    "data.query('Model == \"fortwo\"').describe()"
   ]
  },
  {
   "cell_type": "code",
   "execution_count": 70,
   "metadata": {},
   "outputs": [
    {
     "name": "stdout",
     "output_type": "stream",
     "text": [
      "Пропусков в Power: 0\n"
     ]
    }
   ],
   "source": [
    "missing_power = data['Power'].isna().sum()\n",
    "print(f'Пропусков в Power: {missing_power}')\n"
   ]
  },
  {
   "cell_type": "code",
   "execution_count": 71,
   "metadata": {},
   "outputs": [],
   "source": [
    "data = data.dropna(subset=['Power'])\n"
   ]
  },
  {
   "cell_type": "markdown",
   "metadata": {},
   "source": [
    "Выбросы уничтожены быстро и мощно в столбце Power. На подходе еще 200 000 столбцов!!"
   ]
  },
  {
   "cell_type": "code",
   "execution_count": 72,
   "metadata": {},
   "outputs": [
    {
     "data": {
      "image/png": "[encoded data removed]",
      "text/plain": [
       "<Figure size 1000x200 with 1 Axes>"
      ]
     },
     "metadata": {},
     "output_type": "display_data"
    }
   ],
   "source": [
    "# Box plot для Power\n",
    "plt.figure(figsize=(10, 2))\n",
    "sns.boxplot(x=data['Power'], color='skyblue')\n",
    "plt.title('Boxplot Power')\n",
    "plt.xlabel('Power')\n",
    "plt.grid(True)\n",
    "plt.show()\n"
   ]
  },
  {
   "cell_type": "markdown",
   "metadata": {},
   "source": [
    "Это другое!"
   ]
  },
  {
   "cell_type": "code",
   "execution_count": 73,
   "metadata": {},
   "outputs": [
    {
     "data": {
      "image/png": "[encoded data removed]",
      "text/plain": [
       "<Figure size 1200x600 with 1 Axes>"
      ]
     },
     "metadata": {},
     "output_type": "display_data"
    }
   ],
   "source": [
    "# Фильтрация\n",
    "filtered = data[(data['Power'] >= 200) & (data['Power'] <= 33330)]\n",
    "\n",
    "# Построение гистограммы\n",
    "plt.figure(figsize=(12, 6))\n",
    "filtered['Power'].plot(kind='hist', bins=50, color='skyblue', edgecolor='black')\n",
    "plt.title('Распределение мощности (Power)', fontsize=16)\n",
    "plt.xlabel('Мощность (л.с.)', fontsize=14)\n",
    "plt.ylabel('Количество автомобилей', fontsize=14)\n",
    "plt.grid(axis='y', linestyle='--', alpha=0.7)\n",
    "plt.tight_layout()\n",
    "plt.show()"
   ]
  },
  {
   "cell_type": "code",
   "execution_count": 74,
   "metadata": {},
   "outputs": [
    {
     "data": {
      "image/png": "[encoded data removed]",
      "text/plain": [
       "<Figure size 1200x600 with 1 Axes>"
      ]
     },
     "metadata": {},
     "output_type": "display_data"
    }
   ],
   "source": [
    "# Фильтрация\n",
    "filtered = data[(data['Power'] >= 300) & (data['Power'] <= 459)]\n",
    "\n",
    "# Построение гистограммы\n",
    "plt.figure(figsize=(12, 6))\n",
    "\n",
    "filtered['Power'].plot(kind='hist', bins=30, color='skyblue', edgecolor='black')\n",
    "plt.title('Распределение мощности (Power)', fontsize=16)\n",
    "plt.xlabel('Мощность (л.с.)', fontsize=14)\n",
    "plt.ylabel('Количество автомобилей', fontsize=14)\n",
    "plt.grid(axis='y', linestyle='--', alpha=0.7)\n",
    "plt.tight_layout()\n",
    "plt.show()"
   ]
  },
  {
   "cell_type": "code",
   "execution_count": 75,
   "metadata": {},
   "outputs": [
    {
     "data": {
      "image/png": "[encoded data removed]",
      "text/plain": [
       "<Figure size 1000x600 with 1 Axes>"
      ]
     },
     "metadata": {},
     "output_type": "display_data"
    },
    {
     "data": {
      "image/png": "[encoded data removed]",
      "text/plain": [
       "<Figure size 1000x200 with 1 Axes>"
      ]
     },
     "metadata": {},
     "output_type": "display_data"
    }
   ],
   "source": [
    "\n",
    "# Гистограмма для Price\n",
    "\n",
    "data['Price'].plot(kind='hist', bins=50, figsize=(10,6), color='skyblue', edgecolor='black')\n",
    "plt.title('Распределение цен')\n",
    "plt.xlabel('Цена')\n",
    "plt.ylabel('Количество')\n",
    "plt.grid(True)\n",
    "plt.show()\n",
    "\n",
    "# Box plot для Price\n",
    "\n",
    "\n",
    "plt.figure(figsize=(10, 2))\n",
    "sns.boxplot(x=data['Price'], color='skyblue')\n",
    "plt.title('Boxplot цен')\n",
    "plt.xlabel('Цена')\n",
    "plt.grid(True)\n",
    "plt.show()\n"
   ]
  },
  {
   "cell_type": "code",
   "execution_count": 76,
   "metadata": {},
   "outputs": [
    {
     "data": {
      "text/plain": [
       "np.int64(58660)"
      ]
     },
     "execution_count": 76,
     "metadata": {},
     "output_type": "execute_result"
    }
   ],
   "source": [
    "data.query('Price >6800 and Price < 14000')['Price'].count()"
   ]
  },
  {
   "cell_type": "code",
   "execution_count": 77,
   "metadata": {},
   "outputs": [
    {
     "data": {
      "text/plain": [
       "np.int64(18721)"
      ]
     },
     "execution_count": 77,
     "metadata": {},
     "output_type": "execute_result"
    }
   ],
   "source": [
    "data.query('Price > 14000')['Price'].count()"
   ]
  },
  {
   "cell_type": "code",
   "execution_count": 78,
   "metadata": {},
   "outputs": [
    {
     "data": {
      "text/plain": [
       "np.int64(14210)"
      ]
     },
     "execution_count": 78,
     "metadata": {},
     "output_type": "execute_result"
    }
   ],
   "source": [
    "data.query('Price > 15000')['Price'].count()"
   ]
  },
  {
   "cell_type": "code",
   "execution_count": 79,
   "metadata": {},
   "outputs": [
    {
     "data": {
      "text/plain": [
       "np.int64(2312)"
      ]
     },
     "execution_count": 79,
     "metadata": {},
     "output_type": "execute_result"
    }
   ],
   "source": [
    "data.query('Price > 19000')['Price'].count()"
   ]
  },
  {
   "cell_type": "code",
   "execution_count": 80,
   "metadata": {},
   "outputs": [
    {
     "name": "stdout",
     "output_type": "stream",
     "text": [
      "Q1: 1100.0, Q2 (median): 2800.0, Q3: 6500.0\n",
      "IQR: 5400.0\n",
      "Whisker bounds: -7000.0 ... 14600.0\n"
     ]
    }
   ],
   "source": [
    "q1 = data['Price'].quantile(0.25)\n",
    "q2 = data['Price'].median()\n",
    "q3 = data['Price'].quantile(0.75)\n",
    "iqr = q3 - q1\n",
    "lower_bound = q1 - 1.5 * iqr\n",
    "upper_bound = q3 + 1.5 * iqr\n",
    "\n",
    "print(f\"Q1: {q1}, Q2 (median): {q2}, Q3: {q3}\")\n",
    "print(f\"IQR: {iqr}\")\n",
    "print(f\"Whisker bounds: {lower_bound} ... {upper_bound}\")\n"
   ]
  },
  {
   "cell_type": "code",
   "execution_count": 81,
   "metadata": {},
   "outputs": [
    {
     "name": "stdout",
     "output_type": "stream",
     "text": [
      "Количество левее upper_bound: 313095\n",
      "Количество правее upper_bound: 16796\n",
      "Отношение 0.05\n"
     ]
    }
   ],
   "source": [
    "per1 = len(data[data['Price'] < upper_bound])\n",
    "per2 = len(data[data['Price'] > upper_bound])\n",
    "per3 = per2/per1\n",
    "print('Количество левее upper_bound:', per1)\n",
    "print('Количество правее upper_bound:', per2)\n",
    "print(f'Отношение {per3:.2f}')"
   ]
  },
  {
   "cell_type": "code",
   "execution_count": 82,
   "metadata": {},
   "outputs": [
    {
     "name": "stdout",
     "output_type": "stream",
     "text": [
      "Общее количество выбросов: 36871\n"
     ]
    }
   ],
   "source": [
    "def count_and_replace_price_outliers_with_median(df, min_price=300):\n",
    "    df = df.copy()\n",
    "    outliers_counts = {}\n",
    "\n",
    "    # Группируем по Brand и Model\n",
    "    for (brand, model), group in df.groupby(['Brand', 'Model']):\n",
    "        q1 = group['Price'].quantile(0.25)\n",
    "        q3 = group['Price'].quantile(0.75)\n",
    "        iqr = q3 - q1\n",
    "\n",
    "        lower = q1 - 1.5 * iqr\n",
    "        upper = q3 + 1.5 * iqr\n",
    "        median = round(group['Price'].median())\n",
    "\n",
    "        outliers_mask = (group['Price'] < lower) | (group['Price'] > upper) | (group['Price'] < min_price)\n",
    "        outliers_idx = group[outliers_mask].index\n",
    "\n",
    "        outliers_counts[(brand, model)] = len(outliers_idx)\n",
    "\n",
    "        df.loc[outliers_idx, 'Price'] = median\n",
    "        \n",
    "    total_outliers = sum(count for count in outliers_counts.values())\n",
    "    print(f\"Общее количество выбросов: {total_outliers}\")    \n",
    "\n",
    "    # print(\"Количество выбросов по бренду и модели:\")\n",
    "    # for (brand, model), count in outliers_counts.items():\n",
    "    #     if count > 0:\n",
    "    #         print(f\"{brand} / {model}: {count}\")\n",
    "    # return df\n",
    "\n",
    "count_and_replace_price_outliers_with_median(data)"
   ]
  },
  {
   "cell_type": "markdown",
   "metadata": {},
   "source": [
    "Скорректируем цены, которые выходят за правую границу по бренду и модели"
   ]
  },
  {
   "cell_type": "code",
   "execution_count": 83,
   "metadata": {},
   "outputs": [],
   "source": [
    "# Замена Price == 0  на медиану по модели.\n",
    "\n",
    "# 1. Медианы по Model и Brand:\n",
    "price_median_by_model = data[data['Price'] > 0].groupby('Model')['Price'].median()\n",
    "# Если модель other, то по Brand:\n",
    "price_median_by_brand = data[data['Price'] > 0].groupby('Brand')['Price'].median()\n",
    "overall_median = data[data['Price'] > 0]['Price'].median()\n",
    "\n",
    "# 2. Маска строк с нулевой ценой\n",
    "zero_price_mask = data['Price'] == 0\n",
    "\n",
    "# 3. Функция для замены\n",
    "def fill_zero_price(row):\n",
    "    if row['Price'] > 0:\n",
    "        return row['Price']\n",
    "    \n",
    "    model = row['Model']\n",
    "    brand = row['Brand']\n",
    "    \n",
    "    if pd.notna(model) and model != 'other' and model in price_median_by_model:\n",
    "        return round(price_median_by_model[model])\n",
    "    elif pd.notna(brand) and brand in price_median_by_brand:\n",
    "        return round(price_median_by_brand[brand])\n",
    "    else:\n",
    "        return round(overall_median)\n",
    "\n",
    "# 4. Применяем\n",
    "data.loc[zero_price_mask, 'Price'] = data.loc[zero_price_mask].apply(fill_zero_price, axis=1).astype(int)\n"
   ]
  },
  {
   "cell_type": "code",
   "execution_count": 84,
   "metadata": {},
   "outputs": [
    {
     "name": "stdout",
     "output_type": "stream",
     "text": [
      "Q1: 1200.0, Q2 (median): 2900.0, Q3: 6500.0\n",
      "IQR: 5300.0\n",
      "Whisker bounds: 140.0 ... 17630.0\n"
     ]
    }
   ],
   "source": [
    "q1 = data['Price'].quantile(0.25)\n",
    "q2 = data['Price'].median()\n",
    "q3 = data['Price'].quantile(0.75)\n",
    "iqr = q3 - q1\n",
    "lower_bound = q1 - 0.2 * iqr\n",
    "upper_bound = q3 + 2.1 * iqr\n",
    "\n",
    "print(f\"Q1: {q1}, Q2 (median): {q2}, Q3: {q3}\")\n",
    "print(f\"IQR: {iqr}\")\n",
    "print(f\"Whisker bounds: {lower_bound} ... {upper_bound}\")\n"
   ]
  },
  {
   "cell_type": "code",
   "execution_count": 85,
   "metadata": {},
   "outputs": [],
   "source": [
    "def replace_price_outliers_with_median(df, min_price=100):\n",
    "    df = df.copy()\n",
    "\n",
    "    for model, group in df.groupby('Model'):\n",
    "        q1 = group['Price'].quantile(0.25)\n",
    "        q3 = group['Price'].quantile(0.75)\n",
    "        iqr = q3 - q1\n",
    "\n",
    "        lower = q1 - 0.2 * iqr\n",
    "        upper = q3 + 2.1 * iqr\n",
    "        median = round(group['Price'].median())\n",
    "\n",
    "        # выбросы по IQR и по нижнему порогу\n",
    "        outliers_mask = (group['Price'] < lower) | (group['Price'] > upper) | (group['Price'] < min_price)\n",
    "\n",
    "        # заменяем по ИНДЕКСАМ внутри исходного df\n",
    "        outliers_idx = group[outliers_mask].index\n",
    "        df.loc[outliers_idx, 'Price'] = median\n",
    "\n",
    "    return df\n"
   ]
  },
  {
   "cell_type": "code",
   "execution_count": 86,
   "metadata": {},
   "outputs": [
    {
     "name": "stdout",
     "output_type": "stream",
     "text": [
      "(154, 1)\n",
      "Empty DataFrame\n",
      "Columns: [Price]\n",
      "Index: []\n"
     ]
    }
   ],
   "source": [
    "print(data.query('Model == \"3er\" and Price < 100')[['Price']].shape)\n",
    "\n",
    "data = replace_price_outliers_with_median(data, min_price=300)\n",
    "\n",
    "print(data.query('Model == \"3er\" and Price < 100')[['Price']].head())\n"
   ]
  },
  {
   "cell_type": "code",
   "execution_count": 87,
   "metadata": {},
   "outputs": [
    {
     "name": "stdout",
     "output_type": "stream",
     "text": [
      "Q1: 1450.0, Q2 (median): 2950.0, Q3: 6100.0\n",
      "IQR: 4650.0\n",
      "Whisker bounds: 520.0 ... 15865.0\n"
     ]
    }
   ],
   "source": [
    "q1 = data['Price'].quantile(0.25)\n",
    "q2 = data['Price'].median()\n",
    "q3 = data['Price'].quantile(0.75)\n",
    "iqr = q3 - q1\n",
    "lower_bound = q1 - 0.2 * iqr\n",
    "upper_bound = q3 + 2.1 * iqr\n",
    "\n",
    "print(f\"Q1: {q1}, Q2 (median): {q2}, Q3: {q3}\")\n",
    "print(f\"IQR: {iqr}\")\n",
    "print(f\"Whisker bounds: {lower_bound} ... {upper_bound}\")\n"
   ]
  },
  {
   "cell_type": "markdown",
   "metadata": {},
   "source": [
    "Можно попробовать прологарифмировать таргет, так как на линейные модели выбросы влияют, а на градиентный бустинг вроде бы и нет. Будет несколько таргетов"
   ]
  },
  {
   "cell_type": "code",
   "execution_count": 88,
   "metadata": {},
   "outputs": [
    {
     "data": {
      "image/png": "[encoded data removed]",
      "text/plain": [
       "<Figure size 1000x600 with 1 Axes>"
      ]
     },
     "metadata": {},
     "output_type": "display_data"
    },
    {
     "data": {
      "image/png": "[encoded data removed]",
      "text/plain": [
       "<Figure size 1000x200 with 1 Axes>"
      ]
     },
     "metadata": {},
     "output_type": "display_data"
    }
   ],
   "source": [
    "# Гистограмма для Price\n",
    "\n",
    "data['Price'].plot(kind='hist', bins=50, figsize=(10,6), color='skyblue', edgecolor='black')\n",
    "plt.title('Распределение цен')\n",
    "plt.xlabel('Цена')\n",
    "plt.ylabel('Количество')\n",
    "plt.grid(True)\n",
    "plt.show()\n",
    "\n",
    "# Box plot для Price\n",
    "\n",
    "\n",
    "plt.figure(figsize=(10, 2))\n",
    "sns.boxplot(x=data['Price'], color='skyblue')\n",
    "plt.title('Boxplot цен')\n",
    "plt.xlabel('Цена')\n",
    "plt.grid(True)\n",
    "plt.show()\n"
   ]
  },
  {
   "cell_type": "code",
   "execution_count": 89,
   "metadata": {},
   "outputs": [
    {
     "name": "stdout",
     "output_type": "stream",
     "text": [
      "Количество ниже границы: 321108\n",
      "Количество выше границы: 8879\n",
      "Отношение 0.03\n"
     ]
    }
   ],
   "source": [
    "per1 = len(data[data['Price'] < upper_bound])\n",
    "per2 = len(data[data['Price'] > upper_bound])\n",
    "per3 = per2/per1\n",
    "print('Количество ниже границы:', per1)\n",
    "print('Количество выше границы:', per2)\n",
    "print(f'Отношение {per3:.2f}')"
   ]
  },
  {
   "cell_type": "code",
   "execution_count": 90,
   "metadata": {},
   "outputs": [
    {
     "data": {
      "text/html": [
       "<div>\n",
       "<style scoped>\n",
       "    .dataframe tbody tr th:only-of-type {\n",
       "        vertical-align: middle;\n",
       "    }\n",
       "\n",
       "    .dataframe tbody tr th {\n",
       "        vertical-align: top;\n",
       "    }\n",
       "\n",
       "    .dataframe thead th {\n",
       "        text-align: right;\n",
       "    }\n",
       "</style>\n",
       "<table border=\"1\" class=\"dataframe\">\n",
       "  <thead>\n",
       "    <tr style=\"text-align: right;\">\n",
       "      <th></th>\n",
       "      <th>DateCrawled</th>\n",
       "      <th>Price</th>\n",
       "      <th>VehicleType</th>\n",
       "      <th>RegistrationYear</th>\n",
       "      <th>Gearbox</th>\n",
       "      <th>Power</th>\n",
       "      <th>Model</th>\n",
       "      <th>Kilometer</th>\n",
       "      <th>RegistrationMonth</th>\n",
       "      <th>FuelType</th>\n",
       "      <th>Brand</th>\n",
       "      <th>Repaired</th>\n",
       "      <th>DateCreated</th>\n",
       "      <th>PostalCode</th>\n",
       "      <th>LastSeen</th>\n",
       "      <th>BrandClass</th>\n",
       "    </tr>\n",
       "  </thead>\n",
       "  <tbody>\n",
       "    <tr>\n",
       "      <th>0</th>\n",
       "      <td>2016-03-24 11:52:17</td>\n",
       "      <td>480</td>\n",
       "      <td>sedan</td>\n",
       "      <td>1993</td>\n",
       "      <td>manual</td>\n",
       "      <td>75.0</td>\n",
       "      <td>golf</td>\n",
       "      <td>150000</td>\n",
       "      <td>0</td>\n",
       "      <td>petrol</td>\n",
       "      <td>volkswagen</td>\n",
       "      <td>unknown</td>\n",
       "      <td>2016-03-24</td>\n",
       "      <td>70435</td>\n",
       "      <td>2016-04-07 03:16:57</td>\n",
       "      <td>mass</td>\n",
       "    </tr>\n",
       "    <tr>\n",
       "      <th>16</th>\n",
       "      <td>2016-04-01 12:46:46</td>\n",
       "      <td>300</td>\n",
       "      <td>small</td>\n",
       "      <td>2016</td>\n",
       "      <td>manual</td>\n",
       "      <td>60.0</td>\n",
       "      <td>polo</td>\n",
       "      <td>150000</td>\n",
       "      <td>0</td>\n",
       "      <td>petrol</td>\n",
       "      <td>volkswagen</td>\n",
       "      <td>unknown</td>\n",
       "      <td>2016-04-01</td>\n",
       "      <td>38871</td>\n",
       "      <td>2016-04-01 12:46:46</td>\n",
       "      <td>mass</td>\n",
       "    </tr>\n",
       "    <tr>\n",
       "      <th>81</th>\n",
       "      <td>2016-04-03 12:56:45</td>\n",
       "      <td>350</td>\n",
       "      <td>small</td>\n",
       "      <td>1997</td>\n",
       "      <td>manual</td>\n",
       "      <td>54.0</td>\n",
       "      <td>punto</td>\n",
       "      <td>150000</td>\n",
       "      <td>3</td>\n",
       "      <td>petrol</td>\n",
       "      <td>fiat</td>\n",
       "      <td>yes</td>\n",
       "      <td>2016-04-03</td>\n",
       "      <td>45665</td>\n",
       "      <td>2016-04-05 11:47:13</td>\n",
       "      <td>budget</td>\n",
       "    </tr>\n",
       "    <tr>\n",
       "      <th>104</th>\n",
       "      <td>2016-03-20 12:59:39</td>\n",
       "      <td>300</td>\n",
       "      <td>convertible</td>\n",
       "      <td>1992</td>\n",
       "      <td>manual</td>\n",
       "      <td>105.0</td>\n",
       "      <td>escort</td>\n",
       "      <td>150000</td>\n",
       "      <td>0</td>\n",
       "      <td>petrol</td>\n",
       "      <td>ford</td>\n",
       "      <td>yes</td>\n",
       "      <td>2016-03-20</td>\n",
       "      <td>88515</td>\n",
       "      <td>2016-04-06 13:15:58</td>\n",
       "      <td>mass</td>\n",
       "    </tr>\n",
       "    <tr>\n",
       "      <th>110</th>\n",
       "      <td>2016-04-03 03:57:26</td>\n",
       "      <td>350</td>\n",
       "      <td>small</td>\n",
       "      <td>1998</td>\n",
       "      <td>manual</td>\n",
       "      <td>55.0</td>\n",
       "      <td>corsa</td>\n",
       "      <td>150000</td>\n",
       "      <td>2</td>\n",
       "      <td>petrol</td>\n",
       "      <td>opel</td>\n",
       "      <td>unknown</td>\n",
       "      <td>2016-04-03</td>\n",
       "      <td>82110</td>\n",
       "      <td>2016-04-03 08:53:37</td>\n",
       "      <td>mass</td>\n",
       "    </tr>\n",
       "    <tr>\n",
       "      <th>...</th>\n",
       "      <td>...</td>\n",
       "      <td>...</td>\n",
       "      <td>...</td>\n",
       "      <td>...</td>\n",
       "      <td>...</td>\n",
       "      <td>...</td>\n",
       "      <td>...</td>\n",
       "      <td>...</td>\n",
       "      <td>...</td>\n",
       "      <td>...</td>\n",
       "      <td>...</td>\n",
       "      <td>...</td>\n",
       "      <td>...</td>\n",
       "      <td>...</td>\n",
       "      <td>...</td>\n",
       "      <td>...</td>\n",
       "    </tr>\n",
       "    <tr>\n",
       "      <th>354219</th>\n",
       "      <td>2016-03-24 20:50:22</td>\n",
       "      <td>400</td>\n",
       "      <td>small</td>\n",
       "      <td>1996</td>\n",
       "      <td>auto</td>\n",
       "      <td>101.0</td>\n",
       "      <td>astra</td>\n",
       "      <td>150000</td>\n",
       "      <td>3</td>\n",
       "      <td>petrol</td>\n",
       "      <td>opel</td>\n",
       "      <td>no</td>\n",
       "      <td>2016-03-24</td>\n",
       "      <td>45663</td>\n",
       "      <td>2016-03-27 17:47:10</td>\n",
       "      <td>mass</td>\n",
       "    </tr>\n",
       "    <tr>\n",
       "      <th>354266</th>\n",
       "      <td>2016-03-31 16:37:05</td>\n",
       "      <td>399</td>\n",
       "      <td>small</td>\n",
       "      <td>1992</td>\n",
       "      <td>manual</td>\n",
       "      <td>45.0</td>\n",
       "      <td>polo</td>\n",
       "      <td>150000</td>\n",
       "      <td>4</td>\n",
       "      <td>petrol</td>\n",
       "      <td>volkswagen</td>\n",
       "      <td>unknown</td>\n",
       "      <td>2016-03-31</td>\n",
       "      <td>74592</td>\n",
       "      <td>2016-03-31 16:37:05</td>\n",
       "      <td>mass</td>\n",
       "    </tr>\n",
       "    <tr>\n",
       "      <th>354318</th>\n",
       "      <td>2016-03-15 19:57:11</td>\n",
       "      <td>400</td>\n",
       "      <td>wagon</td>\n",
       "      <td>1991</td>\n",
       "      <td>manual</td>\n",
       "      <td>109.5</td>\n",
       "      <td>legacy</td>\n",
       "      <td>150000</td>\n",
       "      <td>0</td>\n",
       "      <td>petrol</td>\n",
       "      <td>subaru</td>\n",
       "      <td>unknown</td>\n",
       "      <td>2016-03-15</td>\n",
       "      <td>24558</td>\n",
       "      <td>2016-03-19 15:49:00</td>\n",
       "      <td>mass</td>\n",
       "    </tr>\n",
       "    <tr>\n",
       "      <th>354329</th>\n",
       "      <td>2016-03-30 20:55:30</td>\n",
       "      <td>350</td>\n",
       "      <td>small</td>\n",
       "      <td>1996</td>\n",
       "      <td>manual</td>\n",
       "      <td>65.0</td>\n",
       "      <td>punto</td>\n",
       "      <td>150000</td>\n",
       "      <td>0</td>\n",
       "      <td>petrol</td>\n",
       "      <td>fiat</td>\n",
       "      <td>unknown</td>\n",
       "      <td>2016-03-30</td>\n",
       "      <td>25436</td>\n",
       "      <td>2016-04-07 13:50:41</td>\n",
       "      <td>budget</td>\n",
       "    </tr>\n",
       "    <tr>\n",
       "      <th>354335</th>\n",
       "      <td>2016-04-04 14:41:28</td>\n",
       "      <td>390</td>\n",
       "      <td>small</td>\n",
       "      <td>1997</td>\n",
       "      <td>auto</td>\n",
       "      <td>60.0</td>\n",
       "      <td>corsa</td>\n",
       "      <td>100000</td>\n",
       "      <td>6</td>\n",
       "      <td>petrol</td>\n",
       "      <td>opel</td>\n",
       "      <td>yes</td>\n",
       "      <td>2016-04-04</td>\n",
       "      <td>17509</td>\n",
       "      <td>2016-04-06 15:46:11</td>\n",
       "      <td>mass</td>\n",
       "    </tr>\n",
       "  </tbody>\n",
       "</table>\n",
       "<p>8395 rows × 16 columns</p>\n",
       "</div>"
      ],
      "text/plain": [
       "               DateCrawled  Price  VehicleType  RegistrationYear Gearbox  \\\n",
       "0      2016-03-24 11:52:17    480        sedan              1993  manual   \n",
       "16     2016-04-01 12:46:46    300        small              2016  manual   \n",
       "81     2016-04-03 12:56:45    350        small              1997  manual   \n",
       "104    2016-03-20 12:59:39    300  convertible              1992  manual   \n",
       "110    2016-04-03 03:57:26    350        small              1998  manual   \n",
       "...                    ...    ...          ...               ...     ...   \n",
       "354219 2016-03-24 20:50:22    400        small              1996    auto   \n",
       "354266 2016-03-31 16:37:05    399        small              1992  manual   \n",
       "354318 2016-03-15 19:57:11    400        wagon              1991  manual   \n",
       "354329 2016-03-30 20:55:30    350        small              1996  manual   \n",
       "354335 2016-04-04 14:41:28    390        small              1997    auto   \n",
       "\n",
       "        Power   Model  Kilometer  RegistrationMonth FuelType       Brand  \\\n",
       "0        75.0    golf     150000                  0   petrol  volkswagen   \n",
       "16       60.0    polo     150000                  0   petrol  volkswagen   \n",
       "81       54.0   punto     150000                  3   petrol        fiat   \n",
       "104     105.0  escort     150000                  0   petrol        ford   \n",
       "110      55.0   corsa     150000                  2   petrol        opel   \n",
       "...       ...     ...        ...                ...      ...         ...   \n",
       "354219  101.0   astra     150000                  3   petrol        opel   \n",
       "354266   45.0    polo     150000                  4   petrol  volkswagen   \n",
       "354318  109.5  legacy     150000                  0   petrol      subaru   \n",
       "354329   65.0   punto     150000                  0   petrol        fiat   \n",
       "354335   60.0   corsa     100000                  6   petrol        opel   \n",
       "\n",
       "       Repaired DateCreated  PostalCode            LastSeen BrandClass  \n",
       "0       unknown  2016-03-24       70435 2016-04-07 03:16:57       mass  \n",
       "16      unknown  2016-04-01       38871 2016-04-01 12:46:46       mass  \n",
       "81          yes  2016-04-03       45665 2016-04-05 11:47:13     budget  \n",
       "104         yes  2016-03-20       88515 2016-04-06 13:15:58       mass  \n",
       "110     unknown  2016-04-03       82110 2016-04-03 08:53:37       mass  \n",
       "...         ...         ...         ...                 ...        ...  \n",
       "354219       no  2016-03-24       45663 2016-03-27 17:47:10       mass  \n",
       "354266  unknown  2016-03-31       74592 2016-03-31 16:37:05       mass  \n",
       "354318  unknown  2016-03-15       24558 2016-03-19 15:49:00       mass  \n",
       "354329  unknown  2016-03-30       25436 2016-04-07 13:50:41     budget  \n",
       "354335      yes  2016-04-04       17509 2016-04-06 15:46:11       mass  \n",
       "\n",
       "[8395 rows x 16 columns]"
      ]
     },
     "execution_count": 90,
     "metadata": {},
     "output_type": "execute_result"
    }
   ],
   "source": [
    "data.query('Price < 500')"
   ]
  },
  {
   "cell_type": "code",
   "execution_count": 91,
   "metadata": {},
   "outputs": [
    {
     "name": "stdout",
     "output_type": "stream",
     "text": [
      "Model    8395\n",
      "Price    8395\n",
      "dtype: int64\n"
     ]
    }
   ],
   "source": [
    "print(data.query('Price < 500')[['Model', 'Price']].count())\n"
   ]
  },
  {
   "cell_type": "markdown",
   "metadata": {},
   "source": [
    "Решил выкинуть 3.0% данных — пусть модель не захлёбывается в шуме:\n",
    "\n",
    "Будет надежная модель.\n",
    "Любые аномально низкие, шумные или искусственные значения будут: тянуть модель вниз, искажать распределение, портить rmse, снижать обобщающую способность."
   ]
  },
  {
   "cell_type": "code",
   "execution_count": 92,
   "metadata": {},
   "outputs": [],
   "source": [
    "data = data[data['Price'] >= 500]\n"
   ]
  },
  {
   "cell_type": "code",
   "execution_count": 93,
   "metadata": {},
   "outputs": [],
   "source": [
    "#Летс гооу"
   ]
  },
  {
   "cell_type": "markdown",
   "metadata": {},
   "source": [
    "Мб буду использовать:"
   ]
  },
  {
   "cell_type": "code",
   "execution_count": 94,
   "metadata": {},
   "outputs": [],
   "source": [
    "data['Price_log'] = np.log1p(data['Price'])"
   ]
  },
  {
   "cell_type": "code",
   "execution_count": 95,
   "metadata": {},
   "outputs": [
    {
     "data": {
      "image/png": "[encoded data removed]",
      "text/plain": [
       "<Figure size 1300x600 with 1 Axes>"
      ]
     },
     "metadata": {},
     "output_type": "display_data"
    }
   ],
   "source": [
    "# Получаем частоты\n",
    "vehicle_counts = data['VehicleType'].value_counts()\n",
    "\n",
    "# Строим диаграмму\n",
    "vehicle_counts.plot(kind='bar', figsize=(13, 6), color='skyblue', edgecolor='black')\n",
    "\n",
    "# Оформление\n",
    "\n",
    "plt.title('Распределение типов кузова (VehicleType)', fontsize=16)\n",
    "#plt.xlabel('Тип кузова', fontsize=14)\n",
    "#plt.ylabel('Количество', fontsize=14)\n",
    "plt.xticks(rotation=45, fontsize=14)\n",
    "plt.yticks(fontsize=14)\n",
    "plt.grid(axis='y', linestyle='--', alpha=0.8)\n",
    "\n",
    "plt.tight_layout()\n",
    "plt.show()\n"
   ]
  },
  {
   "cell_type": "code",
   "execution_count": 96,
   "metadata": {},
   "outputs": [
    {
     "data": {
      "image/png": "[encoded data removed]",
      "text/plain": [
       "<Figure size 1300x600 with 1 Axes>"
      ]
     },
     "metadata": {},
     "output_type": "display_data"
    }
   ],
   "source": [
    "# Получаем частоты\n",
    "vehicle_counts = data['Model'].value_counts().head(20)\n",
    "\n",
    "# Строим диаграмму\n",
    "vehicle_counts.plot(kind='bar', figsize=(13, 6), color='skyblue', edgecolor='black')\n",
    "\n",
    "# Оформление\n",
    "\n",
    "plt.title('Распределение типов кузова (VehicleType)', fontsize=16)\n",
    "plt.xlabel('Тип кузова', fontsize=14)\n",
    "plt.ylabel('Количество', fontsize=14)\n",
    "plt.xticks(rotation=45, fontsize=14)\n",
    "plt.yticks(fontsize=14)\n",
    "plt.grid(axis='y', linestyle='--', alpha=0.8)\n",
    "\n",
    "plt.tight_layout()\n",
    "plt.show()\n"
   ]
  },
  {
   "cell_type": "code",
   "execution_count": 97,
   "metadata": {},
   "outputs": [
    {
     "data": {
      "image/png": "[encoded data removed]",
      "text/plain": [
       "<Figure size 1200x600 with 1 Axes>"
      ]
     },
     "metadata": {},
     "output_type": "display_data"
    }
   ],
   "source": [
    "data['RegistrationYear'].plot(kind='hist', bins=30, figsize=(12,6), color='skyblue', edgecolor='black')\n",
    "plt.title('Распределение года регистрации автомобилей')\n",
    "plt.xlabel('Год регистрации')\n",
    "plt.ylabel('Количество')\n",
    "plt.grid(True)\n",
    "plt.show()\n"
   ]
  },
  {
   "cell_type": "code",
   "execution_count": 98,
   "metadata": {},
   "outputs": [
    {
     "data": {
      "text/plain": [
       "array([ 5,  8,  6,  7, 10,  0, 12, 11,  2,  3,  1,  4,  9])"
      ]
     },
     "execution_count": 98,
     "metadata": {},
     "output_type": "execute_result"
    }
   ],
   "source": [
    "data.RegistrationMonth.unique()"
   ]
  },
  {
   "cell_type": "markdown",
   "metadata": {},
   "source": [
    "Это что такое?? Это почему это с 0 до 12. "
   ]
  },
  {
   "cell_type": "code",
   "execution_count": 99,
   "metadata": {},
   "outputs": [
    {
     "data": {
      "text/plain": [
       "RegistrationMonth\n",
       "3     32004\n",
       "0     30261\n",
       "6     28663\n",
       "4     26715\n",
       "5     26550\n",
       "7     24668\n",
       "10    24065\n",
       "12    22365\n",
       "11    22320\n",
       "9     22006\n",
       "1     21502\n",
       "8     20699\n",
       "2     19774\n",
       "Name: count, dtype: int64"
      ]
     },
     "execution_count": 99,
     "metadata": {},
     "output_type": "execute_result"
    }
   ],
   "source": [
    "data.RegistrationMonth.value_counts()"
   ]
  },
  {
   "cell_type": "markdown",
   "metadata": {},
   "source": [
    "0 – это либо: \n",
    "* пропущенные значения, которые закодированы как 0\n",
    "* специально введённые «нулевые» значения (например, когда месяц неизвестен).\n",
    "\n",
    "                                           Ну просто не будем использовать этот столбец при обучении лин. рег"
   ]
  },
  {
   "cell_type": "code",
   "execution_count": 100,
   "metadata": {},
   "outputs": [
    {
     "name": "stdout",
     "output_type": "stream",
     "text": [
      "FuelType\n",
      "petrol      216682\n",
      "gasoline     98908\n",
      "lpg           5027\n",
      "cng            522\n",
      "hybrid         217\n",
      "other          149\n",
      "electric        87\n",
      "Name: count, dtype: int64\n"
     ]
    }
   ],
   "source": [
    "print(data['FuelType'].value_counts())\n"
   ]
  },
  {
   "cell_type": "code",
   "execution_count": 101,
   "metadata": {},
   "outputs": [
    {
     "data": {
      "text/plain": [
       "array(['gasoline', 'petrol', 'lpg', 'other', 'hybrid', 'cng', 'electric'],\n",
       "      dtype=object)"
      ]
     },
     "execution_count": 101,
     "metadata": {},
     "output_type": "execute_result"
    }
   ],
   "source": [
    "data.FuelType.unique()"
   ]
  },
  {
   "cell_type": "code",
   "execution_count": 102,
   "metadata": {},
   "outputs": [],
   "source": [
    "data['FuelType'] = data['FuelType'].replace('gasoline', 'petrol')"
   ]
  },
  {
   "cell_type": "markdown",
   "metadata": {},
   "source": [
    "gasoline для сша, а petrol обычно у всех остальных. В целом тот же самый бензин, но цены в Америке могут быть выше."
   ]
  },
  {
   "cell_type": "markdown",
   "metadata": {},
   "source": [
    "<div class=\"alert alert-warning\" style=\"border-radius: 15px; box-shadow: 4px 4px 4px; border: 1px solid \">\n",
    "<h2> Комментарий ревьюера  ⚠️</h2>\n",
    "    \n",
    "    \n",
    "Имеет смысл тогда переименовать одно из них. Так ты сократишь пространство признаков. \n",
    "    \n",
    "</div>"
   ]
  },
  {
   "cell_type": "markdown",
   "metadata": {},
   "source": [
    "<div style=\"border-radius: 15px; border: 2px solid steelblue; background-color: lavender; padding: 15px;\">\n",
    "  <h3>🧑‍🎓 Комментарий студента 🖋️ Версия 1.0 </h3>\n",
    "Хорошо. Сделал\n",
    "  \n",
    "</div>\n"
   ]
  },
  {
   "cell_type": "markdown",
   "metadata": {},
   "source": [
    "Предобработка данных на этом этапе окончена. Можно но не хочется делать графики."
   ]
  },
  {
   "cell_type": "markdown",
   "metadata": {},
   "source": [
    "## Создание фичей / Кодирование данных"
   ]
  },
  {
   "cell_type": "markdown",
   "metadata": {},
   "source": [
    "Здесь я смотрю столбцы и выбираю что и как кодировать"
   ]
  },
  {
   "cell_type": "code",
   "execution_count": 103,
   "metadata": {},
   "outputs": [
    {
     "data": {
      "text/plain": [
       "array([2016, 2015, 2014], dtype=int32)"
      ]
     },
     "execution_count": 103,
     "metadata": {},
     "output_type": "execute_result"
    }
   ],
   "source": [
    "# дата создания анкеты\n",
    "data.DateCreated.dt.year.unique()"
   ]
  },
  {
   "cell_type": "code",
   "execution_count": 104,
   "metadata": {},
   "outputs": [
    {
     "data": {
      "text/plain": [
       "array([2016], dtype=int32)"
      ]
     },
     "execution_count": 104,
     "metadata": {},
     "output_type": "execute_result"
    }
   ],
   "source": [
    "data.DateCrawled.dt.year.unique()"
   ]
  },
  {
   "cell_type": "code",
   "execution_count": null,
   "metadata": {},
   "outputs": [],
   "source": [
    "\n"
   ]
  },
  {
   "cell_type": "markdown",
   "metadata": {},
   "source": [
    "<div class=\"alert alert-warning\" style=\"border-radius: 15px; box-shadow: 4px 4px 4px; border: 1px solid \">\n",
    "<h2> Комментарий ревьюера  ⚠️</h2>\n",
    "    \n",
    "Здесь также стоит помнить про то, что автомобиль может быть зарегистрирован множество раз. Так что это не год выпуска модели, а именно год регистрации авто. \n",
    "    \n",
    "</div>"
   ]
  },
  {
   "cell_type": "markdown",
   "metadata": {},
   "source": [
    "<div style=\"border-radius: 15px; border: 2px solid steelblue; background-color: lavender; padding: 15px;\">\n",
    "  <h3>🧑‍🎓 Комментарий студента 🖋️ Версия 1.0 </h3>\n",
    "окак <br>\n",
    "не так понял.\n",
    "убираем car_age\n",
    "  \n",
    "</div>\n"
   ]
  },
  {
   "cell_type": "markdown",
   "metadata": {},
   "source": [
    "<div class=\"alert alert-success\" style=\"border-radius: 15px; box-shadow: 4px 4px 4px; border: 1px solid \">\n",
    "<h2> Комментарий ревьюера 2 ✔️</h2>\n",
    "    \n",
    "Хорошо.\n",
    "\n",
    "</div>"
   ]
  },
  {
   "cell_type": "code",
   "execution_count": 105,
   "metadata": {},
   "outputs": [
    {
     "data": {
      "text/plain": [
       "RegistrationMonth\n",
       "3     32004\n",
       "0     30261\n",
       "6     28663\n",
       "4     26715\n",
       "5     26550\n",
       "7     24668\n",
       "10    24065\n",
       "12    22365\n",
       "11    22320\n",
       "9     22006\n",
       "1     21502\n",
       "8     20699\n",
       "2     19774\n",
       "Name: count, dtype: int64"
      ]
     },
     "execution_count": 105,
     "metadata": {},
     "output_type": "execute_result"
    }
   ],
   "source": [
    "data[\"RegistrationMonth\"].value_counts()"
   ]
  },
  {
   "cell_type": "code",
   "execution_count": null,
   "metadata": {},
   "outputs": [],
   "source": []
  },
  {
   "cell_type": "code",
   "execution_count": 106,
   "metadata": {},
   "outputs": [
    {
     "data": {
      "text/plain": [
       "array([ 5,  8,  6,  7, 10,  0, 12, 11,  2,  3,  1,  4,  9])"
      ]
     },
     "execution_count": 106,
     "metadata": {},
     "output_type": "execute_result"
    }
   ],
   "source": [
    "data[\"RegistrationMonth\"].unique()"
   ]
  },
  {
   "cell_type": "code",
   "execution_count": 107,
   "metadata": {},
   "outputs": [],
   "source": [
    "# Переведем месяцы в сезоны. Может, модель лучше справится?\n",
    "def get_season(month):\n",
    "    if month in [12, 1, 2]:\n",
    "        return \"winter\"\n",
    "    elif month in [3, 4, 5]:\n",
    "        return \"spring\"\n",
    "    elif month in [6, 7, 8]:\n",
    "        return \"summer\"\n",
    "    elif month in [9, 10, 11]:\n",
    "        return \"autumn\"\n",
    "    else:\n",
    "        return \"unknown\"\n",
    "\n",
    "data[\"RegSeason\"] = data[\"RegistrationMonth\"].apply(get_season)"
   ]
  },
  {
   "cell_type": "code",
   "execution_count": 108,
   "metadata": {},
   "outputs": [
    {
     "data": {
      "text/plain": [
       "array(['a4', 'grand', 'golf', 'fabia', '3er', '2_reihe', 'c_max',\n",
       "       '3_reihe', 'passat', 'navara', 'twingo', 'a_klasse', 'scirocco',\n",
       "       '5er', 'arosa', 'other', 'civic', 'punto', 'e_klasse', 'kadett',\n",
       "       'kangoo', 'corsa', 'one', 'fortwo', 'clio', '1er', 'b_klasse',\n",
       "       'signum', 'astra', 'a8', 'jetta', 'polo', 'fiesta', 'c_klasse',\n",
       "       'micra', 'vito', 'sprinter', '156', 'escort', 'forester',\n",
       "       'xc_reihe', 'scenic', 'ka', 'a1', 'insignia', 'transporter',\n",
       "       'combo', 'focus', 'tt', 'a6', 'jazz', 'omega', 'slk', '7er', '80',\n",
       "       '147', '100', 'meriva', 'z_reihe', 'sorento', 'v40', 'ibiza',\n",
       "       'mustang', 'eos', 'touran', 'getz', 'a3', 'megane', 'lupo',\n",
       "       'caddy', 'mondeo', 'cordoba', 'colt', 'impreza', 'vectra',\n",
       "       'berlingo', 'tiguan', 'sharan', '6_reihe', 'c4', 'panda', 'up',\n",
       "       'i_reihe', 'ceed', '5_reihe', 'yeti', 'octavia', 'zafira', 'mii',\n",
       "       'rx_reihe', '6er', 'modus', 'fox', 'matiz', 'beetle', 'c1', 'rio',\n",
       "       'touareg', 'logan', 'spider', 'cuore', 's_max', 'a2', 'galaxy',\n",
       "       'c3', 'viano', 's_klasse', '1_reihe', 'avensis', 'yaris',\n",
       "       'roomster', 'santa', '601', 'cooper', 'leon', '4_reihe', 'a5',\n",
       "       'sportage', 'laguna', 'ptcruiser', 'clk', 'primera', 'espace',\n",
       "       'x_reihe', 'exeo', '159', 'transit', 'juke', 'qashqai', 'carisma',\n",
       "       'accord', 'corolla', 'lanos', 'phaeton', 'verso', 'swift', 'rav',\n",
       "       'picanto', 'boxster', 'kalos', 'superb', 'stilo', 'alhambra',\n",
       "       'mx_reihe', 'roadster', 'ypsilon', 'cayenne', 'galant', '90',\n",
       "       'sirion', 'crossfire', 'agila', 'duster', 'v50', 'c_reihe',\n",
       "       'v_klasse', 'm_klasse', 'c5', 'aygo', 'almera', 'seicento', 'cc',\n",
       "       'fusion', '911', 'bora', 'forfour', 'm_reihe', 'cl', 'tigra',\n",
       "       '300c', '500', 'cr_reihe', 'spark', 'v70', 'kuga', 'x_type',\n",
       "       'ducato', 's_type', 'x_trail', 'toledo', 'altea', 'voyager',\n",
       "       'calibra', 'carnival', 'antara', 'tucson', 'citigo', 'jimny',\n",
       "       'wrangler', 'lybra', 'q7', 'lancer', 'captiva', 'sl', 'discovery',\n",
       "       'freelander', 'sandero', 'note', '900', 'cherokee', 'clubman',\n",
       "       'defender', 'cx_reihe', 'legacy', 'pajero', 'auris', 'c2', 'niva',\n",
       "       's60', 'nubira', 'vivaro', 'g_klasse', 'justy', 'lodgy', '850',\n",
       "       'range_rover', 'q3', 'r19', 'glk', 'charade', 'croma', 'outlander',\n",
       "       'kaefer', 'doblo', 'musa', 'bravo', '9000', 'v60', '145', '200',\n",
       "       'b_max', 'range_rover_sport', 'aveo', 'terios', 'move',\n",
       "       'rangerover', 'q5', 'range_rover_evoque', 'materia', 'gl',\n",
       "       'kalina', 'elefantino', 'delta', 'i3', 'amarok', 'kappa', 'samara'],\n",
       "      dtype=object)"
      ]
     },
     "execution_count": 108,
     "metadata": {},
     "output_type": "execute_result"
    }
   ],
   "source": [
    "data.Model.unique()"
   ]
  },
  {
   "cell_type": "markdown",
   "metadata": {},
   "source": [
    "Это все кодировать безумие, поэтому разделим модели на частоту"
   ]
  },
  {
   "cell_type": "code",
   "execution_count": 109,
   "metadata": {},
   "outputs": [],
   "source": [
    "model_counts = data[\"Model\"].value_counts()\n",
    "data[\"ModelFreq\"] = data[\"Model\"].map(model_counts)\n"
   ]
  },
  {
   "cell_type": "code",
   "execution_count": 110,
   "metadata": {
    "scrolled": true
   },
   "outputs": [
    {
     "data": {
      "text/plain": [
       "array([190. , 163. ,  75. ,  69. , 102. , 109. , 125. , 101. , 105. ,\n",
       "       140. , 115. , 131. , 136. , 160. , 231. ,  50. , 118. , 193. ,\n",
       "        99. ,  60. , 113. , 218. , 122. , 129. ,  70. , 306. ,  95. ,\n",
       "        61. , 177. , 170. ,  55. , 143. , 155. , 286. , 232. ,  45. ,\n",
       "       150. , 156. ,  80. ,  82. ,  90. , 185. ,  87. , 180. ,  86. ,\n",
       "        84. , 224. , 235. , 200. , 178. , 265. ,  77. , 110. , 144. ,\n",
       "       120. ,  54. , 116. , 184. , 126. , 204. ,  88. , 194. ,  58. ,\n",
       "        64. , 305. , 197. , 179. , 250. , 313. ,  41. , 165. ,  98. ,\n",
       "       130. , 114. , 211. ,  56. , 201. , 213. , 107. , 174. , 100. ,\n",
       "       220. ,  73. , 124. , 192. ,  68. ,  66. , 299. ,  74. ,  52. ,\n",
       "       147. , 310. ,  71. ,  97. ,  65. , 239. , 107.5, 203. , 128. ,\n",
       "       300. , 103. ,  85. , 258. , 320. ,  63. ,  81. , 148. ,  83. ,\n",
       "       129.5, 145. , 230. , 280. , 260. , 104. , 121. , 188. , 333. ,\n",
       "       186. , 117. , 141. , 132. , 279. , 234. , 158. ,  39. ,  92. ,\n",
       "        51. , 135. ,  59. ,  53. , 209. ,  43. , 146. ,  67. , 106. ,\n",
       "       166. , 340. , 276. , 344. ,  72. , 249. , 237. , 245. , 111. ,\n",
       "       326. , 138. , 175. , 226. ,  69.5,  37. , 301. , 334. ,  74.5,\n",
       "       133. ,  33. , 219. , 241. , 167. ,  94. , 182. , 196. , 238. ,\n",
       "       228. ,  48. , 164. ,  96. , 272. , 139. , 240. ,  79. , 256. ,\n",
       "       243. , 375. , 252. , 396. , 112.5, 187. , 127.5, 289. , 222. ,\n",
       "       198. , 284. ,  99.5, 450. , 233. , 112. , 387. , 152. , 347. ,\n",
       "       172. ,  44. ,  57. , 137. , 212. ,  56.5, 476. , 314. ,  47. ,\n",
       "       173. , 290. , 207. ,  78. , 205. , 171. ,  91. ,  89. , 349. ,\n",
       "        40. , 108. , 325. ,  76. , 350. ,  93. , 142. , 500. , 343. ,\n",
       "       199. , 119. , 140.5, 124.5, 159. , 264. , 367. , 145.5,  96.5,\n",
       "       208. , 210. ,  46. , 435. ,  81.5, 225. , 127. ,  42. , 176. ,\n",
       "        42.5, 161. , 130.5,  87.5, 307. , 354. ,  35. , 206. , 355. ,\n",
       "       273. , 223. , 255. , 151. , 351. , 100.5, 123. , 154. , 116.5,\n",
       "       149. , 268. ,  75.5, 400. , 275. , 101.5, 242. , 285. , 162. ,\n",
       "       329. , 114.5, 134. , 420. , 247. , 168. , 215. , 360. , 128.5,\n",
       "        36. , 330. , 283. ,  62. ,  34. , 214. , 183. , 254. , 321. ,\n",
       "       315. , 169. ,  51.5, 328. , 600. , 181. , 426. , 177.5, 379. ,\n",
       "        79.5, 157. , 195. , 309. , 507. , 242.5, 381. , 271. , 440. ,\n",
       "       189. , 236. , 521. , 270. , 164.5, 292. , 303. , 345. ,  38. ,\n",
       "       216. , 504. , 192.5,  49. , 267. , 331. , 261. , 253. , 106.5,\n",
       "       142.5, 376. , 227. , 311. , 217. , 394. , 298. ,  86.5,  91.5,\n",
       "       296. , 153. ,  80.5, 515. , 294. , 246. , 368. , 363. , 221. ,\n",
       "       259. ,  92.5, 266. , 374. , 392. , 134.5, 405. , 141.5, 117.5,\n",
       "       132.5, 430. , 295. ,  52.5, 287. , 218.5, 297. ,  70.5, 457. ,\n",
       "       282. ,  82.5, 388. , 385. , 335. , 202. , 118.5,  98.5, 269. ,\n",
       "       460. , 288. , 316. , 191. , 102.5, 250.5, 278. , 179.5, 380. ,\n",
       "       257. , 103.5, 520. , 560. , 281. , 210.5,  94.5, 386. ,  32. ,\n",
       "        66.5, 227.5, 274. ,  85.5, 180.5,  97.5, 277. , 341. , 338. ,\n",
       "       135.5, 517. , 245.5, 371. , 304. , 390. , 348. , 370. , 431. ,\n",
       "       579. ,  46.5, 115.5, 408. ,  31. , 358. , 262. , 585. ,  50.5,\n",
       "       353. , 352. , 122.5, 346. ,  65.5,  89.5, 550. , 445. ,  45.5,\n",
       "        54.5, 251. , 222.5,  49.5, 337. , 365. , 487. , 187.5, 202.5,\n",
       "       519. , 126.5, 229. , 700. , 111.5, 322. ,  64.5, 382. , 259.5,\n",
       "       318. , 510. , 317. , 514. , 332. , 324. , 530. , 167.5, 119.5,\n",
       "       308. , 146.5, 113.5, 475. , 362. , 248. , 505. , 398. , 620. ,\n",
       "       409. ,  76.5, 121.5, 109.5, 357. , 327. , 339. , 361. , 574. ,\n",
       "       191.5, 336. , 161.5, 416. ,  67.5,  68.5,  47.5, 244. , 399. ,\n",
       "       540. ,  72.5, 430.5, 356. , 174.5, 293. , 149.5, 304.5, 508. ,\n",
       "       364. , 485. , 377. , 137.5])"
      ]
     },
     "execution_count": 110,
     "metadata": {},
     "output_type": "execute_result"
    }
   ],
   "source": [
    "data.Power.unique()"
   ]
  },
  {
   "cell_type": "code",
   "execution_count": 111,
   "metadata": {},
   "outputs": [],
   "source": [
    "data[\"Power\"] = data[\"Power\"].astype(int)  #  отбрасываем дробную часть"
   ]
  },
  {
   "cell_type": "code",
   "execution_count": 112,
   "metadata": {},
   "outputs": [
    {
     "data": {
      "text/plain": [
       "array(['petrol', 'lpg', 'other', 'hybrid', 'cng', 'electric'],\n",
       "      dtype=object)"
      ]
     },
     "execution_count": 112,
     "metadata": {},
     "output_type": "execute_result"
    }
   ],
   "source": [
    "data.FuelType.unique()"
   ]
  },
  {
   "cell_type": "code",
   "execution_count": 113,
   "metadata": {},
   "outputs": [],
   "source": []
  },
  {
   "cell_type": "markdown",
   "metadata": {},
   "source": [
    "## Обучение моделей"
   ]
  },
  {
   "cell_type": "code",
   "execution_count": 115,
   "metadata": {},
   "outputs": [
    {
     "data": {
      "text/plain": [
       "array(['coupe', 'suv', 'small', 'sedan', 'convertible', 'bus', 'wagon',\n",
       "       'other'], dtype=object)"
      ]
     },
     "execution_count": 115,
     "metadata": {},
     "output_type": "execute_result"
    }
   ],
   "source": [
    "data.VehicleType.unique()"
   ]
  },
  {
   "cell_type": "markdown",
   "metadata": {},
   "source": [
    "\n",
    "%% time не забудь\n",
    "Бахнем LinearRegression, Ridge, Lasso, ElasticNet\n",
    "\n",
    "PolynomialFeatures + LinearRegression\n",
    "\n",
    "HuberRegressor\n",
    "\n",
    "RANSACRegressor\n",
    "\n",
    "RandomForest\n",
    "\n",
    "LightGBM\n",
    "\n",
    "GradientBoosting\n",
    "\n",
    "CatBoost"
   ]
  },
  {
   "cell_type": "markdown",
   "metadata": {},
   "source": [
    "Upd26_06: лень было делать вообще все, сделал Linear, Ridge, CatBoost\n",
    "Может, потом сделаю. надо ли?"
   ]
  },
  {
   "cell_type": "markdown",
   "metadata": {},
   "source": [
    "<div class=\"alert alert-warning\" style=\"border-radius: 15px; box-shadow: 4px 4px 4px; border: 1px solid \">\n",
    "<h2> Комментарий ревьюера  ⚠️</h2>\n",
    "    \n",
    "Начинай всегда с малого, потом уже добавляй модели.     \n",
    "</div>"
   ]
  },
  {
   "cell_type": "markdown",
   "metadata": {},
   "source": [
    "<div style=\"border-radius: 15px; border: 2px solid steelblue; background-color: lavender; padding: 15px;\">\n",
    "  <h3>🧑‍🎓 Комментарий студента 🖋️ Версия 1.0 </h3>\n",
    "ok  \n",
    "</div>\n"
   ]
  },
  {
   "cell_type": "code",
   "execution_count": 116,
   "metadata": {},
   "outputs": [
    {
     "data": {
      "text/html": [
       "<div>\n",
       "<style scoped>\n",
       "    .dataframe tbody tr th:only-of-type {\n",
       "        vertical-align: middle;\n",
       "    }\n",
       "\n",
       "    .dataframe tbody tr th {\n",
       "        vertical-align: top;\n",
       "    }\n",
       "\n",
       "    .dataframe thead th {\n",
       "        text-align: right;\n",
       "    }\n",
       "</style>\n",
       "<table border=\"1\" class=\"dataframe\">\n",
       "  <thead>\n",
       "    <tr style=\"text-align: right;\">\n",
       "      <th></th>\n",
       "      <th>DateCrawled</th>\n",
       "      <th>Price</th>\n",
       "      <th>RegistrationYear</th>\n",
       "      <th>Power</th>\n",
       "      <th>Kilometer</th>\n",
       "      <th>RegistrationMonth</th>\n",
       "      <th>DateCreated</th>\n",
       "      <th>PostalCode</th>\n",
       "      <th>LastSeen</th>\n",
       "      <th>Price_log</th>\n",
       "      <th>ModelFreq</th>\n",
       "    </tr>\n",
       "  </thead>\n",
       "  <tbody>\n",
       "    <tr>\n",
       "      <th>count</th>\n",
       "      <td>321592</td>\n",
       "      <td>321592.000000</td>\n",
       "      <td>321592.000000</td>\n",
       "      <td>321592.000000</td>\n",
       "      <td>321592.000000</td>\n",
       "      <td>321592.00000</td>\n",
       "      <td>321592</td>\n",
       "      <td>321592.000000</td>\n",
       "      <td>321592</td>\n",
       "      <td>321592.000000</td>\n",
       "      <td>321592.000000</td>\n",
       "    </tr>\n",
       "    <tr>\n",
       "      <th>mean</th>\n",
       "      <td>2016-03-21 12:41:18.600369920</td>\n",
       "      <td>4590.773070</td>\n",
       "      <td>2002.814616</td>\n",
       "      <td>120.285697</td>\n",
       "      <td>128284.752108</td>\n",
       "      <td>5.78224</td>\n",
       "      <td>2016-03-20 18:49:38.939774720</td>\n",
       "      <td>50777.432302</td>\n",
       "      <td>2016-03-30 01:49:42.473143040</td>\n",
       "      <td>8.035976</td>\n",
       "      <td>9293.278303</td>\n",
       "    </tr>\n",
       "    <tr>\n",
       "      <th>min</th>\n",
       "      <td>2016-03-05 14:06:22</td>\n",
       "      <td>500.000000</td>\n",
       "      <td>1983.000000</td>\n",
       "      <td>31.000000</td>\n",
       "      <td>5000.000000</td>\n",
       "      <td>0.00000</td>\n",
       "      <td>2014-03-10 00:00:00</td>\n",
       "      <td>1067.000000</td>\n",
       "      <td>2016-03-05 14:15:08</td>\n",
       "      <td>6.216606</td>\n",
       "      <td>2.000000</td>\n",
       "    </tr>\n",
       "    <tr>\n",
       "      <th>25%</th>\n",
       "      <td>2016-03-13 10:47:37</td>\n",
       "      <td>1500.000000</td>\n",
       "      <td>1999.000000</td>\n",
       "      <td>79.000000</td>\n",
       "      <td>125000.000000</td>\n",
       "      <td>3.00000</td>\n",
       "      <td>2016-03-13 00:00:00</td>\n",
       "      <td>30449.000000</td>\n",
       "      <td>2016-03-23 08:15:33.500000</td>\n",
       "      <td>7.313887</td>\n",
       "      <td>1550.000000</td>\n",
       "    </tr>\n",
       "    <tr>\n",
       "      <th>50%</th>\n",
       "      <td>2016-03-21 17:45:35.500000</td>\n",
       "      <td>3000.000000</td>\n",
       "      <td>2003.000000</td>\n",
       "      <td>113.000000</td>\n",
       "      <td>150000.000000</td>\n",
       "      <td>6.00000</td>\n",
       "      <td>2016-03-21 00:00:00</td>\n",
       "      <td>49635.000000</td>\n",
       "      <td>2016-04-03 19:45:39.500000</td>\n",
       "      <td>8.006701</td>\n",
       "      <td>5626.000000</td>\n",
       "    </tr>\n",
       "    <tr>\n",
       "      <th>75%</th>\n",
       "      <td>2016-03-29 14:39:51.249999872</td>\n",
       "      <td>6300.000000</td>\n",
       "      <td>2007.000000</td>\n",
       "      <td>147.000000</td>\n",
       "      <td>150000.000000</td>\n",
       "      <td>9.00000</td>\n",
       "      <td>2016-03-29 00:00:00</td>\n",
       "      <td>71364.000000</td>\n",
       "      <td>2016-04-06 10:17:40</td>\n",
       "      <td>8.748464</td>\n",
       "      <td>12048.000000</td>\n",
       "    </tr>\n",
       "    <tr>\n",
       "      <th>max</th>\n",
       "      <td>2016-04-07 14:36:58</td>\n",
       "      <td>20000.000000</td>\n",
       "      <td>2016.000000</td>\n",
       "      <td>700.000000</td>\n",
       "      <td>150000.000000</td>\n",
       "      <td>12.00000</td>\n",
       "      <td>2016-04-07 00:00:00</td>\n",
       "      <td>99998.000000</td>\n",
       "      <td>2016-04-07 14:58:51</td>\n",
       "      <td>9.903538</td>\n",
       "      <td>28602.000000</td>\n",
       "    </tr>\n",
       "    <tr>\n",
       "      <th>std</th>\n",
       "      <td>NaN</td>\n",
       "      <td>4177.784472</td>\n",
       "      <td>5.728628</td>\n",
       "      <td>52.305385</td>\n",
       "      <td>37502.593613</td>\n",
       "      <td>3.70027</td>\n",
       "      <td>NaN</td>\n",
       "      <td>25801.679507</td>\n",
       "      <td>NaN</td>\n",
       "      <td>0.912615</td>\n",
       "      <td>9230.208601</td>\n",
       "    </tr>\n",
       "  </tbody>\n",
       "</table>\n",
       "</div>"
      ],
      "text/plain": [
       "                         DateCrawled          Price  RegistrationYear  \\\n",
       "count                         321592  321592.000000     321592.000000   \n",
       "mean   2016-03-21 12:41:18.600369920    4590.773070       2002.814616   \n",
       "min              2016-03-05 14:06:22     500.000000       1983.000000   \n",
       "25%              2016-03-13 10:47:37    1500.000000       1999.000000   \n",
       "50%       2016-03-21 17:45:35.500000    3000.000000       2003.000000   \n",
       "75%    2016-03-29 14:39:51.249999872    6300.000000       2007.000000   \n",
       "max              2016-04-07 14:36:58   20000.000000       2016.000000   \n",
       "std                              NaN    4177.784472          5.728628   \n",
       "\n",
       "               Power      Kilometer  RegistrationMonth  \\\n",
       "count  321592.000000  321592.000000       321592.00000   \n",
       "mean      120.285697  128284.752108            5.78224   \n",
       "min        31.000000    5000.000000            0.00000   \n",
       "25%        79.000000  125000.000000            3.00000   \n",
       "50%       113.000000  150000.000000            6.00000   \n",
       "75%       147.000000  150000.000000            9.00000   \n",
       "max       700.000000  150000.000000           12.00000   \n",
       "std        52.305385   37502.593613            3.70027   \n",
       "\n",
       "                         DateCreated     PostalCode  \\\n",
       "count                         321592  321592.000000   \n",
       "mean   2016-03-20 18:49:38.939774720   50777.432302   \n",
       "min              2014-03-10 00:00:00    1067.000000   \n",
       "25%              2016-03-13 00:00:00   30449.000000   \n",
       "50%              2016-03-21 00:00:00   49635.000000   \n",
       "75%              2016-03-29 00:00:00   71364.000000   \n",
       "max              2016-04-07 00:00:00   99998.000000   \n",
       "std                              NaN   25801.679507   \n",
       "\n",
       "                            LastSeen      Price_log      ModelFreq  \n",
       "count                         321592  321592.000000  321592.000000  \n",
       "mean   2016-03-30 01:49:42.473143040       8.035976    9293.278303  \n",
       "min              2016-03-05 14:15:08       6.216606       2.000000  \n",
       "25%       2016-03-23 08:15:33.500000       7.313887    1550.000000  \n",
       "50%       2016-04-03 19:45:39.500000       8.006701    5626.000000  \n",
       "75%              2016-04-06 10:17:40       8.748464   12048.000000  \n",
       "max              2016-04-07 14:58:51       9.903538   28602.000000  \n",
       "std                              NaN       0.912615    9230.208601  "
      ]
     },
     "execution_count": 116,
     "metadata": {},
     "output_type": "execute_result"
    }
   ],
   "source": [
    "data.describe()"
   ]
  },
  {
   "cell_type": "code",
   "execution_count": 117,
   "metadata": {},
   "outputs": [
    {
     "data": {
      "text/plain": [
       "(321592, 19)"
      ]
     },
     "execution_count": 117,
     "metadata": {},
     "output_type": "execute_result"
    }
   ],
   "source": [
    "data.shape"
   ]
  },
  {
   "cell_type": "code",
   "execution_count": 118,
   "metadata": {},
   "outputs": [
    {
     "name": "stdout",
     "output_type": "stream",
     "text": [
      "<class 'pandas.core.frame.DataFrame'>\n",
      "Index: 321592 entries, 1 to 354368\n",
      "Data columns (total 19 columns):\n",
      " #   Column             Non-Null Count   Dtype         \n",
      "---  ------             --------------   -----         \n",
      " 0   DateCrawled        321592 non-null  datetime64[ns]\n",
      " 1   Price              321592 non-null  int64         \n",
      " 2   VehicleType        321592 non-null  object        \n",
      " 3   RegistrationYear   321592 non-null  int64         \n",
      " 4   Gearbox            321592 non-null  object        \n",
      " 5   Power              321592 non-null  int64         \n",
      " 6   Model              321592 non-null  object        \n",
      " 7   Kilometer          321592 non-null  int64         \n",
      " 8   RegistrationMonth  321592 non-null  int64         \n",
      " 9   FuelType           321592 non-null  object        \n",
      " 10  Brand              321592 non-null  object        \n",
      " 11  Repaired           321592 non-null  object        \n",
      " 12  DateCreated        321592 non-null  datetime64[ns]\n",
      " 13  PostalCode         321592 non-null  int64         \n",
      " 14  LastSeen           321592 non-null  datetime64[ns]\n",
      " 15  BrandClass         321592 non-null  object        \n",
      " 16  Price_log          321592 non-null  float64       \n",
      " 17  RegSeason          321592 non-null  object        \n",
      " 18  ModelFreq          321592 non-null  int64         \n",
      "dtypes: datetime64[ns](3), float64(1), int64(7), object(8)\n",
      "memory usage: 49.1+ MB\n"
     ]
    }
   ],
   "source": [
    "data.info()"
   ]
  },
  {
   "cell_type": "code",
   "execution_count": null,
   "metadata": {},
   "outputs": [],
   "source": []
  },
  {
   "cell_type": "code",
   "execution_count": 119,
   "metadata": {},
   "outputs": [
    {
     "name": "stdout",
     "output_type": "stream",
     "text": [
      "Количество дубликатов по выбранным столбцам: 3\n"
     ]
    }
   ],
   "source": [
    "cols_to_check = ['DateCrawled', 'DateCreated', 'PostalCode', 'LastSeen', 'BrandClass', 'RegSeason', 'ModelFreq', 'Price_log']\n",
    "num_duplicates = data.duplicated(subset=cols_to_check).sum()\n",
    "print(f\"Количество дубликатов по выбранным столбцам: {num_duplicates}\")\n"
   ]
  },
  {
   "cell_type": "code",
   "execution_count": 120,
   "metadata": {},
   "outputs": [
    {
     "data": {
      "text/html": [
       "<div>\n",
       "<style scoped>\n",
       "    .dataframe tbody tr th:only-of-type {\n",
       "        vertical-align: middle;\n",
       "    }\n",
       "\n",
       "    .dataframe tbody tr th {\n",
       "        vertical-align: top;\n",
       "    }\n",
       "\n",
       "    .dataframe thead th {\n",
       "        text-align: right;\n",
       "    }\n",
       "</style>\n",
       "<table border=\"1\" class=\"dataframe\">\n",
       "  <thead>\n",
       "    <tr style=\"text-align: right;\">\n",
       "      <th></th>\n",
       "      <th>DateCrawled</th>\n",
       "      <th>Price</th>\n",
       "      <th>VehicleType</th>\n",
       "      <th>RegistrationYear</th>\n",
       "      <th>Gearbox</th>\n",
       "      <th>Power</th>\n",
       "      <th>Model</th>\n",
       "      <th>Kilometer</th>\n",
       "      <th>RegistrationMonth</th>\n",
       "      <th>FuelType</th>\n",
       "      <th>Brand</th>\n",
       "      <th>Repaired</th>\n",
       "      <th>DateCreated</th>\n",
       "      <th>PostalCode</th>\n",
       "      <th>LastSeen</th>\n",
       "      <th>BrandClass</th>\n",
       "      <th>Price_log</th>\n",
       "      <th>RegSeason</th>\n",
       "      <th>ModelFreq</th>\n",
       "    </tr>\n",
       "  </thead>\n",
       "  <tbody>\n",
       "    <tr>\n",
       "      <th>194008</th>\n",
       "      <td>2016-04-04 22:50:44</td>\n",
       "      <td>13000</td>\n",
       "      <td>sedan</td>\n",
       "      <td>2008</td>\n",
       "      <td>manual</td>\n",
       "      <td>143</td>\n",
       "      <td>a4</td>\n",
       "      <td>125000</td>\n",
       "      <td>9</td>\n",
       "      <td>petrol</td>\n",
       "      <td>audi</td>\n",
       "      <td>no</td>\n",
       "      <td>2016-04-04</td>\n",
       "      <td>65428</td>\n",
       "      <td>2016-04-05 12:30:14</td>\n",
       "      <td>premium</td>\n",
       "      <td>9.472782</td>\n",
       "      <td>autumn</td>\n",
       "      <td>10695</td>\n",
       "    </tr>\n",
       "    <tr>\n",
       "      <th>194842</th>\n",
       "      <td>2016-04-05 09:55:16</td>\n",
       "      <td>3799</td>\n",
       "      <td>coupe</td>\n",
       "      <td>2000</td>\n",
       "      <td>auto</td>\n",
       "      <td>197</td>\n",
       "      <td>clk</td>\n",
       "      <td>150000</td>\n",
       "      <td>5</td>\n",
       "      <td>lpg</td>\n",
       "      <td>mercedes_benz</td>\n",
       "      <td>no</td>\n",
       "      <td>2016-04-05</td>\n",
       "      <td>31137</td>\n",
       "      <td>2016-04-05 10:39:28</td>\n",
       "      <td>premium</td>\n",
       "      <td>8.242756</td>\n",
       "      <td>spring</td>\n",
       "      <td>1761</td>\n",
       "    </tr>\n",
       "    <tr>\n",
       "      <th>201925</th>\n",
       "      <td>2016-04-03 11:56:33</td>\n",
       "      <td>888</td>\n",
       "      <td>small</td>\n",
       "      <td>1998</td>\n",
       "      <td>manual</td>\n",
       "      <td>75</td>\n",
       "      <td>fiesta</td>\n",
       "      <td>100000</td>\n",
       "      <td>5</td>\n",
       "      <td>petrol</td>\n",
       "      <td>ford</td>\n",
       "      <td>no</td>\n",
       "      <td>2016-04-03</td>\n",
       "      <td>73329</td>\n",
       "      <td>2016-04-03 11:56:33</td>\n",
       "      <td>mass</td>\n",
       "      <td>6.790097</td>\n",
       "      <td>spring</td>\n",
       "      <td>5037</td>\n",
       "    </tr>\n",
       "  </tbody>\n",
       "</table>\n",
       "</div>"
      ],
      "text/plain": [
       "               DateCrawled  Price VehicleType  RegistrationYear Gearbox  \\\n",
       "194008 2016-04-04 22:50:44  13000       sedan              2008  manual   \n",
       "194842 2016-04-05 09:55:16   3799       coupe              2000    auto   \n",
       "201925 2016-04-03 11:56:33    888       small              1998  manual   \n",
       "\n",
       "        Power   Model  Kilometer  RegistrationMonth FuelType          Brand  \\\n",
       "194008    143      a4     125000                  9   petrol           audi   \n",
       "194842    197     clk     150000                  5      lpg  mercedes_benz   \n",
       "201925     75  fiesta     100000                  5   petrol           ford   \n",
       "\n",
       "       Repaired DateCreated  PostalCode            LastSeen BrandClass  \\\n",
       "194008       no  2016-04-04       65428 2016-04-05 12:30:14    premium   \n",
       "194842       no  2016-04-05       31137 2016-04-05 10:39:28    premium   \n",
       "201925       no  2016-04-03       73329 2016-04-03 11:56:33       mass   \n",
       "\n",
       "        Price_log RegSeason  ModelFreq  \n",
       "194008   9.472782    autumn      10695  \n",
       "194842   8.242756    spring       1761  \n",
       "201925   6.790097    spring       5037  "
      ]
     },
     "execution_count": 120,
     "metadata": {},
     "output_type": "execute_result"
    }
   ],
   "source": [
    "duplicates = data[data.duplicated(subset=cols_to_check)]\n",
    "duplicates.head()\n"
   ]
  },
  {
   "cell_type": "code",
   "execution_count": null,
   "metadata": {},
   "outputs": [],
   "source": []
  },
  {
   "cell_type": "code",
   "execution_count": 124,
   "metadata": {},
   "outputs": [],
   "source": [
    "data = data.drop_duplicates(subset=cols_to_check)"
   ]
  },
  {
   "cell_type": "code",
   "execution_count": 125,
   "metadata": {},
   "outputs": [
    {
     "name": "stdout",
     "output_type": "stream",
     "text": [
      "Empty DataFrame\n",
      "Columns: [DateCrawled, Price, VehicleType, RegistrationYear, Gearbox, Power, Model, Kilometer, RegistrationMonth, FuelType, Brand, Repaired, DateCreated, PostalCode, LastSeen, BrandClass, Price_log, RegSeason, ModelFreq]\n",
      "Index: []\n"
     ]
    }
   ],
   "source": [
    "# Вывод всех дубликатов\n",
    "duplicates = data[data.duplicated()]\n",
    "print(duplicates)\n"
   ]
  },
  {
   "cell_type": "markdown",
   "metadata": {},
   "source": [
    "<div class=\"alert alert-danger\" style=\"border-radius: 15px; box-shadow: 4px 4px 4px; border: 1px solid \">\n",
    "<h2> Комментарий ревьюера 2 ❌</h2>\n",
    "    \n",
    "Дубли нужно искать по всей таблице, а не в конкретном множестве столбцов, большинство из которых будет откинуто. Самое простое решение: сначала удали то, что ты ниже удаляешь при создании матрицы признаков, потом удали дубли и уже после этого создай матрицу признаков, отбросив лишь таргет.     \n",
    "</div>"
   ]
  },
  {
   "cell_type": "markdown",
   "metadata": {},
   "source": [
    "<div style=\"border-radius: 15px; border: 2px solid steelblue; background-color: lightskyblue; padding: 15px;\">\n",
    "  <b>Комментарий студента 2 </b><br>\n",
    "Ниже после разделения на X тоже<br><br>\n",
    "  🔹 \n",
    "</div>"
   ]
  },
  {
   "cell_type": "code",
   "execution_count": 126,
   "metadata": {},
   "outputs": [
    {
     "data": {
      "text/plain": [
       "(321589, 19)"
      ]
     },
     "execution_count": 126,
     "metadata": {},
     "output_type": "execute_result"
    }
   ],
   "source": [
    "data.shape"
   ]
  },
  {
   "cell_type": "code",
   "execution_count": 127,
   "metadata": {},
   "outputs": [
    {
     "data": {
      "text/html": [
       "<div>\n",
       "<style scoped>\n",
       "    .dataframe tbody tr th:only-of-type {\n",
       "        vertical-align: middle;\n",
       "    }\n",
       "\n",
       "    .dataframe tbody tr th {\n",
       "        vertical-align: top;\n",
       "    }\n",
       "\n",
       "    .dataframe thead th {\n",
       "        text-align: right;\n",
       "    }\n",
       "</style>\n",
       "<table border=\"1\" class=\"dataframe\">\n",
       "  <thead>\n",
       "    <tr style=\"text-align: right;\">\n",
       "      <th></th>\n",
       "      <th>DateCrawled</th>\n",
       "      <th>Price</th>\n",
       "      <th>RegistrationYear</th>\n",
       "      <th>Power</th>\n",
       "      <th>Kilometer</th>\n",
       "      <th>RegistrationMonth</th>\n",
       "      <th>DateCreated</th>\n",
       "      <th>PostalCode</th>\n",
       "      <th>LastSeen</th>\n",
       "      <th>Price_log</th>\n",
       "      <th>ModelFreq</th>\n",
       "    </tr>\n",
       "  </thead>\n",
       "  <tbody>\n",
       "    <tr>\n",
       "      <th>count</th>\n",
       "      <td>321589</td>\n",
       "      <td>321589.000000</td>\n",
       "      <td>321589.000000</td>\n",
       "      <td>321589.000000</td>\n",
       "      <td>321589.000000</td>\n",
       "      <td>321589.000000</td>\n",
       "      <td>321589</td>\n",
       "      <td>321589.000000</td>\n",
       "      <td>321589</td>\n",
       "      <td>321589.000000</td>\n",
       "      <td>321589.000000</td>\n",
       "    </tr>\n",
       "    <tr>\n",
       "      <th>mean</th>\n",
       "      <td>2016-03-21 12:41:07.242029824</td>\n",
       "      <td>4590.760897</td>\n",
       "      <td>2002.814624</td>\n",
       "      <td>120.285529</td>\n",
       "      <td>128284.782751</td>\n",
       "      <td>5.782234</td>\n",
       "      <td>2016-03-20 18:49:27.482096896</td>\n",
       "      <td>50777.377693</td>\n",
       "      <td>2016-03-30 01:49:37.842923776</td>\n",
       "      <td>8.035975</td>\n",
       "      <td>9293.310601</td>\n",
       "    </tr>\n",
       "    <tr>\n",
       "      <th>min</th>\n",
       "      <td>2016-03-05 14:06:22</td>\n",
       "      <td>500.000000</td>\n",
       "      <td>1983.000000</td>\n",
       "      <td>31.000000</td>\n",
       "      <td>5000.000000</td>\n",
       "      <td>0.000000</td>\n",
       "      <td>2014-03-10 00:00:00</td>\n",
       "      <td>1067.000000</td>\n",
       "      <td>2016-03-05 14:15:08</td>\n",
       "      <td>6.216606</td>\n",
       "      <td>2.000000</td>\n",
       "    </tr>\n",
       "    <tr>\n",
       "      <th>25%</th>\n",
       "      <td>2016-03-13 10:47:34</td>\n",
       "      <td>1500.000000</td>\n",
       "      <td>1999.000000</td>\n",
       "      <td>79.000000</td>\n",
       "      <td>125000.000000</td>\n",
       "      <td>3.000000</td>\n",
       "      <td>2016-03-13 00:00:00</td>\n",
       "      <td>30449.000000</td>\n",
       "      <td>2016-03-23 08:15:32</td>\n",
       "      <td>7.313887</td>\n",
       "      <td>1550.000000</td>\n",
       "    </tr>\n",
       "    <tr>\n",
       "      <th>50%</th>\n",
       "      <td>2016-03-21 17:45:32</td>\n",
       "      <td>3000.000000</td>\n",
       "      <td>2003.000000</td>\n",
       "      <td>113.000000</td>\n",
       "      <td>150000.000000</td>\n",
       "      <td>6.000000</td>\n",
       "      <td>2016-03-21 00:00:00</td>\n",
       "      <td>49635.000000</td>\n",
       "      <td>2016-04-03 19:45:38</td>\n",
       "      <td>8.006701</td>\n",
       "      <td>5626.000000</td>\n",
       "    </tr>\n",
       "    <tr>\n",
       "      <th>75%</th>\n",
       "      <td>2016-03-29 14:39:49</td>\n",
       "      <td>6300.000000</td>\n",
       "      <td>2007.000000</td>\n",
       "      <td>147.000000</td>\n",
       "      <td>150000.000000</td>\n",
       "      <td>9.000000</td>\n",
       "      <td>2016-03-29 00:00:00</td>\n",
       "      <td>71364.000000</td>\n",
       "      <td>2016-04-06 10:17:40</td>\n",
       "      <td>8.748464</td>\n",
       "      <td>12048.000000</td>\n",
       "    </tr>\n",
       "    <tr>\n",
       "      <th>max</th>\n",
       "      <td>2016-04-07 14:36:58</td>\n",
       "      <td>20000.000000</td>\n",
       "      <td>2016.000000</td>\n",
       "      <td>700.000000</td>\n",
       "      <td>150000.000000</td>\n",
       "      <td>12.000000</td>\n",
       "      <td>2016-04-07 00:00:00</td>\n",
       "      <td>99998.000000</td>\n",
       "      <td>2016-04-07 14:58:51</td>\n",
       "      <td>9.903538</td>\n",
       "      <td>28602.000000</td>\n",
       "    </tr>\n",
       "    <tr>\n",
       "      <th>std</th>\n",
       "      <td>NaN</td>\n",
       "      <td>4177.772305</td>\n",
       "      <td>5.728639</td>\n",
       "      <td>52.305378</td>\n",
       "      <td>37502.715374</td>\n",
       "      <td>3.700283</td>\n",
       "      <td>NaN</td>\n",
       "      <td>25801.733031</td>\n",
       "      <td>NaN</td>\n",
       "      <td>0.912613</td>\n",
       "      <td>9230.238715</td>\n",
       "    </tr>\n",
       "  </tbody>\n",
       "</table>\n",
       "</div>"
      ],
      "text/plain": [
       "                         DateCrawled          Price  RegistrationYear  \\\n",
       "count                         321589  321589.000000     321589.000000   \n",
       "mean   2016-03-21 12:41:07.242029824    4590.760897       2002.814624   \n",
       "min              2016-03-05 14:06:22     500.000000       1983.000000   \n",
       "25%              2016-03-13 10:47:34    1500.000000       1999.000000   \n",
       "50%              2016-03-21 17:45:32    3000.000000       2003.000000   \n",
       "75%              2016-03-29 14:39:49    6300.000000       2007.000000   \n",
       "max              2016-04-07 14:36:58   20000.000000       2016.000000   \n",
       "std                              NaN    4177.772305          5.728639   \n",
       "\n",
       "               Power      Kilometer  RegistrationMonth  \\\n",
       "count  321589.000000  321589.000000      321589.000000   \n",
       "mean      120.285529  128284.782751           5.782234   \n",
       "min        31.000000    5000.000000           0.000000   \n",
       "25%        79.000000  125000.000000           3.000000   \n",
       "50%       113.000000  150000.000000           6.000000   \n",
       "75%       147.000000  150000.000000           9.000000   \n",
       "max       700.000000  150000.000000          12.000000   \n",
       "std        52.305378   37502.715374           3.700283   \n",
       "\n",
       "                         DateCreated     PostalCode  \\\n",
       "count                         321589  321589.000000   \n",
       "mean   2016-03-20 18:49:27.482096896   50777.377693   \n",
       "min              2014-03-10 00:00:00    1067.000000   \n",
       "25%              2016-03-13 00:00:00   30449.000000   \n",
       "50%              2016-03-21 00:00:00   49635.000000   \n",
       "75%              2016-03-29 00:00:00   71364.000000   \n",
       "max              2016-04-07 00:00:00   99998.000000   \n",
       "std                              NaN   25801.733031   \n",
       "\n",
       "                            LastSeen      Price_log      ModelFreq  \n",
       "count                         321589  321589.000000  321589.000000  \n",
       "mean   2016-03-30 01:49:37.842923776       8.035975    9293.310601  \n",
       "min              2016-03-05 14:15:08       6.216606       2.000000  \n",
       "25%              2016-03-23 08:15:32       7.313887    1550.000000  \n",
       "50%              2016-04-03 19:45:38       8.006701    5626.000000  \n",
       "75%              2016-04-06 10:17:40       8.748464   12048.000000  \n",
       "max              2016-04-07 14:58:51       9.903538   28602.000000  \n",
       "std                              NaN       0.912613    9230.238715  "
      ]
     },
     "execution_count": 127,
     "metadata": {},
     "output_type": "execute_result"
    }
   ],
   "source": [
    "data.describe()"
   ]
  },
  {
   "cell_type": "markdown",
   "metadata": {},
   "source": [
    "### LinearRegression"
   ]
  },
  {
   "cell_type": "markdown",
   "metadata": {},
   "source": [
    "<div class=\"alert alert-danger\" style=\"border-radius: 15px; box-shadow: 4px 4px 4px; border: 1px solid \">\n",
    "<h2> Комментарий ревьюера  ❌</h2>\n",
    "    \n",
    "После удаления ненужных столбцов имеет смысл снова проверить данные на наличие дублей, ведь данные должны быть далее разбиты на тестовую и тренировочную выборки. Причем, делать это нужно по всей выборке, а не только по матрице признаков. Поэтому сначала надо бы удалить столбцы и дубли, а потом разделить данные. \n",
    "    \n",
    "</div>"
   ]
  },
  {
   "cell_type": "markdown",
   "metadata": {},
   "source": [
    "<div style=\"border-radius: 15px; border: 2px solid steelblue; background-color: lavender; padding: 15px;\">\n",
    "  <h3>🧑‍🎓 Комментарий студента 🖋️ Версия 1.0 </h3>\n",
    "норм?\n",
    "  \n",
    "</div>\n"
   ]
  },
  {
   "cell_type": "markdown",
   "metadata": {},
   "source": [
    "<div class=\"alert alert-warning\" style=\"border-radius: 15px; box-shadow: 4px 4px 4px; border: 1px solid \">\n",
    "<h2> Комментарий ревьюера 2 ⚠️</h2>\n",
    "    \n",
    "Почти :)    \n",
    "</div>"
   ]
  },
  {
   "cell_type": "code",
   "execution_count": 246,
   "metadata": {},
   "outputs": [
    {
     "data": {
      "text/html": [
       "<div>\n",
       "<style scoped>\n",
       "    .dataframe tbody tr th:only-of-type {\n",
       "        vertical-align: middle;\n",
       "    }\n",
       "\n",
       "    .dataframe tbody tr th {\n",
       "        vertical-align: top;\n",
       "    }\n",
       "\n",
       "    .dataframe thead th {\n",
       "        text-align: right;\n",
       "    }\n",
       "</style>\n",
       "<table border=\"1\" class=\"dataframe\">\n",
       "  <thead>\n",
       "    <tr style=\"text-align: right;\">\n",
       "      <th></th>\n",
       "      <th>DateCrawled</th>\n",
       "      <th>Price</th>\n",
       "      <th>VehicleType</th>\n",
       "      <th>RegistrationYear</th>\n",
       "      <th>Gearbox</th>\n",
       "      <th>Power</th>\n",
       "      <th>Model</th>\n",
       "      <th>Kilometer</th>\n",
       "      <th>RegistrationMonth</th>\n",
       "      <th>FuelType</th>\n",
       "      <th>Brand</th>\n",
       "      <th>Repaired</th>\n",
       "      <th>DateCreated</th>\n",
       "      <th>PostalCode</th>\n",
       "      <th>LastSeen</th>\n",
       "      <th>BrandClass</th>\n",
       "      <th>Price_log</th>\n",
       "      <th>RegSeason</th>\n",
       "      <th>ModelFreq</th>\n",
       "    </tr>\n",
       "  </thead>\n",
       "  <tbody>\n",
       "    <tr>\n",
       "      <th>1</th>\n",
       "      <td>2016-03-24 10:58:45</td>\n",
       "      <td>18300</td>\n",
       "      <td>coupe</td>\n",
       "      <td>2011</td>\n",
       "      <td>manual</td>\n",
       "      <td>190</td>\n",
       "      <td>a4</td>\n",
       "      <td>125000</td>\n",
       "      <td>5</td>\n",
       "      <td>petrol</td>\n",
       "      <td>audi</td>\n",
       "      <td>yes</td>\n",
       "      <td>2016-03-24</td>\n",
       "      <td>66954</td>\n",
       "      <td>2016-04-07 01:46:50</td>\n",
       "      <td>premium</td>\n",
       "      <td>9.814711</td>\n",
       "      <td>spring</td>\n",
       "      <td>10695</td>\n",
       "    </tr>\n",
       "  </tbody>\n",
       "</table>\n",
       "</div>"
      ],
      "text/plain": [
       "          DateCrawled  Price VehicleType  RegistrationYear Gearbox  Power  \\\n",
       "1 2016-03-24 10:58:45  18300       coupe              2011  manual    190   \n",
       "\n",
       "  Model  Kilometer  RegistrationMonth FuelType Brand Repaired DateCreated  \\\n",
       "1    a4     125000                  5   petrol  audi      yes  2016-03-24   \n",
       "\n",
       "   PostalCode            LastSeen BrandClass  Price_log RegSeason  ModelFreq  \n",
       "1       66954 2016-04-07 01:46:50    premium   9.814711    spring      10695  "
      ]
     },
     "execution_count": 246,
     "metadata": {},
     "output_type": "execute_result"
    }
   ],
   "source": [
    "data.head(1)"
   ]
  },
  {
   "cell_type": "code",
   "execution_count": 129,
   "metadata": {},
   "outputs": [],
   "source": [
    "X = data.drop(columns=['Price','DateCrawled', \n",
    "                       'RegistrationYear', 'Model', 'RegistrationMonth', 'Brand', \n",
    "                       'DateCreated', 'PostalCode', 'LastSeen', \n",
    "                       'RegSeason', 'Price_log'] )\n",
    "y = data[\"Price\"] # целевая переменная"
   ]
  },
  {
   "cell_type": "code",
   "execution_count": 133,
   "metadata": {},
   "outputs": [
    {
     "data": {
      "text/plain": [
       "(321589, 8)"
      ]
     },
     "execution_count": 133,
     "metadata": {},
     "output_type": "execute_result"
    }
   ],
   "source": [
    "X.shape"
   ]
  },
  {
   "cell_type": "code",
   "execution_count": 132,
   "metadata": {},
   "outputs": [
    {
     "name": "stdout",
     "output_type": "stream",
     "text": [
      "253336\n"
     ]
    }
   ],
   "source": [
    "# Вывод всех дубликатов\n",
    "duplicates = X[X.duplicated()]\n",
    "print(X.duplicated().sum())\n"
   ]
  },
  {
   "cell_type": "code",
   "execution_count": 134,
   "metadata": {},
   "outputs": [],
   "source": [
    "\n",
    "# Категориальные признаки\n",
    "categorical_features = [\"VehicleType\", \"Gearbox\", \"FuelType\", \"Repaired\", \"BrandClass\"]\n",
    "\n",
    "# Разделение\n",
    "X_train, X_test, y_train, y_test = train_test_split(X, y, test_size=0.2, random_state=42)\n",
    "\n",
    "X_train_final, X_valid, y_train_final, y_valid = train_test_split(\n",
    "    X_train, y_train, test_size=0.2, random_state=42\n",
    ")\n",
    "\n",
    "# Кодировщик\n",
    "ohe = ColumnTransformer(\n",
    "    transformers=[\n",
    "        (\"ohe\", OneHotEncoder(drop='first', handle_unknown='ignore'), categorical_features)\n",
    "    ],\n",
    "    remainder='passthrough'\n",
    ")\n",
    "\n",
    "X_train_final_encoded = ohe.fit_transform(X_train_final)\n",
    "\n",
    "X_valid_encoded = ohe.transform(X_valid)\n",
    "\n",
    "X_test_encoded = ohe.transform(X_test)\n"
   ]
  },
  {
   "cell_type": "markdown",
   "metadata": {},
   "source": [
    "<div style=\"border-radius: 15px; border: 2px solid steelblue; background-color: lavender; padding: 15px;\">\n",
    "  <h3>🧑‍🎓 Комментарий студента 🖋️ Версия 1.0 </h3>\n",
    "поправил\n",
    "  \n",
    "</div>\n"
   ]
  },
  {
   "cell_type": "markdown",
   "metadata": {},
   "source": [
    "<div class=\"alert alert-danger\" style=\"border-radius: 15px; box-shadow: 4px 4px 4px; border: 1px solid \">\n",
    "<h2> Комментарий ревьюера 2 ❌</h2>\n",
    "\n",
    "Не отработал код выше.\n",
    "</div>"
   ]
  },
  {
   "cell_type": "markdown",
   "metadata": {},
   "source": [
    "<div class=\"alert alert-danger\" style=\"border-radius: 15px; box-shadow: 4px 4px 4px; border: 1px solid \">\n",
    "<h2> Комментарий ревьюера  ❌</h2>\n",
    "    \n",
    "- Рекомендую использовать `OneHotEncoder(handle_unknown='ignore')` из sklearn, он куда более эффективен. Важно тут и то, что он умеет учитывать и неизвестные категории, что встречается довольно часто. Попробуешь? Алгоритмы вроде CatBoost или  LightGBM имеют свои кодировщики, поэтому тут достаточно преобразовать данные в нужный тип. \n",
    "\n",
    "\n",
    "\n",
    "- Ты можешь указать список столбцов вместо повторения одной и той же строки кода.</div>"
   ]
  },
  {
   "cell_type": "code",
   "execution_count": 249,
   "metadata": {
    "scrolled": true
   },
   "outputs": [
    {
     "ename": "NameError",
     "evalue": "name 'X_train_final_encoded' is not defined",
     "output_type": "error",
     "traceback": [
      "\u001b[0;31m---------------------------------------------------------------------------\u001b[0m",
      "\u001b[0;31mNameError\u001b[0m                                 Traceback (most recent call last)",
      "\u001b[0;32m<timed exec>\u001b[0m in \u001b[0;36m<module>\u001b[0;34m\u001b[0m\n",
      "\u001b[0;31mNameError\u001b[0m: name 'X_train_final_encoded' is not defined"
     ]
    }
   ],
   "source": [
    "%%time\n",
    "model = LinearRegression()\n",
    "\n",
    "model.fit(X_train_final_encoded, y_train_final)"
   ]
  },
  {
   "cell_type": "markdown",
   "metadata": {},
   "source": [
    "<div class=\"alert alert-danger\" style=\"border-radius: 15px; box-shadow: 4px 4px 4px; border: 1px solid \">\n",
    "<h2> Комментарий ревьюера  ❌</h2>\n",
    "    \n",
    "У тебя тут корректно отработала ячейка? `%%time` нужно указывать в начале ячейки. \n",
    "</div>"
   ]
  },
  {
   "cell_type": "markdown",
   "metadata": {},
   "source": [
    "<div style=\"border-radius: 15px; border: 2px solid steelblue; background-color: lavender; padding: 15px;\">\n",
    "  <h3>🧑‍🎓 Комментарий студента 🖋️ Версия 1.0 </h3>\n",
    "поправил\n",
    "  \n",
    "</div>\n"
   ]
  },
  {
   "cell_type": "code",
   "execution_count": null,
   "metadata": {},
   "outputs": [],
   "source": [
    "y_pred = model.predict(X_valid_encoded)"
   ]
  },
  {
   "cell_type": "markdown",
   "metadata": {},
   "source": []
  },
  {
   "cell_type": "markdown",
   "metadata": {},
   "source": [
    "<div class=\"alert alert-success\" style=\"border-radius: 15px; box-shadow: 4px 4px 4px; border: 1px solid \">\n",
    "<h2> Комментарий ревьюера 2 ✔️</h2>\n",
    "    \n",
    "Хорошо.    \n",
    "</div>\n",
    "<div class=\"alert alert-danger\" style=\"border-radius: 15px; box-shadow: 4px 4px 4px; border: 1px solid \">\n",
    "<h2> Комментарий ревьюера 2 ❌</h2>\n",
    "    \n",
    "Время предсказания тоже надо замерять. Исправь, пожалуйста, тут и далее. \n",
    "\n",
    "</div>\n",
    "<div class=\"alert alert-danger\" style=\"border-radius: 15px; box-shadow: 4px 4px 4px; border: 1px solid \">\n",
    "<h2> Комментарий ревьюера  ❌</h2>\n",
    "    \n",
    "- Пожалуйста, сохрани тестовую выборку для финального теста лучшей модели. RMSE следует считать на тренировочной или валидационной выборке. Либо делим данные на 3 множества, либо используем поиск по сетке при подборе гиперпараметров. \n",
    "\n",
    "\n",
    "- Нам надо также посчитать и время предсказания для каждой модели.</div>"
   ]
  },
  {
   "cell_type": "markdown",
   "metadata": {},
   "source": [
    "<div style=\"border-radius: 15px; border: 2px solid steelblue; background-color: lavender; padding: 15px;\">\n",
    "  <h3>🧑‍🎓 Комментарий студента 🖋️ Версия 1.0 </h3>\n",
    "поправил\n",
    "  \n",
    "</div>\n"
   ]
  },
  {
   "cell_type": "code",
   "execution_count": null,
   "metadata": {},
   "outputs": [],
   "source": [
    "mse = mean_squared_error(y_valid, y_pred)\n",
    "rmse = np.sqrt(mse)\n",
    "r2 = r2_score(y_valid, y_pred)\n",
    "\n",
    "print(f\"RMSE: {rmse}\")\n",
    "print(f\"R^2: {r2}\")"
   ]
  },
  {
   "cell_type": "raw",
   "metadata": {},
   "source": [
    "R²: 0.4096\n",
    "Коэффициент детерминации — это доля дисперсии целевой переменной, которую объясняет модель. Диапазон:\n",
    "\n",
    "0 = модель бесполезна\n",
    "\n",
    "1 = идеальное предсказание\n",
    "\n",
    "< 0 = модель хуже, чем просто среднее\n",
    "\n",
    "🔹 Модель объясняет около 41% разброса в цене.\n",
    "\n",
    "Это неплохой результат для базовой линейной регрессии на \"сырых\" данных, особенно с выбросами и грязными признаками. Но он говорит, что больше половины вариации в цене остаётся необъяснённой.\n",
    "\n"
   ]
  },
  {
   "cell_type": "markdown",
   "metadata": {},
   "source": [
    "<div class=\"alert alert-danger\" style=\"border-radius: 15px; box-shadow: 4px 4px 4px; border: 1px solid \">\n",
    "<h2> Комментарий ревьюера  ❌</h2>\n",
    "    \n",
    "Порог надо проходить на финальном тесте лучшей модели. Мы не тестируем каждую модель на тестовой выборке. Так мы имитируем реальный процесс разработки, в котором мы сначала пробуем разные модели, выбираем лучшую из них и отправляем ее в релиз. Именно по этой причине мы не тестируем все модели на тестовой выборке - в реальности в релиз идет одна модель, а не все. Точно так же в магазине приложений публикуется одна версия приложения, а не все. На тестовой выборке, которую модель никогда не видела, мы оцениваем ее обобщающие способности, чтобы посмотреть, как она будет вести себя на новых данных.\n",
    "</div>"
   ]
  },
  {
   "cell_type": "markdown",
   "metadata": {},
   "source": [
    "<div style=\"border-radius: 15px; border: 2px solid steelblue; background-color: lavender; padding: 15px;\">\n",
    "  <h3>🧑‍🎓 Комментарий студента 🖋️ Версия 1.0 </h3>\n",
    "поправил\n",
    "  \n",
    "</div>\n"
   ]
  },
  {
   "cell_type": "markdown",
   "metadata": {},
   "source": [
    "Посмотрим какие признаки влияют на модель"
   ]
  },
  {
   "cell_type": "code",
   "execution_count": null,
   "metadata": {},
   "outputs": [],
   "source": [
    "X_train_final_encoded = ohe.transform(X_train_final)\n",
    "\n",
    "# получим список имён после OneHotEncoder\n",
    "ohe_names = ohe.named_transformers_['ohe'].get_feature_names_out(categorical_features)\n",
    "# остальные столбцы без преобразования\n",
    "other_names = [c for c in X_train_final.columns if c not in categorical_features]\n",
    "\n",
    "# создаём DataFrame\n",
    "X_train_df = pd.DataFrame(\n",
    "    X_train_final_encoded.toarray() if hasattr(X_train_final_encoded, \"toarray\") else X_train_final_encoded,\n",
    "    columns=list(ohe_names) + other_names,\n",
    "    index=X_train_final.index\n",
    ")\n",
    "\n",
    "# теперь можно\n",
    "feature_counts = X_train_df.iloc[:, len(ohe_names):].sum().sort_values()\n",
    "print(feature_counts)"
   ]
  },
  {
   "cell_type": "code",
   "execution_count": null,
   "metadata": {},
   "outputs": [],
   "source": [
    "coefs = pd.Series(model.coef_, index=X_train_df.columns)\n",
    "coefs_sorted = coefs.sort_values(key=abs, ascending=False)  # сортировка по модулю\n",
    "print(coefs_sorted)"
   ]
  },
  {
   "cell_type": "markdown",
   "metadata": {},
   "source": [
    "<div class=\"alert alert-danger\" style=\"border-radius: 15px; box-shadow: 4px 4px 4px; border: 1px solid \">\n",
    "<h2> Комментарий ревьюера  ❌</h2>\n",
    "    \n",
    "Не отработала ячейка.     \n",
    "</div>"
   ]
  },
  {
   "cell_type": "markdown",
   "metadata": {},
   "source": [
    "<div style=\"border-radius: 15px; border: 2px solid steelblue; background-color: lavender; padding: 15px;\">\n",
    "  <h3>🧑‍🎓 Комментарий студента 🖋️ Версия 1.0 </h3>\n",
    "поправил\n",
    "  \n",
    "</div>\n"
   ]
  },
  {
   "cell_type": "code",
   "execution_count": null,
   "metadata": {},
   "outputs": [],
   "source": []
  },
  {
   "cell_type": "markdown",
   "metadata": {},
   "source": [
    "Имеются признаки с редкими значениями дают большие веса. Это опасно для линейной модели — т.к она пытается \"запомнить\" редкость, а не обучиться закономерности:\n",
    "\n",
    "FuelType_electric: 88 примеров, но вес −1400 — вероятно переобучение\n",
    "\n",
    "FuelType_hybrid: 230 строк — вес +1300\n",
    "\n",
    "FuelType_lpg, FuelType_other: то же самое\n",
    "\n",
    "Вывод: это сильный аргумент за то, чтобы объединить в FuelType_rare"
   ]
  },
  {
   "cell_type": "code",
   "execution_count": null,
   "metadata": {},
   "outputs": [],
   "source": [
    "rare_fuels = [\"electric\", \"hybrid\", \"lpg\", \"other\"]\n",
    "data[\"FuelType\"] = data[\"FuelType\"].replace(rare_fuels, \"rare\")\n",
    "\n"
   ]
  },
  {
   "cell_type": "code",
   "execution_count": null,
   "metadata": {},
   "outputs": [],
   "source": [
    "data.info()"
   ]
  },
  {
   "cell_type": "code",
   "execution_count": null,
   "metadata": {},
   "outputs": [],
   "source": [
    "data.FuelType.unique()"
   ]
  },
  {
   "cell_type": "code",
   "execution_count": null,
   "metadata": {},
   "outputs": [],
   "source": [
    "\n",
    "X_train_final2, X_valid2, y_train_final2, y_valid2 = train_test_split(\n",
    "    X_train, y_train, test_size=0.2, random_state=42\n",
    ")\n",
    "\n",
    "num_cols = [\"Power\", \"Kilometer\", \"ModelFreq\"]\n",
    "scaler2 = StandardScaler()\n",
    "X_train_final2[num_cols] = scaler2.fit_transform(X_train_final2[num_cols])\n",
    "X_valid2[num_cols] = scaler2.transform(X_valid2[num_cols])\n",
    "\n",
    "X_test[num_cols] = scaler2.transform(X_test[num_cols])\n",
    "\n",
    "# Кодировщик\n",
    "ohe = ColumnTransformer(\n",
    "    transformers=[\n",
    "        (\"ohe\", OneHotEncoder(drop='first', handle_unknown='ignore'), categorical_features)\n",
    "    ],\n",
    "    remainder='passthrough'\n",
    ")\n",
    "\n",
    "X_train_final_encoded2 = ohe.fit_transform(X_train_final2)\n",
    "\n",
    "X_valid_encoded2 = ohe.transform(X_valid2)\n",
    "\n",
    "X_test_encoded2 = ohe.transform(X_test)\n",
    "\n",
    "\n",
    "\n"
   ]
  },
  {
   "cell_type": "code",
   "execution_count": null,
   "metadata": {},
   "outputs": [],
   "source": [
    "%%time\n",
    "model2 = LinearRegression()\n",
    "model2.fit(X_train_final_encoded2, y_train_final2)"
   ]
  },
  {
   "cell_type": "markdown",
   "metadata": {},
   "source": [
    "<div class=\"alert alert-danger\" style=\"border-radius: 15px; box-shadow: 4px 4px 4px; border: 1px solid \">\n",
    "<h2> Комментарий ревьюера  ❌</h2>\n",
    "    \n",
    "Тот же комментарий, что и ранее.     \n",
    "</div>"
   ]
  },
  {
   "cell_type": "markdown",
   "metadata": {},
   "source": [
    "<div style=\"border-radius: 15px; border: 2px solid steelblue; background-color: lavender; padding: 15px;\">\n",
    "  <h3>🧑‍🎓 Комментарий студента 🖋️ Версия 1.0 </h3>\n",
    "поправил\n",
    "  \n",
    "</div>\n"
   ]
  },
  {
   "cell_type": "code",
   "execution_count": null,
   "metadata": {},
   "outputs": [],
   "source": [
    "\n",
    "y_pred2 = model2.predict(X_valid_encoded2)\n",
    "\n",
    "mse2= mean_squared_error(y_valid2, y_pred2)\n",
    "rmse2 = np.sqrt(mse2)\n",
    "r2_2 = r2_score(y_valid2, y_pred2)\n",
    "\n",
    "print(f\"RMSE: {rmse2}\")\n",
    "print(f\"R^2: {r2_2}\")\n"
   ]
  },
  {
   "cell_type": "markdown",
   "metadata": {},
   "source": [
    "Не помогло"
   ]
  },
  {
   "cell_type": "markdown",
   "metadata": {},
   "source": [
    "<div class=\"alert alert-danger\" style=\"border-radius: 15px; box-shadow: 4px 4px 4px; border: 1px solid \">\n",
    "<h2> Комментарий ревьюера  ❌</h2>\n",
    "    \n",
    "Тут тоже не следует сразу оценивать модель на тесте. Здесь и далее, исправь, пожалуйста. \n",
    "    \n",
    "</div>"
   ]
  },
  {
   "cell_type": "markdown",
   "metadata": {},
   "source": [
    "<div style=\"border-radius: 15px; border: 2px solid steelblue; background-color: lavender; padding: 15px;\">\n",
    "  <h3>🧑‍🎓 Комментарий студента 🖋️ Версия 1.0 </h3>\n",
    "Хорошо\n",
    "  \n",
    "</div>\n"
   ]
  },
  {
   "cell_type": "code",
   "execution_count": null,
   "metadata": {},
   "outputs": [],
   "source": [
    "model3 = Ridge(alpha=1.0)\n"
   ]
  },
  {
   "cell_type": "code",
   "execution_count": null,
   "metadata": {},
   "outputs": [],
   "source": [
    "%%time\n",
    "model3.fit(X_train_final_encoded2, y_train_final2)"
   ]
  },
  {
   "cell_type": "code",
   "execution_count": null,
   "metadata": {},
   "outputs": [],
   "source": [
    "\n",
    "y_pred3= model3.predict(X_valid_encoded2)\n",
    "\n",
    "mse3= mean_squared_error(y_valid2, y_pred3)\n",
    "rmse3 = np.sqrt(mse3)\n",
    "r2_3 = r2_score(y_valid2, y_pred3)\n",
    "\n",
    "print(f\"RMSE: {rmse3}\")\n",
    "print(f\"R^2: {r2_3}\")"
   ]
  },
  {
   "cell_type": "markdown",
   "metadata": {},
   "source": [
    "Не помогло это тоже"
   ]
  },
  {
   "cell_type": "code",
   "execution_count": null,
   "metadata": {},
   "outputs": [],
   "source": [
    "Время для тяжелой артиллерии:"
   ]
  },
  {
   "cell_type": "code",
   "execution_count": null,
   "metadata": {},
   "outputs": [],
   "source": [
    "from catboost import CatBoostRegressor\n",
    "from catboost import CatBoostRegressor, Pool"
   ]
  },
  {
   "cell_type": "code",
   "execution_count": null,
   "metadata": {},
   "outputs": [],
   "source": [
    "data.info()"
   ]
  },
  {
   "cell_type": "code",
   "execution_count": null,
   "metadata": {},
   "outputs": [],
   "source": [
    "\n",
    "\n",
    "features = [\n",
    "    \"VehicleType\", \"Gearbox\", \"Power\", \"Kilometer\",\n",
    "    \"FuelType\", \"Brand\", \"ModelFreq\", \"Repaired\",\n",
    "    \"RegSeason\", \"BrandClass\"\n",
    "]\n",
    "\n",
    "categorical_features = [\n",
    "    \"VehicleType\", \"Gearbox\", \"FuelType\", \"Brand\",\n",
    "    \"Repaired\", \"RegSeason\", \"BrandClass\"\n",
    "]\n",
    "\n",
    "\n",
    "X4 = data[features]\n",
    "y4 = data[\"Price\"]\n",
    "\n",
    "X_train4, X_test4, y_train4, y_test4 = train_test_split(X4, y4, test_size=0.2, random_state=42)\n",
    "\n",
    "X_train_valid, X_test_valid, y_train_valid, y_test_valid = train_test_split(X_train4, y_train4, test_size=0.2, random_state=42)\n",
    "\n",
    "\n",
    "train_pool = Pool(X_train_valid, y_train_valid, cat_features=categorical_features)\n",
    "test_pool = Pool(X_test_valid, y_test_valid, cat_features=categorical_features)\n",
    "\n",
    "test_pool_final4 = Pool(X_test4, y_test4, cat_features=categorical_features)\n",
    "model4 = CatBoostRegressor(\n",
    "    iterations=500,\n",
    "    learning_rate=0.05,\n",
    "    depth=6,\n",
    "    eval_metric=\"RMSE\",\n",
    "    random_seed=42,\n",
    "    verbose=100\n",
    ")\n",
    "\n"
   ]
  },
  {
   "cell_type": "code",
   "execution_count": null,
   "metadata": {},
   "outputs": [],
   "source": [
    "%%time\n",
    "model4.fit(train_pool, eval_set=test_pool, early_stopping_rounds=50)\n",
    "\n"
   ]
  },
  {
   "cell_type": "code",
   "execution_count": null,
   "metadata": {},
   "outputs": [],
   "source": [
    "\n",
    "y_pred4 = model4.predict(X_test_valid)"
   ]
  },
  {
   "cell_type": "code",
   "execution_count": null,
   "metadata": {},
   "outputs": [],
   "source": [
    "\n",
    "mse4= mean_squared_error(y_test_valid, y_pred4)\n",
    "rmse4 = np.sqrt(mse4)\n",
    "r2_4 = r2_score(y_test_valid, y_pred4)\n",
    "\n",
    "print(f\"RMSE: {rmse4}\")\n",
    "print(f\"R^2: {r2_4}\")"
   ]
  },
  {
   "cell_type": "code",
   "execution_count": null,
   "metadata": {},
   "outputs": [],
   "source": []
  },
  {
   "cell_type": "code",
   "execution_count": null,
   "metadata": {},
   "outputs": [],
   "source": [
    "%%time\n",
    "from sklearn.linear_model import Ridge\n",
    "from sklearn.model_selection import GridSearchCV\n",
    "\n",
    "ridge = Ridge()\n",
    "params = {\n",
    "    'alpha': [0.01, 0.1, 1.0, 10.0, 100.0],\n",
    "    'fit_intercept': [True, False]\n",
    "}\n",
    "\n",
    "grid_ridge = GridSearchCV(ridge, params, cv=5, scoring='neg_root_mean_squared_error', n_jobs=-1)\n",
    "grid_ridge.fit(X_train_final_encoded2, y_train_final2)\n",
    "\n",
    "print(\"Лучшие параметры Ridge:\", grid_ridge.best_params_)\n",
    "print(\"Лучшее RMSE (на кросс-валидации):\", -grid_ridge.best_score_)\n"
   ]
  },
  {
   "cell_type": "code",
   "execution_count": null,
   "metadata": {},
   "outputs": [],
   "source": [
    "%%time\n",
    "\n",
    "cat = CatBoostRegressor(verbose=0, random_seed=42)\n",
    "\n",
    "params = {\n",
    "    'depth': [4, 6, 8],\n",
    "    'learning_rate': [0.03, 0.05, 0.1],\n",
    "    'iterations': [200, 500]\n",
    "}\n",
    "\n",
    "grid_cat = GridSearchCV(\n",
    "    estimator=cat,\n",
    "    param_grid=params,\n",
    "    cv=3,\n",
    "    n_jobs=-1\n",
    ")\n",
    "\n",
    "grid_cat.fit(X_train_valid, y_train_valid, cat_features=categorical_features)\n",
    "\n",
    "print(\"Лучшие параметры CatBoost:\", grid_cat.best_params_)\n",
    "print(\"Лучшее RMSE (на кросс-валидации):\", -grid_cat.best_score_)\n"
   ]
  },
  {
   "cell_type": "code",
   "execution_count": null,
   "metadata": {},
   "outputs": [],
   "source": []
  },
  {
   "cell_type": "code",
   "execution_count": null,
   "metadata": {},
   "outputs": [],
   "source": []
  },
  {
   "cell_type": "markdown",
   "metadata": {},
   "source": [
    "<div class=\"alert alert-success\" style=\"border-radius: 15px; box-shadow: 4px 4px 4px; border: 1px solid \">\n",
    "<h2> Комментарий ревьюера ✔️</h2>\n",
    "    \n",
    "Отличная работа! \n",
    "</div>\n",
    "\n",
    "<div class=\"alert alert-danger\" style=\"border-radius: 15px; box-shadow: 4px 4px 4px; border: 1px solid \">\n",
    "<h2> Комментарий ревьюера  ❌</h2>\n",
    "    \n",
    "Попробуй провести тюнинг гиперпараметров хотя бы для одной из моделей. \n",
    "\n",
    "</div>"
   ]
  },
  {
   "cell_type": "markdown",
   "metadata": {},
   "source": [
    "## Анализ моделей на тестовой выборке"
   ]
  },
  {
   "cell_type": "markdown",
   "metadata": {},
   "source": [
    "<div class=\"alert alert-danger\" style=\"border-radius: 15px; box-shadow: 4px 4px 4px; border: 1px solid \">\n",
    "<h2> Комментарий ревьюера 2 ❌</h2>\n",
    "    \n",
    "Тестируется одна модель, не все. Ты ведь в реальности деплоить будешь только одну модель, а не все 5, 10 или даже 20, которые ты пробовал. Представь, что ты пишешь приложение на телефон. Ты будешь выпускать в публичный тест одну версию или десяток? Тут то же самое. \n",
    "\n",
    "</div>"
   ]
  },
  {
   "cell_type": "code",
   "execution_count": null,
   "metadata": {},
   "outputs": [],
   "source": [
    "# LinearRegression 1\n",
    "\n",
    "y_pred_final1= model.predict(X_test_encoded)\n",
    "\n",
    "mse_final1= mean_squared_error(y_test, y_pred_final1)\n",
    "rmse_final1 = np.sqrt(mse_final1)\n",
    "r2_final1 = r2_score(y_test, y_pred_final1)\n",
    "\n",
    "print(f\"RMSE: {rmse}\")\n",
    "print(f\"R^2: {r2}\\n\")\n",
    "\n",
    "print(f\"RMSE: {rmse_final1}\")\n",
    "print(f\"R^2: {r2_final1}\")"
   ]
  },
  {
   "cell_type": "code",
   "execution_count": null,
   "metadata": {},
   "outputs": [],
   "source": [
    "# LinearRegression 2\n",
    "\n",
    "y_pred_final2= model2.predict(X_test_encoded2)\n",
    "\n",
    "mse_final2= mean_squared_error(y_test, y_pred_final2)\n",
    "rmse_final2 = np.sqrt(mse_final2)\n",
    "r2_final2 = r2_score(y_test, y_pred_final2)\n",
    "\n",
    "print(f\"RMSE: {rmse2}\")\n",
    "print(f\"R^2: {r2_2}\\n\")\n",
    "\n",
    "print(f\"RMSE: {rmse_final2}\")\n",
    "print(f\"R^2: {r2_final2}\")"
   ]
  },
  {
   "cell_type": "code",
   "execution_count": null,
   "metadata": {},
   "outputs": [],
   "source": [
    "# Ridge\n",
    "\n",
    "y_pred_final3= model3.predict(X_test_encoded2)\n",
    "\n",
    "mse_final3= mean_squared_error(y_test, y_pred_final3)\n",
    "rmse_final3 = np.sqrt(mse_final3)\n",
    "r2_final3 = r2_score(y_test, y_pred_final3)\n",
    "\n",
    "print(f\"RMSE: {rmse3}\")\n",
    "print(f\"R^2: {r2_3}\\n\")\n",
    "\n",
    "print(f\"RMSE: {rmse_final3}\")\n",
    "print(f\"R^2: {r2_final3}\")\n"
   ]
  },
  {
   "cell_type": "code",
   "execution_count": null,
   "metadata": {},
   "outputs": [],
   "source": [
    "# catboost\n",
    "\n",
    "y_pred_final4= model4.predict(X_test4)\n",
    "\n",
    "mse_final4= mean_squared_error(y_test, y_pred_final4)\n",
    "rmse_final4 = np.sqrt(mse_final4)\n",
    "r2_final4 = r2_score(y_test4, y_pred_final3)\n",
    "\n",
    "\n",
    "print(f\"Before:RMSE: {rmse4}\")\n",
    "print(f\"Before:R^2: {r2_4}\\n\")\n",
    "\n",
    "print(f\"After: RMSE: {rmse_final4}\")\n",
    "print(f\"After: R^2: {r2_final4}\")\n"
   ]
  },
  {
   "cell_type": "code",
   "execution_count": null,
   "metadata": {},
   "outputs": [],
   "source": [
    "#Grid Searches:\n",
    "\n",
    "y_pred_grid= grid_ridge.predict(X_test_encoded2)\n",
    "\n",
    "mse_grid= mean_squared_error(y_test, y_pred_grid)\n",
    "rmse_grid = np.sqrt(mse_grid)\n",
    "\n",
    "\n",
    "print(\"Лучшее RMSE (на кросс-валидации):\", -grid_ridge.best_score_)\n",
    "\n",
    "print(f\"Лучшее RMSE на тестовой выборке: {rmse_grid}\")\n"
   ]
  },
  {
   "cell_type": "code",
   "execution_count": null,
   "metadata": {},
   "outputs": [],
   "source": [
    "#Cat grid:\n",
    "\n",
    "y_pred_grid2= grid_cat.predict(X_test4)\n",
    "\n",
    "mse_grid2= mean_squared_error(y_test, y_pred_grid2)\n",
    "rmse_grid2 = np.sqrt(mse_grid2)\n",
    "\n",
    "\n",
    "\n",
    "print(\"Лучшее RMSE (на кросс-валидации):\", -grid_cat.best_score_)\n",
    "\n",
    "print(f\"Лучшее RMSE на тестовой выборке: {rmse_grid2}\")\n"
   ]
  },
  {
   "cell_type": "markdown",
   "metadata": {},
   "source": [
    "Бустинг с подбором гиперпараметров дал наилучший результат по rmse на тестовой выборке: 2205\n",
    "Однако по времени обучения заняло 13 минут.\n",
    "\n",
    "Это значительно лучше, чем результаты LinearRegression и Ridge, которые не прошли по порогу в 2500.\n",
    "На 8% лучше, чем CatBoost без подбора (2392)\n",
    "RMSE ≈ 2392 означает, что модель в среднем ошибается на эту величину. С учётом задач и диапазона цен — это можно считать приемлемым качеством за приемлемое время "
   ]
  },
  {
   "cell_type": "markdown",
   "metadata": {},
   "source": [
    "<div class=\"alert alert-success\" style=\"border-radius: 15px; box-shadow: 4px 4px 4px; border: 1px solid \">\n",
    "<h2> Комментарий ревьюера  ✔️</h2>\n",
    "    \n",
    "Хорошо.\n",
    "</div>\n",
    "<div class=\"alert alert-danger\" style=\"border-radius: 15px; box-shadow: 4px 4px 4px; border: 1px solid\">\n",
    "<h2> Комментарий ревьюера ❌</h2>\n",
    "    \n",
    "На этом этапе выбирается лучшая модель и проводится финальный тест на отложенной выборке. Попробуешь? \n",
    "</div>\n",
    "<div class=\"alert alert-warning\" style=\"border-radius: 15px; box-shadow: 4px 4px 4px; border: 1px solid \">\n",
    "<h2> Комментарий ревьюера  ⚠️</h2>\n",
    "    \n",
    "Напомню, что лучшая модель - не всегда та, у которой меньше ошибка. Иногда ошибки отличаются несильно, но зато сильно отличается время предсказания. В таком случае стоит рассмотреть более быструю модель. Просто сравни медленный поисковик, который найдет 10 полезных ссылок, и быстрый, который найдет 9. Это особенно важно, если модель должна работать на лету и выдавать результаты множество раз. Если программа запускается всего один раз, то иногда даже неважно, насколько она быстрая. А если надо постоянно использовать, то стоит думать и про оптимизацию. Так что в реальности, помимо остальных требований, есть еще ограничения на время работы модели. \n",
    "\n",
    "</div>"
   ]
  },
  {
   "cell_type": "markdown",
   "metadata": {},
   "source": [
    "План: сдать за n итераций. На k+1 итерации что-то подправить, выполнить и задать вопросов. Нa k+2 итерации выполнить с учетом замечаний. \n",
    "\n",
    "Жду вопросов и фидбек))"
   ]
  },
  {
   "cell_type": "markdown",
   "metadata": {},
   "source": [
    "<div class=\"alert alert-success\" style=\"border-radius: 15px; box-shadow: 4px 4px 4px; border: 1px solid \">\n",
    "<h2> Комментарий ревьюера ✔️</h2>\n",
    "    \n",
    "В целом, все хорошо. Несколько корректировок внести, и будет отлично :)\n",
    "</div>\n",
    "\n",
    "<div class=\"alert alert-danger\" style=\"border-radius: 15px; box-shadow: 4px 4px 4px; border: 1px solid \">\n",
    "<h2> Комментарий ревьюера  ❌</h2>\n",
    "    \n",
    "Не забудь про общий вывод потом :) \n",
    "    \n",
    "</div>"
   ]
  },
  {
   "cell_type": "markdown",
   "metadata": {},
   "source": [
    "## Общий вывод\n",
    "\n",
    "В рамках проекта был реализован полный цикл построения модели машинного обучения для предсказания рыночной стоимости автомобилей:\n",
    "\n",
    "- Выполнена предварительная обработка данных:\n",
    "  - заполнены пропущенные значения;\n",
    "  - устранены выбросы и аномалии;\n",
    "  - удалены дубликаты;\n",
    "  - преобразованы категориальные признаки.\n",
    "  \n",
    "- Добавлены новые признаки\n",
    "\n",
    "- Обучены и сравнены несколько моделей:\n",
    "  - `LinearRegression`;\n",
    "  - `Ridge`;\n",
    "  - `CatBoost`;\n",
    "\n",
    "- Для моделей `Ridge` и `CatBoost` был проведён подбор гиперпараметров с использованием `GridSearchCV`.\n",
    "\n",
    "- Проанализированы метрики качества (RMSE), а также время обучения и предсказания.\n",
    "\n",
    "**Наилучший результат** показала модель градиентного бустинга (`CatBoost`), которая удовлетворяет бизнес-критерию RMSE < 2500 и демонстрирует приемлемое время работы.\n",
    "\n",
    "Выбранная модель рекомендуется к использованию в продакшене.\n"
   ]
  },
  {
   "cell_type": "markdown",
   "metadata": {},
   "source": [
    "## Чек-лист проверки"
   ]
  },
  {
   "cell_type": "code",
   "execution_count": null,
   "metadata": {},
   "outputs": [],
   "source": []
  },
  {
   "cell_type": "markdown",
   "metadata": {},
   "source": [
    "Поставьте 'x' в выполненных пунктах. Далее нажмите Shift+Enter."
   ]
  },
  {
   "cell_type": "markdown",
   "metadata": {},
   "source": [
    "- [x]  Jupyter Notebook открыт\n",
    "- [ ]  Весь код выполняется без ошибок\n",
    "- [ ]  Ячейки с кодом расположены в порядке исполнения\n",
    "- [ ]  Выполнена загрузка и подготовка данных\n",
    "- [ ]  Выполнено обучение моделей\n",
    "- [ ]  Есть анализ скорости работы и качества моделей"
   ]
  },
  {
   "cell_type": "code",
   "execution_count": null,
   "metadata": {},
   "outputs": [],
   "source": []
  }
 ],
 "metadata": {
  "ExecuteTimeLog": [
   {
    "duration": 432,
    "start_time": "2025-06-17T19:36:58.964Z"
   },
   {
    "duration": 902,
    "start_time": "2025-06-17T19:37:16.078Z"
   },
   {
    "duration": 962,
    "start_time": "2025-06-17T19:37:45.961Z"
   },
   {
    "duration": 868,
    "start_time": "2025-06-17T19:37:55.401Z"
   },
   {
    "duration": 13,
    "start_time": "2025-06-17T19:38:06.001Z"
   },
   {
    "duration": 148,
    "start_time": "2025-06-17T19:38:16.444Z"
   },
   {
    "duration": 22,
    "start_time": "2025-06-17T19:52:27.874Z"
   },
   {
    "duration": 38,
    "start_time": "2025-06-17T19:52:45.630Z"
   },
   {
    "duration": 39,
    "start_time": "2025-06-17T19:54:05.984Z"
   },
   {
    "duration": 40,
    "start_time": "2025-06-17T19:56:50.634Z"
   },
   {
    "duration": 39,
    "start_time": "2025-06-17T19:57:27.976Z"
   },
   {
    "duration": 39,
    "start_time": "2025-06-17T19:58:16.926Z"
   },
   {
    "duration": 64,
    "start_time": "2025-06-17T19:58:49.779Z"
   },
   {
    "duration": 35,
    "start_time": "2025-06-17T19:58:53.130Z"
   },
   {
    "duration": 7,
    "start_time": "2025-06-17T20:00:51.776Z"
   },
   {
    "duration": 20,
    "start_time": "2025-06-17T20:01:07.370Z"
   },
   {
    "duration": 29,
    "start_time": "2025-06-17T20:01:15.700Z"
   },
   {
    "duration": 3,
    "start_time": "2025-06-17T20:01:35.548Z"
   },
   {
    "duration": 28,
    "start_time": "2025-06-17T20:01:40.616Z"
   },
   {
    "duration": 24,
    "start_time": "2025-06-17T20:02:35.513Z"
   },
   {
    "duration": 43,
    "start_time": "2025-06-17T20:02:43.499Z"
   },
   {
    "duration": 27,
    "start_time": "2025-06-17T20:04:42.723Z"
   },
   {
    "duration": 31,
    "start_time": "2025-06-17T20:04:49.588Z"
   },
   {
    "duration": 36,
    "start_time": "2025-06-17T20:15:31.828Z"
   },
   {
    "duration": 39,
    "start_time": "2025-06-17T20:18:06.630Z"
   },
   {
    "duration": 137,
    "start_time": "2025-06-17T20:19:33.656Z"
   },
   {
    "duration": 92,
    "start_time": "2025-06-17T20:21:23.202Z"
   },
   {
    "duration": 100,
    "start_time": "2025-06-17T20:21:26.376Z"
   },
   {
    "duration": 60,
    "start_time": "2025-06-17T20:21:39.479Z"
   },
   {
    "duration": 37,
    "start_time": "2025-06-17T20:21:57.597Z"
   },
   {
    "duration": 49,
    "start_time": "2025-06-17T20:22:30.818Z"
   },
   {
    "duration": 871,
    "start_time": "2025-06-17T20:25:17.782Z"
   },
   {
    "duration": 38,
    "start_time": "2025-06-17T20:26:45.774Z"
   },
   {
    "duration": 32,
    "start_time": "2025-06-17T20:27:09.776Z"
   },
   {
    "duration": 36,
    "start_time": "2025-06-17T20:30:04.748Z"
   },
   {
    "duration": 2708,
    "start_time": "2025-06-18T16:13:24.769Z"
   },
   {
    "duration": 59,
    "start_time": "2025-06-18T16:28:36.952Z"
   },
   {
    "duration": 474,
    "start_time": "2025-06-18T16:28:41.665Z"
   },
   {
    "duration": 971,
    "start_time": "2025-06-18T16:28:42.141Z"
   },
   {
    "duration": 20,
    "start_time": "2025-06-18T16:28:43.114Z"
   },
   {
    "duration": 154,
    "start_time": "2025-06-18T16:28:44.887Z"
   },
   {
    "duration": 39,
    "start_time": "2025-06-18T16:28:47.165Z"
   },
   {
    "duration": 47,
    "start_time": "2025-06-18T16:28:48.482Z"
   },
   {
    "duration": 30,
    "start_time": "2025-06-18T16:28:49.008Z"
   },
   {
    "duration": 100,
    "start_time": "2025-06-18T16:28:59.332Z"
   },
   {
    "duration": 63,
    "start_time": "2025-06-18T16:29:10.501Z"
   },
   {
    "duration": 36,
    "start_time": "2025-06-18T16:29:12.236Z"
   },
   {
    "duration": 39,
    "start_time": "2025-06-18T16:29:13.161Z"
   },
   {
    "duration": 36,
    "start_time": "2025-06-18T16:29:23.455Z"
   },
   {
    "duration": 764,
    "start_time": "2025-06-18T16:29:24.882Z"
   },
   {
    "duration": 0,
    "start_time": "2025-06-18T16:29:25.648Z"
   },
   {
    "duration": 40,
    "start_time": "2025-06-18T16:29:25.908Z"
   },
   {
    "duration": 162,
    "start_time": "2025-06-18T16:32:01.587Z"
   },
   {
    "duration": 27,
    "start_time": "2025-06-18T16:32:17.083Z"
   },
   {
    "duration": 40,
    "start_time": "2025-06-18T16:32:34.248Z"
   },
   {
    "duration": 39,
    "start_time": "2025-06-18T16:34:43.086Z"
   },
   {
    "duration": 84,
    "start_time": "2025-06-18T18:01:51.727Z"
   },
   {
    "duration": 113,
    "start_time": "2025-06-18T18:03:52.779Z"
   },
   {
    "duration": 57,
    "start_time": "2025-06-18T18:03:54.341Z"
   },
   {
    "duration": 38,
    "start_time": "2025-06-18T18:03:56.946Z"
   },
   {
    "duration": 25,
    "start_time": "2025-06-18T18:04:04.819Z"
   },
   {
    "duration": 37,
    "start_time": "2025-06-18T18:04:21.075Z"
   },
   {
    "duration": 91,
    "start_time": "2025-06-18T18:08:09.890Z"
   },
   {
    "duration": 89,
    "start_time": "2025-06-18T18:08:45.704Z"
   },
   {
    "duration": 66,
    "start_time": "2025-06-18T18:08:50.739Z"
   },
   {
    "duration": 39,
    "start_time": "2025-06-18T18:08:57.419Z"
   },
   {
    "duration": 147,
    "start_time": "2025-06-18T18:09:26.823Z"
   },
   {
    "duration": 234,
    "start_time": "2025-06-18T18:10:32.107Z"
   },
   {
    "duration": 140,
    "start_time": "2025-06-18T18:10:38.599Z"
   },
   {
    "duration": 29,
    "start_time": "2025-06-18T18:11:16.225Z"
   },
   {
    "duration": 38,
    "start_time": "2025-06-18T18:11:29.398Z"
   },
   {
    "duration": 3,
    "start_time": "2025-06-18T18:14:11.045Z"
   },
   {
    "duration": 951,
    "start_time": "2025-06-18T18:14:11.333Z"
   },
   {
    "duration": 13,
    "start_time": "2025-06-18T18:14:12.286Z"
   },
   {
    "duration": 151,
    "start_time": "2025-06-18T18:14:13.614Z"
   },
   {
    "duration": 42,
    "start_time": "2025-06-18T18:14:15.797Z"
   },
   {
    "duration": 101,
    "start_time": "2025-06-18T18:14:17.466Z"
   },
   {
    "duration": 59,
    "start_time": "2025-06-18T18:14:17.999Z"
   },
   {
    "duration": 40,
    "start_time": "2025-06-18T18:14:19.219Z"
   },
   {
    "duration": 42,
    "start_time": "2025-06-18T18:14:19.856Z"
   },
   {
    "duration": 30,
    "start_time": "2025-06-18T18:14:25.949Z"
   },
   {
    "duration": 108,
    "start_time": "2025-06-18T18:14:31.635Z"
   },
   {
    "duration": 51,
    "start_time": "2025-06-18T18:14:55.886Z"
   },
   {
    "duration": 113,
    "start_time": "2025-06-18T18:14:58.869Z"
   },
   {
    "duration": 61,
    "start_time": "2025-06-18T18:15:01.898Z"
   },
   {
    "duration": 37,
    "start_time": "2025-06-18T18:15:02.776Z"
   },
   {
    "duration": 3,
    "start_time": "2025-06-18T18:23:27.302Z"
   },
   {
    "duration": 958,
    "start_time": "2025-06-18T18:23:27.533Z"
   },
   {
    "duration": 14,
    "start_time": "2025-06-18T18:23:28.492Z"
   },
   {
    "duration": 162,
    "start_time": "2025-06-18T18:23:28.717Z"
   },
   {
    "duration": 37,
    "start_time": "2025-06-18T18:23:36.436Z"
   },
   {
    "duration": 86,
    "start_time": "2025-06-18T18:23:37.740Z"
   },
   {
    "duration": 61,
    "start_time": "2025-06-18T18:23:38.138Z"
   },
   {
    "duration": 40,
    "start_time": "2025-06-18T18:23:38.821Z"
   },
   {
    "duration": 955,
    "start_time": "2025-06-18T18:23:59.235Z"
   },
   {
    "duration": 14,
    "start_time": "2025-06-18T18:24:00.193Z"
   },
   {
    "duration": 154,
    "start_time": "2025-06-18T18:24:01.361Z"
   },
   {
    "duration": 40,
    "start_time": "2025-06-18T18:24:03.326Z"
   },
   {
    "duration": 40,
    "start_time": "2025-06-18T18:24:35.326Z"
   },
   {
    "duration": 39,
    "start_time": "2025-06-18T18:24:42.691Z"
   },
   {
    "duration": 41,
    "start_time": "2025-06-18T18:24:48.312Z"
   },
   {
    "duration": 46,
    "start_time": "2025-06-18T18:24:55.808Z"
   },
   {
    "duration": 39,
    "start_time": "2025-06-18T18:26:44.082Z"
   },
   {
    "duration": 86,
    "start_time": "2025-06-18T18:26:45.150Z"
   },
   {
    "duration": 63,
    "start_time": "2025-06-18T18:26:46.197Z"
   },
   {
    "duration": 41,
    "start_time": "2025-06-18T18:26:47.019Z"
   },
   {
    "duration": 41,
    "start_time": "2025-06-18T18:26:51.781Z"
   },
   {
    "duration": 38,
    "start_time": "2025-06-18T18:26:53.615Z"
   },
   {
    "duration": 8,
    "start_time": "2025-06-18T18:27:02.224Z"
   },
   {
    "duration": 901,
    "start_time": "2025-06-18T18:28:04.531Z"
   },
   {
    "duration": 41,
    "start_time": "2025-06-18T18:28:09.110Z"
   },
   {
    "duration": 90,
    "start_time": "2025-06-18T18:28:10.903Z"
   },
   {
    "duration": 64,
    "start_time": "2025-06-18T18:28:11.387Z"
   },
   {
    "duration": 42,
    "start_time": "2025-06-18T18:28:12.618Z"
   },
   {
    "duration": 40,
    "start_time": "2025-06-18T18:28:14.899Z"
   },
   {
    "duration": 11,
    "start_time": "2025-06-18T18:28:26.339Z"
   },
   {
    "duration": 37,
    "start_time": "2025-06-18T18:29:04.568Z"
   },
   {
    "duration": 57,
    "start_time": "2025-06-18T18:29:57.624Z"
   },
   {
    "duration": 39,
    "start_time": "2025-06-18T18:29:58.405Z"
   },
   {
    "duration": 39,
    "start_time": "2025-06-18T18:29:59.065Z"
   },
   {
    "duration": 38,
    "start_time": "2025-06-18T18:30:27.908Z"
   },
   {
    "duration": 44,
    "start_time": "2025-06-18T18:30:38.517Z"
   },
   {
    "duration": 29,
    "start_time": "2025-06-18T18:30:39.117Z"
   },
   {
    "duration": 97,
    "start_time": "2025-06-18T18:30:40.833Z"
   },
   {
    "duration": 60,
    "start_time": "2025-06-18T18:30:41.172Z"
   },
   {
    "duration": 52,
    "start_time": "2025-06-18T18:30:43.966Z"
   },
   {
    "duration": 37,
    "start_time": "2025-06-18T18:30:44.562Z"
   },
   {
    "duration": 2,
    "start_time": "2025-06-18T18:30:54.876Z"
   },
   {
    "duration": 37,
    "start_time": "2025-06-18T18:30:55.909Z"
   },
   {
    "duration": 75,
    "start_time": "2025-06-18T18:30:58.716Z"
   },
   {
    "duration": 60,
    "start_time": "2025-06-18T18:31:00.159Z"
   },
   {
    "duration": 39,
    "start_time": "2025-06-18T18:31:00.891Z"
   },
   {
    "duration": 48,
    "start_time": "2025-06-18T18:31:09.405Z"
   },
   {
    "duration": 40,
    "start_time": "2025-06-18T18:31:11.469Z"
   },
   {
    "duration": 37,
    "start_time": "2025-06-18T18:31:12.468Z"
   },
   {
    "duration": 191,
    "start_time": "2025-06-18T18:31:15.232Z"
   },
   {
    "duration": 23,
    "start_time": "2025-06-18T18:31:17.031Z"
   },
   {
    "duration": 39,
    "start_time": "2025-06-18T18:31:17.617Z"
   },
   {
    "duration": 152,
    "start_time": "2025-06-18T18:31:30.124Z"
   },
   {
    "duration": 27,
    "start_time": "2025-06-18T18:31:55.532Z"
   },
   {
    "duration": 39,
    "start_time": "2025-06-18T18:32:27.307Z"
   },
   {
    "duration": 12,
    "start_time": "2025-06-18T18:32:32.804Z"
   },
   {
    "duration": 51,
    "start_time": "2025-06-18T19:58:23.310Z"
   },
   {
    "duration": 6,
    "start_time": "2025-06-18T19:59:04.523Z"
   },
   {
    "duration": 5,
    "start_time": "2025-06-18T19:59:17.802Z"
   },
   {
    "duration": 6,
    "start_time": "2025-06-18T19:59:28.365Z"
   },
   {
    "duration": 5,
    "start_time": "2025-06-18T19:59:33.466Z"
   },
   {
    "duration": 5,
    "start_time": "2025-06-18T19:59:42.176Z"
   },
   {
    "duration": 44,
    "start_time": "2025-06-18T20:00:06.540Z"
   },
   {
    "duration": 49,
    "start_time": "2025-06-18T20:00:31.437Z"
   },
   {
    "duration": 97,
    "start_time": "2025-06-18T20:00:55.529Z"
   },
   {
    "duration": 92,
    "start_time": "2025-06-18T20:01:24.588Z"
   },
   {
    "duration": 92,
    "start_time": "2025-06-18T20:01:29.783Z"
   },
   {
    "duration": 92,
    "start_time": "2025-06-18T20:01:42.154Z"
   },
   {
    "duration": 261,
    "start_time": "2025-06-18T20:03:07.815Z"
   },
   {
    "duration": 264,
    "start_time": "2025-06-18T20:03:30.212Z"
   },
   {
    "duration": 38,
    "start_time": "2025-06-18T20:04:06.499Z"
   },
   {
    "duration": 276,
    "start_time": "2025-06-18T20:08:09.185Z"
   },
   {
    "duration": 437,
    "start_time": "2025-06-18T20:08:34.463Z"
   },
   {
    "duration": 918,
    "start_time": "2025-06-18T20:08:34.902Z"
   },
   {
    "duration": 21,
    "start_time": "2025-06-18T20:08:37.263Z"
   },
   {
    "duration": 145,
    "start_time": "2025-06-18T20:08:38.306Z"
   },
   {
    "duration": 98,
    "start_time": "2025-06-18T20:08:39.320Z"
   },
   {
    "duration": 41,
    "start_time": "2025-06-18T20:08:52.941Z"
   },
   {
    "duration": 36,
    "start_time": "2025-06-18T20:08:56.573Z"
   },
   {
    "duration": 40,
    "start_time": "2025-06-18T20:09:02.691Z"
   },
   {
    "duration": 103,
    "start_time": "2025-06-18T20:09:27.983Z"
   },
   {
    "duration": 63,
    "start_time": "2025-06-18T20:09:29.600Z"
   },
   {
    "duration": 38,
    "start_time": "2025-06-18T20:09:30.212Z"
   },
   {
    "duration": 12,
    "start_time": "2025-06-18T20:09:33.164Z"
   },
   {
    "duration": 279,
    "start_time": "2025-06-18T20:11:25.590Z"
   },
   {
    "duration": 208,
    "start_time": "2025-06-18T20:11:36.195Z"
   },
   {
    "duration": 5,
    "start_time": "2025-06-18T20:11:45.193Z"
   },
   {
    "duration": 151,
    "start_time": "2025-06-18T21:06:02.884Z"
   },
   {
    "duration": 274,
    "start_time": "2025-06-18T21:06:52.814Z"
   },
   {
    "duration": 24,
    "start_time": "2025-06-18T21:07:05.982Z"
   },
   {
    "duration": 40,
    "start_time": "2025-06-18T21:07:06.456Z"
   },
   {
    "duration": 153,
    "start_time": "2025-06-18T21:07:08.481Z"
   },
   {
    "duration": 13,
    "start_time": "2025-06-18T21:07:27.013Z"
   },
   {
    "duration": 16,
    "start_time": "2025-06-18T21:07:46.958Z"
   },
   {
    "duration": 6,
    "start_time": "2025-06-18T21:08:17.225Z"
   },
   {
    "duration": 13,
    "start_time": "2025-06-18T21:08:56.189Z"
   },
   {
    "duration": 12,
    "start_time": "2025-06-18T21:09:23.665Z"
   },
   {
    "duration": 11,
    "start_time": "2025-06-18T21:09:30.695Z"
   },
   {
    "duration": 7,
    "start_time": "2025-06-18T21:10:06.328Z"
   },
   {
    "duration": 4,
    "start_time": "2025-06-18T21:10:26.681Z"
   },
   {
    "duration": 435,
    "start_time": "2025-06-18T21:12:02.997Z"
   },
   {
    "duration": 444,
    "start_time": "2025-06-18T21:12:16.753Z"
   },
   {
    "duration": 315,
    "start_time": "2025-06-18T21:12:28.024Z"
   },
   {
    "duration": 315,
    "start_time": "2025-06-18T21:12:39.233Z"
   },
   {
    "duration": 302,
    "start_time": "2025-06-18T21:14:05.645Z"
   },
   {
    "duration": 339,
    "start_time": "2025-06-18T21:14:09.694Z"
   },
   {
    "duration": 368,
    "start_time": "2025-06-18T21:15:17.465Z"
   },
   {
    "duration": 343,
    "start_time": "2025-06-18T21:15:32.007Z"
   },
   {
    "duration": 356,
    "start_time": "2025-06-18T21:15:42.777Z"
   },
   {
    "duration": 328,
    "start_time": "2025-06-18T21:16:39.562Z"
   },
   {
    "duration": 339,
    "start_time": "2025-06-18T21:16:49.988Z"
   },
   {
    "duration": 4115,
    "start_time": "2025-06-18T21:17:10.794Z"
   },
   {
    "duration": 321,
    "start_time": "2025-06-18T21:17:32.231Z"
   },
   {
    "duration": 393,
    "start_time": "2025-06-18T21:18:26.811Z"
   },
   {
    "duration": 292,
    "start_time": "2025-06-18T21:18:43.333Z"
   },
   {
    "duration": 427,
    "start_time": "2025-06-18T21:18:46.279Z"
   },
   {
    "duration": 436,
    "start_time": "2025-06-18T21:18:51.556Z"
   },
   {
    "duration": 49,
    "start_time": "2025-06-18T21:19:17.940Z"
   },
   {
    "duration": 42,
    "start_time": "2025-06-18T21:20:06.725Z"
   },
   {
    "duration": 30,
    "start_time": "2025-06-18T21:21:25.015Z"
   },
   {
    "duration": 21,
    "start_time": "2025-06-18T21:22:24.210Z"
   },
   {
    "duration": 17,
    "start_time": "2025-06-18T21:22:30.219Z"
   },
   {
    "duration": 428,
    "start_time": "2025-06-18T21:22:38.738Z"
   },
   {
    "duration": 167,
    "start_time": "2025-06-18T21:22:55.935Z"
   },
   {
    "duration": 589,
    "start_time": "2025-06-18T21:24:15.168Z"
   },
   {
    "duration": 266,
    "start_time": "2025-06-18T21:24:34.890Z"
   },
   {
    "duration": 155,
    "start_time": "2025-06-18T21:24:44.852Z"
   },
   {
    "duration": 154,
    "start_time": "2025-06-18T21:24:55.432Z"
   },
   {
    "duration": 154,
    "start_time": "2025-06-18T21:25:03.206Z"
   },
   {
    "duration": 154,
    "start_time": "2025-06-18T21:25:14.639Z"
   },
   {
    "duration": 68,
    "start_time": "2025-06-18T21:28:33.617Z"
   },
   {
    "duration": 26,
    "start_time": "2025-06-18T21:28:37.424Z"
   },
   {
    "duration": 105,
    "start_time": "2025-06-18T21:28:39.086Z"
   },
   {
    "duration": 21,
    "start_time": "2025-06-18T21:28:52.514Z"
   },
   {
    "duration": 18,
    "start_time": "2025-06-18T21:29:29.929Z"
   },
   {
    "duration": 64,
    "start_time": "2025-06-18T21:29:49.834Z"
   },
   {
    "duration": 75,
    "start_time": "2025-06-18T21:30:01.377Z"
   },
   {
    "duration": 72,
    "start_time": "2025-06-18T21:30:22.472Z"
   },
   {
    "duration": 80,
    "start_time": "2025-06-18T21:31:25.377Z"
   },
   {
    "duration": 84,
    "start_time": "2025-06-18T21:31:31.539Z"
   },
   {
    "duration": 4,
    "start_time": "2025-06-18T21:31:38.117Z"
   },
   {
    "duration": 80,
    "start_time": "2025-06-18T21:31:44.333Z"
   },
   {
    "duration": 81,
    "start_time": "2025-06-18T21:32:07.819Z"
   },
   {
    "duration": 13,
    "start_time": "2025-06-18T21:36:51.632Z"
   },
   {
    "duration": 10,
    "start_time": "2025-06-18T21:39:07.219Z"
   },
   {
    "duration": 10,
    "start_time": "2025-06-18T21:39:18.964Z"
   },
   {
    "duration": 260,
    "start_time": "2025-06-18T21:40:11.695Z"
   },
   {
    "duration": 6,
    "start_time": "2025-06-18T21:40:44.352Z"
   },
   {
    "duration": 14,
    "start_time": "2025-06-18T21:43:30.225Z"
   },
   {
    "duration": 72,
    "start_time": "2025-06-18T21:43:40.626Z"
   },
   {
    "duration": 28,
    "start_time": "2025-06-18T21:44:00.578Z"
   },
   {
    "duration": 12,
    "start_time": "2025-06-18T21:44:04.621Z"
   },
   {
    "duration": 14,
    "start_time": "2025-06-18T21:44:21.008Z"
   },
   {
    "duration": 27,
    "start_time": "2025-06-18T21:44:47.056Z"
   },
   {
    "duration": 89,
    "start_time": "2025-06-18T21:48:39.417Z"
   },
   {
    "duration": 202,
    "start_time": "2025-06-18T21:49:16.174Z"
   },
   {
    "duration": 113,
    "start_time": "2025-06-18T21:49:18.180Z"
   },
   {
    "duration": 120,
    "start_time": "2025-06-18T21:49:23.060Z"
   },
   {
    "duration": 102,
    "start_time": "2025-06-18T21:49:28.488Z"
   },
   {
    "duration": 12,
    "start_time": "2025-06-18T21:50:26.698Z"
   },
   {
    "duration": 116,
    "start_time": "2025-06-18T21:51:03.210Z"
   },
   {
    "duration": 118,
    "start_time": "2025-06-18T21:51:21.768Z"
   },
   {
    "duration": 80,
    "start_time": "2025-06-18T21:51:31.788Z"
   },
   {
    "duration": 102,
    "start_time": "2025-06-18T21:51:34.100Z"
   },
   {
    "duration": 127,
    "start_time": "2025-06-18T21:51:35.881Z"
   },
   {
    "duration": 113,
    "start_time": "2025-06-18T21:51:38.622Z"
   },
   {
    "duration": 204,
    "start_time": "2025-06-18T21:51:57.432Z"
   },
   {
    "duration": 106,
    "start_time": "2025-06-18T21:52:00.931Z"
   },
   {
    "duration": 31,
    "start_time": "2025-06-18T21:52:12.566Z"
   },
   {
    "duration": 33,
    "start_time": "2025-06-18T21:52:26.741Z"
   },
   {
    "duration": 36,
    "start_time": "2025-06-18T21:52:49.438Z"
   },
   {
    "duration": 28,
    "start_time": "2025-06-18T21:53:43.880Z"
   },
   {
    "duration": 29,
    "start_time": "2025-06-18T21:54:34.412Z"
   },
   {
    "duration": 120,
    "start_time": "2025-06-18T21:54:36.613Z"
   },
   {
    "duration": 33,
    "start_time": "2025-06-18T21:54:46.017Z"
   },
   {
    "duration": 27,
    "start_time": "2025-06-18T21:57:02.171Z"
   },
   {
    "duration": 27,
    "start_time": "2025-06-18T21:57:17.870Z"
   },
   {
    "duration": 30,
    "start_time": "2025-06-18T21:57:21.384Z"
   },
   {
    "duration": 35,
    "start_time": "2025-06-18T21:59:11.395Z"
   },
   {
    "duration": 35,
    "start_time": "2025-06-18T21:59:22.343Z"
   },
   {
    "duration": 34,
    "start_time": "2025-06-18T21:59:24.897Z"
   },
   {
    "duration": 34,
    "start_time": "2025-06-18T22:01:22.076Z"
   },
   {
    "duration": 32,
    "start_time": "2025-06-18T22:01:28.462Z"
   },
   {
    "duration": 64,
    "start_time": "2025-06-18T22:03:24.293Z"
   },
   {
    "duration": 68,
    "start_time": "2025-06-18T22:03:55.724Z"
   },
   {
    "duration": 34,
    "start_time": "2025-06-18T22:04:07.371Z"
   },
   {
    "duration": 8,
    "start_time": "2025-06-18T22:05:42.292Z"
   },
   {
    "duration": 8,
    "start_time": "2025-06-18T22:06:34.781Z"
   },
   {
    "duration": 34,
    "start_time": "2025-06-18T22:08:58.229Z"
   },
   {
    "duration": 35,
    "start_time": "2025-06-18T22:09:29.476Z"
   },
   {
    "duration": 29,
    "start_time": "2025-06-18T22:10:14.066Z"
   },
   {
    "duration": 27,
    "start_time": "2025-06-18T22:10:24.878Z"
   },
   {
    "duration": 4,
    "start_time": "2025-06-18T22:13:36.712Z"
   },
   {
    "duration": 33,
    "start_time": "2025-06-18T22:16:12.976Z"
   },
   {
    "duration": 27,
    "start_time": "2025-06-18T22:16:41.567Z"
   },
   {
    "duration": 29,
    "start_time": "2025-06-18T22:16:45.682Z"
   },
   {
    "duration": 27,
    "start_time": "2025-06-18T22:16:48.519Z"
   },
   {
    "duration": 26,
    "start_time": "2025-06-18T22:16:51.560Z"
   },
   {
    "duration": 28,
    "start_time": "2025-06-18T22:16:58.771Z"
   },
   {
    "duration": 29,
    "start_time": "2025-06-18T22:17:40.229Z"
   },
   {
    "duration": 32,
    "start_time": "2025-06-18T22:17:43.088Z"
   },
   {
    "duration": 1455,
    "start_time": "2025-06-18T22:18:00.626Z"
   },
   {
    "duration": 1539,
    "start_time": "2025-06-18T22:18:31.037Z"
   },
   {
    "duration": 1358,
    "start_time": "2025-06-18T22:18:36.841Z"
   },
   {
    "duration": 1381,
    "start_time": "2025-06-18T22:18:43.620Z"
   },
   {
    "duration": 1782,
    "start_time": "2025-06-18T22:18:48.607Z"
   },
   {
    "duration": 28,
    "start_time": "2025-06-18T22:19:30.541Z"
   },
   {
    "duration": 27,
    "start_time": "2025-06-18T22:20:03.030Z"
   },
   {
    "duration": 27,
    "start_time": "2025-06-18T22:20:07.333Z"
   },
   {
    "duration": 25,
    "start_time": "2025-06-18T22:20:18.854Z"
   },
   {
    "duration": 26,
    "start_time": "2025-06-18T22:20:29.697Z"
   },
   {
    "duration": 9,
    "start_time": "2025-06-18T22:20:37.384Z"
   },
   {
    "duration": 34,
    "start_time": "2025-06-18T22:21:41.345Z"
   },
   {
    "duration": 35,
    "start_time": "2025-06-18T22:24:25.215Z"
   },
   {
    "duration": 18,
    "start_time": "2025-06-18T22:27:35.223Z"
   },
   {
    "duration": 18,
    "start_time": "2025-06-18T22:27:48.107Z"
   },
   {
    "duration": 42,
    "start_time": "2025-06-18T22:27:54.631Z"
   },
   {
    "duration": 39,
    "start_time": "2025-06-18T22:28:00.335Z"
   },
   {
    "duration": 32,
    "start_time": "2025-06-18T22:36:28.236Z"
   },
   {
    "duration": 39,
    "start_time": "2025-06-18T22:38:37.790Z"
   },
   {
    "duration": 35,
    "start_time": "2025-06-18T22:39:01.725Z"
   },
   {
    "duration": 37,
    "start_time": "2025-06-18T22:39:26.465Z"
   },
   {
    "duration": 38,
    "start_time": "2025-06-18T22:40:28.969Z"
   },
   {
    "duration": 23,
    "start_time": "2025-06-18T22:40:35.498Z"
   },
   {
    "duration": 51,
    "start_time": "2025-06-18T22:42:40.263Z"
   },
   {
    "duration": 45,
    "start_time": "2025-06-18T22:42:59.311Z"
   },
   {
    "duration": 40,
    "start_time": "2025-06-18T22:44:50.425Z"
   },
   {
    "duration": 35,
    "start_time": "2025-06-18T22:45:19.770Z"
   },
   {
    "duration": 32,
    "start_time": "2025-06-18T22:45:27.130Z"
   },
   {
    "duration": 26,
    "start_time": "2025-06-18T22:45:32.737Z"
   },
   {
    "duration": 26,
    "start_time": "2025-06-18T22:45:37.904Z"
   },
   {
    "duration": 29,
    "start_time": "2025-06-18T22:45:42.895Z"
   },
   {
    "duration": 27,
    "start_time": "2025-06-18T22:45:47.643Z"
   },
   {
    "duration": 28,
    "start_time": "2025-06-18T22:45:54.025Z"
   },
   {
    "duration": 8,
    "start_time": "2025-06-18T22:46:46.545Z"
   },
   {
    "duration": 48,
    "start_time": "2025-06-18T22:48:50.625Z"
   },
   {
    "duration": 25,
    "start_time": "2025-06-18T22:48:59.140Z"
   },
   {
    "duration": 46,
    "start_time": "2025-06-18T22:49:03.066Z"
   },
   {
    "duration": 34,
    "start_time": "2025-06-18T22:49:08.791Z"
   },
   {
    "duration": 31,
    "start_time": "2025-06-18T22:49:13.092Z"
   },
   {
    "duration": 38,
    "start_time": "2025-06-18T22:49:31.095Z"
   },
   {
    "duration": 37,
    "start_time": "2025-06-18T22:49:59.164Z"
   },
   {
    "duration": 50,
    "start_time": "2025-06-18T22:50:05.985Z"
   },
   {
    "duration": 23,
    "start_time": "2025-06-18T22:50:44.708Z"
   },
   {
    "duration": 39,
    "start_time": "2025-06-18T22:54:25.096Z"
   },
   {
    "duration": 43,
    "start_time": "2025-06-18T22:54:49.153Z"
   },
   {
    "duration": 38,
    "start_time": "2025-06-18T22:54:56.435Z"
   },
   {
    "duration": 39,
    "start_time": "2025-06-18T22:55:00.780Z"
   },
   {
    "duration": 39,
    "start_time": "2025-06-18T22:55:05.276Z"
   },
   {
    "duration": 5,
    "start_time": "2025-06-18T23:04:01.905Z"
   },
   {
    "duration": 2,
    "start_time": "2025-06-18T23:20:51.812Z"
   },
   {
    "duration": 864,
    "start_time": "2025-06-18T23:20:54.363Z"
   },
   {
    "duration": 2834,
    "start_time": "2025-06-27T06:00:07.218Z"
   },
   {
    "duration": 19429,
    "start_time": "2025-06-27T06:00:10.055Z"
   },
   {
    "duration": 1559,
    "start_time": "2025-06-27T06:00:29.486Z"
   },
   {
    "duration": 18,
    "start_time": "2025-06-27T06:00:31.047Z"
   },
   {
    "duration": 183,
    "start_time": "2025-06-27T06:00:31.067Z"
   },
   {
    "duration": 36,
    "start_time": "2025-06-27T06:01:20.002Z"
   },
   {
    "duration": 106,
    "start_time": "2025-06-27T06:01:20.144Z"
   },
   {
    "duration": 65,
    "start_time": "2025-06-27T06:01:21.032Z"
   },
   {
    "duration": 43,
    "start_time": "2025-06-27T06:01:22.966Z"
   },
   {
    "duration": 19,
    "start_time": "2025-06-27T06:01:23.236Z"
   },
   {
    "duration": 12,
    "start_time": "2025-06-27T06:01:27.764Z"
   },
   {
    "duration": 2,
    "start_time": "2025-06-27T06:01:27.926Z"
   },
   {
    "duration": 268,
    "start_time": "2025-06-27T06:01:33.875Z"
   },
   {
    "duration": 19,
    "start_time": "2025-06-27T06:01:41.464Z"
   },
   {
    "duration": 287,
    "start_time": "2025-06-27T06:01:43.195Z"
   },
   {
    "duration": 8,
    "start_time": "2025-06-27T06:01:44.134Z"
   },
   {
    "duration": 282,
    "start_time": "2025-06-27T06:01:50.426Z"
   },
   {
    "duration": 17,
    "start_time": "2025-06-27T06:01:50.847Z"
   },
   {
    "duration": 24,
    "start_time": "2025-06-27T06:01:51.733Z"
   },
   {
    "duration": 38,
    "start_time": "2025-06-27T06:01:54.268Z"
   },
   {
    "duration": 26,
    "start_time": "2025-06-27T06:01:55.314Z"
   },
   {
    "duration": 15,
    "start_time": "2025-06-27T06:01:58.456Z"
   },
   {
    "duration": 4,
    "start_time": "2025-06-27T06:01:58.585Z"
   },
   {
    "duration": 13,
    "start_time": "2025-06-27T06:01:58.725Z"
   },
   {
    "duration": 6,
    "start_time": "2025-06-27T06:01:59.835Z"
   },
   {
    "duration": 11,
    "start_time": "2025-06-27T06:02:00.287Z"
   },
   {
    "duration": 3,
    "start_time": "2025-06-27T06:02:01.177Z"
   },
   {
    "duration": 10,
    "start_time": "2025-06-27T06:02:01.596Z"
   },
   {
    "duration": 58,
    "start_time": "2025-06-27T06:02:06.177Z"
   },
   {
    "duration": 150,
    "start_time": "2025-06-27T06:02:20.417Z"
   },
   {
    "duration": 326,
    "start_time": "2025-06-27T06:02:21.133Z"
   },
   {
    "duration": 43,
    "start_time": "2025-06-27T06:02:41.742Z"
   },
   {
    "duration": 34,
    "start_time": "2025-06-27T06:02:44.547Z"
   },
   {
    "duration": 7,
    "start_time": "2025-06-27T06:02:44.703Z"
   },
   {
    "duration": 5,
    "start_time": "2025-06-27T06:02:44.984Z"
   },
   {
    "duration": 35,
    "start_time": "2025-06-27T06:02:45.346Z"
   },
   {
    "duration": 10,
    "start_time": "2025-06-27T06:02:46.458Z"
   },
   {
    "duration": 6,
    "start_time": "2025-06-27T06:02:47.998Z"
   },
   {
    "duration": 29,
    "start_time": "2025-06-27T06:02:51.398Z"
   },
   {
    "duration": 30,
    "start_time": "2025-06-27T06:02:56.548Z"
   },
   {
    "duration": 5,
    "start_time": "2025-06-27T06:03:05.879Z"
   },
   {
    "duration": 43,
    "start_time": "2025-06-27T06:03:07.979Z"
   },
   {
    "duration": 1887,
    "start_time": "2025-06-27T06:03:16.815Z"
   },
   {
    "duration": 23,
    "start_time": "2025-06-27T06:03:18.704Z"
   },
   {
    "duration": 21,
    "start_time": "2025-06-27T06:03:18.729Z"
   },
   {
    "duration": 56,
    "start_time": "2025-06-27T06:03:18.751Z"
   },
   {
    "duration": 28,
    "start_time": "2025-06-27T06:03:18.809Z"
   },
   {
    "duration": 20,
    "start_time": "2025-06-27T06:03:18.839Z"
   },
   {
    "duration": 30,
    "start_time": "2025-06-27T06:03:18.861Z"
   },
   {
    "duration": 16,
    "start_time": "2025-06-27T06:03:18.893Z"
   },
   {
    "duration": 9190,
    "start_time": "2025-06-27T06:03:18.911Z"
   },
   {
    "duration": 850,
    "start_time": "2025-06-27T06:03:28.103Z"
   },
   {
    "duration": 26,
    "start_time": "2025-06-27T06:03:28.955Z"
   },
   {
    "duration": 28,
    "start_time": "2025-06-27T06:03:28.983Z"
   },
   {
    "duration": 57,
    "start_time": "2025-06-27T06:03:29.012Z"
   },
   {
    "duration": 34,
    "start_time": "2025-06-27T06:03:29.074Z"
   },
   {
    "duration": 6709,
    "start_time": "2025-06-27T06:03:29.110Z"
   },
   {
    "duration": 47,
    "start_time": "2025-06-27T06:03:35.821Z"
   },
   {
    "duration": 38,
    "start_time": "2025-06-27T06:03:35.870Z"
   },
   {
    "duration": 41,
    "start_time": "2025-06-27T06:03:35.909Z"
   },
   {
    "duration": 121,
    "start_time": "2025-06-27T06:03:35.952Z"
   },
   {
    "duration": 457,
    "start_time": "2025-06-27T06:03:36.074Z"
   },
   {
    "duration": 357,
    "start_time": "2025-06-27T06:03:36.533Z"
   },
   {
    "duration": 24,
    "start_time": "2025-06-27T06:03:36.892Z"
   },
   {
    "duration": 451,
    "start_time": "2025-06-27T06:03:36.918Z"
   },
   {
    "duration": 24,
    "start_time": "2025-06-27T06:03:37.371Z"
   },
   {
    "duration": 33,
    "start_time": "2025-06-27T06:03:37.397Z"
   },
   {
    "duration": 2,
    "start_time": "2025-06-27T06:03:37.432Z"
   },
   {
    "duration": 476,
    "start_time": "2025-06-27T06:03:37.459Z"
   },
   {
    "duration": 5,
    "start_time": "2025-06-27T06:03:37.937Z"
   },
   {
    "duration": 1215,
    "start_time": "2025-06-27T06:03:37.943Z"
   },
   {
    "duration": 40,
    "start_time": "2025-06-27T06:03:39.160Z"
   },
   {
    "duration": 443,
    "start_time": "2025-06-27T06:03:39.201Z"
   },
   {
    "duration": 43,
    "start_time": "2025-06-27T06:03:39.645Z"
   },
   {
    "duration": 29,
    "start_time": "2025-06-27T06:03:39.689Z"
   },
   {
    "duration": 15,
    "start_time": "2025-06-27T06:03:39.720Z"
   },
   {
    "duration": 30,
    "start_time": "2025-06-27T06:03:39.758Z"
   },
   {
    "duration": 3,
    "start_time": "2025-06-27T06:03:39.789Z"
   },
   {
    "duration": 117,
    "start_time": "2025-06-27T06:03:39.793Z"
   },
   {
    "duration": 312,
    "start_time": "2025-06-27T06:03:39.912Z"
   },
   {
    "duration": 460,
    "start_time": "2025-06-27T06:03:40.225Z"
   },
   {
    "duration": 35,
    "start_time": "2025-06-27T06:03:40.687Z"
   },
   {
    "duration": 33,
    "start_time": "2025-06-27T06:03:40.727Z"
   },
   {
    "duration": 111,
    "start_time": "2025-06-27T06:03:40.762Z"
   },
   {
    "duration": 286,
    "start_time": "2025-06-27T06:03:40.875Z"
   },
   {
    "duration": 39,
    "start_time": "2025-06-27T06:03:41.163Z"
   },
   {
    "duration": 31,
    "start_time": "2025-06-27T06:03:41.204Z"
   },
   {
    "duration": 5,
    "start_time": "2025-06-27T06:03:41.257Z"
   },
   {
    "duration": 122,
    "start_time": "2025-06-27T06:03:41.264Z"
   },
   {
    "duration": 7,
    "start_time": "2025-06-27T06:03:41.389Z"
   },
   {
    "duration": 24,
    "start_time": "2025-06-27T06:03:41.398Z"
   },
   {
    "duration": 41,
    "start_time": "2025-06-27T06:03:41.423Z"
   },
   {
    "duration": 6,
    "start_time": "2025-06-27T06:03:41.465Z"
   },
   {
    "duration": 14,
    "start_time": "2025-06-27T06:03:41.473Z"
   },
   {
    "duration": 103,
    "start_time": "2025-06-27T06:03:41.489Z"
   },
   {
    "duration": 16,
    "start_time": "2025-06-27T06:03:41.597Z"
   },
   {
    "duration": 20,
    "start_time": "2025-06-27T06:03:41.615Z"
   },
   {
    "duration": 18,
    "start_time": "2025-06-27T06:03:41.636Z"
   },
   {
    "duration": 39,
    "start_time": "2025-06-27T06:03:41.655Z"
   },
   {
    "duration": 33,
    "start_time": "2025-06-27T06:03:41.696Z"
   },
   {
    "duration": 4,
    "start_time": "2025-06-27T06:03:41.731Z"
   },
   {
    "duration": 18,
    "start_time": "2025-06-27T06:03:41.758Z"
   },
   {
    "duration": 7,
    "start_time": "2025-06-27T06:03:41.778Z"
   },
   {
    "duration": 172,
    "start_time": "2025-06-27T06:03:41.787Z"
   },
   {
    "duration": 30,
    "start_time": "2025-06-27T06:03:41.961Z"
   },
   {
    "duration": 78,
    "start_time": "2025-06-27T06:03:41.993Z"
   },
   {
    "duration": 26,
    "start_time": "2025-06-27T06:03:42.073Z"
   },
   {
    "duration": 85,
    "start_time": "2025-06-27T06:03:42.101Z"
   },
   {
    "duration": 10,
    "start_time": "2025-06-27T06:03:42.188Z"
   },
   {
    "duration": 5,
    "start_time": "2025-06-27T06:03:42.199Z"
   },
   {
    "duration": 21,
    "start_time": "2025-06-27T06:03:42.206Z"
   },
   {
    "duration": 3,
    "start_time": "2025-06-27T06:03:42.228Z"
   },
   {
    "duration": 55,
    "start_time": "2025-06-27T06:03:42.232Z"
   },
   {
    "duration": 255,
    "start_time": "2025-06-27T06:03:42.288Z"
   },
   {
    "duration": 358,
    "start_time": "2025-06-27T06:03:42.545Z"
   },
   {
    "duration": 20,
    "start_time": "2025-06-27T06:03:42.905Z"
   },
   {
    "duration": 71,
    "start_time": "2025-06-27T06:03:42.927Z"
   },
   {
    "duration": 4,
    "start_time": "2025-06-27T06:03:42.999Z"
   },
   {
    "duration": 0,
    "start_time": "2025-06-27T06:03:43.004Z"
   },
   {
    "duration": 0,
    "start_time": "2025-06-27T06:03:43.005Z"
   },
   {
    "duration": 0,
    "start_time": "2025-06-27T06:03:43.006Z"
   },
   {
    "duration": 0,
    "start_time": "2025-06-27T06:03:43.007Z"
   },
   {
    "duration": 0,
    "start_time": "2025-06-27T06:03:43.008Z"
   },
   {
    "duration": 0,
    "start_time": "2025-06-27T06:03:43.010Z"
   },
   {
    "duration": 0,
    "start_time": "2025-06-27T06:03:43.011Z"
   },
   {
    "duration": 0,
    "start_time": "2025-06-27T06:03:43.012Z"
   },
   {
    "duration": 0,
    "start_time": "2025-06-27T06:03:43.013Z"
   },
   {
    "duration": 0,
    "start_time": "2025-06-27T06:03:43.014Z"
   },
   {
    "duration": 0,
    "start_time": "2025-06-27T06:03:43.015Z"
   },
   {
    "duration": 0,
    "start_time": "2025-06-27T06:03:43.016Z"
   },
   {
    "duration": 0,
    "start_time": "2025-06-27T06:03:43.017Z"
   },
   {
    "duration": 0,
    "start_time": "2025-06-27T06:03:43.018Z"
   },
   {
    "duration": 0,
    "start_time": "2025-06-27T06:03:43.019Z"
   },
   {
    "duration": 0,
    "start_time": "2025-06-27T06:03:43.020Z"
   },
   {
    "duration": 0,
    "start_time": "2025-06-27T06:03:43.021Z"
   },
   {
    "duration": 0,
    "start_time": "2025-06-27T06:03:43.058Z"
   },
   {
    "duration": 0,
    "start_time": "2025-06-27T06:03:43.059Z"
   },
   {
    "duration": 0,
    "start_time": "2025-06-27T06:03:43.060Z"
   },
   {
    "duration": 0,
    "start_time": "2025-06-27T06:03:43.062Z"
   },
   {
    "duration": 0,
    "start_time": "2025-06-27T06:03:43.063Z"
   },
   {
    "duration": 0,
    "start_time": "2025-06-27T06:03:43.068Z"
   },
   {
    "duration": 136,
    "start_time": "2025-06-27T06:08:55.050Z"
   },
   {
    "duration": 17,
    "start_time": "2025-06-27T06:12:08.527Z"
   },
   {
    "duration": 115,
    "start_time": "2025-06-27T06:12:09.235Z"
   },
   {
    "duration": 53,
    "start_time": "2025-06-27T06:12:26.485Z"
   },
   {
    "duration": 4,
    "start_time": "2025-06-27T06:12:27.162Z"
   },
   {
    "duration": 138,
    "start_time": "2025-06-27T06:12:32.404Z"
   },
   {
    "duration": 22,
    "start_time": "2025-06-27T06:12:33.241Z"
   },
   {
    "duration": 670,
    "start_time": "2025-06-27T06:12:33.649Z"
   },
   {
    "duration": 514,
    "start_time": "2025-06-27T06:12:49.662Z"
   },
   {
    "duration": 93,
    "start_time": "2025-06-27T06:12:50.179Z"
   },
   {
    "duration": 2,
    "start_time": "2025-06-27T06:13:23.117Z"
   },
   {
    "duration": 127,
    "start_time": "2025-06-27T06:13:23.733Z"
   },
   {
    "duration": 12,
    "start_time": "2025-06-27T06:13:45.219Z"
   },
   {
    "duration": 75,
    "start_time": "2025-06-27T06:13:45.512Z"
   },
   {
    "duration": 2827,
    "start_time": "2025-06-28T16:03:20.405Z"
   },
   {
    "duration": 4497,
    "start_time": "2025-06-28T16:03:23.234Z"
   },
   {
    "duration": 919,
    "start_time": "2025-06-28T16:03:27.733Z"
   },
   {
    "duration": 21,
    "start_time": "2025-06-28T16:03:28.655Z"
   },
   {
    "duration": 4,
    "start_time": "2025-06-28T16:03:28.677Z"
   },
   {
    "duration": 561,
    "start_time": "2025-06-28T16:03:28.683Z"
   },
   {
    "duration": 5,
    "start_time": "2025-06-28T16:03:29.251Z"
   },
   {
    "duration": 152,
    "start_time": "2025-06-28T16:03:29.257Z"
   },
   {
    "duration": 52,
    "start_time": "2025-06-28T16:03:29.411Z"
   },
   {
    "duration": 95,
    "start_time": "2025-06-28T16:03:29.466Z"
   },
   {
    "duration": 56,
    "start_time": "2025-06-28T16:03:29.563Z"
   },
   {
    "duration": 62,
    "start_time": "2025-06-28T16:03:29.621Z"
   },
   {
    "duration": 20,
    "start_time": "2025-06-28T16:03:29.684Z"
   },
   {
    "duration": 9,
    "start_time": "2025-06-28T16:03:29.705Z"
   },
   {
    "duration": 291,
    "start_time": "2025-06-28T16:03:29.715Z"
   },
   {
    "duration": 13,
    "start_time": "2025-06-28T16:03:30.007Z"
   },
   {
    "duration": 307,
    "start_time": "2025-06-28T16:03:30.022Z"
   },
   {
    "duration": 22,
    "start_time": "2025-06-28T16:03:30.331Z"
   },
   {
    "duration": 270,
    "start_time": "2025-06-28T16:03:30.357Z"
   },
   {
    "duration": 30,
    "start_time": "2025-06-28T16:03:30.628Z"
   },
   {
    "duration": 27,
    "start_time": "2025-06-28T16:03:30.661Z"
   },
   {
    "duration": 70,
    "start_time": "2025-06-28T16:03:30.689Z"
   },
   {
    "duration": 111,
    "start_time": "2025-06-28T16:03:30.762Z"
   },
   {
    "duration": 53,
    "start_time": "2025-06-28T16:03:30.875Z"
   },
   {
    "duration": 22,
    "start_time": "2025-06-28T16:03:30.930Z"
   },
   {
    "duration": 12,
    "start_time": "2025-06-28T16:03:30.954Z"
   },
   {
    "duration": 30,
    "start_time": "2025-06-28T16:03:30.968Z"
   },
   {
    "duration": 3,
    "start_time": "2025-06-28T16:03:31.002Z"
   },
   {
    "duration": 16,
    "start_time": "2025-06-28T16:03:31.006Z"
   },
   {
    "duration": 67,
    "start_time": "2025-06-28T16:03:31.023Z"
   },
   {
    "duration": 166,
    "start_time": "2025-06-28T16:03:31.092Z"
   },
   {
    "duration": 273,
    "start_time": "2025-06-28T16:03:31.261Z"
   },
   {
    "duration": 200,
    "start_time": "2025-06-28T16:03:31.545Z"
   },
   {
    "duration": 37,
    "start_time": "2025-06-28T16:03:31.752Z"
   },
   {
    "duration": 28,
    "start_time": "2025-06-28T16:03:31.791Z"
   },
   {
    "duration": 8,
    "start_time": "2025-06-28T16:03:31.820Z"
   },
   {
    "duration": 23,
    "start_time": "2025-06-28T16:03:31.835Z"
   },
   {
    "duration": 53,
    "start_time": "2025-06-28T16:03:31.859Z"
   },
   {
    "duration": 7,
    "start_time": "2025-06-28T16:03:31.914Z"
   },
   {
    "duration": 110,
    "start_time": "2025-06-28T16:03:31.923Z"
   },
   {
    "duration": 50,
    "start_time": "2025-06-28T16:03:32.038Z"
   },
   {
    "duration": 22,
    "start_time": "2025-06-28T16:03:32.090Z"
   },
   {
    "duration": 4,
    "start_time": "2025-06-28T16:03:32.113Z"
   },
   {
    "duration": 5,
    "start_time": "2025-06-28T16:03:32.118Z"
   },
   {
    "duration": 38,
    "start_time": "2025-06-28T16:03:32.124Z"
   },
   {
    "duration": 94,
    "start_time": "2025-06-28T16:03:32.164Z"
   },
   {
    "duration": 4,
    "start_time": "2025-06-28T16:03:32.260Z"
   },
   {
    "duration": 31,
    "start_time": "2025-06-28T16:03:32.266Z"
   },
   {
    "duration": 1832,
    "start_time": "2025-06-28T16:03:32.299Z"
   },
   {
    "duration": 33,
    "start_time": "2025-06-28T16:03:34.140Z"
   },
   {
    "duration": 8,
    "start_time": "2025-06-28T16:03:34.175Z"
   },
   {
    "duration": 41,
    "start_time": "2025-06-28T16:03:34.185Z"
   },
   {
    "duration": 11,
    "start_time": "2025-06-28T16:03:34.246Z"
   },
   {
    "duration": 49,
    "start_time": "2025-06-28T16:03:34.259Z"
   },
   {
    "duration": 7545,
    "start_time": "2025-06-28T16:03:34.310Z"
   },
   {
    "duration": 23,
    "start_time": "2025-06-28T16:03:41.857Z"
   },
   {
    "duration": 810,
    "start_time": "2025-06-28T16:03:41.881Z"
   },
   {
    "duration": 20,
    "start_time": "2025-06-28T16:03:42.693Z"
   },
   {
    "duration": 51,
    "start_time": "2025-06-28T16:03:42.715Z"
   },
   {
    "duration": 20,
    "start_time": "2025-06-28T16:03:42.768Z"
   },
   {
    "duration": 334,
    "start_time": "2025-06-28T16:03:42.790Z"
   },
   {
    "duration": 100,
    "start_time": "2025-06-28T16:03:43.126Z"
   },
   {
    "duration": 20,
    "start_time": "2025-06-28T16:03:43.228Z"
   },
   {
    "duration": 5,
    "start_time": "2025-06-28T16:03:43.255Z"
   },
   {
    "duration": 268,
    "start_time": "2025-06-28T16:03:43.262Z"
   },
   {
    "duration": 13,
    "start_time": "2025-06-28T16:03:43.535Z"
   },
   {
    "duration": 43,
    "start_time": "2025-06-28T16:03:43.552Z"
   },
   {
    "duration": 3,
    "start_time": "2025-06-28T16:03:43.597Z"
   },
   {
    "duration": 156,
    "start_time": "2025-06-28T16:03:43.602Z"
   },
   {
    "duration": 120,
    "start_time": "2025-06-28T16:03:43.760Z"
   },
   {
    "duration": 387,
    "start_time": "2025-06-28T16:03:43.882Z"
   },
   {
    "duration": 379,
    "start_time": "2025-06-28T16:03:44.271Z"
   },
   {
    "duration": 407,
    "start_time": "2025-06-28T16:03:44.652Z"
   },
   {
    "duration": 18,
    "start_time": "2025-06-28T16:03:45.060Z"
   },
   {
    "duration": 24,
    "start_time": "2025-06-28T16:03:45.080Z"
   },
   {
    "duration": 21,
    "start_time": "2025-06-28T16:03:45.105Z"
   },
   {
    "duration": 31,
    "start_time": "2025-06-28T16:03:45.127Z"
   },
   {
    "duration": 51,
    "start_time": "2025-06-28T16:03:45.160Z"
   },
   {
    "duration": 88,
    "start_time": "2025-06-28T16:03:45.213Z"
   },
   {
    "duration": 1376,
    "start_time": "2025-06-28T16:03:45.303Z"
   },
   {
    "duration": 415,
    "start_time": "2025-06-28T16:03:46.681Z"
   },
   {
    "duration": 19,
    "start_time": "2025-06-28T16:03:47.102Z"
   },
   {
    "duration": 19,
    "start_time": "2025-06-28T16:03:47.123Z"
   },
   {
    "duration": 1083,
    "start_time": "2025-06-28T16:03:47.145Z"
   },
   {
    "duration": 28,
    "start_time": "2025-06-28T16:03:48.230Z"
   },
   {
    "duration": 424,
    "start_time": "2025-06-28T16:03:48.259Z"
   },
   {
    "duration": 34,
    "start_time": "2025-06-28T16:03:48.685Z"
   },
   {
    "duration": 39,
    "start_time": "2025-06-28T16:03:48.734Z"
   },
   {
    "duration": 14,
    "start_time": "2025-06-28T16:03:48.775Z"
   },
   {
    "duration": 144,
    "start_time": "2025-06-28T16:03:48.790Z"
   },
   {
    "duration": 11,
    "start_time": "2025-06-28T16:03:48.941Z"
   },
   {
    "duration": 16,
    "start_time": "2025-06-28T16:03:48.954Z"
   },
   {
    "duration": 331,
    "start_time": "2025-06-28T16:03:48.971Z"
   },
   {
    "duration": 438,
    "start_time": "2025-06-28T16:03:49.304Z"
   },
   {
    "duration": 232,
    "start_time": "2025-06-28T16:03:49.749Z"
   },
   {
    "duration": 5,
    "start_time": "2025-06-28T16:03:49.982Z"
   },
   {
    "duration": 26,
    "start_time": "2025-06-28T16:03:49.988Z"
   },
   {
    "duration": 67,
    "start_time": "2025-06-28T16:03:50.016Z"
   },
   {
    "duration": 18,
    "start_time": "2025-06-28T16:03:50.085Z"
   },
   {
    "duration": 14,
    "start_time": "2025-06-28T16:03:50.105Z"
   },
   {
    "duration": 49,
    "start_time": "2025-06-28T16:03:50.120Z"
   },
   {
    "duration": 28,
    "start_time": "2025-06-28T16:03:50.171Z"
   },
   {
    "duration": 7,
    "start_time": "2025-06-28T16:03:50.200Z"
   },
   {
    "duration": 68,
    "start_time": "2025-06-28T16:03:50.209Z"
   },
   {
    "duration": 83,
    "start_time": "2025-06-28T16:03:50.278Z"
   },
   {
    "duration": 23,
    "start_time": "2025-06-28T16:03:50.362Z"
   },
   {
    "duration": 68,
    "start_time": "2025-06-28T16:03:50.386Z"
   },
   {
    "duration": 11,
    "start_time": "2025-06-28T16:03:50.456Z"
   },
   {
    "duration": 4,
    "start_time": "2025-06-28T16:03:50.469Z"
   },
   {
    "duration": 21,
    "start_time": "2025-06-28T16:03:50.474Z"
   },
   {
    "duration": 3,
    "start_time": "2025-06-28T16:03:50.496Z"
   },
   {
    "duration": 45,
    "start_time": "2025-06-28T16:03:50.500Z"
   },
   {
    "duration": 150,
    "start_time": "2025-06-28T16:03:50.546Z"
   },
   {
    "duration": 4,
    "start_time": "2025-06-28T16:03:50.698Z"
   },
   {
    "duration": 146,
    "start_time": "2025-06-28T16:03:50.703Z"
   },
   {
    "duration": 118,
    "start_time": "2025-06-28T16:03:50.851Z"
   },
   {
    "duration": 139,
    "start_time": "2025-06-28T16:03:50.971Z"
   },
   {
    "duration": 118,
    "start_time": "2025-06-28T16:03:51.111Z"
   },
   {
    "duration": 160,
    "start_time": "2025-06-28T16:03:51.231Z"
   },
   {
    "duration": 4,
    "start_time": "2025-06-28T16:03:51.393Z"
   },
   {
    "duration": 109,
    "start_time": "2025-06-28T16:03:51.398Z"
   },
   {
    "duration": 14,
    "start_time": "2025-06-28T16:10:39.483Z"
   },
   {
    "duration": 16,
    "start_time": "2025-06-28T16:10:39.498Z"
   },
   {
    "duration": 240,
    "start_time": "2025-06-28T16:10:39.515Z"
   },
   {
    "duration": 0,
    "start_time": "2025-06-28T16:10:39.758Z"
   },
   {
    "duration": 0,
    "start_time": "2025-06-28T16:10:39.759Z"
   },
   {
    "duration": 0,
    "start_time": "2025-06-28T16:10:39.760Z"
   },
   {
    "duration": 0,
    "start_time": "2025-06-28T16:10:39.761Z"
   },
   {
    "duration": 0,
    "start_time": "2025-06-28T16:10:39.762Z"
   },
   {
    "duration": 0,
    "start_time": "2025-06-28T16:10:39.763Z"
   },
   {
    "duration": 0,
    "start_time": "2025-06-28T16:10:39.764Z"
   },
   {
    "duration": 0,
    "start_time": "2025-06-28T16:10:39.765Z"
   },
   {
    "duration": 0,
    "start_time": "2025-06-28T16:10:39.767Z"
   },
   {
    "duration": 0,
    "start_time": "2025-06-28T16:10:39.768Z"
   },
   {
    "duration": 0,
    "start_time": "2025-06-28T16:10:39.769Z"
   },
   {
    "duration": 0,
    "start_time": "2025-06-28T16:10:39.770Z"
   },
   {
    "duration": 0,
    "start_time": "2025-06-28T16:10:39.771Z"
   },
   {
    "duration": 0,
    "start_time": "2025-06-28T16:10:39.772Z"
   },
   {
    "duration": 0,
    "start_time": "2025-06-28T16:10:39.773Z"
   },
   {
    "duration": 0,
    "start_time": "2025-06-28T16:10:39.774Z"
   },
   {
    "duration": 0,
    "start_time": "2025-06-28T16:10:39.775Z"
   },
   {
    "duration": 0,
    "start_time": "2025-06-28T16:10:39.776Z"
   },
   {
    "duration": 0,
    "start_time": "2025-06-28T16:10:39.777Z"
   },
   {
    "duration": 0,
    "start_time": "2025-06-28T16:10:39.778Z"
   },
   {
    "duration": 0,
    "start_time": "2025-06-28T16:10:39.779Z"
   },
   {
    "duration": 0,
    "start_time": "2025-06-28T16:10:39.780Z"
   },
   {
    "duration": 0,
    "start_time": "2025-06-28T16:10:39.781Z"
   },
   {
    "duration": 0,
    "start_time": "2025-06-28T16:10:39.782Z"
   },
   {
    "duration": 0,
    "start_time": "2025-06-28T16:10:39.783Z"
   },
   {
    "duration": 0,
    "start_time": "2025-06-28T16:10:39.784Z"
   },
   {
    "duration": 0,
    "start_time": "2025-06-28T16:10:39.785Z"
   },
   {
    "duration": 0,
    "start_time": "2025-06-28T16:10:39.835Z"
   },
   {
    "duration": 0,
    "start_time": "2025-06-28T16:10:39.838Z"
   },
   {
    "duration": 2489,
    "start_time": "2025-06-28T16:10:53.300Z"
   },
   {
    "duration": 5,
    "start_time": "2025-06-28T16:10:55.791Z"
   },
   {
    "duration": 971,
    "start_time": "2025-06-28T16:10:55.798Z"
   },
   {
    "duration": 13,
    "start_time": "2025-06-28T16:10:56.771Z"
   },
   {
    "duration": 76,
    "start_time": "2025-06-28T16:10:56.786Z"
   },
   {
    "duration": 554,
    "start_time": "2025-06-28T16:10:56.863Z"
   },
   {
    "duration": 4,
    "start_time": "2025-06-28T16:10:57.419Z"
   },
   {
    "duration": 158,
    "start_time": "2025-06-28T16:10:57.435Z"
   },
   {
    "duration": 58,
    "start_time": "2025-06-28T16:10:57.595Z"
   },
   {
    "duration": 151,
    "start_time": "2025-06-28T16:10:57.655Z"
   },
   {
    "duration": 68,
    "start_time": "2025-06-28T16:10:57.808Z"
   },
   {
    "duration": 34,
    "start_time": "2025-06-28T16:10:57.877Z"
   },
   {
    "duration": 40,
    "start_time": "2025-06-28T16:10:57.912Z"
   },
   {
    "duration": 79,
    "start_time": "2025-06-28T16:10:57.953Z"
   },
   {
    "duration": 262,
    "start_time": "2025-06-28T16:10:58.033Z"
   },
   {
    "duration": 13,
    "start_time": "2025-06-28T16:10:58.297Z"
   },
   {
    "duration": 265,
    "start_time": "2025-06-28T16:10:58.311Z"
   },
   {
    "duration": 9,
    "start_time": "2025-06-28T16:10:58.577Z"
   },
   {
    "duration": 268,
    "start_time": "2025-06-28T16:10:58.587Z"
   },
   {
    "duration": 16,
    "start_time": "2025-06-28T16:10:58.857Z"
   },
   {
    "duration": 114,
    "start_time": "2025-06-28T16:10:58.875Z"
   },
   {
    "duration": 35,
    "start_time": "2025-06-28T16:10:58.990Z"
   },
   {
    "duration": 43,
    "start_time": "2025-06-28T16:10:59.027Z"
   },
   {
    "duration": 13,
    "start_time": "2025-06-28T16:10:59.072Z"
   },
   {
    "duration": 14,
    "start_time": "2025-06-28T16:10:59.087Z"
   },
   {
    "duration": 19,
    "start_time": "2025-06-28T16:10:59.104Z"
   },
   {
    "duration": 25,
    "start_time": "2025-06-28T16:10:59.125Z"
   },
   {
    "duration": 2,
    "start_time": "2025-06-28T16:10:59.156Z"
   },
   {
    "duration": 8,
    "start_time": "2025-06-28T16:10:59.159Z"
   },
   {
    "duration": 43,
    "start_time": "2025-06-28T16:10:59.169Z"
   },
   {
    "duration": 170,
    "start_time": "2025-06-28T16:10:59.213Z"
   },
   {
    "duration": 266,
    "start_time": "2025-06-28T16:10:59.386Z"
   },
   {
    "duration": 171,
    "start_time": "2025-06-28T16:10:59.654Z"
   },
   {
    "duration": 36,
    "start_time": "2025-06-28T16:10:59.827Z"
   },
   {
    "duration": 35,
    "start_time": "2025-06-28T16:10:59.865Z"
   },
   {
    "duration": 13,
    "start_time": "2025-06-28T16:10:59.940Z"
   },
   {
    "duration": 143,
    "start_time": "2025-06-28T16:10:59.954Z"
   },
   {
    "duration": 52,
    "start_time": "2025-06-28T16:11:00.098Z"
   },
   {
    "duration": 8,
    "start_time": "2025-06-28T16:11:00.152Z"
   },
   {
    "duration": 42,
    "start_time": "2025-06-28T16:11:00.161Z"
   },
   {
    "duration": 99,
    "start_time": "2025-06-28T16:11:00.204Z"
   },
   {
    "duration": 44,
    "start_time": "2025-06-28T16:11:00.305Z"
   },
   {
    "duration": 29,
    "start_time": "2025-06-28T16:11:00.350Z"
   },
   {
    "duration": 49,
    "start_time": "2025-06-28T16:11:00.381Z"
   },
   {
    "duration": 16,
    "start_time": "2025-06-28T16:11:00.432Z"
   },
   {
    "duration": 127,
    "start_time": "2025-06-28T16:11:00.450Z"
   },
   {
    "duration": 4,
    "start_time": "2025-06-28T16:11:00.579Z"
   },
   {
    "duration": 61,
    "start_time": "2025-06-28T16:11:00.584Z"
   },
   {
    "duration": 1837,
    "start_time": "2025-06-28T16:11:00.646Z"
   },
   {
    "duration": 22,
    "start_time": "2025-06-28T16:11:02.485Z"
   },
   {
    "duration": 10,
    "start_time": "2025-06-28T16:11:02.509Z"
   },
   {
    "duration": 108,
    "start_time": "2025-06-28T16:11:02.540Z"
   },
   {
    "duration": 4,
    "start_time": "2025-06-28T16:11:02.651Z"
   },
   {
    "duration": 39,
    "start_time": "2025-06-28T16:11:02.656Z"
   },
   {
    "duration": 7227,
    "start_time": "2025-06-28T16:11:02.697Z"
   },
   {
    "duration": 36,
    "start_time": "2025-06-28T16:11:09.925Z"
   },
   {
    "duration": 889,
    "start_time": "2025-06-28T16:11:09.962Z"
   },
   {
    "duration": 21,
    "start_time": "2025-06-28T16:11:10.854Z"
   },
   {
    "duration": 106,
    "start_time": "2025-06-28T16:11:10.877Z"
   },
   {
    "duration": 20,
    "start_time": "2025-06-28T16:11:10.984Z"
   },
   {
    "duration": 230,
    "start_time": "2025-06-28T16:11:11.006Z"
   },
   {
    "duration": 60,
    "start_time": "2025-06-28T16:11:11.248Z"
   },
   {
    "duration": 11,
    "start_time": "2025-06-28T16:11:11.310Z"
   },
   {
    "duration": 22,
    "start_time": "2025-06-28T16:11:11.323Z"
   },
   {
    "duration": 266,
    "start_time": "2025-06-28T16:11:11.347Z"
   },
   {
    "duration": 28,
    "start_time": "2025-06-28T16:11:11.614Z"
   },
   {
    "duration": 81,
    "start_time": "2025-06-28T16:11:11.650Z"
   },
   {
    "duration": 28,
    "start_time": "2025-06-28T16:11:11.733Z"
   },
   {
    "duration": 43,
    "start_time": "2025-06-28T16:11:11.763Z"
   },
   {
    "duration": 123,
    "start_time": "2025-06-28T16:11:11.808Z"
   },
   {
    "duration": 372,
    "start_time": "2025-06-28T16:11:11.935Z"
   },
   {
    "duration": 342,
    "start_time": "2025-06-28T16:11:12.309Z"
   },
   {
    "duration": 380,
    "start_time": "2025-06-28T16:11:12.653Z"
   },
   {
    "duration": 22,
    "start_time": "2025-06-28T16:11:13.037Z"
   },
   {
    "duration": 12,
    "start_time": "2025-06-28T16:11:13.061Z"
   },
   {
    "duration": 12,
    "start_time": "2025-06-28T16:11:13.075Z"
   },
   {
    "duration": 9,
    "start_time": "2025-06-28T16:11:13.088Z"
   },
   {
    "duration": 57,
    "start_time": "2025-06-28T16:11:13.098Z"
   },
   {
    "duration": 35,
    "start_time": "2025-06-28T16:11:13.157Z"
   },
   {
    "duration": 1263,
    "start_time": "2025-06-28T16:11:13.194Z"
   },
   {
    "duration": 399,
    "start_time": "2025-06-28T16:11:14.459Z"
   },
   {
    "duration": 18,
    "start_time": "2025-06-28T16:11:14.863Z"
   },
   {
    "duration": 70,
    "start_time": "2025-06-28T16:11:14.883Z"
   },
   {
    "duration": 1079,
    "start_time": "2025-06-28T16:11:14.954Z"
   },
   {
    "duration": 21,
    "start_time": "2025-06-28T16:11:16.035Z"
   },
   {
    "duration": 417,
    "start_time": "2025-06-28T16:11:16.057Z"
   },
   {
    "duration": 36,
    "start_time": "2025-06-28T16:11:16.476Z"
   },
   {
    "duration": 53,
    "start_time": "2025-06-28T16:11:16.515Z"
   },
   {
    "duration": 15,
    "start_time": "2025-06-28T16:11:16.570Z"
   },
   {
    "duration": 33,
    "start_time": "2025-06-28T16:11:16.586Z"
   },
   {
    "duration": 3,
    "start_time": "2025-06-28T16:11:16.620Z"
   },
   {
    "duration": 16,
    "start_time": "2025-06-28T16:11:16.624Z"
   },
   {
    "duration": 424,
    "start_time": "2025-06-28T16:11:16.642Z"
   },
   {
    "duration": 629,
    "start_time": "2025-06-28T16:11:17.068Z"
   },
   {
    "duration": 227,
    "start_time": "2025-06-28T16:11:17.698Z"
   },
   {
    "duration": 15,
    "start_time": "2025-06-28T16:11:17.926Z"
   },
   {
    "duration": 18,
    "start_time": "2025-06-28T16:11:17.943Z"
   },
   {
    "duration": 115,
    "start_time": "2025-06-28T16:11:17.962Z"
   },
   {
    "duration": 33,
    "start_time": "2025-06-28T16:11:18.079Z"
   },
   {
    "duration": 14,
    "start_time": "2025-06-28T16:11:18.113Z"
   },
   {
    "duration": 89,
    "start_time": "2025-06-28T16:11:18.128Z"
   },
   {
    "duration": 37,
    "start_time": "2025-06-28T16:11:18.219Z"
   },
   {
    "duration": 45,
    "start_time": "2025-06-28T16:11:18.258Z"
   },
   {
    "duration": 5,
    "start_time": "2025-06-28T16:11:18.305Z"
   },
   {
    "duration": 84,
    "start_time": "2025-06-28T16:11:18.312Z"
   },
   {
    "duration": 22,
    "start_time": "2025-06-28T16:11:18.397Z"
   },
   {
    "duration": 73,
    "start_time": "2025-06-28T16:11:18.420Z"
   },
   {
    "duration": 15,
    "start_time": "2025-06-28T16:11:18.494Z"
   },
   {
    "duration": 4,
    "start_time": "2025-06-28T16:11:18.511Z"
   },
   {
    "duration": 35,
    "start_time": "2025-06-28T16:11:18.516Z"
   },
   {
    "duration": 24,
    "start_time": "2025-06-28T16:11:18.552Z"
   },
   {
    "duration": 19,
    "start_time": "2025-06-28T16:11:18.577Z"
   },
   {
    "duration": 163,
    "start_time": "2025-06-28T16:11:18.598Z"
   },
   {
    "duration": 3,
    "start_time": "2025-06-28T16:11:18.762Z"
   },
   {
    "duration": 131,
    "start_time": "2025-06-28T16:11:18.767Z"
   },
   {
    "duration": 123,
    "start_time": "2025-06-28T16:11:18.899Z"
   },
   {
    "duration": 145,
    "start_time": "2025-06-28T16:11:19.023Z"
   },
   {
    "duration": 124,
    "start_time": "2025-06-28T16:11:19.170Z"
   },
   {
    "duration": 155,
    "start_time": "2025-06-28T16:11:19.295Z"
   },
   {
    "duration": 4,
    "start_time": "2025-06-28T16:11:19.451Z"
   },
   {
    "duration": 110,
    "start_time": "2025-06-28T16:11:19.456Z"
   },
   {
    "duration": 13,
    "start_time": "2025-06-28T16:11:19.568Z"
   },
   {
    "duration": 17,
    "start_time": "2025-06-28T16:11:19.582Z"
   },
   {
    "duration": 149,
    "start_time": "2025-06-28T16:11:19.601Z"
   },
   {
    "duration": 70,
    "start_time": "2025-06-28T16:11:25.600Z"
   }
  ],
  "kernelspec": {
   "display_name": "Python 3 (ipykernel)",
   "language": "python",
   "name": "python3"
  },
  "language_info": {
   "codemirror_mode": {
    "name": "ipython",
    "version": 3
   },
   "file_extension": ".py",
   "mimetype": "text/x-python",
   "name": "python",
   "nbconvert_exporter": "python",
   "pygments_lexer": "ipython3",
   "version": "3.11.13"
  },
  "toc": {
   "base_numbering": 1,
   "nav_menu": {},
   "number_sections": true,
   "sideBar": true,
   "skip_h1_title": true,
   "title_cell": "Table of Contents",
   "title_sidebar": "Contents",
   "toc_cell": false,
   "toc_position": {
    "height": "calc(100% - 180px)",
    "left": "10px",
    "top": "150px",
    "width": "252.6px"
   },
   "toc_section_display": true,
   "toc_window_display": true
  }
 },
 "nbformat": 4,
 "nbformat_minor": 4
}
