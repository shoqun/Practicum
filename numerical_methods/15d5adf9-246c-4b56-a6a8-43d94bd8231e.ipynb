{
 "cells": [
  {
   "cell_type": "markdown",
   "metadata": {},
   "source": [
    "# Определение стоимости автомобилей"
   ]
  },
  {
   "cell_type": "markdown",
   "metadata": {},
   "source": [
    "\n",
    "## ~~Специалист по Data Science.~~ Специалист по предобработке данных)"
   ]
  },
  {
   "cell_type": "markdown",
   "metadata": {},
   "source": [
    "## ~~ML-инженер, senior~~ Data Cleaner 80-го уровня\n"
   ]
  },
  {
   "cell_type": "markdown",
   "metadata": {},
   "source": [
    "Сервис по продаже автомобилей с пробегом «Не бит, не крашен» разрабатывает приложение для привлечения новых клиентов. В нём можно быстро узнать рыночную стоимость своего автомобиля. В вашем распоряжении исторические данные: технические характеристики, комплектации и цены автомобилей. Вам нужно построить модель для определения стоимости. \n",
    "\n",
    "Заказчику важны:\n",
    "\n",
    "- качество предсказания;\n",
    "- скорость предсказания;\n",
    "- время обучения."
   ]
  },
  {
   "cell_type": "markdown",
   "metadata": {},
   "source": [
    "ver. 1 from 20.06\n",
    "Черновой вариант с моими мыслями, \"юмором\" и размышлениями. Во второй итерации такого уже не будет!* Ахах. Решил разнообразить проверку, чтобы общение было повеселее.\n",
    "\n",
    "Привет, ревьювер! Меня зовут Артур, я буду делать этот проект. Если не против, давай общаться на \"ты\" :) Но если это неудобно, обязательно дай знать, и мы придумаем что-нибудь ещё!\n",
    "\n",
    "Цель проекта - не просто сдать проект, а помочь мне сделать мою работу ещё лучше, устранив недочёты и приблизив её к реальным задачам специалиста по работе с данными. Поэтому я стараюсь идти дальше, сильно не расстраиваюсь, если что-то не получилось с первого раза - это нормально, и это поможет мне вырасти!ъъ \n",
    "\n",
    "Мне было непросто делать этот проект, потому что я нечётко структурировал задачи и не очень хорошо двигался, очищая данные.\n",
    "\n",
    "Во второй итерации я почищу \"ненужный текст\", добавлю оглавление, аккуратно и понятно оформлю уже незамыленным глазом, поправлю желтые и красные пометки, быть может, добавлю новых функций. Ждать ответ, возможно, придется до 23-24, так как надо делать еще мастерскую...\n",
    "\n",
    "Upd_from_26.06: доделал мастерскую, теперь добавлю фичей, закодирую, модельки и отправлю на проверку)\n",
    "\n",
    "Upd_from26_06:*(Или будет, если не против)"
   ]
  },
  {
   "cell_type": "markdown",
   "metadata": {},
   "source": [
    "<div style=\"border-radius: 15px; border: 3px solid indigo; padding: 15px; \">\n",
    "<b> Комментарий копирайтера</b>\n",
    "    \n",
    "Черновой вариант с моими мыслями, \"юмором\" и размышлениями. Во второй итерации такого уже не будет! Ахах. Решил разнообразить проверку, \n",
    "чтобы общение было повеселее.\n",
    "    \n",
    "Привет, ревьювер! Меня зовут Артур, я буду делать этот проект. Если не против, давай общаться на \"ты\" :) \n",
    "Но если это неудобно, обязательно дай знать, и мы придумаем что-нибудь ещё!\n",
    "\n",
    "\n",
    "    \n",
    "**Ответы на мои комментарии или доработки по моим рекомендациям попрошу выделить каким-нибудь цветом.**\n",
    "Также я попрошу тебя **не менять и не передвигать мои комментарии**, чтобы при последующей проверке мне было проще ориентироваться))0\n",
    "    \n",
    "    \n",
    "<font color= 'dodgerblue'>**По проекту:**</font> работа сделана очень хорошо, все оформлено аккуратно и понятно. Код легко читается и сопровождается выводами, что очень важно!! Функции написаны верно, модели обучены корректно. Во время выполнения проекта у меня остались некоторые вопросы. Посмотри, пожалуйста, мои комментарии, возможно, я выделю их цветом. <div class=\"alert alert-warning\" style=\"border-radius: 15px; box-shadow: 4px 4px 4px; border: 1px solid \">\n",
    "\n",
    "Желтым с пометкой ⚠️ отмечено то, что можно или нужно оптимизировать, в зависимости от контекста.</div>    \n",
    "\n",
    "Вот это удалить: \"Там же ты также найдешь рекомендации по улучшению проекта. Буду ждать работу на повторное ревью.\"\n",
    "</div>"
   ]
  },
  {
   "cell_type": "markdown",
   "metadata": {},
   "source": [
    "# Project: Предсказываем чиселку price у автомобиля\n",
    "\n",
    "## Цель исследования\n",
    "\n",
    "Определение рыночной стоимости автомобилей\n",
    "\n",
    "## Бизнес-задача\n",
    "1. Построить модель для прогнозирования рыночной стоимости автомобиля\n",
    "2. Качество предсказания (значение метрики RMSE должно быть меньше 2500)\n",
    "3. оптимальное время обучения модели\n",
    "4. оптимальное время предсказания модели.\n",
    "\n"
   ]
  },
  {
   "cell_type": "markdown",
   "metadata": {},
   "source": [
    "## Подготовка данных"
   ]
  },
  {
   "cell_type": "code",
   "execution_count": 126,
   "metadata": {},
   "outputs": [
    {
     "name": "stdout",
     "output_type": "stream",
     "text": [
      "Requirement already satisfied: lightgbm in /Users/shogun/anaconda3/envs/kaggle/lib/python3.9/site-packages (4.6.0)\n",
      "Requirement already satisfied: numpy>=1.17.0 in /Users/shogun/anaconda3/envs/kaggle/lib/python3.9/site-packages (from lightgbm) (1.26.4)\n",
      "Requirement already satisfied: scipy in /Users/shogun/anaconda3/envs/kaggle/lib/python3.9/site-packages (from lightgbm) (1.13.1)\n"
     ]
    }
   ],
   "source": [
    "!pip install lightgbm\n"
   ]
  },
  {
   "cell_type": "code",
   "execution_count": 127,
   "metadata": {},
   "outputs": [],
   "source": [
    "import os\n",
    "import pandas as pd\n",
    "import numpy as np\n",
    "import matplotlib.pyplot as plt\n",
    "\n",
    "import seaborn as sns\n",
    "\n",
    "\n",
    "CURRENT_YEAR = 2018\n",
    "\n",
    "from sklearn.model_selection import train_test_split\n",
    "from sklearn.linear_model import LinearRegression\n",
    "from sklearn.linear_model import Ridge\n",
    "\n",
    "\n",
    "from sklearn.metrics import mean_squared_error, r2_score"
   ]
  },
  {
   "cell_type": "code",
   "execution_count": 128,
   "metadata": {},
   "outputs": [],
   "source": [
    "path1 = '/datasets/autos.csv'\n",
    "path2 = '../../autos.csv'\n",
    "\n",
    "if os.path.exists(path1):\n",
    "    data = pd.read_csv(path1)\n",
    "elif os.path.exists(path2):\n",
    "    data = pd.read_csv(path2)\n",
    "else:\n",
    "    print('something is wrong')\n",
    "    \n"
   ]
  },
  {
   "cell_type": "code",
   "execution_count": 129,
   "metadata": {},
   "outputs": [
    {
     "data": {
      "text/html": [
       "<div>\n",
       "<style scoped>\n",
       "    .dataframe tbody tr th:only-of-type {\n",
       "        vertical-align: middle;\n",
       "    }\n",
       "\n",
       "    .dataframe tbody tr th {\n",
       "        vertical-align: top;\n",
       "    }\n",
       "\n",
       "    .dataframe thead th {\n",
       "        text-align: right;\n",
       "    }\n",
       "</style>\n",
       "<table border=\"1\" class=\"dataframe\">\n",
       "  <thead>\n",
       "    <tr style=\"text-align: right;\">\n",
       "      <th></th>\n",
       "      <th>DateCrawled</th>\n",
       "      <th>Price</th>\n",
       "      <th>VehicleType</th>\n",
       "      <th>RegistrationYear</th>\n",
       "      <th>Gearbox</th>\n",
       "      <th>Power</th>\n",
       "      <th>Model</th>\n",
       "      <th>Kilometer</th>\n",
       "      <th>RegistrationMonth</th>\n",
       "      <th>FuelType</th>\n",
       "      <th>Brand</th>\n",
       "      <th>Repaired</th>\n",
       "      <th>DateCreated</th>\n",
       "      <th>NumberOfPictures</th>\n",
       "      <th>PostalCode</th>\n",
       "      <th>LastSeen</th>\n",
       "    </tr>\n",
       "  </thead>\n",
       "  <tbody>\n",
       "    <tr>\n",
       "      <th>0</th>\n",
       "      <td>2016-03-24 11:52:17</td>\n",
       "      <td>480</td>\n",
       "      <td>NaN</td>\n",
       "      <td>1993</td>\n",
       "      <td>manual</td>\n",
       "      <td>0</td>\n",
       "      <td>golf</td>\n",
       "      <td>150000</td>\n",
       "      <td>0</td>\n",
       "      <td>petrol</td>\n",
       "      <td>volkswagen</td>\n",
       "      <td>NaN</td>\n",
       "      <td>2016-03-24 00:00:00</td>\n",
       "      <td>0</td>\n",
       "      <td>70435</td>\n",
       "      <td>2016-04-07 03:16:57</td>\n",
       "    </tr>\n",
       "    <tr>\n",
       "      <th>1</th>\n",
       "      <td>2016-03-24 10:58:45</td>\n",
       "      <td>18300</td>\n",
       "      <td>coupe</td>\n",
       "      <td>2011</td>\n",
       "      <td>manual</td>\n",
       "      <td>190</td>\n",
       "      <td>NaN</td>\n",
       "      <td>125000</td>\n",
       "      <td>5</td>\n",
       "      <td>gasoline</td>\n",
       "      <td>audi</td>\n",
       "      <td>yes</td>\n",
       "      <td>2016-03-24 00:00:00</td>\n",
       "      <td>0</td>\n",
       "      <td>66954</td>\n",
       "      <td>2016-04-07 01:46:50</td>\n",
       "    </tr>\n",
       "    <tr>\n",
       "      <th>2</th>\n",
       "      <td>2016-03-14 12:52:21</td>\n",
       "      <td>9800</td>\n",
       "      <td>suv</td>\n",
       "      <td>2004</td>\n",
       "      <td>auto</td>\n",
       "      <td>163</td>\n",
       "      <td>grand</td>\n",
       "      <td>125000</td>\n",
       "      <td>8</td>\n",
       "      <td>gasoline</td>\n",
       "      <td>jeep</td>\n",
       "      <td>NaN</td>\n",
       "      <td>2016-03-14 00:00:00</td>\n",
       "      <td>0</td>\n",
       "      <td>90480</td>\n",
       "      <td>2016-04-05 12:47:46</td>\n",
       "    </tr>\n",
       "    <tr>\n",
       "      <th>3</th>\n",
       "      <td>2016-03-17 16:54:04</td>\n",
       "      <td>1500</td>\n",
       "      <td>small</td>\n",
       "      <td>2001</td>\n",
       "      <td>manual</td>\n",
       "      <td>75</td>\n",
       "      <td>golf</td>\n",
       "      <td>150000</td>\n",
       "      <td>6</td>\n",
       "      <td>petrol</td>\n",
       "      <td>volkswagen</td>\n",
       "      <td>no</td>\n",
       "      <td>2016-03-17 00:00:00</td>\n",
       "      <td>0</td>\n",
       "      <td>91074</td>\n",
       "      <td>2016-03-17 17:40:17</td>\n",
       "    </tr>\n",
       "    <tr>\n",
       "      <th>4</th>\n",
       "      <td>2016-03-31 17:25:20</td>\n",
       "      <td>3600</td>\n",
       "      <td>small</td>\n",
       "      <td>2008</td>\n",
       "      <td>manual</td>\n",
       "      <td>69</td>\n",
       "      <td>fabia</td>\n",
       "      <td>90000</td>\n",
       "      <td>7</td>\n",
       "      <td>gasoline</td>\n",
       "      <td>skoda</td>\n",
       "      <td>no</td>\n",
       "      <td>2016-03-31 00:00:00</td>\n",
       "      <td>0</td>\n",
       "      <td>60437</td>\n",
       "      <td>2016-04-06 10:17:21</td>\n",
       "    </tr>\n",
       "  </tbody>\n",
       "</table>\n",
       "</div>"
      ],
      "text/plain": [
       "           DateCrawled  Price VehicleType  RegistrationYear Gearbox  Power  \\\n",
       "0  2016-03-24 11:52:17    480         NaN              1993  manual      0   \n",
       "1  2016-03-24 10:58:45  18300       coupe              2011  manual    190   \n",
       "2  2016-03-14 12:52:21   9800         suv              2004    auto    163   \n",
       "3  2016-03-17 16:54:04   1500       small              2001  manual     75   \n",
       "4  2016-03-31 17:25:20   3600       small              2008  manual     69   \n",
       "\n",
       "   Model  Kilometer  RegistrationMonth  FuelType       Brand Repaired  \\\n",
       "0   golf     150000                  0    petrol  volkswagen      NaN   \n",
       "1    NaN     125000                  5  gasoline        audi      yes   \n",
       "2  grand     125000                  8  gasoline        jeep      NaN   \n",
       "3   golf     150000                  6    petrol  volkswagen       no   \n",
       "4  fabia      90000                  7  gasoline       skoda       no   \n",
       "\n",
       "           DateCreated  NumberOfPictures  PostalCode             LastSeen  \n",
       "0  2016-03-24 00:00:00                 0       70435  2016-04-07 03:16:57  \n",
       "1  2016-03-24 00:00:00                 0       66954  2016-04-07 01:46:50  \n",
       "2  2016-03-14 00:00:00                 0       90480  2016-04-05 12:47:46  \n",
       "3  2016-03-17 00:00:00                 0       91074  2016-03-17 17:40:17  \n",
       "4  2016-03-31 00:00:00                 0       60437  2016-04-06 10:17:21  "
      ]
     },
     "execution_count": 129,
     "metadata": {},
     "output_type": "execute_result"
    }
   ],
   "source": [
    "data.head(5)"
   ]
  },
  {
   "cell_type": "code",
   "execution_count": null,
   "metadata": {},
   "outputs": [],
   "source": []
  },
  {
   "cell_type": "markdown",
   "metadata": {},
   "source": [
    "Данные загружены успешно и без ошибок"
   ]
  },
  {
   "cell_type": "code",
   "execution_count": 130,
   "metadata": {},
   "outputs": [
    {
     "name": "stdout",
     "output_type": "stream",
     "text": [
      "<class 'pandas.core.frame.DataFrame'>\n",
      "RangeIndex: 354369 entries, 0 to 354368\n",
      "Data columns (total 16 columns):\n",
      " #   Column             Non-Null Count   Dtype \n",
      "---  ------             --------------   ----- \n",
      " 0   DateCrawled        354369 non-null  object\n",
      " 1   Price              354369 non-null  int64 \n",
      " 2   VehicleType        316879 non-null  object\n",
      " 3   RegistrationYear   354369 non-null  int64 \n",
      " 4   Gearbox            334536 non-null  object\n",
      " 5   Power              354369 non-null  int64 \n",
      " 6   Model              334664 non-null  object\n",
      " 7   Kilometer          354369 non-null  int64 \n",
      " 8   RegistrationMonth  354369 non-null  int64 \n",
      " 9   FuelType           321474 non-null  object\n",
      " 10  Brand              354369 non-null  object\n",
      " 11  Repaired           283215 non-null  object\n",
      " 12  DateCreated        354369 non-null  object\n",
      " 13  NumberOfPictures   354369 non-null  int64 \n",
      " 14  PostalCode         354369 non-null  int64 \n",
      " 15  LastSeen           354369 non-null  object\n",
      "dtypes: int64(7), object(9)\n",
      "memory usage: 43.3+ MB\n"
     ]
    }
   ],
   "source": [
    "data.info()"
   ]
  },
  {
   "cell_type": "markdown",
   "metadata": {},
   "source": [
    "Явные пропуски есть в столбцах:\n",
    "* VehicleType – тип автомобильного кузова\n",
    "* Gearbox — тип коробки передач\n",
    "* Model – модель автомобиля\n",
    "* FuelType – тип топлива\n",
    "* Repaired – была машина в ремонте или нет\n"
   ]
  },
  {
   "cell_type": "markdown",
   "metadata": {},
   "source": [
    "Для начала я бы спросил у старшего, чем лучше заполнить пропуски и предложил бы свои мысли. Так как старшего нет, то сразу будем придерживаться плана.\n",
    "\n",
    "**План такой.** \n",
    "VehicleType: заполняем пропуски модой по Brand/Model. \n",
    "Альтернатива: если модель отсутствует, можно fallback на моду по Brand, либо просто 'other'.\n",
    "\n",
    "Model: заполняем модой по Brand, fallback → 'other1' или 'other'\n",
    "\n",
    "Gearbox: заполняем модой по VehicleType (если есть), или просто глобальной модой.\n",
    "Важно для цены, но менее точно привязано к бренду/модели.\n",
    "\n",
    "Repaired: часто утаивается умышленно → NaN тут может иметь значение само по себе.\n",
    "Заполнить 'unknown'.\n"
   ]
  },
  {
   "cell_type": "code",
   "execution_count": 131,
   "metadata": {},
   "outputs": [],
   "source": [
    "Model_counts_before = data['Model'].value_counts(dropna=False)"
   ]
  },
  {
   "cell_type": "code",
   "execution_count": 132,
   "metadata": {},
   "outputs": [],
   "source": [
    "# Находим наиболее частую Model для каждой Brand\n",
    "model_by_brand = data.groupby('Brand')['Model'].agg(\n",
    "    lambda x: x.mode().iloc[0] if not x.mode().empty else 'other'\n",
    ")\n"
   ]
  },
  {
   "cell_type": "code",
   "execution_count": 133,
   "metadata": {},
   "outputs": [],
   "source": [
    "# Заполняем пропуски в Model на основе Brand\n",
    "data['Model'] = data['Model'].fillna(data['Brand'].map(model_by_brand))"
   ]
  },
  {
   "cell_type": "code",
   "execution_count": 134,
   "metadata": {},
   "outputs": [],
   "source": [
    "Model_counts = data['Model'].value_counts(dropna=False)\n"
   ]
  },
  {
   "cell_type": "code",
   "execution_count": 135,
   "metadata": {
    "scrolled": true
   },
   "outputs": [
    {
     "data": {
      "text/html": [
       "<div>\n",
       "<style scoped>\n",
       "    .dataframe tbody tr th:only-of-type {\n",
       "        vertical-align: middle;\n",
       "    }\n",
       "\n",
       "    .dataframe tbody tr th {\n",
       "        vertical-align: top;\n",
       "    }\n",
       "\n",
       "    .dataframe thead th {\n",
       "        text-align: right;\n",
       "    }\n",
       "</style>\n",
       "<table border=\"1\" class=\"dataframe\">\n",
       "  <thead>\n",
       "    <tr style=\"text-align: right;\">\n",
       "      <th></th>\n",
       "      <th>Before</th>\n",
       "      <th>After</th>\n",
       "      <th>Change</th>\n",
       "      <th>Ratio</th>\n",
       "    </tr>\n",
       "    <tr>\n",
       "      <th>Model</th>\n",
       "      <th></th>\n",
       "      <th></th>\n",
       "      <th></th>\n",
       "      <th></th>\n",
       "    </tr>\n",
       "  </thead>\n",
       "  <tbody>\n",
       "    <tr>\n",
       "      <th>601</th>\n",
       "      <td>419</td>\n",
       "      <td>514.0</td>\n",
       "      <td>95.0</td>\n",
       "      <td>22.67</td>\n",
       "    </tr>\n",
       "    <tr>\n",
       "      <th>156</th>\n",
       "      <td>629</td>\n",
       "      <td>766.0</td>\n",
       "      <td>137.0</td>\n",
       "      <td>21.78</td>\n",
       "    </tr>\n",
       "    <tr>\n",
       "      <th>impreza</th>\n",
       "      <td>225</td>\n",
       "      <td>269.0</td>\n",
       "      <td>44.0</td>\n",
       "      <td>19.56</td>\n",
       "    </tr>\n",
       "    <tr>\n",
       "      <th>i_reihe</th>\n",
       "      <td>1226</td>\n",
       "      <td>1454.0</td>\n",
       "      <td>228.0</td>\n",
       "      <td>18.60</td>\n",
       "    </tr>\n",
       "    <tr>\n",
       "      <th>2_reihe</th>\n",
       "      <td>4816</td>\n",
       "      <td>5707.0</td>\n",
       "      <td>891.0</td>\n",
       "      <td>18.50</td>\n",
       "    </tr>\n",
       "    <tr>\n",
       "      <th>colt</th>\n",
       "      <td>869</td>\n",
       "      <td>1029.0</td>\n",
       "      <td>160.0</td>\n",
       "      <td>18.41</td>\n",
       "    </tr>\n",
       "    <tr>\n",
       "      <th>cayenne</th>\n",
       "      <td>232</td>\n",
       "      <td>274.0</td>\n",
       "      <td>42.0</td>\n",
       "      <td>18.10</td>\n",
       "    </tr>\n",
       "    <tr>\n",
       "      <th>focus</th>\n",
       "      <td>5874</td>\n",
       "      <td>6887.0</td>\n",
       "      <td>1013.0</td>\n",
       "      <td>17.25</td>\n",
       "    </tr>\n",
       "    <tr>\n",
       "      <th>other</th>\n",
       "      <td>24421</td>\n",
       "      <td>28605.0</td>\n",
       "      <td>4184.0</td>\n",
       "      <td>17.13</td>\n",
       "    </tr>\n",
       "    <tr>\n",
       "      <th>yaris</th>\n",
       "      <td>1033</td>\n",
       "      <td>1190.0</td>\n",
       "      <td>157.0</td>\n",
       "      <td>15.20</td>\n",
       "    </tr>\n",
       "    <tr>\n",
       "      <th>punto</th>\n",
       "      <td>3347</td>\n",
       "      <td>3849.0</td>\n",
       "      <td>502.0</td>\n",
       "      <td>15.00</td>\n",
       "    </tr>\n",
       "    <tr>\n",
       "      <th>corsa</th>\n",
       "      <td>12570</td>\n",
       "      <td>14441.0</td>\n",
       "      <td>1871.0</td>\n",
       "      <td>14.88</td>\n",
       "    </tr>\n",
       "    <tr>\n",
       "      <th>twingo</th>\n",
       "      <td>4953</td>\n",
       "      <td>5688.0</td>\n",
       "      <td>735.0</td>\n",
       "      <td>14.84</td>\n",
       "    </tr>\n",
       "    <tr>\n",
       "      <th>c_klasse</th>\n",
       "      <td>8312</td>\n",
       "      <td>9522.0</td>\n",
       "      <td>1210.0</td>\n",
       "      <td>14.56</td>\n",
       "    </tr>\n",
       "  </tbody>\n",
       "</table>\n",
       "</div>"
      ],
      "text/plain": [
       "          Before    After  Change  Ratio\n",
       "Model                                   \n",
       "601          419    514.0    95.0  22.67\n",
       "156          629    766.0   137.0  21.78\n",
       "impreza      225    269.0    44.0  19.56\n",
       "i_reihe     1226   1454.0   228.0  18.60\n",
       "2_reihe     4816   5707.0   891.0  18.50\n",
       "colt         869   1029.0   160.0  18.41\n",
       "cayenne      232    274.0    42.0  18.10\n",
       "focus       5874   6887.0  1013.0  17.25\n",
       "other      24421  28605.0  4184.0  17.13\n",
       "yaris       1033   1190.0   157.0  15.20\n",
       "punto       3347   3849.0   502.0  15.00\n",
       "corsa      12570  14441.0  1871.0  14.88\n",
       "twingo      4953   5688.0   735.0  14.84\n",
       "c_klasse    8312   9522.0  1210.0  14.56"
      ]
     },
     "execution_count": 135,
     "metadata": {},
     "output_type": "execute_result"
    }
   ],
   "source": [
    "# Сравнение\n",
    "comparison = pd.concat([Model_counts_before, Model_counts], axis=1)\n",
    "comparison.columns = ['Before', 'After']\n",
    "comparison['Change'] = comparison['After'] - comparison['Before']\n",
    "comparison['Ratio'] = (comparison['After'] / comparison['Before'] * 100 - 100).round(2)\n",
    "comparison.sort_values(by='Ratio', ascending=False).head(14)\n"
   ]
  },
  {
   "cell_type": "code",
   "execution_count": 136,
   "metadata": {},
   "outputs": [
    {
     "data": {
      "text/html": [
       "<div>\n",
       "<style scoped>\n",
       "    .dataframe tbody tr th:only-of-type {\n",
       "        vertical-align: middle;\n",
       "    }\n",
       "\n",
       "    .dataframe tbody tr th {\n",
       "        vertical-align: top;\n",
       "    }\n",
       "\n",
       "    .dataframe thead th {\n",
       "        text-align: right;\n",
       "    }\n",
       "</style>\n",
       "<table border=\"1\" class=\"dataframe\">\n",
       "  <thead>\n",
       "    <tr style=\"text-align: right;\">\n",
       "      <th></th>\n",
       "      <th>Before</th>\n",
       "      <th>After</th>\n",
       "      <th>Change</th>\n",
       "      <th>Ratio</th>\n",
       "    </tr>\n",
       "    <tr>\n",
       "      <th>Model</th>\n",
       "      <th></th>\n",
       "      <th></th>\n",
       "      <th></th>\n",
       "      <th></th>\n",
       "    </tr>\n",
       "  </thead>\n",
       "  <tbody>\n",
       "    <tr>\n",
       "      <th>golf</th>\n",
       "      <td>29232</td>\n",
       "      <td>32737.0</td>\n",
       "      <td>3505.0</td>\n",
       "      <td>11.99</td>\n",
       "    </tr>\n",
       "    <tr>\n",
       "      <th>other</th>\n",
       "      <td>24421</td>\n",
       "      <td>28605.0</td>\n",
       "      <td>4184.0</td>\n",
       "      <td>17.13</td>\n",
       "    </tr>\n",
       "    <tr>\n",
       "      <th>3er</th>\n",
       "      <td>19761</td>\n",
       "      <td>21696.0</td>\n",
       "      <td>1935.0</td>\n",
       "      <td>9.79</td>\n",
       "    </tr>\n",
       "    <tr>\n",
       "      <th>NaN</th>\n",
       "      <td>19705</td>\n",
       "      <td>NaN</td>\n",
       "      <td>NaN</td>\n",
       "      <td>NaN</td>\n",
       "    </tr>\n",
       "    <tr>\n",
       "      <th>polo</th>\n",
       "      <td>13066</td>\n",
       "      <td>13066.0</td>\n",
       "      <td>0.0</td>\n",
       "      <td>0.00</td>\n",
       "    </tr>\n",
       "  </tbody>\n",
       "</table>\n",
       "</div>"
      ],
      "text/plain": [
       "       Before    After  Change  Ratio\n",
       "Model                                \n",
       "golf    29232  32737.0  3505.0  11.99\n",
       "other   24421  28605.0  4184.0  17.13\n",
       "3er     19761  21696.0  1935.0   9.79\n",
       "NaN     19705      NaN     NaN    NaN\n",
       "polo    13066  13066.0     0.0   0.00"
      ]
     },
     "execution_count": 136,
     "metadata": {},
     "output_type": "execute_result"
    }
   ],
   "source": [
    "comparison.head()"
   ]
  },
  {
   "cell_type": "code",
   "execution_count": 137,
   "metadata": {},
   "outputs": [],
   "source": [
    "#data['Model'] = data['Model'].replace('other1', 'other')"
   ]
  },
  {
   "cell_type": "markdown",
   "metadata": {},
   "source": [
    "Заполним пропуски:"
   ]
  },
  {
   "cell_type": "code",
   "execution_count": 138,
   "metadata": {},
   "outputs": [],
   "source": [
    "# До заполнения\n",
    "vehicle_counts_before = data['VehicleType'].value_counts(dropna=False)\n",
    "\n",
    "# Заполнение VehicleType модой по по модели\n",
    "vehicle_modes_by_model = data.groupby('Model')['VehicleType'].agg(\n",
    "    lambda x: x.mode().iloc[0] if not x.mode().empty else pd.Na\n",
    ")\n",
    "data['VehicleType'] = data['VehicleType'].fillna(data['Model'].map(vehicle_modes_by_model))\n",
    "\n",
    "# После заполнения\n",
    "vehicle_counts_after = data['VehicleType'].value_counts(dropna=False)\n",
    "\n",
    "\n"
   ]
  },
  {
   "cell_type": "code",
   "execution_count": 139,
   "metadata": {},
   "outputs": [
    {
     "data": {
      "text/html": [
       "<div>\n",
       "<style scoped>\n",
       "    .dataframe tbody tr th:only-of-type {\n",
       "        vertical-align: middle;\n",
       "    }\n",
       "\n",
       "    .dataframe tbody tr th {\n",
       "        vertical-align: top;\n",
       "    }\n",
       "\n",
       "    .dataframe thead th {\n",
       "        text-align: right;\n",
       "    }\n",
       "</style>\n",
       "<table border=\"1\" class=\"dataframe\">\n",
       "  <thead>\n",
       "    <tr style=\"text-align: right;\">\n",
       "      <th></th>\n",
       "      <th>Before</th>\n",
       "      <th>After</th>\n",
       "      <th>Change</th>\n",
       "      <th>Ratio</th>\n",
       "    </tr>\n",
       "    <tr>\n",
       "      <th>VehicleType</th>\n",
       "      <th></th>\n",
       "      <th></th>\n",
       "      <th></th>\n",
       "      <th></th>\n",
       "    </tr>\n",
       "  </thead>\n",
       "  <tbody>\n",
       "    <tr>\n",
       "      <th>sedan</th>\n",
       "      <td>91457</td>\n",
       "      <td>109944.0</td>\n",
       "      <td>18487.0</td>\n",
       "      <td>20.21</td>\n",
       "    </tr>\n",
       "    <tr>\n",
       "      <th>small</th>\n",
       "      <td>79831</td>\n",
       "      <td>90343.0</td>\n",
       "      <td>10512.0</td>\n",
       "      <td>13.17</td>\n",
       "    </tr>\n",
       "    <tr>\n",
       "      <th>wagon</th>\n",
       "      <td>65166</td>\n",
       "      <td>69397.0</td>\n",
       "      <td>4231.0</td>\n",
       "      <td>6.49</td>\n",
       "    </tr>\n",
       "    <tr>\n",
       "      <th>NaN</th>\n",
       "      <td>37490</td>\n",
       "      <td>NaN</td>\n",
       "      <td>NaN</td>\n",
       "      <td>NaN</td>\n",
       "    </tr>\n",
       "    <tr>\n",
       "      <th>bus</th>\n",
       "      <td>28775</td>\n",
       "      <td>31882.0</td>\n",
       "      <td>3107.0</td>\n",
       "      <td>10.80</td>\n",
       "    </tr>\n",
       "    <tr>\n",
       "      <th>convertible</th>\n",
       "      <td>20203</td>\n",
       "      <td>20458.0</td>\n",
       "      <td>255.0</td>\n",
       "      <td>1.26</td>\n",
       "    </tr>\n",
       "    <tr>\n",
       "      <th>coupe</th>\n",
       "      <td>16163</td>\n",
       "      <td>16555.0</td>\n",
       "      <td>392.0</td>\n",
       "      <td>2.43</td>\n",
       "    </tr>\n",
       "  </tbody>\n",
       "</table>\n",
       "</div>"
      ],
      "text/plain": [
       "             Before     After   Change  Ratio\n",
       "VehicleType                                  \n",
       "sedan         91457  109944.0  18487.0  20.21\n",
       "small         79831   90343.0  10512.0  13.17\n",
       "wagon         65166   69397.0   4231.0   6.49\n",
       "NaN           37490       NaN      NaN    NaN\n",
       "bus           28775   31882.0   3107.0  10.80\n",
       "convertible   20203   20458.0    255.0   1.26\n",
       "coupe         16163   16555.0    392.0   2.43"
      ]
     },
     "execution_count": 139,
     "metadata": {},
     "output_type": "execute_result"
    }
   ],
   "source": [
    "# Сравнение\n",
    "comparison = pd.concat([vehicle_counts_before, vehicle_counts_after], axis=1)\n",
    "comparison.columns = ['Before', 'After']\n",
    "comparison['Change'] = comparison['After'] - comparison['Before']\n",
    "comparison['Ratio'] = (comparison['After'] / comparison['Before'] * 100 - 100).round(2)\n",
    "\n",
    "comparison.head(7)"
   ]
  },
  {
   "cell_type": "code",
   "execution_count": null,
   "metadata": {},
   "outputs": [],
   "source": []
  },
  {
   "cell_type": "markdown",
   "metadata": {},
   "source": [
    "Заполним пропуски в Gearbox:"
   ]
  },
  {
   "cell_type": "code",
   "execution_count": 140,
   "metadata": {},
   "outputs": [],
   "source": [
    "Gearbox_counts_before = data['Gearbox'].value_counts(dropna=False)\n",
    "\n",
    "# 1. Находим моду Gearbox для каждого Model\n",
    "gearbox_mode_by_vtype = (\n",
    "    data.groupby('Model')['Gearbox']\n",
    "    .agg(lambda x: x.mode().iloc[0] if not x.mode().empty else np.nan)\n",
    ")\n",
    "\n",
    "# 2. Заполняем пропуски в Gearbox модой по Model\n",
    "data['Gearbox'] = data['Gearbox'].fillna(data['Model'].map(gearbox_mode_by_vtype))\n",
    "\n",
    "# 3. После заполнения\n",
    "Gearbox_counts_after = data['Gearbox'].value_counts(dropna=False)\n",
    "\n",
    "# 4. Сравнение\n",
    "comparison = pd.concat([Gearbox_counts_before, Gearbox_counts_after], axis=1)\n",
    "comparison.columns = ['Before', 'After']\n",
    "comparison['Change'] = comparison['After'] - comparison['Before']\n",
    "comparison['Ratio'] = (comparison['After'] / comparison['Before'] * 100 - 100).round(2)"
   ]
  },
  {
   "cell_type": "code",
   "execution_count": 141,
   "metadata": {},
   "outputs": [
    {
     "data": {
      "text/html": [
       "<div>\n",
       "<style scoped>\n",
       "    .dataframe tbody tr th:only-of-type {\n",
       "        vertical-align: middle;\n",
       "    }\n",
       "\n",
       "    .dataframe tbody tr th {\n",
       "        vertical-align: top;\n",
       "    }\n",
       "\n",
       "    .dataframe thead th {\n",
       "        text-align: right;\n",
       "    }\n",
       "</style>\n",
       "<table border=\"1\" class=\"dataframe\">\n",
       "  <thead>\n",
       "    <tr style=\"text-align: right;\">\n",
       "      <th></th>\n",
       "      <th>Before</th>\n",
       "      <th>After</th>\n",
       "      <th>Change</th>\n",
       "      <th>Ratio</th>\n",
       "    </tr>\n",
       "    <tr>\n",
       "      <th>Gearbox</th>\n",
       "      <th></th>\n",
       "      <th></th>\n",
       "      <th></th>\n",
       "      <th></th>\n",
       "    </tr>\n",
       "  </thead>\n",
       "  <tbody>\n",
       "    <tr>\n",
       "      <th>manual</th>\n",
       "      <td>268251</td>\n",
       "      <td>286286.0</td>\n",
       "      <td>18035.0</td>\n",
       "      <td>6.72</td>\n",
       "    </tr>\n",
       "    <tr>\n",
       "      <th>auto</th>\n",
       "      <td>66285</td>\n",
       "      <td>68083.0</td>\n",
       "      <td>1798.0</td>\n",
       "      <td>2.71</td>\n",
       "    </tr>\n",
       "    <tr>\n",
       "      <th>NaN</th>\n",
       "      <td>19833</td>\n",
       "      <td>NaN</td>\n",
       "      <td>NaN</td>\n",
       "      <td>NaN</td>\n",
       "    </tr>\n",
       "  </tbody>\n",
       "</table>\n",
       "</div>"
      ],
      "text/plain": [
       "         Before     After   Change  Ratio\n",
       "Gearbox                                  \n",
       "manual   268251  286286.0  18035.0   6.72\n",
       "auto      66285   68083.0   1798.0   2.71\n",
       "NaN       19833       NaN      NaN    NaN"
      ]
     },
     "execution_count": 141,
     "metadata": {},
     "output_type": "execute_result"
    }
   ],
   "source": [
    "comparison"
   ]
  },
  {
   "cell_type": "code",
   "execution_count": null,
   "metadata": {},
   "outputs": [],
   "source": []
  },
  {
   "cell_type": "markdown",
   "metadata": {},
   "source": [
    "Заполним пропуски в FuelType:"
   ]
  },
  {
   "cell_type": "code",
   "execution_count": 142,
   "metadata": {},
   "outputs": [],
   "source": [
    "\n",
    "fuel_counts_before = data['FuelType'].value_counts(dropna=False)\n",
    "\n",
    "# 1. Находим моду FuelType по Model\n",
    "fuel_mode_by_model = data.groupby('Model')['FuelType'].agg(\n",
    "    lambda x: x.mode().iloc[0] if not x.mode().empty else pd.NA\n",
    ")\n",
    "\n",
    "# 2. Заполняем пропуски \n",
    "data['FuelType'] = data['FuelType'].fillna(data['Model'].map(fuel_mode_by_model))\n",
    "\n",
    "# 3. Сохраняем распределение после заполнения\n",
    "fuel_counts_after = data['FuelType'].value_counts(dropna=False)\n",
    "\n"
   ]
  },
  {
   "cell_type": "code",
   "execution_count": 143,
   "metadata": {},
   "outputs": [
    {
     "data": {
      "text/html": [
       "<div>\n",
       "<style scoped>\n",
       "    .dataframe tbody tr th:only-of-type {\n",
       "        vertical-align: middle;\n",
       "    }\n",
       "\n",
       "    .dataframe tbody tr th {\n",
       "        vertical-align: top;\n",
       "    }\n",
       "\n",
       "    .dataframe thead th {\n",
       "        text-align: right;\n",
       "    }\n",
       "</style>\n",
       "<table border=\"1\" class=\"dataframe\">\n",
       "  <thead>\n",
       "    <tr style=\"text-align: right;\">\n",
       "      <th></th>\n",
       "      <th>Before</th>\n",
       "      <th>After</th>\n",
       "      <th>Change</th>\n",
       "      <th>Ratio</th>\n",
       "    </tr>\n",
       "    <tr>\n",
       "      <th>FuelType</th>\n",
       "      <th></th>\n",
       "      <th></th>\n",
       "      <th></th>\n",
       "      <th></th>\n",
       "    </tr>\n",
       "  </thead>\n",
       "  <tbody>\n",
       "    <tr>\n",
       "      <th>petrol</th>\n",
       "      <td>216352</td>\n",
       "      <td>243956.0</td>\n",
       "      <td>27604.0</td>\n",
       "      <td>12.76</td>\n",
       "    </tr>\n",
       "    <tr>\n",
       "      <th>gasoline</th>\n",
       "      <td>98720</td>\n",
       "      <td>104011.0</td>\n",
       "      <td>5291.0</td>\n",
       "      <td>5.36</td>\n",
       "    </tr>\n",
       "    <tr>\n",
       "      <th>lpg</th>\n",
       "      <td>5310</td>\n",
       "      <td>5310.0</td>\n",
       "      <td>0.0</td>\n",
       "      <td>0.00</td>\n",
       "    </tr>\n",
       "    <tr>\n",
       "      <th>cng</th>\n",
       "      <td>565</td>\n",
       "      <td>565.0</td>\n",
       "      <td>0.0</td>\n",
       "      <td>0.00</td>\n",
       "    </tr>\n",
       "    <tr>\n",
       "      <th>hybrid</th>\n",
       "      <td>233</td>\n",
       "      <td>233.0</td>\n",
       "      <td>0.0</td>\n",
       "      <td>0.00</td>\n",
       "    </tr>\n",
       "    <tr>\n",
       "      <th>other</th>\n",
       "      <td>204</td>\n",
       "      <td>204.0</td>\n",
       "      <td>0.0</td>\n",
       "      <td>0.00</td>\n",
       "    </tr>\n",
       "    <tr>\n",
       "      <th>electric</th>\n",
       "      <td>90</td>\n",
       "      <td>90.0</td>\n",
       "      <td>0.0</td>\n",
       "      <td>0.00</td>\n",
       "    </tr>\n",
       "    <tr>\n",
       "      <th>NaN</th>\n",
       "      <td>32895</td>\n",
       "      <td>NaN</td>\n",
       "      <td>NaN</td>\n",
       "      <td>NaN</td>\n",
       "    </tr>\n",
       "  </tbody>\n",
       "</table>\n",
       "</div>"
      ],
      "text/plain": [
       "          Before     After   Change  Ratio\n",
       "FuelType                                  \n",
       "petrol    216352  243956.0  27604.0  12.76\n",
       "gasoline   98720  104011.0   5291.0   5.36\n",
       "lpg         5310    5310.0      0.0   0.00\n",
       "cng          565     565.0      0.0   0.00\n",
       "hybrid       233     233.0      0.0   0.00\n",
       "other        204     204.0      0.0   0.00\n",
       "electric      90      90.0      0.0   0.00\n",
       "NaN        32895       NaN      NaN    NaN"
      ]
     },
     "execution_count": 143,
     "metadata": {},
     "output_type": "execute_result"
    }
   ],
   "source": [
    "# 3. Сравнение\n",
    "comparison = pd.concat([fuel_counts_before, fuel_counts_after], axis=1)\n",
    "comparison.columns = ['Before', 'After']\n",
    "comparison['Change'] = comparison['After'] - comparison['Before']\n",
    "comparison['Ratio'] = (comparison['After'] / comparison['Before'] * 100 - 100).round(2)\n",
    "comparison.sort_values(by='Ratio', ascending=False)\n"
   ]
  },
  {
   "cell_type": "markdown",
   "metadata": {},
   "source": [
    "Заполним пропуски в Repaired:"
   ]
  },
  {
   "cell_type": "code",
   "execution_count": 144,
   "metadata": {},
   "outputs": [],
   "source": [
    "data['Repaired'] = data['Repaired'].fillna('unknown')\n"
   ]
  },
  {
   "cell_type": "code",
   "execution_count": 145,
   "metadata": {},
   "outputs": [
    {
     "data": {
      "text/plain": [
       "Repaired\n",
       "no         247161\n",
       "unknown     71154\n",
       "yes         36054\n",
       "Name: count, dtype: int64"
      ]
     },
     "execution_count": 145,
     "metadata": {},
     "output_type": "execute_result"
    }
   ],
   "source": [
    "data['Repaired'].value_counts(dropna=False)"
   ]
  },
  {
   "cell_type": "markdown",
   "metadata": {},
   "source": [
    "Проверим теперь данные на неявные пропуски/некорректные значения:"
   ]
  },
  {
   "cell_type": "code",
   "execution_count": 146,
   "metadata": {},
   "outputs": [
    {
     "data": {
      "text/plain": [
       "array(['volkswagen', 'audi', 'jeep', 'skoda', 'bmw', 'peugeot', 'ford',\n",
       "       'mazda', 'nissan', 'renault', 'mercedes_benz', 'opel', 'seat',\n",
       "       'citroen', 'honda', 'fiat', 'mini', 'smart', 'hyundai',\n",
       "       'sonstige_autos', 'alfa_romeo', 'subaru', 'volvo', 'mitsubishi',\n",
       "       'kia', 'suzuki', 'lancia', 'toyota', 'chevrolet', 'dacia',\n",
       "       'daihatsu', 'trabant', 'saab', 'chrysler', 'jaguar', 'daewoo',\n",
       "       'porsche', 'rover', 'land_rover', 'lada'], dtype=object)"
      ]
     },
     "execution_count": 146,
     "metadata": {},
     "output_type": "execute_result"
    }
   ],
   "source": [
    "# Заметил уже в конце предобработки в Brand: rover и land_rover. Их можно объединить в одну компанию, нашел инфу, что это одно и то же.\n",
    "data.Brand.unique()"
   ]
  },
  {
   "cell_type": "code",
   "execution_count": 147,
   "metadata": {},
   "outputs": [],
   "source": [
    "data[\"Brand\"] = data[\"Brand\"].replace(\"rover\", \"land_rover\")"
   ]
  },
  {
   "cell_type": "code",
   "execution_count": 148,
   "metadata": {},
   "outputs": [
    {
     "data": {
      "text/plain": [
       "354369"
      ]
     },
     "execution_count": 148,
     "metadata": {},
     "output_type": "execute_result"
    }
   ],
   "source": [
    "data.shape[0]"
   ]
  },
  {
   "cell_type": "code",
   "execution_count": 149,
   "metadata": {},
   "outputs": [
    {
     "data": {
      "text/html": [
       "<div>\n",
       "<style scoped>\n",
       "    .dataframe tbody tr th:only-of-type {\n",
       "        vertical-align: middle;\n",
       "    }\n",
       "\n",
       "    .dataframe tbody tr th {\n",
       "        vertical-align: top;\n",
       "    }\n",
       "\n",
       "    .dataframe thead th {\n",
       "        text-align: right;\n",
       "    }\n",
       "</style>\n",
       "<table border=\"1\" class=\"dataframe\">\n",
       "  <thead>\n",
       "    <tr style=\"text-align: right;\">\n",
       "      <th></th>\n",
       "      <th>DateCrawled</th>\n",
       "      <th>Price</th>\n",
       "      <th>VehicleType</th>\n",
       "      <th>RegistrationYear</th>\n",
       "      <th>Gearbox</th>\n",
       "      <th>Power</th>\n",
       "      <th>Model</th>\n",
       "      <th>Kilometer</th>\n",
       "      <th>RegistrationMonth</th>\n",
       "      <th>FuelType</th>\n",
       "      <th>Brand</th>\n",
       "      <th>Repaired</th>\n",
       "      <th>DateCreated</th>\n",
       "      <th>NumberOfPictures</th>\n",
       "      <th>PostalCode</th>\n",
       "      <th>LastSeen</th>\n",
       "    </tr>\n",
       "  </thead>\n",
       "  <tbody>\n",
       "    <tr>\n",
       "      <th>0</th>\n",
       "      <td>2016-03-24 11:52:17</td>\n",
       "      <td>480</td>\n",
       "      <td>sedan</td>\n",
       "      <td>1993</td>\n",
       "      <td>manual</td>\n",
       "      <td>0</td>\n",
       "      <td>golf</td>\n",
       "      <td>150000</td>\n",
       "      <td>0</td>\n",
       "      <td>petrol</td>\n",
       "      <td>volkswagen</td>\n",
       "      <td>unknown</td>\n",
       "      <td>2016-03-24 00:00:00</td>\n",
       "      <td>0</td>\n",
       "      <td>70435</td>\n",
       "      <td>2016-04-07 03:16:57</td>\n",
       "    </tr>\n",
       "    <tr>\n",
       "      <th>1</th>\n",
       "      <td>2016-03-24 10:58:45</td>\n",
       "      <td>18300</td>\n",
       "      <td>coupe</td>\n",
       "      <td>2011</td>\n",
       "      <td>manual</td>\n",
       "      <td>190</td>\n",
       "      <td>a4</td>\n",
       "      <td>125000</td>\n",
       "      <td>5</td>\n",
       "      <td>gasoline</td>\n",
       "      <td>audi</td>\n",
       "      <td>yes</td>\n",
       "      <td>2016-03-24 00:00:00</td>\n",
       "      <td>0</td>\n",
       "      <td>66954</td>\n",
       "      <td>2016-04-07 01:46:50</td>\n",
       "    </tr>\n",
       "    <tr>\n",
       "      <th>2</th>\n",
       "      <td>2016-03-14 12:52:21</td>\n",
       "      <td>9800</td>\n",
       "      <td>suv</td>\n",
       "      <td>2004</td>\n",
       "      <td>auto</td>\n",
       "      <td>163</td>\n",
       "      <td>grand</td>\n",
       "      <td>125000</td>\n",
       "      <td>8</td>\n",
       "      <td>gasoline</td>\n",
       "      <td>jeep</td>\n",
       "      <td>unknown</td>\n",
       "      <td>2016-03-14 00:00:00</td>\n",
       "      <td>0</td>\n",
       "      <td>90480</td>\n",
       "      <td>2016-04-05 12:47:46</td>\n",
       "    </tr>\n",
       "    <tr>\n",
       "      <th>3</th>\n",
       "      <td>2016-03-17 16:54:04</td>\n",
       "      <td>1500</td>\n",
       "      <td>small</td>\n",
       "      <td>2001</td>\n",
       "      <td>manual</td>\n",
       "      <td>75</td>\n",
       "      <td>golf</td>\n",
       "      <td>150000</td>\n",
       "      <td>6</td>\n",
       "      <td>petrol</td>\n",
       "      <td>volkswagen</td>\n",
       "      <td>no</td>\n",
       "      <td>2016-03-17 00:00:00</td>\n",
       "      <td>0</td>\n",
       "      <td>91074</td>\n",
       "      <td>2016-03-17 17:40:17</td>\n",
       "    </tr>\n",
       "    <tr>\n",
       "      <th>4</th>\n",
       "      <td>2016-03-31 17:25:20</td>\n",
       "      <td>3600</td>\n",
       "      <td>small</td>\n",
       "      <td>2008</td>\n",
       "      <td>manual</td>\n",
       "      <td>69</td>\n",
       "      <td>fabia</td>\n",
       "      <td>90000</td>\n",
       "      <td>7</td>\n",
       "      <td>gasoline</td>\n",
       "      <td>skoda</td>\n",
       "      <td>no</td>\n",
       "      <td>2016-03-31 00:00:00</td>\n",
       "      <td>0</td>\n",
       "      <td>60437</td>\n",
       "      <td>2016-04-06 10:17:21</td>\n",
       "    </tr>\n",
       "  </tbody>\n",
       "</table>\n",
       "</div>"
      ],
      "text/plain": [
       "           DateCrawled  Price VehicleType  RegistrationYear Gearbox  Power  \\\n",
       "0  2016-03-24 11:52:17    480       sedan              1993  manual      0   \n",
       "1  2016-03-24 10:58:45  18300       coupe              2011  manual    190   \n",
       "2  2016-03-14 12:52:21   9800         suv              2004    auto    163   \n",
       "3  2016-03-17 16:54:04   1500       small              2001  manual     75   \n",
       "4  2016-03-31 17:25:20   3600       small              2008  manual     69   \n",
       "\n",
       "   Model  Kilometer  RegistrationMonth  FuelType       Brand Repaired  \\\n",
       "0   golf     150000                  0    petrol  volkswagen  unknown   \n",
       "1     a4     125000                  5  gasoline        audi      yes   \n",
       "2  grand     125000                  8  gasoline        jeep  unknown   \n",
       "3   golf     150000                  6    petrol  volkswagen       no   \n",
       "4  fabia      90000                  7  gasoline       skoda       no   \n",
       "\n",
       "           DateCreated  NumberOfPictures  PostalCode             LastSeen  \n",
       "0  2016-03-24 00:00:00                 0       70435  2016-04-07 03:16:57  \n",
       "1  2016-03-24 00:00:00                 0       66954  2016-04-07 01:46:50  \n",
       "2  2016-03-14 00:00:00                 0       90480  2016-04-05 12:47:46  \n",
       "3  2016-03-17 00:00:00                 0       91074  2016-03-17 17:40:17  \n",
       "4  2016-03-31 00:00:00                 0       60437  2016-04-06 10:17:21  "
      ]
     },
     "execution_count": 149,
     "metadata": {},
     "output_type": "execute_result"
    }
   ],
   "source": [
    "data.head()"
   ]
  },
  {
   "cell_type": "code",
   "execution_count": 150,
   "metadata": {},
   "outputs": [
    {
     "data": {
      "text/plain": [
       "array([0])"
      ]
     },
     "execution_count": 150,
     "metadata": {},
     "output_type": "execute_result"
    }
   ],
   "source": [
    "data.NumberOfPictures.unique()"
   ]
  },
  {
   "cell_type": "code",
   "execution_count": 151,
   "metadata": {},
   "outputs": [
    {
     "data": {
      "text/plain": [
       "8143"
      ]
     },
     "execution_count": 151,
     "metadata": {},
     "output_type": "execute_result"
    }
   ],
   "source": [
    "# почтовый индекс владельца анкеты (пользователя)\n",
    "data.PostalCode.nunique()"
   ]
  },
  {
   "cell_type": "code",
   "execution_count": 152,
   "metadata": {},
   "outputs": [],
   "source": [
    "# то есть 8143 разных человека на 354 000 объявлений? Интересно, нужен ли нам почтовый индекс?"
   ]
  },
  {
   "cell_type": "code",
   "execution_count": 153,
   "metadata": {},
   "outputs": [
    {
     "data": {
      "text/plain": [
       "array([70435, 66954, 90480, ..., 38528, 38325, 31096])"
      ]
     },
     "execution_count": 153,
     "metadata": {},
     "output_type": "execute_result"
    }
   ],
   "source": [
    "data.PostalCode.unique()"
   ]
  },
  {
   "cell_type": "code",
   "execution_count": 154,
   "metadata": {},
   "outputs": [],
   "source": [
    "data = data.drop(columns=['NumberOfPictures']) # Тут одни нули, поэтому дропаем"
   ]
  },
  {
   "cell_type": "code",
   "execution_count": 155,
   "metadata": {},
   "outputs": [
    {
     "name": "stdout",
     "output_type": "stream",
     "text": [
      "<class 'pandas.core.frame.DataFrame'>\n",
      "RangeIndex: 354369 entries, 0 to 354368\n",
      "Data columns (total 15 columns):\n",
      " #   Column             Non-Null Count   Dtype \n",
      "---  ------             --------------   ----- \n",
      " 0   DateCrawled        354369 non-null  object\n",
      " 1   Price              354369 non-null  int64 \n",
      " 2   VehicleType        354369 non-null  object\n",
      " 3   RegistrationYear   354369 non-null  int64 \n",
      " 4   Gearbox            354369 non-null  object\n",
      " 5   Power              354369 non-null  int64 \n",
      " 6   Model              354369 non-null  object\n",
      " 7   Kilometer          354369 non-null  int64 \n",
      " 8   RegistrationMonth  354369 non-null  int64 \n",
      " 9   FuelType           354369 non-null  object\n",
      " 10  Brand              354369 non-null  object\n",
      " 11  Repaired           354369 non-null  object\n",
      " 12  DateCreated        354369 non-null  object\n",
      " 13  PostalCode         354369 non-null  int64 \n",
      " 14  LastSeen           354369 non-null  object\n",
      "dtypes: int64(6), object(9)\n",
      "memory usage: 40.6+ MB\n"
     ]
    }
   ],
   "source": [
    "data.info()"
   ]
  },
  {
   "cell_type": "code",
   "execution_count": 156,
   "metadata": {},
   "outputs": [],
   "source": [
    "# Преобразование столбцов в Datetime\n",
    "data['DateCreated'] = pd.to_datetime(data['DateCreated'])\n",
    "data['DateCrawled'] = pd.to_datetime(data['DateCrawled'])\n",
    "data['LastSeen'] = pd.to_datetime(data['LastSeen'])"
   ]
  },
  {
   "cell_type": "code",
   "execution_count": 157,
   "metadata": {},
   "outputs": [],
   "source": [
    "# Преобразование DateCreated без времени 00:00:00\n",
    "data['DateCreated'] = pd.to_datetime(data['DateCreated']).dt.date\n",
    "data['DateCreated'] = pd.to_datetime(data['DateCreated'])\n"
   ]
  },
  {
   "cell_type": "code",
   "execution_count": 158,
   "metadata": {},
   "outputs": [
    {
     "data": {
      "text/html": [
       "<div>\n",
       "<style scoped>\n",
       "    .dataframe tbody tr th:only-of-type {\n",
       "        vertical-align: middle;\n",
       "    }\n",
       "\n",
       "    .dataframe tbody tr th {\n",
       "        vertical-align: top;\n",
       "    }\n",
       "\n",
       "    .dataframe thead th {\n",
       "        text-align: right;\n",
       "    }\n",
       "</style>\n",
       "<table border=\"1\" class=\"dataframe\">\n",
       "  <thead>\n",
       "    <tr style=\"text-align: right;\">\n",
       "      <th></th>\n",
       "      <th>DateCrawled</th>\n",
       "      <th>Price</th>\n",
       "      <th>VehicleType</th>\n",
       "      <th>RegistrationYear</th>\n",
       "      <th>Gearbox</th>\n",
       "      <th>Power</th>\n",
       "      <th>Model</th>\n",
       "      <th>Kilometer</th>\n",
       "      <th>RegistrationMonth</th>\n",
       "      <th>FuelType</th>\n",
       "      <th>Brand</th>\n",
       "      <th>Repaired</th>\n",
       "      <th>DateCreated</th>\n",
       "      <th>PostalCode</th>\n",
       "      <th>LastSeen</th>\n",
       "    </tr>\n",
       "  </thead>\n",
       "  <tbody>\n",
       "    <tr>\n",
       "      <th>7</th>\n",
       "      <td>2016-03-21 18:54:38</td>\n",
       "      <td>0</td>\n",
       "      <td>sedan</td>\n",
       "      <td>1980</td>\n",
       "      <td>manual</td>\n",
       "      <td>50</td>\n",
       "      <td>other</td>\n",
       "      <td>40000</td>\n",
       "      <td>7</td>\n",
       "      <td>petrol</td>\n",
       "      <td>volkswagen</td>\n",
       "      <td>no</td>\n",
       "      <td>2016-03-21</td>\n",
       "      <td>19348</td>\n",
       "      <td>2016-03-25 16:47:58</td>\n",
       "    </tr>\n",
       "    <tr>\n",
       "      <th>40</th>\n",
       "      <td>2016-03-26 22:06:17</td>\n",
       "      <td>0</td>\n",
       "      <td>small</td>\n",
       "      <td>1990</td>\n",
       "      <td>manual</td>\n",
       "      <td>0</td>\n",
       "      <td>corsa</td>\n",
       "      <td>150000</td>\n",
       "      <td>1</td>\n",
       "      <td>petrol</td>\n",
       "      <td>opel</td>\n",
       "      <td>unknown</td>\n",
       "      <td>2016-03-26</td>\n",
       "      <td>56412</td>\n",
       "      <td>2016-03-27 17:43:34</td>\n",
       "    </tr>\n",
       "    <tr>\n",
       "      <th>111</th>\n",
       "      <td>2016-03-19 18:40:12</td>\n",
       "      <td>0</td>\n",
       "      <td>sedan</td>\n",
       "      <td>2017</td>\n",
       "      <td>manual</td>\n",
       "      <td>0</td>\n",
       "      <td>golf</td>\n",
       "      <td>5000</td>\n",
       "      <td>12</td>\n",
       "      <td>petrol</td>\n",
       "      <td>volkswagen</td>\n",
       "      <td>unknown</td>\n",
       "      <td>2016-03-19</td>\n",
       "      <td>21698</td>\n",
       "      <td>2016-04-01 08:47:05</td>\n",
       "    </tr>\n",
       "    <tr>\n",
       "      <th>115</th>\n",
       "      <td>2016-03-20 18:53:27</td>\n",
       "      <td>0</td>\n",
       "      <td>small</td>\n",
       "      <td>1999</td>\n",
       "      <td>manual</td>\n",
       "      <td>0</td>\n",
       "      <td>golf</td>\n",
       "      <td>5000</td>\n",
       "      <td>0</td>\n",
       "      <td>petrol</td>\n",
       "      <td>volkswagen</td>\n",
       "      <td>unknown</td>\n",
       "      <td>2016-03-20</td>\n",
       "      <td>37520</td>\n",
       "      <td>2016-04-07 02:45:22</td>\n",
       "    </tr>\n",
       "    <tr>\n",
       "      <th>152</th>\n",
       "      <td>2016-03-11 18:55:53</td>\n",
       "      <td>0</td>\n",
       "      <td>bus</td>\n",
       "      <td>2004</td>\n",
       "      <td>manual</td>\n",
       "      <td>101</td>\n",
       "      <td>meriva</td>\n",
       "      <td>150000</td>\n",
       "      <td>10</td>\n",
       "      <td>lpg</td>\n",
       "      <td>opel</td>\n",
       "      <td>yes</td>\n",
       "      <td>2016-03-11</td>\n",
       "      <td>27432</td>\n",
       "      <td>2016-03-12 23:47:10</td>\n",
       "    </tr>\n",
       "    <tr>\n",
       "      <th>...</th>\n",
       "      <td>...</td>\n",
       "      <td>...</td>\n",
       "      <td>...</td>\n",
       "      <td>...</td>\n",
       "      <td>...</td>\n",
       "      <td>...</td>\n",
       "      <td>...</td>\n",
       "      <td>...</td>\n",
       "      <td>...</td>\n",
       "      <td>...</td>\n",
       "      <td>...</td>\n",
       "      <td>...</td>\n",
       "      <td>...</td>\n",
       "      <td>...</td>\n",
       "      <td>...</td>\n",
       "    </tr>\n",
       "    <tr>\n",
       "      <th>354205</th>\n",
       "      <td>2016-03-09 15:56:30</td>\n",
       "      <td>0</td>\n",
       "      <td>small</td>\n",
       "      <td>2000</td>\n",
       "      <td>manual</td>\n",
       "      <td>65</td>\n",
       "      <td>corsa</td>\n",
       "      <td>150000</td>\n",
       "      <td>0</td>\n",
       "      <td>petrol</td>\n",
       "      <td>opel</td>\n",
       "      <td>yes</td>\n",
       "      <td>2016-03-09</td>\n",
       "      <td>23758</td>\n",
       "      <td>2016-03-30 11:16:08</td>\n",
       "    </tr>\n",
       "    <tr>\n",
       "      <th>354238</th>\n",
       "      <td>2016-03-20 14:55:07</td>\n",
       "      <td>0</td>\n",
       "      <td>small</td>\n",
       "      <td>2002</td>\n",
       "      <td>manual</td>\n",
       "      <td>60</td>\n",
       "      <td>fiesta</td>\n",
       "      <td>150000</td>\n",
       "      <td>3</td>\n",
       "      <td>petrol</td>\n",
       "      <td>ford</td>\n",
       "      <td>unknown</td>\n",
       "      <td>2016-03-20</td>\n",
       "      <td>33659</td>\n",
       "      <td>2016-04-06 18:45:23</td>\n",
       "    </tr>\n",
       "    <tr>\n",
       "      <th>354248</th>\n",
       "      <td>2016-03-24 13:48:05</td>\n",
       "      <td>0</td>\n",
       "      <td>small</td>\n",
       "      <td>1999</td>\n",
       "      <td>manual</td>\n",
       "      <td>53</td>\n",
       "      <td>swift</td>\n",
       "      <td>150000</td>\n",
       "      <td>3</td>\n",
       "      <td>petrol</td>\n",
       "      <td>suzuki</td>\n",
       "      <td>unknown</td>\n",
       "      <td>2016-03-24</td>\n",
       "      <td>42329</td>\n",
       "      <td>2016-04-07 05:17:24</td>\n",
       "    </tr>\n",
       "    <tr>\n",
       "      <th>354277</th>\n",
       "      <td>2016-03-10 22:55:50</td>\n",
       "      <td>0</td>\n",
       "      <td>small</td>\n",
       "      <td>1999</td>\n",
       "      <td>manual</td>\n",
       "      <td>37</td>\n",
       "      <td>arosa</td>\n",
       "      <td>150000</td>\n",
       "      <td>7</td>\n",
       "      <td>petrol</td>\n",
       "      <td>seat</td>\n",
       "      <td>yes</td>\n",
       "      <td>2016-03-10</td>\n",
       "      <td>22559</td>\n",
       "      <td>2016-03-12 23:46:32</td>\n",
       "    </tr>\n",
       "    <tr>\n",
       "      <th>354364</th>\n",
       "      <td>2016-03-21 09:50:58</td>\n",
       "      <td>0</td>\n",
       "      <td>sedan</td>\n",
       "      <td>2005</td>\n",
       "      <td>manual</td>\n",
       "      <td>0</td>\n",
       "      <td>colt</td>\n",
       "      <td>150000</td>\n",
       "      <td>7</td>\n",
       "      <td>petrol</td>\n",
       "      <td>mitsubishi</td>\n",
       "      <td>yes</td>\n",
       "      <td>2016-03-21</td>\n",
       "      <td>2694</td>\n",
       "      <td>2016-03-21 10:42:49</td>\n",
       "    </tr>\n",
       "  </tbody>\n",
       "</table>\n",
       "<p>10772 rows × 15 columns</p>\n",
       "</div>"
      ],
      "text/plain": [
       "               DateCrawled  Price VehicleType  RegistrationYear Gearbox  \\\n",
       "7      2016-03-21 18:54:38      0       sedan              1980  manual   \n",
       "40     2016-03-26 22:06:17      0       small              1990  manual   \n",
       "111    2016-03-19 18:40:12      0       sedan              2017  manual   \n",
       "115    2016-03-20 18:53:27      0       small              1999  manual   \n",
       "152    2016-03-11 18:55:53      0         bus              2004  manual   \n",
       "...                    ...    ...         ...               ...     ...   \n",
       "354205 2016-03-09 15:56:30      0       small              2000  manual   \n",
       "354238 2016-03-20 14:55:07      0       small              2002  manual   \n",
       "354248 2016-03-24 13:48:05      0       small              1999  manual   \n",
       "354277 2016-03-10 22:55:50      0       small              1999  manual   \n",
       "354364 2016-03-21 09:50:58      0       sedan              2005  manual   \n",
       "\n",
       "        Power   Model  Kilometer  RegistrationMonth FuelType       Brand  \\\n",
       "7          50   other      40000                  7   petrol  volkswagen   \n",
       "40          0   corsa     150000                  1   petrol        opel   \n",
       "111         0    golf       5000                 12   petrol  volkswagen   \n",
       "115         0    golf       5000                  0   petrol  volkswagen   \n",
       "152       101  meriva     150000                 10      lpg        opel   \n",
       "...       ...     ...        ...                ...      ...         ...   \n",
       "354205     65   corsa     150000                  0   petrol        opel   \n",
       "354238     60  fiesta     150000                  3   petrol        ford   \n",
       "354248     53   swift     150000                  3   petrol      suzuki   \n",
       "354277     37   arosa     150000                  7   petrol        seat   \n",
       "354364      0    colt     150000                  7   petrol  mitsubishi   \n",
       "\n",
       "       Repaired DateCreated  PostalCode            LastSeen  \n",
       "7            no  2016-03-21       19348 2016-03-25 16:47:58  \n",
       "40      unknown  2016-03-26       56412 2016-03-27 17:43:34  \n",
       "111     unknown  2016-03-19       21698 2016-04-01 08:47:05  \n",
       "115     unknown  2016-03-20       37520 2016-04-07 02:45:22  \n",
       "152         yes  2016-03-11       27432 2016-03-12 23:47:10  \n",
       "...         ...         ...         ...                 ...  \n",
       "354205      yes  2016-03-09       23758 2016-03-30 11:16:08  \n",
       "354238  unknown  2016-03-20       33659 2016-04-06 18:45:23  \n",
       "354248  unknown  2016-03-24       42329 2016-04-07 05:17:24  \n",
       "354277      yes  2016-03-10       22559 2016-03-12 23:46:32  \n",
       "354364      yes  2016-03-21        2694 2016-03-21 10:42:49  \n",
       "\n",
       "[10772 rows x 15 columns]"
      ]
     },
     "execution_count": 158,
     "metadata": {},
     "output_type": "execute_result"
    }
   ],
   "source": [
    "data.query('Price == 0')"
   ]
  },
  {
   "cell_type": "markdown",
   "metadata": {},
   "source": [
    "Ух ты, бесплатные машины! дайте две!"
   ]
  },
  {
   "cell_type": "code",
   "execution_count": 159,
   "metadata": {},
   "outputs": [
    {
     "data": {
      "text/html": [
       "<div>\n",
       "<style scoped>\n",
       "    .dataframe tbody tr th:only-of-type {\n",
       "        vertical-align: middle;\n",
       "    }\n",
       "\n",
       "    .dataframe tbody tr th {\n",
       "        vertical-align: top;\n",
       "    }\n",
       "\n",
       "    .dataframe thead th {\n",
       "        text-align: right;\n",
       "    }\n",
       "</style>\n",
       "<table border=\"1\" class=\"dataframe\">\n",
       "  <thead>\n",
       "    <tr style=\"text-align: right;\">\n",
       "      <th></th>\n",
       "      <th>DateCrawled</th>\n",
       "      <th>Price</th>\n",
       "      <th>RegistrationYear</th>\n",
       "      <th>Power</th>\n",
       "      <th>Kilometer</th>\n",
       "      <th>RegistrationMonth</th>\n",
       "      <th>DateCreated</th>\n",
       "      <th>PostalCode</th>\n",
       "      <th>LastSeen</th>\n",
       "    </tr>\n",
       "  </thead>\n",
       "  <tbody>\n",
       "    <tr>\n",
       "      <th>count</th>\n",
       "      <td>10772</td>\n",
       "      <td>10772.0</td>\n",
       "      <td>10772.000000</td>\n",
       "      <td>10772.000000</td>\n",
       "      <td>10772.000000</td>\n",
       "      <td>10772.000000</td>\n",
       "      <td>10772</td>\n",
       "      <td>10772.000000</td>\n",
       "      <td>10772</td>\n",
       "    </tr>\n",
       "    <tr>\n",
       "      <th>mean</th>\n",
       "      <td>2016-03-21 14:36:28.390178048</td>\n",
       "      <td>0.0</td>\n",
       "      <td>2008.848403</td>\n",
       "      <td>81.200056</td>\n",
       "      <td>124177.961381</td>\n",
       "      <td>3.697271</td>\n",
       "      <td>2016-03-20 22:15:19.717786880</td>\n",
       "      <td>44937.204790</td>\n",
       "      <td>2016-03-28 16:15:04.602023680</td>\n",
       "    </tr>\n",
       "    <tr>\n",
       "      <th>min</th>\n",
       "      <td>2016-03-05 14:06:50</td>\n",
       "      <td>0.0</td>\n",
       "      <td>1000.000000</td>\n",
       "      <td>0.000000</td>\n",
       "      <td>5000.000000</td>\n",
       "      <td>0.000000</td>\n",
       "      <td>2016-01-26 00:00:00</td>\n",
       "      <td>1069.000000</td>\n",
       "      <td>2016-03-05 15:17:56</td>\n",
       "    </tr>\n",
       "    <tr>\n",
       "      <th>25%</th>\n",
       "      <td>2016-03-13 15:48:17</td>\n",
       "      <td>0.0</td>\n",
       "      <td>1996.000000</td>\n",
       "      <td>0.000000</td>\n",
       "      <td>125000.000000</td>\n",
       "      <td>0.000000</td>\n",
       "      <td>2016-03-13 00:00:00</td>\n",
       "      <td>25336.750000</td>\n",
       "      <td>2016-03-21 11:54:36.500000</td>\n",
       "    </tr>\n",
       "    <tr>\n",
       "      <th>50%</th>\n",
       "      <td>2016-03-21 19:56:36.500000</td>\n",
       "      <td>0.0</td>\n",
       "      <td>2000.000000</td>\n",
       "      <td>75.000000</td>\n",
       "      <td>150000.000000</td>\n",
       "      <td>2.000000</td>\n",
       "      <td>2016-03-21 00:00:00</td>\n",
       "      <td>42855.000000</td>\n",
       "      <td>2016-03-31 20:47:31</td>\n",
       "    </tr>\n",
       "    <tr>\n",
       "      <th>75%</th>\n",
       "      <td>2016-03-29 12:57:47.750000128</td>\n",
       "      <td>0.0</td>\n",
       "      <td>2005.000000</td>\n",
       "      <td>120.000000</td>\n",
       "      <td>150000.000000</td>\n",
       "      <td>7.000000</td>\n",
       "      <td>2016-03-29 00:00:00</td>\n",
       "      <td>63668.750000</td>\n",
       "      <td>2016-04-06 04:16:58</td>\n",
       "    </tr>\n",
       "    <tr>\n",
       "      <th>max</th>\n",
       "      <td>2016-04-07 14:36:45</td>\n",
       "      <td>0.0</td>\n",
       "      <td>9999.000000</td>\n",
       "      <td>15016.000000</td>\n",
       "      <td>150000.000000</td>\n",
       "      <td>12.000000</td>\n",
       "      <td>2016-04-07 00:00:00</td>\n",
       "      <td>99996.000000</td>\n",
       "      <td>2016-04-07 14:58:50</td>\n",
       "    </tr>\n",
       "    <tr>\n",
       "      <th>std</th>\n",
       "      <td>NaN</td>\n",
       "      <td>0.0</td>\n",
       "      <td>267.729824</td>\n",
       "      <td>235.273205</td>\n",
       "      <td>48423.379468</td>\n",
       "      <td>4.046864</td>\n",
       "      <td>NaN</td>\n",
       "      <td>26395.784541</td>\n",
       "      <td>NaN</td>\n",
       "    </tr>\n",
       "  </tbody>\n",
       "</table>\n",
       "</div>"
      ],
      "text/plain": [
       "                         DateCrawled    Price  RegistrationYear         Power  \\\n",
       "count                          10772  10772.0      10772.000000  10772.000000   \n",
       "mean   2016-03-21 14:36:28.390178048      0.0       2008.848403     81.200056   \n",
       "min              2016-03-05 14:06:50      0.0       1000.000000      0.000000   \n",
       "25%              2016-03-13 15:48:17      0.0       1996.000000      0.000000   \n",
       "50%       2016-03-21 19:56:36.500000      0.0       2000.000000     75.000000   \n",
       "75%    2016-03-29 12:57:47.750000128      0.0       2005.000000    120.000000   \n",
       "max              2016-04-07 14:36:45      0.0       9999.000000  15016.000000   \n",
       "std                              NaN      0.0        267.729824    235.273205   \n",
       "\n",
       "           Kilometer  RegistrationMonth                    DateCreated  \\\n",
       "count   10772.000000       10772.000000                          10772   \n",
       "mean   124177.961381           3.697271  2016-03-20 22:15:19.717786880   \n",
       "min      5000.000000           0.000000            2016-01-26 00:00:00   \n",
       "25%    125000.000000           0.000000            2016-03-13 00:00:00   \n",
       "50%    150000.000000           2.000000            2016-03-21 00:00:00   \n",
       "75%    150000.000000           7.000000            2016-03-29 00:00:00   \n",
       "max    150000.000000          12.000000            2016-04-07 00:00:00   \n",
       "std     48423.379468           4.046864                            NaN   \n",
       "\n",
       "         PostalCode                       LastSeen  \n",
       "count  10772.000000                          10772  \n",
       "mean   44937.204790  2016-03-28 16:15:04.602023680  \n",
       "min     1069.000000            2016-03-05 15:17:56  \n",
       "25%    25336.750000     2016-03-21 11:54:36.500000  \n",
       "50%    42855.000000            2016-03-31 20:47:31  \n",
       "75%    63668.750000            2016-04-06 04:16:58  \n",
       "max    99996.000000            2016-04-07 14:58:50  \n",
       "std    26395.784541                            NaN  "
      ]
     },
     "execution_count": 159,
     "metadata": {},
     "output_type": "execute_result"
    }
   ],
   "source": [
    "zero_price = data[data['Price'] == 0]\n",
    "zero_price.describe()"
   ]
  },
  {
   "cell_type": "code",
   "execution_count": 160,
   "metadata": {},
   "outputs": [
    {
     "data": {
      "text/plain": [
       "Model\n",
       "golf        1378\n",
       "other       1314\n",
       "3er          789\n",
       "corsa        558\n",
       "polo         438\n",
       "            ... \n",
       "gl             1\n",
       "verso          1\n",
       "serie_3        1\n",
       "delta          1\n",
       "b_klasse       1\n",
       "Name: count, Length: 222, dtype: int64"
      ]
     },
     "execution_count": 160,
     "metadata": {},
     "output_type": "execute_result"
    }
   ],
   "source": [
    "zero_price['Model'].value_counts()"
   ]
  },
  {
   "cell_type": "code",
   "execution_count": 161,
   "metadata": {},
   "outputs": [
    {
     "data": {
      "text/plain": [
       "RegistrationYear\n",
       "2000    1418\n",
       "1999     733\n",
       "1998     721\n",
       "1997     675\n",
       "1995     654\n",
       "        ... \n",
       "3000       1\n",
       "1935       1\n",
       "1200       1\n",
       "1933       1\n",
       "3500       1\n",
       "Name: count, Length: 96, dtype: int64"
      ]
     },
     "execution_count": 161,
     "metadata": {},
     "output_type": "execute_result"
    }
   ],
   "source": [
    "zero_price['RegistrationYear'].value_counts()"
   ]
  },
  {
   "cell_type": "code",
   "execution_count": 162,
   "metadata": {},
   "outputs": [
    {
     "data": {
      "text/plain": [
       "array([2016, 2015, 2014], dtype=int32)"
      ]
     },
     "execution_count": 162,
     "metadata": {},
     "output_type": "execute_result"
    }
   ],
   "source": [
    "# Получаем уникальные года\n",
    "data['DateCreated'].dt.year.unique()\n"
   ]
  },
  {
   "cell_type": "code",
   "execution_count": 163,
   "metadata": {},
   "outputs": [
    {
     "data": {
      "text/plain": [
       "151"
      ]
     },
     "execution_count": 163,
     "metadata": {},
     "output_type": "execute_result"
    }
   ],
   "source": [
    "#3   RegistrationYear   354369 non-null  int64\n",
    "data.RegistrationYear.nunique()"
   ]
  },
  {
   "cell_type": "code",
   "execution_count": 164,
   "metadata": {},
   "outputs": [
    {
     "data": {
      "text/plain": [
       "array([1993, 2011, 2004, 2001, 2008, 1995, 1980, 2014, 1998, 2005, 1910,\n",
       "       2016, 2007, 2009, 2002, 2018, 1997, 1990, 2017, 1981, 2003, 1994,\n",
       "       1991, 1984, 2006, 1999, 2012, 2010, 2000, 1992, 2013, 1996, 1985,\n",
       "       1989, 2015, 1982, 1976, 1983, 1973, 1111, 1969, 1971, 1987, 1986,\n",
       "       1988, 1970, 1965, 1945, 1925, 1974, 1979, 1955, 1978, 1972, 1968,\n",
       "       1977, 1961, 1960, 1966, 1975, 1963, 1964, 5000, 1954, 1958, 1967,\n",
       "       1959, 9999, 1956, 3200, 1000, 1941, 8888, 1500, 2200, 4100, 1962,\n",
       "       1929, 1957, 1940, 3000, 2066, 1949, 2019, 1937, 1951, 1800, 1953,\n",
       "       1234, 8000, 5300, 9000, 2900, 6000, 5900, 5911, 1933, 1400, 1950,\n",
       "       4000, 1948, 1952, 1200, 8500, 1932, 1255, 3700, 3800, 4800, 1942,\n",
       "       7000, 1935, 1936, 6500, 1923, 2290, 2500, 1930, 1001, 9450, 1944,\n",
       "       1943, 1934, 1938, 1688, 2800, 1253, 1928, 1919, 5555, 5600, 1600,\n",
       "       2222, 1039, 9996, 1300, 8455, 1931, 1915, 4500, 1920, 1602, 7800,\n",
       "       9229, 1947, 1927, 7100, 8200, 1946, 7500, 3500])"
      ]
     },
     "execution_count": 164,
     "metadata": {},
     "output_type": "execute_result"
    }
   ],
   "source": [
    "data.RegistrationYear.unique()"
   ]
  },
  {
   "cell_type": "markdown",
   "metadata": {},
   "source": [
    "Ух ты, машины из 5900 года и выше. Даже есть машины из 1111."
   ]
  },
  {
   "cell_type": "markdown",
   "metadata": {},
   "source": [
    "Посмотрим сколько машин младше 2016 года:"
   ]
  },
  {
   "cell_type": "code",
   "execution_count": 165,
   "metadata": {},
   "outputs": [
    {
     "data": {
      "text/html": [
       "<div>\n",
       "<style scoped>\n",
       "    .dataframe tbody tr th:only-of-type {\n",
       "        vertical-align: middle;\n",
       "    }\n",
       "\n",
       "    .dataframe tbody tr th {\n",
       "        vertical-align: top;\n",
       "    }\n",
       "\n",
       "    .dataframe thead th {\n",
       "        text-align: right;\n",
       "    }\n",
       "</style>\n",
       "<table border=\"1\" class=\"dataframe\">\n",
       "  <thead>\n",
       "    <tr style=\"text-align: right;\">\n",
       "      <th></th>\n",
       "      <th>DateCrawled</th>\n",
       "      <th>Price</th>\n",
       "      <th>VehicleType</th>\n",
       "      <th>RegistrationYear</th>\n",
       "      <th>Gearbox</th>\n",
       "      <th>Power</th>\n",
       "      <th>Model</th>\n",
       "      <th>Kilometer</th>\n",
       "      <th>RegistrationMonth</th>\n",
       "      <th>FuelType</th>\n",
       "      <th>Brand</th>\n",
       "      <th>Repaired</th>\n",
       "      <th>DateCreated</th>\n",
       "      <th>PostalCode</th>\n",
       "      <th>LastSeen</th>\n",
       "    </tr>\n",
       "  </thead>\n",
       "  <tbody>\n",
       "    <tr>\n",
       "      <th>22</th>\n",
       "      <td>2016-03-23 14:52:51</td>\n",
       "      <td>2900</td>\n",
       "      <td>bus</td>\n",
       "      <td>2018</td>\n",
       "      <td>manual</td>\n",
       "      <td>90</td>\n",
       "      <td>meriva</td>\n",
       "      <td>150000</td>\n",
       "      <td>5</td>\n",
       "      <td>petrol</td>\n",
       "      <td>opel</td>\n",
       "      <td>no</td>\n",
       "      <td>2016-03-23</td>\n",
       "      <td>49716</td>\n",
       "      <td>2016-03-31 01:16:33</td>\n",
       "    </tr>\n",
       "    <tr>\n",
       "      <th>26</th>\n",
       "      <td>2016-03-10 19:38:18</td>\n",
       "      <td>5555</td>\n",
       "      <td>sedan</td>\n",
       "      <td>2017</td>\n",
       "      <td>manual</td>\n",
       "      <td>125</td>\n",
       "      <td>c4</td>\n",
       "      <td>125000</td>\n",
       "      <td>4</td>\n",
       "      <td>gasoline</td>\n",
       "      <td>citroen</td>\n",
       "      <td>no</td>\n",
       "      <td>2016-03-10</td>\n",
       "      <td>31139</td>\n",
       "      <td>2016-03-16 09:16:46</td>\n",
       "    </tr>\n",
       "    <tr>\n",
       "      <th>48</th>\n",
       "      <td>2016-03-25 14:40:12</td>\n",
       "      <td>7750</td>\n",
       "      <td>sedan</td>\n",
       "      <td>2017</td>\n",
       "      <td>manual</td>\n",
       "      <td>80</td>\n",
       "      <td>golf</td>\n",
       "      <td>100000</td>\n",
       "      <td>1</td>\n",
       "      <td>petrol</td>\n",
       "      <td>volkswagen</td>\n",
       "      <td>unknown</td>\n",
       "      <td>2016-03-25</td>\n",
       "      <td>48499</td>\n",
       "      <td>2016-03-31 21:47:44</td>\n",
       "    </tr>\n",
       "    <tr>\n",
       "      <th>51</th>\n",
       "      <td>2016-03-07 18:57:08</td>\n",
       "      <td>2000</td>\n",
       "      <td>small</td>\n",
       "      <td>2017</td>\n",
       "      <td>manual</td>\n",
       "      <td>90</td>\n",
       "      <td>punto</td>\n",
       "      <td>150000</td>\n",
       "      <td>11</td>\n",
       "      <td>gasoline</td>\n",
       "      <td>fiat</td>\n",
       "      <td>yes</td>\n",
       "      <td>2016-03-07</td>\n",
       "      <td>66115</td>\n",
       "      <td>2016-03-07 18:57:08</td>\n",
       "    </tr>\n",
       "    <tr>\n",
       "      <th>57</th>\n",
       "      <td>2016-03-10 20:53:19</td>\n",
       "      <td>2399</td>\n",
       "      <td>sedan</td>\n",
       "      <td>2018</td>\n",
       "      <td>manual</td>\n",
       "      <td>64</td>\n",
       "      <td>other</td>\n",
       "      <td>125000</td>\n",
       "      <td>3</td>\n",
       "      <td>petrol</td>\n",
       "      <td>seat</td>\n",
       "      <td>no</td>\n",
       "      <td>2016-03-10</td>\n",
       "      <td>33397</td>\n",
       "      <td>2016-03-25 10:17:37</td>\n",
       "    </tr>\n",
       "    <tr>\n",
       "      <th>...</th>\n",
       "      <td>...</td>\n",
       "      <td>...</td>\n",
       "      <td>...</td>\n",
       "      <td>...</td>\n",
       "      <td>...</td>\n",
       "      <td>...</td>\n",
       "      <td>...</td>\n",
       "      <td>...</td>\n",
       "      <td>...</td>\n",
       "      <td>...</td>\n",
       "      <td>...</td>\n",
       "      <td>...</td>\n",
       "      <td>...</td>\n",
       "      <td>...</td>\n",
       "      <td>...</td>\n",
       "    </tr>\n",
       "    <tr>\n",
       "      <th>354112</th>\n",
       "      <td>2016-03-11 15:49:51</td>\n",
       "      <td>3600</td>\n",
       "      <td>bus</td>\n",
       "      <td>2017</td>\n",
       "      <td>manual</td>\n",
       "      <td>86</td>\n",
       "      <td>transit</td>\n",
       "      <td>150000</td>\n",
       "      <td>5</td>\n",
       "      <td>gasoline</td>\n",
       "      <td>ford</td>\n",
       "      <td>unknown</td>\n",
       "      <td>2016-03-11</td>\n",
       "      <td>32339</td>\n",
       "      <td>2016-03-12 05:45:02</td>\n",
       "    </tr>\n",
       "    <tr>\n",
       "      <th>354140</th>\n",
       "      <td>2016-03-29 16:47:29</td>\n",
       "      <td>1000</td>\n",
       "      <td>wagon</td>\n",
       "      <td>2017</td>\n",
       "      <td>manual</td>\n",
       "      <td>101</td>\n",
       "      <td>a4</td>\n",
       "      <td>150000</td>\n",
       "      <td>9</td>\n",
       "      <td>gasoline</td>\n",
       "      <td>audi</td>\n",
       "      <td>unknown</td>\n",
       "      <td>2016-03-29</td>\n",
       "      <td>38315</td>\n",
       "      <td>2016-04-06 02:44:27</td>\n",
       "    </tr>\n",
       "    <tr>\n",
       "      <th>354203</th>\n",
       "      <td>2016-03-17 00:56:26</td>\n",
       "      <td>2140</td>\n",
       "      <td>small</td>\n",
       "      <td>2018</td>\n",
       "      <td>manual</td>\n",
       "      <td>80</td>\n",
       "      <td>fiesta</td>\n",
       "      <td>150000</td>\n",
       "      <td>6</td>\n",
       "      <td>petrol</td>\n",
       "      <td>ford</td>\n",
       "      <td>no</td>\n",
       "      <td>2016-03-17</td>\n",
       "      <td>44866</td>\n",
       "      <td>2016-03-29 15:45:04</td>\n",
       "    </tr>\n",
       "    <tr>\n",
       "      <th>354253</th>\n",
       "      <td>2016-03-25 09:37:59</td>\n",
       "      <td>1250</td>\n",
       "      <td>small</td>\n",
       "      <td>2018</td>\n",
       "      <td>manual</td>\n",
       "      <td>0</td>\n",
       "      <td>corsa</td>\n",
       "      <td>150000</td>\n",
       "      <td>0</td>\n",
       "      <td>petrol</td>\n",
       "      <td>opel</td>\n",
       "      <td>unknown</td>\n",
       "      <td>2016-03-25</td>\n",
       "      <td>45527</td>\n",
       "      <td>2016-04-06 07:46:13</td>\n",
       "    </tr>\n",
       "    <tr>\n",
       "      <th>354289</th>\n",
       "      <td>2016-03-05 14:55:29</td>\n",
       "      <td>5000</td>\n",
       "      <td>sedan</td>\n",
       "      <td>2017</td>\n",
       "      <td>manual</td>\n",
       "      <td>120</td>\n",
       "      <td>other</td>\n",
       "      <td>150000</td>\n",
       "      <td>7</td>\n",
       "      <td>petrol</td>\n",
       "      <td>citroen</td>\n",
       "      <td>yes</td>\n",
       "      <td>2016-03-05</td>\n",
       "      <td>15518</td>\n",
       "      <td>2016-04-05 11:48:09</td>\n",
       "    </tr>\n",
       "  </tbody>\n",
       "</table>\n",
       "<p>14530 rows × 15 columns</p>\n",
       "</div>"
      ],
      "text/plain": [
       "               DateCrawled  Price VehicleType  RegistrationYear Gearbox  \\\n",
       "22     2016-03-23 14:52:51   2900         bus              2018  manual   \n",
       "26     2016-03-10 19:38:18   5555       sedan              2017  manual   \n",
       "48     2016-03-25 14:40:12   7750       sedan              2017  manual   \n",
       "51     2016-03-07 18:57:08   2000       small              2017  manual   \n",
       "57     2016-03-10 20:53:19   2399       sedan              2018  manual   \n",
       "...                    ...    ...         ...               ...     ...   \n",
       "354112 2016-03-11 15:49:51   3600         bus              2017  manual   \n",
       "354140 2016-03-29 16:47:29   1000       wagon              2017  manual   \n",
       "354203 2016-03-17 00:56:26   2140       small              2018  manual   \n",
       "354253 2016-03-25 09:37:59   1250       small              2018  manual   \n",
       "354289 2016-03-05 14:55:29   5000       sedan              2017  manual   \n",
       "\n",
       "        Power    Model  Kilometer  RegistrationMonth  FuelType       Brand  \\\n",
       "22         90   meriva     150000                  5    petrol        opel   \n",
       "26        125       c4     125000                  4  gasoline     citroen   \n",
       "48         80     golf     100000                  1    petrol  volkswagen   \n",
       "51         90    punto     150000                 11  gasoline        fiat   \n",
       "57         64    other     125000                  3    petrol        seat   \n",
       "...       ...      ...        ...                ...       ...         ...   \n",
       "354112     86  transit     150000                  5  gasoline        ford   \n",
       "354140    101       a4     150000                  9  gasoline        audi   \n",
       "354203     80   fiesta     150000                  6    petrol        ford   \n",
       "354253      0    corsa     150000                  0    petrol        opel   \n",
       "354289    120    other     150000                  7    petrol     citroen   \n",
       "\n",
       "       Repaired DateCreated  PostalCode            LastSeen  \n",
       "22           no  2016-03-23       49716 2016-03-31 01:16:33  \n",
       "26           no  2016-03-10       31139 2016-03-16 09:16:46  \n",
       "48      unknown  2016-03-25       48499 2016-03-31 21:47:44  \n",
       "51          yes  2016-03-07       66115 2016-03-07 18:57:08  \n",
       "57           no  2016-03-10       33397 2016-03-25 10:17:37  \n",
       "...         ...         ...         ...                 ...  \n",
       "354112  unknown  2016-03-11       32339 2016-03-12 05:45:02  \n",
       "354140  unknown  2016-03-29       38315 2016-04-06 02:44:27  \n",
       "354203       no  2016-03-17       44866 2016-03-29 15:45:04  \n",
       "354253  unknown  2016-03-25       45527 2016-04-06 07:46:13  \n",
       "354289      yes  2016-03-05       15518 2016-04-05 11:48:09  \n",
       "\n",
       "[14530 rows x 15 columns]"
      ]
     },
     "execution_count": 165,
     "metadata": {},
     "output_type": "execute_result"
    }
   ],
   "source": [
    "data.query('RegistrationYear > 2016') "
   ]
  },
  {
   "cell_type": "markdown",
   "metadata": {},
   "source": [
    "Интересно, как такое возможно, если анкета создана в 2016?\n",
    "А сколько машин младше 2025?"
   ]
  },
  {
   "cell_type": "code",
   "execution_count": 166,
   "metadata": {},
   "outputs": [
    {
     "data": {
      "text/html": [
       "<div>\n",
       "<style scoped>\n",
       "    .dataframe tbody tr th:only-of-type {\n",
       "        vertical-align: middle;\n",
       "    }\n",
       "\n",
       "    .dataframe tbody tr th {\n",
       "        vertical-align: top;\n",
       "    }\n",
       "\n",
       "    .dataframe thead th {\n",
       "        text-align: right;\n",
       "    }\n",
       "</style>\n",
       "<table border=\"1\" class=\"dataframe\">\n",
       "  <thead>\n",
       "    <tr style=\"text-align: right;\">\n",
       "      <th></th>\n",
       "      <th>DateCrawled</th>\n",
       "      <th>Price</th>\n",
       "      <th>VehicleType</th>\n",
       "      <th>RegistrationYear</th>\n",
       "      <th>Gearbox</th>\n",
       "      <th>Power</th>\n",
       "      <th>Model</th>\n",
       "      <th>Kilometer</th>\n",
       "      <th>RegistrationMonth</th>\n",
       "      <th>FuelType</th>\n",
       "      <th>Brand</th>\n",
       "      <th>Repaired</th>\n",
       "      <th>DateCreated</th>\n",
       "      <th>PostalCode</th>\n",
       "      <th>LastSeen</th>\n",
       "    </tr>\n",
       "  </thead>\n",
       "  <tbody>\n",
       "    <tr>\n",
       "      <th>12946</th>\n",
       "      <td>2016-03-29 18:39:40</td>\n",
       "      <td>49</td>\n",
       "      <td>sedan</td>\n",
       "      <td>5000</td>\n",
       "      <td>manual</td>\n",
       "      <td>0</td>\n",
       "      <td>golf</td>\n",
       "      <td>5000</td>\n",
       "      <td>12</td>\n",
       "      <td>petrol</td>\n",
       "      <td>volkswagen</td>\n",
       "      <td>unknown</td>\n",
       "      <td>2016-03-29</td>\n",
       "      <td>74523</td>\n",
       "      <td>2016-04-06 04:16:14</td>\n",
       "    </tr>\n",
       "    <tr>\n",
       "      <th>15147</th>\n",
       "      <td>2016-03-14 00:52:02</td>\n",
       "      <td>0</td>\n",
       "      <td>sedan</td>\n",
       "      <td>9999</td>\n",
       "      <td>manual</td>\n",
       "      <td>0</td>\n",
       "      <td>other</td>\n",
       "      <td>10000</td>\n",
       "      <td>0</td>\n",
       "      <td>petrol</td>\n",
       "      <td>sonstige_autos</td>\n",
       "      <td>unknown</td>\n",
       "      <td>2016-03-13</td>\n",
       "      <td>32689</td>\n",
       "      <td>2016-03-21 23:46:46</td>\n",
       "    </tr>\n",
       "    <tr>\n",
       "      <th>15870</th>\n",
       "      <td>2016-04-02 11:55:48</td>\n",
       "      <td>1700</td>\n",
       "      <td>sedan</td>\n",
       "      <td>3200</td>\n",
       "      <td>manual</td>\n",
       "      <td>0</td>\n",
       "      <td>other</td>\n",
       "      <td>5000</td>\n",
       "      <td>0</td>\n",
       "      <td>petrol</td>\n",
       "      <td>sonstige_autos</td>\n",
       "      <td>unknown</td>\n",
       "      <td>2016-04-02</td>\n",
       "      <td>33649</td>\n",
       "      <td>2016-04-06 09:46:13</td>\n",
       "    </tr>\n",
       "    <tr>\n",
       "      <th>17271</th>\n",
       "      <td>2016-03-23 16:43:29</td>\n",
       "      <td>700</td>\n",
       "      <td>sedan</td>\n",
       "      <td>9999</td>\n",
       "      <td>manual</td>\n",
       "      <td>0</td>\n",
       "      <td>other</td>\n",
       "      <td>10000</td>\n",
       "      <td>0</td>\n",
       "      <td>petrol</td>\n",
       "      <td>opel</td>\n",
       "      <td>unknown</td>\n",
       "      <td>2016-03-23</td>\n",
       "      <td>21769</td>\n",
       "      <td>2016-04-05 20:16:15</td>\n",
       "    </tr>\n",
       "    <tr>\n",
       "      <th>17346</th>\n",
       "      <td>2016-03-06 16:06:20</td>\n",
       "      <td>6500</td>\n",
       "      <td>sedan</td>\n",
       "      <td>8888</td>\n",
       "      <td>manual</td>\n",
       "      <td>0</td>\n",
       "      <td>other</td>\n",
       "      <td>10000</td>\n",
       "      <td>0</td>\n",
       "      <td>petrol</td>\n",
       "      <td>sonstige_autos</td>\n",
       "      <td>unknown</td>\n",
       "      <td>2016-03-06</td>\n",
       "      <td>55262</td>\n",
       "      <td>2016-03-30 20:46:55</td>\n",
       "    </tr>\n",
       "    <tr>\n",
       "      <th>...</th>\n",
       "      <td>...</td>\n",
       "      <td>...</td>\n",
       "      <td>...</td>\n",
       "      <td>...</td>\n",
       "      <td>...</td>\n",
       "      <td>...</td>\n",
       "      <td>...</td>\n",
       "      <td>...</td>\n",
       "      <td>...</td>\n",
       "      <td>...</td>\n",
       "      <td>...</td>\n",
       "      <td>...</td>\n",
       "      <td>...</td>\n",
       "      <td>...</td>\n",
       "      <td>...</td>\n",
       "    </tr>\n",
       "    <tr>\n",
       "      <th>334967</th>\n",
       "      <td>2016-03-20 17:53:51</td>\n",
       "      <td>12000</td>\n",
       "      <td>sedan</td>\n",
       "      <td>4000</td>\n",
       "      <td>manual</td>\n",
       "      <td>500</td>\n",
       "      <td>golf</td>\n",
       "      <td>5000</td>\n",
       "      <td>0</td>\n",
       "      <td>petrol</td>\n",
       "      <td>volkswagen</td>\n",
       "      <td>no</td>\n",
       "      <td>2016-03-20</td>\n",
       "      <td>57392</td>\n",
       "      <td>2016-04-07 00:46:30</td>\n",
       "    </tr>\n",
       "    <tr>\n",
       "      <th>335727</th>\n",
       "      <td>2016-03-09 07:01:27</td>\n",
       "      <td>0</td>\n",
       "      <td>sedan</td>\n",
       "      <td>7500</td>\n",
       "      <td>manual</td>\n",
       "      <td>0</td>\n",
       "      <td>other</td>\n",
       "      <td>10000</td>\n",
       "      <td>0</td>\n",
       "      <td>petrol</td>\n",
       "      <td>mini</td>\n",
       "      <td>no</td>\n",
       "      <td>2016-03-09</td>\n",
       "      <td>9669</td>\n",
       "      <td>2016-03-19 19:44:50</td>\n",
       "    </tr>\n",
       "    <tr>\n",
       "      <th>338829</th>\n",
       "      <td>2016-03-24 19:49:36</td>\n",
       "      <td>50</td>\n",
       "      <td>sedan</td>\n",
       "      <td>3000</td>\n",
       "      <td>manual</td>\n",
       "      <td>3000</td>\n",
       "      <td>golf</td>\n",
       "      <td>100000</td>\n",
       "      <td>6</td>\n",
       "      <td>petrol</td>\n",
       "      <td>volkswagen</td>\n",
       "      <td>yes</td>\n",
       "      <td>2016-03-24</td>\n",
       "      <td>23992</td>\n",
       "      <td>2016-04-03 13:17:57</td>\n",
       "    </tr>\n",
       "    <tr>\n",
       "      <th>340548</th>\n",
       "      <td>2016-04-02 17:44:03</td>\n",
       "      <td>0</td>\n",
       "      <td>sedan</td>\n",
       "      <td>3500</td>\n",
       "      <td>manual</td>\n",
       "      <td>75</td>\n",
       "      <td>other</td>\n",
       "      <td>5000</td>\n",
       "      <td>3</td>\n",
       "      <td>petrol</td>\n",
       "      <td>sonstige_autos</td>\n",
       "      <td>unknown</td>\n",
       "      <td>2016-04-02</td>\n",
       "      <td>96465</td>\n",
       "      <td>2016-04-04 15:17:51</td>\n",
       "    </tr>\n",
       "    <tr>\n",
       "      <th>341791</th>\n",
       "      <td>2016-03-28 17:37:30</td>\n",
       "      <td>1</td>\n",
       "      <td>bus</td>\n",
       "      <td>3000</td>\n",
       "      <td>manual</td>\n",
       "      <td>0</td>\n",
       "      <td>zafira</td>\n",
       "      <td>5000</td>\n",
       "      <td>0</td>\n",
       "      <td>petrol</td>\n",
       "      <td>opel</td>\n",
       "      <td>unknown</td>\n",
       "      <td>2016-03-28</td>\n",
       "      <td>26624</td>\n",
       "      <td>2016-04-02 22:17:49</td>\n",
       "    </tr>\n",
       "  </tbody>\n",
       "</table>\n",
       "<p>105 rows × 15 columns</p>\n",
       "</div>"
      ],
      "text/plain": [
       "               DateCrawled  Price VehicleType  RegistrationYear Gearbox  \\\n",
       "12946  2016-03-29 18:39:40     49       sedan              5000  manual   \n",
       "15147  2016-03-14 00:52:02      0       sedan              9999  manual   \n",
       "15870  2016-04-02 11:55:48   1700       sedan              3200  manual   \n",
       "17271  2016-03-23 16:43:29    700       sedan              9999  manual   \n",
       "17346  2016-03-06 16:06:20   6500       sedan              8888  manual   \n",
       "...                    ...    ...         ...               ...     ...   \n",
       "334967 2016-03-20 17:53:51  12000       sedan              4000  manual   \n",
       "335727 2016-03-09 07:01:27      0       sedan              7500  manual   \n",
       "338829 2016-03-24 19:49:36     50       sedan              3000  manual   \n",
       "340548 2016-04-02 17:44:03      0       sedan              3500  manual   \n",
       "341791 2016-03-28 17:37:30      1         bus              3000  manual   \n",
       "\n",
       "        Power   Model  Kilometer  RegistrationMonth FuelType           Brand  \\\n",
       "12946       0    golf       5000                 12   petrol      volkswagen   \n",
       "15147       0   other      10000                  0   petrol  sonstige_autos   \n",
       "15870       0   other       5000                  0   petrol  sonstige_autos   \n",
       "17271       0   other      10000                  0   petrol            opel   \n",
       "17346       0   other      10000                  0   petrol  sonstige_autos   \n",
       "...       ...     ...        ...                ...      ...             ...   \n",
       "334967    500    golf       5000                  0   petrol      volkswagen   \n",
       "335727      0   other      10000                  0   petrol            mini   \n",
       "338829   3000    golf     100000                  6   petrol      volkswagen   \n",
       "340548     75   other       5000                  3   petrol  sonstige_autos   \n",
       "341791      0  zafira       5000                  0   petrol            opel   \n",
       "\n",
       "       Repaired DateCreated  PostalCode            LastSeen  \n",
       "12946   unknown  2016-03-29       74523 2016-04-06 04:16:14  \n",
       "15147   unknown  2016-03-13       32689 2016-03-21 23:46:46  \n",
       "15870   unknown  2016-04-02       33649 2016-04-06 09:46:13  \n",
       "17271   unknown  2016-03-23       21769 2016-04-05 20:16:15  \n",
       "17346   unknown  2016-03-06       55262 2016-03-30 20:46:55  \n",
       "...         ...         ...         ...                 ...  \n",
       "334967       no  2016-03-20       57392 2016-04-07 00:46:30  \n",
       "335727       no  2016-03-09        9669 2016-03-19 19:44:50  \n",
       "338829      yes  2016-03-24       23992 2016-04-03 13:17:57  \n",
       "340548  unknown  2016-04-02       96465 2016-04-04 15:17:51  \n",
       "341791  unknown  2016-03-28       26624 2016-04-02 22:17:49  \n",
       "\n",
       "[105 rows x 15 columns]"
      ]
     },
     "execution_count": 166,
     "metadata": {},
     "output_type": "execute_result"
    }
   ],
   "source": [
    "data.query('RegistrationYear >=2025')"
   ]
  },
  {
   "cell_type": "markdown",
   "metadata": {},
   "source": [
    "Парни, да вы издеваетесь! И что же мне с этим делать?"
   ]
  },
  {
   "cell_type": "code",
   "execution_count": 167,
   "metadata": {},
   "outputs": [
    {
     "data": {
      "text/plain": [
       "354369"
      ]
     },
     "execution_count": 167,
     "metadata": {},
     "output_type": "execute_result"
    }
   ],
   "source": [
    "data.shape[0] # 1% – 3543 rows"
   ]
  },
  {
   "cell_type": "markdown",
   "metadata": {},
   "source": [
    "Думаю, я могу суммарно удалить до 1% без потери качества."
   ]
  },
  {
   "cell_type": "code",
   "execution_count": 168,
   "metadata": {},
   "outputs": [],
   "source": [
    "data = data[data['RegistrationYear'] < 2025] # 105 rows\n"
   ]
  },
  {
   "cell_type": "code",
   "execution_count": 169,
   "metadata": {},
   "outputs": [
    {
     "data": {
      "image/png": "[encoded data removed]",
      "text/plain": [
       "<Figure size 1200x600 with 1 Axes>"
      ]
     },
     "metadata": {},
     "output_type": "display_data"
    }
   ],
   "source": [
    "\n",
    "filtered = data.query('RegistrationYear < 1989')\n",
    "\n",
    "year_counts = filtered['RegistrationYear'].value_counts().sort_index()\n",
    "\n",
    "plt.figure(figsize=(12,6))\n",
    "year_counts.plot(kind='bar', color='skyblue', edgecolor='black')\n",
    "\n",
    "plt.title('Количество автомобилей с RegistrationYear < 1989 по годам')\n",
    "plt.xlabel('Год регистрации')\n",
    "plt.ylabel('Количество')\n",
    "plt.xticks(rotation=90, fontsize=9)\n",
    "plt.grid(axis='y', linestyle='--', alpha=0.7)\n",
    "plt.tight_layout()\n",
    "plt.show()"
   ]
  },
  {
   "cell_type": "code",
   "execution_count": 170,
   "metadata": {},
   "outputs": [
    {
     "data": {
      "text/html": [
       "<div>\n",
       "<style scoped>\n",
       "    .dataframe tbody tr th:only-of-type {\n",
       "        vertical-align: middle;\n",
       "    }\n",
       "\n",
       "    .dataframe tbody tr th {\n",
       "        vertical-align: top;\n",
       "    }\n",
       "\n",
       "    .dataframe thead th {\n",
       "        text-align: right;\n",
       "    }\n",
       "</style>\n",
       "<table border=\"1\" class=\"dataframe\">\n",
       "  <thead>\n",
       "    <tr style=\"text-align: right;\">\n",
       "      <th></th>\n",
       "      <th>DateCrawled</th>\n",
       "      <th>Price</th>\n",
       "      <th>VehicleType</th>\n",
       "      <th>RegistrationYear</th>\n",
       "      <th>Gearbox</th>\n",
       "      <th>Power</th>\n",
       "      <th>Model</th>\n",
       "      <th>Kilometer</th>\n",
       "      <th>RegistrationMonth</th>\n",
       "      <th>FuelType</th>\n",
       "      <th>Brand</th>\n",
       "      <th>Repaired</th>\n",
       "      <th>DateCreated</th>\n",
       "      <th>PostalCode</th>\n",
       "      <th>LastSeen</th>\n",
       "    </tr>\n",
       "  </thead>\n",
       "  <tbody>\n",
       "    <tr>\n",
       "      <th>15</th>\n",
       "      <td>2016-03-11 21:39:15</td>\n",
       "      <td>450</td>\n",
       "      <td>small</td>\n",
       "      <td>1910</td>\n",
       "      <td>manual</td>\n",
       "      <td>0</td>\n",
       "      <td>ka</td>\n",
       "      <td>5000</td>\n",
       "      <td>0</td>\n",
       "      <td>petrol</td>\n",
       "      <td>ford</td>\n",
       "      <td>unknown</td>\n",
       "      <td>2016-03-11</td>\n",
       "      <td>24148</td>\n",
       "      <td>2016-03-19 08:46:47</td>\n",
       "    </tr>\n",
       "    <tr>\n",
       "      <th>6629</th>\n",
       "      <td>2016-04-02 13:47:16</td>\n",
       "      <td>0</td>\n",
       "      <td>small</td>\n",
       "      <td>1910</td>\n",
       "      <td>manual</td>\n",
       "      <td>0</td>\n",
       "      <td>other</td>\n",
       "      <td>5000</td>\n",
       "      <td>1</td>\n",
       "      <td>other</td>\n",
       "      <td>sonstige_autos</td>\n",
       "      <td>unknown</td>\n",
       "      <td>2016-04-02</td>\n",
       "      <td>93105</td>\n",
       "      <td>2016-04-04 11:16:30</td>\n",
       "    </tr>\n",
       "    <tr>\n",
       "      <th>6977</th>\n",
       "      <td>2016-03-24 08:37:22</td>\n",
       "      <td>135</td>\n",
       "      <td>small</td>\n",
       "      <td>1910</td>\n",
       "      <td>manual</td>\n",
       "      <td>0</td>\n",
       "      <td>corsa</td>\n",
       "      <td>5000</td>\n",
       "      <td>0</td>\n",
       "      <td>petrol</td>\n",
       "      <td>opel</td>\n",
       "      <td>unknown</td>\n",
       "      <td>2016-03-24</td>\n",
       "      <td>19374</td>\n",
       "      <td>2016-04-06 20:46:08</td>\n",
       "    </tr>\n",
       "    <tr>\n",
       "      <th>10183</th>\n",
       "      <td>2016-03-27 13:59:08</td>\n",
       "      <td>1250</td>\n",
       "      <td>sedan</td>\n",
       "      <td>1910</td>\n",
       "      <td>manual</td>\n",
       "      <td>0</td>\n",
       "      <td>other</td>\n",
       "      <td>5000</td>\n",
       "      <td>0</td>\n",
       "      <td>petrol</td>\n",
       "      <td>audi</td>\n",
       "      <td>unknown</td>\n",
       "      <td>2016-03-27</td>\n",
       "      <td>18445</td>\n",
       "      <td>2016-04-07 10:45:31</td>\n",
       "    </tr>\n",
       "    <tr>\n",
       "      <th>18023</th>\n",
       "      <td>2016-03-24 08:57:13</td>\n",
       "      <td>1</td>\n",
       "      <td>sedan</td>\n",
       "      <td>1910</td>\n",
       "      <td>manual</td>\n",
       "      <td>0</td>\n",
       "      <td>golf</td>\n",
       "      <td>5000</td>\n",
       "      <td>0</td>\n",
       "      <td>petrol</td>\n",
       "      <td>volkswagen</td>\n",
       "      <td>unknown</td>\n",
       "      <td>2016-03-24</td>\n",
       "      <td>50829</td>\n",
       "      <td>2016-04-06 22:45:09</td>\n",
       "    </tr>\n",
       "    <tr>\n",
       "      <th>...</th>\n",
       "      <td>...</td>\n",
       "      <td>...</td>\n",
       "      <td>...</td>\n",
       "      <td>...</td>\n",
       "      <td>...</td>\n",
       "      <td>...</td>\n",
       "      <td>...</td>\n",
       "      <td>...</td>\n",
       "      <td>...</td>\n",
       "      <td>...</td>\n",
       "      <td>...</td>\n",
       "      <td>...</td>\n",
       "      <td>...</td>\n",
       "      <td>...</td>\n",
       "      <td>...</td>\n",
       "    </tr>\n",
       "    <tr>\n",
       "      <th>331076</th>\n",
       "      <td>2016-03-26 03:29:46</td>\n",
       "      <td>0</td>\n",
       "      <td>sedan</td>\n",
       "      <td>1910</td>\n",
       "      <td>manual</td>\n",
       "      <td>0</td>\n",
       "      <td>other</td>\n",
       "      <td>5000</td>\n",
       "      <td>1</td>\n",
       "      <td>petrol</td>\n",
       "      <td>sonstige_autos</td>\n",
       "      <td>unknown</td>\n",
       "      <td>2016-03-25</td>\n",
       "      <td>35606</td>\n",
       "      <td>2016-03-29 08:15:17</td>\n",
       "    </tr>\n",
       "    <tr>\n",
       "      <th>333004</th>\n",
       "      <td>2016-03-20 14:57:29</td>\n",
       "      <td>0</td>\n",
       "      <td>suv</td>\n",
       "      <td>1910</td>\n",
       "      <td>manual</td>\n",
       "      <td>0</td>\n",
       "      <td>yaris</td>\n",
       "      <td>5000</td>\n",
       "      <td>0</td>\n",
       "      <td>petrol</td>\n",
       "      <td>toyota</td>\n",
       "      <td>unknown</td>\n",
       "      <td>2016-03-20</td>\n",
       "      <td>48683</td>\n",
       "      <td>2016-03-20 14:57:29</td>\n",
       "    </tr>\n",
       "    <tr>\n",
       "      <th>334901</th>\n",
       "      <td>2016-03-29 03:36:18</td>\n",
       "      <td>1300</td>\n",
       "      <td>wagon</td>\n",
       "      <td>1910</td>\n",
       "      <td>manual</td>\n",
       "      <td>0</td>\n",
       "      <td>a4</td>\n",
       "      <td>5000</td>\n",
       "      <td>9</td>\n",
       "      <td>gasoline</td>\n",
       "      <td>audi</td>\n",
       "      <td>unknown</td>\n",
       "      <td>2016-03-29</td>\n",
       "      <td>82256</td>\n",
       "      <td>2016-04-05 17:25:59</td>\n",
       "    </tr>\n",
       "    <tr>\n",
       "      <th>343083</th>\n",
       "      <td>2016-04-01 08:51:08</td>\n",
       "      <td>1</td>\n",
       "      <td>other</td>\n",
       "      <td>1910</td>\n",
       "      <td>manual</td>\n",
       "      <td>0</td>\n",
       "      <td>golf</td>\n",
       "      <td>5000</td>\n",
       "      <td>1</td>\n",
       "      <td>other</td>\n",
       "      <td>volkswagen</td>\n",
       "      <td>unknown</td>\n",
       "      <td>2016-04-01</td>\n",
       "      <td>18273</td>\n",
       "      <td>2016-04-07 05:44:39</td>\n",
       "    </tr>\n",
       "    <tr>\n",
       "      <th>353961</th>\n",
       "      <td>2016-03-17 13:54:22</td>\n",
       "      <td>200</td>\n",
       "      <td>sedan</td>\n",
       "      <td>1910</td>\n",
       "      <td>manual</td>\n",
       "      <td>0</td>\n",
       "      <td>other</td>\n",
       "      <td>5000</td>\n",
       "      <td>0</td>\n",
       "      <td>petrol</td>\n",
       "      <td>sonstige_autos</td>\n",
       "      <td>unknown</td>\n",
       "      <td>2016-03-17</td>\n",
       "      <td>42289</td>\n",
       "      <td>2016-03-31 22:46:47</td>\n",
       "    </tr>\n",
       "  </tbody>\n",
       "</table>\n",
       "<p>101 rows × 15 columns</p>\n",
       "</div>"
      ],
      "text/plain": [
       "               DateCrawled  Price VehicleType  RegistrationYear Gearbox  \\\n",
       "15     2016-03-11 21:39:15    450       small              1910  manual   \n",
       "6629   2016-04-02 13:47:16      0       small              1910  manual   \n",
       "6977   2016-03-24 08:37:22    135       small              1910  manual   \n",
       "10183  2016-03-27 13:59:08   1250       sedan              1910  manual   \n",
       "18023  2016-03-24 08:57:13      1       sedan              1910  manual   \n",
       "...                    ...    ...         ...               ...     ...   \n",
       "331076 2016-03-26 03:29:46      0       sedan              1910  manual   \n",
       "333004 2016-03-20 14:57:29      0         suv              1910  manual   \n",
       "334901 2016-03-29 03:36:18   1300       wagon              1910  manual   \n",
       "343083 2016-04-01 08:51:08      1       other              1910  manual   \n",
       "353961 2016-03-17 13:54:22    200       sedan              1910  manual   \n",
       "\n",
       "        Power  Model  Kilometer  RegistrationMonth  FuelType           Brand  \\\n",
       "15          0     ka       5000                  0    petrol            ford   \n",
       "6629        0  other       5000                  1     other  sonstige_autos   \n",
       "6977        0  corsa       5000                  0    petrol            opel   \n",
       "10183       0  other       5000                  0    petrol            audi   \n",
       "18023       0   golf       5000                  0    petrol      volkswagen   \n",
       "...       ...    ...        ...                ...       ...             ...   \n",
       "331076      0  other       5000                  1    petrol  sonstige_autos   \n",
       "333004      0  yaris       5000                  0    petrol          toyota   \n",
       "334901      0     a4       5000                  9  gasoline            audi   \n",
       "343083      0   golf       5000                  1     other      volkswagen   \n",
       "353961      0  other       5000                  0    petrol  sonstige_autos   \n",
       "\n",
       "       Repaired DateCreated  PostalCode            LastSeen  \n",
       "15      unknown  2016-03-11       24148 2016-03-19 08:46:47  \n",
       "6629    unknown  2016-04-02       93105 2016-04-04 11:16:30  \n",
       "6977    unknown  2016-03-24       19374 2016-04-06 20:46:08  \n",
       "10183   unknown  2016-03-27       18445 2016-04-07 10:45:31  \n",
       "18023   unknown  2016-03-24       50829 2016-04-06 22:45:09  \n",
       "...         ...         ...         ...                 ...  \n",
       "331076  unknown  2016-03-25       35606 2016-03-29 08:15:17  \n",
       "333004  unknown  2016-03-20       48683 2016-03-20 14:57:29  \n",
       "334901  unknown  2016-03-29       82256 2016-04-05 17:25:59  \n",
       "343083  unknown  2016-04-01       18273 2016-04-07 05:44:39  \n",
       "353961  unknown  2016-03-17       42289 2016-03-31 22:46:47  \n",
       "\n",
       "[101 rows x 15 columns]"
      ]
     },
     "execution_count": 170,
     "metadata": {},
     "output_type": "execute_result"
    }
   ],
   "source": [
    "data.query('RegistrationYear == 1910')"
   ]
  },
  {
   "cell_type": "code",
   "execution_count": 171,
   "metadata": {},
   "outputs": [
    {
     "data": {
      "text/plain": [
       "422"
      ]
     },
     "execution_count": 171,
     "metadata": {},
     "output_type": "execute_result"
    }
   ],
   "source": [
    "len(data.query('RegistrationYear <= 1959'))"
   ]
  },
  {
   "cell_type": "markdown",
   "metadata": {},
   "source": [
    "Удаляем всё до 1959 года включительно..."
   ]
  },
  {
   "cell_type": "code",
   "execution_count": 172,
   "metadata": {},
   "outputs": [],
   "source": [
    "data = data[data['RegistrationYear'] > 1959] # 422 + 105 rows\n"
   ]
  },
  {
   "cell_type": "code",
   "execution_count": 173,
   "metadata": {},
   "outputs": [
    {
     "data": {
      "text/html": [
       "<div>\n",
       "<style scoped>\n",
       "    .dataframe tbody tr th:only-of-type {\n",
       "        vertical-align: middle;\n",
       "    }\n",
       "\n",
       "    .dataframe tbody tr th {\n",
       "        vertical-align: top;\n",
       "    }\n",
       "\n",
       "    .dataframe thead th {\n",
       "        text-align: right;\n",
       "    }\n",
       "</style>\n",
       "<table border=\"1\" class=\"dataframe\">\n",
       "  <thead>\n",
       "    <tr style=\"text-align: right;\">\n",
       "      <th></th>\n",
       "      <th>DateCrawled</th>\n",
       "      <th>Price</th>\n",
       "      <th>VehicleType</th>\n",
       "      <th>RegistrationYear</th>\n",
       "      <th>Gearbox</th>\n",
       "      <th>Power</th>\n",
       "      <th>Model</th>\n",
       "      <th>Kilometer</th>\n",
       "      <th>RegistrationMonth</th>\n",
       "      <th>FuelType</th>\n",
       "      <th>Brand</th>\n",
       "      <th>Repaired</th>\n",
       "      <th>DateCreated</th>\n",
       "      <th>PostalCode</th>\n",
       "      <th>LastSeen</th>\n",
       "    </tr>\n",
       "  </thead>\n",
       "  <tbody>\n",
       "    <tr>\n",
       "      <th>22</th>\n",
       "      <td>2016-03-23 14:52:51</td>\n",
       "      <td>2900</td>\n",
       "      <td>bus</td>\n",
       "      <td>2018</td>\n",
       "      <td>manual</td>\n",
       "      <td>90</td>\n",
       "      <td>meriva</td>\n",
       "      <td>150000</td>\n",
       "      <td>5</td>\n",
       "      <td>petrol</td>\n",
       "      <td>opel</td>\n",
       "      <td>no</td>\n",
       "      <td>2016-03-23</td>\n",
       "      <td>49716</td>\n",
       "      <td>2016-03-31 01:16:33</td>\n",
       "    </tr>\n",
       "    <tr>\n",
       "      <th>57</th>\n",
       "      <td>2016-03-10 20:53:19</td>\n",
       "      <td>2399</td>\n",
       "      <td>sedan</td>\n",
       "      <td>2018</td>\n",
       "      <td>manual</td>\n",
       "      <td>64</td>\n",
       "      <td>other</td>\n",
       "      <td>125000</td>\n",
       "      <td>3</td>\n",
       "      <td>petrol</td>\n",
       "      <td>seat</td>\n",
       "      <td>no</td>\n",
       "      <td>2016-03-10</td>\n",
       "      <td>33397</td>\n",
       "      <td>2016-03-25 10:17:37</td>\n",
       "    </tr>\n",
       "    <tr>\n",
       "      <th>163</th>\n",
       "      <td>2016-04-04 12:57:02</td>\n",
       "      <td>1200</td>\n",
       "      <td>sedan</td>\n",
       "      <td>2018</td>\n",
       "      <td>manual</td>\n",
       "      <td>75</td>\n",
       "      <td>astra</td>\n",
       "      <td>150000</td>\n",
       "      <td>0</td>\n",
       "      <td>petrol</td>\n",
       "      <td>opel</td>\n",
       "      <td>no</td>\n",
       "      <td>2016-04-04</td>\n",
       "      <td>15344</td>\n",
       "      <td>2016-04-06 14:45:26</td>\n",
       "    </tr>\n",
       "    <tr>\n",
       "      <th>196</th>\n",
       "      <td>2016-03-24 13:51:03</td>\n",
       "      <td>2800</td>\n",
       "      <td>small</td>\n",
       "      <td>2018</td>\n",
       "      <td>manual</td>\n",
       "      <td>75</td>\n",
       "      <td>twingo</td>\n",
       "      <td>125000</td>\n",
       "      <td>12</td>\n",
       "      <td>petrol</td>\n",
       "      <td>renault</td>\n",
       "      <td>no</td>\n",
       "      <td>2016-03-24</td>\n",
       "      <td>86199</td>\n",
       "      <td>2016-04-07 05:17:27</td>\n",
       "    </tr>\n",
       "    <tr>\n",
       "      <th>355</th>\n",
       "      <td>2016-03-12 19:00:11</td>\n",
       "      <td>1050</td>\n",
       "      <td>sedan</td>\n",
       "      <td>2018</td>\n",
       "      <td>manual</td>\n",
       "      <td>0</td>\n",
       "      <td>golf</td>\n",
       "      <td>150000</td>\n",
       "      <td>0</td>\n",
       "      <td>petrol</td>\n",
       "      <td>volkswagen</td>\n",
       "      <td>unknown</td>\n",
       "      <td>2016-03-12</td>\n",
       "      <td>53567</td>\n",
       "      <td>2016-04-07 10:44:48</td>\n",
       "    </tr>\n",
       "    <tr>\n",
       "      <th>...</th>\n",
       "      <td>...</td>\n",
       "      <td>...</td>\n",
       "      <td>...</td>\n",
       "      <td>...</td>\n",
       "      <td>...</td>\n",
       "      <td>...</td>\n",
       "      <td>...</td>\n",
       "      <td>...</td>\n",
       "      <td>...</td>\n",
       "      <td>...</td>\n",
       "      <td>...</td>\n",
       "      <td>...</td>\n",
       "      <td>...</td>\n",
       "      <td>...</td>\n",
       "      <td>...</td>\n",
       "    </tr>\n",
       "    <tr>\n",
       "      <th>353918</th>\n",
       "      <td>2016-04-04 02:36:35</td>\n",
       "      <td>999</td>\n",
       "      <td>sedan</td>\n",
       "      <td>2018</td>\n",
       "      <td>manual</td>\n",
       "      <td>0</td>\n",
       "      <td>golf</td>\n",
       "      <td>150000</td>\n",
       "      <td>8</td>\n",
       "      <td>petrol</td>\n",
       "      <td>volkswagen</td>\n",
       "      <td>no</td>\n",
       "      <td>2016-04-04</td>\n",
       "      <td>35767</td>\n",
       "      <td>2016-04-05 12:13:17</td>\n",
       "    </tr>\n",
       "    <tr>\n",
       "      <th>353971</th>\n",
       "      <td>2016-04-07 08:36:16</td>\n",
       "      <td>1670</td>\n",
       "      <td>small</td>\n",
       "      <td>2018</td>\n",
       "      <td>manual</td>\n",
       "      <td>0</td>\n",
       "      <td>twingo</td>\n",
       "      <td>90000</td>\n",
       "      <td>0</td>\n",
       "      <td>petrol</td>\n",
       "      <td>renault</td>\n",
       "      <td>no</td>\n",
       "      <td>2016-04-07</td>\n",
       "      <td>12167</td>\n",
       "      <td>2016-04-07 08:36:16</td>\n",
       "    </tr>\n",
       "    <tr>\n",
       "      <th>354007</th>\n",
       "      <td>2016-04-04 21:40:20</td>\n",
       "      <td>10980</td>\n",
       "      <td>sedan</td>\n",
       "      <td>2018</td>\n",
       "      <td>manual</td>\n",
       "      <td>75</td>\n",
       "      <td>golf</td>\n",
       "      <td>20000</td>\n",
       "      <td>1</td>\n",
       "      <td>petrol</td>\n",
       "      <td>volkswagen</td>\n",
       "      <td>no</td>\n",
       "      <td>2016-04-04</td>\n",
       "      <td>44801</td>\n",
       "      <td>2016-04-07 00:15:36</td>\n",
       "    </tr>\n",
       "    <tr>\n",
       "      <th>354203</th>\n",
       "      <td>2016-03-17 00:56:26</td>\n",
       "      <td>2140</td>\n",
       "      <td>small</td>\n",
       "      <td>2018</td>\n",
       "      <td>manual</td>\n",
       "      <td>80</td>\n",
       "      <td>fiesta</td>\n",
       "      <td>150000</td>\n",
       "      <td>6</td>\n",
       "      <td>petrol</td>\n",
       "      <td>ford</td>\n",
       "      <td>no</td>\n",
       "      <td>2016-03-17</td>\n",
       "      <td>44866</td>\n",
       "      <td>2016-03-29 15:45:04</td>\n",
       "    </tr>\n",
       "    <tr>\n",
       "      <th>354253</th>\n",
       "      <td>2016-03-25 09:37:59</td>\n",
       "      <td>1250</td>\n",
       "      <td>small</td>\n",
       "      <td>2018</td>\n",
       "      <td>manual</td>\n",
       "      <td>0</td>\n",
       "      <td>corsa</td>\n",
       "      <td>150000</td>\n",
       "      <td>0</td>\n",
       "      <td>petrol</td>\n",
       "      <td>opel</td>\n",
       "      <td>unknown</td>\n",
       "      <td>2016-03-25</td>\n",
       "      <td>45527</td>\n",
       "      <td>2016-04-06 07:46:13</td>\n",
       "    </tr>\n",
       "  </tbody>\n",
       "</table>\n",
       "<p>3984 rows × 15 columns</p>\n",
       "</div>"
      ],
      "text/plain": [
       "               DateCrawled  Price VehicleType  RegistrationYear Gearbox  \\\n",
       "22     2016-03-23 14:52:51   2900         bus              2018  manual   \n",
       "57     2016-03-10 20:53:19   2399       sedan              2018  manual   \n",
       "163    2016-04-04 12:57:02   1200       sedan              2018  manual   \n",
       "196    2016-03-24 13:51:03   2800       small              2018  manual   \n",
       "355    2016-03-12 19:00:11   1050       sedan              2018  manual   \n",
       "...                    ...    ...         ...               ...     ...   \n",
       "353918 2016-04-04 02:36:35    999       sedan              2018  manual   \n",
       "353971 2016-04-07 08:36:16   1670       small              2018  manual   \n",
       "354007 2016-04-04 21:40:20  10980       sedan              2018  manual   \n",
       "354203 2016-03-17 00:56:26   2140       small              2018  manual   \n",
       "354253 2016-03-25 09:37:59   1250       small              2018  manual   \n",
       "\n",
       "        Power   Model  Kilometer  RegistrationMonth FuelType       Brand  \\\n",
       "22         90  meriva     150000                  5   petrol        opel   \n",
       "57         64   other     125000                  3   petrol        seat   \n",
       "163        75   astra     150000                  0   petrol        opel   \n",
       "196        75  twingo     125000                 12   petrol     renault   \n",
       "355         0    golf     150000                  0   petrol  volkswagen   \n",
       "...       ...     ...        ...                ...      ...         ...   \n",
       "353918      0    golf     150000                  8   petrol  volkswagen   \n",
       "353971      0  twingo      90000                  0   petrol     renault   \n",
       "354007     75    golf      20000                  1   petrol  volkswagen   \n",
       "354203     80  fiesta     150000                  6   petrol        ford   \n",
       "354253      0   corsa     150000                  0   petrol        opel   \n",
       "\n",
       "       Repaired DateCreated  PostalCode            LastSeen  \n",
       "22           no  2016-03-23       49716 2016-03-31 01:16:33  \n",
       "57           no  2016-03-10       33397 2016-03-25 10:17:37  \n",
       "163          no  2016-04-04       15344 2016-04-06 14:45:26  \n",
       "196          no  2016-03-24       86199 2016-04-07 05:17:27  \n",
       "355     unknown  2016-03-12       53567 2016-04-07 10:44:48  \n",
       "...         ...         ...         ...                 ...  \n",
       "353918       no  2016-04-04       35767 2016-04-05 12:13:17  \n",
       "353971       no  2016-04-07       12167 2016-04-07 08:36:16  \n",
       "354007       no  2016-04-04       44801 2016-04-07 00:15:36  \n",
       "354203       no  2016-03-17       44866 2016-03-29 15:45:04  \n",
       "354253  unknown  2016-03-25       45527 2016-04-06 07:46:13  \n",
       "\n",
       "[3984 rows x 15 columns]"
      ]
     },
     "execution_count": 173,
     "metadata": {},
     "output_type": "execute_result"
    }
   ],
   "source": [
    "data.query('RegistrationYear >= 2018')"
   ]
  },
  {
   "cell_type": "code",
   "execution_count": 174,
   "metadata": {},
   "outputs": [
    {
     "data": {
      "text/plain": [
       "25"
      ]
     },
     "execution_count": 174,
     "metadata": {},
     "output_type": "execute_result"
    }
   ],
   "source": [
    "len(data.query('RegistrationYear >= 2019'))"
   ]
  },
  {
   "cell_type": "markdown",
   "metadata": {},
   "source": [
    "Вручную разобрался где выбросы. После 2018 года. Как так выходит что анкета 2016 года, а машина 2018? Еще одна загадка."
   ]
  },
  {
   "cell_type": "code",
   "execution_count": 175,
   "metadata": {},
   "outputs": [],
   "source": [
    "data = data[data['RegistrationYear'] <= 2018] # 130 + 422 + 105 rows\n"
   ]
  },
  {
   "cell_type": "markdown",
   "metadata": {},
   "source": [
    "Фух, теперь-то осталось разобраться с нулевой мощностью, нулевой ценой и еще чем-нибудь))"
   ]
  },
  {
   "cell_type": "code",
   "execution_count": 176,
   "metadata": {},
   "outputs": [
    {
     "data": {
      "text/plain": [
       "39890"
      ]
     },
     "execution_count": 176,
     "metadata": {},
     "output_type": "execute_result"
    }
   ],
   "source": [
    "len(data.query('Power == 0'))"
   ]
  },
  {
   "cell_type": "markdown",
   "metadata": {},
   "source": [
    "Жесть, и что делать? Предлагаю заполнить медианным значением по модели автомобиля и году. Возьмем и сложим все гольфы до 1993 года включительно и найдем медиану."
   ]
  },
  {
   "cell_type": "code",
   "execution_count": 177,
   "metadata": {},
   "outputs": [],
   "source": [
    "# Подготовим df, где Power > 30\n",
    "power_data = data[data['Power'] > 30]\n",
    "\n",
    "# Считаем медиану Power по Model + RegistrationYear (группировка по двум признакам)\n",
    "median_power_by_model_year = power_data.groupby(['Model', 'RegistrationYear'])['Power'].median()\n",
    "\n",
    "# Если нет точного совпадения Model+Year — используем просто медиану по Model\n",
    "median_power_by_model = power_data.groupby('Model')['Power'].median()\n",
    "\n",
    "# Функция: выбираем медиану для строки\n",
    "def get_filled_power(row):\n",
    "    if row['Power'] > 30:\n",
    "        return row['Power']\n",
    "    \n",
    "    key = (row['Model'], row['RegistrationYear'])\n",
    "    if key in median_power_by_model_year:\n",
    "        return median_power_by_model_year[key]\n",
    "    elif row['Model'] in median_power_by_model:\n",
    "        return median_power_by_model[row['Model']]\n",
    "    else:\n",
    "        return np.nan\n",
    "\n",
    "# Применяем быстро через apply (без фильтрации внутри)\n",
    "data['Power'] = data.apply(get_filled_power, axis=1)"
   ]
  },
  {
   "cell_type": "code",
   "execution_count": 178,
   "metadata": {},
   "outputs": [
    {
     "data": {
      "image/png": "[encoded data removed]",
      "text/plain": [
       "<Figure size 640x480 with 1 Axes>"
      ]
     },
     "metadata": {},
     "output_type": "display_data"
    },
    {
     "data": {
      "image/png": "[encoded data removed]",
      "text/plain": [
       "<Figure size 1200x600 with 1 Axes>"
      ]
     },
     "metadata": {},
     "output_type": "display_data"
    }
   ],
   "source": [
    "# Можно ограничить отображение, чтобы не мешали выбросы\n",
    "data[data['Power'] <= 100]['Power'].plot(kind='hist', bins=100, color='skyblue', edgecolor='black')\n",
    "plt.title('Распределение мощности (Power) до 100 л.с', fontsize=16)\n",
    "plt.xlabel('Мощность (л.с.)', fontsize=14)\n",
    "plt.ylabel('Количество автомобилей', fontsize=14)\n",
    "plt.grid(axis='y', linestyle='--', alpha=0.7)\n",
    "plt.tight_layout()\n",
    "plt.show()\n",
    "\n",
    "# Фильтрация: от 100 до 200 л.с.\n",
    "filtered = data[(data['Power'] >= 100) & (data['Power'] <= 200)]\n",
    "\n",
    "# Построение гистограммы\n",
    "plt.figure(figsize=(12, 6))\n",
    "filtered['Power'].plot(kind='hist', bins=50, color='skyblue', edgecolor='black')\n",
    "plt.title('Распределение мощности (Power) от 100 до 200', fontsize=16)\n",
    "plt.xlabel('Мощность (л.с.)', fontsize=14)\n",
    "plt.ylabel('Количество автомобилей', fontsize=14)\n",
    "plt.grid(axis='y', linestyle='--', alpha=0.7)\n",
    "plt.tight_layout()\n",
    "plt.show()"
   ]
  },
  {
   "cell_type": "code",
   "execution_count": 179,
   "metadata": {},
   "outputs": [
    {
     "data": {
      "text/html": [
       "<div>\n",
       "<style scoped>\n",
       "    .dataframe tbody tr th:only-of-type {\n",
       "        vertical-align: middle;\n",
       "    }\n",
       "\n",
       "    .dataframe tbody tr th {\n",
       "        vertical-align: top;\n",
       "    }\n",
       "\n",
       "    .dataframe thead th {\n",
       "        text-align: right;\n",
       "    }\n",
       "</style>\n",
       "<table border=\"1\" class=\"dataframe\">\n",
       "  <thead>\n",
       "    <tr style=\"text-align: right;\">\n",
       "      <th></th>\n",
       "      <th>DateCrawled</th>\n",
       "      <th>Price</th>\n",
       "      <th>VehicleType</th>\n",
       "      <th>RegistrationYear</th>\n",
       "      <th>Gearbox</th>\n",
       "      <th>Power</th>\n",
       "      <th>Model</th>\n",
       "      <th>Kilometer</th>\n",
       "      <th>RegistrationMonth</th>\n",
       "      <th>FuelType</th>\n",
       "      <th>Brand</th>\n",
       "      <th>Repaired</th>\n",
       "      <th>DateCreated</th>\n",
       "      <th>PostalCode</th>\n",
       "      <th>LastSeen</th>\n",
       "    </tr>\n",
       "  </thead>\n",
       "  <tbody>\n",
       "    <tr>\n",
       "      <th>295582</th>\n",
       "      <td>2016-03-20 20:51:39</td>\n",
       "      <td>11000</td>\n",
       "      <td>sedan</td>\n",
       "      <td>1998</td>\n",
       "      <td>manual</td>\n",
       "      <td>286.0</td>\n",
       "      <td>fortwo</td>\n",
       "      <td>150000</td>\n",
       "      <td>7</td>\n",
       "      <td>petrol</td>\n",
       "      <td>smart</td>\n",
       "      <td>no</td>\n",
       "      <td>2016-03-20</td>\n",
       "      <td>85778</td>\n",
       "      <td>2016-03-24 14:18:00</td>\n",
       "    </tr>\n",
       "  </tbody>\n",
       "</table>\n",
       "</div>"
      ],
      "text/plain": [
       "               DateCrawled  Price VehicleType  RegistrationYear Gearbox  \\\n",
       "295582 2016-03-20 20:51:39  11000       sedan              1998  manual   \n",
       "\n",
       "        Power   Model  Kilometer  RegistrationMonth FuelType  Brand Repaired  \\\n",
       "295582  286.0  fortwo     150000                  7   petrol  smart       no   \n",
       "\n",
       "       DateCreated  PostalCode            LastSeen  \n",
       "295582  2016-03-20       85778 2016-03-24 14:18:00  "
      ]
     },
     "execution_count": 179,
     "metadata": {},
     "output_type": "execute_result"
    }
   ],
   "source": [
    "data.query('Model == \"fortwo\" and Power == 286')"
   ]
  },
  {
   "cell_type": "markdown",
   "metadata": {},
   "source": [
    "smart fortwo как будто столько не стоит. да и 286 сил многовато! Чипанул так чипанул)) что же делать с таким выбросом?"
   ]
  },
  {
   "cell_type": "code",
   "execution_count": 180,
   "metadata": {},
   "outputs": [
    {
     "data": {
      "text/html": [
       "<div>\n",
       "<style scoped>\n",
       "    .dataframe tbody tr th:only-of-type {\n",
       "        vertical-align: middle;\n",
       "    }\n",
       "\n",
       "    .dataframe tbody tr th {\n",
       "        vertical-align: top;\n",
       "    }\n",
       "\n",
       "    .dataframe thead th {\n",
       "        text-align: right;\n",
       "    }\n",
       "</style>\n",
       "<table border=\"1\" class=\"dataframe\">\n",
       "  <thead>\n",
       "    <tr style=\"text-align: right;\">\n",
       "      <th></th>\n",
       "      <th>DateCrawled</th>\n",
       "      <th>Price</th>\n",
       "      <th>VehicleType</th>\n",
       "      <th>RegistrationYear</th>\n",
       "      <th>Gearbox</th>\n",
       "      <th>Power</th>\n",
       "      <th>Model</th>\n",
       "      <th>Kilometer</th>\n",
       "      <th>RegistrationMonth</th>\n",
       "      <th>FuelType</th>\n",
       "      <th>Brand</th>\n",
       "      <th>Repaired</th>\n",
       "      <th>DateCreated</th>\n",
       "      <th>PostalCode</th>\n",
       "      <th>LastSeen</th>\n",
       "    </tr>\n",
       "  </thead>\n",
       "  <tbody>\n",
       "    <tr>\n",
       "      <th>70</th>\n",
       "      <td>2016-03-08 01:36:42</td>\n",
       "      <td>800</td>\n",
       "      <td>small</td>\n",
       "      <td>1993</td>\n",
       "      <td>manual</td>\n",
       "      <td>45.0</td>\n",
       "      <td>polo</td>\n",
       "      <td>150000</td>\n",
       "      <td>3</td>\n",
       "      <td>petrol</td>\n",
       "      <td>volkswagen</td>\n",
       "      <td>no</td>\n",
       "      <td>2016-03-08</td>\n",
       "      <td>8258</td>\n",
       "      <td>2016-04-05 23:46:00</td>\n",
       "    </tr>\n",
       "    <tr>\n",
       "      <th>193</th>\n",
       "      <td>2016-03-27 12:47:45</td>\n",
       "      <td>1200</td>\n",
       "      <td>coupe</td>\n",
       "      <td>1990</td>\n",
       "      <td>manual</td>\n",
       "      <td>45.0</td>\n",
       "      <td>golf</td>\n",
       "      <td>150000</td>\n",
       "      <td>0</td>\n",
       "      <td>petrol</td>\n",
       "      <td>volkswagen</td>\n",
       "      <td>unknown</td>\n",
       "      <td>2016-03-27</td>\n",
       "      <td>83317</td>\n",
       "      <td>2016-04-07 08:17:08</td>\n",
       "    </tr>\n",
       "    <tr>\n",
       "      <th>208</th>\n",
       "      <td>2016-03-13 00:56:50</td>\n",
       "      <td>2250</td>\n",
       "      <td>small</td>\n",
       "      <td>2001</td>\n",
       "      <td>auto</td>\n",
       "      <td>41.0</td>\n",
       "      <td>fortwo</td>\n",
       "      <td>150000</td>\n",
       "      <td>10</td>\n",
       "      <td>gasoline</td>\n",
       "      <td>smart</td>\n",
       "      <td>no</td>\n",
       "      <td>2016-03-13</td>\n",
       "      <td>78224</td>\n",
       "      <td>2016-03-30 01:47:18</td>\n",
       "    </tr>\n",
       "    <tr>\n",
       "      <th>212</th>\n",
       "      <td>2016-03-11 19:50:22</td>\n",
       "      <td>1200</td>\n",
       "      <td>small</td>\n",
       "      <td>2002</td>\n",
       "      <td>manual</td>\n",
       "      <td>45.0</td>\n",
       "      <td>lupo</td>\n",
       "      <td>150000</td>\n",
       "      <td>9</td>\n",
       "      <td>petrol</td>\n",
       "      <td>volkswagen</td>\n",
       "      <td>no</td>\n",
       "      <td>2016-03-11</td>\n",
       "      <td>38707</td>\n",
       "      <td>2016-03-20 07:18:49</td>\n",
       "    </tr>\n",
       "    <tr>\n",
       "      <th>232</th>\n",
       "      <td>2016-03-12 08:51:00</td>\n",
       "      <td>1000</td>\n",
       "      <td>suv</td>\n",
       "      <td>1982</td>\n",
       "      <td>manual</td>\n",
       "      <td>41.0</td>\n",
       "      <td>other</td>\n",
       "      <td>150000</td>\n",
       "      <td>11</td>\n",
       "      <td>petrol</td>\n",
       "      <td>suzuki</td>\n",
       "      <td>unknown</td>\n",
       "      <td>2016-03-12</td>\n",
       "      <td>56337</td>\n",
       "      <td>2016-03-13 00:45:46</td>\n",
       "    </tr>\n",
       "    <tr>\n",
       "      <th>...</th>\n",
       "      <td>...</td>\n",
       "      <td>...</td>\n",
       "      <td>...</td>\n",
       "      <td>...</td>\n",
       "      <td>...</td>\n",
       "      <td>...</td>\n",
       "      <td>...</td>\n",
       "      <td>...</td>\n",
       "      <td>...</td>\n",
       "      <td>...</td>\n",
       "      <td>...</td>\n",
       "      <td>...</td>\n",
       "      <td>...</td>\n",
       "      <td>...</td>\n",
       "      <td>...</td>\n",
       "    </tr>\n",
       "    <tr>\n",
       "      <th>354175</th>\n",
       "      <td>2016-03-20 17:55:27</td>\n",
       "      <td>0</td>\n",
       "      <td>small</td>\n",
       "      <td>1995</td>\n",
       "      <td>manual</td>\n",
       "      <td>45.0</td>\n",
       "      <td>polo</td>\n",
       "      <td>150000</td>\n",
       "      <td>0</td>\n",
       "      <td>petrol</td>\n",
       "      <td>volkswagen</td>\n",
       "      <td>unknown</td>\n",
       "      <td>2016-03-20</td>\n",
       "      <td>2625</td>\n",
       "      <td>2016-04-07 00:46:35</td>\n",
       "    </tr>\n",
       "    <tr>\n",
       "      <th>354223</th>\n",
       "      <td>2016-03-26 08:37:13</td>\n",
       "      <td>200</td>\n",
       "      <td>small</td>\n",
       "      <td>1991</td>\n",
       "      <td>manual</td>\n",
       "      <td>45.0</td>\n",
       "      <td>polo</td>\n",
       "      <td>150000</td>\n",
       "      <td>1</td>\n",
       "      <td>petrol</td>\n",
       "      <td>volkswagen</td>\n",
       "      <td>yes</td>\n",
       "      <td>2016-03-26</td>\n",
       "      <td>27798</td>\n",
       "      <td>2016-03-29 12:16:52</td>\n",
       "    </tr>\n",
       "    <tr>\n",
       "      <th>354266</th>\n",
       "      <td>2016-03-31 16:37:05</td>\n",
       "      <td>399</td>\n",
       "      <td>small</td>\n",
       "      <td>1992</td>\n",
       "      <td>manual</td>\n",
       "      <td>45.0</td>\n",
       "      <td>polo</td>\n",
       "      <td>150000</td>\n",
       "      <td>4</td>\n",
       "      <td>petrol</td>\n",
       "      <td>volkswagen</td>\n",
       "      <td>unknown</td>\n",
       "      <td>2016-03-31</td>\n",
       "      <td>74592</td>\n",
       "      <td>2016-03-31 16:37:05</td>\n",
       "    </tr>\n",
       "    <tr>\n",
       "      <th>354277</th>\n",
       "      <td>2016-03-10 22:55:50</td>\n",
       "      <td>0</td>\n",
       "      <td>small</td>\n",
       "      <td>1999</td>\n",
       "      <td>manual</td>\n",
       "      <td>37.0</td>\n",
       "      <td>arosa</td>\n",
       "      <td>150000</td>\n",
       "      <td>7</td>\n",
       "      <td>petrol</td>\n",
       "      <td>seat</td>\n",
       "      <td>yes</td>\n",
       "      <td>2016-03-10</td>\n",
       "      <td>22559</td>\n",
       "      <td>2016-03-12 23:46:32</td>\n",
       "    </tr>\n",
       "    <tr>\n",
       "      <th>354338</th>\n",
       "      <td>2016-03-31 19:52:33</td>\n",
       "      <td>180</td>\n",
       "      <td>small</td>\n",
       "      <td>1995</td>\n",
       "      <td>manual</td>\n",
       "      <td>46.0</td>\n",
       "      <td>corsa</td>\n",
       "      <td>125000</td>\n",
       "      <td>3</td>\n",
       "      <td>petrol</td>\n",
       "      <td>opel</td>\n",
       "      <td>unknown</td>\n",
       "      <td>2016-03-31</td>\n",
       "      <td>41470</td>\n",
       "      <td>2016-04-06 14:18:04</td>\n",
       "    </tr>\n",
       "  </tbody>\n",
       "</table>\n",
       "<p>5904 rows × 15 columns</p>\n",
       "</div>"
      ],
      "text/plain": [
       "               DateCrawled  Price VehicleType  RegistrationYear Gearbox  \\\n",
       "70     2016-03-08 01:36:42    800       small              1993  manual   \n",
       "193    2016-03-27 12:47:45   1200       coupe              1990  manual   \n",
       "208    2016-03-13 00:56:50   2250       small              2001    auto   \n",
       "212    2016-03-11 19:50:22   1200       small              2002  manual   \n",
       "232    2016-03-12 08:51:00   1000         suv              1982  manual   \n",
       "...                    ...    ...         ...               ...     ...   \n",
       "354175 2016-03-20 17:55:27      0       small              1995  manual   \n",
       "354223 2016-03-26 08:37:13    200       small              1991  manual   \n",
       "354266 2016-03-31 16:37:05    399       small              1992  manual   \n",
       "354277 2016-03-10 22:55:50      0       small              1999  manual   \n",
       "354338 2016-03-31 19:52:33    180       small              1995  manual   \n",
       "\n",
       "        Power   Model  Kilometer  RegistrationMonth  FuelType       Brand  \\\n",
       "70       45.0    polo     150000                  3    petrol  volkswagen   \n",
       "193      45.0    golf     150000                  0    petrol  volkswagen   \n",
       "208      41.0  fortwo     150000                 10  gasoline       smart   \n",
       "212      45.0    lupo     150000                  9    petrol  volkswagen   \n",
       "232      41.0   other     150000                 11    petrol      suzuki   \n",
       "...       ...     ...        ...                ...       ...         ...   \n",
       "354175   45.0    polo     150000                  0    petrol  volkswagen   \n",
       "354223   45.0    polo     150000                  1    petrol  volkswagen   \n",
       "354266   45.0    polo     150000                  4    petrol  volkswagen   \n",
       "354277   37.0   arosa     150000                  7    petrol        seat   \n",
       "354338   46.0   corsa     125000                  3    petrol        opel   \n",
       "\n",
       "       Repaired DateCreated  PostalCode            LastSeen  \n",
       "70           no  2016-03-08        8258 2016-04-05 23:46:00  \n",
       "193     unknown  2016-03-27       83317 2016-04-07 08:17:08  \n",
       "208          no  2016-03-13       78224 2016-03-30 01:47:18  \n",
       "212          no  2016-03-11       38707 2016-03-20 07:18:49  \n",
       "232     unknown  2016-03-12       56337 2016-03-13 00:45:46  \n",
       "...         ...         ...         ...                 ...  \n",
       "354175  unknown  2016-03-20        2625 2016-04-07 00:46:35  \n",
       "354223      yes  2016-03-26       27798 2016-03-29 12:16:52  \n",
       "354266  unknown  2016-03-31       74592 2016-03-31 16:37:05  \n",
       "354277      yes  2016-03-10       22559 2016-03-12 23:46:32  \n",
       "354338  unknown  2016-03-31       41470 2016-04-06 14:18:04  \n",
       "\n",
       "[5904 rows x 15 columns]"
      ]
     },
     "execution_count": 180,
     "metadata": {},
     "output_type": "execute_result"
    }
   ],
   "source": [
    "data.query('Power < 50 and Power != 0')"
   ]
  },
  {
   "cell_type": "code",
   "execution_count": 181,
   "metadata": {},
   "outputs": [
    {
     "data": {
      "text/html": [
       "<div>\n",
       "<style scoped>\n",
       "    .dataframe tbody tr th:only-of-type {\n",
       "        vertical-align: middle;\n",
       "    }\n",
       "\n",
       "    .dataframe tbody tr th {\n",
       "        vertical-align: top;\n",
       "    }\n",
       "\n",
       "    .dataframe thead th {\n",
       "        text-align: right;\n",
       "    }\n",
       "</style>\n",
       "<table border=\"1\" class=\"dataframe\">\n",
       "  <thead>\n",
       "    <tr style=\"text-align: right;\">\n",
       "      <th></th>\n",
       "      <th>DateCrawled</th>\n",
       "      <th>Price</th>\n",
       "      <th>RegistrationYear</th>\n",
       "      <th>Power</th>\n",
       "      <th>Kilometer</th>\n",
       "      <th>RegistrationMonth</th>\n",
       "      <th>DateCreated</th>\n",
       "      <th>PostalCode</th>\n",
       "      <th>LastSeen</th>\n",
       "    </tr>\n",
       "  </thead>\n",
       "  <tbody>\n",
       "    <tr>\n",
       "      <th>count</th>\n",
       "      <td>793</td>\n",
       "      <td>793.000000</td>\n",
       "      <td>793.000000</td>\n",
       "      <td>793.000000</td>\n",
       "      <td>793.000000</td>\n",
       "      <td>793.000000</td>\n",
       "      <td>793</td>\n",
       "      <td>793.000000</td>\n",
       "      <td>793</td>\n",
       "    </tr>\n",
       "    <tr>\n",
       "      <th>mean</th>\n",
       "      <td>2016-03-22 00:08:00.513240832</td>\n",
       "      <td>1361.452711</td>\n",
       "      <td>1999.464061</td>\n",
       "      <td>52.341740</td>\n",
       "      <td>121399.747793</td>\n",
       "      <td>6.087011</td>\n",
       "      <td>2016-03-21 07:12:10.895334144</td>\n",
       "      <td>47586.514502</td>\n",
       "      <td>2016-03-29 01:59:46.127364352</td>\n",
       "    </tr>\n",
       "    <tr>\n",
       "      <th>min</th>\n",
       "      <td>2016-03-05 14:29:00</td>\n",
       "      <td>0.000000</td>\n",
       "      <td>1992.000000</td>\n",
       "      <td>33.000000</td>\n",
       "      <td>5000.000000</td>\n",
       "      <td>0.000000</td>\n",
       "      <td>2016-02-16 00:00:00</td>\n",
       "      <td>1445.000000</td>\n",
       "      <td>2016-03-05 19:44:51</td>\n",
       "    </tr>\n",
       "    <tr>\n",
       "      <th>25%</th>\n",
       "      <td>2016-03-13 17:25:24</td>\n",
       "      <td>900.000000</td>\n",
       "      <td>1999.000000</td>\n",
       "      <td>45.000000</td>\n",
       "      <td>100000.000000</td>\n",
       "      <td>2.000000</td>\n",
       "      <td>2016-03-13 00:00:00</td>\n",
       "      <td>26135.000000</td>\n",
       "      <td>2016-03-21 15:57:02</td>\n",
       "    </tr>\n",
       "    <tr>\n",
       "      <th>50%</th>\n",
       "      <td>2016-03-22 09:52:01</td>\n",
       "      <td>1350.000000</td>\n",
       "      <td>2000.000000</td>\n",
       "      <td>54.000000</td>\n",
       "      <td>125000.000000</td>\n",
       "      <td>7.000000</td>\n",
       "      <td>2016-03-22 00:00:00</td>\n",
       "      <td>47229.000000</td>\n",
       "      <td>2016-04-01 21:45:26</td>\n",
       "    </tr>\n",
       "    <tr>\n",
       "      <th>75%</th>\n",
       "      <td>2016-03-29 18:38:16</td>\n",
       "      <td>1790.000000</td>\n",
       "      <td>2000.000000</td>\n",
       "      <td>54.000000</td>\n",
       "      <td>150000.000000</td>\n",
       "      <td>10.000000</td>\n",
       "      <td>2016-03-29 00:00:00</td>\n",
       "      <td>66571.000000</td>\n",
       "      <td>2016-04-06 08:44:27</td>\n",
       "    </tr>\n",
       "    <tr>\n",
       "      <th>max</th>\n",
       "      <td>2016-04-07 13:36:22</td>\n",
       "      <td>11000.000000</td>\n",
       "      <td>2000.000000</td>\n",
       "      <td>286.000000</td>\n",
       "      <td>150000.000000</td>\n",
       "      <td>12.000000</td>\n",
       "      <td>2016-04-07 00:00:00</td>\n",
       "      <td>99974.000000</td>\n",
       "      <td>2016-04-07 14:57:39</td>\n",
       "    </tr>\n",
       "    <tr>\n",
       "      <th>std</th>\n",
       "      <td>NaN</td>\n",
       "      <td>741.945574</td>\n",
       "      <td>0.744700</td>\n",
       "      <td>11.206644</td>\n",
       "      <td>37342.197946</td>\n",
       "      <td>4.067765</td>\n",
       "      <td>NaN</td>\n",
       "      <td>24929.233370</td>\n",
       "      <td>NaN</td>\n",
       "    </tr>\n",
       "  </tbody>\n",
       "</table>\n",
       "</div>"
      ],
      "text/plain": [
       "                         DateCrawled         Price  RegistrationYear  \\\n",
       "count                            793    793.000000        793.000000   \n",
       "mean   2016-03-22 00:08:00.513240832   1361.452711       1999.464061   \n",
       "min              2016-03-05 14:29:00      0.000000       1992.000000   \n",
       "25%              2016-03-13 17:25:24    900.000000       1999.000000   \n",
       "50%              2016-03-22 09:52:01   1350.000000       2000.000000   \n",
       "75%              2016-03-29 18:38:16   1790.000000       2000.000000   \n",
       "max              2016-04-07 13:36:22  11000.000000       2000.000000   \n",
       "std                              NaN    741.945574          0.744700   \n",
       "\n",
       "            Power      Kilometer  RegistrationMonth  \\\n",
       "count  793.000000     793.000000         793.000000   \n",
       "mean    52.341740  121399.747793           6.087011   \n",
       "min     33.000000    5000.000000           0.000000   \n",
       "25%     45.000000  100000.000000           2.000000   \n",
       "50%     54.000000  125000.000000           7.000000   \n",
       "75%     54.000000  150000.000000          10.000000   \n",
       "max    286.000000  150000.000000          12.000000   \n",
       "std     11.206644   37342.197946           4.067765   \n",
       "\n",
       "                         DateCreated    PostalCode  \\\n",
       "count                            793    793.000000   \n",
       "mean   2016-03-21 07:12:10.895334144  47586.514502   \n",
       "min              2016-02-16 00:00:00   1445.000000   \n",
       "25%              2016-03-13 00:00:00  26135.000000   \n",
       "50%              2016-03-22 00:00:00  47229.000000   \n",
       "75%              2016-03-29 00:00:00  66571.000000   \n",
       "max              2016-04-07 00:00:00  99974.000000   \n",
       "std                              NaN  24929.233370   \n",
       "\n",
       "                            LastSeen  \n",
       "count                            793  \n",
       "mean   2016-03-29 01:59:46.127364352  \n",
       "min              2016-03-05 19:44:51  \n",
       "25%              2016-03-21 15:57:02  \n",
       "50%              2016-04-01 21:45:26  \n",
       "75%              2016-04-06 08:44:27  \n",
       "max              2016-04-07 14:57:39  \n",
       "std                              NaN  "
      ]
     },
     "execution_count": 181,
     "metadata": {},
     "output_type": "execute_result"
    }
   ],
   "source": [
    "data.query('Model == \"fortwo\" and RegistrationYear <= 2000').describe()"
   ]
  },
  {
   "cell_type": "code",
   "execution_count": 182,
   "metadata": {},
   "outputs": [
    {
     "data": {
      "text/html": [
       "<div>\n",
       "<style scoped>\n",
       "    .dataframe tbody tr th:only-of-type {\n",
       "        vertical-align: middle;\n",
       "    }\n",
       "\n",
       "    .dataframe tbody tr th {\n",
       "        vertical-align: top;\n",
       "    }\n",
       "\n",
       "    .dataframe thead th {\n",
       "        text-align: right;\n",
       "    }\n",
       "</style>\n",
       "<table border=\"1\" class=\"dataframe\">\n",
       "  <thead>\n",
       "    <tr style=\"text-align: right;\">\n",
       "      <th></th>\n",
       "      <th>DateCrawled</th>\n",
       "      <th>Price</th>\n",
       "      <th>RegistrationYear</th>\n",
       "      <th>Power</th>\n",
       "      <th>Kilometer</th>\n",
       "      <th>RegistrationMonth</th>\n",
       "      <th>DateCreated</th>\n",
       "      <th>PostalCode</th>\n",
       "      <th>LastSeen</th>\n",
       "    </tr>\n",
       "  </thead>\n",
       "  <tbody>\n",
       "    <tr>\n",
       "      <th>count</th>\n",
       "      <td>4605</td>\n",
       "      <td>4605.000000</td>\n",
       "      <td>4605.000000</td>\n",
       "      <td>4605.000000</td>\n",
       "      <td>4605.000000</td>\n",
       "      <td>4605.000000</td>\n",
       "      <td>4605</td>\n",
       "      <td>4605.000000</td>\n",
       "      <td>4605</td>\n",
       "    </tr>\n",
       "    <tr>\n",
       "      <th>mean</th>\n",
       "      <td>2016-03-21 18:29:16.284907776</td>\n",
       "      <td>3501.158089</td>\n",
       "      <td>2005.961998</td>\n",
       "      <td>65.856786</td>\n",
       "      <td>97776.330076</td>\n",
       "      <td>6.083388</td>\n",
       "      <td>2016-03-21 00:37:31.465797888</td>\n",
       "      <td>49311.675570</td>\n",
       "      <td>2016-03-30 13:38:09.615418112</td>\n",
       "    </tr>\n",
       "    <tr>\n",
       "      <th>min</th>\n",
       "      <td>2016-03-05 14:08:23</td>\n",
       "      <td>0.000000</td>\n",
       "      <td>1992.000000</td>\n",
       "      <td>31.000000</td>\n",
       "      <td>5000.000000</td>\n",
       "      <td>0.000000</td>\n",
       "      <td>2015-12-30 00:00:00</td>\n",
       "      <td>1108.000000</td>\n",
       "      <td>2016-03-05 17:17:02</td>\n",
       "    </tr>\n",
       "    <tr>\n",
       "      <th>25%</th>\n",
       "      <td>2016-03-14 09:56:32</td>\n",
       "      <td>1650.000000</td>\n",
       "      <td>2001.000000</td>\n",
       "      <td>54.000000</td>\n",
       "      <td>60000.000000</td>\n",
       "      <td>3.000000</td>\n",
       "      <td>2016-03-14 00:00:00</td>\n",
       "      <td>26553.000000</td>\n",
       "      <td>2016-03-24 03:44:52</td>\n",
       "    </tr>\n",
       "    <tr>\n",
       "      <th>50%</th>\n",
       "      <td>2016-03-21 20:39:18</td>\n",
       "      <td>2800.000000</td>\n",
       "      <td>2006.000000</td>\n",
       "      <td>61.000000</td>\n",
       "      <td>100000.000000</td>\n",
       "      <td>6.000000</td>\n",
       "      <td>2016-03-21 00:00:00</td>\n",
       "      <td>49479.000000</td>\n",
       "      <td>2016-04-04 15:56:18</td>\n",
       "    </tr>\n",
       "    <tr>\n",
       "      <th>75%</th>\n",
       "      <td>2016-03-29 12:50:17</td>\n",
       "      <td>4900.000000</td>\n",
       "      <td>2010.000000</td>\n",
       "      <td>71.000000</td>\n",
       "      <td>150000.000000</td>\n",
       "      <td>9.000000</td>\n",
       "      <td>2016-03-29 00:00:00</td>\n",
       "      <td>70178.000000</td>\n",
       "      <td>2016-04-06 11:36:18</td>\n",
       "    </tr>\n",
       "    <tr>\n",
       "      <th>max</th>\n",
       "      <td>2016-04-07 13:36:22</td>\n",
       "      <td>19690.000000</td>\n",
       "      <td>2018.000000</td>\n",
       "      <td>10218.000000</td>\n",
       "      <td>150000.000000</td>\n",
       "      <td>12.000000</td>\n",
       "      <td>2016-04-07 00:00:00</td>\n",
       "      <td>99974.000000</td>\n",
       "      <td>2016-04-07 14:58:49</td>\n",
       "    </tr>\n",
       "    <tr>\n",
       "      <th>std</th>\n",
       "      <td>NaN</td>\n",
       "      <td>2501.898525</td>\n",
       "      <td>5.170094</td>\n",
       "      <td>228.985666</td>\n",
       "      <td>42673.547181</td>\n",
       "      <td>3.649083</td>\n",
       "      <td>NaN</td>\n",
       "      <td>25031.271136</td>\n",
       "      <td>NaN</td>\n",
       "    </tr>\n",
       "  </tbody>\n",
       "</table>\n",
       "</div>"
      ],
      "text/plain": [
       "                         DateCrawled         Price  RegistrationYear  \\\n",
       "count                           4605   4605.000000       4605.000000   \n",
       "mean   2016-03-21 18:29:16.284907776   3501.158089       2005.961998   \n",
       "min              2016-03-05 14:08:23      0.000000       1992.000000   \n",
       "25%              2016-03-14 09:56:32   1650.000000       2001.000000   \n",
       "50%              2016-03-21 20:39:18   2800.000000       2006.000000   \n",
       "75%              2016-03-29 12:50:17   4900.000000       2010.000000   \n",
       "max              2016-04-07 13:36:22  19690.000000       2018.000000   \n",
       "std                              NaN   2501.898525          5.170094   \n",
       "\n",
       "              Power      Kilometer  RegistrationMonth  \\\n",
       "count   4605.000000    4605.000000        4605.000000   \n",
       "mean      65.856786   97776.330076           6.083388   \n",
       "min       31.000000    5000.000000           0.000000   \n",
       "25%       54.000000   60000.000000           3.000000   \n",
       "50%       61.000000  100000.000000           6.000000   \n",
       "75%       71.000000  150000.000000           9.000000   \n",
       "max    10218.000000  150000.000000          12.000000   \n",
       "std      228.985666   42673.547181           3.649083   \n",
       "\n",
       "                         DateCreated    PostalCode  \\\n",
       "count                           4605   4605.000000   \n",
       "mean   2016-03-21 00:37:31.465797888  49311.675570   \n",
       "min              2015-12-30 00:00:00   1108.000000   \n",
       "25%              2016-03-14 00:00:00  26553.000000   \n",
       "50%              2016-03-21 00:00:00  49479.000000   \n",
       "75%              2016-03-29 00:00:00  70178.000000   \n",
       "max              2016-04-07 00:00:00  99974.000000   \n",
       "std                              NaN  25031.271136   \n",
       "\n",
       "                            LastSeen  \n",
       "count                           4605  \n",
       "mean   2016-03-30 13:38:09.615418112  \n",
       "min              2016-03-05 17:17:02  \n",
       "25%              2016-03-24 03:44:52  \n",
       "50%              2016-04-04 15:56:18  \n",
       "75%              2016-04-06 11:36:18  \n",
       "max              2016-04-07 14:58:49  \n",
       "std                              NaN  "
      ]
     },
     "execution_count": 182,
     "metadata": {},
     "output_type": "execute_result"
    }
   ],
   "source": [
    "data.query('Model == \"fortwo\"').describe()"
   ]
  },
  {
   "cell_type": "code",
   "execution_count": 183,
   "metadata": {},
   "outputs": [],
   "source": [
    "# Замена выбросов в Power на медиану модели внутри [q1, q3]\n",
    "\n",
    "def replace_power_outliers_with_median(df):\n",
    "    df = df.copy()\n",
    "\n",
    "    for model, group in df.groupby('Model'):\n",
    "        q1 = group['Power'].quantile(0.25)\n",
    "        q3 = group['Power'].quantile(0.75)\n",
    "        iqr = q3 - q1\n",
    "\n",
    "        lower = q1 - 1.5 * iqr\n",
    "        upper = q3 + 1.5 * iqr\n",
    "\n",
    "        median = group['Power'].median()\n",
    "\n",
    "        # Маска выбросов\n",
    "        outliers_mask = (df['Model'] == model) & ((df['Power'] < lower) | (df['Power'] > upper))\n",
    "\n",
    "        # Замена\n",
    "        df.loc[outliers_mask, 'Power'] = median\n",
    "\n",
    "    return df\n",
    "\n",
    "# Применяем\n",
    "data = replace_power_outliers_with_median(data)\n"
   ]
  },
  {
   "cell_type": "code",
   "execution_count": 184,
   "metadata": {},
   "outputs": [
    {
     "data": {
      "text/html": [
       "<div>\n",
       "<style scoped>\n",
       "    .dataframe tbody tr th:only-of-type {\n",
       "        vertical-align: middle;\n",
       "    }\n",
       "\n",
       "    .dataframe tbody tr th {\n",
       "        vertical-align: top;\n",
       "    }\n",
       "\n",
       "    .dataframe thead th {\n",
       "        text-align: right;\n",
       "    }\n",
       "</style>\n",
       "<table border=\"1\" class=\"dataframe\">\n",
       "  <thead>\n",
       "    <tr style=\"text-align: right;\">\n",
       "      <th></th>\n",
       "      <th>DateCrawled</th>\n",
       "      <th>Price</th>\n",
       "      <th>RegistrationYear</th>\n",
       "      <th>Power</th>\n",
       "      <th>Kilometer</th>\n",
       "      <th>RegistrationMonth</th>\n",
       "      <th>DateCreated</th>\n",
       "      <th>PostalCode</th>\n",
       "      <th>LastSeen</th>\n",
       "    </tr>\n",
       "  </thead>\n",
       "  <tbody>\n",
       "    <tr>\n",
       "      <th>count</th>\n",
       "      <td>4605</td>\n",
       "      <td>4605.000000</td>\n",
       "      <td>4605.000000</td>\n",
       "      <td>4605.000000</td>\n",
       "      <td>4605.000000</td>\n",
       "      <td>4605.000000</td>\n",
       "      <td>4605</td>\n",
       "      <td>4605.000000</td>\n",
       "      <td>4605</td>\n",
       "    </tr>\n",
       "    <tr>\n",
       "      <th>mean</th>\n",
       "      <td>2016-03-21 18:29:16.284907776</td>\n",
       "      <td>3501.158089</td>\n",
       "      <td>2005.961998</td>\n",
       "      <td>59.307600</td>\n",
       "      <td>97776.330076</td>\n",
       "      <td>6.083388</td>\n",
       "      <td>2016-03-21 00:37:31.465797888</td>\n",
       "      <td>49311.675570</td>\n",
       "      <td>2016-03-30 13:38:09.615418112</td>\n",
       "    </tr>\n",
       "    <tr>\n",
       "      <th>min</th>\n",
       "      <td>2016-03-05 14:08:23</td>\n",
       "      <td>0.000000</td>\n",
       "      <td>1992.000000</td>\n",
       "      <td>31.000000</td>\n",
       "      <td>5000.000000</td>\n",
       "      <td>0.000000</td>\n",
       "      <td>2015-12-30 00:00:00</td>\n",
       "      <td>1108.000000</td>\n",
       "      <td>2016-03-05 17:17:02</td>\n",
       "    </tr>\n",
       "    <tr>\n",
       "      <th>25%</th>\n",
       "      <td>2016-03-14 09:56:32</td>\n",
       "      <td>1650.000000</td>\n",
       "      <td>2001.000000</td>\n",
       "      <td>54.000000</td>\n",
       "      <td>60000.000000</td>\n",
       "      <td>3.000000</td>\n",
       "      <td>2016-03-14 00:00:00</td>\n",
       "      <td>26553.000000</td>\n",
       "      <td>2016-03-24 03:44:52</td>\n",
       "    </tr>\n",
       "    <tr>\n",
       "      <th>50%</th>\n",
       "      <td>2016-03-21 20:39:18</td>\n",
       "      <td>2800.000000</td>\n",
       "      <td>2006.000000</td>\n",
       "      <td>61.000000</td>\n",
       "      <td>100000.000000</td>\n",
       "      <td>6.000000</td>\n",
       "      <td>2016-03-21 00:00:00</td>\n",
       "      <td>49479.000000</td>\n",
       "      <td>2016-04-04 15:56:18</td>\n",
       "    </tr>\n",
       "    <tr>\n",
       "      <th>75%</th>\n",
       "      <td>2016-03-29 12:50:17</td>\n",
       "      <td>4900.000000</td>\n",
       "      <td>2010.000000</td>\n",
       "      <td>71.000000</td>\n",
       "      <td>150000.000000</td>\n",
       "      <td>9.000000</td>\n",
       "      <td>2016-03-29 00:00:00</td>\n",
       "      <td>70178.000000</td>\n",
       "      <td>2016-04-06 11:36:18</td>\n",
       "    </tr>\n",
       "    <tr>\n",
       "      <th>max</th>\n",
       "      <td>2016-04-07 13:36:22</td>\n",
       "      <td>19690.000000</td>\n",
       "      <td>2018.000000</td>\n",
       "      <td>90.000000</td>\n",
       "      <td>150000.000000</td>\n",
       "      <td>12.000000</td>\n",
       "      <td>2016-04-07 00:00:00</td>\n",
       "      <td>99974.000000</td>\n",
       "      <td>2016-04-07 14:58:49</td>\n",
       "    </tr>\n",
       "    <tr>\n",
       "      <th>std</th>\n",
       "      <td>NaN</td>\n",
       "      <td>2501.898525</td>\n",
       "      <td>5.170094</td>\n",
       "      <td>11.451206</td>\n",
       "      <td>42673.547181</td>\n",
       "      <td>3.649083</td>\n",
       "      <td>NaN</td>\n",
       "      <td>25031.271136</td>\n",
       "      <td>NaN</td>\n",
       "    </tr>\n",
       "  </tbody>\n",
       "</table>\n",
       "</div>"
      ],
      "text/plain": [
       "                         DateCrawled         Price  RegistrationYear  \\\n",
       "count                           4605   4605.000000       4605.000000   \n",
       "mean   2016-03-21 18:29:16.284907776   3501.158089       2005.961998   \n",
       "min              2016-03-05 14:08:23      0.000000       1992.000000   \n",
       "25%              2016-03-14 09:56:32   1650.000000       2001.000000   \n",
       "50%              2016-03-21 20:39:18   2800.000000       2006.000000   \n",
       "75%              2016-03-29 12:50:17   4900.000000       2010.000000   \n",
       "max              2016-04-07 13:36:22  19690.000000       2018.000000   \n",
       "std                              NaN   2501.898525          5.170094   \n",
       "\n",
       "             Power      Kilometer  RegistrationMonth  \\\n",
       "count  4605.000000    4605.000000        4605.000000   \n",
       "mean     59.307600   97776.330076           6.083388   \n",
       "min      31.000000    5000.000000           0.000000   \n",
       "25%      54.000000   60000.000000           3.000000   \n",
       "50%      61.000000  100000.000000           6.000000   \n",
       "75%      71.000000  150000.000000           9.000000   \n",
       "max      90.000000  150000.000000          12.000000   \n",
       "std      11.451206   42673.547181           3.649083   \n",
       "\n",
       "                         DateCreated    PostalCode  \\\n",
       "count                           4605   4605.000000   \n",
       "mean   2016-03-21 00:37:31.465797888  49311.675570   \n",
       "min              2015-12-30 00:00:00   1108.000000   \n",
       "25%              2016-03-14 00:00:00  26553.000000   \n",
       "50%              2016-03-21 00:00:00  49479.000000   \n",
       "75%              2016-03-29 00:00:00  70178.000000   \n",
       "max              2016-04-07 00:00:00  99974.000000   \n",
       "std                              NaN  25031.271136   \n",
       "\n",
       "                            LastSeen  \n",
       "count                           4605  \n",
       "mean   2016-03-30 13:38:09.615418112  \n",
       "min              2016-03-05 17:17:02  \n",
       "25%              2016-03-24 03:44:52  \n",
       "50%              2016-04-04 15:56:18  \n",
       "75%              2016-04-06 11:36:18  \n",
       "max              2016-04-07 14:58:49  \n",
       "std                              NaN  "
      ]
     },
     "execution_count": 184,
     "metadata": {},
     "output_type": "execute_result"
    }
   ],
   "source": [
    "data.query('Model == \"fortwo\"').describe()"
   ]
  },
  {
   "cell_type": "code",
   "execution_count": 185,
   "metadata": {},
   "outputs": [
    {
     "name": "stdout",
     "output_type": "stream",
     "text": [
      "Пропусков в Power: 2\n"
     ]
    }
   ],
   "source": [
    "missing_power = data['Power'].isna().sum()\n",
    "print(f'Пропусков в Power: {missing_power}')\n"
   ]
  },
  {
   "cell_type": "code",
   "execution_count": 186,
   "metadata": {},
   "outputs": [],
   "source": [
    "data = data.dropna(subset=['Power'])\n"
   ]
  },
  {
   "cell_type": "markdown",
   "metadata": {},
   "source": [
    "Выбросы уничтожены быстро и мощно в столбце Power. На подходе еще 200 000 столбцов!!"
   ]
  },
  {
   "cell_type": "code",
   "execution_count": 187,
   "metadata": {},
   "outputs": [
    {
     "data": {
      "image/png": "[encoded data removed]",
      "text/plain": [
       "<Figure size 1000x200 with 1 Axes>"
      ]
     },
     "metadata": {},
     "output_type": "display_data"
    }
   ],
   "source": [
    "# Box plot для Power\n",
    "plt.figure(figsize=(10, 2))\n",
    "sns.boxplot(x=data['Power'], color='skyblue')\n",
    "plt.title('Boxplot Power')\n",
    "plt.xlabel('Power')\n",
    "plt.grid(True)\n",
    "plt.show()\n"
   ]
  },
  {
   "cell_type": "markdown",
   "metadata": {},
   "source": [
    "Это другое!"
   ]
  },
  {
   "cell_type": "code",
   "execution_count": 188,
   "metadata": {},
   "outputs": [
    {
     "data": {
      "image/png": "[encoded data removed]",
      "text/plain": [
       "<Figure size 1200x600 with 1 Axes>"
      ]
     },
     "metadata": {},
     "output_type": "display_data"
    }
   ],
   "source": [
    "# Фильтрация\n",
    "filtered = data[(data['Power'] >= 200) & (data['Power'] <= 33330)]\n",
    "\n",
    "# Построение гистограммы\n",
    "plt.figure(figsize=(12, 6))\n",
    "filtered['Power'].plot(kind='hist', bins=50, color='skyblue', edgecolor='black')\n",
    "plt.title('Распределение мощности (Power)', fontsize=16)\n",
    "plt.xlabel('Мощность (л.с.)', fontsize=14)\n",
    "plt.ylabel('Количество автомобилей', fontsize=14)\n",
    "plt.grid(axis='y', linestyle='--', alpha=0.7)\n",
    "plt.tight_layout()\n",
    "plt.show()"
   ]
  },
  {
   "cell_type": "code",
   "execution_count": 189,
   "metadata": {},
   "outputs": [
    {
     "data": {
      "image/png": "[encoded data removed]",
      "text/plain": [
       "<Figure size 1200x600 with 1 Axes>"
      ]
     },
     "metadata": {},
     "output_type": "display_data"
    }
   ],
   "source": [
    "# Фильтрация\n",
    "filtered = data[(data['Power'] >= 300) & (data['Power'] <= 459)]\n",
    "\n",
    "# Построение гистограммы\n",
    "plt.figure(figsize=(12, 6))\n",
    "\n",
    "filtered['Power'].plot(kind='hist', bins=30, color='skyblue', edgecolor='black')\n",
    "plt.title('Распределение мощности (Power)', fontsize=16)\n",
    "plt.xlabel('Мощность (л.с.)', fontsize=14)\n",
    "plt.ylabel('Количество автомобилей', fontsize=14)\n",
    "plt.grid(axis='y', linestyle='--', alpha=0.7)\n",
    "plt.tight_layout()\n",
    "plt.show()"
   ]
  },
  {
   "cell_type": "markdown",
   "metadata": {},
   "source": [
    "Очень хочется просто избавиться от машинок выше 350 л.с"
   ]
  },
  {
   "cell_type": "code",
   "execution_count": 190,
   "metadata": {},
   "outputs": [
    {
     "data": {
      "text/html": [
       "<div>\n",
       "<style scoped>\n",
       "    .dataframe tbody tr th:only-of-type {\n",
       "        vertical-align: middle;\n",
       "    }\n",
       "\n",
       "    .dataframe tbody tr th {\n",
       "        vertical-align: top;\n",
       "    }\n",
       "\n",
       "    .dataframe thead th {\n",
       "        text-align: right;\n",
       "    }\n",
       "</style>\n",
       "<table border=\"1\" class=\"dataframe\">\n",
       "  <thead>\n",
       "    <tr style=\"text-align: right;\">\n",
       "      <th></th>\n",
       "      <th>DateCrawled</th>\n",
       "      <th>Price</th>\n",
       "      <th>VehicleType</th>\n",
       "      <th>RegistrationYear</th>\n",
       "      <th>Gearbox</th>\n",
       "      <th>Power</th>\n",
       "      <th>Model</th>\n",
       "      <th>Kilometer</th>\n",
       "      <th>RegistrationMonth</th>\n",
       "      <th>FuelType</th>\n",
       "      <th>Brand</th>\n",
       "      <th>Repaired</th>\n",
       "      <th>DateCreated</th>\n",
       "      <th>PostalCode</th>\n",
       "      <th>LastSeen</th>\n",
       "    </tr>\n",
       "  </thead>\n",
       "  <tbody>\n",
       "    <tr>\n",
       "      <th>2332</th>\n",
       "      <td>2016-03-07 00:52:29</td>\n",
       "      <td>0</td>\n",
       "      <td>sedan</td>\n",
       "      <td>1997</td>\n",
       "      <td>auto</td>\n",
       "      <td>375.0</td>\n",
       "      <td>7er</td>\n",
       "      <td>150000</td>\n",
       "      <td>0</td>\n",
       "      <td>petrol</td>\n",
       "      <td>bmw</td>\n",
       "      <td>unknown</td>\n",
       "      <td>2016-03-06</td>\n",
       "      <td>44329</td>\n",
       "      <td>2016-03-15 03:15:22</td>\n",
       "    </tr>\n",
       "    <tr>\n",
       "      <th>2901</th>\n",
       "      <td>2016-03-30 11:41:34</td>\n",
       "      <td>12900</td>\n",
       "      <td>sedan</td>\n",
       "      <td>2006</td>\n",
       "      <td>auto</td>\n",
       "      <td>387.0</td>\n",
       "      <td>s_klasse</td>\n",
       "      <td>150000</td>\n",
       "      <td>7</td>\n",
       "      <td>petrol</td>\n",
       "      <td>mercedes_benz</td>\n",
       "      <td>no</td>\n",
       "      <td>2016-03-30</td>\n",
       "      <td>47443</td>\n",
       "      <td>2016-04-01 05:15:43</td>\n",
       "    </tr>\n",
       "    <tr>\n",
       "      <th>3245</th>\n",
       "      <td>2016-04-02 21:57:12</td>\n",
       "      <td>15500</td>\n",
       "      <td>sedan</td>\n",
       "      <td>2006</td>\n",
       "      <td>auto</td>\n",
       "      <td>387.0</td>\n",
       "      <td>s_klasse</td>\n",
       "      <td>150000</td>\n",
       "      <td>2</td>\n",
       "      <td>petrol</td>\n",
       "      <td>mercedes_benz</td>\n",
       "      <td>no</td>\n",
       "      <td>2016-04-02</td>\n",
       "      <td>59065</td>\n",
       "      <td>2016-04-06 23:45:57</td>\n",
       "    </tr>\n",
       "    <tr>\n",
       "      <th>4043</th>\n",
       "      <td>2016-03-07 02:37:10</td>\n",
       "      <td>14990</td>\n",
       "      <td>suv</td>\n",
       "      <td>2005</td>\n",
       "      <td>auto</td>\n",
       "      <td>350.0</td>\n",
       "      <td>cayenne</td>\n",
       "      <td>150000</td>\n",
       "      <td>12</td>\n",
       "      <td>lpg</td>\n",
       "      <td>porsche</td>\n",
       "      <td>no</td>\n",
       "      <td>2016-03-07</td>\n",
       "      <td>48691</td>\n",
       "      <td>2016-04-05 15:17:00</td>\n",
       "    </tr>\n",
       "    <tr>\n",
       "      <th>5400</th>\n",
       "      <td>2016-03-07 15:56:11</td>\n",
       "      <td>12900</td>\n",
       "      <td>sedan</td>\n",
       "      <td>2005</td>\n",
       "      <td>auto</td>\n",
       "      <td>367.0</td>\n",
       "      <td>7er</td>\n",
       "      <td>150000</td>\n",
       "      <td>9</td>\n",
       "      <td>petrol</td>\n",
       "      <td>bmw</td>\n",
       "      <td>no</td>\n",
       "      <td>2016-03-07</td>\n",
       "      <td>73066</td>\n",
       "      <td>2016-04-05 12:15:40</td>\n",
       "    </tr>\n",
       "    <tr>\n",
       "      <th>...</th>\n",
       "      <td>...</td>\n",
       "      <td>...</td>\n",
       "      <td>...</td>\n",
       "      <td>...</td>\n",
       "      <td>...</td>\n",
       "      <td>...</td>\n",
       "      <td>...</td>\n",
       "      <td>...</td>\n",
       "      <td>...</td>\n",
       "      <td>...</td>\n",
       "      <td>...</td>\n",
       "      <td>...</td>\n",
       "      <td>...</td>\n",
       "      <td>...</td>\n",
       "      <td>...</td>\n",
       "    </tr>\n",
       "    <tr>\n",
       "      <th>347540</th>\n",
       "      <td>2016-03-23 04:37:06</td>\n",
       "      <td>14900</td>\n",
       "      <td>sedan</td>\n",
       "      <td>2006</td>\n",
       "      <td>auto</td>\n",
       "      <td>367.0</td>\n",
       "      <td>7er</td>\n",
       "      <td>150000</td>\n",
       "      <td>1</td>\n",
       "      <td>petrol</td>\n",
       "      <td>bmw</td>\n",
       "      <td>no</td>\n",
       "      <td>2016-03-23</td>\n",
       "      <td>10709</td>\n",
       "      <td>2016-04-07 07:17:18</td>\n",
       "    </tr>\n",
       "    <tr>\n",
       "      <th>348893</th>\n",
       "      <td>2016-03-23 12:55:34</td>\n",
       "      <td>4500</td>\n",
       "      <td>sedan</td>\n",
       "      <td>2001</td>\n",
       "      <td>auto</td>\n",
       "      <td>360.0</td>\n",
       "      <td>s_klasse</td>\n",
       "      <td>150000</td>\n",
       "      <td>8</td>\n",
       "      <td>gasoline</td>\n",
       "      <td>mercedes_benz</td>\n",
       "      <td>yes</td>\n",
       "      <td>2016-03-23</td>\n",
       "      <td>13587</td>\n",
       "      <td>2016-03-29 06:18:03</td>\n",
       "    </tr>\n",
       "    <tr>\n",
       "      <th>349985</th>\n",
       "      <td>2016-04-04 00:55:36</td>\n",
       "      <td>14950</td>\n",
       "      <td>coupe</td>\n",
       "      <td>2007</td>\n",
       "      <td>auto</td>\n",
       "      <td>367.0</td>\n",
       "      <td>6er</td>\n",
       "      <td>150000</td>\n",
       "      <td>6</td>\n",
       "      <td>petrol</td>\n",
       "      <td>bmw</td>\n",
       "      <td>no</td>\n",
       "      <td>2016-04-04</td>\n",
       "      <td>22159</td>\n",
       "      <td>2016-04-06 09:16:39</td>\n",
       "    </tr>\n",
       "    <tr>\n",
       "      <th>350420</th>\n",
       "      <td>2016-03-25 16:57:36</td>\n",
       "      <td>19500</td>\n",
       "      <td>convertible</td>\n",
       "      <td>1997</td>\n",
       "      <td>auto</td>\n",
       "      <td>394.0</td>\n",
       "      <td>sl</td>\n",
       "      <td>150000</td>\n",
       "      <td>1</td>\n",
       "      <td>petrol</td>\n",
       "      <td>mercedes_benz</td>\n",
       "      <td>no</td>\n",
       "      <td>2016-03-25</td>\n",
       "      <td>25813</td>\n",
       "      <td>2016-04-06 22:45:01</td>\n",
       "    </tr>\n",
       "    <tr>\n",
       "      <th>352248</th>\n",
       "      <td>2016-03-22 03:36:18</td>\n",
       "      <td>15900</td>\n",
       "      <td>sedan</td>\n",
       "      <td>2001</td>\n",
       "      <td>manual</td>\n",
       "      <td>400.0</td>\n",
       "      <td>m_reihe</td>\n",
       "      <td>150000</td>\n",
       "      <td>8</td>\n",
       "      <td>petrol</td>\n",
       "      <td>bmw</td>\n",
       "      <td>no</td>\n",
       "      <td>2016-03-22</td>\n",
       "      <td>58840</td>\n",
       "      <td>2016-04-05 18:44:40</td>\n",
       "    </tr>\n",
       "  </tbody>\n",
       "</table>\n",
       "<p>190 rows × 15 columns</p>\n",
       "</div>"
      ],
      "text/plain": [
       "               DateCrawled  Price  VehicleType  RegistrationYear Gearbox  \\\n",
       "2332   2016-03-07 00:52:29      0        sedan              1997    auto   \n",
       "2901   2016-03-30 11:41:34  12900        sedan              2006    auto   \n",
       "3245   2016-04-02 21:57:12  15500        sedan              2006    auto   \n",
       "4043   2016-03-07 02:37:10  14990          suv              2005    auto   \n",
       "5400   2016-03-07 15:56:11  12900        sedan              2005    auto   \n",
       "...                    ...    ...          ...               ...     ...   \n",
       "347540 2016-03-23 04:37:06  14900        sedan              2006    auto   \n",
       "348893 2016-03-23 12:55:34   4500        sedan              2001    auto   \n",
       "349985 2016-04-04 00:55:36  14950        coupe              2007    auto   \n",
       "350420 2016-03-25 16:57:36  19500  convertible              1997    auto   \n",
       "352248 2016-03-22 03:36:18  15900        sedan              2001  manual   \n",
       "\n",
       "        Power     Model  Kilometer  RegistrationMonth  FuelType  \\\n",
       "2332    375.0       7er     150000                  0    petrol   \n",
       "2901    387.0  s_klasse     150000                  7    petrol   \n",
       "3245    387.0  s_klasse     150000                  2    petrol   \n",
       "4043    350.0   cayenne     150000                 12       lpg   \n",
       "5400    367.0       7er     150000                  9    petrol   \n",
       "...       ...       ...        ...                ...       ...   \n",
       "347540  367.0       7er     150000                  1    petrol   \n",
       "348893  360.0  s_klasse     150000                  8  gasoline   \n",
       "349985  367.0       6er     150000                  6    petrol   \n",
       "350420  394.0        sl     150000                  1    petrol   \n",
       "352248  400.0   m_reihe     150000                  8    petrol   \n",
       "\n",
       "                Brand Repaired DateCreated  PostalCode            LastSeen  \n",
       "2332              bmw  unknown  2016-03-06       44329 2016-03-15 03:15:22  \n",
       "2901    mercedes_benz       no  2016-03-30       47443 2016-04-01 05:15:43  \n",
       "3245    mercedes_benz       no  2016-04-02       59065 2016-04-06 23:45:57  \n",
       "4043          porsche       no  2016-03-07       48691 2016-04-05 15:17:00  \n",
       "5400              bmw       no  2016-03-07       73066 2016-04-05 12:15:40  \n",
       "...               ...      ...         ...         ...                 ...  \n",
       "347540            bmw       no  2016-03-23       10709 2016-04-07 07:17:18  \n",
       "348893  mercedes_benz      yes  2016-03-23       13587 2016-03-29 06:18:03  \n",
       "349985            bmw       no  2016-04-04       22159 2016-04-06 09:16:39  \n",
       "350420  mercedes_benz       no  2016-03-25       25813 2016-04-06 22:45:01  \n",
       "352248            bmw       no  2016-03-22       58840 2016-04-05 18:44:40  \n",
       "\n",
       "[190 rows x 15 columns]"
      ]
     },
     "execution_count": 190,
     "metadata": {},
     "output_type": "execute_result"
    }
   ],
   "source": [
    "data[(data['Power'] >= 350)]"
   ]
  },
  {
   "cell_type": "markdown",
   "metadata": {},
   "source": [
    "Ну ладно, это премиум бибики, МО должно понять взаимосвязь. Ща только с ценой разберусь."
   ]
  },
  {
   "cell_type": "code",
   "execution_count": 191,
   "metadata": {},
   "outputs": [
    {
     "data": {
      "image/png": "[encoded data removed]",
      "text/plain": [
       "<Figure size 1000x600 with 1 Axes>"
      ]
     },
     "metadata": {},
     "output_type": "display_data"
    },
    {
     "data": {
      "image/png": "[encoded data removed]",
      "text/plain": [
       "<Figure size 1000x200 with 1 Axes>"
      ]
     },
     "metadata": {},
     "output_type": "display_data"
    }
   ],
   "source": [
    "# Гистограмма для Price\n",
    "\n",
    "data['Price'].plot(kind='hist', bins=50, figsize=(10,6), color='skyblue', edgecolor='black')\n",
    "plt.title('Распределение цен')\n",
    "plt.xlabel('Цена')\n",
    "plt.ylabel('Количество')\n",
    "plt.grid(True)\n",
    "plt.show()\n",
    "\n",
    "# Box plot для Price\n",
    "\n",
    "\n",
    "plt.figure(figsize=(10, 2))\n",
    "sns.boxplot(x=data['Price'], color='skyblue')\n",
    "plt.title('Boxplot цен')\n",
    "plt.xlabel('Цена')\n",
    "plt.grid(True)\n",
    "plt.show()\n"
   ]
  },
  {
   "cell_type": "code",
   "execution_count": 192,
   "metadata": {},
   "outputs": [
    {
     "name": "stdout",
     "output_type": "stream",
     "text": [
      "Q1: 1050.0, Q2 (median): 2700.0, Q3: 6400.0\n",
      "IQR: 5350.0\n",
      "Whisker bounds: -6975.0 ... 14425.0\n"
     ]
    }
   ],
   "source": [
    "q1 = data['Price'].quantile(0.25)\n",
    "q2 = data['Price'].median()\n",
    "q3 = data['Price'].quantile(0.75)\n",
    "iqr = q3 - q1\n",
    "lower_bound = q1 - 1.5 * iqr\n",
    "upper_bound = q3 + 1.5 * iqr\n",
    "\n",
    "print(f\"Q1: {q1}, Q2 (median): {q2}, Q3: {q3}\")\n",
    "print(f\"IQR: {iqr}\")\n",
    "print(f\"Whisker bounds: {lower_bound} ... {upper_bound}\")\n"
   ]
  },
  {
   "cell_type": "code",
   "execution_count": 193,
   "metadata": {},
   "outputs": [
    {
     "name": "stdout",
     "output_type": "stream",
     "text": [
      "Количество ниже границы: 334897\n",
      "Количество выше границы: 18918\n",
      "Отношение 0.06\n"
     ]
    }
   ],
   "source": [
    "per1 = len(data[data['Price'] < upper_bound])\n",
    "per2 = len(data[data['Price'] > upper_bound])\n",
    "per3 = per2/per1\n",
    "print('Количество ниже границы:', per1)\n",
    "print('Количество выше границы:', per2)\n",
    "print(f'Отношение {per3:.2f}')"
   ]
  },
  {
   "cell_type": "code",
   "execution_count": 194,
   "metadata": {},
   "outputs": [],
   "source": [
    "# Заменим все Price == 0 на медиану по модели, а то функция ниже не работает на такие случаи"
   ]
  },
  {
   "cell_type": "code",
   "execution_count": 195,
   "metadata": {},
   "outputs": [],
   "source": [
    "# 1. Медианы по Model и Brand:\n",
    "price_median_by_model = data[data['Price'] > 0].groupby('Model')['Price'].median()\n",
    "# Если модель other, то по Brand:\n",
    "price_median_by_brand = data[data['Price'] > 0].groupby('Brand')['Price'].median()\n",
    "overall_median = data[data['Price'] > 0]['Price'].median()\n",
    "\n",
    "# 2. Маска строк с нулевой ценой\n",
    "zero_price_mask = data['Price'] == 0\n",
    "\n",
    "# 3. Функция для замены\n",
    "def fill_zero_price(row):\n",
    "    if row['Price'] > 0:\n",
    "        return row['Price']\n",
    "    \n",
    "    model = row['Model']\n",
    "    brand = row['Brand']\n",
    "    \n",
    "    if pd.notna(model) and model != 'other' and model in price_median_by_model:\n",
    "        return round(price_median_by_model[model])\n",
    "    elif pd.notna(brand) and brand in price_median_by_brand:\n",
    "        return round(price_median_by_brand[brand])\n",
    "    else:\n",
    "        return round(overall_median)\n",
    "\n",
    "# 4. Применяем\n",
    "data.loc[zero_price_mask, 'Price'] = data.loc[zero_price_mask].apply(fill_zero_price, axis=1).astype(int)\n"
   ]
  },
  {
   "cell_type": "code",
   "execution_count": 196,
   "metadata": {},
   "outputs": [],
   "source": [
    "def replace_price_outliers_with_median(df, min_price=100):\n",
    "    df = df.copy()\n",
    "\n",
    "    for model, group in df.groupby('Model'):\n",
    "        q1 = group['Price'].quantile(0.25)\n",
    "        q3 = group['Price'].quantile(0.75)\n",
    "        iqr = q3 - q1\n",
    "\n",
    "        lower = q1 - 1.5 * iqr\n",
    "        upper = q3 + 1.5 * iqr\n",
    "        median = round(group['Price'].median())\n",
    "\n",
    "        # выбросы по IQR и по нижнему порогу\n",
    "        outliers_mask = (group['Price'] < lower) | (group['Price'] > upper) | (group['Price'] < min_price)\n",
    "\n",
    "        # заменяем по ИНДЕКСАМ внутри исходного df\n",
    "        outliers_idx = group[outliers_mask].index\n",
    "        df.loc[outliers_idx, 'Price'] = median\n",
    "\n",
    "    return df\n"
   ]
  },
  {
   "cell_type": "code",
   "execution_count": 197,
   "metadata": {},
   "outputs": [
    {
     "name": "stdout",
     "output_type": "stream",
     "text": [
      "       Price\n",
      "2179       1\n",
      "3462       1\n",
      "4481       1\n",
      "14418     47\n",
      "15561     85\n",
      "Empty DataFrame\n",
      "Columns: [Price]\n",
      "Index: []\n"
     ]
    }
   ],
   "source": [
    "print(data.query('Model == \"3er\" and Price < 100')[['Price']].head())\n",
    "\n",
    "data = replace_price_outliers_with_median(data, min_price=300)\n",
    "\n",
    "print(data.query('Model == \"3er\" and Price < 100')[['Price']].head())\n"
   ]
  },
  {
   "cell_type": "code",
   "execution_count": 198,
   "metadata": {},
   "outputs": [
    {
     "name": "stdout",
     "output_type": "stream",
     "text": [
      "Q1: 1890.0, Q3: 5999.0, IQR: 4109.0, Lower: -4273.5, Upper: 12162.5\n"
     ]
    }
   ],
   "source": [
    "group = data[data['Model'] == '3er']\n",
    "q1 = group['Price'].quantile(0.25)\n",
    "q3 = group['Price'].quantile(0.75)\n",
    "iqr = q3 - q1\n",
    "lower = q1 - 1.5 * iqr\n",
    "upper = q3 + 1.5 * iqr\n",
    "\n",
    "print(f\"Q1: {q1}, Q3: {q3}, IQR: {iqr}, Lower: {lower}, Upper: {upper}\")\n"
   ]
  },
  {
   "cell_type": "markdown",
   "metadata": {},
   "source": [
    "Можно попробовать прологарифмировать таргет, так как на линейные модели выбросы влияют, а на градиентный бустинг вроде бы и нет. Будет несколько таргетов"
   ]
  },
  {
   "cell_type": "code",
   "execution_count": 199,
   "metadata": {},
   "outputs": [
    {
     "data": {
      "image/png": "[encoded data removed]",
      "text/plain": [
       "<Figure size 1000x600 with 1 Axes>"
      ]
     },
     "metadata": {},
     "output_type": "display_data"
    },
    {
     "data": {
      "image/png": "[encoded data removed]",
      "text/plain": [
       "<Figure size 1000x200 with 1 Axes>"
      ]
     },
     "metadata": {},
     "output_type": "display_data"
    }
   ],
   "source": [
    "# Гистограмма для Price\n",
    "\n",
    "data['Price'].plot(kind='hist', bins=50, figsize=(10,6), color='skyblue', edgecolor='black')\n",
    "plt.title('Распределение цен')\n",
    "plt.xlabel('Цена')\n",
    "plt.ylabel('Количество')\n",
    "plt.grid(True)\n",
    "plt.show()\n",
    "\n",
    "# Box plot для Price\n",
    "\n",
    "\n",
    "plt.figure(figsize=(10, 2))\n",
    "sns.boxplot(x=data['Price'], color='skyblue')\n",
    "plt.title('Boxplot цен')\n",
    "plt.xlabel('Цена')\n",
    "plt.grid(True)\n",
    "plt.show()\n"
   ]
  },
  {
   "cell_type": "code",
   "execution_count": 200,
   "metadata": {},
   "outputs": [
    {
     "name": "stdout",
     "output_type": "stream",
     "text": [
      "Количество ниже границы: 342725\n",
      "Количество выше границы: 11090\n",
      "Отношение 0.03\n"
     ]
    }
   ],
   "source": [
    "per1 = len(data[data['Price'] < upper_bound])\n",
    "per2 = len(data[data['Price'] > upper_bound])\n",
    "per3 = per2/per1\n",
    "print('Количество ниже границы:', per1)\n",
    "print('Количество выше границы:', per2)\n",
    "print(f'Отношение {per3:.2f}')"
   ]
  },
  {
   "cell_type": "code",
   "execution_count": 201,
   "metadata": {},
   "outputs": [
    {
     "data": {
      "text/html": [
       "<div>\n",
       "<style scoped>\n",
       "    .dataframe tbody tr th:only-of-type {\n",
       "        vertical-align: middle;\n",
       "    }\n",
       "\n",
       "    .dataframe tbody tr th {\n",
       "        vertical-align: top;\n",
       "    }\n",
       "\n",
       "    .dataframe thead th {\n",
       "        text-align: right;\n",
       "    }\n",
       "</style>\n",
       "<table border=\"1\" class=\"dataframe\">\n",
       "  <thead>\n",
       "    <tr style=\"text-align: right;\">\n",
       "      <th></th>\n",
       "      <th>DateCrawled</th>\n",
       "      <th>Price</th>\n",
       "      <th>VehicleType</th>\n",
       "      <th>RegistrationYear</th>\n",
       "      <th>Gearbox</th>\n",
       "      <th>Power</th>\n",
       "      <th>Model</th>\n",
       "      <th>Kilometer</th>\n",
       "      <th>RegistrationMonth</th>\n",
       "      <th>FuelType</th>\n",
       "      <th>Brand</th>\n",
       "      <th>Repaired</th>\n",
       "      <th>DateCreated</th>\n",
       "      <th>PostalCode</th>\n",
       "      <th>LastSeen</th>\n",
       "    </tr>\n",
       "  </thead>\n",
       "  <tbody>\n",
       "    <tr>\n",
       "      <th>0</th>\n",
       "      <td>2016-03-24 11:52:17</td>\n",
       "      <td>480</td>\n",
       "      <td>sedan</td>\n",
       "      <td>1993</td>\n",
       "      <td>manual</td>\n",
       "      <td>75.0</td>\n",
       "      <td>golf</td>\n",
       "      <td>150000</td>\n",
       "      <td>0</td>\n",
       "      <td>petrol</td>\n",
       "      <td>volkswagen</td>\n",
       "      <td>unknown</td>\n",
       "      <td>2016-03-24</td>\n",
       "      <td>70435</td>\n",
       "      <td>2016-04-07 03:16:57</td>\n",
       "    </tr>\n",
       "    <tr>\n",
       "      <th>16</th>\n",
       "      <td>2016-04-01 12:46:46</td>\n",
       "      <td>300</td>\n",
       "      <td>small</td>\n",
       "      <td>2016</td>\n",
       "      <td>manual</td>\n",
       "      <td>60.0</td>\n",
       "      <td>polo</td>\n",
       "      <td>150000</td>\n",
       "      <td>0</td>\n",
       "      <td>petrol</td>\n",
       "      <td>volkswagen</td>\n",
       "      <td>unknown</td>\n",
       "      <td>2016-04-01</td>\n",
       "      <td>38871</td>\n",
       "      <td>2016-04-01 12:46:46</td>\n",
       "    </tr>\n",
       "    <tr>\n",
       "      <th>23</th>\n",
       "      <td>2016-03-12 19:43:07</td>\n",
       "      <td>450</td>\n",
       "      <td>small</td>\n",
       "      <td>1997</td>\n",
       "      <td>manual</td>\n",
       "      <td>50.0</td>\n",
       "      <td>arosa</td>\n",
       "      <td>150000</td>\n",
       "      <td>5</td>\n",
       "      <td>petrol</td>\n",
       "      <td>seat</td>\n",
       "      <td>no</td>\n",
       "      <td>2016-03-12</td>\n",
       "      <td>9526</td>\n",
       "      <td>2016-03-21 01:46:11</td>\n",
       "    </tr>\n",
       "    <tr>\n",
       "      <th>35</th>\n",
       "      <td>2016-03-08 07:54:46</td>\n",
       "      <td>350</td>\n",
       "      <td>sedan</td>\n",
       "      <td>2016</td>\n",
       "      <td>manual</td>\n",
       "      <td>75.0</td>\n",
       "      <td>golf</td>\n",
       "      <td>150000</td>\n",
       "      <td>4</td>\n",
       "      <td>petrol</td>\n",
       "      <td>volkswagen</td>\n",
       "      <td>no</td>\n",
       "      <td>2016-03-08</td>\n",
       "      <td>19386</td>\n",
       "      <td>2016-03-08 09:44:50</td>\n",
       "    </tr>\n",
       "    <tr>\n",
       "      <th>81</th>\n",
       "      <td>2016-04-03 12:56:45</td>\n",
       "      <td>350</td>\n",
       "      <td>small</td>\n",
       "      <td>1997</td>\n",
       "      <td>manual</td>\n",
       "      <td>54.0</td>\n",
       "      <td>punto</td>\n",
       "      <td>150000</td>\n",
       "      <td>3</td>\n",
       "      <td>petrol</td>\n",
       "      <td>fiat</td>\n",
       "      <td>yes</td>\n",
       "      <td>2016-04-03</td>\n",
       "      <td>45665</td>\n",
       "      <td>2016-04-05 11:47:13</td>\n",
       "    </tr>\n",
       "    <tr>\n",
       "      <th>...</th>\n",
       "      <td>...</td>\n",
       "      <td>...</td>\n",
       "      <td>...</td>\n",
       "      <td>...</td>\n",
       "      <td>...</td>\n",
       "      <td>...</td>\n",
       "      <td>...</td>\n",
       "      <td>...</td>\n",
       "      <td>...</td>\n",
       "      <td>...</td>\n",
       "      <td>...</td>\n",
       "      <td>...</td>\n",
       "      <td>...</td>\n",
       "      <td>...</td>\n",
       "      <td>...</td>\n",
       "    </tr>\n",
       "    <tr>\n",
       "      <th>354296</th>\n",
       "      <td>2016-03-30 19:49:48</td>\n",
       "      <td>450</td>\n",
       "      <td>small</td>\n",
       "      <td>1997</td>\n",
       "      <td>manual</td>\n",
       "      <td>102.0</td>\n",
       "      <td>3er</td>\n",
       "      <td>150000</td>\n",
       "      <td>6</td>\n",
       "      <td>petrol</td>\n",
       "      <td>bmw</td>\n",
       "      <td>no</td>\n",
       "      <td>2016-03-30</td>\n",
       "      <td>66892</td>\n",
       "      <td>2016-04-01 14:46:24</td>\n",
       "    </tr>\n",
       "    <tr>\n",
       "      <th>354297</th>\n",
       "      <td>2016-03-11 12:52:58</td>\n",
       "      <td>400</td>\n",
       "      <td>wagon</td>\n",
       "      <td>1996</td>\n",
       "      <td>manual</td>\n",
       "      <td>150.0</td>\n",
       "      <td>a4</td>\n",
       "      <td>150000</td>\n",
       "      <td>0</td>\n",
       "      <td>petrol</td>\n",
       "      <td>audi</td>\n",
       "      <td>unknown</td>\n",
       "      <td>2016-03-11</td>\n",
       "      <td>85110</td>\n",
       "      <td>2016-03-11 13:43:10</td>\n",
       "    </tr>\n",
       "    <tr>\n",
       "      <th>354318</th>\n",
       "      <td>2016-03-15 19:57:11</td>\n",
       "      <td>400</td>\n",
       "      <td>wagon</td>\n",
       "      <td>1991</td>\n",
       "      <td>manual</td>\n",
       "      <td>109.5</td>\n",
       "      <td>legacy</td>\n",
       "      <td>150000</td>\n",
       "      <td>0</td>\n",
       "      <td>petrol</td>\n",
       "      <td>subaru</td>\n",
       "      <td>unknown</td>\n",
       "      <td>2016-03-15</td>\n",
       "      <td>24558</td>\n",
       "      <td>2016-03-19 15:49:00</td>\n",
       "    </tr>\n",
       "    <tr>\n",
       "      <th>354329</th>\n",
       "      <td>2016-03-30 20:55:30</td>\n",
       "      <td>350</td>\n",
       "      <td>small</td>\n",
       "      <td>1996</td>\n",
       "      <td>manual</td>\n",
       "      <td>65.0</td>\n",
       "      <td>punto</td>\n",
       "      <td>150000</td>\n",
       "      <td>0</td>\n",
       "      <td>petrol</td>\n",
       "      <td>fiat</td>\n",
       "      <td>unknown</td>\n",
       "      <td>2016-03-30</td>\n",
       "      <td>25436</td>\n",
       "      <td>2016-04-07 13:50:41</td>\n",
       "    </tr>\n",
       "    <tr>\n",
       "      <th>354335</th>\n",
       "      <td>2016-04-04 14:41:28</td>\n",
       "      <td>390</td>\n",
       "      <td>small</td>\n",
       "      <td>1997</td>\n",
       "      <td>auto</td>\n",
       "      <td>60.0</td>\n",
       "      <td>corsa</td>\n",
       "      <td>100000</td>\n",
       "      <td>6</td>\n",
       "      <td>petrol</td>\n",
       "      <td>opel</td>\n",
       "      <td>yes</td>\n",
       "      <td>2016-04-04</td>\n",
       "      <td>17509</td>\n",
       "      <td>2016-04-06 15:46:11</td>\n",
       "    </tr>\n",
       "  </tbody>\n",
       "</table>\n",
       "<p>12849 rows × 15 columns</p>\n",
       "</div>"
      ],
      "text/plain": [
       "               DateCrawled  Price VehicleType  RegistrationYear Gearbox  \\\n",
       "0      2016-03-24 11:52:17    480       sedan              1993  manual   \n",
       "16     2016-04-01 12:46:46    300       small              2016  manual   \n",
       "23     2016-03-12 19:43:07    450       small              1997  manual   \n",
       "35     2016-03-08 07:54:46    350       sedan              2016  manual   \n",
       "81     2016-04-03 12:56:45    350       small              1997  manual   \n",
       "...                    ...    ...         ...               ...     ...   \n",
       "354296 2016-03-30 19:49:48    450       small              1997  manual   \n",
       "354297 2016-03-11 12:52:58    400       wagon              1996  manual   \n",
       "354318 2016-03-15 19:57:11    400       wagon              1991  manual   \n",
       "354329 2016-03-30 20:55:30    350       small              1996  manual   \n",
       "354335 2016-04-04 14:41:28    390       small              1997    auto   \n",
       "\n",
       "        Power   Model  Kilometer  RegistrationMonth FuelType       Brand  \\\n",
       "0        75.0    golf     150000                  0   petrol  volkswagen   \n",
       "16       60.0    polo     150000                  0   petrol  volkswagen   \n",
       "23       50.0   arosa     150000                  5   petrol        seat   \n",
       "35       75.0    golf     150000                  4   petrol  volkswagen   \n",
       "81       54.0   punto     150000                  3   petrol        fiat   \n",
       "...       ...     ...        ...                ...      ...         ...   \n",
       "354296  102.0     3er     150000                  6   petrol         bmw   \n",
       "354297  150.0      a4     150000                  0   petrol        audi   \n",
       "354318  109.5  legacy     150000                  0   petrol      subaru   \n",
       "354329   65.0   punto     150000                  0   petrol        fiat   \n",
       "354335   60.0   corsa     100000                  6   petrol        opel   \n",
       "\n",
       "       Repaired DateCreated  PostalCode            LastSeen  \n",
       "0       unknown  2016-03-24       70435 2016-04-07 03:16:57  \n",
       "16      unknown  2016-04-01       38871 2016-04-01 12:46:46  \n",
       "23           no  2016-03-12        9526 2016-03-21 01:46:11  \n",
       "35           no  2016-03-08       19386 2016-03-08 09:44:50  \n",
       "81          yes  2016-04-03       45665 2016-04-05 11:47:13  \n",
       "...         ...         ...         ...                 ...  \n",
       "354296       no  2016-03-30       66892 2016-04-01 14:46:24  \n",
       "354297  unknown  2016-03-11       85110 2016-03-11 13:43:10  \n",
       "354318  unknown  2016-03-15       24558 2016-03-19 15:49:00  \n",
       "354329  unknown  2016-03-30       25436 2016-04-07 13:50:41  \n",
       "354335      yes  2016-04-04       17509 2016-04-06 15:46:11  \n",
       "\n",
       "[12849 rows x 15 columns]"
      ]
     },
     "execution_count": 201,
     "metadata": {},
     "output_type": "execute_result"
    }
   ],
   "source": [
    "data.query('Price < 500')"
   ]
  },
  {
   "cell_type": "code",
   "execution_count": 202,
   "metadata": {},
   "outputs": [
    {
     "name": "stdout",
     "output_type": "stream",
     "text": [
      "Model    12849\n",
      "Price    12849\n",
      "dtype: int64\n"
     ]
    }
   ],
   "source": [
    "print(data.query('Price < 500')[['Model', 'Price']].count())\n"
   ]
  },
  {
   "cell_type": "markdown",
   "metadata": {},
   "source": [
    "Решил выкинуть 3.6% данных — пусть модель не захлёбывается в шуме:\n",
    "\n",
    "Будет надежная модель.\n",
    "Любые аномально низкие, шумные или искусственные значения будут: тянуть модель вниз, искажать распределение, портить rmse, снижать обобщающую способность."
   ]
  },
  {
   "cell_type": "code",
   "execution_count": 203,
   "metadata": {},
   "outputs": [],
   "source": [
    "data = data[data['Price'] >= 500]\n"
   ]
  },
  {
   "cell_type": "code",
   "execution_count": 204,
   "metadata": {},
   "outputs": [],
   "source": [
    "#Летс гооу"
   ]
  },
  {
   "cell_type": "markdown",
   "metadata": {},
   "source": [
    "Мб буду использовать:"
   ]
  },
  {
   "cell_type": "code",
   "execution_count": 205,
   "metadata": {},
   "outputs": [],
   "source": [
    "data['Price_log'] = np.log1p(data['Price'])"
   ]
  },
  {
   "cell_type": "code",
   "execution_count": 206,
   "metadata": {},
   "outputs": [
    {
     "data": {
      "image/png": "[encoded data removed]",
      "text/plain": [
       "<Figure size 1300x600 with 1 Axes>"
      ]
     },
     "metadata": {},
     "output_type": "display_data"
    }
   ],
   "source": [
    "# Получаем частоты\n",
    "vehicle_counts = data['VehicleType'].value_counts()\n",
    "\n",
    "# Строим диаграмму\n",
    "vehicle_counts.plot(kind='bar', figsize=(13, 6), color='skyblue', edgecolor='black')\n",
    "\n",
    "# Оформление\n",
    "\n",
    "plt.title('Распределение типов кузова (VehicleType)', fontsize=16)\n",
    "#plt.xlabel('Тип кузова', fontsize=14)\n",
    "#plt.ylabel('Количество', fontsize=14)\n",
    "plt.xticks(rotation=45, fontsize=14)\n",
    "plt.yticks(fontsize=14)\n",
    "plt.grid(axis='y', linestyle='--', alpha=0.8)\n",
    "\n",
    "plt.tight_layout()\n",
    "plt.show()\n"
   ]
  },
  {
   "cell_type": "code",
   "execution_count": 207,
   "metadata": {},
   "outputs": [
    {
     "data": {
      "image/png": "[encoded data removed]",
      "text/plain": [
       "<Figure size 1300x600 with 1 Axes>"
      ]
     },
     "metadata": {},
     "output_type": "display_data"
    }
   ],
   "source": [
    "# Получаем частоты\n",
    "vehicle_counts = data['Model'].value_counts().head(20)\n",
    "\n",
    "# Строим диаграмму\n",
    "vehicle_counts.plot(kind='bar', figsize=(13, 6), color='skyblue', edgecolor='black')\n",
    "\n",
    "# Оформление\n",
    "\n",
    "plt.title('Распределение типов кузова (VehicleType)', fontsize=16)\n",
    "plt.xlabel('Тип кузова', fontsize=14)\n",
    "plt.ylabel('Количество', fontsize=14)\n",
    "plt.xticks(rotation=45, fontsize=14)\n",
    "plt.yticks(fontsize=14)\n",
    "plt.grid(axis='y', linestyle='--', alpha=0.8)\n",
    "\n",
    "plt.tight_layout()\n",
    "plt.show()\n"
   ]
  },
  {
   "cell_type": "code",
   "execution_count": 208,
   "metadata": {},
   "outputs": [
    {
     "data": {
      "text/html": [
       "<div>\n",
       "<style scoped>\n",
       "    .dataframe tbody tr th:only-of-type {\n",
       "        vertical-align: middle;\n",
       "    }\n",
       "\n",
       "    .dataframe tbody tr th {\n",
       "        vertical-align: top;\n",
       "    }\n",
       "\n",
       "    .dataframe thead th {\n",
       "        text-align: right;\n",
       "    }\n",
       "</style>\n",
       "<table border=\"1\" class=\"dataframe\">\n",
       "  <thead>\n",
       "    <tr style=\"text-align: right;\">\n",
       "      <th></th>\n",
       "      <th>DateCrawled</th>\n",
       "      <th>Price</th>\n",
       "      <th>VehicleType</th>\n",
       "      <th>RegistrationYear</th>\n",
       "      <th>Gearbox</th>\n",
       "      <th>Power</th>\n",
       "      <th>Model</th>\n",
       "      <th>Kilometer</th>\n",
       "      <th>RegistrationMonth</th>\n",
       "      <th>FuelType</th>\n",
       "      <th>Brand</th>\n",
       "      <th>Repaired</th>\n",
       "      <th>DateCreated</th>\n",
       "      <th>PostalCode</th>\n",
       "      <th>LastSeen</th>\n",
       "      <th>Price_log</th>\n",
       "    </tr>\n",
       "  </thead>\n",
       "  <tbody>\n",
       "    <tr>\n",
       "      <th>22</th>\n",
       "      <td>2016-03-23 14:52:51</td>\n",
       "      <td>2900</td>\n",
       "      <td>bus</td>\n",
       "      <td>2018</td>\n",
       "      <td>manual</td>\n",
       "      <td>101.0</td>\n",
       "      <td>meriva</td>\n",
       "      <td>150000</td>\n",
       "      <td>5</td>\n",
       "      <td>petrol</td>\n",
       "      <td>opel</td>\n",
       "      <td>no</td>\n",
       "      <td>2016-03-23</td>\n",
       "      <td>49716</td>\n",
       "      <td>2016-03-31 01:16:33</td>\n",
       "      <td>7.972811</td>\n",
       "    </tr>\n",
       "    <tr>\n",
       "      <th>26</th>\n",
       "      <td>2016-03-10 19:38:18</td>\n",
       "      <td>5555</td>\n",
       "      <td>sedan</td>\n",
       "      <td>2017</td>\n",
       "      <td>manual</td>\n",
       "      <td>125.0</td>\n",
       "      <td>c4</td>\n",
       "      <td>125000</td>\n",
       "      <td>4</td>\n",
       "      <td>gasoline</td>\n",
       "      <td>citroen</td>\n",
       "      <td>no</td>\n",
       "      <td>2016-03-10</td>\n",
       "      <td>31139</td>\n",
       "      <td>2016-03-16 09:16:46</td>\n",
       "      <td>8.622634</td>\n",
       "    </tr>\n",
       "    <tr>\n",
       "      <th>48</th>\n",
       "      <td>2016-03-25 14:40:12</td>\n",
       "      <td>7750</td>\n",
       "      <td>sedan</td>\n",
       "      <td>2017</td>\n",
       "      <td>manual</td>\n",
       "      <td>80.0</td>\n",
       "      <td>golf</td>\n",
       "      <td>100000</td>\n",
       "      <td>1</td>\n",
       "      <td>petrol</td>\n",
       "      <td>volkswagen</td>\n",
       "      <td>unknown</td>\n",
       "      <td>2016-03-25</td>\n",
       "      <td>48499</td>\n",
       "      <td>2016-03-31 21:47:44</td>\n",
       "      <td>8.955577</td>\n",
       "    </tr>\n",
       "    <tr>\n",
       "      <th>51</th>\n",
       "      <td>2016-03-07 18:57:08</td>\n",
       "      <td>2000</td>\n",
       "      <td>small</td>\n",
       "      <td>2017</td>\n",
       "      <td>manual</td>\n",
       "      <td>90.0</td>\n",
       "      <td>punto</td>\n",
       "      <td>150000</td>\n",
       "      <td>11</td>\n",
       "      <td>gasoline</td>\n",
       "      <td>fiat</td>\n",
       "      <td>yes</td>\n",
       "      <td>2016-03-07</td>\n",
       "      <td>66115</td>\n",
       "      <td>2016-03-07 18:57:08</td>\n",
       "      <td>7.601402</td>\n",
       "    </tr>\n",
       "    <tr>\n",
       "      <th>57</th>\n",
       "      <td>2016-03-10 20:53:19</td>\n",
       "      <td>2399</td>\n",
       "      <td>sedan</td>\n",
       "      <td>2018</td>\n",
       "      <td>manual</td>\n",
       "      <td>64.0</td>\n",
       "      <td>other</td>\n",
       "      <td>125000</td>\n",
       "      <td>3</td>\n",
       "      <td>petrol</td>\n",
       "      <td>seat</td>\n",
       "      <td>no</td>\n",
       "      <td>2016-03-10</td>\n",
       "      <td>33397</td>\n",
       "      <td>2016-03-25 10:17:37</td>\n",
       "      <td>7.783224</td>\n",
       "    </tr>\n",
       "    <tr>\n",
       "      <th>...</th>\n",
       "      <td>...</td>\n",
       "      <td>...</td>\n",
       "      <td>...</td>\n",
       "      <td>...</td>\n",
       "      <td>...</td>\n",
       "      <td>...</td>\n",
       "      <td>...</td>\n",
       "      <td>...</td>\n",
       "      <td>...</td>\n",
       "      <td>...</td>\n",
       "      <td>...</td>\n",
       "      <td>...</td>\n",
       "      <td>...</td>\n",
       "      <td>...</td>\n",
       "      <td>...</td>\n",
       "      <td>...</td>\n",
       "    </tr>\n",
       "    <tr>\n",
       "      <th>354112</th>\n",
       "      <td>2016-03-11 15:49:51</td>\n",
       "      <td>3600</td>\n",
       "      <td>bus</td>\n",
       "      <td>2017</td>\n",
       "      <td>manual</td>\n",
       "      <td>86.0</td>\n",
       "      <td>transit</td>\n",
       "      <td>150000</td>\n",
       "      <td>5</td>\n",
       "      <td>gasoline</td>\n",
       "      <td>ford</td>\n",
       "      <td>unknown</td>\n",
       "      <td>2016-03-11</td>\n",
       "      <td>32339</td>\n",
       "      <td>2016-03-12 05:45:02</td>\n",
       "      <td>8.188967</td>\n",
       "    </tr>\n",
       "    <tr>\n",
       "      <th>354140</th>\n",
       "      <td>2016-03-29 16:47:29</td>\n",
       "      <td>1000</td>\n",
       "      <td>wagon</td>\n",
       "      <td>2017</td>\n",
       "      <td>manual</td>\n",
       "      <td>101.0</td>\n",
       "      <td>a4</td>\n",
       "      <td>150000</td>\n",
       "      <td>9</td>\n",
       "      <td>gasoline</td>\n",
       "      <td>audi</td>\n",
       "      <td>unknown</td>\n",
       "      <td>2016-03-29</td>\n",
       "      <td>38315</td>\n",
       "      <td>2016-04-06 02:44:27</td>\n",
       "      <td>6.908755</td>\n",
       "    </tr>\n",
       "    <tr>\n",
       "      <th>354203</th>\n",
       "      <td>2016-03-17 00:56:26</td>\n",
       "      <td>2140</td>\n",
       "      <td>small</td>\n",
       "      <td>2018</td>\n",
       "      <td>manual</td>\n",
       "      <td>80.0</td>\n",
       "      <td>fiesta</td>\n",
       "      <td>150000</td>\n",
       "      <td>6</td>\n",
       "      <td>petrol</td>\n",
       "      <td>ford</td>\n",
       "      <td>no</td>\n",
       "      <td>2016-03-17</td>\n",
       "      <td>44866</td>\n",
       "      <td>2016-03-29 15:45:04</td>\n",
       "      <td>7.669028</td>\n",
       "    </tr>\n",
       "    <tr>\n",
       "      <th>354253</th>\n",
       "      <td>2016-03-25 09:37:59</td>\n",
       "      <td>1250</td>\n",
       "      <td>small</td>\n",
       "      <td>2018</td>\n",
       "      <td>manual</td>\n",
       "      <td>66.5</td>\n",
       "      <td>corsa</td>\n",
       "      <td>150000</td>\n",
       "      <td>0</td>\n",
       "      <td>petrol</td>\n",
       "      <td>opel</td>\n",
       "      <td>unknown</td>\n",
       "      <td>2016-03-25</td>\n",
       "      <td>45527</td>\n",
       "      <td>2016-04-06 07:46:13</td>\n",
       "      <td>7.131699</td>\n",
       "    </tr>\n",
       "    <tr>\n",
       "      <th>354289</th>\n",
       "      <td>2016-03-05 14:55:29</td>\n",
       "      <td>5000</td>\n",
       "      <td>sedan</td>\n",
       "      <td>2017</td>\n",
       "      <td>manual</td>\n",
       "      <td>120.0</td>\n",
       "      <td>other</td>\n",
       "      <td>150000</td>\n",
       "      <td>7</td>\n",
       "      <td>petrol</td>\n",
       "      <td>citroen</td>\n",
       "      <td>yes</td>\n",
       "      <td>2016-03-05</td>\n",
       "      <td>15518</td>\n",
       "      <td>2016-04-05 11:48:09</td>\n",
       "      <td>8.517393</td>\n",
       "    </tr>\n",
       "  </tbody>\n",
       "</table>\n",
       "<p>13958 rows × 16 columns</p>\n",
       "</div>"
      ],
      "text/plain": [
       "               DateCrawled  Price VehicleType  RegistrationYear Gearbox  \\\n",
       "22     2016-03-23 14:52:51   2900         bus              2018  manual   \n",
       "26     2016-03-10 19:38:18   5555       sedan              2017  manual   \n",
       "48     2016-03-25 14:40:12   7750       sedan              2017  manual   \n",
       "51     2016-03-07 18:57:08   2000       small              2017  manual   \n",
       "57     2016-03-10 20:53:19   2399       sedan              2018  manual   \n",
       "...                    ...    ...         ...               ...     ...   \n",
       "354112 2016-03-11 15:49:51   3600         bus              2017  manual   \n",
       "354140 2016-03-29 16:47:29   1000       wagon              2017  manual   \n",
       "354203 2016-03-17 00:56:26   2140       small              2018  manual   \n",
       "354253 2016-03-25 09:37:59   1250       small              2018  manual   \n",
       "354289 2016-03-05 14:55:29   5000       sedan              2017  manual   \n",
       "\n",
       "        Power    Model  Kilometer  RegistrationMonth  FuelType       Brand  \\\n",
       "22      101.0   meriva     150000                  5    petrol        opel   \n",
       "26      125.0       c4     125000                  4  gasoline     citroen   \n",
       "48       80.0     golf     100000                  1    petrol  volkswagen   \n",
       "51       90.0    punto     150000                 11  gasoline        fiat   \n",
       "57       64.0    other     125000                  3    petrol        seat   \n",
       "...       ...      ...        ...                ...       ...         ...   \n",
       "354112   86.0  transit     150000                  5  gasoline        ford   \n",
       "354140  101.0       a4     150000                  9  gasoline        audi   \n",
       "354203   80.0   fiesta     150000                  6    petrol        ford   \n",
       "354253   66.5    corsa     150000                  0    petrol        opel   \n",
       "354289  120.0    other     150000                  7    petrol     citroen   \n",
       "\n",
       "       Repaired DateCreated  PostalCode            LastSeen  Price_log  \n",
       "22           no  2016-03-23       49716 2016-03-31 01:16:33   7.972811  \n",
       "26           no  2016-03-10       31139 2016-03-16 09:16:46   8.622634  \n",
       "48      unknown  2016-03-25       48499 2016-03-31 21:47:44   8.955577  \n",
       "51          yes  2016-03-07       66115 2016-03-07 18:57:08   7.601402  \n",
       "57           no  2016-03-10       33397 2016-03-25 10:17:37   7.783224  \n",
       "...         ...         ...         ...                 ...        ...  \n",
       "354112  unknown  2016-03-11       32339 2016-03-12 05:45:02   8.188967  \n",
       "354140  unknown  2016-03-29       38315 2016-04-06 02:44:27   6.908755  \n",
       "354203       no  2016-03-17       44866 2016-03-29 15:45:04   7.669028  \n",
       "354253  unknown  2016-03-25       45527 2016-04-06 07:46:13   7.131699  \n",
       "354289      yes  2016-03-05       15518 2016-04-05 11:48:09   8.517393  \n",
       "\n",
       "[13958 rows x 16 columns]"
      ]
     },
     "execution_count": 208,
     "metadata": {},
     "output_type": "execute_result"
    }
   ],
   "source": [
    "data.query('RegistrationYear > 2016')"
   ]
  },
  {
   "cell_type": "code",
   "execution_count": 209,
   "metadata": {},
   "outputs": [
    {
     "data": {
      "text/html": [
       "<div>\n",
       "<style scoped>\n",
       "    .dataframe tbody tr th:only-of-type {\n",
       "        vertical-align: middle;\n",
       "    }\n",
       "\n",
       "    .dataframe tbody tr th {\n",
       "        vertical-align: top;\n",
       "    }\n",
       "\n",
       "    .dataframe thead th {\n",
       "        text-align: right;\n",
       "    }\n",
       "</style>\n",
       "<table border=\"1\" class=\"dataframe\">\n",
       "  <thead>\n",
       "    <tr style=\"text-align: right;\">\n",
       "      <th></th>\n",
       "      <th>DateCrawled</th>\n",
       "      <th>Price</th>\n",
       "      <th>VehicleType</th>\n",
       "      <th>RegistrationYear</th>\n",
       "      <th>Gearbox</th>\n",
       "      <th>Power</th>\n",
       "      <th>Model</th>\n",
       "      <th>Kilometer</th>\n",
       "      <th>RegistrationMonth</th>\n",
       "      <th>FuelType</th>\n",
       "      <th>Brand</th>\n",
       "      <th>Repaired</th>\n",
       "      <th>DateCreated</th>\n",
       "      <th>PostalCode</th>\n",
       "      <th>LastSeen</th>\n",
       "      <th>Price_log</th>\n",
       "    </tr>\n",
       "  </thead>\n",
       "  <tbody>\n",
       "  </tbody>\n",
       "</table>\n",
       "</div>"
      ],
      "text/plain": [
       "Empty DataFrame\n",
       "Columns: [DateCrawled, Price, VehicleType, RegistrationYear, Gearbox, Power, Model, Kilometer, RegistrationMonth, FuelType, Brand, Repaired, DateCreated, PostalCode, LastSeen, Price_log]\n",
       "Index: []"
      ]
     },
     "execution_count": 209,
     "metadata": {},
     "output_type": "execute_result"
    }
   ],
   "source": [
    "data.query('RegistrationYear < 1930')"
   ]
  },
  {
   "cell_type": "code",
   "execution_count": 210,
   "metadata": {},
   "outputs": [
    {
     "name": "stdout",
     "output_type": "stream",
     "text": [
      "<class 'pandas.core.frame.DataFrame'>\n",
      "Index: 340966 entries, 1 to 354368\n",
      "Data columns (total 16 columns):\n",
      " #   Column             Non-Null Count   Dtype         \n",
      "---  ------             --------------   -----         \n",
      " 0   DateCrawled        340966 non-null  datetime64[ns]\n",
      " 1   Price              340966 non-null  int64         \n",
      " 2   VehicleType        340966 non-null  object        \n",
      " 3   RegistrationYear   340966 non-null  int64         \n",
      " 4   Gearbox            340966 non-null  object        \n",
      " 5   Power              340966 non-null  float64       \n",
      " 6   Model              340966 non-null  object        \n",
      " 7   Kilometer          340966 non-null  int64         \n",
      " 8   RegistrationMonth  340966 non-null  int64         \n",
      " 9   FuelType           340966 non-null  object        \n",
      " 10  Brand              340966 non-null  object        \n",
      " 11  Repaired           340966 non-null  object        \n",
      " 12  DateCreated        340966 non-null  datetime64[ns]\n",
      " 13  PostalCode         340966 non-null  int64         \n",
      " 14  LastSeen           340966 non-null  datetime64[ns]\n",
      " 15  Price_log          340966 non-null  float64       \n",
      "dtypes: datetime64[ns](3), float64(2), int64(5), object(6)\n",
      "memory usage: 44.2+ MB\n"
     ]
    }
   ],
   "source": [
    "data.info()"
   ]
  },
  {
   "cell_type": "code",
   "execution_count": null,
   "metadata": {},
   "outputs": [],
   "source": []
  },
  {
   "cell_type": "code",
   "execution_count": null,
   "metadata": {},
   "outputs": [],
   "source": []
  },
  {
   "cell_type": "code",
   "execution_count": 211,
   "metadata": {},
   "outputs": [
    {
     "data": {
      "image/png": "[encoded data removed]",
      "text/plain": [
       "<Figure size 1200x600 with 1 Axes>"
      ]
     },
     "metadata": {},
     "output_type": "display_data"
    }
   ],
   "source": [
    "data['RegistrationYear'].plot(kind='hist', bins=50, figsize=(12,6), color='skyblue', edgecolor='black')\n",
    "plt.title('Распределение года регистрации автомобилей')\n",
    "plt.xlabel('Год регистрации')\n",
    "plt.ylabel('Количество')\n",
    "plt.grid(True)\n",
    "plt.show()\n"
   ]
  },
  {
   "cell_type": "code",
   "execution_count": 212,
   "metadata": {},
   "outputs": [
    {
     "data": {
      "text/html": [
       "<div>\n",
       "<style scoped>\n",
       "    .dataframe tbody tr th:only-of-type {\n",
       "        vertical-align: middle;\n",
       "    }\n",
       "\n",
       "    .dataframe tbody tr th {\n",
       "        vertical-align: top;\n",
       "    }\n",
       "\n",
       "    .dataframe thead th {\n",
       "        text-align: right;\n",
       "    }\n",
       "</style>\n",
       "<table border=\"1\" class=\"dataframe\">\n",
       "  <thead>\n",
       "    <tr style=\"text-align: right;\">\n",
       "      <th></th>\n",
       "      <th>DateCrawled</th>\n",
       "      <th>Price</th>\n",
       "      <th>VehicleType</th>\n",
       "      <th>RegistrationYear</th>\n",
       "      <th>Gearbox</th>\n",
       "      <th>Power</th>\n",
       "      <th>Model</th>\n",
       "      <th>Kilometer</th>\n",
       "      <th>RegistrationMonth</th>\n",
       "      <th>FuelType</th>\n",
       "      <th>Brand</th>\n",
       "      <th>Repaired</th>\n",
       "      <th>DateCreated</th>\n",
       "      <th>PostalCode</th>\n",
       "      <th>LastSeen</th>\n",
       "      <th>Price_log</th>\n",
       "    </tr>\n",
       "  </thead>\n",
       "  <tbody>\n",
       "    <tr>\n",
       "      <th>7</th>\n",
       "      <td>2016-03-21 18:54:38</td>\n",
       "      <td>2800</td>\n",
       "      <td>sedan</td>\n",
       "      <td>1980</td>\n",
       "      <td>manual</td>\n",
       "      <td>50.0</td>\n",
       "      <td>other</td>\n",
       "      <td>40000</td>\n",
       "      <td>7</td>\n",
       "      <td>petrol</td>\n",
       "      <td>volkswagen</td>\n",
       "      <td>no</td>\n",
       "      <td>2016-03-21</td>\n",
       "      <td>19348</td>\n",
       "      <td>2016-03-25 16:47:58</td>\n",
       "      <td>7.937732</td>\n",
       "    </tr>\n",
       "    <tr>\n",
       "      <th>28</th>\n",
       "      <td>2016-03-09 11:56:38</td>\n",
       "      <td>1990</td>\n",
       "      <td>bus</td>\n",
       "      <td>1981</td>\n",
       "      <td>manual</td>\n",
       "      <td>50.0</td>\n",
       "      <td>transporter</td>\n",
       "      <td>5000</td>\n",
       "      <td>1</td>\n",
       "      <td>petrol</td>\n",
       "      <td>volkswagen</td>\n",
       "      <td>no</td>\n",
       "      <td>2016-03-09</td>\n",
       "      <td>87471</td>\n",
       "      <td>2016-03-10 07:44:33</td>\n",
       "      <td>7.596392</td>\n",
       "    </tr>\n",
       "    <tr>\n",
       "      <th>232</th>\n",
       "      <td>2016-03-12 08:51:00</td>\n",
       "      <td>1000</td>\n",
       "      <td>suv</td>\n",
       "      <td>1982</td>\n",
       "      <td>manual</td>\n",
       "      <td>41.0</td>\n",
       "      <td>other</td>\n",
       "      <td>150000</td>\n",
       "      <td>11</td>\n",
       "      <td>petrol</td>\n",
       "      <td>suzuki</td>\n",
       "      <td>unknown</td>\n",
       "      <td>2016-03-12</td>\n",
       "      <td>56337</td>\n",
       "      <td>2016-03-13 00:45:46</td>\n",
       "      <td>6.908755</td>\n",
       "    </tr>\n",
       "    <tr>\n",
       "      <th>360</th>\n",
       "      <td>2016-03-17 14:52:07</td>\n",
       "      <td>10000</td>\n",
       "      <td>bus</td>\n",
       "      <td>1976</td>\n",
       "      <td>manual</td>\n",
       "      <td>50.0</td>\n",
       "      <td>transporter</td>\n",
       "      <td>5000</td>\n",
       "      <td>0</td>\n",
       "      <td>petrol</td>\n",
       "      <td>volkswagen</td>\n",
       "      <td>unknown</td>\n",
       "      <td>2016-03-17</td>\n",
       "      <td>73479</td>\n",
       "      <td>2016-03-19 14:21:08</td>\n",
       "      <td>9.210440</td>\n",
       "    </tr>\n",
       "    <tr>\n",
       "      <th>532</th>\n",
       "      <td>2016-03-07 18:39:04</td>\n",
       "      <td>6500</td>\n",
       "      <td>convertible</td>\n",
       "      <td>1981</td>\n",
       "      <td>auto</td>\n",
       "      <td>204.0</td>\n",
       "      <td>sl</td>\n",
       "      <td>150000</td>\n",
       "      <td>3</td>\n",
       "      <td>petrol</td>\n",
       "      <td>mercedes_benz</td>\n",
       "      <td>yes</td>\n",
       "      <td>2016-03-07</td>\n",
       "      <td>13125</td>\n",
       "      <td>2016-03-09 07:46:08</td>\n",
       "      <td>8.779711</td>\n",
       "    </tr>\n",
       "    <tr>\n",
       "      <th>...</th>\n",
       "      <td>...</td>\n",
       "      <td>...</td>\n",
       "      <td>...</td>\n",
       "      <td>...</td>\n",
       "      <td>...</td>\n",
       "      <td>...</td>\n",
       "      <td>...</td>\n",
       "      <td>...</td>\n",
       "      <td>...</td>\n",
       "      <td>...</td>\n",
       "      <td>...</td>\n",
       "      <td>...</td>\n",
       "      <td>...</td>\n",
       "      <td>...</td>\n",
       "      <td>...</td>\n",
       "      <td>...</td>\n",
       "    </tr>\n",
       "    <tr>\n",
       "      <th>353993</th>\n",
       "      <td>2016-03-31 00:50:02</td>\n",
       "      <td>7000</td>\n",
       "      <td>coupe</td>\n",
       "      <td>1980</td>\n",
       "      <td>auto</td>\n",
       "      <td>114.0</td>\n",
       "      <td>other</td>\n",
       "      <td>80000</td>\n",
       "      <td>8</td>\n",
       "      <td>petrol</td>\n",
       "      <td>ford</td>\n",
       "      <td>no</td>\n",
       "      <td>2016-03-30</td>\n",
       "      <td>52076</td>\n",
       "      <td>2016-04-06 00:17:27</td>\n",
       "      <td>8.853808</td>\n",
       "    </tr>\n",
       "    <tr>\n",
       "      <th>354037</th>\n",
       "      <td>2016-03-23 16:57:30</td>\n",
       "      <td>10500</td>\n",
       "      <td>convertible</td>\n",
       "      <td>1968</td>\n",
       "      <td>manual</td>\n",
       "      <td>54.0</td>\n",
       "      <td>other</td>\n",
       "      <td>20000</td>\n",
       "      <td>4</td>\n",
       "      <td>petrol</td>\n",
       "      <td>renault</td>\n",
       "      <td>no</td>\n",
       "      <td>2016-03-23</td>\n",
       "      <td>63755</td>\n",
       "      <td>2016-03-25 00:47:18</td>\n",
       "      <td>9.259226</td>\n",
       "    </tr>\n",
       "    <tr>\n",
       "      <th>354063</th>\n",
       "      <td>2016-03-08 23:37:04</td>\n",
       "      <td>14000</td>\n",
       "      <td>convertible</td>\n",
       "      <td>1970</td>\n",
       "      <td>auto</td>\n",
       "      <td>170.0</td>\n",
       "      <td>sl</td>\n",
       "      <td>150000</td>\n",
       "      <td>0</td>\n",
       "      <td>petrol</td>\n",
       "      <td>mercedes_benz</td>\n",
       "      <td>unknown</td>\n",
       "      <td>2016-03-08</td>\n",
       "      <td>34123</td>\n",
       "      <td>2016-04-07 05:15:38</td>\n",
       "      <td>9.546884</td>\n",
       "    </tr>\n",
       "    <tr>\n",
       "      <th>354165</th>\n",
       "      <td>2016-03-15 12:55:31</td>\n",
       "      <td>8500</td>\n",
       "      <td>coupe</td>\n",
       "      <td>1981</td>\n",
       "      <td>auto</td>\n",
       "      <td>136.0</td>\n",
       "      <td>other</td>\n",
       "      <td>150000</td>\n",
       "      <td>4</td>\n",
       "      <td>petrol</td>\n",
       "      <td>mercedes_benz</td>\n",
       "      <td>no</td>\n",
       "      <td>2016-03-15</td>\n",
       "      <td>25335</td>\n",
       "      <td>2016-03-26 13:18:31</td>\n",
       "      <td>9.047939</td>\n",
       "    </tr>\n",
       "    <tr>\n",
       "      <th>354286</th>\n",
       "      <td>2016-03-21 20:44:38</td>\n",
       "      <td>2800</td>\n",
       "      <td>coupe</td>\n",
       "      <td>1973</td>\n",
       "      <td>manual</td>\n",
       "      <td>200.0</td>\n",
       "      <td>other</td>\n",
       "      <td>150000</td>\n",
       "      <td>6</td>\n",
       "      <td>petrol</td>\n",
       "      <td>bmw</td>\n",
       "      <td>yes</td>\n",
       "      <td>2016-03-21</td>\n",
       "      <td>74722</td>\n",
       "      <td>2016-04-06 19:16:32</td>\n",
       "      <td>7.937732</td>\n",
       "    </tr>\n",
       "  </tbody>\n",
       "</table>\n",
       "<p>4137 rows × 16 columns</p>\n",
       "</div>"
      ],
      "text/plain": [
       "               DateCrawled  Price  VehicleType  RegistrationYear Gearbox  \\\n",
       "7      2016-03-21 18:54:38   2800        sedan              1980  manual   \n",
       "28     2016-03-09 11:56:38   1990          bus              1981  manual   \n",
       "232    2016-03-12 08:51:00   1000          suv              1982  manual   \n",
       "360    2016-03-17 14:52:07  10000          bus              1976  manual   \n",
       "532    2016-03-07 18:39:04   6500  convertible              1981    auto   \n",
       "...                    ...    ...          ...               ...     ...   \n",
       "353993 2016-03-31 00:50:02   7000        coupe              1980    auto   \n",
       "354037 2016-03-23 16:57:30  10500  convertible              1968  manual   \n",
       "354063 2016-03-08 23:37:04  14000  convertible              1970    auto   \n",
       "354165 2016-03-15 12:55:31   8500        coupe              1981    auto   \n",
       "354286 2016-03-21 20:44:38   2800        coupe              1973  manual   \n",
       "\n",
       "        Power        Model  Kilometer  RegistrationMonth FuelType  \\\n",
       "7        50.0        other      40000                  7   petrol   \n",
       "28       50.0  transporter       5000                  1   petrol   \n",
       "232      41.0        other     150000                 11   petrol   \n",
       "360      50.0  transporter       5000                  0   petrol   \n",
       "532     204.0           sl     150000                  3   petrol   \n",
       "...       ...          ...        ...                ...      ...   \n",
       "353993  114.0        other      80000                  8   petrol   \n",
       "354037   54.0        other      20000                  4   petrol   \n",
       "354063  170.0           sl     150000                  0   petrol   \n",
       "354165  136.0        other     150000                  4   petrol   \n",
       "354286  200.0        other     150000                  6   petrol   \n",
       "\n",
       "                Brand Repaired DateCreated  PostalCode            LastSeen  \\\n",
       "7          volkswagen       no  2016-03-21       19348 2016-03-25 16:47:58   \n",
       "28         volkswagen       no  2016-03-09       87471 2016-03-10 07:44:33   \n",
       "232            suzuki  unknown  2016-03-12       56337 2016-03-13 00:45:46   \n",
       "360        volkswagen  unknown  2016-03-17       73479 2016-03-19 14:21:08   \n",
       "532     mercedes_benz      yes  2016-03-07       13125 2016-03-09 07:46:08   \n",
       "...               ...      ...         ...         ...                 ...   \n",
       "353993           ford       no  2016-03-30       52076 2016-04-06 00:17:27   \n",
       "354037        renault       no  2016-03-23       63755 2016-03-25 00:47:18   \n",
       "354063  mercedes_benz  unknown  2016-03-08       34123 2016-04-07 05:15:38   \n",
       "354165  mercedes_benz       no  2016-03-15       25335 2016-03-26 13:18:31   \n",
       "354286            bmw      yes  2016-03-21       74722 2016-04-06 19:16:32   \n",
       "\n",
       "        Price_log  \n",
       "7        7.937732  \n",
       "28       7.596392  \n",
       "232      6.908755  \n",
       "360      9.210440  \n",
       "532      8.779711  \n",
       "...           ...  \n",
       "353993   8.853808  \n",
       "354037   9.259226  \n",
       "354063   9.546884  \n",
       "354165   9.047939  \n",
       "354286   7.937732  \n",
       "\n",
       "[4137 rows x 16 columns]"
      ]
     },
     "execution_count": 212,
     "metadata": {},
     "output_type": "execute_result"
    }
   ],
   "source": [
    "data.query('RegistrationYear< 1983')"
   ]
  },
  {
   "cell_type": "markdown",
   "metadata": {},
   "source": [
    "Короче, удаляем винтажные машины: на свалку!!!\n",
    "\n",
    "Цель — построить ML-модель оценки стоимости на нормальные автомобили (обычные покупки-продажи), поэтому трициклы Бенца удаляем. "
   ]
  },
  {
   "cell_type": "code",
   "execution_count": 213,
   "metadata": {},
   "outputs": [],
   "source": [
    "data = data[data['RegistrationYear'] >= 1983]\n"
   ]
  },
  {
   "cell_type": "code",
   "execution_count": 214,
   "metadata": {},
   "outputs": [
    {
     "data": {
      "text/plain": [
       "336829"
      ]
     },
     "execution_count": 214,
     "metadata": {},
     "output_type": "execute_result"
    }
   ],
   "source": [
    "data.shape[0]"
   ]
  },
  {
   "cell_type": "markdown",
   "metadata": {},
   "source": [
    "5% удалил. Приемлемо"
   ]
  },
  {
   "cell_type": "code",
   "execution_count": 215,
   "metadata": {},
   "outputs": [
    {
     "name": "stdout",
     "output_type": "stream",
     "text": [
      "<class 'pandas.core.frame.DataFrame'>\n",
      "Index: 336829 entries, 1 to 354368\n",
      "Data columns (total 16 columns):\n",
      " #   Column             Non-Null Count   Dtype         \n",
      "---  ------             --------------   -----         \n",
      " 0   DateCrawled        336829 non-null  datetime64[ns]\n",
      " 1   Price              336829 non-null  int64         \n",
      " 2   VehicleType        336829 non-null  object        \n",
      " 3   RegistrationYear   336829 non-null  int64         \n",
      " 4   Gearbox            336829 non-null  object        \n",
      " 5   Power              336829 non-null  float64       \n",
      " 6   Model              336829 non-null  object        \n",
      " 7   Kilometer          336829 non-null  int64         \n",
      " 8   RegistrationMonth  336829 non-null  int64         \n",
      " 9   FuelType           336829 non-null  object        \n",
      " 10  Brand              336829 non-null  object        \n",
      " 11  Repaired           336829 non-null  object        \n",
      " 12  DateCreated        336829 non-null  datetime64[ns]\n",
      " 13  PostalCode         336829 non-null  int64         \n",
      " 14  LastSeen           336829 non-null  datetime64[ns]\n",
      " 15  Price_log          336829 non-null  float64       \n",
      "dtypes: datetime64[ns](3), float64(2), int64(5), object(6)\n",
      "memory usage: 43.7+ MB\n"
     ]
    }
   ],
   "source": [
    "data.info()\n"
   ]
  },
  {
   "cell_type": "code",
   "execution_count": 216,
   "metadata": {},
   "outputs": [
    {
     "data": {
      "text/plain": [
       "array([ 5,  8,  6,  7, 10,  0, 12, 11,  2,  3,  1,  4,  9])"
      ]
     },
     "execution_count": 216,
     "metadata": {},
     "output_type": "execute_result"
    }
   ],
   "source": [
    "data.RegistrationMonth.unique()"
   ]
  },
  {
   "cell_type": "markdown",
   "metadata": {},
   "source": [
    "Это что такое?? Это почему это с 0 до 12. "
   ]
  },
  {
   "cell_type": "code",
   "execution_count": 217,
   "metadata": {},
   "outputs": [
    {
     "data": {
      "text/plain": [
       "RegistrationMonth\n",
       "3     32861\n",
       "0     32669\n",
       "6     30207\n",
       "4     27967\n",
       "5     27951\n",
       "7     25892\n",
       "10    25260\n",
       "12    23462\n",
       "11    23408\n",
       "9     23022\n",
       "1     22037\n",
       "8     21832\n",
       "2     20261\n",
       "Name: count, dtype: int64"
      ]
     },
     "execution_count": 217,
     "metadata": {},
     "output_type": "execute_result"
    }
   ],
   "source": [
    "data.RegistrationMonth.value_counts()"
   ]
  },
  {
   "cell_type": "markdown",
   "metadata": {},
   "source": [
    "0 – это либо: \n",
    "* пропущенные значения, которые закодированы как 0\n",
    "* специально введённые «нулевые» значения (например, когда месяц неизвестен).\n",
    "\n",
    "                                           Ну просто не будем использовать этот столбец при обучении лин. рег"
   ]
  },
  {
   "cell_type": "code",
   "execution_count": 218,
   "metadata": {},
   "outputs": [
    {
     "data": {
      "text/plain": [
       "array(['gasoline', 'petrol', 'lpg', 'other', 'hybrid', 'cng', 'electric'],\n",
       "      dtype=object)"
      ]
     },
     "execution_count": 218,
     "metadata": {},
     "output_type": "execute_result"
    }
   ],
   "source": [
    "data.FuelType.unique()"
   ]
  },
  {
   "cell_type": "markdown",
   "metadata": {},
   "source": [
    "gasoline для сша, а petrol обычно у всех остальных. В целом тот же самый бензин, но цены в Америке могут быть выше."
   ]
  },
  {
   "cell_type": "markdown",
   "metadata": {},
   "source": [
    "Предобработка данных на этом этапе окончена. Можно но не хочется делать графики."
   ]
  },
  {
   "cell_type": "markdown",
   "metadata": {},
   "source": [
    "## Создание фичей / Кодирование данных"
   ]
  },
  {
   "cell_type": "markdown",
   "metadata": {},
   "source": [
    "Здесь я смотрю столбцы и выбираю что и как кодировать"
   ]
  },
  {
   "cell_type": "code",
   "execution_count": 219,
   "metadata": {},
   "outputs": [
    {
     "data": {
      "text/plain": [
       "2018"
      ]
     },
     "execution_count": 219,
     "metadata": {},
     "output_type": "execute_result"
    }
   ],
   "source": [
    "data[\"RegistrationYear\"].max()\n"
   ]
  },
  {
   "cell_type": "code",
   "execution_count": 220,
   "metadata": {},
   "outputs": [
    {
     "data": {
      "text/plain": [
       "3940"
      ]
     },
     "execution_count": 220,
     "metadata": {},
     "output_type": "execute_result"
    }
   ],
   "source": [
    "len(data.query('RegistrationYear == 2018'))"
   ]
  },
  {
   "cell_type": "code",
   "execution_count": 221,
   "metadata": {},
   "outputs": [
    {
     "data": {
      "text/plain": [
       "10018"
      ]
     },
     "execution_count": 221,
     "metadata": {},
     "output_type": "execute_result"
    }
   ],
   "source": [
    "len(data.query('RegistrationYear == 2017'))"
   ]
  },
  {
   "cell_type": "code",
   "execution_count": 222,
   "metadata": {
    "scrolled": true
   },
   "outputs": [
    {
     "data": {
      "text/plain": [
       "3296.2289340101524"
      ]
     },
     "execution_count": 222,
     "metadata": {},
     "output_type": "execute_result"
    }
   ],
   "source": [
    "data.query('RegistrationYear == 2018')['Price'].mean()"
   ]
  },
  {
   "cell_type": "code",
   "execution_count": 223,
   "metadata": {},
   "outputs": [
    {
     "data": {
      "text/plain": [
       "2222.0"
      ]
     },
     "execution_count": 223,
     "metadata": {},
     "output_type": "execute_result"
    }
   ],
   "source": [
    "data.query('RegistrationYear == 2018')['Price'].median()"
   ]
  },
  {
   "cell_type": "code",
   "execution_count": 224,
   "metadata": {},
   "outputs": [
    {
     "data": {
      "text/plain": [
       "1999.5"
      ]
     },
     "execution_count": 224,
     "metadata": {},
     "output_type": "execute_result"
    }
   ],
   "source": [
    "data.query('RegistrationYear == 2017')['Price'].median()"
   ]
  },
  {
   "cell_type": "code",
   "execution_count": null,
   "metadata": {},
   "outputs": [],
   "source": []
  },
  {
   "cell_type": "markdown",
   "metadata": {},
   "source": [
    "Машины из будущего"
   ]
  },
  {
   "cell_type": "code",
   "execution_count": 225,
   "metadata": {},
   "outputs": [
    {
     "data": {
      "text/plain": [
       "array([2016, 2015, 2014], dtype=int32)"
      ]
     },
     "execution_count": 225,
     "metadata": {},
     "output_type": "execute_result"
    }
   ],
   "source": [
    "# дата создания анкеты\n",
    "data.DateCreated.dt.year.unique()"
   ]
  },
  {
   "cell_type": "code",
   "execution_count": 226,
   "metadata": {},
   "outputs": [
    {
     "data": {
      "text/plain": [
       "array([2016], dtype=int32)"
      ]
     },
     "execution_count": 226,
     "metadata": {},
     "output_type": "execute_result"
    }
   ],
   "source": [
    "data.DateCrawled.dt.year.unique()"
   ]
  },
  {
   "cell_type": "code",
   "execution_count": 227,
   "metadata": {},
   "outputs": [],
   "source": [
    "data[\"CarAge\"] = CURRENT_YEAR - data[\"RegistrationYear\"] # CURRENT_YEAR = 2018\n"
   ]
  },
  {
   "cell_type": "code",
   "execution_count": 228,
   "metadata": {},
   "outputs": [
    {
     "data": {
      "text/plain": [
       "RegistrationMonth\n",
       "3     32861\n",
       "0     32669\n",
       "6     30207\n",
       "4     27967\n",
       "5     27951\n",
       "7     25892\n",
       "10    25260\n",
       "12    23462\n",
       "11    23408\n",
       "9     23022\n",
       "1     22037\n",
       "8     21832\n",
       "2     20261\n",
       "Name: count, dtype: int64"
      ]
     },
     "execution_count": 228,
     "metadata": {},
     "output_type": "execute_result"
    }
   ],
   "source": [
    "data[\"RegistrationMonth\"].value_counts()"
   ]
  },
  {
   "cell_type": "code",
   "execution_count": null,
   "metadata": {},
   "outputs": [],
   "source": []
  },
  {
   "cell_type": "code",
   "execution_count": 229,
   "metadata": {},
   "outputs": [
    {
     "data": {
      "text/plain": [
       "array([ 5,  8,  6,  7, 10,  0, 12, 11,  2,  3,  1,  4,  9])"
      ]
     },
     "execution_count": 229,
     "metadata": {},
     "output_type": "execute_result"
    }
   ],
   "source": [
    "data[\"RegistrationMonth\"].unique()"
   ]
  },
  {
   "cell_type": "code",
   "execution_count": 230,
   "metadata": {},
   "outputs": [],
   "source": [
    "# Переведем месяцы в сезоны. Может, модель лучше справится?\n",
    "def get_season(month):\n",
    "    if month in [12, 1, 2]:\n",
    "        return \"winter\"\n",
    "    elif month in [3, 4, 5]:\n",
    "        return \"spring\"\n",
    "    elif month in [6, 7, 8]:\n",
    "        return \"summer\"\n",
    "    elif month in [9, 10, 11]:\n",
    "        return \"autumn\"\n",
    "    else:\n",
    "        return \"unknown\"\n",
    "\n",
    "data[\"RegSeason\"] = data[\"RegistrationMonth\"].apply(get_season)"
   ]
  },
  {
   "cell_type": "code",
   "execution_count": 231,
   "metadata": {},
   "outputs": [
    {
     "data": {
      "text/plain": [
       "array(['a4', 'grand', 'golf', 'fabia', '3er', '2_reihe', 'c_max',\n",
       "       '3_reihe', 'passat', 'navara', 'twingo', 'a_klasse', 'scirocco',\n",
       "       '5er', 'meriva', 'other', 'c4', 'civic', 'punto', 'e_klasse',\n",
       "       'clio', 'kadett', 'kangoo', 'corsa', 'one', 'fortwo', '1er',\n",
       "       'b_klasse', 'signum', 'astra', 'a8', 'jetta', 'polo', 'fiesta',\n",
       "       'c_klasse', 'micra', 'vito', 'sprinter', '156', 'escort',\n",
       "       'forester', 'xc_reihe', 'scenic', 'ka', 'a1', 'insignia',\n",
       "       'transporter', 'combo', 'focus', 'tt', 'a6', 'jazz', 'slk', '7er',\n",
       "       '80', '147', '100', 'z_reihe', 'sportage', 'sorento', 'ibiza',\n",
       "       'mustang', 'eos', 'touran', 'getz', 'a3', 'almera', 'megane',\n",
       "       'lupo', 'zafira', 'caddy', 'mondeo', 'cordoba', 'colt', 'impreza',\n",
       "       'vectra', 'berlingo', 'tiguan', 'i_reihe', 'espace', 'sharan',\n",
       "       '6_reihe', 'panda', 'up', 'seicento', 'ceed', '5_reihe', 'yeti',\n",
       "       'octavia', 'mii', 'rx_reihe', '6er', 'modus', 'fox', 'matiz',\n",
       "       'beetle', 'c1', 'rio', 'touareg', 'logan', 'spider', 'omega',\n",
       "       'cuore', 's_max', 'a2', 'galaxy', 'c3', 'viano', 's_klasse',\n",
       "       '1_reihe', 'avensis', 'v40', 'yaris', 'roomster', 'santa', '601',\n",
       "       'cooper', 'leon', '4_reihe', 'a5', '500', 'laguna', 'ptcruiser',\n",
       "       'clk', 'primera', 'x_reihe', 'exeo', '159', 'transit', 'juke',\n",
       "       'qashqai', 'carisma', 'accord', 'corolla', 'lanos', 'phaeton',\n",
       "       'verso', 'swift', 'rav', 'picanto', 'boxster', 'kalos', 'superb',\n",
       "       'stilo', 'alhambra', 'mx_reihe', 'roadster', 'cayenne', 'galant',\n",
       "       '90', 'crossfire', 'agila', 'duster', 'cr_reihe', 'v50', 'c_reihe',\n",
       "       'v_klasse', 'm_klasse', 'c5', 'aygo', 'cc', 'carnival', 'fusion',\n",
       "       '911', 'bora', 'forfour', 'm_reihe', 'cl', 'tigra', '300c',\n",
       "       'spark', 'v70', 'kuga', 'x_type', 'ducato', 's_type', 'x_trail',\n",
       "       'toledo', 'altea', 'arosa', 'voyager', 'calibra', 'antara',\n",
       "       'tucson', 'citigo', 'jimny', 'wrangler', 'lybra', 'q7', 'lancer',\n",
       "       'captiva', 'sl', 'c2', 'discovery', 'freelander', 'sandero',\n",
       "       'note', 'sirion', '900', 'cherokee', 'clubman', 'defender',\n",
       "       'cx_reihe', 'legacy', 'pajero', 'auris', 'niva', 's60', 'nubira',\n",
       "       'vivaro', 'g_klasse', 'ypsilon', 'justy', 'lodgy', '850',\n",
       "       'range_rover', 'q3', 'r19', 'glk', 'charade', 'croma', 'bravo',\n",
       "       'outlander', 'kaefer', 'doblo', 'musa', '9000', 'v60', '145',\n",
       "       'aveo', '200', 'b_max', 'range_rover_sport', 'terios', 'move',\n",
       "       'rangerover', 'q5', 'range_rover_evoque', 'materia', 'gl',\n",
       "       'kalina', 'amarok', 'elefantino', 'delta', 'i3', 'serie_2',\n",
       "       'kappa', 'samara'], dtype=object)"
      ]
     },
     "execution_count": 231,
     "metadata": {},
     "output_type": "execute_result"
    }
   ],
   "source": [
    "data.Model.unique()"
   ]
  },
  {
   "cell_type": "code",
   "execution_count": null,
   "metadata": {},
   "outputs": [],
   "source": [
    "Это все кодировать безумие, поэтому разделим модели на частоту"
   ]
  },
  {
   "cell_type": "code",
   "execution_count": 232,
   "metadata": {},
   "outputs": [],
   "source": [
    "model_counts = data[\"Model\"].value_counts()\n",
    "data[\"ModelFreq\"] = data[\"Model\"].map(model_counts)\n"
   ]
  },
  {
   "cell_type": "code",
   "execution_count": 233,
   "metadata": {},
   "outputs": [
    {
     "data": {
      "text/plain": [
       "array(['audi', 'jeep', 'volkswagen', 'skoda', 'bmw', 'peugeot', 'ford',\n",
       "       'mazda', 'nissan', 'renault', 'mercedes_benz', 'opel', 'citroen',\n",
       "       'honda', 'fiat', 'mini', 'smart', 'hyundai', 'seat',\n",
       "       'sonstige_autos', 'alfa_romeo', 'subaru', 'volvo', 'mitsubishi',\n",
       "       'kia', 'lancia', 'toyota', 'chevrolet', 'dacia', 'suzuki',\n",
       "       'daihatsu', 'trabant', 'saab', 'chrysler', 'jaguar', 'daewoo',\n",
       "       'porsche', 'land_rover', 'lada'], dtype=object)"
      ]
     },
     "execution_count": 233,
     "metadata": {},
     "output_type": "execute_result"
    }
   ],
   "source": [
    "data.Brand.unique()"
   ]
  },
  {
   "cell_type": "markdown",
   "metadata": {},
   "source": [
    "Разделим бренды по сегментам."
   ]
  },
  {
   "cell_type": "code",
   "execution_count": 234,
   "metadata": {},
   "outputs": [],
   "source": [
    "premium = {\"bmw\", \"audi\", \"mercedes_benz\", \"porsche\", \"jaguar\", \"land_rover\", \"mini\"}\n",
    "mass = {\"volkswagen\", \"ford\", \"opel\", \"skoda\", \"peugeot\", \"nissan\", \"mazda\", \"renault\"}\n",
    "budget = {\"kia\", \"hyundai\", \"dacia\", \"fiat\", \"chevrolet\", \"suzuki\", \"chrysler\", \"daewoo\", \"lada\"}\n",
    "\n",
    "def classify_brand(brand):\n",
    "    if brand in premium:\n",
    "        return \"premium\"\n",
    "    elif brand in mass:\n",
    "        return \"mass\"\n",
    "    elif brand in budget:\n",
    "        return \"budget\"\n",
    "    else:\n",
    "        return \"other\"\n",
    "\n",
    "data[\"BrandClass\"] = data[\"Brand\"].apply(classify_brand)\n"
   ]
  },
  {
   "cell_type": "code",
   "execution_count": 235,
   "metadata": {
    "scrolled": true
   },
   "outputs": [
    {
     "data": {
      "text/plain": [
       "array([190.  , 163.  ,  75.  ,  69.  , 102.  , 109.  , 125.  , 101.  ,\n",
       "       105.  , 140.  , 115.  , 131.  , 136.  , 160.  , 231.  , 118.  ,\n",
       "       193.  ,  99.  ,  60.  , 113.  , 218.  , 122.  , 129.  ,  70.  ,\n",
       "       170.  ,  95.  ,  61.  , 177.  ,  80.  ,  90.  ,  55.  , 143.  ,\n",
       "       155.  ,  64.  , 116.  , 232.  ,  45.  , 150.  ,  50.  , 156.  ,\n",
       "        82.  , 185.  ,  87.  , 180.  ,  86.  ,  84.  , 224.  , 235.  ,\n",
       "       178.  ,  98.  ,  77.  , 110.  , 120.  ,  54.  , 286.  , 184.  ,\n",
       "       126.  , 204.  ,  88.  , 194.  ,  58.  , 305.  , 197.  , 179.  ,\n",
       "       107.  ,  41.  , 165.  , 130.  , 114.  ,  56.  , 213.  ,  83.  ,\n",
       "       100.  , 220.  , 265.  ,  85.  ,  73.  , 124.  , 192.  ,  68.  ,\n",
       "        66.  , 299.  ,  74.  ,  52.  , 147.  ,  71.  ,  97.  ,  65.  ,\n",
       "       239.  , 203.  , 128.  , 144.  , 103.  , 258.  , 320.  ,  63.  ,\n",
       "        81.  , 148.  , 176.  , 129.5 , 145.  , 260.  , 104.  , 121.  ,\n",
       "       306.  , 188.  , 186.  , 117.  , 141.  ,  59.  , 132.  , 279.  ,\n",
       "       158.  ,  39.  ,  92.  ,  51.  , 135.  ,  53.  , 200.  , 209.  ,\n",
       "        43.  , 146.  , 211.  ,  67.  , 106.  , 166.  , 340.  ,  72.  ,\n",
       "       237.  , 250.  , 245.  , 111.  , 326.  , 126.5 , 175.  ,  69.5 ,\n",
       "        66.5 ,  37.  , 300.  , 334.  ,  74.5 , 133.  ,  33.  , 219.  ,\n",
       "       174.  , 167.  ,  94.  , 182.  , 196.  , 238.  , 228.  , 112.  ,\n",
       "        48.  , 241.  ,  96.  , 272.  , 230.  , 139.  ,  40.  , 240.  ,\n",
       "        79.  , 375.  , 108.  , 112.5 , 187.  , 127.5 , 222.  , 198.  ,\n",
       "        99.5 , 233.  , 387.  , 152.  , 172.  ,  44.  , 252.  , 137.  ,\n",
       "       212.  ,  59.5 ,  47.  , 173.  , 290.  , 207.  ,  78.  , 205.  ,\n",
       "       171.  ,  91.  ,  89.  ,  76.  , 151.  , 350.  , 333.  ,  93.  ,\n",
       "       142.  , 343.  , 199.  , 164.  , 256.  , 140.5 , 124.5 , 159.  ,\n",
       "       310.  ,  57.  , 201.  , 145.5 ,  96.5 , 208.  ,  46.  , 367.  ,\n",
       "       225.  , 127.  , 161.  , 130.5 ,  87.5 , 307.  ,  35.  , 206.  ,\n",
       "       138.  , 223.  , 255.  , 103.5 , 100.5 , 123.  , 154.  , 149.  ,\n",
       "       210.  , 119.  ,  75.5 , 275.  , 128.5 , 101.5 , 162.  , 226.  ,\n",
       "       329.  , 114.5 , 285.  , 134.  , 234.  , 247.  ,  36.  , 168.  ,\n",
       "        34.  , 330.  , 180.5 , 214.  , 183.  , 321.  , 169.  ,  51.5 ,\n",
       "       450.  , 115.75, 177.5 ,  62.  , 215.  , 276.  , 157.  , 195.  ,\n",
       "       115.5 , 400.  , 500.  , 309.  , 507.  , 242.5 , 271.  , 249.  ,\n",
       "       315.  ,  81.5 , 189.  , 111.5 , 181.  , 107.5 , 164.5 , 268.  ,\n",
       "        38.  , 216.  ,  42.  , 192.5 ,  49.  ,  57.5 , 331.  , 270.  ,\n",
       "        42.5 , 253.  , 121.5 , 106.5 , 349.  , 142.5 , 217.  , 280.  ,\n",
       "       135.5 ,  56.5 , 154.5 ,  86.5 ,  91.5 , 296.  , 153.  , 284.  ,\n",
       "       264.5 , 248.5 ,  80.5 , 211.5 , 221.  , 243.  , 327.  ,  92.5 ,\n",
       "        67.5 , 134.5 , 141.5 , 117.5 , 273.  ,  95.5 , 190.5 ,  52.5 ,\n",
       "       287.  , 218.5 ,  70.5 , 405.  , 236.  ,  82.5 , 388.  , 385.  ,\n",
       "       335.  , 202.  , 118.5 , 227.  ,  98.5 , 269.  , 292.  ,  94.5 ,\n",
       "       420.  , 102.5 , 250.5 , 278.  , 246.  , 179.5 , 360.  , 147.5 ,\n",
       "       191.  ,  71.5 , 210.5 ,  32.  , 227.5 , 274.  , 261.  ,  85.5 ,\n",
       "       264.  ,  97.5 , 277.  , 245.5 , 371.  , 304.  , 390.  , 348.  ,\n",
       "       116.5 , 370.  , 431.  ,  46.5 , 259.  , 358.  , 262.  ,  50.5 ,\n",
       "       301.  , 122.5 ,  65.5 ,  89.5 ,  45.5 , 289.  ,  54.5 , 251.  ,\n",
       "       222.5 ,  49.5 , 202.5 , 231.5 , 380.  , 440.  ,  31.  , 394.  ,\n",
       "        64.5 , 382.  , 259.5 , 242.  , 332.  , 120.5 , 167.5 , 119.5 ,\n",
       "       113.5 , 266.  , 308.  ,  76.5 , 281.  , 295.  , 298.  , 173.5 ,\n",
       "       109.5 , 361.  , 322.  , 191.5 , 336.  , 161.5 , 313.  , 316.  ,\n",
       "       244.  , 399.  , 347.  , 157.5 ,  72.5 , 341.  , 138.5 , 430.  ,\n",
       "       430.5 , 174.5 , 248.  , 149.5 , 153.75, 304.5 , 193.5 , 508.  ,\n",
       "       254.  , 381.  , 257.  , 293.  , 229.  , 421.  , 137.5 ])"
      ]
     },
     "execution_count": 235,
     "metadata": {},
     "output_type": "execute_result"
    }
   ],
   "source": [
    "data.Power.unique()"
   ]
  },
  {
   "cell_type": "code",
   "execution_count": 236,
   "metadata": {},
   "outputs": [],
   "source": [
    "data[\"Power\"] = data[\"Power\"].astype(int)  #  отбрасываем дробную часть"
   ]
  },
  {
   "cell_type": "code",
   "execution_count": 237,
   "metadata": {},
   "outputs": [
    {
     "data": {
      "text/plain": [
       "array(['gasoline', 'petrol', 'lpg', 'other', 'hybrid', 'cng', 'electric'],\n",
       "      dtype=object)"
      ]
     },
     "execution_count": 237,
     "metadata": {},
     "output_type": "execute_result"
    }
   ],
   "source": [
    "data.FuelType.unique()"
   ]
  },
  {
   "cell_type": "code",
   "execution_count": 238,
   "metadata": {},
   "outputs": [],
   "source": [
    "# data = pd.get_dummies(data, columns=[\"VehicleType\"], drop_first=True)\n",
    "# data = pd.get_dummies(data, columns=[\"Gearbox\"], drop_first=True)\n",
    "# data = pd.get_dummies(data, columns=[\"FuelType\"], drop_first=True)\n",
    "# data = pd.get_dummies(data, columns=[\"Repaired\"], drop_first=True)\n",
    "# data = pd.get_dummies(data, columns=[\"RegSeason\"], drop_first=True)\n",
    "# data = pd.get_dummies(data, columns=[\"BrandClass\"], drop_first=True)\n"
   ]
  },
  {
   "cell_type": "markdown",
   "metadata": {},
   "source": [
    "## Обучение моделей"
   ]
  },
  {
   "cell_type": "code",
   "execution_count": null,
   "metadata": {},
   "outputs": [],
   "source": []
  },
  {
   "cell_type": "code",
   "execution_count": 239,
   "metadata": {},
   "outputs": [
    {
     "data": {
      "text/plain": [
       "array(['coupe', 'suv', 'small', 'sedan', 'convertible', 'bus', 'wagon',\n",
       "       'other'], dtype=object)"
      ]
     },
     "execution_count": 239,
     "metadata": {},
     "output_type": "execute_result"
    }
   ],
   "source": [
    "data.VehicleType.unique()"
   ]
  },
  {
   "cell_type": "markdown",
   "metadata": {},
   "source": [
    "\n",
    "%% time не забудь\n",
    "Бахнем LinearRegression, Ridge, Lasso, ElasticNet\n",
    "\n",
    "PolynomialFeatures + LinearRegression\n",
    "\n",
    "HuberRegressor\n",
    "\n",
    "RANSACRegressor\n",
    "\n",
    "RandomForest\n",
    "\n",
    "LightGBM\n",
    "\n",
    "GradientBoosting\n",
    "\n",
    "CatBoost"
   ]
  },
  {
   "cell_type": "markdown",
   "metadata": {},
   "source": [
    "Upd26_06: лень было делать вообще все, сделал Linear, Ridge, CatBoost\n",
    "Может, потом сделаю. надо ли?"
   ]
  },
  {
   "cell_type": "markdown",
   "metadata": {},
   "source": [
    "### LinearRegression"
   ]
  },
  {
   "cell_type": "code",
   "execution_count": 240,
   "metadata": {},
   "outputs": [],
   "source": [
    "X = data.drop(columns=['Price','DateCrawled', 'RegistrationYear', 'Model', 'RegistrationMonth', 'Brand', 'DateCreated', 'PostalCode', 'LastSeen', 'Price_log'] )  # признаки\n",
    "y = data[\"Price\"] # целевая переменная"
   ]
  },
  {
   "cell_type": "code",
   "execution_count": 241,
   "metadata": {},
   "outputs": [],
   "source": [
    "X = pd.get_dummies(X, columns=[\"VehicleType\"], drop_first=True)\n",
    "X = pd.get_dummies(X, columns=[\"Gearbox\"], drop_first=True)\n",
    "X = pd.get_dummies(X, columns=[\"FuelType\"], drop_first=True)\n",
    "X = pd.get_dummies(X, columns=[\"Repaired\"], drop_first=True)\n",
    "X = pd.get_dummies(X, columns=[\"RegSeason\"], drop_first=True)\n",
    "X = pd.get_dummies(X, columns=[\"BrandClass\"], drop_first=True)"
   ]
  },
  {
   "cell_type": "code",
   "execution_count": 242,
   "metadata": {},
   "outputs": [
    {
     "name": "stdout",
     "output_type": "stream",
     "text": [
      "<class 'pandas.core.frame.DataFrame'>\n",
      "Index: 336829 entries, 1 to 354368\n",
      "Data columns (total 27 columns):\n",
      " #   Column                   Non-Null Count   Dtype\n",
      "---  ------                   --------------   -----\n",
      " 0   Power                    336829 non-null  int64\n",
      " 1   Kilometer                336829 non-null  int64\n",
      " 2   CarAge                   336829 non-null  int64\n",
      " 3   ModelFreq                336829 non-null  int64\n",
      " 4   VehicleType_convertible  336829 non-null  bool \n",
      " 5   VehicleType_coupe        336829 non-null  bool \n",
      " 6   VehicleType_other        336829 non-null  bool \n",
      " 7   VehicleType_sedan        336829 non-null  bool \n",
      " 8   VehicleType_small        336829 non-null  bool \n",
      " 9   VehicleType_suv          336829 non-null  bool \n",
      " 10  VehicleType_wagon        336829 non-null  bool \n",
      " 11  Gearbox_manual           336829 non-null  bool \n",
      " 12  FuelType_electric        336829 non-null  bool \n",
      " 13  FuelType_gasoline        336829 non-null  bool \n",
      " 14  FuelType_hybrid          336829 non-null  bool \n",
      " 15  FuelType_lpg             336829 non-null  bool \n",
      " 16  FuelType_other           336829 non-null  bool \n",
      " 17  FuelType_petrol          336829 non-null  bool \n",
      " 18  Repaired_unknown         336829 non-null  bool \n",
      " 19  Repaired_yes             336829 non-null  bool \n",
      " 20  RegSeason_spring         336829 non-null  bool \n",
      " 21  RegSeason_summer         336829 non-null  bool \n",
      " 22  RegSeason_unknown        336829 non-null  bool \n",
      " 23  RegSeason_winter         336829 non-null  bool \n",
      " 24  BrandClass_mass          336829 non-null  bool \n",
      " 25  BrandClass_other         336829 non-null  bool \n",
      " 26  BrandClass_premium       336829 non-null  bool \n",
      "dtypes: bool(23), int64(4)\n",
      "memory usage: 20.2 MB\n"
     ]
    }
   ],
   "source": [
    "X.info()"
   ]
  },
  {
   "cell_type": "code",
   "execution_count": 243,
   "metadata": {},
   "outputs": [],
   "source": [
    "X_train, X_test, y_train, y_test = train_test_split(X, y, test_size=0.2, random_state=42)"
   ]
  },
  {
   "cell_type": "code",
   "execution_count": 244,
   "metadata": {},
   "outputs": [
    {
     "data": {
      "text/html": [
       "<style>#sk-container-id-2 {\n",
       "  /* Definition of color scheme common for light and dark mode */\n",
       "  --sklearn-color-text: #000;\n",
       "  --sklearn-color-text-muted: #666;\n",
       "  --sklearn-color-line: gray;\n",
       "  /* Definition of color scheme for unfitted estimators */\n",
       "  --sklearn-color-unfitted-level-0: #fff5e6;\n",
       "  --sklearn-color-unfitted-level-1: #f6e4d2;\n",
       "  --sklearn-color-unfitted-level-2: #ffe0b3;\n",
       "  --sklearn-color-unfitted-level-3: chocolate;\n",
       "  /* Definition of color scheme for fitted estimators */\n",
       "  --sklearn-color-fitted-level-0: #f0f8ff;\n",
       "  --sklearn-color-fitted-level-1: #d4ebff;\n",
       "  --sklearn-color-fitted-level-2: #b3dbfd;\n",
       "  --sklearn-color-fitted-level-3: cornflowerblue;\n",
       "\n",
       "  /* Specific color for light theme */\n",
       "  --sklearn-color-text-on-default-background: var(--sg-text-color, var(--theme-code-foreground, var(--jp-content-font-color1, black)));\n",
       "  --sklearn-color-background: var(--sg-background-color, var(--theme-background, var(--jp-layout-color0, white)));\n",
       "  --sklearn-color-border-box: var(--sg-text-color, var(--theme-code-foreground, var(--jp-content-font-color1, black)));\n",
       "  --sklearn-color-icon: #696969;\n",
       "\n",
       "  @media (prefers-color-scheme: dark) {\n",
       "    /* Redefinition of color scheme for dark theme */\n",
       "    --sklearn-color-text-on-default-background: var(--sg-text-color, var(--theme-code-foreground, var(--jp-content-font-color1, white)));\n",
       "    --sklearn-color-background: var(--sg-background-color, var(--theme-background, var(--jp-layout-color0, #111)));\n",
       "    --sklearn-color-border-box: var(--sg-text-color, var(--theme-code-foreground, var(--jp-content-font-color1, white)));\n",
       "    --sklearn-color-icon: #878787;\n",
       "  }\n",
       "}\n",
       "\n",
       "#sk-container-id-2 {\n",
       "  color: var(--sklearn-color-text);\n",
       "}\n",
       "\n",
       "#sk-container-id-2 pre {\n",
       "  padding: 0;\n",
       "}\n",
       "\n",
       "#sk-container-id-2 input.sk-hidden--visually {\n",
       "  border: 0;\n",
       "  clip: rect(1px 1px 1px 1px);\n",
       "  clip: rect(1px, 1px, 1px, 1px);\n",
       "  height: 1px;\n",
       "  margin: -1px;\n",
       "  overflow: hidden;\n",
       "  padding: 0;\n",
       "  position: absolute;\n",
       "  width: 1px;\n",
       "}\n",
       "\n",
       "#sk-container-id-2 div.sk-dashed-wrapped {\n",
       "  border: 1px dashed var(--sklearn-color-line);\n",
       "  margin: 0 0.4em 0.5em 0.4em;\n",
       "  box-sizing: border-box;\n",
       "  padding-bottom: 0.4em;\n",
       "  background-color: var(--sklearn-color-background);\n",
       "}\n",
       "\n",
       "#sk-container-id-2 div.sk-container {\n",
       "  /* jupyter's `normalize.less` sets `[hidden] { display: none; }`\n",
       "     but bootstrap.min.css set `[hidden] { display: none !important; }`\n",
       "     so we also need the `!important` here to be able to override the\n",
       "     default hidden behavior on the sphinx rendered scikit-learn.org.\n",
       "     See: https://github.com/scikit-learn/scikit-learn/issues/21755 */\n",
       "  display: inline-block !important;\n",
       "  position: relative;\n",
       "}\n",
       "\n",
       "#sk-container-id-2 div.sk-text-repr-fallback {\n",
       "  display: none;\n",
       "}\n",
       "\n",
       "div.sk-parallel-item,\n",
       "div.sk-serial,\n",
       "div.sk-item {\n",
       "  /* draw centered vertical line to link estimators */\n",
       "  background-image: linear-gradient(var(--sklearn-color-text-on-default-background), var(--sklearn-color-text-on-default-background));\n",
       "  background-size: 2px 100%;\n",
       "  background-repeat: no-repeat;\n",
       "  background-position: center center;\n",
       "}\n",
       "\n",
       "/* Parallel-specific style estimator block */\n",
       "\n",
       "#sk-container-id-2 div.sk-parallel-item::after {\n",
       "  content: \"\";\n",
       "  width: 100%;\n",
       "  border-bottom: 2px solid var(--sklearn-color-text-on-default-background);\n",
       "  flex-grow: 1;\n",
       "}\n",
       "\n",
       "#sk-container-id-2 div.sk-parallel {\n",
       "  display: flex;\n",
       "  align-items: stretch;\n",
       "  justify-content: center;\n",
       "  background-color: var(--sklearn-color-background);\n",
       "  position: relative;\n",
       "}\n",
       "\n",
       "#sk-container-id-2 div.sk-parallel-item {\n",
       "  display: flex;\n",
       "  flex-direction: column;\n",
       "}\n",
       "\n",
       "#sk-container-id-2 div.sk-parallel-item:first-child::after {\n",
       "  align-self: flex-end;\n",
       "  width: 50%;\n",
       "}\n",
       "\n",
       "#sk-container-id-2 div.sk-parallel-item:last-child::after {\n",
       "  align-self: flex-start;\n",
       "  width: 50%;\n",
       "}\n",
       "\n",
       "#sk-container-id-2 div.sk-parallel-item:only-child::after {\n",
       "  width: 0;\n",
       "}\n",
       "\n",
       "/* Serial-specific style estimator block */\n",
       "\n",
       "#sk-container-id-2 div.sk-serial {\n",
       "  display: flex;\n",
       "  flex-direction: column;\n",
       "  align-items: center;\n",
       "  background-color: var(--sklearn-color-background);\n",
       "  padding-right: 1em;\n",
       "  padding-left: 1em;\n",
       "}\n",
       "\n",
       "\n",
       "/* Toggleable style: style used for estimator/Pipeline/ColumnTransformer box that is\n",
       "clickable and can be expanded/collapsed.\n",
       "- Pipeline and ColumnTransformer use this feature and define the default style\n",
       "- Estimators will overwrite some part of the style using the `sk-estimator` class\n",
       "*/\n",
       "\n",
       "/* Pipeline and ColumnTransformer style (default) */\n",
       "\n",
       "#sk-container-id-2 div.sk-toggleable {\n",
       "  /* Default theme specific background. It is overwritten whether we have a\n",
       "  specific estimator or a Pipeline/ColumnTransformer */\n",
       "  background-color: var(--sklearn-color-background);\n",
       "}\n",
       "\n",
       "/* Toggleable label */\n",
       "#sk-container-id-2 label.sk-toggleable__label {\n",
       "  cursor: pointer;\n",
       "  display: flex;\n",
       "  width: 100%;\n",
       "  margin-bottom: 0;\n",
       "  padding: 0.5em;\n",
       "  box-sizing: border-box;\n",
       "  text-align: center;\n",
       "  align-items: start;\n",
       "  justify-content: space-between;\n",
       "  gap: 0.5em;\n",
       "}\n",
       "\n",
       "#sk-container-id-2 label.sk-toggleable__label .caption {\n",
       "  font-size: 0.6rem;\n",
       "  font-weight: lighter;\n",
       "  color: var(--sklearn-color-text-muted);\n",
       "}\n",
       "\n",
       "#sk-container-id-2 label.sk-toggleable__label-arrow:before {\n",
       "  /* Arrow on the left of the label */\n",
       "  content: \"▸\";\n",
       "  float: left;\n",
       "  margin-right: 0.25em;\n",
       "  color: var(--sklearn-color-icon);\n",
       "}\n",
       "\n",
       "#sk-container-id-2 label.sk-toggleable__label-arrow:hover:before {\n",
       "  color: var(--sklearn-color-text);\n",
       "}\n",
       "\n",
       "/* Toggleable content - dropdown */\n",
       "\n",
       "#sk-container-id-2 div.sk-toggleable__content {\n",
       "  max-height: 0;\n",
       "  max-width: 0;\n",
       "  overflow: hidden;\n",
       "  text-align: left;\n",
       "  /* unfitted */\n",
       "  background-color: var(--sklearn-color-unfitted-level-0);\n",
       "}\n",
       "\n",
       "#sk-container-id-2 div.sk-toggleable__content.fitted {\n",
       "  /* fitted */\n",
       "  background-color: var(--sklearn-color-fitted-level-0);\n",
       "}\n",
       "\n",
       "#sk-container-id-2 div.sk-toggleable__content pre {\n",
       "  margin: 0.2em;\n",
       "  border-radius: 0.25em;\n",
       "  color: var(--sklearn-color-text);\n",
       "  /* unfitted */\n",
       "  background-color: var(--sklearn-color-unfitted-level-0);\n",
       "}\n",
       "\n",
       "#sk-container-id-2 div.sk-toggleable__content.fitted pre {\n",
       "  /* unfitted */\n",
       "  background-color: var(--sklearn-color-fitted-level-0);\n",
       "}\n",
       "\n",
       "#sk-container-id-2 input.sk-toggleable__control:checked~div.sk-toggleable__content {\n",
       "  /* Expand drop-down */\n",
       "  max-height: 200px;\n",
       "  max-width: 100%;\n",
       "  overflow: auto;\n",
       "}\n",
       "\n",
       "#sk-container-id-2 input.sk-toggleable__control:checked~label.sk-toggleable__label-arrow:before {\n",
       "  content: \"▾\";\n",
       "}\n",
       "\n",
       "/* Pipeline/ColumnTransformer-specific style */\n",
       "\n",
       "#sk-container-id-2 div.sk-label input.sk-toggleable__control:checked~label.sk-toggleable__label {\n",
       "  color: var(--sklearn-color-text);\n",
       "  background-color: var(--sklearn-color-unfitted-level-2);\n",
       "}\n",
       "\n",
       "#sk-container-id-2 div.sk-label.fitted input.sk-toggleable__control:checked~label.sk-toggleable__label {\n",
       "  background-color: var(--sklearn-color-fitted-level-2);\n",
       "}\n",
       "\n",
       "/* Estimator-specific style */\n",
       "\n",
       "/* Colorize estimator box */\n",
       "#sk-container-id-2 div.sk-estimator input.sk-toggleable__control:checked~label.sk-toggleable__label {\n",
       "  /* unfitted */\n",
       "  background-color: var(--sklearn-color-unfitted-level-2);\n",
       "}\n",
       "\n",
       "#sk-container-id-2 div.sk-estimator.fitted input.sk-toggleable__control:checked~label.sk-toggleable__label {\n",
       "  /* fitted */\n",
       "  background-color: var(--sklearn-color-fitted-level-2);\n",
       "}\n",
       "\n",
       "#sk-container-id-2 div.sk-label label.sk-toggleable__label,\n",
       "#sk-container-id-2 div.sk-label label {\n",
       "  /* The background is the default theme color */\n",
       "  color: var(--sklearn-color-text-on-default-background);\n",
       "}\n",
       "\n",
       "/* On hover, darken the color of the background */\n",
       "#sk-container-id-2 div.sk-label:hover label.sk-toggleable__label {\n",
       "  color: var(--sklearn-color-text);\n",
       "  background-color: var(--sklearn-color-unfitted-level-2);\n",
       "}\n",
       "\n",
       "/* Label box, darken color on hover, fitted */\n",
       "#sk-container-id-2 div.sk-label.fitted:hover label.sk-toggleable__label.fitted {\n",
       "  color: var(--sklearn-color-text);\n",
       "  background-color: var(--sklearn-color-fitted-level-2);\n",
       "}\n",
       "\n",
       "/* Estimator label */\n",
       "\n",
       "#sk-container-id-2 div.sk-label label {\n",
       "  font-family: monospace;\n",
       "  font-weight: bold;\n",
       "  display: inline-block;\n",
       "  line-height: 1.2em;\n",
       "}\n",
       "\n",
       "#sk-container-id-2 div.sk-label-container {\n",
       "  text-align: center;\n",
       "}\n",
       "\n",
       "/* Estimator-specific */\n",
       "#sk-container-id-2 div.sk-estimator {\n",
       "  font-family: monospace;\n",
       "  border: 1px dotted var(--sklearn-color-border-box);\n",
       "  border-radius: 0.25em;\n",
       "  box-sizing: border-box;\n",
       "  margin-bottom: 0.5em;\n",
       "  /* unfitted */\n",
       "  background-color: var(--sklearn-color-unfitted-level-0);\n",
       "}\n",
       "\n",
       "#sk-container-id-2 div.sk-estimator.fitted {\n",
       "  /* fitted */\n",
       "  background-color: var(--sklearn-color-fitted-level-0);\n",
       "}\n",
       "\n",
       "/* on hover */\n",
       "#sk-container-id-2 div.sk-estimator:hover {\n",
       "  /* unfitted */\n",
       "  background-color: var(--sklearn-color-unfitted-level-2);\n",
       "}\n",
       "\n",
       "#sk-container-id-2 div.sk-estimator.fitted:hover {\n",
       "  /* fitted */\n",
       "  background-color: var(--sklearn-color-fitted-level-2);\n",
       "}\n",
       "\n",
       "/* Specification for estimator info (e.g. \"i\" and \"?\") */\n",
       "\n",
       "/* Common style for \"i\" and \"?\" */\n",
       "\n",
       ".sk-estimator-doc-link,\n",
       "a:link.sk-estimator-doc-link,\n",
       "a:visited.sk-estimator-doc-link {\n",
       "  float: right;\n",
       "  font-size: smaller;\n",
       "  line-height: 1em;\n",
       "  font-family: monospace;\n",
       "  background-color: var(--sklearn-color-background);\n",
       "  border-radius: 1em;\n",
       "  height: 1em;\n",
       "  width: 1em;\n",
       "  text-decoration: none !important;\n",
       "  margin-left: 0.5em;\n",
       "  text-align: center;\n",
       "  /* unfitted */\n",
       "  border: var(--sklearn-color-unfitted-level-1) 1pt solid;\n",
       "  color: var(--sklearn-color-unfitted-level-1);\n",
       "}\n",
       "\n",
       ".sk-estimator-doc-link.fitted,\n",
       "a:link.sk-estimator-doc-link.fitted,\n",
       "a:visited.sk-estimator-doc-link.fitted {\n",
       "  /* fitted */\n",
       "  border: var(--sklearn-color-fitted-level-1) 1pt solid;\n",
       "  color: var(--sklearn-color-fitted-level-1);\n",
       "}\n",
       "\n",
       "/* On hover */\n",
       "div.sk-estimator:hover .sk-estimator-doc-link:hover,\n",
       ".sk-estimator-doc-link:hover,\n",
       "div.sk-label-container:hover .sk-estimator-doc-link:hover,\n",
       ".sk-estimator-doc-link:hover {\n",
       "  /* unfitted */\n",
       "  background-color: var(--sklearn-color-unfitted-level-3);\n",
       "  color: var(--sklearn-color-background);\n",
       "  text-decoration: none;\n",
       "}\n",
       "\n",
       "div.sk-estimator.fitted:hover .sk-estimator-doc-link.fitted:hover,\n",
       ".sk-estimator-doc-link.fitted:hover,\n",
       "div.sk-label-container:hover .sk-estimator-doc-link.fitted:hover,\n",
       ".sk-estimator-doc-link.fitted:hover {\n",
       "  /* fitted */\n",
       "  background-color: var(--sklearn-color-fitted-level-3);\n",
       "  color: var(--sklearn-color-background);\n",
       "  text-decoration: none;\n",
       "}\n",
       "\n",
       "/* Span, style for the box shown on hovering the info icon */\n",
       ".sk-estimator-doc-link span {\n",
       "  display: none;\n",
       "  z-index: 9999;\n",
       "  position: relative;\n",
       "  font-weight: normal;\n",
       "  right: .2ex;\n",
       "  padding: .5ex;\n",
       "  margin: .5ex;\n",
       "  width: min-content;\n",
       "  min-width: 20ex;\n",
       "  max-width: 50ex;\n",
       "  color: var(--sklearn-color-text);\n",
       "  box-shadow: 2pt 2pt 4pt #999;\n",
       "  /* unfitted */\n",
       "  background: var(--sklearn-color-unfitted-level-0);\n",
       "  border: .5pt solid var(--sklearn-color-unfitted-level-3);\n",
       "}\n",
       "\n",
       ".sk-estimator-doc-link.fitted span {\n",
       "  /* fitted */\n",
       "  background: var(--sklearn-color-fitted-level-0);\n",
       "  border: var(--sklearn-color-fitted-level-3);\n",
       "}\n",
       "\n",
       ".sk-estimator-doc-link:hover span {\n",
       "  display: block;\n",
       "}\n",
       "\n",
       "/* \"?\"-specific style due to the `<a>` HTML tag */\n",
       "\n",
       "#sk-container-id-2 a.estimator_doc_link {\n",
       "  float: right;\n",
       "  font-size: 1rem;\n",
       "  line-height: 1em;\n",
       "  font-family: monospace;\n",
       "  background-color: var(--sklearn-color-background);\n",
       "  border-radius: 1rem;\n",
       "  height: 1rem;\n",
       "  width: 1rem;\n",
       "  text-decoration: none;\n",
       "  /* unfitted */\n",
       "  color: var(--sklearn-color-unfitted-level-1);\n",
       "  border: var(--sklearn-color-unfitted-level-1) 1pt solid;\n",
       "}\n",
       "\n",
       "#sk-container-id-2 a.estimator_doc_link.fitted {\n",
       "  /* fitted */\n",
       "  border: var(--sklearn-color-fitted-level-1) 1pt solid;\n",
       "  color: var(--sklearn-color-fitted-level-1);\n",
       "}\n",
       "\n",
       "/* On hover */\n",
       "#sk-container-id-2 a.estimator_doc_link:hover {\n",
       "  /* unfitted */\n",
       "  background-color: var(--sklearn-color-unfitted-level-3);\n",
       "  color: var(--sklearn-color-background);\n",
       "  text-decoration: none;\n",
       "}\n",
       "\n",
       "#sk-container-id-2 a.estimator_doc_link.fitted:hover {\n",
       "  /* fitted */\n",
       "  background-color: var(--sklearn-color-fitted-level-3);\n",
       "}\n",
       "</style><div id=\"sk-container-id-2\" class=\"sk-top-container\"><div class=\"sk-text-repr-fallback\"><pre>LinearRegression()</pre><b>In a Jupyter environment, please rerun this cell to show the HTML representation or trust the notebook. <br />On GitHub, the HTML representation is unable to render, please try loading this page with nbviewer.org.</b></div><div class=\"sk-container\" hidden><div class=\"sk-item\"><div class=\"sk-estimator fitted sk-toggleable\"><input class=\"sk-toggleable__control sk-hidden--visually\" id=\"sk-estimator-id-2\" type=\"checkbox\" checked><label for=\"sk-estimator-id-2\" class=\"sk-toggleable__label fitted sk-toggleable__label-arrow\"><div><div>LinearRegression</div></div><div><a class=\"sk-estimator-doc-link fitted\" rel=\"noreferrer\" target=\"_blank\" href=\"https://scikit-learn.org/1.6/modules/generated/sklearn.linear_model.LinearRegression.html\">?<span>Documentation for LinearRegression</span></a><span class=\"sk-estimator-doc-link fitted\">i<span>Fitted</span></span></div></label><div class=\"sk-toggleable__content fitted\"><pre>LinearRegression()</pre></div> </div></div></div></div>"
      ],
      "text/plain": [
       "LinearRegression()"
      ]
     },
     "execution_count": 244,
     "metadata": {},
     "output_type": "execute_result"
    }
   ],
   "source": [
    "model = LinearRegression()\n",
    "%%time\n",
    "model.fit(X_train, y_train)"
   ]
  },
  {
   "cell_type": "code",
   "execution_count": 245,
   "metadata": {},
   "outputs": [],
   "source": [
    "y_pred = model.predict(X_test)"
   ]
  },
  {
   "cell_type": "code",
   "execution_count": 275,
   "metadata": {},
   "outputs": [
    {
     "name": "stdout",
     "output_type": "stream",
     "text": [
      "RMSE: 2823.851067960083\n",
      "R^2: 0.4785744059332544\n"
     ]
    }
   ],
   "source": [
    "mse = mean_squared_error(y_test, y_pred)\n",
    "rmse = np.sqrt(mse)\n",
    "r2 = r2_score(y_test, y_pred)\n",
    "\n",
    "print(f\"RMSE: {rmse}\")\n",
    "print(f\"R^2: {r2}\")"
   ]
  },
  {
   "cell_type": "raw",
   "metadata": {},
   "source": [
    "R²: 0.4786\n",
    "Коэффициент детерминации — это доля дисперсии целевой переменной, которую объясняет модель. Диапазон:\n",
    "\n",
    "0 = модель бесполезна\n",
    "\n",
    "1 = идеальное предсказание\n",
    "\n",
    "< 0 = модель хуже, чем просто среднее\n",
    "\n",
    "🔹 Модель объясняет около 47.9% разброса в цене.\n",
    "\n",
    "Это неплохой результат для базовой линейной регрессии на \"сырых\" данных, особенно с выбросами и грязными признаками. Но он говорит, что больше половины вариации в цене остаётся необъяснённой.\n",
    "\n"
   ]
  },
  {
   "cell_type": "markdown",
   "metadata": {},
   "source": [
    "К сожалению, не проходит порог rmse в 2500"
   ]
  },
  {
   "cell_type": "markdown",
   "metadata": {},
   "source": [
    "Посмотрим какие признаки влияют на модель"
   ]
  },
  {
   "cell_type": "code",
   "execution_count": 247,
   "metadata": {},
   "outputs": [
    {
     "data": {
      "text/plain": [
       "FuelType_electric              88\n",
       "FuelType_other                154\n",
       "FuelType_hybrid               230\n",
       "VehicleType_other            2927\n",
       "FuelType_lpg                 5193\n",
       "VehicleType_suv             12218\n",
       "VehicleType_coupe           15335\n",
       "VehicleType_convertible     19736\n",
       "Repaired_yes                31942\n",
       "RegSeason_unknown           32669\n",
       "BrandClass_other            37776\n",
       "Repaired_unknown            64087\n",
       "RegSeason_winter            65760\n",
       "VehicleType_wagon           67137\n",
       "RegSeason_summer            77931\n",
       "VehicleType_small           83801\n",
       "RegSeason_spring            88779\n",
       "BrandClass_premium         101321\n",
       "FuelType_gasoline          102925\n",
       "VehicleType_sedan          104364\n",
       "BrandClass_mass            176245\n",
       "FuelType_petrol            227690\n",
       "Gearbox_manual             270518\n",
       "dtype: int64"
      ]
     },
     "execution_count": 247,
     "metadata": {},
     "output_type": "execute_result"
    }
   ],
   "source": [
    "X.iloc[:, 4:].sum().sort_values()\n"
   ]
  },
  {
   "cell_type": "code",
   "execution_count": 248,
   "metadata": {},
   "outputs": [
    {
     "name": "stdout",
     "output_type": "stream",
     "text": [
      "VehicleType_suv            2051.834140\n",
      "BrandClass_premium         1527.304595\n",
      "FuelType_electric         -1416.839359\n",
      "Repaired_yes              -1337.956264\n",
      "FuelType_hybrid            1301.673308\n",
      "FuelType_lpg              -1090.926821\n",
      "VehicleType_convertible    1086.754978\n",
      "VehicleType_wagon          -927.493324\n",
      "Repaired_unknown           -864.707660\n",
      "VehicleType_sedan          -782.713961\n",
      "FuelType_petrol            -751.145110\n",
      "FuelType_other             -735.212998\n",
      "RegSeason_unknown          -526.576786\n",
      "FuelType_gasoline           479.719345\n",
      "VehicleType_small          -476.954378\n",
      "BrandClass_mass             366.849863\n",
      "VehicleType_other          -309.547010\n",
      "Gearbox_manual             -250.158083\n",
      "BrandClass_other            237.223264\n",
      "CarAge                     -151.890887\n",
      "VehicleType_coupe           100.760597\n",
      "RegSeason_spring            -79.931624\n",
      "RegSeason_summer            -62.161364\n",
      "RegSeason_winter            -53.714679\n",
      "Power                        28.190538\n",
      "Kilometer                    -0.020800\n",
      "ModelFreq                    -0.007528\n",
      "dtype: float64\n"
     ]
    }
   ],
   "source": [
    "coefs = pd.Series(model.coef_, index=X_train.columns)\n",
    "coefs_sorted = coefs.sort_values(key=abs, ascending=False)  # сортировка по модулю\n",
    "print(coefs_sorted)"
   ]
  },
  {
   "cell_type": "code",
   "execution_count": null,
   "metadata": {},
   "outputs": [],
   "source": []
  },
  {
   "cell_type": "code",
   "execution_count": null,
   "metadata": {},
   "outputs": [],
   "source": []
  },
  {
   "cell_type": "markdown",
   "metadata": {},
   "source": [
    "Имеются признаки с редкими значениями дают большие веса. Это опасно для линейной модели — т.к она пытается \"запомнить\" редкость, а не обучиться закономерности:\n",
    "\n",
    "FuelType_electric: 88 примеров, но вес −1400 — вероятно переобучение\n",
    "\n",
    "FuelType_hybrid: 230 строк — вес +1300\n",
    "\n",
    "FuelType_lpg, FuelType_other: то же самое\n",
    "\n",
    "Вывод: это сильный аргумент за то, чтобы объединить в FuelType_rare"
   ]
  },
  {
   "cell_type": "code",
   "execution_count": 249,
   "metadata": {},
   "outputs": [],
   "source": [
    "rare_fuels = [\"electric\", \"hybrid\", \"lpg\", \"other\"]\n",
    "data[\"FuelType\"] = data[\"FuelType\"].replace(rare_fuels, \"rare\")\n",
    "\n"
   ]
  },
  {
   "cell_type": "code",
   "execution_count": 250,
   "metadata": {},
   "outputs": [],
   "source": [
    "from sklearn.preprocessing import StandardScaler\n",
    "\n",
    "\n"
   ]
  },
  {
   "cell_type": "code",
   "execution_count": 252,
   "metadata": {},
   "outputs": [
    {
     "name": "stdout",
     "output_type": "stream",
     "text": [
      "<class 'pandas.core.frame.DataFrame'>\n",
      "Index: 336829 entries, 1 to 354368\n",
      "Data columns (total 20 columns):\n",
      " #   Column             Non-Null Count   Dtype         \n",
      "---  ------             --------------   -----         \n",
      " 0   DateCrawled        336829 non-null  datetime64[ns]\n",
      " 1   Price              336829 non-null  int64         \n",
      " 2   VehicleType        336829 non-null  object        \n",
      " 3   RegistrationYear   336829 non-null  int64         \n",
      " 4   Gearbox            336829 non-null  object        \n",
      " 5   Power              336829 non-null  int64         \n",
      " 6   Model              336829 non-null  object        \n",
      " 7   Kilometer          336829 non-null  int64         \n",
      " 8   RegistrationMonth  336829 non-null  int64         \n",
      " 9   FuelType           336829 non-null  object        \n",
      " 10  Brand              336829 non-null  object        \n",
      " 11  Repaired           336829 non-null  object        \n",
      " 12  DateCreated        336829 non-null  datetime64[ns]\n",
      " 13  PostalCode         336829 non-null  int64         \n",
      " 14  LastSeen           336829 non-null  datetime64[ns]\n",
      " 15  Price_log          336829 non-null  float64       \n",
      " 16  CarAge             336829 non-null  int64         \n",
      " 17  RegSeason          336829 non-null  object        \n",
      " 18  ModelFreq          336829 non-null  int64         \n",
      " 19  BrandClass         336829 non-null  object        \n",
      "dtypes: datetime64[ns](3), float64(1), int64(8), object(8)\n",
      "memory usage: 54.0+ MB\n"
     ]
    }
   ],
   "source": [
    "data.info()"
   ]
  },
  {
   "cell_type": "code",
   "execution_count": 253,
   "metadata": {},
   "outputs": [
    {
     "data": {
      "text/plain": [
       "array(['gasoline', 'petrol', 'rare', 'cng'], dtype=object)"
      ]
     },
     "execution_count": 253,
     "metadata": {},
     "output_type": "execute_result"
    }
   ],
   "source": [
    "data.FuelType.unique()"
   ]
  },
  {
   "cell_type": "code",
   "execution_count": 276,
   "metadata": {},
   "outputs": [],
   "source": [
    "X2 = data.drop(columns=['Price','DateCrawled', 'RegistrationYear', 'Model', 'RegistrationMonth', 'Brand', 'DateCreated', 'PostalCode', 'LastSeen', 'Price_log'] )  # признаки\n",
    "y2 = data[\"Price\"] # целевая переменная\n",
    "\n",
    "X2 = pd.get_dummies(X2, columns=[\"FuelType\"], drop_first=True)\n",
    "X2 = pd.get_dummies(X2, columns=[\"VehicleType\"], drop_first=True)\n",
    "X2 = pd.get_dummies(X2, columns=[\"Gearbox\"], drop_first=True)\n",
    "X2 = pd.get_dummies(X2, columns=[\"Repaired\"], drop_first=True)\n",
    "X2 = pd.get_dummies(X2, columns=[\"RegSeason\"], drop_first=True)\n",
    "X2 = pd.get_dummies(X2, columns=[\"BrandClass\"], drop_first=True)\n",
    "\n",
    "X_train2, X_test2, y_train2, y_test2 = train_test_split(X2, y2, test_size=0.2, random_state=42)\n",
    "\n",
    "\n",
    "num_cols = [\"Power\", \"Kilometer\", \"CarAge\", \"ModelFreq\"]\n",
    "scaler2 = StandardScaler()\n",
    "X_train2[num_cols] = scaler2.fit_transform(X_train2[num_cols])\n",
    "X_test2[num_cols] = scaler2.transform(X_test2[num_cols])\n",
    "\n",
    "model2 = LinearRegression()\n",
    "\n"
   ]
  },
  {
   "cell_type": "code",
   "execution_count": 280,
   "metadata": {},
   "outputs": [
    {
     "name": "stdout",
     "output_type": "stream",
     "text": [
      "CPU times: user 421 ms, sys: 55.8 ms, total: 477 ms\n",
      "Wall time: 205 ms\n"
     ]
    },
    {
     "data": {
      "text/html": [
       "<style>#sk-container-id-5 {\n",
       "  /* Definition of color scheme common for light and dark mode */\n",
       "  --sklearn-color-text: #000;\n",
       "  --sklearn-color-text-muted: #666;\n",
       "  --sklearn-color-line: gray;\n",
       "  /* Definition of color scheme for unfitted estimators */\n",
       "  --sklearn-color-unfitted-level-0: #fff5e6;\n",
       "  --sklearn-color-unfitted-level-1: #f6e4d2;\n",
       "  --sklearn-color-unfitted-level-2: #ffe0b3;\n",
       "  --sklearn-color-unfitted-level-3: chocolate;\n",
       "  /* Definition of color scheme for fitted estimators */\n",
       "  --sklearn-color-fitted-level-0: #f0f8ff;\n",
       "  --sklearn-color-fitted-level-1: #d4ebff;\n",
       "  --sklearn-color-fitted-level-2: #b3dbfd;\n",
       "  --sklearn-color-fitted-level-3: cornflowerblue;\n",
       "\n",
       "  /* Specific color for light theme */\n",
       "  --sklearn-color-text-on-default-background: var(--sg-text-color, var(--theme-code-foreground, var(--jp-content-font-color1, black)));\n",
       "  --sklearn-color-background: var(--sg-background-color, var(--theme-background, var(--jp-layout-color0, white)));\n",
       "  --sklearn-color-border-box: var(--sg-text-color, var(--theme-code-foreground, var(--jp-content-font-color1, black)));\n",
       "  --sklearn-color-icon: #696969;\n",
       "\n",
       "  @media (prefers-color-scheme: dark) {\n",
       "    /* Redefinition of color scheme for dark theme */\n",
       "    --sklearn-color-text-on-default-background: var(--sg-text-color, var(--theme-code-foreground, var(--jp-content-font-color1, white)));\n",
       "    --sklearn-color-background: var(--sg-background-color, var(--theme-background, var(--jp-layout-color0, #111)));\n",
       "    --sklearn-color-border-box: var(--sg-text-color, var(--theme-code-foreground, var(--jp-content-font-color1, white)));\n",
       "    --sklearn-color-icon: #878787;\n",
       "  }\n",
       "}\n",
       "\n",
       "#sk-container-id-5 {\n",
       "  color: var(--sklearn-color-text);\n",
       "}\n",
       "\n",
       "#sk-container-id-5 pre {\n",
       "  padding: 0;\n",
       "}\n",
       "\n",
       "#sk-container-id-5 input.sk-hidden--visually {\n",
       "  border: 0;\n",
       "  clip: rect(1px 1px 1px 1px);\n",
       "  clip: rect(1px, 1px, 1px, 1px);\n",
       "  height: 1px;\n",
       "  margin: -1px;\n",
       "  overflow: hidden;\n",
       "  padding: 0;\n",
       "  position: absolute;\n",
       "  width: 1px;\n",
       "}\n",
       "\n",
       "#sk-container-id-5 div.sk-dashed-wrapped {\n",
       "  border: 1px dashed var(--sklearn-color-line);\n",
       "  margin: 0 0.4em 0.5em 0.4em;\n",
       "  box-sizing: border-box;\n",
       "  padding-bottom: 0.4em;\n",
       "  background-color: var(--sklearn-color-background);\n",
       "}\n",
       "\n",
       "#sk-container-id-5 div.sk-container {\n",
       "  /* jupyter's `normalize.less` sets `[hidden] { display: none; }`\n",
       "     but bootstrap.min.css set `[hidden] { display: none !important; }`\n",
       "     so we also need the `!important` here to be able to override the\n",
       "     default hidden behavior on the sphinx rendered scikit-learn.org.\n",
       "     See: https://github.com/scikit-learn/scikit-learn/issues/21755 */\n",
       "  display: inline-block !important;\n",
       "  position: relative;\n",
       "}\n",
       "\n",
       "#sk-container-id-5 div.sk-text-repr-fallback {\n",
       "  display: none;\n",
       "}\n",
       "\n",
       "div.sk-parallel-item,\n",
       "div.sk-serial,\n",
       "div.sk-item {\n",
       "  /* draw centered vertical line to link estimators */\n",
       "  background-image: linear-gradient(var(--sklearn-color-text-on-default-background), var(--sklearn-color-text-on-default-background));\n",
       "  background-size: 2px 100%;\n",
       "  background-repeat: no-repeat;\n",
       "  background-position: center center;\n",
       "}\n",
       "\n",
       "/* Parallel-specific style estimator block */\n",
       "\n",
       "#sk-container-id-5 div.sk-parallel-item::after {\n",
       "  content: \"\";\n",
       "  width: 100%;\n",
       "  border-bottom: 2px solid var(--sklearn-color-text-on-default-background);\n",
       "  flex-grow: 1;\n",
       "}\n",
       "\n",
       "#sk-container-id-5 div.sk-parallel {\n",
       "  display: flex;\n",
       "  align-items: stretch;\n",
       "  justify-content: center;\n",
       "  background-color: var(--sklearn-color-background);\n",
       "  position: relative;\n",
       "}\n",
       "\n",
       "#sk-container-id-5 div.sk-parallel-item {\n",
       "  display: flex;\n",
       "  flex-direction: column;\n",
       "}\n",
       "\n",
       "#sk-container-id-5 div.sk-parallel-item:first-child::after {\n",
       "  align-self: flex-end;\n",
       "  width: 50%;\n",
       "}\n",
       "\n",
       "#sk-container-id-5 div.sk-parallel-item:last-child::after {\n",
       "  align-self: flex-start;\n",
       "  width: 50%;\n",
       "}\n",
       "\n",
       "#sk-container-id-5 div.sk-parallel-item:only-child::after {\n",
       "  width: 0;\n",
       "}\n",
       "\n",
       "/* Serial-specific style estimator block */\n",
       "\n",
       "#sk-container-id-5 div.sk-serial {\n",
       "  display: flex;\n",
       "  flex-direction: column;\n",
       "  align-items: center;\n",
       "  background-color: var(--sklearn-color-background);\n",
       "  padding-right: 1em;\n",
       "  padding-left: 1em;\n",
       "}\n",
       "\n",
       "\n",
       "/* Toggleable style: style used for estimator/Pipeline/ColumnTransformer box that is\n",
       "clickable and can be expanded/collapsed.\n",
       "- Pipeline and ColumnTransformer use this feature and define the default style\n",
       "- Estimators will overwrite some part of the style using the `sk-estimator` class\n",
       "*/\n",
       "\n",
       "/* Pipeline and ColumnTransformer style (default) */\n",
       "\n",
       "#sk-container-id-5 div.sk-toggleable {\n",
       "  /* Default theme specific background. It is overwritten whether we have a\n",
       "  specific estimator or a Pipeline/ColumnTransformer */\n",
       "  background-color: var(--sklearn-color-background);\n",
       "}\n",
       "\n",
       "/* Toggleable label */\n",
       "#sk-container-id-5 label.sk-toggleable__label {\n",
       "  cursor: pointer;\n",
       "  display: flex;\n",
       "  width: 100%;\n",
       "  margin-bottom: 0;\n",
       "  padding: 0.5em;\n",
       "  box-sizing: border-box;\n",
       "  text-align: center;\n",
       "  align-items: start;\n",
       "  justify-content: space-between;\n",
       "  gap: 0.5em;\n",
       "}\n",
       "\n",
       "#sk-container-id-5 label.sk-toggleable__label .caption {\n",
       "  font-size: 0.6rem;\n",
       "  font-weight: lighter;\n",
       "  color: var(--sklearn-color-text-muted);\n",
       "}\n",
       "\n",
       "#sk-container-id-5 label.sk-toggleable__label-arrow:before {\n",
       "  /* Arrow on the left of the label */\n",
       "  content: \"▸\";\n",
       "  float: left;\n",
       "  margin-right: 0.25em;\n",
       "  color: var(--sklearn-color-icon);\n",
       "}\n",
       "\n",
       "#sk-container-id-5 label.sk-toggleable__label-arrow:hover:before {\n",
       "  color: var(--sklearn-color-text);\n",
       "}\n",
       "\n",
       "/* Toggleable content - dropdown */\n",
       "\n",
       "#sk-container-id-5 div.sk-toggleable__content {\n",
       "  max-height: 0;\n",
       "  max-width: 0;\n",
       "  overflow: hidden;\n",
       "  text-align: left;\n",
       "  /* unfitted */\n",
       "  background-color: var(--sklearn-color-unfitted-level-0);\n",
       "}\n",
       "\n",
       "#sk-container-id-5 div.sk-toggleable__content.fitted {\n",
       "  /* fitted */\n",
       "  background-color: var(--sklearn-color-fitted-level-0);\n",
       "}\n",
       "\n",
       "#sk-container-id-5 div.sk-toggleable__content pre {\n",
       "  margin: 0.2em;\n",
       "  border-radius: 0.25em;\n",
       "  color: var(--sklearn-color-text);\n",
       "  /* unfitted */\n",
       "  background-color: var(--sklearn-color-unfitted-level-0);\n",
       "}\n",
       "\n",
       "#sk-container-id-5 div.sk-toggleable__content.fitted pre {\n",
       "  /* unfitted */\n",
       "  background-color: var(--sklearn-color-fitted-level-0);\n",
       "}\n",
       "\n",
       "#sk-container-id-5 input.sk-toggleable__control:checked~div.sk-toggleable__content {\n",
       "  /* Expand drop-down */\n",
       "  max-height: 200px;\n",
       "  max-width: 100%;\n",
       "  overflow: auto;\n",
       "}\n",
       "\n",
       "#sk-container-id-5 input.sk-toggleable__control:checked~label.sk-toggleable__label-arrow:before {\n",
       "  content: \"▾\";\n",
       "}\n",
       "\n",
       "/* Pipeline/ColumnTransformer-specific style */\n",
       "\n",
       "#sk-container-id-5 div.sk-label input.sk-toggleable__control:checked~label.sk-toggleable__label {\n",
       "  color: var(--sklearn-color-text);\n",
       "  background-color: var(--sklearn-color-unfitted-level-2);\n",
       "}\n",
       "\n",
       "#sk-container-id-5 div.sk-label.fitted input.sk-toggleable__control:checked~label.sk-toggleable__label {\n",
       "  background-color: var(--sklearn-color-fitted-level-2);\n",
       "}\n",
       "\n",
       "/* Estimator-specific style */\n",
       "\n",
       "/* Colorize estimator box */\n",
       "#sk-container-id-5 div.sk-estimator input.sk-toggleable__control:checked~label.sk-toggleable__label {\n",
       "  /* unfitted */\n",
       "  background-color: var(--sklearn-color-unfitted-level-2);\n",
       "}\n",
       "\n",
       "#sk-container-id-5 div.sk-estimator.fitted input.sk-toggleable__control:checked~label.sk-toggleable__label {\n",
       "  /* fitted */\n",
       "  background-color: var(--sklearn-color-fitted-level-2);\n",
       "}\n",
       "\n",
       "#sk-container-id-5 div.sk-label label.sk-toggleable__label,\n",
       "#sk-container-id-5 div.sk-label label {\n",
       "  /* The background is the default theme color */\n",
       "  color: var(--sklearn-color-text-on-default-background);\n",
       "}\n",
       "\n",
       "/* On hover, darken the color of the background */\n",
       "#sk-container-id-5 div.sk-label:hover label.sk-toggleable__label {\n",
       "  color: var(--sklearn-color-text);\n",
       "  background-color: var(--sklearn-color-unfitted-level-2);\n",
       "}\n",
       "\n",
       "/* Label box, darken color on hover, fitted */\n",
       "#sk-container-id-5 div.sk-label.fitted:hover label.sk-toggleable__label.fitted {\n",
       "  color: var(--sklearn-color-text);\n",
       "  background-color: var(--sklearn-color-fitted-level-2);\n",
       "}\n",
       "\n",
       "/* Estimator label */\n",
       "\n",
       "#sk-container-id-5 div.sk-label label {\n",
       "  font-family: monospace;\n",
       "  font-weight: bold;\n",
       "  display: inline-block;\n",
       "  line-height: 1.2em;\n",
       "}\n",
       "\n",
       "#sk-container-id-5 div.sk-label-container {\n",
       "  text-align: center;\n",
       "}\n",
       "\n",
       "/* Estimator-specific */\n",
       "#sk-container-id-5 div.sk-estimator {\n",
       "  font-family: monospace;\n",
       "  border: 1px dotted var(--sklearn-color-border-box);\n",
       "  border-radius: 0.25em;\n",
       "  box-sizing: border-box;\n",
       "  margin-bottom: 0.5em;\n",
       "  /* unfitted */\n",
       "  background-color: var(--sklearn-color-unfitted-level-0);\n",
       "}\n",
       "\n",
       "#sk-container-id-5 div.sk-estimator.fitted {\n",
       "  /* fitted */\n",
       "  background-color: var(--sklearn-color-fitted-level-0);\n",
       "}\n",
       "\n",
       "/* on hover */\n",
       "#sk-container-id-5 div.sk-estimator:hover {\n",
       "  /* unfitted */\n",
       "  background-color: var(--sklearn-color-unfitted-level-2);\n",
       "}\n",
       "\n",
       "#sk-container-id-5 div.sk-estimator.fitted:hover {\n",
       "  /* fitted */\n",
       "  background-color: var(--sklearn-color-fitted-level-2);\n",
       "}\n",
       "\n",
       "/* Specification for estimator info (e.g. \"i\" and \"?\") */\n",
       "\n",
       "/* Common style for \"i\" and \"?\" */\n",
       "\n",
       ".sk-estimator-doc-link,\n",
       "a:link.sk-estimator-doc-link,\n",
       "a:visited.sk-estimator-doc-link {\n",
       "  float: right;\n",
       "  font-size: smaller;\n",
       "  line-height: 1em;\n",
       "  font-family: monospace;\n",
       "  background-color: var(--sklearn-color-background);\n",
       "  border-radius: 1em;\n",
       "  height: 1em;\n",
       "  width: 1em;\n",
       "  text-decoration: none !important;\n",
       "  margin-left: 0.5em;\n",
       "  text-align: center;\n",
       "  /* unfitted */\n",
       "  border: var(--sklearn-color-unfitted-level-1) 1pt solid;\n",
       "  color: var(--sklearn-color-unfitted-level-1);\n",
       "}\n",
       "\n",
       ".sk-estimator-doc-link.fitted,\n",
       "a:link.sk-estimator-doc-link.fitted,\n",
       "a:visited.sk-estimator-doc-link.fitted {\n",
       "  /* fitted */\n",
       "  border: var(--sklearn-color-fitted-level-1) 1pt solid;\n",
       "  color: var(--sklearn-color-fitted-level-1);\n",
       "}\n",
       "\n",
       "/* On hover */\n",
       "div.sk-estimator:hover .sk-estimator-doc-link:hover,\n",
       ".sk-estimator-doc-link:hover,\n",
       "div.sk-label-container:hover .sk-estimator-doc-link:hover,\n",
       ".sk-estimator-doc-link:hover {\n",
       "  /* unfitted */\n",
       "  background-color: var(--sklearn-color-unfitted-level-3);\n",
       "  color: var(--sklearn-color-background);\n",
       "  text-decoration: none;\n",
       "}\n",
       "\n",
       "div.sk-estimator.fitted:hover .sk-estimator-doc-link.fitted:hover,\n",
       ".sk-estimator-doc-link.fitted:hover,\n",
       "div.sk-label-container:hover .sk-estimator-doc-link.fitted:hover,\n",
       ".sk-estimator-doc-link.fitted:hover {\n",
       "  /* fitted */\n",
       "  background-color: var(--sklearn-color-fitted-level-3);\n",
       "  color: var(--sklearn-color-background);\n",
       "  text-decoration: none;\n",
       "}\n",
       "\n",
       "/* Span, style for the box shown on hovering the info icon */\n",
       ".sk-estimator-doc-link span {\n",
       "  display: none;\n",
       "  z-index: 9999;\n",
       "  position: relative;\n",
       "  font-weight: normal;\n",
       "  right: .2ex;\n",
       "  padding: .5ex;\n",
       "  margin: .5ex;\n",
       "  width: min-content;\n",
       "  min-width: 20ex;\n",
       "  max-width: 50ex;\n",
       "  color: var(--sklearn-color-text);\n",
       "  box-shadow: 2pt 2pt 4pt #999;\n",
       "  /* unfitted */\n",
       "  background: var(--sklearn-color-unfitted-level-0);\n",
       "  border: .5pt solid var(--sklearn-color-unfitted-level-3);\n",
       "}\n",
       "\n",
       ".sk-estimator-doc-link.fitted span {\n",
       "  /* fitted */\n",
       "  background: var(--sklearn-color-fitted-level-0);\n",
       "  border: var(--sklearn-color-fitted-level-3);\n",
       "}\n",
       "\n",
       ".sk-estimator-doc-link:hover span {\n",
       "  display: block;\n",
       "}\n",
       "\n",
       "/* \"?\"-specific style due to the `<a>` HTML tag */\n",
       "\n",
       "#sk-container-id-5 a.estimator_doc_link {\n",
       "  float: right;\n",
       "  font-size: 1rem;\n",
       "  line-height: 1em;\n",
       "  font-family: monospace;\n",
       "  background-color: var(--sklearn-color-background);\n",
       "  border-radius: 1rem;\n",
       "  height: 1rem;\n",
       "  width: 1rem;\n",
       "  text-decoration: none;\n",
       "  /* unfitted */\n",
       "  color: var(--sklearn-color-unfitted-level-1);\n",
       "  border: var(--sklearn-color-unfitted-level-1) 1pt solid;\n",
       "}\n",
       "\n",
       "#sk-container-id-5 a.estimator_doc_link.fitted {\n",
       "  /* fitted */\n",
       "  border: var(--sklearn-color-fitted-level-1) 1pt solid;\n",
       "  color: var(--sklearn-color-fitted-level-1);\n",
       "}\n",
       "\n",
       "/* On hover */\n",
       "#sk-container-id-5 a.estimator_doc_link:hover {\n",
       "  /* unfitted */\n",
       "  background-color: var(--sklearn-color-unfitted-level-3);\n",
       "  color: var(--sklearn-color-background);\n",
       "  text-decoration: none;\n",
       "}\n",
       "\n",
       "#sk-container-id-5 a.estimator_doc_link.fitted:hover {\n",
       "  /* fitted */\n",
       "  background-color: var(--sklearn-color-fitted-level-3);\n",
       "}\n",
       "</style><div id=\"sk-container-id-5\" class=\"sk-top-container\"><div class=\"sk-text-repr-fallback\"><pre>LinearRegression()</pre><b>In a Jupyter environment, please rerun this cell to show the HTML representation or trust the notebook. <br />On GitHub, the HTML representation is unable to render, please try loading this page with nbviewer.org.</b></div><div class=\"sk-container\" hidden><div class=\"sk-item\"><div class=\"sk-estimator fitted sk-toggleable\"><input class=\"sk-toggleable__control sk-hidden--visually\" id=\"sk-estimator-id-5\" type=\"checkbox\" checked><label for=\"sk-estimator-id-5\" class=\"sk-toggleable__label fitted sk-toggleable__label-arrow\"><div><div>LinearRegression</div></div><div><a class=\"sk-estimator-doc-link fitted\" rel=\"noreferrer\" target=\"_blank\" href=\"https://scikit-learn.org/1.6/modules/generated/sklearn.linear_model.LinearRegression.html\">?<span>Documentation for LinearRegression</span></a><span class=\"sk-estimator-doc-link fitted\">i<span>Fitted</span></span></div></label><div class=\"sk-toggleable__content fitted\"><pre>LinearRegression()</pre></div> </div></div></div></div>"
      ],
      "text/plain": [
       "LinearRegression()"
      ]
     },
     "execution_count": 280,
     "metadata": {},
     "output_type": "execute_result"
    }
   ],
   "source": [
    "%%time\n",
    "model2.fit(X_train2, y_train2)"
   ]
  },
  {
   "cell_type": "code",
   "execution_count": 278,
   "metadata": {},
   "outputs": [
    {
     "name": "stdout",
     "output_type": "stream",
     "text": [
      "RMSE: 2824.9365455029\n",
      "R^2: 0.4781734608817698\n"
     ]
    }
   ],
   "source": [
    "\n",
    "y_pred2 = model2.predict(X_test2)\n",
    "\n",
    "mse2= mean_squared_error(y_test2, y_pred2)\n",
    "rmse2 = np.sqrt(mse2)\n",
    "r2_2 = r2_score(y_test2, y_pred2)\n",
    "\n",
    "print(f\"RMSE: {rmse2}\")\n",
    "print(f\"R^2: {r2_2}\")"
   ]
  },
  {
   "cell_type": "markdown",
   "metadata": {},
   "source": [
    "Не помогло"
   ]
  },
  {
   "cell_type": "code",
   "execution_count": 283,
   "metadata": {},
   "outputs": [],
   "source": [
    "model3 = Ridge(alpha=1.0)\n"
   ]
  },
  {
   "cell_type": "code",
   "execution_count": 286,
   "metadata": {},
   "outputs": [
    {
     "name": "stdout",
     "output_type": "stream",
     "text": [
      "CPU times: user 74.6 ms, sys: 48.8 ms, total: 123 ms\n",
      "Wall time: 121 ms\n"
     ]
    },
    {
     "data": {
      "text/html": [
       "<style>#sk-container-id-7 {\n",
       "  /* Definition of color scheme common for light and dark mode */\n",
       "  --sklearn-color-text: #000;\n",
       "  --sklearn-color-text-muted: #666;\n",
       "  --sklearn-color-line: gray;\n",
       "  /* Definition of color scheme for unfitted estimators */\n",
       "  --sklearn-color-unfitted-level-0: #fff5e6;\n",
       "  --sklearn-color-unfitted-level-1: #f6e4d2;\n",
       "  --sklearn-color-unfitted-level-2: #ffe0b3;\n",
       "  --sklearn-color-unfitted-level-3: chocolate;\n",
       "  /* Definition of color scheme for fitted estimators */\n",
       "  --sklearn-color-fitted-level-0: #f0f8ff;\n",
       "  --sklearn-color-fitted-level-1: #d4ebff;\n",
       "  --sklearn-color-fitted-level-2: #b3dbfd;\n",
       "  --sklearn-color-fitted-level-3: cornflowerblue;\n",
       "\n",
       "  /* Specific color for light theme */\n",
       "  --sklearn-color-text-on-default-background: var(--sg-text-color, var(--theme-code-foreground, var(--jp-content-font-color1, black)));\n",
       "  --sklearn-color-background: var(--sg-background-color, var(--theme-background, var(--jp-layout-color0, white)));\n",
       "  --sklearn-color-border-box: var(--sg-text-color, var(--theme-code-foreground, var(--jp-content-font-color1, black)));\n",
       "  --sklearn-color-icon: #696969;\n",
       "\n",
       "  @media (prefers-color-scheme: dark) {\n",
       "    /* Redefinition of color scheme for dark theme */\n",
       "    --sklearn-color-text-on-default-background: var(--sg-text-color, var(--theme-code-foreground, var(--jp-content-font-color1, white)));\n",
       "    --sklearn-color-background: var(--sg-background-color, var(--theme-background, var(--jp-layout-color0, #111)));\n",
       "    --sklearn-color-border-box: var(--sg-text-color, var(--theme-code-foreground, var(--jp-content-font-color1, white)));\n",
       "    --sklearn-color-icon: #878787;\n",
       "  }\n",
       "}\n",
       "\n",
       "#sk-container-id-7 {\n",
       "  color: var(--sklearn-color-text);\n",
       "}\n",
       "\n",
       "#sk-container-id-7 pre {\n",
       "  padding: 0;\n",
       "}\n",
       "\n",
       "#sk-container-id-7 input.sk-hidden--visually {\n",
       "  border: 0;\n",
       "  clip: rect(1px 1px 1px 1px);\n",
       "  clip: rect(1px, 1px, 1px, 1px);\n",
       "  height: 1px;\n",
       "  margin: -1px;\n",
       "  overflow: hidden;\n",
       "  padding: 0;\n",
       "  position: absolute;\n",
       "  width: 1px;\n",
       "}\n",
       "\n",
       "#sk-container-id-7 div.sk-dashed-wrapped {\n",
       "  border: 1px dashed var(--sklearn-color-line);\n",
       "  margin: 0 0.4em 0.5em 0.4em;\n",
       "  box-sizing: border-box;\n",
       "  padding-bottom: 0.4em;\n",
       "  background-color: var(--sklearn-color-background);\n",
       "}\n",
       "\n",
       "#sk-container-id-7 div.sk-container {\n",
       "  /* jupyter's `normalize.less` sets `[hidden] { display: none; }`\n",
       "     but bootstrap.min.css set `[hidden] { display: none !important; }`\n",
       "     so we also need the `!important` here to be able to override the\n",
       "     default hidden behavior on the sphinx rendered scikit-learn.org.\n",
       "     See: https://github.com/scikit-learn/scikit-learn/issues/21755 */\n",
       "  display: inline-block !important;\n",
       "  position: relative;\n",
       "}\n",
       "\n",
       "#sk-container-id-7 div.sk-text-repr-fallback {\n",
       "  display: none;\n",
       "}\n",
       "\n",
       "div.sk-parallel-item,\n",
       "div.sk-serial,\n",
       "div.sk-item {\n",
       "  /* draw centered vertical line to link estimators */\n",
       "  background-image: linear-gradient(var(--sklearn-color-text-on-default-background), var(--sklearn-color-text-on-default-background));\n",
       "  background-size: 2px 100%;\n",
       "  background-repeat: no-repeat;\n",
       "  background-position: center center;\n",
       "}\n",
       "\n",
       "/* Parallel-specific style estimator block */\n",
       "\n",
       "#sk-container-id-7 div.sk-parallel-item::after {\n",
       "  content: \"\";\n",
       "  width: 100%;\n",
       "  border-bottom: 2px solid var(--sklearn-color-text-on-default-background);\n",
       "  flex-grow: 1;\n",
       "}\n",
       "\n",
       "#sk-container-id-7 div.sk-parallel {\n",
       "  display: flex;\n",
       "  align-items: stretch;\n",
       "  justify-content: center;\n",
       "  background-color: var(--sklearn-color-background);\n",
       "  position: relative;\n",
       "}\n",
       "\n",
       "#sk-container-id-7 div.sk-parallel-item {\n",
       "  display: flex;\n",
       "  flex-direction: column;\n",
       "}\n",
       "\n",
       "#sk-container-id-7 div.sk-parallel-item:first-child::after {\n",
       "  align-self: flex-end;\n",
       "  width: 50%;\n",
       "}\n",
       "\n",
       "#sk-container-id-7 div.sk-parallel-item:last-child::after {\n",
       "  align-self: flex-start;\n",
       "  width: 50%;\n",
       "}\n",
       "\n",
       "#sk-container-id-7 div.sk-parallel-item:only-child::after {\n",
       "  width: 0;\n",
       "}\n",
       "\n",
       "/* Serial-specific style estimator block */\n",
       "\n",
       "#sk-container-id-7 div.sk-serial {\n",
       "  display: flex;\n",
       "  flex-direction: column;\n",
       "  align-items: center;\n",
       "  background-color: var(--sklearn-color-background);\n",
       "  padding-right: 1em;\n",
       "  padding-left: 1em;\n",
       "}\n",
       "\n",
       "\n",
       "/* Toggleable style: style used for estimator/Pipeline/ColumnTransformer box that is\n",
       "clickable and can be expanded/collapsed.\n",
       "- Pipeline and ColumnTransformer use this feature and define the default style\n",
       "- Estimators will overwrite some part of the style using the `sk-estimator` class\n",
       "*/\n",
       "\n",
       "/* Pipeline and ColumnTransformer style (default) */\n",
       "\n",
       "#sk-container-id-7 div.sk-toggleable {\n",
       "  /* Default theme specific background. It is overwritten whether we have a\n",
       "  specific estimator or a Pipeline/ColumnTransformer */\n",
       "  background-color: var(--sklearn-color-background);\n",
       "}\n",
       "\n",
       "/* Toggleable label */\n",
       "#sk-container-id-7 label.sk-toggleable__label {\n",
       "  cursor: pointer;\n",
       "  display: flex;\n",
       "  width: 100%;\n",
       "  margin-bottom: 0;\n",
       "  padding: 0.5em;\n",
       "  box-sizing: border-box;\n",
       "  text-align: center;\n",
       "  align-items: start;\n",
       "  justify-content: space-between;\n",
       "  gap: 0.5em;\n",
       "}\n",
       "\n",
       "#sk-container-id-7 label.sk-toggleable__label .caption {\n",
       "  font-size: 0.6rem;\n",
       "  font-weight: lighter;\n",
       "  color: var(--sklearn-color-text-muted);\n",
       "}\n",
       "\n",
       "#sk-container-id-7 label.sk-toggleable__label-arrow:before {\n",
       "  /* Arrow on the left of the label */\n",
       "  content: \"▸\";\n",
       "  float: left;\n",
       "  margin-right: 0.25em;\n",
       "  color: var(--sklearn-color-icon);\n",
       "}\n",
       "\n",
       "#sk-container-id-7 label.sk-toggleable__label-arrow:hover:before {\n",
       "  color: var(--sklearn-color-text);\n",
       "}\n",
       "\n",
       "/* Toggleable content - dropdown */\n",
       "\n",
       "#sk-container-id-7 div.sk-toggleable__content {\n",
       "  max-height: 0;\n",
       "  max-width: 0;\n",
       "  overflow: hidden;\n",
       "  text-align: left;\n",
       "  /* unfitted */\n",
       "  background-color: var(--sklearn-color-unfitted-level-0);\n",
       "}\n",
       "\n",
       "#sk-container-id-7 div.sk-toggleable__content.fitted {\n",
       "  /* fitted */\n",
       "  background-color: var(--sklearn-color-fitted-level-0);\n",
       "}\n",
       "\n",
       "#sk-container-id-7 div.sk-toggleable__content pre {\n",
       "  margin: 0.2em;\n",
       "  border-radius: 0.25em;\n",
       "  color: var(--sklearn-color-text);\n",
       "  /* unfitted */\n",
       "  background-color: var(--sklearn-color-unfitted-level-0);\n",
       "}\n",
       "\n",
       "#sk-container-id-7 div.sk-toggleable__content.fitted pre {\n",
       "  /* unfitted */\n",
       "  background-color: var(--sklearn-color-fitted-level-0);\n",
       "}\n",
       "\n",
       "#sk-container-id-7 input.sk-toggleable__control:checked~div.sk-toggleable__content {\n",
       "  /* Expand drop-down */\n",
       "  max-height: 200px;\n",
       "  max-width: 100%;\n",
       "  overflow: auto;\n",
       "}\n",
       "\n",
       "#sk-container-id-7 input.sk-toggleable__control:checked~label.sk-toggleable__label-arrow:before {\n",
       "  content: \"▾\";\n",
       "}\n",
       "\n",
       "/* Pipeline/ColumnTransformer-specific style */\n",
       "\n",
       "#sk-container-id-7 div.sk-label input.sk-toggleable__control:checked~label.sk-toggleable__label {\n",
       "  color: var(--sklearn-color-text);\n",
       "  background-color: var(--sklearn-color-unfitted-level-2);\n",
       "}\n",
       "\n",
       "#sk-container-id-7 div.sk-label.fitted input.sk-toggleable__control:checked~label.sk-toggleable__label {\n",
       "  background-color: var(--sklearn-color-fitted-level-2);\n",
       "}\n",
       "\n",
       "/* Estimator-specific style */\n",
       "\n",
       "/* Colorize estimator box */\n",
       "#sk-container-id-7 div.sk-estimator input.sk-toggleable__control:checked~label.sk-toggleable__label {\n",
       "  /* unfitted */\n",
       "  background-color: var(--sklearn-color-unfitted-level-2);\n",
       "}\n",
       "\n",
       "#sk-container-id-7 div.sk-estimator.fitted input.sk-toggleable__control:checked~label.sk-toggleable__label {\n",
       "  /* fitted */\n",
       "  background-color: var(--sklearn-color-fitted-level-2);\n",
       "}\n",
       "\n",
       "#sk-container-id-7 div.sk-label label.sk-toggleable__label,\n",
       "#sk-container-id-7 div.sk-label label {\n",
       "  /* The background is the default theme color */\n",
       "  color: var(--sklearn-color-text-on-default-background);\n",
       "}\n",
       "\n",
       "/* On hover, darken the color of the background */\n",
       "#sk-container-id-7 div.sk-label:hover label.sk-toggleable__label {\n",
       "  color: var(--sklearn-color-text);\n",
       "  background-color: var(--sklearn-color-unfitted-level-2);\n",
       "}\n",
       "\n",
       "/* Label box, darken color on hover, fitted */\n",
       "#sk-container-id-7 div.sk-label.fitted:hover label.sk-toggleable__label.fitted {\n",
       "  color: var(--sklearn-color-text);\n",
       "  background-color: var(--sklearn-color-fitted-level-2);\n",
       "}\n",
       "\n",
       "/* Estimator label */\n",
       "\n",
       "#sk-container-id-7 div.sk-label label {\n",
       "  font-family: monospace;\n",
       "  font-weight: bold;\n",
       "  display: inline-block;\n",
       "  line-height: 1.2em;\n",
       "}\n",
       "\n",
       "#sk-container-id-7 div.sk-label-container {\n",
       "  text-align: center;\n",
       "}\n",
       "\n",
       "/* Estimator-specific */\n",
       "#sk-container-id-7 div.sk-estimator {\n",
       "  font-family: monospace;\n",
       "  border: 1px dotted var(--sklearn-color-border-box);\n",
       "  border-radius: 0.25em;\n",
       "  box-sizing: border-box;\n",
       "  margin-bottom: 0.5em;\n",
       "  /* unfitted */\n",
       "  background-color: var(--sklearn-color-unfitted-level-0);\n",
       "}\n",
       "\n",
       "#sk-container-id-7 div.sk-estimator.fitted {\n",
       "  /* fitted */\n",
       "  background-color: var(--sklearn-color-fitted-level-0);\n",
       "}\n",
       "\n",
       "/* on hover */\n",
       "#sk-container-id-7 div.sk-estimator:hover {\n",
       "  /* unfitted */\n",
       "  background-color: var(--sklearn-color-unfitted-level-2);\n",
       "}\n",
       "\n",
       "#sk-container-id-7 div.sk-estimator.fitted:hover {\n",
       "  /* fitted */\n",
       "  background-color: var(--sklearn-color-fitted-level-2);\n",
       "}\n",
       "\n",
       "/* Specification for estimator info (e.g. \"i\" and \"?\") */\n",
       "\n",
       "/* Common style for \"i\" and \"?\" */\n",
       "\n",
       ".sk-estimator-doc-link,\n",
       "a:link.sk-estimator-doc-link,\n",
       "a:visited.sk-estimator-doc-link {\n",
       "  float: right;\n",
       "  font-size: smaller;\n",
       "  line-height: 1em;\n",
       "  font-family: monospace;\n",
       "  background-color: var(--sklearn-color-background);\n",
       "  border-radius: 1em;\n",
       "  height: 1em;\n",
       "  width: 1em;\n",
       "  text-decoration: none !important;\n",
       "  margin-left: 0.5em;\n",
       "  text-align: center;\n",
       "  /* unfitted */\n",
       "  border: var(--sklearn-color-unfitted-level-1) 1pt solid;\n",
       "  color: var(--sklearn-color-unfitted-level-1);\n",
       "}\n",
       "\n",
       ".sk-estimator-doc-link.fitted,\n",
       "a:link.sk-estimator-doc-link.fitted,\n",
       "a:visited.sk-estimator-doc-link.fitted {\n",
       "  /* fitted */\n",
       "  border: var(--sklearn-color-fitted-level-1) 1pt solid;\n",
       "  color: var(--sklearn-color-fitted-level-1);\n",
       "}\n",
       "\n",
       "/* On hover */\n",
       "div.sk-estimator:hover .sk-estimator-doc-link:hover,\n",
       ".sk-estimator-doc-link:hover,\n",
       "div.sk-label-container:hover .sk-estimator-doc-link:hover,\n",
       ".sk-estimator-doc-link:hover {\n",
       "  /* unfitted */\n",
       "  background-color: var(--sklearn-color-unfitted-level-3);\n",
       "  color: var(--sklearn-color-background);\n",
       "  text-decoration: none;\n",
       "}\n",
       "\n",
       "div.sk-estimator.fitted:hover .sk-estimator-doc-link.fitted:hover,\n",
       ".sk-estimator-doc-link.fitted:hover,\n",
       "div.sk-label-container:hover .sk-estimator-doc-link.fitted:hover,\n",
       ".sk-estimator-doc-link.fitted:hover {\n",
       "  /* fitted */\n",
       "  background-color: var(--sklearn-color-fitted-level-3);\n",
       "  color: var(--sklearn-color-background);\n",
       "  text-decoration: none;\n",
       "}\n",
       "\n",
       "/* Span, style for the box shown on hovering the info icon */\n",
       ".sk-estimator-doc-link span {\n",
       "  display: none;\n",
       "  z-index: 9999;\n",
       "  position: relative;\n",
       "  font-weight: normal;\n",
       "  right: .2ex;\n",
       "  padding: .5ex;\n",
       "  margin: .5ex;\n",
       "  width: min-content;\n",
       "  min-width: 20ex;\n",
       "  max-width: 50ex;\n",
       "  color: var(--sklearn-color-text);\n",
       "  box-shadow: 2pt 2pt 4pt #999;\n",
       "  /* unfitted */\n",
       "  background: var(--sklearn-color-unfitted-level-0);\n",
       "  border: .5pt solid var(--sklearn-color-unfitted-level-3);\n",
       "}\n",
       "\n",
       ".sk-estimator-doc-link.fitted span {\n",
       "  /* fitted */\n",
       "  background: var(--sklearn-color-fitted-level-0);\n",
       "  border: var(--sklearn-color-fitted-level-3);\n",
       "}\n",
       "\n",
       ".sk-estimator-doc-link:hover span {\n",
       "  display: block;\n",
       "}\n",
       "\n",
       "/* \"?\"-specific style due to the `<a>` HTML tag */\n",
       "\n",
       "#sk-container-id-7 a.estimator_doc_link {\n",
       "  float: right;\n",
       "  font-size: 1rem;\n",
       "  line-height: 1em;\n",
       "  font-family: monospace;\n",
       "  background-color: var(--sklearn-color-background);\n",
       "  border-radius: 1rem;\n",
       "  height: 1rem;\n",
       "  width: 1rem;\n",
       "  text-decoration: none;\n",
       "  /* unfitted */\n",
       "  color: var(--sklearn-color-unfitted-level-1);\n",
       "  border: var(--sklearn-color-unfitted-level-1) 1pt solid;\n",
       "}\n",
       "\n",
       "#sk-container-id-7 a.estimator_doc_link.fitted {\n",
       "  /* fitted */\n",
       "  border: var(--sklearn-color-fitted-level-1) 1pt solid;\n",
       "  color: var(--sklearn-color-fitted-level-1);\n",
       "}\n",
       "\n",
       "/* On hover */\n",
       "#sk-container-id-7 a.estimator_doc_link:hover {\n",
       "  /* unfitted */\n",
       "  background-color: var(--sklearn-color-unfitted-level-3);\n",
       "  color: var(--sklearn-color-background);\n",
       "  text-decoration: none;\n",
       "}\n",
       "\n",
       "#sk-container-id-7 a.estimator_doc_link.fitted:hover {\n",
       "  /* fitted */\n",
       "  background-color: var(--sklearn-color-fitted-level-3);\n",
       "}\n",
       "</style><div id=\"sk-container-id-7\" class=\"sk-top-container\"><div class=\"sk-text-repr-fallback\"><pre>Ridge()</pre><b>In a Jupyter environment, please rerun this cell to show the HTML representation or trust the notebook. <br />On GitHub, the HTML representation is unable to render, please try loading this page with nbviewer.org.</b></div><div class=\"sk-container\" hidden><div class=\"sk-item\"><div class=\"sk-estimator fitted sk-toggleable\"><input class=\"sk-toggleable__control sk-hidden--visually\" id=\"sk-estimator-id-7\" type=\"checkbox\" checked><label for=\"sk-estimator-id-7\" class=\"sk-toggleable__label fitted sk-toggleable__label-arrow\"><div><div>Ridge</div></div><div><a class=\"sk-estimator-doc-link fitted\" rel=\"noreferrer\" target=\"_blank\" href=\"https://scikit-learn.org/1.6/modules/generated/sklearn.linear_model.Ridge.html\">?<span>Documentation for Ridge</span></a><span class=\"sk-estimator-doc-link fitted\">i<span>Fitted</span></span></div></label><div class=\"sk-toggleable__content fitted\"><pre>Ridge()</pre></div> </div></div></div></div>"
      ],
      "text/plain": [
       "Ridge()"
      ]
     },
     "execution_count": 286,
     "metadata": {},
     "output_type": "execute_result"
    }
   ],
   "source": [
    "%%time\n",
    "model3.fit(X_train2, y_train2)"
   ]
  },
  {
   "cell_type": "code",
   "execution_count": 287,
   "metadata": {},
   "outputs": [
    {
     "name": "stdout",
     "output_type": "stream",
     "text": [
      "RMSE: 2824.9373650502084\n",
      "R^2: 0.4781731581056964\n"
     ]
    }
   ],
   "source": [
    "\n",
    "y_pred3= model3.predict(X_test2)\n",
    "\n",
    "mse3= mean_squared_error(y_test2, y_pred3)\n",
    "rmse3 = np.sqrt(mse3)\n",
    "r2_3 = r2_score(y_test2, y_pred3)\n",
    "\n",
    "print(f\"RMSE: {rmse3}\")\n",
    "print(f\"R^2: {r2_3}\")"
   ]
  },
  {
   "cell_type": "code",
   "execution_count": null,
   "metadata": {},
   "outputs": [],
   "source": [
    "Не помогло это тоже"
   ]
  },
  {
   "cell_type": "code",
   "execution_count": null,
   "metadata": {},
   "outputs": [],
   "source": [
    "Время для тяжелой артиллерии:"
   ]
  },
  {
   "cell_type": "code",
   "execution_count": 265,
   "metadata": {},
   "outputs": [],
   "source": [
    "from catboost import CatBoostRegressor\n",
    "from catboost import CatBoostRegressor, Pool"
   ]
  },
  {
   "cell_type": "code",
   "execution_count": 267,
   "metadata": {},
   "outputs": [
    {
     "name": "stdout",
     "output_type": "stream",
     "text": [
      "<class 'pandas.core.frame.DataFrame'>\n",
      "Index: 336829 entries, 1 to 354368\n",
      "Data columns (total 20 columns):\n",
      " #   Column             Non-Null Count   Dtype         \n",
      "---  ------             --------------   -----         \n",
      " 0   DateCrawled        336829 non-null  datetime64[ns]\n",
      " 1   Price              336829 non-null  int64         \n",
      " 2   VehicleType        336829 non-null  object        \n",
      " 3   RegistrationYear   336829 non-null  int64         \n",
      " 4   Gearbox            336829 non-null  object        \n",
      " 5   Power              336829 non-null  int64         \n",
      " 6   Model              336829 non-null  object        \n",
      " 7   Kilometer          336829 non-null  int64         \n",
      " 8   RegistrationMonth  336829 non-null  int64         \n",
      " 9   FuelType           336829 non-null  object        \n",
      " 10  Brand              336829 non-null  object        \n",
      " 11  Repaired           336829 non-null  object        \n",
      " 12  DateCreated        336829 non-null  datetime64[ns]\n",
      " 13  PostalCode         336829 non-null  int64         \n",
      " 14  LastSeen           336829 non-null  datetime64[ns]\n",
      " 15  Price_log          336829 non-null  float64       \n",
      " 16  CarAge             336829 non-null  int64         \n",
      " 17  RegSeason          336829 non-null  object        \n",
      " 18  ModelFreq          336829 non-null  int64         \n",
      " 19  BrandClass         336829 non-null  object        \n",
      "dtypes: datetime64[ns](3), float64(1), int64(8), object(8)\n",
      "memory usage: 54.0+ MB\n"
     ]
    }
   ],
   "source": [
    "data.info()"
   ]
  },
  {
   "cell_type": "code",
   "execution_count": 288,
   "metadata": {},
   "outputs": [],
   "source": [
    "features = [\n",
    "    \"VehicleType\", \"Gearbox\", \"Power\", \"Kilometer\", \"CarAge\",\n",
    "    \"FuelType\", \"Brand\", \"ModelFreq\", \"Repaired\",\n",
    "    \"RegSeason\", \"BrandClass\"\n",
    "]\n",
    "\n",
    "categorical_features = [\n",
    "    \"VehicleType\", \"Gearbox\", \"FuelType\", \"Brand\",\n",
    "    \"Repaired\", \"RegSeason\", \"BrandClass\"\n",
    "]\n",
    "\n",
    "\n",
    "X4 = data[features]\n",
    "y4 = data[\"Price\"]\n",
    "\n",
    "X_train4, X_test4, y_train4, y_test4 = train_test_split(X4, y4, test_size=0.2, random_state=42)\n",
    "\n",
    "train_pool = Pool(X_train4, y_train4, cat_features=categorical_features)\n",
    "test_pool = Pool(X_test4, y_test4, cat_features=categorical_features)\n",
    "\n",
    "model4 = CatBoostRegressor(\n",
    "    iterations=500,\n",
    "    learning_rate=0.05,\n",
    "    depth=6,\n",
    "    eval_metric=\"RMSE\",\n",
    "    random_seed=42,\n",
    "    verbose=100\n",
    ")\n",
    "\n"
   ]
  },
  {
   "cell_type": "code",
   "execution_count": 289,
   "metadata": {},
   "outputs": [
    {
     "name": "stdout",
     "output_type": "stream",
     "text": [
      "0:\tlearn: 3783.4416662\ttest: 3808.3397087\tbest: 3808.3397087 (0)\ttotal: 266ms\tremaining: 2m 12s\n",
      "100:\tlearn: 2090.1561228\ttest: 2077.5038836\tbest: 2077.5038836 (100)\ttotal: 12.5s\tremaining: 49.4s\n",
      "200:\tlearn: 1975.1592398\ttest: 1961.9461450\tbest: 1961.9461450 (200)\ttotal: 23.1s\tremaining: 34.3s\n",
      "300:\tlearn: 1911.9115300\ttest: 1899.7957988\tbest: 1899.7957988 (300)\ttotal: 33.7s\tremaining: 22.3s\n",
      "400:\tlearn: 1868.1458297\ttest: 1857.9583503\tbest: 1857.9583503 (400)\ttotal: 49.1s\tremaining: 12.1s\n",
      "499:\tlearn: 1837.9964013\ttest: 1829.8935981\tbest: 1829.8935981 (499)\ttotal: 1m\tremaining: 0us\n",
      "\n",
      "bestTest = 1829.893598\n",
      "bestIteration = 499\n",
      "\n",
      "CPU times: user 5min 6s, sys: 13.6 s, total: 5min 19s\n",
      "Wall time: 1min 1s\n"
     ]
    },
    {
     "data": {
      "text/plain": [
       "<catboost.core.CatBoostRegressor at 0x14b0cca00>"
      ]
     },
     "execution_count": 289,
     "metadata": {},
     "output_type": "execute_result"
    }
   ],
   "source": [
    "%%time\n",
    "model4.fit(train_pool, eval_set=test_pool, early_stopping_rounds=50)\n",
    "\n"
   ]
  },
  {
   "cell_type": "code",
   "execution_count": 271,
   "metadata": {},
   "outputs": [],
   "source": [
    "\n",
    "y_pred4 = model4.predict(X_test4)"
   ]
  },
  {
   "cell_type": "code",
   "execution_count": 272,
   "metadata": {},
   "outputs": [
    {
     "name": "stdout",
     "output_type": "stream",
     "text": [
      "RMSE: 1829.8935981492573\n",
      "R^2: 0.7810421881916411\n"
     ]
    }
   ],
   "source": [
    "\n",
    "mse4= mean_squared_error(y_test4, y_pred4)\n",
    "rmse4 = np.sqrt(mse4)\n",
    "r2_4 = r2_score(y_test4, y_pred4)\n",
    "\n",
    "print(f\"RMSE: {rmse4}\")\n",
    "print(f\"R^2: {r2_4}\")"
   ]
  },
  {
   "cell_type": "code",
   "execution_count": 262,
   "metadata": {},
   "outputs": [
    {
     "name": "stdout",
     "output_type": "stream",
     "text": [
      "<class 'pandas.core.frame.DataFrame'>\n",
      "Index: 336829 entries, 1 to 354368\n",
      "Data columns (total 10 columns):\n",
      " #   Column       Non-Null Count   Dtype \n",
      "---  ------       --------------   ----- \n",
      " 0   VehicleType  336829 non-null  object\n",
      " 1   Gearbox      336829 non-null  object\n",
      " 2   Power        336829 non-null  int64 \n",
      " 3   Kilometer    336829 non-null  int64 \n",
      " 4   FuelType     336829 non-null  object\n",
      " 5   Repaired     336829 non-null  object\n",
      " 6   CarAge       336829 non-null  int64 \n",
      " 7   RegSeason    336829 non-null  object\n",
      " 8   ModelFreq    336829 non-null  int64 \n",
      " 9   BrandClass   336829 non-null  object\n",
      "dtypes: int64(4), object(6)\n",
      "memory usage: 28.3+ MB\n"
     ]
    }
   ],
   "source": [
    "X4.info()"
   ]
  },
  {
   "cell_type": "code",
   "execution_count": null,
   "metadata": {},
   "outputs": [],
   "source": []
  },
  {
   "cell_type": "markdown",
   "metadata": {},
   "source": [
    "## Анализ моделей"
   ]
  },
  {
   "cell_type": "markdown",
   "metadata": {},
   "source": [
    "Бустинг дал наилучший результат.\n",
    "По времени — укладывается в разумные рамки:\n",
    "\n",
    "Лучшая итерация: 499\n",
    "\n",
    "Лучший RMSE: 1829.89\n",
    "\n",
    "Wall time: ~1 минута\n",
    "\n",
    "Это значительно лучше, чем результаты LinearRegression и Ridge, которые не прошли по порогу в 2500.\n",
    "\n",
    "RMSE ≈ 1830 означает, что модель в среднем ошибается на эту величину. С учётом задач и диапазона цен — это можно считать приемлемым качеством."
   ]
  },
  {
   "cell_type": "code",
   "execution_count": null,
   "metadata": {},
   "outputs": [],
   "source": []
  },
  {
   "cell_type": "markdown",
   "metadata": {},
   "source": [
    "План: сдать за n итераций. На k+1 итерации что-то подправить, выполнить и задать вопросов. Нa k+2 итерации выполнить с учетом замечаний. \n",
    "\n",
    "Жду вопросов и фидбек))"
   ]
  },
  {
   "cell_type": "markdown",
   "metadata": {},
   "source": [
    "## Чек-лист проверки"
   ]
  },
  {
   "cell_type": "code",
   "execution_count": null,
   "metadata": {},
   "outputs": [],
   "source": []
  },
  {
   "cell_type": "markdown",
   "metadata": {},
   "source": [
    "Поставьте 'x' в выполненных пунктах. Далее нажмите Shift+Enter."
   ]
  },
  {
   "cell_type": "markdown",
   "metadata": {},
   "source": [
    "- [x]  Jupyter Notebook открыт\n",
    "- [ ]  Весь код выполняется без ошибок\n",
    "- [ ]  Ячейки с кодом расположены в порядке исполнения\n",
    "- [ ]  Выполнена загрузка и подготовка данных\n",
    "- [ ]  Выполнено обучение моделей\n",
    "- [ ]  Есть анализ скорости работы и качества моделей"
   ]
  },
  {
   "cell_type": "code",
   "execution_count": null,
   "metadata": {},
   "outputs": [],
   "source": []
  }
 ],
 "metadata": {
  "ExecuteTimeLog": [
   {
    "duration": 432,
    "start_time": "2025-06-17T19:36:58.964Z"
   },
   {
    "duration": 902,
    "start_time": "2025-06-17T19:37:16.078Z"
   },
   {
    "duration": 962,
    "start_time": "2025-06-17T19:37:45.961Z"
   },
   {
    "duration": 868,
    "start_time": "2025-06-17T19:37:55.401Z"
   },
   {
    "duration": 13,
    "start_time": "2025-06-17T19:38:06.001Z"
   },
   {
    "duration": 148,
    "start_time": "2025-06-17T19:38:16.444Z"
   },
   {
    "duration": 22,
    "start_time": "2025-06-17T19:52:27.874Z"
   },
   {
    "duration": 38,
    "start_time": "2025-06-17T19:52:45.630Z"
   },
   {
    "duration": 39,
    "start_time": "2025-06-17T19:54:05.984Z"
   },
   {
    "duration": 40,
    "start_time": "2025-06-17T19:56:50.634Z"
   },
   {
    "duration": 39,
    "start_time": "2025-06-17T19:57:27.976Z"
   },
   {
    "duration": 39,
    "start_time": "2025-06-17T19:58:16.926Z"
   },
   {
    "duration": 64,
    "start_time": "2025-06-17T19:58:49.779Z"
   },
   {
    "duration": 35,
    "start_time": "2025-06-17T19:58:53.130Z"
   },
   {
    "duration": 7,
    "start_time": "2025-06-17T20:00:51.776Z"
   },
   {
    "duration": 20,
    "start_time": "2025-06-17T20:01:07.370Z"
   },
   {
    "duration": 29,
    "start_time": "2025-06-17T20:01:15.700Z"
   },
   {
    "duration": 3,
    "start_time": "2025-06-17T20:01:35.548Z"
   },
   {
    "duration": 28,
    "start_time": "2025-06-17T20:01:40.616Z"
   },
   {
    "duration": 24,
    "start_time": "2025-06-17T20:02:35.513Z"
   },
   {
    "duration": 43,
    "start_time": "2025-06-17T20:02:43.499Z"
   },
   {
    "duration": 27,
    "start_time": "2025-06-17T20:04:42.723Z"
   },
   {
    "duration": 31,
    "start_time": "2025-06-17T20:04:49.588Z"
   },
   {
    "duration": 36,
    "start_time": "2025-06-17T20:15:31.828Z"
   },
   {
    "duration": 39,
    "start_time": "2025-06-17T20:18:06.630Z"
   },
   {
    "duration": 137,
    "start_time": "2025-06-17T20:19:33.656Z"
   },
   {
    "duration": 92,
    "start_time": "2025-06-17T20:21:23.202Z"
   },
   {
    "duration": 100,
    "start_time": "2025-06-17T20:21:26.376Z"
   },
   {
    "duration": 60,
    "start_time": "2025-06-17T20:21:39.479Z"
   },
   {
    "duration": 37,
    "start_time": "2025-06-17T20:21:57.597Z"
   },
   {
    "duration": 49,
    "start_time": "2025-06-17T20:22:30.818Z"
   },
   {
    "duration": 871,
    "start_time": "2025-06-17T20:25:17.782Z"
   },
   {
    "duration": 38,
    "start_time": "2025-06-17T20:26:45.774Z"
   },
   {
    "duration": 32,
    "start_time": "2025-06-17T20:27:09.776Z"
   },
   {
    "duration": 36,
    "start_time": "2025-06-17T20:30:04.748Z"
   },
   {
    "duration": 2708,
    "start_time": "2025-06-18T16:13:24.769Z"
   },
   {
    "duration": 59,
    "start_time": "2025-06-18T16:28:36.952Z"
   },
   {
    "duration": 474,
    "start_time": "2025-06-18T16:28:41.665Z"
   },
   {
    "duration": 971,
    "start_time": "2025-06-18T16:28:42.141Z"
   },
   {
    "duration": 20,
    "start_time": "2025-06-18T16:28:43.114Z"
   },
   {
    "duration": 154,
    "start_time": "2025-06-18T16:28:44.887Z"
   },
   {
    "duration": 39,
    "start_time": "2025-06-18T16:28:47.165Z"
   },
   {
    "duration": 47,
    "start_time": "2025-06-18T16:28:48.482Z"
   },
   {
    "duration": 30,
    "start_time": "2025-06-18T16:28:49.008Z"
   },
   {
    "duration": 100,
    "start_time": "2025-06-18T16:28:59.332Z"
   },
   {
    "duration": 63,
    "start_time": "2025-06-18T16:29:10.501Z"
   },
   {
    "duration": 36,
    "start_time": "2025-06-18T16:29:12.236Z"
   },
   {
    "duration": 39,
    "start_time": "2025-06-18T16:29:13.161Z"
   },
   {
    "duration": 36,
    "start_time": "2025-06-18T16:29:23.455Z"
   },
   {
    "duration": 764,
    "start_time": "2025-06-18T16:29:24.882Z"
   },
   {
    "duration": 0,
    "start_time": "2025-06-18T16:29:25.648Z"
   },
   {
    "duration": 40,
    "start_time": "2025-06-18T16:29:25.908Z"
   },
   {
    "duration": 162,
    "start_time": "2025-06-18T16:32:01.587Z"
   },
   {
    "duration": 27,
    "start_time": "2025-06-18T16:32:17.083Z"
   },
   {
    "duration": 40,
    "start_time": "2025-06-18T16:32:34.248Z"
   },
   {
    "duration": 39,
    "start_time": "2025-06-18T16:34:43.086Z"
   },
   {
    "duration": 84,
    "start_time": "2025-06-18T18:01:51.727Z"
   },
   {
    "duration": 113,
    "start_time": "2025-06-18T18:03:52.779Z"
   },
   {
    "duration": 57,
    "start_time": "2025-06-18T18:03:54.341Z"
   },
   {
    "duration": 38,
    "start_time": "2025-06-18T18:03:56.946Z"
   },
   {
    "duration": 25,
    "start_time": "2025-06-18T18:04:04.819Z"
   },
   {
    "duration": 37,
    "start_time": "2025-06-18T18:04:21.075Z"
   },
   {
    "duration": 91,
    "start_time": "2025-06-18T18:08:09.890Z"
   },
   {
    "duration": 89,
    "start_time": "2025-06-18T18:08:45.704Z"
   },
   {
    "duration": 66,
    "start_time": "2025-06-18T18:08:50.739Z"
   },
   {
    "duration": 39,
    "start_time": "2025-06-18T18:08:57.419Z"
   },
   {
    "duration": 147,
    "start_time": "2025-06-18T18:09:26.823Z"
   },
   {
    "duration": 234,
    "start_time": "2025-06-18T18:10:32.107Z"
   },
   {
    "duration": 140,
    "start_time": "2025-06-18T18:10:38.599Z"
   },
   {
    "duration": 29,
    "start_time": "2025-06-18T18:11:16.225Z"
   },
   {
    "duration": 38,
    "start_time": "2025-06-18T18:11:29.398Z"
   },
   {
    "duration": 3,
    "start_time": "2025-06-18T18:14:11.045Z"
   },
   {
    "duration": 951,
    "start_time": "2025-06-18T18:14:11.333Z"
   },
   {
    "duration": 13,
    "start_time": "2025-06-18T18:14:12.286Z"
   },
   {
    "duration": 151,
    "start_time": "2025-06-18T18:14:13.614Z"
   },
   {
    "duration": 42,
    "start_time": "2025-06-18T18:14:15.797Z"
   },
   {
    "duration": 101,
    "start_time": "2025-06-18T18:14:17.466Z"
   },
   {
    "duration": 59,
    "start_time": "2025-06-18T18:14:17.999Z"
   },
   {
    "duration": 40,
    "start_time": "2025-06-18T18:14:19.219Z"
   },
   {
    "duration": 42,
    "start_time": "2025-06-18T18:14:19.856Z"
   },
   {
    "duration": 30,
    "start_time": "2025-06-18T18:14:25.949Z"
   },
   {
    "duration": 108,
    "start_time": "2025-06-18T18:14:31.635Z"
   },
   {
    "duration": 51,
    "start_time": "2025-06-18T18:14:55.886Z"
   },
   {
    "duration": 113,
    "start_time": "2025-06-18T18:14:58.869Z"
   },
   {
    "duration": 61,
    "start_time": "2025-06-18T18:15:01.898Z"
   },
   {
    "duration": 37,
    "start_time": "2025-06-18T18:15:02.776Z"
   },
   {
    "duration": 3,
    "start_time": "2025-06-18T18:23:27.302Z"
   },
   {
    "duration": 958,
    "start_time": "2025-06-18T18:23:27.533Z"
   },
   {
    "duration": 14,
    "start_time": "2025-06-18T18:23:28.492Z"
   },
   {
    "duration": 162,
    "start_time": "2025-06-18T18:23:28.717Z"
   },
   {
    "duration": 37,
    "start_time": "2025-06-18T18:23:36.436Z"
   },
   {
    "duration": 86,
    "start_time": "2025-06-18T18:23:37.740Z"
   },
   {
    "duration": 61,
    "start_time": "2025-06-18T18:23:38.138Z"
   },
   {
    "duration": 40,
    "start_time": "2025-06-18T18:23:38.821Z"
   },
   {
    "duration": 955,
    "start_time": "2025-06-18T18:23:59.235Z"
   },
   {
    "duration": 14,
    "start_time": "2025-06-18T18:24:00.193Z"
   },
   {
    "duration": 154,
    "start_time": "2025-06-18T18:24:01.361Z"
   },
   {
    "duration": 40,
    "start_time": "2025-06-18T18:24:03.326Z"
   },
   {
    "duration": 40,
    "start_time": "2025-06-18T18:24:35.326Z"
   },
   {
    "duration": 39,
    "start_time": "2025-06-18T18:24:42.691Z"
   },
   {
    "duration": 41,
    "start_time": "2025-06-18T18:24:48.312Z"
   },
   {
    "duration": 46,
    "start_time": "2025-06-18T18:24:55.808Z"
   },
   {
    "duration": 39,
    "start_time": "2025-06-18T18:26:44.082Z"
   },
   {
    "duration": 86,
    "start_time": "2025-06-18T18:26:45.150Z"
   },
   {
    "duration": 63,
    "start_time": "2025-06-18T18:26:46.197Z"
   },
   {
    "duration": 41,
    "start_time": "2025-06-18T18:26:47.019Z"
   },
   {
    "duration": 41,
    "start_time": "2025-06-18T18:26:51.781Z"
   },
   {
    "duration": 38,
    "start_time": "2025-06-18T18:26:53.615Z"
   },
   {
    "duration": 8,
    "start_time": "2025-06-18T18:27:02.224Z"
   },
   {
    "duration": 901,
    "start_time": "2025-06-18T18:28:04.531Z"
   },
   {
    "duration": 41,
    "start_time": "2025-06-18T18:28:09.110Z"
   },
   {
    "duration": 90,
    "start_time": "2025-06-18T18:28:10.903Z"
   },
   {
    "duration": 64,
    "start_time": "2025-06-18T18:28:11.387Z"
   },
   {
    "duration": 42,
    "start_time": "2025-06-18T18:28:12.618Z"
   },
   {
    "duration": 40,
    "start_time": "2025-06-18T18:28:14.899Z"
   },
   {
    "duration": 11,
    "start_time": "2025-06-18T18:28:26.339Z"
   },
   {
    "duration": 37,
    "start_time": "2025-06-18T18:29:04.568Z"
   },
   {
    "duration": 57,
    "start_time": "2025-06-18T18:29:57.624Z"
   },
   {
    "duration": 39,
    "start_time": "2025-06-18T18:29:58.405Z"
   },
   {
    "duration": 39,
    "start_time": "2025-06-18T18:29:59.065Z"
   },
   {
    "duration": 38,
    "start_time": "2025-06-18T18:30:27.908Z"
   },
   {
    "duration": 44,
    "start_time": "2025-06-18T18:30:38.517Z"
   },
   {
    "duration": 29,
    "start_time": "2025-06-18T18:30:39.117Z"
   },
   {
    "duration": 97,
    "start_time": "2025-06-18T18:30:40.833Z"
   },
   {
    "duration": 60,
    "start_time": "2025-06-18T18:30:41.172Z"
   },
   {
    "duration": 52,
    "start_time": "2025-06-18T18:30:43.966Z"
   },
   {
    "duration": 37,
    "start_time": "2025-06-18T18:30:44.562Z"
   },
   {
    "duration": 2,
    "start_time": "2025-06-18T18:30:54.876Z"
   },
   {
    "duration": 37,
    "start_time": "2025-06-18T18:30:55.909Z"
   },
   {
    "duration": 75,
    "start_time": "2025-06-18T18:30:58.716Z"
   },
   {
    "duration": 60,
    "start_time": "2025-06-18T18:31:00.159Z"
   },
   {
    "duration": 39,
    "start_time": "2025-06-18T18:31:00.891Z"
   },
   {
    "duration": 48,
    "start_time": "2025-06-18T18:31:09.405Z"
   },
   {
    "duration": 40,
    "start_time": "2025-06-18T18:31:11.469Z"
   },
   {
    "duration": 37,
    "start_time": "2025-06-18T18:31:12.468Z"
   },
   {
    "duration": 191,
    "start_time": "2025-06-18T18:31:15.232Z"
   },
   {
    "duration": 23,
    "start_time": "2025-06-18T18:31:17.031Z"
   },
   {
    "duration": 39,
    "start_time": "2025-06-18T18:31:17.617Z"
   },
   {
    "duration": 152,
    "start_time": "2025-06-18T18:31:30.124Z"
   },
   {
    "duration": 27,
    "start_time": "2025-06-18T18:31:55.532Z"
   },
   {
    "duration": 39,
    "start_time": "2025-06-18T18:32:27.307Z"
   },
   {
    "duration": 12,
    "start_time": "2025-06-18T18:32:32.804Z"
   },
   {
    "duration": 51,
    "start_time": "2025-06-18T19:58:23.310Z"
   },
   {
    "duration": 6,
    "start_time": "2025-06-18T19:59:04.523Z"
   },
   {
    "duration": 5,
    "start_time": "2025-06-18T19:59:17.802Z"
   },
   {
    "duration": 6,
    "start_time": "2025-06-18T19:59:28.365Z"
   },
   {
    "duration": 5,
    "start_time": "2025-06-18T19:59:33.466Z"
   },
   {
    "duration": 5,
    "start_time": "2025-06-18T19:59:42.176Z"
   },
   {
    "duration": 44,
    "start_time": "2025-06-18T20:00:06.540Z"
   },
   {
    "duration": 49,
    "start_time": "2025-06-18T20:00:31.437Z"
   },
   {
    "duration": 97,
    "start_time": "2025-06-18T20:00:55.529Z"
   },
   {
    "duration": 92,
    "start_time": "2025-06-18T20:01:24.588Z"
   },
   {
    "duration": 92,
    "start_time": "2025-06-18T20:01:29.783Z"
   },
   {
    "duration": 92,
    "start_time": "2025-06-18T20:01:42.154Z"
   },
   {
    "duration": 261,
    "start_time": "2025-06-18T20:03:07.815Z"
   },
   {
    "duration": 264,
    "start_time": "2025-06-18T20:03:30.212Z"
   },
   {
    "duration": 38,
    "start_time": "2025-06-18T20:04:06.499Z"
   },
   {
    "duration": 276,
    "start_time": "2025-06-18T20:08:09.185Z"
   },
   {
    "duration": 437,
    "start_time": "2025-06-18T20:08:34.463Z"
   },
   {
    "duration": 918,
    "start_time": "2025-06-18T20:08:34.902Z"
   },
   {
    "duration": 21,
    "start_time": "2025-06-18T20:08:37.263Z"
   },
   {
    "duration": 145,
    "start_time": "2025-06-18T20:08:38.306Z"
   },
   {
    "duration": 98,
    "start_time": "2025-06-18T20:08:39.320Z"
   },
   {
    "duration": 41,
    "start_time": "2025-06-18T20:08:52.941Z"
   },
   {
    "duration": 36,
    "start_time": "2025-06-18T20:08:56.573Z"
   },
   {
    "duration": 40,
    "start_time": "2025-06-18T20:09:02.691Z"
   },
   {
    "duration": 103,
    "start_time": "2025-06-18T20:09:27.983Z"
   },
   {
    "duration": 63,
    "start_time": "2025-06-18T20:09:29.600Z"
   },
   {
    "duration": 38,
    "start_time": "2025-06-18T20:09:30.212Z"
   },
   {
    "duration": 12,
    "start_time": "2025-06-18T20:09:33.164Z"
   },
   {
    "duration": 279,
    "start_time": "2025-06-18T20:11:25.590Z"
   },
   {
    "duration": 208,
    "start_time": "2025-06-18T20:11:36.195Z"
   },
   {
    "duration": 5,
    "start_time": "2025-06-18T20:11:45.193Z"
   },
   {
    "duration": 151,
    "start_time": "2025-06-18T21:06:02.884Z"
   },
   {
    "duration": 274,
    "start_time": "2025-06-18T21:06:52.814Z"
   },
   {
    "duration": 24,
    "start_time": "2025-06-18T21:07:05.982Z"
   },
   {
    "duration": 40,
    "start_time": "2025-06-18T21:07:06.456Z"
   },
   {
    "duration": 153,
    "start_time": "2025-06-18T21:07:08.481Z"
   },
   {
    "duration": 13,
    "start_time": "2025-06-18T21:07:27.013Z"
   },
   {
    "duration": 16,
    "start_time": "2025-06-18T21:07:46.958Z"
   },
   {
    "duration": 6,
    "start_time": "2025-06-18T21:08:17.225Z"
   },
   {
    "duration": 13,
    "start_time": "2025-06-18T21:08:56.189Z"
   },
   {
    "duration": 12,
    "start_time": "2025-06-18T21:09:23.665Z"
   },
   {
    "duration": 11,
    "start_time": "2025-06-18T21:09:30.695Z"
   },
   {
    "duration": 7,
    "start_time": "2025-06-18T21:10:06.328Z"
   },
   {
    "duration": 4,
    "start_time": "2025-06-18T21:10:26.681Z"
   },
   {
    "duration": 435,
    "start_time": "2025-06-18T21:12:02.997Z"
   },
   {
    "duration": 444,
    "start_time": "2025-06-18T21:12:16.753Z"
   },
   {
    "duration": 315,
    "start_time": "2025-06-18T21:12:28.024Z"
   },
   {
    "duration": 315,
    "start_time": "2025-06-18T21:12:39.233Z"
   },
   {
    "duration": 302,
    "start_time": "2025-06-18T21:14:05.645Z"
   },
   {
    "duration": 339,
    "start_time": "2025-06-18T21:14:09.694Z"
   },
   {
    "duration": 368,
    "start_time": "2025-06-18T21:15:17.465Z"
   },
   {
    "duration": 343,
    "start_time": "2025-06-18T21:15:32.007Z"
   },
   {
    "duration": 356,
    "start_time": "2025-06-18T21:15:42.777Z"
   },
   {
    "duration": 328,
    "start_time": "2025-06-18T21:16:39.562Z"
   },
   {
    "duration": 339,
    "start_time": "2025-06-18T21:16:49.988Z"
   },
   {
    "duration": 4115,
    "start_time": "2025-06-18T21:17:10.794Z"
   },
   {
    "duration": 321,
    "start_time": "2025-06-18T21:17:32.231Z"
   },
   {
    "duration": 393,
    "start_time": "2025-06-18T21:18:26.811Z"
   },
   {
    "duration": 292,
    "start_time": "2025-06-18T21:18:43.333Z"
   },
   {
    "duration": 427,
    "start_time": "2025-06-18T21:18:46.279Z"
   },
   {
    "duration": 436,
    "start_time": "2025-06-18T21:18:51.556Z"
   },
   {
    "duration": 49,
    "start_time": "2025-06-18T21:19:17.940Z"
   },
   {
    "duration": 42,
    "start_time": "2025-06-18T21:20:06.725Z"
   },
   {
    "duration": 30,
    "start_time": "2025-06-18T21:21:25.015Z"
   },
   {
    "duration": 21,
    "start_time": "2025-06-18T21:22:24.210Z"
   },
   {
    "duration": 17,
    "start_time": "2025-06-18T21:22:30.219Z"
   },
   {
    "duration": 428,
    "start_time": "2025-06-18T21:22:38.738Z"
   },
   {
    "duration": 167,
    "start_time": "2025-06-18T21:22:55.935Z"
   },
   {
    "duration": 589,
    "start_time": "2025-06-18T21:24:15.168Z"
   },
   {
    "duration": 266,
    "start_time": "2025-06-18T21:24:34.890Z"
   },
   {
    "duration": 155,
    "start_time": "2025-06-18T21:24:44.852Z"
   },
   {
    "duration": 154,
    "start_time": "2025-06-18T21:24:55.432Z"
   },
   {
    "duration": 154,
    "start_time": "2025-06-18T21:25:03.206Z"
   },
   {
    "duration": 154,
    "start_time": "2025-06-18T21:25:14.639Z"
   },
   {
    "duration": 68,
    "start_time": "2025-06-18T21:28:33.617Z"
   },
   {
    "duration": 26,
    "start_time": "2025-06-18T21:28:37.424Z"
   },
   {
    "duration": 105,
    "start_time": "2025-06-18T21:28:39.086Z"
   },
   {
    "duration": 21,
    "start_time": "2025-06-18T21:28:52.514Z"
   },
   {
    "duration": 18,
    "start_time": "2025-06-18T21:29:29.929Z"
   },
   {
    "duration": 64,
    "start_time": "2025-06-18T21:29:49.834Z"
   },
   {
    "duration": 75,
    "start_time": "2025-06-18T21:30:01.377Z"
   },
   {
    "duration": 72,
    "start_time": "2025-06-18T21:30:22.472Z"
   },
   {
    "duration": 80,
    "start_time": "2025-06-18T21:31:25.377Z"
   },
   {
    "duration": 84,
    "start_time": "2025-06-18T21:31:31.539Z"
   },
   {
    "duration": 4,
    "start_time": "2025-06-18T21:31:38.117Z"
   },
   {
    "duration": 80,
    "start_time": "2025-06-18T21:31:44.333Z"
   },
   {
    "duration": 81,
    "start_time": "2025-06-18T21:32:07.819Z"
   },
   {
    "duration": 13,
    "start_time": "2025-06-18T21:36:51.632Z"
   },
   {
    "duration": 10,
    "start_time": "2025-06-18T21:39:07.219Z"
   },
   {
    "duration": 10,
    "start_time": "2025-06-18T21:39:18.964Z"
   },
   {
    "duration": 260,
    "start_time": "2025-06-18T21:40:11.695Z"
   },
   {
    "duration": 6,
    "start_time": "2025-06-18T21:40:44.352Z"
   },
   {
    "duration": 14,
    "start_time": "2025-06-18T21:43:30.225Z"
   },
   {
    "duration": 72,
    "start_time": "2025-06-18T21:43:40.626Z"
   },
   {
    "duration": 28,
    "start_time": "2025-06-18T21:44:00.578Z"
   },
   {
    "duration": 12,
    "start_time": "2025-06-18T21:44:04.621Z"
   },
   {
    "duration": 14,
    "start_time": "2025-06-18T21:44:21.008Z"
   },
   {
    "duration": 27,
    "start_time": "2025-06-18T21:44:47.056Z"
   },
   {
    "duration": 89,
    "start_time": "2025-06-18T21:48:39.417Z"
   },
   {
    "duration": 202,
    "start_time": "2025-06-18T21:49:16.174Z"
   },
   {
    "duration": 113,
    "start_time": "2025-06-18T21:49:18.180Z"
   },
   {
    "duration": 120,
    "start_time": "2025-06-18T21:49:23.060Z"
   },
   {
    "duration": 102,
    "start_time": "2025-06-18T21:49:28.488Z"
   },
   {
    "duration": 12,
    "start_time": "2025-06-18T21:50:26.698Z"
   },
   {
    "duration": 116,
    "start_time": "2025-06-18T21:51:03.210Z"
   },
   {
    "duration": 118,
    "start_time": "2025-06-18T21:51:21.768Z"
   },
   {
    "duration": 80,
    "start_time": "2025-06-18T21:51:31.788Z"
   },
   {
    "duration": 102,
    "start_time": "2025-06-18T21:51:34.100Z"
   },
   {
    "duration": 127,
    "start_time": "2025-06-18T21:51:35.881Z"
   },
   {
    "duration": 113,
    "start_time": "2025-06-18T21:51:38.622Z"
   },
   {
    "duration": 204,
    "start_time": "2025-06-18T21:51:57.432Z"
   },
   {
    "duration": 106,
    "start_time": "2025-06-18T21:52:00.931Z"
   },
   {
    "duration": 31,
    "start_time": "2025-06-18T21:52:12.566Z"
   },
   {
    "duration": 33,
    "start_time": "2025-06-18T21:52:26.741Z"
   },
   {
    "duration": 36,
    "start_time": "2025-06-18T21:52:49.438Z"
   },
   {
    "duration": 28,
    "start_time": "2025-06-18T21:53:43.880Z"
   },
   {
    "duration": 29,
    "start_time": "2025-06-18T21:54:34.412Z"
   },
   {
    "duration": 120,
    "start_time": "2025-06-18T21:54:36.613Z"
   },
   {
    "duration": 33,
    "start_time": "2025-06-18T21:54:46.017Z"
   },
   {
    "duration": 27,
    "start_time": "2025-06-18T21:57:02.171Z"
   },
   {
    "duration": 27,
    "start_time": "2025-06-18T21:57:17.870Z"
   },
   {
    "duration": 30,
    "start_time": "2025-06-18T21:57:21.384Z"
   },
   {
    "duration": 35,
    "start_time": "2025-06-18T21:59:11.395Z"
   },
   {
    "duration": 35,
    "start_time": "2025-06-18T21:59:22.343Z"
   },
   {
    "duration": 34,
    "start_time": "2025-06-18T21:59:24.897Z"
   },
   {
    "duration": 34,
    "start_time": "2025-06-18T22:01:22.076Z"
   },
   {
    "duration": 32,
    "start_time": "2025-06-18T22:01:28.462Z"
   },
   {
    "duration": 64,
    "start_time": "2025-06-18T22:03:24.293Z"
   },
   {
    "duration": 68,
    "start_time": "2025-06-18T22:03:55.724Z"
   },
   {
    "duration": 34,
    "start_time": "2025-06-18T22:04:07.371Z"
   },
   {
    "duration": 8,
    "start_time": "2025-06-18T22:05:42.292Z"
   },
   {
    "duration": 8,
    "start_time": "2025-06-18T22:06:34.781Z"
   },
   {
    "duration": 34,
    "start_time": "2025-06-18T22:08:58.229Z"
   },
   {
    "duration": 35,
    "start_time": "2025-06-18T22:09:29.476Z"
   },
   {
    "duration": 29,
    "start_time": "2025-06-18T22:10:14.066Z"
   },
   {
    "duration": 27,
    "start_time": "2025-06-18T22:10:24.878Z"
   },
   {
    "duration": 4,
    "start_time": "2025-06-18T22:13:36.712Z"
   },
   {
    "duration": 33,
    "start_time": "2025-06-18T22:16:12.976Z"
   },
   {
    "duration": 27,
    "start_time": "2025-06-18T22:16:41.567Z"
   },
   {
    "duration": 29,
    "start_time": "2025-06-18T22:16:45.682Z"
   },
   {
    "duration": 27,
    "start_time": "2025-06-18T22:16:48.519Z"
   },
   {
    "duration": 26,
    "start_time": "2025-06-18T22:16:51.560Z"
   },
   {
    "duration": 28,
    "start_time": "2025-06-18T22:16:58.771Z"
   },
   {
    "duration": 29,
    "start_time": "2025-06-18T22:17:40.229Z"
   },
   {
    "duration": 32,
    "start_time": "2025-06-18T22:17:43.088Z"
   },
   {
    "duration": 1455,
    "start_time": "2025-06-18T22:18:00.626Z"
   },
   {
    "duration": 1539,
    "start_time": "2025-06-18T22:18:31.037Z"
   },
   {
    "duration": 1358,
    "start_time": "2025-06-18T22:18:36.841Z"
   },
   {
    "duration": 1381,
    "start_time": "2025-06-18T22:18:43.620Z"
   },
   {
    "duration": 1782,
    "start_time": "2025-06-18T22:18:48.607Z"
   },
   {
    "duration": 28,
    "start_time": "2025-06-18T22:19:30.541Z"
   },
   {
    "duration": 27,
    "start_time": "2025-06-18T22:20:03.030Z"
   },
   {
    "duration": 27,
    "start_time": "2025-06-18T22:20:07.333Z"
   },
   {
    "duration": 25,
    "start_time": "2025-06-18T22:20:18.854Z"
   },
   {
    "duration": 26,
    "start_time": "2025-06-18T22:20:29.697Z"
   },
   {
    "duration": 9,
    "start_time": "2025-06-18T22:20:37.384Z"
   },
   {
    "duration": 34,
    "start_time": "2025-06-18T22:21:41.345Z"
   },
   {
    "duration": 35,
    "start_time": "2025-06-18T22:24:25.215Z"
   },
   {
    "duration": 18,
    "start_time": "2025-06-18T22:27:35.223Z"
   },
   {
    "duration": 18,
    "start_time": "2025-06-18T22:27:48.107Z"
   },
   {
    "duration": 42,
    "start_time": "2025-06-18T22:27:54.631Z"
   },
   {
    "duration": 39,
    "start_time": "2025-06-18T22:28:00.335Z"
   },
   {
    "duration": 32,
    "start_time": "2025-06-18T22:36:28.236Z"
   },
   {
    "duration": 39,
    "start_time": "2025-06-18T22:38:37.790Z"
   },
   {
    "duration": 35,
    "start_time": "2025-06-18T22:39:01.725Z"
   },
   {
    "duration": 37,
    "start_time": "2025-06-18T22:39:26.465Z"
   },
   {
    "duration": 38,
    "start_time": "2025-06-18T22:40:28.969Z"
   },
   {
    "duration": 23,
    "start_time": "2025-06-18T22:40:35.498Z"
   },
   {
    "duration": 51,
    "start_time": "2025-06-18T22:42:40.263Z"
   },
   {
    "duration": 45,
    "start_time": "2025-06-18T22:42:59.311Z"
   },
   {
    "duration": 40,
    "start_time": "2025-06-18T22:44:50.425Z"
   },
   {
    "duration": 35,
    "start_time": "2025-06-18T22:45:19.770Z"
   },
   {
    "duration": 32,
    "start_time": "2025-06-18T22:45:27.130Z"
   },
   {
    "duration": 26,
    "start_time": "2025-06-18T22:45:32.737Z"
   },
   {
    "duration": 26,
    "start_time": "2025-06-18T22:45:37.904Z"
   },
   {
    "duration": 29,
    "start_time": "2025-06-18T22:45:42.895Z"
   },
   {
    "duration": 27,
    "start_time": "2025-06-18T22:45:47.643Z"
   },
   {
    "duration": 28,
    "start_time": "2025-06-18T22:45:54.025Z"
   },
   {
    "duration": 8,
    "start_time": "2025-06-18T22:46:46.545Z"
   },
   {
    "duration": 48,
    "start_time": "2025-06-18T22:48:50.625Z"
   },
   {
    "duration": 25,
    "start_time": "2025-06-18T22:48:59.140Z"
   },
   {
    "duration": 46,
    "start_time": "2025-06-18T22:49:03.066Z"
   },
   {
    "duration": 34,
    "start_time": "2025-06-18T22:49:08.791Z"
   },
   {
    "duration": 31,
    "start_time": "2025-06-18T22:49:13.092Z"
   },
   {
    "duration": 38,
    "start_time": "2025-06-18T22:49:31.095Z"
   },
   {
    "duration": 37,
    "start_time": "2025-06-18T22:49:59.164Z"
   },
   {
    "duration": 50,
    "start_time": "2025-06-18T22:50:05.985Z"
   },
   {
    "duration": 23,
    "start_time": "2025-06-18T22:50:44.708Z"
   },
   {
    "duration": 39,
    "start_time": "2025-06-18T22:54:25.096Z"
   },
   {
    "duration": 43,
    "start_time": "2025-06-18T22:54:49.153Z"
   },
   {
    "duration": 38,
    "start_time": "2025-06-18T22:54:56.435Z"
   },
   {
    "duration": 39,
    "start_time": "2025-06-18T22:55:00.780Z"
   },
   {
    "duration": 39,
    "start_time": "2025-06-18T22:55:05.276Z"
   },
   {
    "duration": 5,
    "start_time": "2025-06-18T23:04:01.905Z"
   },
   {
    "duration": 2,
    "start_time": "2025-06-18T23:20:51.812Z"
   },
   {
    "duration": 864,
    "start_time": "2025-06-18T23:20:54.363Z"
   }
  ],
  "kernelspec": {
   "display_name": "Python 3 (ipykernel)",
   "language": "python",
   "name": "python3"
  },
  "language_info": {
   "codemirror_mode": {
    "name": "ipython",
    "version": 3
   },
   "file_extension": ".py",
   "mimetype": "text/x-python",
   "name": "python",
   "nbconvert_exporter": "python",
   "pygments_lexer": "ipython3",
   "version": "3.9.18"
  },
  "toc": {
   "base_numbering": 1,
   "nav_menu": {},
   "number_sections": true,
   "sideBar": true,
   "skip_h1_title": true,
   "title_cell": "Table of Contents",
   "title_sidebar": "Contents",
   "toc_cell": false,
   "toc_position": {},
   "toc_section_display": true,
   "toc_window_display": false
  }
 },
 "nbformat": 4,
 "nbformat_minor": 4
}
