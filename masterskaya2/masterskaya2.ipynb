{
 "cells": [
  {
   "cell_type": "markdown",
   "id": "9b0692ae-efa5-4b1f-8e47-f80ef31fdcb1",
   "metadata": {},
   "source": [
    "# project untitled\n",
    "## куда я жмяв"
   ]
  },
  {
   "cell_type": "markdown",
   "id": "be6784b5-82e7-49b2-aa1c-9b8d5afacd1c",
   "metadata": {},
   "source": [
    "### Техническое задание Маркетинг\n",
    "\n",
    "### Описание\n",
    "Интернет-магазин собирает историю покупателей, проводит рассылки предложений и\n",
    "планирует будущие продажи. Для оптимизации процессов надо выделить пользователей,\n",
    "которые готовы совершить покупку в ближайшее время.\n",
    "### Цель\n",
    "Предсказать вероятность покупки в течение 90 дней\n",
    "### Задачи\n",
    "* Изучить данные\n",
    "* Разработать полезные признаки\n",
    "* Создать модель для классификации пользователей\n",
    "* Улучшить модель и максимизировать метрику roc_auc\n",
    "* Выполнить тестирование"
   ]
  },
  {
   "cell_type": "markdown",
   "id": "b40da514-a97d-4988-8dcd-128c53f59044",
   "metadata": {},
   "source": [
    "### Загрузка данных"
   ]
  },
  {
   "cell_type": "code",
   "execution_count": 2,
   "id": "affbbd5a-bdcd-4ab5-8b03-5b637548d9b8",
   "metadata": {},
   "outputs": [
    {
     "name": "stdout",
     "output_type": "stream",
     "text": [
      "Requirement already satisfied: pandas in /Users/shogun/anaconda3/envs/kaggle/lib/python3.9/site-packages (2.3.0)\n",
      "Requirement already satisfied: numpy>=1.22.4 in /Users/shogun/anaconda3/envs/kaggle/lib/python3.9/site-packages (from pandas) (1.26.4)\n",
      "Requirement already satisfied: python-dateutil>=2.8.2 in /Users/shogun/anaconda3/envs/kaggle/lib/python3.9/site-packages (from pandas) (2.9.0.post0)\n",
      "Requirement already satisfied: pytz>=2020.1 in /Users/shogun/anaconda3/envs/kaggle/lib/python3.9/site-packages (from pandas) (2024.1)\n",
      "Requirement already satisfied: tzdata>=2022.7 in /Users/shogun/anaconda3/envs/kaggle/lib/python3.9/site-packages (from pandas) (2023.3)\n",
      "Requirement already satisfied: six>=1.5 in /Users/shogun/anaconda3/envs/kaggle/lib/python3.9/site-packages (from python-dateutil>=2.8.2->pandas) (1.16.0)\n"
     ]
    }
   ],
   "source": [
    "!pip install --upgrade pandas\n"
   ]
  },
  {
   "cell_type": "code",
   "execution_count": 3,
   "id": "2174ebc8-8653-4232-a280-526791167858",
   "metadata": {
    "scrolled": true
   },
   "outputs": [
    {
     "name": "stdout",
     "output_type": "stream",
     "text": [
      "Requirement already satisfied: matplotlib in /Users/shogun/anaconda3/envs/kaggle/lib/python3.9/site-packages (3.9.4)\n",
      "Requirement already satisfied: contourpy>=1.0.1 in /Users/shogun/anaconda3/envs/kaggle/lib/python3.9/site-packages (from matplotlib) (1.3.0)\n",
      "Requirement already satisfied: cycler>=0.10 in /Users/shogun/anaconda3/envs/kaggle/lib/python3.9/site-packages (from matplotlib) (0.12.1)\n",
      "Requirement already satisfied: fonttools>=4.22.0 in /Users/shogun/anaconda3/envs/kaggle/lib/python3.9/site-packages (from matplotlib) (4.56.0)\n",
      "Requirement already satisfied: kiwisolver>=1.3.1 in /Users/shogun/anaconda3/envs/kaggle/lib/python3.9/site-packages (from matplotlib) (1.4.7)\n",
      "Requirement already satisfied: numpy>=1.23 in /Users/shogun/anaconda3/envs/kaggle/lib/python3.9/site-packages (from matplotlib) (1.26.4)\n",
      "Requirement already satisfied: packaging>=20.0 in /Users/shogun/anaconda3/envs/kaggle/lib/python3.9/site-packages (from matplotlib) (24.2)\n",
      "Requirement already satisfied: pillow>=8 in /Users/shogun/anaconda3/envs/kaggle/lib/python3.9/site-packages (from matplotlib) (9.4.0)\n",
      "Requirement already satisfied: pyparsing>=2.3.1 in /Users/shogun/anaconda3/envs/kaggle/lib/python3.9/site-packages (from matplotlib) (3.2.1)\n",
      "Requirement already satisfied: python-dateutil>=2.7 in /Users/shogun/anaconda3/envs/kaggle/lib/python3.9/site-packages (from matplotlib) (2.9.0.post0)\n",
      "Requirement already satisfied: importlib-resources>=3.2.0 in /Users/shogun/anaconda3/envs/kaggle/lib/python3.9/site-packages (from matplotlib) (6.5.2)\n",
      "Requirement already satisfied: zipp>=3.1.0 in /Users/shogun/anaconda3/envs/kaggle/lib/python3.9/site-packages (from importlib-resources>=3.2.0->matplotlib) (3.21.0)\n",
      "Requirement already satisfied: six>=1.5 in /Users/shogun/anaconda3/envs/kaggle/lib/python3.9/site-packages (from python-dateutil>=2.7->matplotlib) (1.16.0)\n"
     ]
    }
   ],
   "source": [
    "!pip install  matplotlib \n"
   ]
  },
  {
   "cell_type": "code",
   "execution_count": 42,
   "id": "34ef9f54-b6d3-4eea-acfa-76b49123aea1",
   "metadata": {},
   "outputs": [],
   "source": [
    "import os\n",
    "import pandas as pd\n",
    "\n",
    "import numpy as np\n",
    "import matplotlib.pyplot as plt\n",
    "\n",
    "from sklearn.model_selection import train_test_split\n",
    "\n",
    "from sklearn.utils import resample\n",
    "\n",
    "from functools import reduce\n",
    "from sklearn.linear_model import LogisticRegression\n",
    "from sklearn.metrics import classification_report\n",
    "from sklearn.metrics import roc_auc_score, roc_curve, confusion_matrix, ConfusionMatrixDisplay\n",
    "import catboost\n",
    "\n"
   ]
  },
  {
   "cell_type": "code",
   "execution_count": null,
   "id": "bf7dced8-40d8-460e-94c0-5c991415b294",
   "metadata": {},
   "outputs": [],
   "source": []
  },
  {
   "cell_type": "code",
   "execution_count": null,
   "id": "2e827a39-a5ed-4ed5-a6f7-7e92c1b95f80",
   "metadata": {},
   "outputs": [],
   "source": []
  },
  {
   "cell_type": "code",
   "execution_count": 43,
   "id": "b048f4dc-051c-40f2-a725-5334511d1236",
   "metadata": {},
   "outputs": [
    {
     "name": "stdout",
     "output_type": "stream",
     "text": [
      "2.3.0+4.g1dfc98e16a\n"
     ]
    }
   ],
   "source": [
    "print(pd.__version__)"
   ]
  },
  {
   "cell_type": "code",
   "execution_count": 44,
   "id": "43362bd5-a988-4ffa-9359-7fdb25a6d2c3",
   "metadata": {},
   "outputs": [],
   "source": [
    "# Основная директория\n",
    "#base_path = '/Users/migdalia/goinfre/description/filtered_data'\n",
    "base_path = '/Users/shogun/Desktop/ds_projects/masterskaya2/filtered_data'\n",
    "\n",
    "# Файлы\n",
    "file1 = 'apparel-messages.csv'\n",
    "file2 = 'apparel-purchases.csv'\n",
    "file3 = 'apparel-target_binary.csv'\n",
    "file4 = 'full_campaign_daily_event_channel.csv'\n",
    "file5 = 'full_campaign_daily_event.csv'\n",
    "\n",
    "# Полные пути\n",
    "path1 = os.path.join(base_path, file1)\n",
    "path2 = os.path.join(base_path, file2)\n",
    "path3 = os.path.join(base_path, file3)\n",
    "path4 = os.path.join(base_path, file4)\n",
    "path5 = os.path.join(base_path, file5)"
   ]
  },
  {
   "cell_type": "code",
   "execution_count": 45,
   "id": "d915b8a9-3bd9-4c97-bf90-658e002571a3",
   "metadata": {},
   "outputs": [
    {
     "name": "stdout",
     "output_type": "stream",
     "text": [
      "[OK1] Загружен apparel-messages.csv\n",
      "[OK2] Загружен apparel-purchases.csv\n",
      "[OK3] Загружен apparel-target_binary.csv\n",
      "[OK4] Загружен full_campaign_daily_event_channel.csv\n",
      "[OK5] Загружен full_campaign_daily_event.csv\n"
     ]
    }
   ],
   "source": [
    "# Загрузка с проверкой\n",
    "if os.path.exists(path1):\n",
    "    apparel_messages = pd.read_csv(path1)\n",
    "    print('[OK1] Загружен apparel-messages.csv')\n",
    "else:\n",
    "    print(f'[ОШИБКА1] {file1} не найден')\n",
    "\n",
    "    \n",
    "if os.path.exists(path2):\n",
    "    apparel_purchases = pd.read_csv(path2)\n",
    "    print(f'[OK2] Загружен {file2}')\n",
    "else:\n",
    "    print(f'[ОШИБКА2] {file2} не найден')\n",
    "\n",
    "if os.path.exists(path3):\n",
    "    apparel_target_binary = pd.read_csv(path3)\n",
    "    print(f'[OK3] Загружен {file3}')\n",
    "else:\n",
    "    print(f'[ОШИБКА3] {file3} не найден')\n",
    "\n",
    "    \n",
    "if os.path.exists(path4):\n",
    "    full_campaign_daily_event_channel = pd.read_csv(path4)\n",
    "    print(f'[OK4] Загружен {file4}')\n",
    "else:\n",
    "    print(f'[ОШИБКА4] {file4} не найден')\n",
    "    \n",
    "if os.path.exists(path5):\n",
    "    full_campaign_daily_event = pd.read_csv(path5)\n",
    "    print(f'[OK5] Загружен {file5}')\n",
    "else:\n",
    "    print(f'[ОШИБКА5] {file5} не найден')"
   ]
  },
  {
   "cell_type": "markdown",
   "id": "b434e282-3fd0-469c-92cd-a40e674900b0",
   "metadata": {},
   "source": [
    "### 1. Данные о покупках apparel-purchases. \n",
    "Это уже последствия рассылок.\n",
    "\n"
   ]
  },
  {
   "cell_type": "code",
   "execution_count": 46,
   "id": "b4f7506b-4418-4c12-8411-37b1c9ec72e3",
   "metadata": {},
   "outputs": [
    {
     "data": {
      "text/html": [
       "<div>\n",
       "<style scoped>\n",
       "    .dataframe tbody tr th:only-of-type {\n",
       "        vertical-align: middle;\n",
       "    }\n",
       "\n",
       "    .dataframe tbody tr th {\n",
       "        vertical-align: top;\n",
       "    }\n",
       "\n",
       "    .dataframe thead th {\n",
       "        text-align: right;\n",
       "    }\n",
       "</style>\n",
       "<table border=\"1\" class=\"dataframe\">\n",
       "  <thead>\n",
       "    <tr style=\"text-align: right;\">\n",
       "      <th></th>\n",
       "      <th>client_id</th>\n",
       "      <th>quantity</th>\n",
       "      <th>price</th>\n",
       "      <th>category_ids</th>\n",
       "      <th>date</th>\n",
       "      <th>message_id</th>\n",
       "    </tr>\n",
       "  </thead>\n",
       "  <tbody>\n",
       "    <tr>\n",
       "      <th>0</th>\n",
       "      <td>1515915625468169594</td>\n",
       "      <td>1</td>\n",
       "      <td>1999.0</td>\n",
       "      <td>['4', '28', '57', '431']</td>\n",
       "      <td>2022-05-16</td>\n",
       "      <td>1515915625468169594-4301-627b661e9736d</td>\n",
       "    </tr>\n",
       "    <tr>\n",
       "      <th>1</th>\n",
       "      <td>1515915625468169594</td>\n",
       "      <td>1</td>\n",
       "      <td>2499.0</td>\n",
       "      <td>['4', '28', '57', '431']</td>\n",
       "      <td>2022-05-16</td>\n",
       "      <td>1515915625468169594-4301-627b661e9736d</td>\n",
       "    </tr>\n",
       "    <tr>\n",
       "      <th>2</th>\n",
       "      <td>1515915625471138230</td>\n",
       "      <td>1</td>\n",
       "      <td>6499.0</td>\n",
       "      <td>['4', '28', '57', '431']</td>\n",
       "      <td>2022-05-16</td>\n",
       "      <td>1515915625471138230-4437-6282242f27843</td>\n",
       "    </tr>\n",
       "  </tbody>\n",
       "</table>\n",
       "</div>"
      ],
      "text/plain": [
       "             client_id  quantity   price              category_ids  \\\n",
       "0  1515915625468169594         1  1999.0  ['4', '28', '57', '431']   \n",
       "1  1515915625468169594         1  2499.0  ['4', '28', '57', '431']   \n",
       "2  1515915625471138230         1  6499.0  ['4', '28', '57', '431']   \n",
       "\n",
       "         date                              message_id  \n",
       "0  2022-05-16  1515915625468169594-4301-627b661e9736d  \n",
       "1  2022-05-16  1515915625468169594-4301-627b661e9736d  \n",
       "2  2022-05-16  1515915625471138230-4437-6282242f27843  "
      ]
     },
     "execution_count": 46,
     "metadata": {},
     "output_type": "execute_result"
    }
   ],
   "source": [
    "apparel_purchases.head(3)"
   ]
  },
  {
   "cell_type": "code",
   "execution_count": null,
   "id": "1b2aac41-9e0f-4282-9ed4-92d6e9081ff8",
   "metadata": {},
   "outputs": [],
   "source": []
  },
  {
   "cell_type": "code",
   "execution_count": 47,
   "id": "bf54b525-d525-40fe-b9ba-2bbdc9743fc8",
   "metadata": {},
   "outputs": [
    {
     "name": "stdout",
     "output_type": "stream",
     "text": [
      "<class 'pandas.core.frame.DataFrame'>\n",
      "RangeIndex: 202208 entries, 0 to 202207\n",
      "Data columns (total 6 columns):\n",
      " #   Column        Non-Null Count   Dtype  \n",
      "---  ------        --------------   -----  \n",
      " 0   client_id     202208 non-null  int64  \n",
      " 1   quantity      202208 non-null  int64  \n",
      " 2   price         202208 non-null  float64\n",
      " 3   category_ids  202208 non-null  object \n",
      " 4   date          202208 non-null  object \n",
      " 5   message_id    202208 non-null  object \n",
      "dtypes: float64(1), int64(2), object(3)\n",
      "memory usage: 9.3+ MB\n"
     ]
    }
   ],
   "source": [
    "apparel_purchases.info()"
   ]
  },
  {
   "cell_type": "code",
   "execution_count": 48,
   "id": "d5c02c1c-a91f-4bfe-9298-f1edeaa75ef6",
   "metadata": {},
   "outputs": [
    {
     "data": {
      "text/plain": [
       "49849"
      ]
     },
     "execution_count": 48,
     "metadata": {},
     "output_type": "execute_result"
    }
   ],
   "source": [
    "apparel_purchases.client_id.nunique()"
   ]
  },
  {
   "cell_type": "code",
   "execution_count": 49,
   "id": "4bd4039e-8d15-43b4-8a87-82640c05ab8f",
   "metadata": {},
   "outputs": [
    {
     "data": {
      "text/plain": [
       "16"
      ]
     },
     "execution_count": 49,
     "metadata": {},
     "output_type": "execute_result"
    }
   ],
   "source": [
    "apparel_purchases.quantity.nunique()"
   ]
  },
  {
   "cell_type": "code",
   "execution_count": 50,
   "id": "cd4de33b-7560-4fef-96d8-990bd6bfed40",
   "metadata": {},
   "outputs": [
    {
     "data": {
      "text/plain": [
       "array([ 1,  2,  3, 10,  4, 25, 20, 13, 30, 15,  6, 18,  8,  9,  5,  7])"
      ]
     },
     "execution_count": 50,
     "metadata": {},
     "output_type": "execute_result"
    }
   ],
   "source": [
    "apparel_purchases.quantity.unique() # количество единиц товара"
   ]
  },
  {
   "cell_type": "code",
   "execution_count": 51,
   "id": "71df1b34-38b6-413b-bb3b-8bcffb953a67",
   "metadata": {},
   "outputs": [
    {
     "data": {
      "text/plain": [
       "3642"
      ]
     },
     "execution_count": 51,
     "metadata": {},
     "output_type": "execute_result"
    }
   ],
   "source": [
    "apparel_purchases.price.nunique()"
   ]
  },
  {
   "cell_type": "code",
   "execution_count": 52,
   "id": "1eae3a85-d40f-425b-a49a-ac85483131b6",
   "metadata": {},
   "outputs": [
    {
     "data": {
      "text/plain": [
       "933"
      ]
     },
     "execution_count": 52,
     "metadata": {},
     "output_type": "execute_result"
    }
   ],
   "source": [
    "apparel_purchases.category_ids.nunique()"
   ]
  },
  {
   "cell_type": "code",
   "execution_count": 53,
   "id": "9b3d3a6c-c75e-430f-aa9f-659eb00eb733",
   "metadata": {},
   "outputs": [
    {
     "data": {
      "text/plain": [
       "642"
      ]
     },
     "execution_count": 53,
     "metadata": {},
     "output_type": "execute_result"
    }
   ],
   "source": [
    "apparel_purchases.date.nunique()"
   ]
  },
  {
   "cell_type": "code",
   "execution_count": 54,
   "id": "0b7b2803-5413-4fe2-9c2b-921701696c32",
   "metadata": {
    "scrolled": true
   },
   "outputs": [
    {
     "data": {
      "text/plain": [
       "array(['2022-05-16', '2022-05-17', '2022-05-18', '2022-05-19',\n",
       "       '2022-05-20', '2022-05-21', '2022-05-22', '2022-05-23',\n",
       "       '2022-05-24', '2022-05-25', '2022-05-26', '2022-05-27',\n",
       "       '2022-05-28', '2022-05-29', '2022-05-30', '2022-05-31',\n",
       "       '2022-06-01', '2022-06-02', '2022-06-03', '2022-06-04',\n",
       "       '2022-06-05', '2022-06-06', '2022-06-07', '2022-06-08',\n",
       "       '2022-06-09', '2022-06-10', '2022-06-11', '2022-06-12',\n",
       "       '2022-06-13', '2022-06-14', '2022-06-15', '2022-06-16',\n",
       "       '2022-06-17', '2022-06-18', '2022-06-19', '2022-06-20',\n",
       "       '2022-06-21', '2022-06-22', '2022-06-23', '2022-06-24',\n",
       "       '2022-06-25', '2022-06-26', '2022-06-27', '2022-06-28',\n",
       "       '2022-06-29', '2022-06-30', '2022-07-01', '2022-07-02',\n",
       "       '2022-07-03', '2022-07-04', '2022-07-05', '2022-07-06',\n",
       "       '2022-07-07', '2022-07-08', '2022-07-09', '2022-07-10',\n",
       "       '2022-07-11', '2022-07-12', '2022-07-13', '2022-07-14',\n",
       "       '2022-07-15', '2022-07-16', '2022-07-17', '2022-07-18',\n",
       "       '2022-07-19', '2022-07-20', '2022-07-21', '2022-07-22',\n",
       "       '2022-07-23', '2022-07-24', '2022-07-25', '2022-07-26',\n",
       "       '2022-07-27', '2022-07-28', '2022-07-29', '2022-07-30',\n",
       "       '2022-07-31', '2022-08-01', '2022-08-02', '2022-08-03',\n",
       "       '2022-08-04', '2022-08-05', '2022-08-06', '2022-08-07',\n",
       "       '2022-08-08', '2022-08-09', '2022-08-10', '2022-08-11',\n",
       "       '2022-08-12', '2022-08-13', '2022-08-14', '2022-08-15',\n",
       "       '2022-08-16', '2022-08-17', '2022-08-18', '2022-08-19',\n",
       "       '2022-08-20', '2022-08-21', '2022-08-22', '2022-08-23',\n",
       "       '2022-08-24', '2022-08-25', '2022-08-26', '2022-08-27',\n",
       "       '2022-08-28', '2022-08-29', '2022-08-30', '2022-08-31',\n",
       "       '2022-09-01', '2022-09-02', '2022-09-03', '2022-09-04',\n",
       "       '2022-09-05', '2022-09-06', '2022-09-07', '2022-09-08',\n",
       "       '2022-09-09', '2022-09-10', '2022-09-11', '2022-09-12',\n",
       "       '2022-09-13', '2022-09-14', '2022-09-15', '2022-09-16',\n",
       "       '2022-09-17', '2022-09-18', '2022-09-19', '2022-09-20',\n",
       "       '2022-09-21', '2022-09-22', '2022-09-23', '2022-09-24',\n",
       "       '2022-09-25', '2022-09-26', '2022-09-27', '2022-09-28',\n",
       "       '2022-09-29', '2022-09-30', '2022-10-01', '2022-10-02',\n",
       "       '2022-10-03', '2022-10-04', '2022-10-05', '2022-10-06',\n",
       "       '2022-10-07', '2022-10-08', '2022-10-09', '2022-10-10',\n",
       "       '2022-10-11', '2022-10-12', '2022-10-13', '2022-10-14',\n",
       "       '2022-10-15', '2022-10-16', '2022-10-17', '2022-10-18',\n",
       "       '2022-10-19', '2022-10-20', '2022-10-21', '2022-10-22',\n",
       "       '2022-10-23', '2022-10-24', '2022-10-25', '2022-10-26',\n",
       "       '2022-10-27', '2022-10-28', '2022-10-29', '2022-10-30',\n",
       "       '2022-10-31', '2022-11-01', '2022-11-02', '2022-11-03',\n",
       "       '2022-11-04', '2022-11-05', '2022-11-06', '2022-11-07',\n",
       "       '2022-11-08', '2022-11-09', '2022-11-10', '2022-11-11',\n",
       "       '2022-11-12', '2022-11-13', '2022-11-14', '2022-11-15',\n",
       "       '2022-11-16', '2022-11-17', '2022-11-18', '2022-11-19',\n",
       "       '2022-11-20', '2022-11-21', '2022-11-22', '2022-11-23',\n",
       "       '2022-11-24', '2022-11-25', '2022-11-26', '2022-11-27',\n",
       "       '2022-11-28', '2022-11-29', '2022-11-30', '2022-12-01',\n",
       "       '2022-12-02', '2022-12-03', '2022-12-04', '2022-12-05',\n",
       "       '2022-12-06', '2022-12-07', '2022-12-08', '2022-12-09',\n",
       "       '2022-12-10', '2022-12-11', '2022-12-12', '2022-12-13',\n",
       "       '2022-12-14', '2022-12-15', '2022-12-16', '2022-12-17',\n",
       "       '2022-12-18', '2022-12-19', '2022-12-20', '2022-12-21',\n",
       "       '2022-12-22', '2022-12-23', '2022-12-24', '2022-12-25',\n",
       "       '2022-12-26', '2022-12-27', '2022-12-28', '2022-12-29',\n",
       "       '2022-12-30', '2022-12-31', '2023-01-01', '2023-01-02',\n",
       "       '2023-01-03', '2023-01-04', '2023-01-05', '2023-01-06',\n",
       "       '2023-01-07', '2023-01-08', '2023-01-09', '2023-01-10',\n",
       "       '2023-01-11', '2023-01-12', '2023-01-13', '2023-01-14',\n",
       "       '2023-01-15', '2023-01-16', '2023-01-17', '2023-01-18',\n",
       "       '2023-01-19', '2023-01-20', '2023-01-21', '2023-01-22',\n",
       "       '2023-01-23', '2023-01-24', '2023-01-25', '2023-01-26',\n",
       "       '2023-01-27', '2023-01-28', '2023-01-29', '2023-01-30',\n",
       "       '2023-01-31', '2023-02-01', '2023-02-02', '2023-02-03',\n",
       "       '2023-02-04', '2023-02-05', '2023-02-06', '2023-02-07',\n",
       "       '2023-02-08', '2023-02-09', '2023-02-10', '2023-02-11',\n",
       "       '2023-02-12', '2023-02-13', '2023-02-14', '2023-02-15',\n",
       "       '2023-02-16', '2023-02-17', '2023-02-18', '2023-02-19',\n",
       "       '2023-02-20', '2023-02-21', '2023-02-22', '2023-02-23',\n",
       "       '2023-02-24', '2023-02-25', '2023-02-26', '2023-02-27',\n",
       "       '2023-02-28', '2023-03-01', '2023-03-02', '2023-03-03',\n",
       "       '2023-03-04', '2023-03-05', '2023-03-06', '2023-03-07',\n",
       "       '2023-03-08', '2023-03-09', '2023-03-10', '2023-03-11',\n",
       "       '2023-03-12', '2023-03-13', '2023-03-14', '2023-03-15',\n",
       "       '2023-03-16', '2023-03-17', '2023-03-18', '2023-03-19',\n",
       "       '2023-03-20', '2023-03-21', '2023-03-22', '2023-03-23',\n",
       "       '2023-03-24', '2023-03-25', '2023-03-26', '2023-03-27',\n",
       "       '2023-03-28', '2023-03-29', '2023-03-30', '2023-03-31',\n",
       "       '2023-04-01', '2023-04-02', '2023-04-03', '2023-04-04',\n",
       "       '2023-04-05', '2023-04-06', '2023-04-07', '2023-04-08',\n",
       "       '2023-04-09', '2023-04-10', '2023-04-11', '2023-04-12',\n",
       "       '2023-04-13', '2023-04-14', '2023-04-15', '2023-04-16',\n",
       "       '2023-04-17', '2023-04-18', '2023-04-19', '2023-04-20',\n",
       "       '2023-04-21', '2023-04-22', '2023-04-23', '2023-04-24',\n",
       "       '2023-04-25', '2023-04-26', '2023-04-27', '2023-04-28',\n",
       "       '2023-04-29', '2023-04-30', '2023-05-01', '2023-05-02',\n",
       "       '2023-05-03', '2023-05-04', '2023-05-05', '2023-05-06',\n",
       "       '2023-05-07', '2023-05-08', '2023-05-09', '2023-05-10',\n",
       "       '2023-05-11', '2023-05-12', '2023-05-13', '2023-05-14',\n",
       "       '2023-05-15', '2023-05-16', '2023-05-17', '2023-05-18',\n",
       "       '2023-05-19', '2023-05-20', '2023-05-21', '2023-05-22',\n",
       "       '2023-05-23', '2023-05-24', '2023-05-25', '2023-05-26',\n",
       "       '2023-05-27', '2023-05-28', '2023-05-29', '2023-05-30',\n",
       "       '2023-05-31', '2023-06-01', '2023-06-02', '2023-06-03',\n",
       "       '2023-06-04', '2023-06-05', '2023-06-06', '2023-06-07',\n",
       "       '2023-06-08', '2023-06-09', '2023-06-10', '2023-06-11',\n",
       "       '2023-06-12', '2023-06-13', '2023-06-14', '2023-06-15',\n",
       "       '2023-06-16', '2023-06-17', '2023-06-18', '2023-06-19',\n",
       "       '2023-06-20', '2023-06-21', '2023-06-22', '2023-06-23',\n",
       "       '2023-06-24', '2023-06-25', '2023-06-26', '2023-06-27',\n",
       "       '2023-06-28', '2023-06-29', '2023-06-30', '2023-07-01',\n",
       "       '2023-07-02', '2023-07-03', '2023-07-04', '2023-07-05',\n",
       "       '2023-07-06', '2023-07-07', '2023-07-08', '2023-07-09',\n",
       "       '2023-07-10', '2023-07-11', '2023-07-12', '2023-07-13',\n",
       "       '2023-07-14', '2023-07-15', '2023-07-16', '2023-07-17',\n",
       "       '2023-07-18', '2023-07-19', '2023-07-20', '2023-07-21',\n",
       "       '2023-07-22', '2023-07-23', '2023-07-24', '2023-07-25',\n",
       "       '2023-07-26', '2023-07-27', '2023-07-28', '2023-07-29',\n",
       "       '2023-07-30', '2023-07-31', '2023-08-01', '2023-08-02',\n",
       "       '2023-08-03', '2023-08-04', '2023-08-05', '2023-08-06',\n",
       "       '2023-08-07', '2023-08-08', '2023-08-09', '2023-08-10',\n",
       "       '2023-08-11', '2023-08-12', '2023-08-13', '2023-08-14',\n",
       "       '2023-08-15', '2023-08-16', '2023-08-17', '2023-08-18',\n",
       "       '2023-08-19', '2023-08-20', '2023-08-21', '2023-08-22',\n",
       "       '2023-08-23', '2023-08-24', '2023-08-25', '2023-08-26',\n",
       "       '2023-08-27', '2023-08-28', '2023-08-29', '2023-08-30',\n",
       "       '2023-08-31', '2023-09-01', '2023-09-02', '2023-09-03',\n",
       "       '2023-09-04', '2023-09-05', '2023-09-06', '2023-09-07',\n",
       "       '2023-09-08', '2023-09-09', '2023-09-10', '2023-09-11',\n",
       "       '2023-09-12', '2023-09-13', '2023-09-14', '2023-09-15',\n",
       "       '2023-09-16', '2023-09-17', '2023-09-18', '2023-09-19',\n",
       "       '2023-09-20', '2023-09-21', '2023-09-22', '2023-09-23',\n",
       "       '2023-09-24', '2023-09-25', '2023-09-26', '2023-09-27',\n",
       "       '2023-09-28', '2023-09-29', '2023-09-30', '2023-10-01',\n",
       "       '2023-10-02', '2023-10-03', '2023-10-04', '2023-10-05',\n",
       "       '2023-10-06', '2023-10-07', '2023-10-08', '2023-10-09',\n",
       "       '2023-10-10', '2023-10-11', '2023-10-12', '2023-10-13',\n",
       "       '2023-10-14', '2023-10-15', '2023-10-16', '2023-10-17',\n",
       "       '2023-10-18', '2023-10-19', '2023-10-20', '2023-10-21',\n",
       "       '2023-10-22', '2023-10-23', '2023-10-24', '2023-10-25',\n",
       "       '2023-10-26', '2023-10-27', '2023-10-28', '2023-10-29',\n",
       "       '2023-10-30', '2023-10-31', '2023-11-01', '2023-11-02',\n",
       "       '2023-11-03', '2023-11-04', '2023-11-05', '2023-11-06',\n",
       "       '2023-11-07', '2023-11-08', '2023-11-09', '2023-11-10',\n",
       "       '2023-11-11', '2023-11-12', '2023-11-13', '2023-11-14',\n",
       "       '2023-11-15', '2023-11-16', '2023-11-17', '2023-11-18',\n",
       "       '2023-11-19', '2023-11-20', '2023-11-21', '2023-11-22',\n",
       "       '2023-11-23', '2023-11-24', '2023-11-25', '2023-11-26',\n",
       "       '2023-11-27', '2023-11-28', '2023-11-29', '2023-11-30',\n",
       "       '2023-12-01', '2023-12-02', '2023-12-03', '2023-12-04',\n",
       "       '2023-12-05', '2023-12-06', '2023-12-07', '2023-12-08',\n",
       "       '2023-12-09', '2023-12-10', '2023-12-11', '2023-12-12',\n",
       "       '2023-12-13', '2023-12-14', '2023-12-15', '2023-12-16',\n",
       "       '2023-12-17', '2023-12-18', '2023-12-19', '2023-12-20',\n",
       "       '2023-12-21', '2023-12-22', '2023-12-23', '2023-12-24',\n",
       "       '2023-12-25', '2023-12-26', '2023-12-27', '2023-12-28',\n",
       "       '2023-12-29', '2023-12-30', '2023-12-31', '2024-01-01',\n",
       "       '2024-01-02', '2024-01-03', '2024-01-04', '2024-01-05',\n",
       "       '2024-01-06', '2024-01-07', '2024-01-08', '2024-01-09',\n",
       "       '2024-01-10', '2024-01-11', '2024-01-12', '2024-01-13',\n",
       "       '2024-01-14', '2024-01-15', '2024-01-16', '2024-01-17',\n",
       "       '2024-01-18', '2024-01-19', '2024-01-20', '2024-01-21',\n",
       "       '2024-01-22', '2024-01-23', '2024-01-24', '2024-01-25',\n",
       "       '2024-01-26', '2024-01-27', '2024-01-28', '2024-01-29',\n",
       "       '2024-01-30', '2024-01-31', '2024-02-01', '2024-02-02',\n",
       "       '2024-02-03', '2024-02-04', '2024-02-05', '2024-02-06',\n",
       "       '2024-02-07', '2024-02-08', '2024-02-09', '2024-02-10',\n",
       "       '2024-02-11', '2024-02-12', '2024-02-13', '2024-02-14',\n",
       "       '2024-02-15', '2024-02-16'], dtype=object)"
      ]
     },
     "execution_count": 54,
     "metadata": {},
     "output_type": "execute_result"
    }
   ],
   "source": [
    "apparel_purchases.date.unique()"
   ]
  },
  {
   "cell_type": "code",
   "execution_count": 55,
   "id": "0a947d80-2bcc-4944-b351-676fa2ab0a48",
   "metadata": {},
   "outputs": [],
   "source": [
    "# Переведем в datetime\n",
    "apparel_purchases['date'] = pd.to_datetime(apparel_purchases['date'])"
   ]
  },
  {
   "cell_type": "code",
   "execution_count": 56,
   "id": "18e5743b-6f4d-4be7-9d8c-81f806c32795",
   "metadata": {
    "jupyter": {
     "source_hidden": true
    }
   },
   "outputs": [
    {
     "data": {
      "image/png": "[encoded data removed]",
      "text/plain": [
       "<Figure size 1000x500 with 1 Axes>"
      ]
     },
     "metadata": {},
     "output_type": "display_data"
    }
   ],
   "source": [
    "# Оставим только 2022 год\n",
    "df_2022 = apparel_purchases[apparel_purchases['date'].dt.year == 2022]\n",
    "\n",
    "# Группируем по месяцу и считаем количество записей\n",
    "monthly_counts = df_2022['date'].dt.month.value_counts().sort_index()\n",
    "\n",
    "# Словарь для перевода номеров месяцев в названия\n",
    "month_names = {\n",
    "    1: 'январь', 2: 'февраль', 3: 'март', 4: 'апрель', 5: 'май', 6: 'июнь',\n",
    "    7: 'июль', 8: 'август', 9: 'сентябрь', 10: 'октябрь', 11: 'ноябрь', 12: 'декабрь'\n",
    "}\n",
    "\n",
    "# Подписи на русском\n",
    "month_labels = [month_names[m] for m in monthly_counts.index]\n",
    "\n",
    "# Построим график\n",
    "plt.figure(figsize=(10, 5))\n",
    "plt.bar(month_labels, monthly_counts.values, color='skyblue')\n",
    "plt.xlabel('Месяц')\n",
    "plt.ylabel('Количество рассылок')\n",
    "plt.title('Количество рассылок по месяцам в 2022 году')\n",
    "plt.xticks(rotation=45)\n",
    "plt.grid(axis='y', linestyle='--', alpha=0.5)\n",
    "plt.tight_layout()\n",
    "plt.show()"
   ]
  },
  {
   "cell_type": "code",
   "execution_count": 57,
   "id": "e56a336e-3423-4323-9efc-2dfa0b608165",
   "metadata": {
    "jupyter": {
     "source_hidden": true
    }
   },
   "outputs": [
    {
     "data": {
      "image/png": "[encoded data removed]",
      "text/plain": [
       "<Figure size 1000x500 with 1 Axes>"
      ]
     },
     "metadata": {},
     "output_type": "display_data"
    }
   ],
   "source": [
    "# Оставим только 2023 год\n",
    "df_2023 = apparel_purchases[apparel_purchases['date'].dt.year == 2023]\n",
    "\n",
    "\n",
    "# Группируем по месяцу и считаем количество записей\n",
    "monthly_counts = df_2023['date'].dt.month.value_counts().sort_index()\n",
    "\n",
    "# Словарь для перевода номеров месяцев в названия\n",
    "month_names = {\n",
    "    1: 'январь', 2: 'февраль', 3: 'март', 4: 'апрель', 5: 'май', 6: 'июнь',\n",
    "    7: 'июль', 8: 'август', 9: 'сентябрь', 10: 'октябрь', 11: 'ноябрь', 12: 'декабрь'\n",
    "}\n",
    "\n",
    "# Подписи на русском\n",
    "month_labels = [month_names[m] for m in monthly_counts.index]\n",
    "\n",
    "# Построим график\n",
    "plt.figure(figsize=(10, 5))\n",
    "plt.bar(month_labels, monthly_counts.values, color='skyblue')\n",
    "plt.xlabel('Месяц')\n",
    "plt.ylabel('Количество рассылок')\n",
    "plt.title('Количество рассылок по месяцам в 2023 году')\n",
    "plt.xticks(rotation=45)\n",
    "plt.grid(axis='y', linestyle='--', alpha=0.5)\n",
    "plt.tight_layout()\n",
    "plt.show()"
   ]
  },
  {
   "cell_type": "code",
   "execution_count": 58,
   "id": "86d8e197-b445-4f91-8599-b80b75836e95",
   "metadata": {
    "jupyter": {
     "source_hidden": true
    },
    "scrolled": true
   },
   "outputs": [
    {
     "data": {
      "image/png": "[encoded data removed]",
      "text/plain": [
       "<Figure size 1000x500 with 1 Axes>"
      ]
     },
     "metadata": {},
     "output_type": "display_data"
    }
   ],
   "source": [
    "# Оставим только 2024 год\n",
    "df_2024 = apparel_purchases[apparel_purchases['date'].dt.year == 2024]\n",
    "\n",
    "\n",
    "# Группируем по месяцу и считаем количество записей\n",
    "monthly_counts = df_2024['date'].dt.month.value_counts().sort_index()\n",
    "\n",
    "# Словарь для перевода номеров месяцев в названия\n",
    "month_names = {\n",
    "    1: 'январь', 2: 'февраль', 3: 'март', 4: 'апрель', 5: 'май', 6: 'июнь',\n",
    "    7: 'июль', 8: 'август', 9: 'сентябрь', 10: 'октябрь', 11: 'ноябрь', 12: 'декабрь'\n",
    "}\n",
    "\n",
    "# Подписи на русском\n",
    "month_labels = [month_names[m] for m in monthly_counts.index]\n",
    "\n",
    "# Построим график\n",
    "plt.figure(figsize=(10, 5))\n",
    "plt.bar(month_labels, monthly_counts.values, color='skyblue')\n",
    "plt.xlabel('Месяц')\n",
    "plt.ylabel('Количество рассылок')\n",
    "plt.title('Количество рассылок по месяцам в 2024 году')\n",
    "plt.xticks(rotation=45)\n",
    "plt.grid(axis='y', linestyle='--', alpha=0.5)\n",
    "plt.tight_layout()\n",
    "plt.show()"
   ]
  },
  {
   "cell_type": "code",
   "execution_count": 59,
   "id": "0a2938ba-0f75-4144-a757-8c5533f33d9f",
   "metadata": {},
   "outputs": [
    {
     "data": {
      "text/plain": [
       "50204"
      ]
     },
     "execution_count": 59,
     "metadata": {},
     "output_type": "execute_result"
    }
   ],
   "source": [
    "apparel_purchases.message_id.nunique()"
   ]
  },
  {
   "cell_type": "code",
   "execution_count": 60,
   "id": "10abf9d1-2f48-4eeb-9903-be0753e935d7",
   "metadata": {},
   "outputs": [
    {
     "data": {
      "text/plain": [
       "array(['1515915625468169594-4301-627b661e9736d',\n",
       "       '1515915625471138230-4437-6282242f27843',\n",
       "       '1515915625471640575-4301-627b661b67ac3', ...,\n",
       "       '1515915626009802894-14633-65c9d0647754c',\n",
       "       '1515915626010221592-14664-65cf1622434a9',\n",
       "       '1515915626010261344-14648-65cdb6d56c4c8'], dtype=object)"
      ]
     },
     "execution_count": 60,
     "metadata": {},
     "output_type": "execute_result"
    }
   ],
   "source": [
    "apparel_purchases.message_id.unique()"
   ]
  },
  {
   "cell_type": "code",
   "execution_count": null,
   "id": "b98e0dbc-d9c3-4004-8528-aea70b2c3a2f",
   "metadata": {},
   "outputs": [],
   "source": []
  },
  {
   "cell_type": "markdown",
   "id": "097f76b4-c735-44d0-86ac-08c5569fdc33",
   "metadata": {},
   "source": [
    "### 2. Данные о рекламных рассылках apparel-messages"
   ]
  },
  {
   "cell_type": "code",
   "execution_count": 61,
   "id": "c74177ec-2703-478d-b21c-9146b3e73588",
   "metadata": {},
   "outputs": [
    {
     "name": "stdout",
     "output_type": "stream",
     "text": [
      "<class 'pandas.core.frame.DataFrame'>\n",
      "RangeIndex: 12739798 entries, 0 to 12739797\n",
      "Data columns (total 7 columns):\n",
      " #   Column            Non-Null Count     Dtype \n",
      "---  ------            --------------     ----- \n",
      " 0   bulk_campaign_id  12739798 non-null  int64 \n",
      " 1   client_id         12739798 non-null  int64 \n",
      " 2   message_id        12739798 non-null  object\n",
      " 3   event             12739798 non-null  object\n",
      " 4   channel           12739798 non-null  object\n",
      " 5   date              12739798 non-null  object\n",
      " 6   created_at        12739798 non-null  object\n",
      "dtypes: int64(2), object(5)\n",
      "memory usage: 680.4+ MB\n"
     ]
    }
   ],
   "source": [
    "apparel_messages.info(show_counts=True)"
   ]
  },
  {
   "cell_type": "code",
   "execution_count": 62,
   "id": "917d14b9-ecf6-4fb3-a9ec-0ae98451fcd9",
   "metadata": {},
   "outputs": [
    {
     "data": {
      "text/html": [
       "<div>\n",
       "<style scoped>\n",
       "    .dataframe tbody tr th:only-of-type {\n",
       "        vertical-align: middle;\n",
       "    }\n",
       "\n",
       "    .dataframe tbody tr th {\n",
       "        vertical-align: top;\n",
       "    }\n",
       "\n",
       "    .dataframe thead th {\n",
       "        text-align: right;\n",
       "    }\n",
       "</style>\n",
       "<table border=\"1\" class=\"dataframe\">\n",
       "  <thead>\n",
       "    <tr style=\"text-align: right;\">\n",
       "      <th></th>\n",
       "      <th>bulk_campaign_id</th>\n",
       "      <th>client_id</th>\n",
       "      <th>message_id</th>\n",
       "      <th>event</th>\n",
       "      <th>channel</th>\n",
       "      <th>date</th>\n",
       "      <th>created_at</th>\n",
       "    </tr>\n",
       "  </thead>\n",
       "  <tbody>\n",
       "    <tr>\n",
       "      <th>0</th>\n",
       "      <td>4439</td>\n",
       "      <td>1515915625626736623</td>\n",
       "      <td>1515915625626736623-4439-6283415ac07ea</td>\n",
       "      <td>open</td>\n",
       "      <td>email</td>\n",
       "      <td>2022-05-19</td>\n",
       "      <td>2022-05-19 00:14:20</td>\n",
       "    </tr>\n",
       "    <tr>\n",
       "      <th>1</th>\n",
       "      <td>4439</td>\n",
       "      <td>1515915625490086521</td>\n",
       "      <td>1515915625490086521-4439-62834150016dd</td>\n",
       "      <td>open</td>\n",
       "      <td>email</td>\n",
       "      <td>2022-05-19</td>\n",
       "      <td>2022-05-19 00:39:34</td>\n",
       "    </tr>\n",
       "    <tr>\n",
       "      <th>2</th>\n",
       "      <td>4439</td>\n",
       "      <td>1515915625553578558</td>\n",
       "      <td>1515915625553578558-4439-6283415b36b4f</td>\n",
       "      <td>open</td>\n",
       "      <td>email</td>\n",
       "      <td>2022-05-19</td>\n",
       "      <td>2022-05-19 00:51:49</td>\n",
       "    </tr>\n",
       "  </tbody>\n",
       "</table>\n",
       "</div>"
      ],
      "text/plain": [
       "   bulk_campaign_id            client_id  \\\n",
       "0              4439  1515915625626736623   \n",
       "1              4439  1515915625490086521   \n",
       "2              4439  1515915625553578558   \n",
       "\n",
       "                               message_id event channel        date  \\\n",
       "0  1515915625626736623-4439-6283415ac07ea  open   email  2022-05-19   \n",
       "1  1515915625490086521-4439-62834150016dd  open   email  2022-05-19   \n",
       "2  1515915625553578558-4439-6283415b36b4f  open   email  2022-05-19   \n",
       "\n",
       "            created_at  \n",
       "0  2022-05-19 00:14:20  \n",
       "1  2022-05-19 00:39:34  \n",
       "2  2022-05-19 00:51:49  "
      ]
     },
     "execution_count": 62,
     "metadata": {},
     "output_type": "execute_result"
    }
   ],
   "source": [
    "apparel_messages.head(3)"
   ]
  },
  {
   "cell_type": "code",
   "execution_count": 63,
   "id": "9ede38f1-3795-44a0-8c20-691d4e65143e",
   "metadata": {},
   "outputs": [
    {
     "data": {
      "text/plain": [
       "2709"
      ]
     },
     "execution_count": 63,
     "metadata": {},
     "output_type": "execute_result"
    }
   ],
   "source": [
    "apparel_messages.bulk_campaign_id.nunique()"
   ]
  },
  {
   "cell_type": "code",
   "execution_count": 64,
   "id": "64303298-de94-441d-936f-0bd91c441ae3",
   "metadata": {},
   "outputs": [
    {
     "data": {
      "text/plain": [
       "array(['email', 'mobile_push'], dtype=object)"
      ]
     },
     "execution_count": 64,
     "metadata": {},
     "output_type": "execute_result"
    }
   ],
   "source": [
    "apparel_messages.channel.unique()"
   ]
  },
  {
   "cell_type": "code",
   "execution_count": 65,
   "id": "73518660-6392-491f-8559-22e23d49a038",
   "metadata": {},
   "outputs": [
    {
     "data": {
      "text/plain": [
       "channel\n",
       "mobile_push    7512156\n",
       "email          5227642\n",
       "Name: count, dtype: int64"
      ]
     },
     "execution_count": 65,
     "metadata": {},
     "output_type": "execute_result"
    }
   ],
   "source": [
    "apparel_messages.channel.value_counts()"
   ]
  },
  {
   "cell_type": "code",
   "execution_count": 66,
   "id": "051bfeb2-c059-4cc7-8572-05232c31ec11",
   "metadata": {},
   "outputs": [
    {
     "data": {
      "text/plain": [
       "event\n",
       "send           9058196\n",
       "open           3085820\n",
       "click           496339\n",
       "purchase         64679\n",
       "hard_bounce      19903\n",
       "soft_bounce      10583\n",
       "unsubscribe       2841\n",
       "hbq_spam           823\n",
       "complain           528\n",
       "subscribe           85\n",
       "close                1\n",
       "Name: count, dtype: int64"
      ]
     },
     "execution_count": 66,
     "metadata": {},
     "output_type": "execute_result"
    }
   ],
   "source": [
    "apparel_messages.event.value_counts()"
   ]
  },
  {
   "cell_type": "code",
   "execution_count": null,
   "id": "9c784f2a-6623-483f-9ea4-871ac7450e5e",
   "metadata": {},
   "outputs": [],
   "source": []
  },
  {
   "cell_type": "code",
   "execution_count": 67,
   "id": "70adccc2-e3a2-4233-946d-751d2e2d1b50",
   "metadata": {},
   "outputs": [
    {
     "data": {
      "text/plain": [
       "2709"
      ]
     },
     "execution_count": 67,
     "metadata": {},
     "output_type": "execute_result"
    }
   ],
   "source": [
    "apparel_messages.bulk_campaign_id.nunique()"
   ]
  },
  {
   "cell_type": "code",
   "execution_count": 68,
   "id": "817700ff-2e08-4138-86fc-54284ed5bbab",
   "metadata": {},
   "outputs": [
    {
     "data": {
      "text/plain": [
       "12739798"
      ]
     },
     "execution_count": 68,
     "metadata": {},
     "output_type": "execute_result"
    }
   ],
   "source": [
    "apparel_messages.shape[0]"
   ]
  },
  {
   "cell_type": "code",
   "execution_count": 69,
   "id": "a4e4c4e7-dedf-46c0-b7c9-7dad95014ae5",
   "metadata": {},
   "outputs": [
    {
     "data": {
      "text/plain": [
       "53329"
      ]
     },
     "execution_count": 69,
     "metadata": {},
     "output_type": "execute_result"
    }
   ],
   "source": [
    "apparel_messages.client_id.nunique()"
   ]
  },
  {
   "cell_type": "code",
   "execution_count": null,
   "id": "7cf7ffe2-018d-40d7-9853-ad2106c57749",
   "metadata": {},
   "outputs": [],
   "source": []
  },
  {
   "cell_type": "code",
   "execution_count": null,
   "id": "f3a0d651-8401-4ebe-99dd-f4dc1932d4c5",
   "metadata": {},
   "outputs": [],
   "source": []
  },
  {
   "cell_type": "markdown",
   "id": "3290e56a-1821-4154-832a-291e88d89d5d",
   "metadata": {},
   "source": [
    "### 3. Совершит ли клиент покупку в течение следующих 90 дней"
   ]
  },
  {
   "cell_type": "markdown",
   "id": "9174a359-2bbd-4c2a-b29e-6771b3a8aef2",
   "metadata": {},
   "source": [
    " ### целевая переменная: будет ли покупка в течение 90 дней в будущем (после отправки)."
   ]
  },
  {
   "cell_type": "code",
   "execution_count": 70,
   "id": "1c3a4272-bac5-4039-b646-15158cedd93f",
   "metadata": {},
   "outputs": [
    {
     "data": {
      "text/html": [
       "<div>\n",
       "<style scoped>\n",
       "    .dataframe tbody tr th:only-of-type {\n",
       "        vertical-align: middle;\n",
       "    }\n",
       "\n",
       "    .dataframe tbody tr th {\n",
       "        vertical-align: top;\n",
       "    }\n",
       "\n",
       "    .dataframe thead th {\n",
       "        text-align: right;\n",
       "    }\n",
       "</style>\n",
       "<table border=\"1\" class=\"dataframe\">\n",
       "  <thead>\n",
       "    <tr style=\"text-align: right;\">\n",
       "      <th></th>\n",
       "      <th>client_id</th>\n",
       "      <th>target</th>\n",
       "    </tr>\n",
       "  </thead>\n",
       "  <tbody>\n",
       "    <tr>\n",
       "      <th>0</th>\n",
       "      <td>1515915625468060902</td>\n",
       "      <td>0</td>\n",
       "    </tr>\n",
       "    <tr>\n",
       "      <th>1</th>\n",
       "      <td>1515915625468061003</td>\n",
       "      <td>1</td>\n",
       "    </tr>\n",
       "    <tr>\n",
       "      <th>2</th>\n",
       "      <td>1515915625468061099</td>\n",
       "      <td>0</td>\n",
       "    </tr>\n",
       "    <tr>\n",
       "      <th>3</th>\n",
       "      <td>1515915625468061100</td>\n",
       "      <td>0</td>\n",
       "    </tr>\n",
       "    <tr>\n",
       "      <th>4</th>\n",
       "      <td>1515915625468061170</td>\n",
       "      <td>0</td>\n",
       "    </tr>\n",
       "  </tbody>\n",
       "</table>\n",
       "</div>"
      ],
      "text/plain": [
       "             client_id  target\n",
       "0  1515915625468060902       0\n",
       "1  1515915625468061003       1\n",
       "2  1515915625468061099       0\n",
       "3  1515915625468061100       0\n",
       "4  1515915625468061170       0"
      ]
     },
     "execution_count": 70,
     "metadata": {},
     "output_type": "execute_result"
    }
   ],
   "source": [
    "apparel_target_binary.head()"
   ]
  },
  {
   "cell_type": "code",
   "execution_count": 71,
   "id": "7d0b1f59-e4e7-4828-b6bf-593eef4a3a65",
   "metadata": {},
   "outputs": [
    {
     "data": {
      "text/plain": [
       "49849"
      ]
     },
     "execution_count": 71,
     "metadata": {},
     "output_type": "execute_result"
    }
   ],
   "source": [
    "apparel_target_binary.client_id.nunique()"
   ]
  },
  {
   "cell_type": "code",
   "execution_count": null,
   "id": "20309e43-d330-44d4-aeed-3c574fdfb86a",
   "metadata": {},
   "outputs": [],
   "source": []
  },
  {
   "cell_type": "code",
   "execution_count": null,
   "id": "2e254601-12bf-4083-a399-f89a02ac8537",
   "metadata": {},
   "outputs": [],
   "source": []
  },
  {
   "cell_type": "code",
   "execution_count": 72,
   "id": "519a4ae5-9ba0-43aa-8db6-a4ca931e3125",
   "metadata": {},
   "outputs": [
    {
     "data": {
      "text/plain": [
       "49849"
      ]
     },
     "execution_count": 72,
     "metadata": {},
     "output_type": "execute_result"
    }
   ],
   "source": [
    "apparel_target_binary.shape[0]"
   ]
  },
  {
   "cell_type": "code",
   "execution_count": 73,
   "id": "c80a4041-6566-42a6-9e38-38020b90ad02",
   "metadata": {},
   "outputs": [
    {
     "data": {
      "text/plain": [
       "target\n",
       "0    48888\n",
       "1      961\n",
       "Name: count, dtype: int64"
      ]
     },
     "execution_count": 73,
     "metadata": {},
     "output_type": "execute_result"
    }
   ],
   "source": [
    "apparel_target_binary.target.value_counts()"
   ]
  },
  {
   "cell_type": "code",
   "execution_count": null,
   "id": "c0e52bcd-eedc-4718-bba1-4b04ca7759c9",
   "metadata": {},
   "outputs": [],
   "source": []
  },
  {
   "cell_type": "code",
   "execution_count": null,
   "id": "90275beb-8b30-41d0-8edf-e9c446d1f956",
   "metadata": {},
   "outputs": [],
   "source": []
  },
  {
   "cell_type": "markdown",
   "id": "b9449d42-6e84-4b21-8ffd-e596bb63eaa2",
   "metadata": {},
   "source": [
    "### 4. Агрегация общей базы рассылок по дням и типам событий"
   ]
  },
  {
   "cell_type": "code",
   "execution_count": 74,
   "id": "9c8cb7e6-468d-4344-aaf4-9b8a9e949629",
   "metadata": {},
   "outputs": [
    {
     "data": {
      "text/html": [
       "<div>\n",
       "<style scoped>\n",
       "    .dataframe tbody tr th:only-of-type {\n",
       "        vertical-align: middle;\n",
       "    }\n",
       "\n",
       "    .dataframe tbody tr th {\n",
       "        vertical-align: top;\n",
       "    }\n",
       "\n",
       "    .dataframe thead th {\n",
       "        text-align: right;\n",
       "    }\n",
       "</style>\n",
       "<table border=\"1\" class=\"dataframe\">\n",
       "  <thead>\n",
       "    <tr style=\"text-align: right;\">\n",
       "      <th></th>\n",
       "      <th>date</th>\n",
       "      <th>bulk_campaign_id</th>\n",
       "      <th>count_click_email</th>\n",
       "      <th>count_click_mobile_push</th>\n",
       "      <th>count_open_email</th>\n",
       "      <th>count_open_mobile_push</th>\n",
       "      <th>count_purchase_email</th>\n",
       "      <th>count_purchase_mobile_push</th>\n",
       "      <th>count_soft_bounce_email</th>\n",
       "      <th>count_subscribe_email</th>\n",
       "      <th>...</th>\n",
       "      <th>count_send_email</th>\n",
       "      <th>nunique_hard_bounce_email</th>\n",
       "      <th>nunique_hbq_spam_email</th>\n",
       "      <th>nunique_send_email</th>\n",
       "      <th>count_soft_bounce_mobile_push</th>\n",
       "      <th>nunique_soft_bounce_mobile_push</th>\n",
       "      <th>count_complain_email</th>\n",
       "      <th>nunique_complain_email</th>\n",
       "      <th>count_close_mobile_push</th>\n",
       "      <th>nunique_close_mobile_push</th>\n",
       "    </tr>\n",
       "  </thead>\n",
       "  <tbody>\n",
       "    <tr>\n",
       "      <th>0</th>\n",
       "      <td>2022-05-19</td>\n",
       "      <td>563</td>\n",
       "      <td>0</td>\n",
       "      <td>0</td>\n",
       "      <td>4</td>\n",
       "      <td>0</td>\n",
       "      <td>0</td>\n",
       "      <td>0</td>\n",
       "      <td>0</td>\n",
       "      <td>0</td>\n",
       "      <td>...</td>\n",
       "      <td>0</td>\n",
       "      <td>0</td>\n",
       "      <td>0</td>\n",
       "      <td>0</td>\n",
       "      <td>0</td>\n",
       "      <td>0</td>\n",
       "      <td>0</td>\n",
       "      <td>0</td>\n",
       "      <td>0</td>\n",
       "      <td>0</td>\n",
       "    </tr>\n",
       "    <tr>\n",
       "      <th>1</th>\n",
       "      <td>2022-05-19</td>\n",
       "      <td>577</td>\n",
       "      <td>0</td>\n",
       "      <td>0</td>\n",
       "      <td>1</td>\n",
       "      <td>0</td>\n",
       "      <td>0</td>\n",
       "      <td>0</td>\n",
       "      <td>0</td>\n",
       "      <td>0</td>\n",
       "      <td>...</td>\n",
       "      <td>0</td>\n",
       "      <td>0</td>\n",
       "      <td>0</td>\n",
       "      <td>0</td>\n",
       "      <td>0</td>\n",
       "      <td>0</td>\n",
       "      <td>0</td>\n",
       "      <td>0</td>\n",
       "      <td>0</td>\n",
       "      <td>0</td>\n",
       "    </tr>\n",
       "    <tr>\n",
       "      <th>2</th>\n",
       "      <td>2022-05-19</td>\n",
       "      <td>622</td>\n",
       "      <td>0</td>\n",
       "      <td>0</td>\n",
       "      <td>2</td>\n",
       "      <td>0</td>\n",
       "      <td>0</td>\n",
       "      <td>0</td>\n",
       "      <td>0</td>\n",
       "      <td>0</td>\n",
       "      <td>...</td>\n",
       "      <td>0</td>\n",
       "      <td>0</td>\n",
       "      <td>0</td>\n",
       "      <td>0</td>\n",
       "      <td>0</td>\n",
       "      <td>0</td>\n",
       "      <td>0</td>\n",
       "      <td>0</td>\n",
       "      <td>0</td>\n",
       "      <td>0</td>\n",
       "    </tr>\n",
       "    <tr>\n",
       "      <th>3</th>\n",
       "      <td>2022-05-19</td>\n",
       "      <td>634</td>\n",
       "      <td>0</td>\n",
       "      <td>0</td>\n",
       "      <td>1</td>\n",
       "      <td>0</td>\n",
       "      <td>0</td>\n",
       "      <td>0</td>\n",
       "      <td>0</td>\n",
       "      <td>0</td>\n",
       "      <td>...</td>\n",
       "      <td>0</td>\n",
       "      <td>0</td>\n",
       "      <td>0</td>\n",
       "      <td>0</td>\n",
       "      <td>0</td>\n",
       "      <td>0</td>\n",
       "      <td>0</td>\n",
       "      <td>0</td>\n",
       "      <td>0</td>\n",
       "      <td>0</td>\n",
       "    </tr>\n",
       "    <tr>\n",
       "      <th>4</th>\n",
       "      <td>2022-05-19</td>\n",
       "      <td>676</td>\n",
       "      <td>0</td>\n",
       "      <td>0</td>\n",
       "      <td>1</td>\n",
       "      <td>0</td>\n",
       "      <td>0</td>\n",
       "      <td>0</td>\n",
       "      <td>0</td>\n",
       "      <td>0</td>\n",
       "      <td>...</td>\n",
       "      <td>0</td>\n",
       "      <td>0</td>\n",
       "      <td>0</td>\n",
       "      <td>0</td>\n",
       "      <td>0</td>\n",
       "      <td>0</td>\n",
       "      <td>0</td>\n",
       "      <td>0</td>\n",
       "      <td>0</td>\n",
       "      <td>0</td>\n",
       "    </tr>\n",
       "  </tbody>\n",
       "</table>\n",
       "<p>5 rows × 36 columns</p>\n",
       "</div>"
      ],
      "text/plain": [
       "         date  bulk_campaign_id  count_click_email  count_click_mobile_push  \\\n",
       "0  2022-05-19               563                  0                        0   \n",
       "1  2022-05-19               577                  0                        0   \n",
       "2  2022-05-19               622                  0                        0   \n",
       "3  2022-05-19               634                  0                        0   \n",
       "4  2022-05-19               676                  0                        0   \n",
       "\n",
       "   count_open_email  count_open_mobile_push  count_purchase_email  \\\n",
       "0                 4                       0                     0   \n",
       "1                 1                       0                     0   \n",
       "2                 2                       0                     0   \n",
       "3                 1                       0                     0   \n",
       "4                 1                       0                     0   \n",
       "\n",
       "   count_purchase_mobile_push  count_soft_bounce_email  count_subscribe_email  \\\n",
       "0                           0                        0                      0   \n",
       "1                           0                        0                      0   \n",
       "2                           0                        0                      0   \n",
       "3                           0                        0                      0   \n",
       "4                           0                        0                      0   \n",
       "\n",
       "   ...  count_send_email  nunique_hard_bounce_email  nunique_hbq_spam_email  \\\n",
       "0  ...                 0                          0                       0   \n",
       "1  ...                 0                          0                       0   \n",
       "2  ...                 0                          0                       0   \n",
       "3  ...                 0                          0                       0   \n",
       "4  ...                 0                          0                       0   \n",
       "\n",
       "   nunique_send_email  count_soft_bounce_mobile_push  \\\n",
       "0                   0                              0   \n",
       "1                   0                              0   \n",
       "2                   0                              0   \n",
       "3                   0                              0   \n",
       "4                   0                              0   \n",
       "\n",
       "   nunique_soft_bounce_mobile_push  count_complain_email  \\\n",
       "0                                0                     0   \n",
       "1                                0                     0   \n",
       "2                                0                     0   \n",
       "3                                0                     0   \n",
       "4                                0                     0   \n",
       "\n",
       "   nunique_complain_email  count_close_mobile_push  nunique_close_mobile_push  \n",
       "0                       0                        0                          0  \n",
       "1                       0                        0                          0  \n",
       "2                       0                        0                          0  \n",
       "3                       0                        0                          0  \n",
       "4                       0                        0                          0  \n",
       "\n",
       "[5 rows x 36 columns]"
      ]
     },
     "execution_count": 74,
     "metadata": {},
     "output_type": "execute_result"
    }
   ],
   "source": [
    "full_campaign_daily_event_channel.head()"
   ]
  },
  {
   "cell_type": "code",
   "execution_count": 75,
   "id": "dcd58d65-795e-4896-87e7-7ef3b22f2c4c",
   "metadata": {},
   "outputs": [
    {
     "data": {
      "text/plain": [
       "Index(['date', 'bulk_campaign_id', 'count_click_email',\n",
       "       'count_click_mobile_push', 'count_open_email', 'count_open_mobile_push',\n",
       "       'count_purchase_email', 'count_purchase_mobile_push',\n",
       "       'count_soft_bounce_email', 'count_subscribe_email',\n",
       "       'count_unsubscribe_email', 'nunique_click_email',\n",
       "       'nunique_click_mobile_push', 'nunique_open_email',\n",
       "       'nunique_open_mobile_push', 'nunique_purchase_email',\n",
       "       'nunique_purchase_mobile_push', 'nunique_soft_bounce_email',\n",
       "       'nunique_subscribe_email', 'nunique_unsubscribe_email',\n",
       "       'count_hard_bounce_mobile_push', 'count_send_mobile_push',\n",
       "       'nunique_hard_bounce_mobile_push', 'nunique_send_mobile_push',\n",
       "       'count_hard_bounce_email', 'count_hbq_spam_email', 'count_send_email',\n",
       "       'nunique_hard_bounce_email', 'nunique_hbq_spam_email',\n",
       "       'nunique_send_email', 'count_soft_bounce_mobile_push',\n",
       "       'nunique_soft_bounce_mobile_push', 'count_complain_email',\n",
       "       'nunique_complain_email', 'count_close_mobile_push',\n",
       "       'nunique_close_mobile_push'],\n",
       "      dtype='object')"
      ]
     },
     "execution_count": 75,
     "metadata": {},
     "output_type": "execute_result"
    }
   ],
   "source": [
    "full_campaign_daily_event_channel.columns"
   ]
  },
  {
   "cell_type": "code",
   "execution_count": 76,
   "id": "a7053072-0fc4-4bf8-83aa-8082323175a6",
   "metadata": {},
   "outputs": [
    {
     "data": {
      "text/plain": [
       "131072"
      ]
     },
     "execution_count": 76,
     "metadata": {},
     "output_type": "execute_result"
    }
   ],
   "source": [
    "full_campaign_daily_event_channel.shape[0]"
   ]
  },
  {
   "cell_type": "code",
   "execution_count": 77,
   "id": "1c9f510e-84ff-431b-af40-61209e60fcc2",
   "metadata": {},
   "outputs": [
    {
     "name": "stdout",
     "output_type": "stream",
     "text": [
      "<class 'pandas.core.frame.DataFrame'>\n",
      "RangeIndex: 131072 entries, 0 to 131071\n",
      "Data columns (total 36 columns):\n",
      " #   Column                           Non-Null Count   Dtype \n",
      "---  ------                           --------------   ----- \n",
      " 0   date                             131072 non-null  object\n",
      " 1   bulk_campaign_id                 131072 non-null  int64 \n",
      " 2   count_click_email                131072 non-null  int64 \n",
      " 3   count_click_mobile_push          131072 non-null  int64 \n",
      " 4   count_open_email                 131072 non-null  int64 \n",
      " 5   count_open_mobile_push           131072 non-null  int64 \n",
      " 6   count_purchase_email             131072 non-null  int64 \n",
      " 7   count_purchase_mobile_push       131072 non-null  int64 \n",
      " 8   count_soft_bounce_email          131072 non-null  int64 \n",
      " 9   count_subscribe_email            131072 non-null  int64 \n",
      " 10  count_unsubscribe_email          131072 non-null  int64 \n",
      " 11  nunique_click_email              131072 non-null  int64 \n",
      " 12  nunique_click_mobile_push        131072 non-null  int64 \n",
      " 13  nunique_open_email               131072 non-null  int64 \n",
      " 14  nunique_open_mobile_push         131072 non-null  int64 \n",
      " 15  nunique_purchase_email           131072 non-null  int64 \n",
      " 16  nunique_purchase_mobile_push     131072 non-null  int64 \n",
      " 17  nunique_soft_bounce_email        131072 non-null  int64 \n",
      " 18  nunique_subscribe_email          131072 non-null  int64 \n",
      " 19  nunique_unsubscribe_email        131072 non-null  int64 \n",
      " 20  count_hard_bounce_mobile_push    131072 non-null  int64 \n",
      " 21  count_send_mobile_push           131072 non-null  int64 \n",
      " 22  nunique_hard_bounce_mobile_push  131072 non-null  int64 \n",
      " 23  nunique_send_mobile_push         131072 non-null  int64 \n",
      " 24  count_hard_bounce_email          131072 non-null  int64 \n",
      " 25  count_hbq_spam_email             131072 non-null  int64 \n",
      " 26  count_send_email                 131072 non-null  int64 \n",
      " 27  nunique_hard_bounce_email        131072 non-null  int64 \n",
      " 28  nunique_hbq_spam_email           131072 non-null  int64 \n",
      " 29  nunique_send_email               131072 non-null  int64 \n",
      " 30  count_soft_bounce_mobile_push    131072 non-null  int64 \n",
      " 31  nunique_soft_bounce_mobile_push  131072 non-null  int64 \n",
      " 32  count_complain_email             131072 non-null  int64 \n",
      " 33  nunique_complain_email           131072 non-null  int64 \n",
      " 34  count_close_mobile_push          131072 non-null  int64 \n",
      " 35  nunique_close_mobile_push        131072 non-null  int64 \n",
      "dtypes: int64(35), object(1)\n",
      "memory usage: 36.0+ MB\n"
     ]
    }
   ],
   "source": [
    "full_campaign_daily_event_channel.info()"
   ]
  },
  {
   "cell_type": "markdown",
   "id": "004e17d2-3b1a-4458-ab82-78bcfd2c3244",
   "metadata": {},
   "source": [
    "### 5. Агрегация по дням с учетом событий и каналов рассылки"
   ]
  },
  {
   "cell_type": "code",
   "execution_count": 78,
   "id": "fe96ce00-8f51-4370-a0e6-edbad1d505dc",
   "metadata": {},
   "outputs": [
    {
     "data": {
      "text/html": [
       "<div>\n",
       "<style scoped>\n",
       "    .dataframe tbody tr th:only-of-type {\n",
       "        vertical-align: middle;\n",
       "    }\n",
       "\n",
       "    .dataframe tbody tr th {\n",
       "        vertical-align: top;\n",
       "    }\n",
       "\n",
       "    .dataframe thead th {\n",
       "        text-align: right;\n",
       "    }\n",
       "</style>\n",
       "<table border=\"1\" class=\"dataframe\">\n",
       "  <thead>\n",
       "    <tr style=\"text-align: right;\">\n",
       "      <th></th>\n",
       "      <th>date</th>\n",
       "      <th>bulk_campaign_id</th>\n",
       "      <th>count_click</th>\n",
       "      <th>count_complain</th>\n",
       "      <th>count_hard_bounce</th>\n",
       "      <th>count_open</th>\n",
       "      <th>count_purchase</th>\n",
       "      <th>count_send</th>\n",
       "      <th>count_soft_bounce</th>\n",
       "      <th>count_subscribe</th>\n",
       "      <th>...</th>\n",
       "      <th>nunique_open</th>\n",
       "      <th>nunique_purchase</th>\n",
       "      <th>nunique_send</th>\n",
       "      <th>nunique_soft_bounce</th>\n",
       "      <th>nunique_subscribe</th>\n",
       "      <th>nunique_unsubscribe</th>\n",
       "      <th>count_hbq_spam</th>\n",
       "      <th>nunique_hbq_spam</th>\n",
       "      <th>count_close</th>\n",
       "      <th>nunique_close</th>\n",
       "    </tr>\n",
       "  </thead>\n",
       "  <tbody>\n",
       "    <tr>\n",
       "      <th>0</th>\n",
       "      <td>2022-05-19</td>\n",
       "      <td>563</td>\n",
       "      <td>0</td>\n",
       "      <td>0</td>\n",
       "      <td>0</td>\n",
       "      <td>4</td>\n",
       "      <td>0</td>\n",
       "      <td>0</td>\n",
       "      <td>0</td>\n",
       "      <td>0</td>\n",
       "      <td>...</td>\n",
       "      <td>4</td>\n",
       "      <td>0</td>\n",
       "      <td>0</td>\n",
       "      <td>0</td>\n",
       "      <td>0</td>\n",
       "      <td>0</td>\n",
       "      <td>0</td>\n",
       "      <td>0</td>\n",
       "      <td>0</td>\n",
       "      <td>0</td>\n",
       "    </tr>\n",
       "    <tr>\n",
       "      <th>1</th>\n",
       "      <td>2022-05-19</td>\n",
       "      <td>577</td>\n",
       "      <td>0</td>\n",
       "      <td>0</td>\n",
       "      <td>0</td>\n",
       "      <td>1</td>\n",
       "      <td>0</td>\n",
       "      <td>0</td>\n",
       "      <td>0</td>\n",
       "      <td>0</td>\n",
       "      <td>...</td>\n",
       "      <td>1</td>\n",
       "      <td>0</td>\n",
       "      <td>0</td>\n",
       "      <td>0</td>\n",
       "      <td>0</td>\n",
       "      <td>0</td>\n",
       "      <td>0</td>\n",
       "      <td>0</td>\n",
       "      <td>0</td>\n",
       "      <td>0</td>\n",
       "    </tr>\n",
       "    <tr>\n",
       "      <th>2</th>\n",
       "      <td>2022-05-19</td>\n",
       "      <td>622</td>\n",
       "      <td>0</td>\n",
       "      <td>0</td>\n",
       "      <td>0</td>\n",
       "      <td>2</td>\n",
       "      <td>0</td>\n",
       "      <td>0</td>\n",
       "      <td>0</td>\n",
       "      <td>0</td>\n",
       "      <td>...</td>\n",
       "      <td>2</td>\n",
       "      <td>0</td>\n",
       "      <td>0</td>\n",
       "      <td>0</td>\n",
       "      <td>0</td>\n",
       "      <td>0</td>\n",
       "      <td>0</td>\n",
       "      <td>0</td>\n",
       "      <td>0</td>\n",
       "      <td>0</td>\n",
       "    </tr>\n",
       "    <tr>\n",
       "      <th>3</th>\n",
       "      <td>2022-05-19</td>\n",
       "      <td>634</td>\n",
       "      <td>0</td>\n",
       "      <td>0</td>\n",
       "      <td>0</td>\n",
       "      <td>1</td>\n",
       "      <td>0</td>\n",
       "      <td>0</td>\n",
       "      <td>0</td>\n",
       "      <td>0</td>\n",
       "      <td>...</td>\n",
       "      <td>1</td>\n",
       "      <td>0</td>\n",
       "      <td>0</td>\n",
       "      <td>0</td>\n",
       "      <td>0</td>\n",
       "      <td>0</td>\n",
       "      <td>0</td>\n",
       "      <td>0</td>\n",
       "      <td>0</td>\n",
       "      <td>0</td>\n",
       "    </tr>\n",
       "    <tr>\n",
       "      <th>4</th>\n",
       "      <td>2022-05-19</td>\n",
       "      <td>676</td>\n",
       "      <td>0</td>\n",
       "      <td>0</td>\n",
       "      <td>0</td>\n",
       "      <td>1</td>\n",
       "      <td>0</td>\n",
       "      <td>0</td>\n",
       "      <td>0</td>\n",
       "      <td>0</td>\n",
       "      <td>...</td>\n",
       "      <td>1</td>\n",
       "      <td>0</td>\n",
       "      <td>0</td>\n",
       "      <td>0</td>\n",
       "      <td>0</td>\n",
       "      <td>0</td>\n",
       "      <td>0</td>\n",
       "      <td>0</td>\n",
       "      <td>0</td>\n",
       "      <td>0</td>\n",
       "    </tr>\n",
       "  </tbody>\n",
       "</table>\n",
       "<p>5 rows × 24 columns</p>\n",
       "</div>"
      ],
      "text/plain": [
       "         date  bulk_campaign_id  count_click  count_complain  \\\n",
       "0  2022-05-19               563            0               0   \n",
       "1  2022-05-19               577            0               0   \n",
       "2  2022-05-19               622            0               0   \n",
       "3  2022-05-19               634            0               0   \n",
       "4  2022-05-19               676            0               0   \n",
       "\n",
       "   count_hard_bounce  count_open  count_purchase  count_send  \\\n",
       "0                  0           4               0           0   \n",
       "1                  0           1               0           0   \n",
       "2                  0           2               0           0   \n",
       "3                  0           1               0           0   \n",
       "4                  0           1               0           0   \n",
       "\n",
       "   count_soft_bounce  count_subscribe  ...  nunique_open  nunique_purchase  \\\n",
       "0                  0                0  ...             4                 0   \n",
       "1                  0                0  ...             1                 0   \n",
       "2                  0                0  ...             2                 0   \n",
       "3                  0                0  ...             1                 0   \n",
       "4                  0                0  ...             1                 0   \n",
       "\n",
       "   nunique_send  nunique_soft_bounce  nunique_subscribe  nunique_unsubscribe  \\\n",
       "0             0                    0                  0                    0   \n",
       "1             0                    0                  0                    0   \n",
       "2             0                    0                  0                    0   \n",
       "3             0                    0                  0                    0   \n",
       "4             0                    0                  0                    0   \n",
       "\n",
       "   count_hbq_spam  nunique_hbq_spam  count_close  nunique_close  \n",
       "0               0                 0            0              0  \n",
       "1               0                 0            0              0  \n",
       "2               0                 0            0              0  \n",
       "3               0                 0            0              0  \n",
       "4               0                 0            0              0  \n",
       "\n",
       "[5 rows x 24 columns]"
      ]
     },
     "execution_count": 78,
     "metadata": {},
     "output_type": "execute_result"
    }
   ],
   "source": [
    "full_campaign_daily_event.head()"
   ]
  },
  {
   "cell_type": "code",
   "execution_count": 79,
   "id": "3b280815-590f-4049-a16a-d2bf85d77bbd",
   "metadata": {},
   "outputs": [
    {
     "data": {
      "text/plain": [
       "Index(['date', 'bulk_campaign_id', 'count_click', 'count_complain',\n",
       "       'count_hard_bounce', 'count_open', 'count_purchase', 'count_send',\n",
       "       'count_soft_bounce', 'count_subscribe', 'count_unsubscribe',\n",
       "       'nunique_click', 'nunique_complain', 'nunique_hard_bounce',\n",
       "       'nunique_open', 'nunique_purchase', 'nunique_send',\n",
       "       'nunique_soft_bounce', 'nunique_subscribe', 'nunique_unsubscribe',\n",
       "       'count_hbq_spam', 'nunique_hbq_spam', 'count_close', 'nunique_close'],\n",
       "      dtype='object')"
      ]
     },
     "execution_count": 79,
     "metadata": {},
     "output_type": "execute_result"
    }
   ],
   "source": [
    "full_campaign_daily_event.columns"
   ]
  },
  {
   "cell_type": "code",
   "execution_count": 80,
   "id": "6cf6c8d9-90f8-4027-8224-6c24558c1f60",
   "metadata": {},
   "outputs": [
    {
     "data": {
      "text/plain": [
       "131072"
      ]
     },
     "execution_count": 80,
     "metadata": {},
     "output_type": "execute_result"
    }
   ],
   "source": [
    "full_campaign_daily_event.shape[0]"
   ]
  },
  {
   "cell_type": "code",
   "execution_count": 81,
   "id": "4d47326f-f65f-4bd9-989e-a8e6cb0bbee3",
   "metadata": {},
   "outputs": [
    {
     "data": {
      "text/plain": [
       "3181"
      ]
     },
     "execution_count": 81,
     "metadata": {},
     "output_type": "execute_result"
    }
   ],
   "source": [
    "full_campaign_daily_event.bulk_campaign_id.nunique()"
   ]
  },
  {
   "cell_type": "code",
   "execution_count": 82,
   "id": "61525bfb-bd76-4de2-836f-61c51e92f7ca",
   "metadata": {},
   "outputs": [
    {
     "name": "stdout",
     "output_type": "stream",
     "text": [
      "<class 'pandas.core.frame.DataFrame'>\n",
      "RangeIndex: 131072 entries, 0 to 131071\n",
      "Data columns (total 24 columns):\n",
      " #   Column               Non-Null Count   Dtype \n",
      "---  ------               --------------   ----- \n",
      " 0   date                 131072 non-null  object\n",
      " 1   bulk_campaign_id     131072 non-null  int64 \n",
      " 2   count_click          131072 non-null  int64 \n",
      " 3   count_complain       131072 non-null  int64 \n",
      " 4   count_hard_bounce    131072 non-null  int64 \n",
      " 5   count_open           131072 non-null  int64 \n",
      " 6   count_purchase       131072 non-null  int64 \n",
      " 7   count_send           131072 non-null  int64 \n",
      " 8   count_soft_bounce    131072 non-null  int64 \n",
      " 9   count_subscribe      131072 non-null  int64 \n",
      " 10  count_unsubscribe    131072 non-null  int64 \n",
      " 11  nunique_click        131072 non-null  int64 \n",
      " 12  nunique_complain     131072 non-null  int64 \n",
      " 13  nunique_hard_bounce  131072 non-null  int64 \n",
      " 14  nunique_open         131072 non-null  int64 \n",
      " 15  nunique_purchase     131072 non-null  int64 \n",
      " 16  nunique_send         131072 non-null  int64 \n",
      " 17  nunique_soft_bounce  131072 non-null  int64 \n",
      " 18  nunique_subscribe    131072 non-null  int64 \n",
      " 19  nunique_unsubscribe  131072 non-null  int64 \n",
      " 20  count_hbq_spam       131072 non-null  int64 \n",
      " 21  nunique_hbq_spam     131072 non-null  int64 \n",
      " 22  count_close          131072 non-null  int64 \n",
      " 23  nunique_close        131072 non-null  int64 \n",
      "dtypes: int64(23), object(1)\n",
      "memory usage: 24.0+ MB\n"
     ]
    }
   ],
   "source": [
    "full_campaign_daily_event.info()"
   ]
  },
  {
   "cell_type": "markdown",
   "id": "ee093932-1805-44bb-a62d-0a8aec8c60a2",
   "metadata": {},
   "source": [
    "## Создание фичей:"
   ]
  },
  {
   "cell_type": "code",
   "execution_count": 83,
   "id": "17d13a9f-0967-4de0-8baa-b126a11f4d53",
   "metadata": {},
   "outputs": [],
   "source": [
    "# Кол-во сообщений, открытий, кликов, покупок по клиенту\n",
    "message_stats = apparel_messages.groupby('client_id')['event'].value_counts().unstack(fill_value=0).reset_index()\n"
   ]
  },
  {
   "cell_type": "code",
   "execution_count": 84,
   "id": "1736497b-e3c5-4d1f-a2f1-112556b25daa",
   "metadata": {},
   "outputs": [
    {
     "data": {
      "text/html": [
       "<div>\n",
       "<style scoped>\n",
       "    .dataframe tbody tr th:only-of-type {\n",
       "        vertical-align: middle;\n",
       "    }\n",
       "\n",
       "    .dataframe tbody tr th {\n",
       "        vertical-align: top;\n",
       "    }\n",
       "\n",
       "    .dataframe thead th {\n",
       "        text-align: right;\n",
       "    }\n",
       "</style>\n",
       "<table border=\"1\" class=\"dataframe\">\n",
       "  <thead>\n",
       "    <tr style=\"text-align: right;\">\n",
       "      <th>event</th>\n",
       "      <th>client_id</th>\n",
       "      <th>click</th>\n",
       "      <th>close</th>\n",
       "      <th>complain</th>\n",
       "      <th>hard_bounce</th>\n",
       "      <th>hbq_spam</th>\n",
       "      <th>open</th>\n",
       "      <th>purchase</th>\n",
       "      <th>send</th>\n",
       "      <th>soft_bounce</th>\n",
       "      <th>subscribe</th>\n",
       "      <th>unsubscribe</th>\n",
       "    </tr>\n",
       "  </thead>\n",
       "  <tbody>\n",
       "    <tr>\n",
       "      <th>0</th>\n",
       "      <td>1515915625468060902</td>\n",
       "      <td>10</td>\n",
       "      <td>0</td>\n",
       "      <td>0</td>\n",
       "      <td>0</td>\n",
       "      <td>0</td>\n",
       "      <td>35</td>\n",
       "      <td>5</td>\n",
       "      <td>126</td>\n",
       "      <td>0</td>\n",
       "      <td>0</td>\n",
       "      <td>1</td>\n",
       "    </tr>\n",
       "    <tr>\n",
       "      <th>1</th>\n",
       "      <td>1515915625468061003</td>\n",
       "      <td>6</td>\n",
       "      <td>0</td>\n",
       "      <td>0</td>\n",
       "      <td>0</td>\n",
       "      <td>0</td>\n",
       "      <td>5</td>\n",
       "      <td>1</td>\n",
       "      <td>154</td>\n",
       "      <td>0</td>\n",
       "      <td>0</td>\n",
       "      <td>0</td>\n",
       "    </tr>\n",
       "    <tr>\n",
       "      <th>2</th>\n",
       "      <td>1515915625468061099</td>\n",
       "      <td>8</td>\n",
       "      <td>0</td>\n",
       "      <td>0</td>\n",
       "      <td>2</td>\n",
       "      <td>0</td>\n",
       "      <td>51</td>\n",
       "      <td>0</td>\n",
       "      <td>215</td>\n",
       "      <td>0</td>\n",
       "      <td>0</td>\n",
       "      <td>0</td>\n",
       "    </tr>\n",
       "    <tr>\n",
       "      <th>3</th>\n",
       "      <td>1515915625468061100</td>\n",
       "      <td>1</td>\n",
       "      <td>0</td>\n",
       "      <td>0</td>\n",
       "      <td>1</td>\n",
       "      <td>0</td>\n",
       "      <td>163</td>\n",
       "      <td>1</td>\n",
       "      <td>267</td>\n",
       "      <td>1</td>\n",
       "      <td>0</td>\n",
       "      <td>0</td>\n",
       "    </tr>\n",
       "    <tr>\n",
       "      <th>4</th>\n",
       "      <td>1515915625468061170</td>\n",
       "      <td>16</td>\n",
       "      <td>0</td>\n",
       "      <td>0</td>\n",
       "      <td>0</td>\n",
       "      <td>0</td>\n",
       "      <td>31</td>\n",
       "      <td>3</td>\n",
       "      <td>243</td>\n",
       "      <td>0</td>\n",
       "      <td>0</td>\n",
       "      <td>0</td>\n",
       "    </tr>\n",
       "    <tr>\n",
       "      <th>...</th>\n",
       "      <td>...</td>\n",
       "      <td>...</td>\n",
       "      <td>...</td>\n",
       "      <td>...</td>\n",
       "      <td>...</td>\n",
       "      <td>...</td>\n",
       "      <td>...</td>\n",
       "      <td>...</td>\n",
       "      <td>...</td>\n",
       "      <td>...</td>\n",
       "      <td>...</td>\n",
       "      <td>...</td>\n",
       "    </tr>\n",
       "    <tr>\n",
       "      <th>53324</th>\n",
       "      <td>1515915626010183608</td>\n",
       "      <td>0</td>\n",
       "      <td>0</td>\n",
       "      <td>0</td>\n",
       "      <td>0</td>\n",
       "      <td>0</td>\n",
       "      <td>2</td>\n",
       "      <td>0</td>\n",
       "      <td>2</td>\n",
       "      <td>0</td>\n",
       "      <td>0</td>\n",
       "      <td>0</td>\n",
       "    </tr>\n",
       "    <tr>\n",
       "      <th>53325</th>\n",
       "      <td>1515915626010221592</td>\n",
       "      <td>3</td>\n",
       "      <td>0</td>\n",
       "      <td>0</td>\n",
       "      <td>0</td>\n",
       "      <td>0</td>\n",
       "      <td>2</td>\n",
       "      <td>0</td>\n",
       "      <td>2</td>\n",
       "      <td>0</td>\n",
       "      <td>0</td>\n",
       "      <td>0</td>\n",
       "    </tr>\n",
       "    <tr>\n",
       "      <th>53326</th>\n",
       "      <td>1515915626010234726</td>\n",
       "      <td>0</td>\n",
       "      <td>0</td>\n",
       "      <td>0</td>\n",
       "      <td>0</td>\n",
       "      <td>0</td>\n",
       "      <td>0</td>\n",
       "      <td>0</td>\n",
       "      <td>1</td>\n",
       "      <td>0</td>\n",
       "      <td>0</td>\n",
       "      <td>0</td>\n",
       "    </tr>\n",
       "    <tr>\n",
       "      <th>53327</th>\n",
       "      <td>1515915626010261344</td>\n",
       "      <td>1</td>\n",
       "      <td>0</td>\n",
       "      <td>0</td>\n",
       "      <td>0</td>\n",
       "      <td>0</td>\n",
       "      <td>1</td>\n",
       "      <td>0</td>\n",
       "      <td>1</td>\n",
       "      <td>0</td>\n",
       "      <td>0</td>\n",
       "      <td>0</td>\n",
       "    </tr>\n",
       "    <tr>\n",
       "      <th>53328</th>\n",
       "      <td>1515915626010288690</td>\n",
       "      <td>0</td>\n",
       "      <td>0</td>\n",
       "      <td>0</td>\n",
       "      <td>0</td>\n",
       "      <td>0</td>\n",
       "      <td>1</td>\n",
       "      <td>0</td>\n",
       "      <td>1</td>\n",
       "      <td>0</td>\n",
       "      <td>0</td>\n",
       "      <td>0</td>\n",
       "    </tr>\n",
       "  </tbody>\n",
       "</table>\n",
       "<p>53329 rows × 12 columns</p>\n",
       "</div>"
      ],
      "text/plain": [
       "event            client_id  click  close  complain  hard_bounce  hbq_spam  \\\n",
       "0      1515915625468060902     10      0         0            0         0   \n",
       "1      1515915625468061003      6      0         0            0         0   \n",
       "2      1515915625468061099      8      0         0            2         0   \n",
       "3      1515915625468061100      1      0         0            1         0   \n",
       "4      1515915625468061170     16      0         0            0         0   \n",
       "...                    ...    ...    ...       ...          ...       ...   \n",
       "53324  1515915626010183608      0      0         0            0         0   \n",
       "53325  1515915626010221592      3      0         0            0         0   \n",
       "53326  1515915626010234726      0      0         0            0         0   \n",
       "53327  1515915626010261344      1      0         0            0         0   \n",
       "53328  1515915626010288690      0      0         0            0         0   \n",
       "\n",
       "event  open  purchase  send  soft_bounce  subscribe  unsubscribe  \n",
       "0        35         5   126            0          0            1  \n",
       "1         5         1   154            0          0            0  \n",
       "2        51         0   215            0          0            0  \n",
       "3       163         1   267            1          0            0  \n",
       "4        31         3   243            0          0            0  \n",
       "...     ...       ...   ...          ...        ...          ...  \n",
       "53324     2         0     2            0          0            0  \n",
       "53325     2         0     2            0          0            0  \n",
       "53326     0         0     1            0          0            0  \n",
       "53327     1         0     1            0          0            0  \n",
       "53328     1         0     1            0          0            0  \n",
       "\n",
       "[53329 rows x 12 columns]"
      ]
     },
     "execution_count": 84,
     "metadata": {},
     "output_type": "execute_result"
    }
   ],
   "source": [
    "message_stats"
   ]
  },
  {
   "cell_type": "code",
   "execution_count": 85,
   "id": "8506764c-ece1-4500-8f32-3fa5cc6955d6",
   "metadata": {},
   "outputs": [],
   "source": [
    "channel_counts = apparel_messages.groupby('client_id')['channel'].value_counts().unstack(fill_value=0).reset_index()\n"
   ]
  },
  {
   "cell_type": "code",
   "execution_count": 86,
   "id": "e5401497-6137-4d12-8082-f5394e6a499b",
   "metadata": {},
   "outputs": [
    {
     "data": {
      "text/html": [
       "<div>\n",
       "<style scoped>\n",
       "    .dataframe tbody tr th:only-of-type {\n",
       "        vertical-align: middle;\n",
       "    }\n",
       "\n",
       "    .dataframe tbody tr th {\n",
       "        vertical-align: top;\n",
       "    }\n",
       "\n",
       "    .dataframe thead th {\n",
       "        text-align: right;\n",
       "    }\n",
       "</style>\n",
       "<table border=\"1\" class=\"dataframe\">\n",
       "  <thead>\n",
       "    <tr style=\"text-align: right;\">\n",
       "      <th>channel</th>\n",
       "      <th>client_id</th>\n",
       "      <th>email</th>\n",
       "      <th>mobile_push</th>\n",
       "    </tr>\n",
       "  </thead>\n",
       "  <tbody>\n",
       "    <tr>\n",
       "      <th>0</th>\n",
       "      <td>1515915625468060902</td>\n",
       "      <td>177</td>\n",
       "      <td>0</td>\n",
       "    </tr>\n",
       "    <tr>\n",
       "      <th>1</th>\n",
       "      <td>1515915625468061003</td>\n",
       "      <td>166</td>\n",
       "      <td>0</td>\n",
       "    </tr>\n",
       "    <tr>\n",
       "      <th>2</th>\n",
       "      <td>1515915625468061099</td>\n",
       "      <td>182</td>\n",
       "      <td>94</td>\n",
       "    </tr>\n",
       "    <tr>\n",
       "      <th>3</th>\n",
       "      <td>1515915625468061100</td>\n",
       "      <td>0</td>\n",
       "      <td>434</td>\n",
       "    </tr>\n",
       "    <tr>\n",
       "      <th>4</th>\n",
       "      <td>1515915625468061170</td>\n",
       "      <td>202</td>\n",
       "      <td>91</td>\n",
       "    </tr>\n",
       "    <tr>\n",
       "      <th>...</th>\n",
       "      <td>...</td>\n",
       "      <td>...</td>\n",
       "      <td>...</td>\n",
       "    </tr>\n",
       "    <tr>\n",
       "      <th>53324</th>\n",
       "      <td>1515915626010183608</td>\n",
       "      <td>0</td>\n",
       "      <td>4</td>\n",
       "    </tr>\n",
       "    <tr>\n",
       "      <th>53325</th>\n",
       "      <td>1515915626010221592</td>\n",
       "      <td>0</td>\n",
       "      <td>7</td>\n",
       "    </tr>\n",
       "    <tr>\n",
       "      <th>53326</th>\n",
       "      <td>1515915626010234726</td>\n",
       "      <td>0</td>\n",
       "      <td>1</td>\n",
       "    </tr>\n",
       "    <tr>\n",
       "      <th>53327</th>\n",
       "      <td>1515915626010261344</td>\n",
       "      <td>0</td>\n",
       "      <td>3</td>\n",
       "    </tr>\n",
       "    <tr>\n",
       "      <th>53328</th>\n",
       "      <td>1515915626010288690</td>\n",
       "      <td>0</td>\n",
       "      <td>2</td>\n",
       "    </tr>\n",
       "  </tbody>\n",
       "</table>\n",
       "<p>53329 rows × 3 columns</p>\n",
       "</div>"
      ],
      "text/plain": [
       "channel            client_id  email  mobile_push\n",
       "0        1515915625468060902    177            0\n",
       "1        1515915625468061003    166            0\n",
       "2        1515915625468061099    182           94\n",
       "3        1515915625468061100      0          434\n",
       "4        1515915625468061170    202           91\n",
       "...                      ...    ...          ...\n",
       "53324    1515915626010183608      0            4\n",
       "53325    1515915626010221592      0            7\n",
       "53326    1515915626010234726      0            1\n",
       "53327    1515915626010261344      0            3\n",
       "53328    1515915626010288690      0            2\n",
       "\n",
       "[53329 rows x 3 columns]"
      ]
     },
     "execution_count": 86,
     "metadata": {},
     "output_type": "execute_result"
    }
   ],
   "source": [
    "channel_counts"
   ]
  },
  {
   "cell_type": "code",
   "execution_count": 87,
   "id": "d609c2e8-12d0-4e8c-8b8e-d803de8dae7c",
   "metadata": {},
   "outputs": [],
   "source": [
    "purchase_stats = apparel_purchases.groupby('client_id').agg({\n",
    "    'price': 'sum',\n",
    "    'quantity': 'sum',\n",
    "    'message_id': 'count'\n",
    "}).rename(columns={\n",
    "    'price': 'total_spent',\n",
    "    'quantity': 'total_items',\n",
    "    'message_id': 'num_purchases'\n",
    "}).reset_index()\n"
   ]
  },
  {
   "cell_type": "code",
   "execution_count": 88,
   "id": "ab6620cd-e3f3-4b59-909a-bc07281e3fda",
   "metadata": {},
   "outputs": [
    {
     "data": {
      "text/html": [
       "<div>\n",
       "<style scoped>\n",
       "    .dataframe tbody tr th:only-of-type {\n",
       "        vertical-align: middle;\n",
       "    }\n",
       "\n",
       "    .dataframe tbody tr th {\n",
       "        vertical-align: top;\n",
       "    }\n",
       "\n",
       "    .dataframe thead th {\n",
       "        text-align: right;\n",
       "    }\n",
       "</style>\n",
       "<table border=\"1\" class=\"dataframe\">\n",
       "  <thead>\n",
       "    <tr style=\"text-align: right;\">\n",
       "      <th></th>\n",
       "      <th>client_id</th>\n",
       "      <th>total_spent</th>\n",
       "      <th>total_items</th>\n",
       "      <th>num_purchases</th>\n",
       "    </tr>\n",
       "  </thead>\n",
       "  <tbody>\n",
       "    <tr>\n",
       "      <th>0</th>\n",
       "      <td>1515915625468060902</td>\n",
       "      <td>6993.0</td>\n",
       "      <td>7</td>\n",
       "      <td>7</td>\n",
       "    </tr>\n",
       "    <tr>\n",
       "      <th>1</th>\n",
       "      <td>1515915625468061003</td>\n",
       "      <td>16235.0</td>\n",
       "      <td>7</td>\n",
       "      <td>7</td>\n",
       "    </tr>\n",
       "    <tr>\n",
       "      <th>2</th>\n",
       "      <td>1515915625468061099</td>\n",
       "      <td>299.0</td>\n",
       "      <td>1</td>\n",
       "      <td>1</td>\n",
       "    </tr>\n",
       "    <tr>\n",
       "      <th>3</th>\n",
       "      <td>1515915625468061100</td>\n",
       "      <td>2098.0</td>\n",
       "      <td>2</td>\n",
       "      <td>2</td>\n",
       "    </tr>\n",
       "    <tr>\n",
       "      <th>4</th>\n",
       "      <td>1515915625468061170</td>\n",
       "      <td>33601.0</td>\n",
       "      <td>19</td>\n",
       "      <td>19</td>\n",
       "    </tr>\n",
       "    <tr>\n",
       "      <th>...</th>\n",
       "      <td>...</td>\n",
       "      <td>...</td>\n",
       "      <td>...</td>\n",
       "      <td>...</td>\n",
       "    </tr>\n",
       "    <tr>\n",
       "      <th>49844</th>\n",
       "      <td>1515915626010261344</td>\n",
       "      <td>8994.0</td>\n",
       "      <td>6</td>\n",
       "      <td>6</td>\n",
       "    </tr>\n",
       "    <tr>\n",
       "      <th>49845</th>\n",
       "      <td>1515915626010266132</td>\n",
       "      <td>1818.0</td>\n",
       "      <td>2</td>\n",
       "      <td>2</td>\n",
       "    </tr>\n",
       "    <tr>\n",
       "      <th>49846</th>\n",
       "      <td>1515915626010439406</td>\n",
       "      <td>198.0</td>\n",
       "      <td>2</td>\n",
       "      <td>2</td>\n",
       "    </tr>\n",
       "    <tr>\n",
       "      <th>49847</th>\n",
       "      <td>1515915626010443527</td>\n",
       "      <td>1999.0</td>\n",
       "      <td>1</td>\n",
       "      <td>1</td>\n",
       "    </tr>\n",
       "    <tr>\n",
       "      <th>49848</th>\n",
       "      <td>1515915626010443624</td>\n",
       "      <td>999.0</td>\n",
       "      <td>1</td>\n",
       "      <td>1</td>\n",
       "    </tr>\n",
       "  </tbody>\n",
       "</table>\n",
       "<p>49849 rows × 4 columns</p>\n",
       "</div>"
      ],
      "text/plain": [
       "                 client_id  total_spent  total_items  num_purchases\n",
       "0      1515915625468060902       6993.0            7              7\n",
       "1      1515915625468061003      16235.0            7              7\n",
       "2      1515915625468061099        299.0            1              1\n",
       "3      1515915625468061100       2098.0            2              2\n",
       "4      1515915625468061170      33601.0           19             19\n",
       "...                    ...          ...          ...            ...\n",
       "49844  1515915626010261344       8994.0            6              6\n",
       "49845  1515915626010266132       1818.0            2              2\n",
       "49846  1515915626010439406        198.0            2              2\n",
       "49847  1515915626010443527       1999.0            1              1\n",
       "49848  1515915626010443624        999.0            1              1\n",
       "\n",
       "[49849 rows x 4 columns]"
      ]
     },
     "execution_count": 88,
     "metadata": {},
     "output_type": "execute_result"
    }
   ],
   "source": [
    "purchase_stats"
   ]
  },
  {
   "cell_type": "code",
   "execution_count": 89,
   "id": "761fde0a-fea9-4162-801f-a13ba16f84d5",
   "metadata": {},
   "outputs": [],
   "source": [
    "\n",
    "\n",
    "\n",
    "# список таблиц по client_id\n",
    "tables = [message_stats, channel_counts, purchase_stats, apparel_target_binary]\n",
    "\n",
    "# последовательное объединение\n",
    "df_merged = reduce(lambda left, right: pd.merge(left, right, on='client_id', how='left'), tables)\n"
   ]
  },
  {
   "cell_type": "code",
   "execution_count": 90,
   "id": "1b91841f-7729-47f0-a61e-0806b87a47b4",
   "metadata": {},
   "outputs": [
    {
     "data": {
      "text/html": [
       "<div>\n",
       "<style scoped>\n",
       "    .dataframe tbody tr th:only-of-type {\n",
       "        vertical-align: middle;\n",
       "    }\n",
       "\n",
       "    .dataframe tbody tr th {\n",
       "        vertical-align: top;\n",
       "    }\n",
       "\n",
       "    .dataframe thead th {\n",
       "        text-align: right;\n",
       "    }\n",
       "</style>\n",
       "<table border=\"1\" class=\"dataframe\">\n",
       "  <thead>\n",
       "    <tr style=\"text-align: right;\">\n",
       "      <th></th>\n",
       "      <th>client_id</th>\n",
       "      <th>click</th>\n",
       "      <th>close</th>\n",
       "      <th>complain</th>\n",
       "      <th>hard_bounce</th>\n",
       "      <th>hbq_spam</th>\n",
       "      <th>open</th>\n",
       "      <th>purchase</th>\n",
       "      <th>send</th>\n",
       "      <th>soft_bounce</th>\n",
       "      <th>subscribe</th>\n",
       "      <th>unsubscribe</th>\n",
       "      <th>email</th>\n",
       "      <th>mobile_push</th>\n",
       "      <th>total_spent</th>\n",
       "      <th>total_items</th>\n",
       "      <th>num_purchases</th>\n",
       "      <th>target</th>\n",
       "    </tr>\n",
       "  </thead>\n",
       "  <tbody>\n",
       "    <tr>\n",
       "      <th>0</th>\n",
       "      <td>1515915625468060902</td>\n",
       "      <td>10</td>\n",
       "      <td>0</td>\n",
       "      <td>0</td>\n",
       "      <td>0</td>\n",
       "      <td>0</td>\n",
       "      <td>35</td>\n",
       "      <td>5</td>\n",
       "      <td>126</td>\n",
       "      <td>0</td>\n",
       "      <td>0</td>\n",
       "      <td>1</td>\n",
       "      <td>177</td>\n",
       "      <td>0</td>\n",
       "      <td>6993.0</td>\n",
       "      <td>7.0</td>\n",
       "      <td>7.0</td>\n",
       "      <td>0.0</td>\n",
       "    </tr>\n",
       "    <tr>\n",
       "      <th>1</th>\n",
       "      <td>1515915625468061003</td>\n",
       "      <td>6</td>\n",
       "      <td>0</td>\n",
       "      <td>0</td>\n",
       "      <td>0</td>\n",
       "      <td>0</td>\n",
       "      <td>5</td>\n",
       "      <td>1</td>\n",
       "      <td>154</td>\n",
       "      <td>0</td>\n",
       "      <td>0</td>\n",
       "      <td>0</td>\n",
       "      <td>166</td>\n",
       "      <td>0</td>\n",
       "      <td>16235.0</td>\n",
       "      <td>7.0</td>\n",
       "      <td>7.0</td>\n",
       "      <td>1.0</td>\n",
       "    </tr>\n",
       "    <tr>\n",
       "      <th>2</th>\n",
       "      <td>1515915625468061099</td>\n",
       "      <td>8</td>\n",
       "      <td>0</td>\n",
       "      <td>0</td>\n",
       "      <td>2</td>\n",
       "      <td>0</td>\n",
       "      <td>51</td>\n",
       "      <td>0</td>\n",
       "      <td>215</td>\n",
       "      <td>0</td>\n",
       "      <td>0</td>\n",
       "      <td>0</td>\n",
       "      <td>182</td>\n",
       "      <td>94</td>\n",
       "      <td>299.0</td>\n",
       "      <td>1.0</td>\n",
       "      <td>1.0</td>\n",
       "      <td>0.0</td>\n",
       "    </tr>\n",
       "    <tr>\n",
       "      <th>3</th>\n",
       "      <td>1515915625468061100</td>\n",
       "      <td>1</td>\n",
       "      <td>0</td>\n",
       "      <td>0</td>\n",
       "      <td>1</td>\n",
       "      <td>0</td>\n",
       "      <td>163</td>\n",
       "      <td>1</td>\n",
       "      <td>267</td>\n",
       "      <td>1</td>\n",
       "      <td>0</td>\n",
       "      <td>0</td>\n",
       "      <td>0</td>\n",
       "      <td>434</td>\n",
       "      <td>2098.0</td>\n",
       "      <td>2.0</td>\n",
       "      <td>2.0</td>\n",
       "      <td>0.0</td>\n",
       "    </tr>\n",
       "    <tr>\n",
       "      <th>4</th>\n",
       "      <td>1515915625468061170</td>\n",
       "      <td>16</td>\n",
       "      <td>0</td>\n",
       "      <td>0</td>\n",
       "      <td>0</td>\n",
       "      <td>0</td>\n",
       "      <td>31</td>\n",
       "      <td>3</td>\n",
       "      <td>243</td>\n",
       "      <td>0</td>\n",
       "      <td>0</td>\n",
       "      <td>0</td>\n",
       "      <td>202</td>\n",
       "      <td>91</td>\n",
       "      <td>33601.0</td>\n",
       "      <td>19.0</td>\n",
       "      <td>19.0</td>\n",
       "      <td>0.0</td>\n",
       "    </tr>\n",
       "    <tr>\n",
       "      <th>...</th>\n",
       "      <td>...</td>\n",
       "      <td>...</td>\n",
       "      <td>...</td>\n",
       "      <td>...</td>\n",
       "      <td>...</td>\n",
       "      <td>...</td>\n",
       "      <td>...</td>\n",
       "      <td>...</td>\n",
       "      <td>...</td>\n",
       "      <td>...</td>\n",
       "      <td>...</td>\n",
       "      <td>...</td>\n",
       "      <td>...</td>\n",
       "      <td>...</td>\n",
       "      <td>...</td>\n",
       "      <td>...</td>\n",
       "      <td>...</td>\n",
       "      <td>...</td>\n",
       "    </tr>\n",
       "    <tr>\n",
       "      <th>53324</th>\n",
       "      <td>1515915626010183608</td>\n",
       "      <td>0</td>\n",
       "      <td>0</td>\n",
       "      <td>0</td>\n",
       "      <td>0</td>\n",
       "      <td>0</td>\n",
       "      <td>2</td>\n",
       "      <td>0</td>\n",
       "      <td>2</td>\n",
       "      <td>0</td>\n",
       "      <td>0</td>\n",
       "      <td>0</td>\n",
       "      <td>0</td>\n",
       "      <td>4</td>\n",
       "      <td>568.0</td>\n",
       "      <td>4.0</td>\n",
       "      <td>4.0</td>\n",
       "      <td>0.0</td>\n",
       "    </tr>\n",
       "    <tr>\n",
       "      <th>53325</th>\n",
       "      <td>1515915626010221592</td>\n",
       "      <td>3</td>\n",
       "      <td>0</td>\n",
       "      <td>0</td>\n",
       "      <td>0</td>\n",
       "      <td>0</td>\n",
       "      <td>2</td>\n",
       "      <td>0</td>\n",
       "      <td>2</td>\n",
       "      <td>0</td>\n",
       "      <td>0</td>\n",
       "      <td>0</td>\n",
       "      <td>0</td>\n",
       "      <td>7</td>\n",
       "      <td>2998.0</td>\n",
       "      <td>2.0</td>\n",
       "      <td>2.0</td>\n",
       "      <td>0.0</td>\n",
       "    </tr>\n",
       "    <tr>\n",
       "      <th>53326</th>\n",
       "      <td>1515915626010234726</td>\n",
       "      <td>0</td>\n",
       "      <td>0</td>\n",
       "      <td>0</td>\n",
       "      <td>0</td>\n",
       "      <td>0</td>\n",
       "      <td>0</td>\n",
       "      <td>0</td>\n",
       "      <td>1</td>\n",
       "      <td>0</td>\n",
       "      <td>0</td>\n",
       "      <td>0</td>\n",
       "      <td>0</td>\n",
       "      <td>1</td>\n",
       "      <td>NaN</td>\n",
       "      <td>NaN</td>\n",
       "      <td>NaN</td>\n",
       "      <td>NaN</td>\n",
       "    </tr>\n",
       "    <tr>\n",
       "      <th>53327</th>\n",
       "      <td>1515915626010261344</td>\n",
       "      <td>1</td>\n",
       "      <td>0</td>\n",
       "      <td>0</td>\n",
       "      <td>0</td>\n",
       "      <td>0</td>\n",
       "      <td>1</td>\n",
       "      <td>0</td>\n",
       "      <td>1</td>\n",
       "      <td>0</td>\n",
       "      <td>0</td>\n",
       "      <td>0</td>\n",
       "      <td>0</td>\n",
       "      <td>3</td>\n",
       "      <td>8994.0</td>\n",
       "      <td>6.0</td>\n",
       "      <td>6.0</td>\n",
       "      <td>0.0</td>\n",
       "    </tr>\n",
       "    <tr>\n",
       "      <th>53328</th>\n",
       "      <td>1515915626010288690</td>\n",
       "      <td>0</td>\n",
       "      <td>0</td>\n",
       "      <td>0</td>\n",
       "      <td>0</td>\n",
       "      <td>0</td>\n",
       "      <td>1</td>\n",
       "      <td>0</td>\n",
       "      <td>1</td>\n",
       "      <td>0</td>\n",
       "      <td>0</td>\n",
       "      <td>0</td>\n",
       "      <td>0</td>\n",
       "      <td>2</td>\n",
       "      <td>NaN</td>\n",
       "      <td>NaN</td>\n",
       "      <td>NaN</td>\n",
       "      <td>NaN</td>\n",
       "    </tr>\n",
       "  </tbody>\n",
       "</table>\n",
       "<p>53329 rows × 18 columns</p>\n",
       "</div>"
      ],
      "text/plain": [
       "                 client_id  click  close  complain  hard_bounce  hbq_spam  \\\n",
       "0      1515915625468060902     10      0         0            0         0   \n",
       "1      1515915625468061003      6      0         0            0         0   \n",
       "2      1515915625468061099      8      0         0            2         0   \n",
       "3      1515915625468061100      1      0         0            1         0   \n",
       "4      1515915625468061170     16      0         0            0         0   \n",
       "...                    ...    ...    ...       ...          ...       ...   \n",
       "53324  1515915626010183608      0      0         0            0         0   \n",
       "53325  1515915626010221592      3      0         0            0         0   \n",
       "53326  1515915626010234726      0      0         0            0         0   \n",
       "53327  1515915626010261344      1      0         0            0         0   \n",
       "53328  1515915626010288690      0      0         0            0         0   \n",
       "\n",
       "       open  purchase  send  soft_bounce  subscribe  unsubscribe  email  \\\n",
       "0        35         5   126            0          0            1    177   \n",
       "1         5         1   154            0          0            0    166   \n",
       "2        51         0   215            0          0            0    182   \n",
       "3       163         1   267            1          0            0      0   \n",
       "4        31         3   243            0          0            0    202   \n",
       "...     ...       ...   ...          ...        ...          ...    ...   \n",
       "53324     2         0     2            0          0            0      0   \n",
       "53325     2         0     2            0          0            0      0   \n",
       "53326     0         0     1            0          0            0      0   \n",
       "53327     1         0     1            0          0            0      0   \n",
       "53328     1         0     1            0          0            0      0   \n",
       "\n",
       "       mobile_push  total_spent  total_items  num_purchases  target  \n",
       "0                0       6993.0          7.0            7.0     0.0  \n",
       "1                0      16235.0          7.0            7.0     1.0  \n",
       "2               94        299.0          1.0            1.0     0.0  \n",
       "3              434       2098.0          2.0            2.0     0.0  \n",
       "4               91      33601.0         19.0           19.0     0.0  \n",
       "...            ...          ...          ...            ...     ...  \n",
       "53324            4        568.0          4.0            4.0     0.0  \n",
       "53325            7       2998.0          2.0            2.0     0.0  \n",
       "53326            1          NaN          NaN            NaN     NaN  \n",
       "53327            3       8994.0          6.0            6.0     0.0  \n",
       "53328            2          NaN          NaN            NaN     NaN  \n",
       "\n",
       "[53329 rows x 18 columns]"
      ]
     },
     "execution_count": 90,
     "metadata": {},
     "output_type": "execute_result"
    }
   ],
   "source": [
    "df_merged"
   ]
  },
  {
   "cell_type": "code",
   "execution_count": 91,
   "id": "006a2549-42ef-4678-8d56-179bdeeeafe7",
   "metadata": {},
   "outputs": [
    {
     "name": "stdout",
     "output_type": "stream",
     "text": [
      "<class 'pandas.core.frame.DataFrame'>\n",
      "RangeIndex: 53329 entries, 0 to 53328\n",
      "Data columns (total 18 columns):\n",
      " #   Column         Non-Null Count  Dtype  \n",
      "---  ------         --------------  -----  \n",
      " 0   client_id      53329 non-null  int64  \n",
      " 1   click          53329 non-null  int64  \n",
      " 2   close          53329 non-null  int64  \n",
      " 3   complain       53329 non-null  int64  \n",
      " 4   hard_bounce    53329 non-null  int64  \n",
      " 5   hbq_spam       53329 non-null  int64  \n",
      " 6   open           53329 non-null  int64  \n",
      " 7   purchase       53329 non-null  int64  \n",
      " 8   send           53329 non-null  int64  \n",
      " 9   soft_bounce    53329 non-null  int64  \n",
      " 10  subscribe      53329 non-null  int64  \n",
      " 11  unsubscribe    53329 non-null  int64  \n",
      " 12  email          53329 non-null  int64  \n",
      " 13  mobile_push    53329 non-null  int64  \n",
      " 14  total_spent    41982 non-null  float64\n",
      " 15  total_items    41982 non-null  float64\n",
      " 16  num_purchases  41982 non-null  float64\n",
      " 17  target         41982 non-null  float64\n",
      "dtypes: float64(4), int64(14)\n",
      "memory usage: 7.3 MB\n"
     ]
    }
   ],
   "source": [
    "df_merged.info()"
   ]
  },
  {
   "cell_type": "code",
   "execution_count": 92,
   "id": "83133f84-f146-4224-a5e5-6e8a0d95fb44",
   "metadata": {},
   "outputs": [],
   "source": [
    "df_merged = df_merged.fillna(0)\n"
   ]
  },
  {
   "cell_type": "code",
   "execution_count": 93,
   "id": "848c9e06-7b28-49af-b354-965b3693ae25",
   "metadata": {},
   "outputs": [
    {
     "name": "stdout",
     "output_type": "stream",
     "text": [
      "(53329, 18)\n",
      "Index(['client_id', 'click', 'close', 'complain', 'hard_bounce', 'hbq_spam',\n",
      "       'open', 'purchase', 'send', 'soft_bounce', 'subscribe', 'unsubscribe',\n",
      "       'email', 'mobile_push', 'total_spent', 'total_items', 'num_purchases',\n",
      "       'target'],\n",
      "      dtype='object')\n",
      "target\n",
      "0.0    52483\n",
      "1.0      846\n",
      "Name: count, dtype: int64\n"
     ]
    }
   ],
   "source": [
    "print(df_merged.shape)\n",
    "print(df_merged.columns)\n",
    "print(df_merged['target'].value_counts())\n"
   ]
  },
  {
   "cell_type": "code",
   "execution_count": 94,
   "id": "424d832f-7a2a-4dc6-b53f-89aa7568e310",
   "metadata": {},
   "outputs": [],
   "source": [
    "\n",
    "X = df_merged.drop(columns=['target'])\n",
    "y = df_merged['target']\n",
    "\n",
    "X_train, X_test, y_train, y_test = train_test_split(\n",
    "    X, y,\n",
    "    test_size=0.2,\n",
    "    random_state=42,\n",
    "    stratify=y\n",
    ")\n"
   ]
  },
  {
   "cell_type": "code",
   "execution_count": 95,
   "id": "2b629764-fd33-43bd-9b7a-86dfdf0f8aad",
   "metadata": {},
   "outputs": [],
   "source": [
    "\n",
    "# Объединяем X и y обратно\n",
    "train = pd.concat([X_train, y_train], axis=1)\n",
    "\n",
    "# Делим по классам\n",
    "majority = train[train.target == 0]\n",
    "minority = train[train.target == 1]\n",
    "\n",
    "# Oversample minority\n",
    "minority_upsampled = resample(\n",
    "    minority,\n",
    "    replace=True,\n",
    "    n_samples=len(majority),\n",
    "    random_state=42\n",
    ")\n",
    "\n",
    "# Объединяем\n",
    "train_balanced = pd.concat([majority, minority_upsampled])\n",
    "\n",
    "# Обратно разбиваем\n",
    "X_train_bal = train_balanced.drop(columns=['target'])\n",
    "y_train_bal = train_balanced['target']\n"
   ]
  },
  {
   "cell_type": "code",
   "execution_count": 96,
   "id": "552b8267-f2c6-47e1-968e-59af9e697920",
   "metadata": {},
   "outputs": [
    {
     "name": "stdout",
     "output_type": "stream",
     "text": [
      "ROC AUC: 0.5000\n"
     ]
    }
   ],
   "source": [
    "\n",
    "\n",
    "model = LogisticRegression(max_iter=1000, random_state=42)\n",
    "model.fit(X_train_bal, y_train_bal)\n",
    "\n",
    "y_pred = model.predict(X_test)\n",
    "\n",
    "#print(classification_report(y_test, y_pred, digits=3))\n",
    "\n",
    "y_proba = model.predict_proba(X_test)[:, 1]\n",
    "\n",
    "roc_auc = roc_auc_score(y_test, y_proba)\n",
    "print(f\"ROC AUC: {roc_auc:.4f}\")"
   ]
  },
  {
   "cell_type": "code",
   "execution_count": 97,
   "id": "daa5fd1f-933b-41f1-9e58-8a62c15fbd3a",
   "metadata": {},
   "outputs": [
    {
     "name": "stdout",
     "output_type": "stream",
     "text": [
      "Requirement already satisfied: catboost in /Users/shogun/anaconda3/envs/kaggle/lib/python3.9/site-packages (1.2.5)\n",
      "Requirement already satisfied: graphviz in /Users/shogun/anaconda3/envs/kaggle/lib/python3.9/site-packages (from catboost) (0.20.3)\n",
      "Requirement already satisfied: matplotlib in /Users/shogun/anaconda3/envs/kaggle/lib/python3.9/site-packages (from catboost) (3.9.4)\n",
      "Requirement already satisfied: numpy>=1.16.0 in /Users/shogun/anaconda3/envs/kaggle/lib/python3.9/site-packages (from catboost) (1.26.4)\n",
      "Requirement already satisfied: pandas>=0.24 in /Users/shogun/anaconda3/envs/kaggle/lib/python3.9/site-packages (from catboost) (2.3.0)\n",
      "Requirement already satisfied: scipy in /Users/shogun/anaconda3/envs/kaggle/lib/python3.9/site-packages (from catboost) (1.13.1)\n",
      "Requirement already satisfied: plotly in /Users/shogun/anaconda3/envs/kaggle/lib/python3.9/site-packages (from catboost) (6.1.2)\n",
      "Requirement already satisfied: six in /Users/shogun/anaconda3/envs/kaggle/lib/python3.9/site-packages (from catboost) (1.16.0)\n",
      "Requirement already satisfied: python-dateutil>=2.8.2 in /Users/shogun/anaconda3/envs/kaggle/lib/python3.9/site-packages (from pandas>=0.24->catboost) (2.9.0.post0)\n",
      "Requirement already satisfied: pytz>=2020.1 in /Users/shogun/anaconda3/envs/kaggle/lib/python3.9/site-packages (from pandas>=0.24->catboost) (2024.1)\n",
      "Requirement already satisfied: tzdata>=2022.7 in /Users/shogun/anaconda3/envs/kaggle/lib/python3.9/site-packages (from pandas>=0.24->catboost) (2023.3)\n",
      "Requirement already satisfied: contourpy>=1.0.1 in /Users/shogun/anaconda3/envs/kaggle/lib/python3.9/site-packages (from matplotlib->catboost) (1.3.0)\n",
      "Requirement already satisfied: cycler>=0.10 in /Users/shogun/anaconda3/envs/kaggle/lib/python3.9/site-packages (from matplotlib->catboost) (0.12.1)\n",
      "Requirement already satisfied: fonttools>=4.22.0 in /Users/shogun/anaconda3/envs/kaggle/lib/python3.9/site-packages (from matplotlib->catboost) (4.56.0)\n",
      "Requirement already satisfied: kiwisolver>=1.3.1 in /Users/shogun/anaconda3/envs/kaggle/lib/python3.9/site-packages (from matplotlib->catboost) (1.4.7)\n",
      "Requirement already satisfied: packaging>=20.0 in /Users/shogun/anaconda3/envs/kaggle/lib/python3.9/site-packages (from matplotlib->catboost) (24.2)\n",
      "Requirement already satisfied: pillow>=8 in /Users/shogun/anaconda3/envs/kaggle/lib/python3.9/site-packages (from matplotlib->catboost) (9.4.0)\n",
      "Requirement already satisfied: pyparsing>=2.3.1 in /Users/shogun/anaconda3/envs/kaggle/lib/python3.9/site-packages (from matplotlib->catboost) (3.2.1)\n",
      "Requirement already satisfied: importlib-resources>=3.2.0 in /Users/shogun/anaconda3/envs/kaggle/lib/python3.9/site-packages (from matplotlib->catboost) (6.5.2)\n",
      "Requirement already satisfied: narwhals>=1.15.1 in /Users/shogun/anaconda3/envs/kaggle/lib/python3.9/site-packages (from plotly->catboost) (1.41.0)\n",
      "Requirement already satisfied: zipp>=3.1.0 in /Users/shogun/anaconda3/envs/kaggle/lib/python3.9/site-packages (from importlib-resources>=3.2.0->matplotlib->catboost) (3.21.0)\n"
     ]
    }
   ],
   "source": [
    "!pip install catboost"
   ]
  },
  {
   "cell_type": "code",
   "execution_count": 98,
   "id": "e2cd12cd-44b2-4f3c-b022-0f994600f648",
   "metadata": {},
   "outputs": [
    {
     "name": "stdout",
     "output_type": "stream",
     "text": [
      "Requirement already satisfied: numpy==1.26.4 in /Users/shogun/anaconda3/envs/kaggle/lib/python3.9/site-packages (1.26.4)\n"
     ]
    }
   ],
   "source": [
    "!pip install numpy==1.26.4\n"
   ]
  },
  {
   "cell_type": "code",
   "execution_count": null,
   "id": "b2e05874-2805-4be5-a4f0-a211beb022e4",
   "metadata": {},
   "outputs": [],
   "source": []
  },
  {
   "cell_type": "code",
   "execution_count": 99,
   "id": "fff98613-7697-41e9-89ad-e53acad035c4",
   "metadata": {},
   "outputs": [],
   "source": [
    "#print(np.__version__)"
   ]
  },
  {
   "cell_type": "code",
   "execution_count": null,
   "id": "a762eb18-731c-4c6d-8935-dca4cae03568",
   "metadata": {},
   "outputs": [],
   "source": []
  },
  {
   "cell_type": "code",
   "execution_count": 100,
   "id": "4de138e1-4151-4f08-ae4f-9810ea86c7f1",
   "metadata": {},
   "outputs": [],
   "source": [
    "\n",
    "#print(catboost.__version__)\n"
   ]
  },
  {
   "cell_type": "code",
   "execution_count": 102,
   "id": "d5b0b918-dc4f-43d9-9f38-a42a2fab6ce6",
   "metadata": {},
   "outputs": [
    {
     "name": "stdout",
     "output_type": "stream",
     "text": [
      "0:\ttest: 0.7647826\tbest: 0.7647826 (0)\ttotal: 69.6ms\tremaining: 2m 19s\n",
      "100:\ttest: 0.7774952\tbest: 0.7875739 (3)\ttotal: 1.29s\tremaining: 24.3s\n",
      "200:\ttest: 0.7669303\tbest: 0.7875739 (3)\ttotal: 2.5s\tremaining: 22.4s\n",
      "300:\ttest: 0.7456788\tbest: 0.7875739 (3)\ttotal: 3.69s\tremaining: 20.9s\n",
      "Stopped by overfitting detector  (300 iterations wait)\n",
      "\n",
      "bestTest = 0.7875738518\n",
      "bestIteration = 3\n",
      "\n",
      "Shrink model to first 4 iterations.\n"
     ]
    },
    {
     "data": {
      "text/plain": [
       "<catboost.core.CatBoostClassifier at 0x3572bb3a0>"
      ]
     },
     "execution_count": 102,
     "metadata": {},
     "output_type": "execute_result"
    }
   ],
   "source": [
    "\n",
    "\n",
    "cat_model = catboost.CatBoostClassifier(\n",
    "    iterations=2000,\n",
    "    learning_rate=0.05,\n",
    "    depth=6,\n",
    "    verbose=100,\n",
    "    random_seed=42,\n",
    "    #eval_metric='F1',\n",
    "    eval_metric='AUC',\n",
    "    task_type='CPU'  # или GPU, если доступен\n",
    ")\n",
    "\n",
    "cat_model.fit(X_train_bal, y_train_bal, eval_set=(X_test, y_test), early_stopping_rounds=300)\n"
   ]
  },
  {
   "cell_type": "code",
   "execution_count": 103,
   "id": "05ea46d5-844e-4839-b287-b29c43f0f863",
   "metadata": {},
   "outputs": [
    {
     "data": {
      "text/html": [
       "<div>\n",
       "<style scoped>\n",
       "    .dataframe tbody tr th:only-of-type {\n",
       "        vertical-align: middle;\n",
       "    }\n",
       "\n",
       "    .dataframe tbody tr th {\n",
       "        vertical-align: top;\n",
       "    }\n",
       "\n",
       "    .dataframe thead th {\n",
       "        text-align: right;\n",
       "    }\n",
       "</style>\n",
       "<table border=\"1\" class=\"dataframe\">\n",
       "  <thead>\n",
       "    <tr style=\"text-align: right;\">\n",
       "      <th></th>\n",
       "      <th>client_id</th>\n",
       "      <th>click</th>\n",
       "      <th>close</th>\n",
       "      <th>complain</th>\n",
       "      <th>hard_bounce</th>\n",
       "      <th>hbq_spam</th>\n",
       "      <th>open</th>\n",
       "      <th>purchase</th>\n",
       "      <th>send</th>\n",
       "      <th>soft_bounce</th>\n",
       "      <th>subscribe</th>\n",
       "      <th>unsubscribe</th>\n",
       "      <th>email</th>\n",
       "      <th>mobile_push</th>\n",
       "      <th>total_spent</th>\n",
       "      <th>total_items</th>\n",
       "      <th>num_purchases</th>\n",
       "    </tr>\n",
       "  </thead>\n",
       "  <tbody>\n",
       "    <tr>\n",
       "      <th>44986</th>\n",
       "      <td>1515915625795092454</td>\n",
       "      <td>18</td>\n",
       "      <td>0</td>\n",
       "      <td>0</td>\n",
       "      <td>0</td>\n",
       "      <td>0</td>\n",
       "      <td>0</td>\n",
       "      <td>1</td>\n",
       "      <td>274</td>\n",
       "      <td>0</td>\n",
       "      <td>0</td>\n",
       "      <td>0</td>\n",
       "      <td>0</td>\n",
       "      <td>293</td>\n",
       "      <td>3358.0</td>\n",
       "      <td>6.0</td>\n",
       "      <td>6.0</td>\n",
       "    </tr>\n",
       "    <tr>\n",
       "      <th>437</th>\n",
       "      <td>1515915625468090684</td>\n",
       "      <td>3</td>\n",
       "      <td>0</td>\n",
       "      <td>0</td>\n",
       "      <td>2</td>\n",
       "      <td>0</td>\n",
       "      <td>67</td>\n",
       "      <td>2</td>\n",
       "      <td>145</td>\n",
       "      <td>0</td>\n",
       "      <td>0</td>\n",
       "      <td>0</td>\n",
       "      <td>209</td>\n",
       "      <td>10</td>\n",
       "      <td>8955.0</td>\n",
       "      <td>5.0</td>\n",
       "      <td>5.0</td>\n",
       "    </tr>\n",
       "    <tr>\n",
       "      <th>30493</th>\n",
       "      <td>1515915625559544104</td>\n",
       "      <td>4</td>\n",
       "      <td>0</td>\n",
       "      <td>0</td>\n",
       "      <td>2</td>\n",
       "      <td>0</td>\n",
       "      <td>132</td>\n",
       "      <td>1</td>\n",
       "      <td>319</td>\n",
       "      <td>0</td>\n",
       "      <td>0</td>\n",
       "      <td>1</td>\n",
       "      <td>134</td>\n",
       "      <td>325</td>\n",
       "      <td>8694.0</td>\n",
       "      <td>6.0</td>\n",
       "      <td>6.0</td>\n",
       "    </tr>\n",
       "    <tr>\n",
       "      <th>15197</th>\n",
       "      <td>1515915625490140743</td>\n",
       "      <td>1</td>\n",
       "      <td>0</td>\n",
       "      <td>0</td>\n",
       "      <td>0</td>\n",
       "      <td>0</td>\n",
       "      <td>13</td>\n",
       "      <td>1</td>\n",
       "      <td>95</td>\n",
       "      <td>0</td>\n",
       "      <td>0</td>\n",
       "      <td>0</td>\n",
       "      <td>53</td>\n",
       "      <td>57</td>\n",
       "      <td>7978.0</td>\n",
       "      <td>4.0</td>\n",
       "      <td>4.0</td>\n",
       "    </tr>\n",
       "    <tr>\n",
       "      <th>14522</th>\n",
       "      <td>1515915625489925034</td>\n",
       "      <td>9</td>\n",
       "      <td>0</td>\n",
       "      <td>0</td>\n",
       "      <td>0</td>\n",
       "      <td>0</td>\n",
       "      <td>3</td>\n",
       "      <td>2</td>\n",
       "      <td>76</td>\n",
       "      <td>0</td>\n",
       "      <td>0</td>\n",
       "      <td>0</td>\n",
       "      <td>61</td>\n",
       "      <td>29</td>\n",
       "      <td>4594.0</td>\n",
       "      <td>8.0</td>\n",
       "      <td>8.0</td>\n",
       "    </tr>\n",
       "  </tbody>\n",
       "</table>\n",
       "</div>"
      ],
      "text/plain": [
       "                 client_id  click  close  complain  hard_bounce  hbq_spam  \\\n",
       "44986  1515915625795092454     18      0         0            0         0   \n",
       "437    1515915625468090684      3      0         0            2         0   \n",
       "30493  1515915625559544104      4      0         0            2         0   \n",
       "15197  1515915625490140743      1      0         0            0         0   \n",
       "14522  1515915625489925034      9      0         0            0         0   \n",
       "\n",
       "       open  purchase  send  soft_bounce  subscribe  unsubscribe  email  \\\n",
       "44986     0         1   274            0          0            0      0   \n",
       "437      67         2   145            0          0            0    209   \n",
       "30493   132         1   319            0          0            1    134   \n",
       "15197    13         1    95            0          0            0     53   \n",
       "14522     3         2    76            0          0            0     61   \n",
       "\n",
       "       mobile_push  total_spent  total_items  num_purchases  \n",
       "44986          293       3358.0          6.0            6.0  \n",
       "437             10       8955.0          5.0            5.0  \n",
       "30493          325       8694.0          6.0            6.0  \n",
       "15197           57       7978.0          4.0            4.0  \n",
       "14522           29       4594.0          8.0            8.0  "
      ]
     },
     "execution_count": 103,
     "metadata": {},
     "output_type": "execute_result"
    }
   ],
   "source": [
    "X_train_bal.head()"
   ]
  },
  {
   "cell_type": "code",
   "execution_count": 104,
   "id": "3844544a-3b5f-4ade-a204-ba96cd08db18",
   "metadata": {},
   "outputs": [
    {
     "name": "stdout",
     "output_type": "stream",
     "text": [
      "ROC AUC: 0.7876\n"
     ]
    }
   ],
   "source": [
    "y_proba = cat_model.predict_proba(X_test)[:, 1]\n",
    "\n",
    "roc_auc = roc_auc_score(y_test, y_proba)\n",
    "print(f\"ROC AUC: {roc_auc:.4f}\")"
   ]
  },
  {
   "cell_type": "code",
   "execution_count": 105,
   "id": "70e6a349-1500-45a6-954b-9145f09fd12a",
   "metadata": {},
   "outputs": [
    {
     "data": {
      "image/png": "[encoded data removed]",
      "text/plain": [
       "<Figure size 640x480 with 2 Axes>"
      ]
     },
     "metadata": {},
     "output_type": "display_data"
    }
   ],
   "source": [
    "\n",
    "# Предсказания модели\n",
    "y_pred2 = model.predict(X_test)\n",
    "\n",
    "# Вычисляем confusion matrix\n",
    "cm = confusion_matrix(y_test, y_pred2)\n",
    "\n",
    "# Визуализируем\n",
    "disp = ConfusionMatrixDisplay(confusion_matrix=cm)\n",
    "disp.plot(cmap=plt.cm.Blues)\n",
    "plt.show()\n"
   ]
  },
  {
   "cell_type": "code",
   "execution_count": 106,
   "id": "9e6237cf-d8e3-4431-bd71-e44cfbdc89a6",
   "metadata": {},
   "outputs": [
    {
     "data": {
      "image/png": "[encoded data removed]",
      "text/plain": [
       "<Figure size 640x480 with 2 Axes>"
      ]
     },
     "metadata": {},
     "output_type": "display_data"
    }
   ],
   "source": [
    "\n",
    "# Предсказания модели\n",
    "y_pred3 = cat_model.predict(X_test)\n",
    "\n",
    "# Вычисляем confusion matrix\n",
    "cm = confusion_matrix(y_test, y_pred3)\n",
    "\n",
    "# Визуализируем\n",
    "disp = ConfusionMatrixDisplay(confusion_matrix=cm)\n",
    "disp.plot(cmap=plt.cm.Blues)\n",
    "plt.show()\n"
   ]
  },
  {
   "cell_type": "code",
   "execution_count": 107,
   "id": "bb50bdc7-b602-47b1-8faa-884748f691d3",
   "metadata": {},
   "outputs": [
    {
     "name": "stdout",
     "output_type": "stream",
     "text": [
      "Confusion Matrix:\n",
      "[[6715 3782]\n",
      " [  40  129]]\n"
     ]
    }
   ],
   "source": [
    "print(\"Confusion Matrix:\")\n",
    "print(cm)"
   ]
  },
  {
   "cell_type": "code",
   "execution_count": 108,
   "id": "e7cceddd-b022-43c4-8ce7-0ef32015913e",
   "metadata": {
    "jupyter": {
     "source_hidden": true
    },
    "scrolled": true
   },
   "outputs": [
    {
     "name": "stderr",
     "output_type": "stream",
     "text": [
      "/Users/shogun/anaconda3/envs/kaggle/lib/python3.9/site-packages/sklearn/metrics/_classification.py:1565: UndefinedMetricWarning: Precision is ill-defined and being set to 0.0 due to no predicted samples. Use `zero_division` parameter to control this behavior.\n",
      "  _warn_prf(average, modifier, f\"{metric.capitalize()} is\", len(result))\n",
      "/Users/shogun/anaconda3/envs/kaggle/lib/python3.9/site-packages/sklearn/metrics/_classification.py:1565: UndefinedMetricWarning: Precision is ill-defined and being set to 0.0 due to no predicted samples. Use `zero_division` parameter to control this behavior.\n",
      "  _warn_prf(average, modifier, f\"{metric.capitalize()} is\", len(result))\n",
      "/Users/shogun/anaconda3/envs/kaggle/lib/python3.9/site-packages/sklearn/metrics/_classification.py:1565: UndefinedMetricWarning: Precision is ill-defined and being set to 0.0 due to no predicted samples. Use `zero_division` parameter to control this behavior.\n",
      "  _warn_prf(average, modifier, f\"{metric.capitalize()} is\", len(result))\n",
      "/Users/shogun/anaconda3/envs/kaggle/lib/python3.9/site-packages/sklearn/metrics/_classification.py:1565: UndefinedMetricWarning: Precision is ill-defined and being set to 0.0 due to no predicted samples. Use `zero_division` parameter to control this behavior.\n",
      "  _warn_prf(average, modifier, f\"{metric.capitalize()} is\", len(result))\n",
      "/Users/shogun/anaconda3/envs/kaggle/lib/python3.9/site-packages/sklearn/metrics/_classification.py:1565: UndefinedMetricWarning: Precision is ill-defined and being set to 0.0 due to no predicted samples. Use `zero_division` parameter to control this behavior.\n",
      "  _warn_prf(average, modifier, f\"{metric.capitalize()} is\", len(result))\n",
      "/Users/shogun/anaconda3/envs/kaggle/lib/python3.9/site-packages/sklearn/metrics/_classification.py:1565: UndefinedMetricWarning: Precision is ill-defined and being set to 0.0 due to no predicted samples. Use `zero_division` parameter to control this behavior.\n",
      "  _warn_prf(average, modifier, f\"{metric.capitalize()} is\", len(result))\n",
      "/Users/shogun/anaconda3/envs/kaggle/lib/python3.9/site-packages/sklearn/metrics/_classification.py:1565: UndefinedMetricWarning: Precision is ill-defined and being set to 0.0 due to no predicted samples. Use `zero_division` parameter to control this behavior.\n",
      "  _warn_prf(average, modifier, f\"{metric.capitalize()} is\", len(result))\n",
      "/Users/shogun/anaconda3/envs/kaggle/lib/python3.9/site-packages/sklearn/metrics/_classification.py:1565: UndefinedMetricWarning: Precision is ill-defined and being set to 0.0 due to no predicted samples. Use `zero_division` parameter to control this behavior.\n",
      "  _warn_prf(average, modifier, f\"{metric.capitalize()} is\", len(result))\n",
      "/Users/shogun/anaconda3/envs/kaggle/lib/python3.9/site-packages/sklearn/metrics/_classification.py:1565: UndefinedMetricWarning: Precision is ill-defined and being set to 0.0 due to no predicted samples. Use `zero_division` parameter to control this behavior.\n",
      "  _warn_prf(average, modifier, f\"{metric.capitalize()} is\", len(result))\n",
      "/Users/shogun/anaconda3/envs/kaggle/lib/python3.9/site-packages/sklearn/metrics/_classification.py:1565: UndefinedMetricWarning: Precision is ill-defined and being set to 0.0 due to no predicted samples. Use `zero_division` parameter to control this behavior.\n",
      "  _warn_prf(average, modifier, f\"{metric.capitalize()} is\", len(result))\n",
      "/Users/shogun/anaconda3/envs/kaggle/lib/python3.9/site-packages/sklearn/metrics/_classification.py:1565: UndefinedMetricWarning: Precision is ill-defined and being set to 0.0 due to no predicted samples. Use `zero_division` parameter to control this behavior.\n",
      "  _warn_prf(average, modifier, f\"{metric.capitalize()} is\", len(result))\n",
      "/Users/shogun/anaconda3/envs/kaggle/lib/python3.9/site-packages/sklearn/metrics/_classification.py:1565: UndefinedMetricWarning: Precision is ill-defined and being set to 0.0 due to no predicted samples. Use `zero_division` parameter to control this behavior.\n",
      "  _warn_prf(average, modifier, f\"{metric.capitalize()} is\", len(result))\n",
      "/Users/shogun/anaconda3/envs/kaggle/lib/python3.9/site-packages/sklearn/metrics/_classification.py:1565: UndefinedMetricWarning: Precision is ill-defined and being set to 0.0 due to no predicted samples. Use `zero_division` parameter to control this behavior.\n",
      "  _warn_prf(average, modifier, f\"{metric.capitalize()} is\", len(result))\n",
      "/Users/shogun/anaconda3/envs/kaggle/lib/python3.9/site-packages/sklearn/metrics/_classification.py:1565: UndefinedMetricWarning: Precision is ill-defined and being set to 0.0 due to no predicted samples. Use `zero_division` parameter to control this behavior.\n",
      "  _warn_prf(average, modifier, f\"{metric.capitalize()} is\", len(result))\n",
      "/Users/shogun/anaconda3/envs/kaggle/lib/python3.9/site-packages/sklearn/metrics/_classification.py:1565: UndefinedMetricWarning: Precision is ill-defined and being set to 0.0 due to no predicted samples. Use `zero_division` parameter to control this behavior.\n",
      "  _warn_prf(average, modifier, f\"{metric.capitalize()} is\", len(result))\n",
      "/Users/shogun/anaconda3/envs/kaggle/lib/python3.9/site-packages/sklearn/metrics/_classification.py:1565: UndefinedMetricWarning: Precision is ill-defined and being set to 0.0 due to no predicted samples. Use `zero_division` parameter to control this behavior.\n",
      "  _warn_prf(average, modifier, f\"{metric.capitalize()} is\", len(result))\n",
      "/Users/shogun/anaconda3/envs/kaggle/lib/python3.9/site-packages/sklearn/metrics/_classification.py:1565: UndefinedMetricWarning: Precision is ill-defined and being set to 0.0 due to no predicted samples. Use `zero_division` parameter to control this behavior.\n",
      "  _warn_prf(average, modifier, f\"{metric.capitalize()} is\", len(result))\n",
      "/Users/shogun/anaconda3/envs/kaggle/lib/python3.9/site-packages/sklearn/metrics/_classification.py:1565: UndefinedMetricWarning: Precision is ill-defined and being set to 0.0 due to no predicted samples. Use `zero_division` parameter to control this behavior.\n",
      "  _warn_prf(average, modifier, f\"{metric.capitalize()} is\", len(result))\n",
      "/Users/shogun/anaconda3/envs/kaggle/lib/python3.9/site-packages/sklearn/metrics/_classification.py:1565: UndefinedMetricWarning: Precision is ill-defined and being set to 0.0 due to no predicted samples. Use `zero_division` parameter to control this behavior.\n",
      "  _warn_prf(average, modifier, f\"{metric.capitalize()} is\", len(result))\n",
      "/Users/shogun/anaconda3/envs/kaggle/lib/python3.9/site-packages/sklearn/metrics/_classification.py:1565: UndefinedMetricWarning: Precision is ill-defined and being set to 0.0 due to no predicted samples. Use `zero_division` parameter to control this behavior.\n",
      "  _warn_prf(average, modifier, f\"{metric.capitalize()} is\", len(result))\n",
      "/Users/shogun/anaconda3/envs/kaggle/lib/python3.9/site-packages/sklearn/metrics/_classification.py:1565: UndefinedMetricWarning: Precision is ill-defined and being set to 0.0 due to no predicted samples. Use `zero_division` parameter to control this behavior.\n",
      "  _warn_prf(average, modifier, f\"{metric.capitalize()} is\", len(result))\n",
      "/Users/shogun/anaconda3/envs/kaggle/lib/python3.9/site-packages/sklearn/metrics/_classification.py:1565: UndefinedMetricWarning: Precision is ill-defined and being set to 0.0 due to no predicted samples. Use `zero_division` parameter to control this behavior.\n",
      "  _warn_prf(average, modifier, f\"{metric.capitalize()} is\", len(result))\n",
      "/Users/shogun/anaconda3/envs/kaggle/lib/python3.9/site-packages/sklearn/metrics/_classification.py:1565: UndefinedMetricWarning: Precision is ill-defined and being set to 0.0 due to no predicted samples. Use `zero_division` parameter to control this behavior.\n",
      "  _warn_prf(average, modifier, f\"{metric.capitalize()} is\", len(result))\n",
      "/Users/shogun/anaconda3/envs/kaggle/lib/python3.9/site-packages/sklearn/metrics/_classification.py:1565: UndefinedMetricWarning: Precision is ill-defined and being set to 0.0 due to no predicted samples. Use `zero_division` parameter to control this behavior.\n",
      "  _warn_prf(average, modifier, f\"{metric.capitalize()} is\", len(result))\n",
      "/Users/shogun/anaconda3/envs/kaggle/lib/python3.9/site-packages/sklearn/metrics/_classification.py:1565: UndefinedMetricWarning: Precision is ill-defined and being set to 0.0 due to no predicted samples. Use `zero_division` parameter to control this behavior.\n",
      "  _warn_prf(average, modifier, f\"{metric.capitalize()} is\", len(result))\n",
      "/Users/shogun/anaconda3/envs/kaggle/lib/python3.9/site-packages/sklearn/metrics/_classification.py:1565: UndefinedMetricWarning: Precision is ill-defined and being set to 0.0 due to no predicted samples. Use `zero_division` parameter to control this behavior.\n",
      "  _warn_prf(average, modifier, f\"{metric.capitalize()} is\", len(result))\n",
      "/Users/shogun/anaconda3/envs/kaggle/lib/python3.9/site-packages/sklearn/metrics/_classification.py:1565: UndefinedMetricWarning: Precision is ill-defined and being set to 0.0 due to no predicted samples. Use `zero_division` parameter to control this behavior.\n",
      "  _warn_prf(average, modifier, f\"{metric.capitalize()} is\", len(result))\n",
      "/Users/shogun/anaconda3/envs/kaggle/lib/python3.9/site-packages/sklearn/metrics/_classification.py:1565: UndefinedMetricWarning: Precision is ill-defined and being set to 0.0 due to no predicted samples. Use `zero_division` parameter to control this behavior.\n",
      "  _warn_prf(average, modifier, f\"{metric.capitalize()} is\", len(result))\n",
      "/Users/shogun/anaconda3/envs/kaggle/lib/python3.9/site-packages/sklearn/metrics/_classification.py:1565: UndefinedMetricWarning: Precision is ill-defined and being set to 0.0 due to no predicted samples. Use `zero_division` parameter to control this behavior.\n",
      "  _warn_prf(average, modifier, f\"{metric.capitalize()} is\", len(result))\n",
      "/Users/shogun/anaconda3/envs/kaggle/lib/python3.9/site-packages/sklearn/metrics/_classification.py:1565: UndefinedMetricWarning: Precision is ill-defined and being set to 0.0 due to no predicted samples. Use `zero_division` parameter to control this behavior.\n",
      "  _warn_prf(average, modifier, f\"{metric.capitalize()} is\", len(result))\n",
      "/Users/shogun/anaconda3/envs/kaggle/lib/python3.9/site-packages/sklearn/metrics/_classification.py:1565: UndefinedMetricWarning: Precision is ill-defined and being set to 0.0 due to no predicted samples. Use `zero_division` parameter to control this behavior.\n",
      "  _warn_prf(average, modifier, f\"{metric.capitalize()} is\", len(result))\n",
      "/Users/shogun/anaconda3/envs/kaggle/lib/python3.9/site-packages/sklearn/metrics/_classification.py:1565: UndefinedMetricWarning: Precision is ill-defined and being set to 0.0 due to no predicted samples. Use `zero_division` parameter to control this behavior.\n",
      "  _warn_prf(average, modifier, f\"{metric.capitalize()} is\", len(result))\n",
      "/Users/shogun/anaconda3/envs/kaggle/lib/python3.9/site-packages/sklearn/metrics/_classification.py:1565: UndefinedMetricWarning: Precision is ill-defined and being set to 0.0 due to no predicted samples. Use `zero_division` parameter to control this behavior.\n",
      "  _warn_prf(average, modifier, f\"{metric.capitalize()} is\", len(result))\n",
      "/Users/shogun/anaconda3/envs/kaggle/lib/python3.9/site-packages/sklearn/metrics/_classification.py:1565: UndefinedMetricWarning: Precision is ill-defined and being set to 0.0 due to no predicted samples. Use `zero_division` parameter to control this behavior.\n",
      "  _warn_prf(average, modifier, f\"{metric.capitalize()} is\", len(result))\n",
      "/Users/shogun/anaconda3/envs/kaggle/lib/python3.9/site-packages/sklearn/metrics/_classification.py:1565: UndefinedMetricWarning: Precision is ill-defined and being set to 0.0 due to no predicted samples. Use `zero_division` parameter to control this behavior.\n",
      "  _warn_prf(average, modifier, f\"{metric.capitalize()} is\", len(result))\n",
      "/Users/shogun/anaconda3/envs/kaggle/lib/python3.9/site-packages/sklearn/metrics/_classification.py:1565: UndefinedMetricWarning: Precision is ill-defined and being set to 0.0 due to no predicted samples. Use `zero_division` parameter to control this behavior.\n",
      "  _warn_prf(average, modifier, f\"{metric.capitalize()} is\", len(result))\n",
      "/Users/shogun/anaconda3/envs/kaggle/lib/python3.9/site-packages/sklearn/metrics/_classification.py:1565: UndefinedMetricWarning: Precision is ill-defined and being set to 0.0 due to no predicted samples. Use `zero_division` parameter to control this behavior.\n",
      "  _warn_prf(average, modifier, f\"{metric.capitalize()} is\", len(result))\n",
      "/Users/shogun/anaconda3/envs/kaggle/lib/python3.9/site-packages/sklearn/metrics/_classification.py:1565: UndefinedMetricWarning: Precision is ill-defined and being set to 0.0 due to no predicted samples. Use `zero_division` parameter to control this behavior.\n",
      "  _warn_prf(average, modifier, f\"{metric.capitalize()} is\", len(result))\n",
      "/Users/shogun/anaconda3/envs/kaggle/lib/python3.9/site-packages/sklearn/metrics/_classification.py:1565: UndefinedMetricWarning: Precision is ill-defined and being set to 0.0 due to no predicted samples. Use `zero_division` parameter to control this behavior.\n",
      "  _warn_prf(average, modifier, f\"{metric.capitalize()} is\", len(result))\n",
      "/Users/shogun/anaconda3/envs/kaggle/lib/python3.9/site-packages/sklearn/metrics/_classification.py:1565: UndefinedMetricWarning: Precision is ill-defined and being set to 0.0 due to no predicted samples. Use `zero_division` parameter to control this behavior.\n",
      "  _warn_prf(average, modifier, f\"{metric.capitalize()} is\", len(result))\n",
      "/Users/shogun/anaconda3/envs/kaggle/lib/python3.9/site-packages/sklearn/metrics/_classification.py:1565: UndefinedMetricWarning: Precision is ill-defined and being set to 0.0 due to no predicted samples. Use `zero_division` parameter to control this behavior.\n",
      "  _warn_prf(average, modifier, f\"{metric.capitalize()} is\", len(result))\n",
      "/Users/shogun/anaconda3/envs/kaggle/lib/python3.9/site-packages/sklearn/metrics/_classification.py:1565: UndefinedMetricWarning: Precision is ill-defined and being set to 0.0 due to no predicted samples. Use `zero_division` parameter to control this behavior.\n",
      "  _warn_prf(average, modifier, f\"{metric.capitalize()} is\", len(result))\n"
     ]
    },
    {
     "data": {
      "image/png": "[encoded data removed]",
      "text/plain": [
       "<Figure size 1000x600 with 1 Axes>"
      ]
     },
     "metadata": {},
     "output_type": "display_data"
    }
   ],
   "source": [
    "from sklearn.metrics import precision_score, recall_score, f1_score\n",
    "import matplotlib.pyplot as plt\n",
    "\n",
    "#y_proba = model.predict_proba(X_test)[:, 1]\n",
    "#y_pred3 = cat_model.predict(X_test)\n",
    "thresholds = np.arange(0.0, 1.01, 0.01)\n",
    "\n",
    "precisions = []\n",
    "recalls = []\n",
    "f1_scores = []\n",
    "\n",
    "for t in thresholds:\n",
    "    y_pred3 = (y_proba >= t).astype(int)\n",
    "    precisions.append(precision_score(y_test, y_pred3))\n",
    "    recalls.append(recall_score(y_test, y_pred3))\n",
    "    f1_scores.append(f1_score(y_test, y_pred3))\n",
    "\n",
    "plt.figure(figsize=(10,6))\n",
    "plt.plot(thresholds, precisions, label='Precision')\n",
    "plt.plot(thresholds, recalls, label='Recall')\n",
    "plt.plot(thresholds, f1_scores, label='F1 Score')\n",
    "plt.xlabel('Threshold')\n",
    "plt.ylabel('Score')\n",
    "plt.title('Precision, Recall, F1-score vs Threshold')\n",
    "plt.legend()\n",
    "plt.grid(True)\n",
    "plt.show()\n"
   ]
  },
  {
   "cell_type": "code",
   "execution_count": 109,
   "id": "a0aa29ff-de12-47fe-96fc-a445e8771079",
   "metadata": {},
   "outputs": [
    {
     "name": "stdout",
     "output_type": "stream",
     "text": [
      "Лучший порог: 0.55 с F1 = 0.102\n"
     ]
    }
   ],
   "source": [
    "best_threshold = 0.0\n",
    "best_f1 = 0.0\n",
    "\n",
    "for t in np.arange(0, 1.01, 0.01):\n",
    "    y_pred3 = (y_proba >= t).astype(int)\n",
    "    current_f1 = f1_score(y_test, y_pred3)\n",
    "    if current_f1 > best_f1:\n",
    "        best_f1 = current_f1\n",
    "        best_threshold = t\n",
    "\n",
    "print(f\"Лучший порог: {best_threshold:.2f} с F1 = {best_f1:.3f}\")"
   ]
  },
  {
   "cell_type": "code",
   "execution_count": 110,
   "id": "01f4fe03-0fd1-4289-b330-c158156e8c7f",
   "metadata": {},
   "outputs": [
    {
     "name": "stdout",
     "output_type": "stream",
     "text": [
      "Оптимальный порог по Youden’s J: 0.510\n",
      "TPR (чувствительность) = 0.722, FPR = 0.290\n"
     ]
    }
   ],
   "source": [
    "\n",
    "y_proba = cat_model.predict_proba(X_test)[:, 1]\n",
    "\n",
    "fpr, tpr, thresholds = roc_curve(y_test, y_proba)\n",
    "\n",
    "# Youden's J statistic\n",
    "J = tpr - fpr\n",
    "\n",
    "ix = J.argmax()\n",
    "best_thresh = thresholds[ix]\n",
    "\n",
    "print(f\"Оптимальный порог по Youden’s J: {best_thresh:.3f}\")\n",
    "print(f\"TPR (чувствительность) = {tpr[ix]:.3f}, FPR = {fpr[ix]:.3f}\")\n"
   ]
  },
  {
   "cell_type": "code",
   "execution_count": 111,
   "id": "127a21bb-d62f-4c90-8586-086d6b850717",
   "metadata": {},
   "outputs": [
    {
     "name": "stdout",
     "output_type": "stream",
     "text": [
      "Confusion Matrix при пороге 0.284:\n",
      "[[2144 8353]\n",
      " [   0  169]]\n"
     ]
    }
   ],
   "source": [
    "# Получаем вероятности положительного класса\n",
    "y_proba = cat_model.predict_proba(X_test)[:, 1]\n",
    "\n",
    "# Применяем порог 0.284\n",
    "threshold = 0.284\n",
    "y_pred = (y_proba >= threshold).astype(int)\n",
    "\n",
    "# Строим confusion matrix\n",
    "cm = confusion_matrix(y_test, y_pred)\n",
    "print(\"Confusion Matrix при пороге 0.284:\")\n",
    "print(cm)"
   ]
  },
  {
   "cell_type": "markdown",
   "id": "255dfa5f-841a-4795-a1a1-053368354bad",
   "metadata": {},
   "source": [
    "**Анализ**\n",
    "\n",
    "- Класс 1 (покупка) редкий и плохо распознаётся: всего 63 из (63+106)=169 положительных распознано.\n",
    "\n",
    "- Много ложных срабатываний (FP=1121), то есть модель часто ошибается, выдавая покупку там, где её нет.\n",
    "\n",
    "- Показатель полноты (recall) для класса 1 = TP / (TP + FN) = 63 / (63+106) ≈ 0.37 — плохо.\n",
    "\n",
    "- Точность (precision) для класса 1 = TP / (TP + FP) = 63 / (63+1121) ≈ 0.053 — очень низкая."
   ]
  },
  {
   "cell_type": "code",
   "execution_count": null,
   "id": "eddd4644-a302-429a-8bc8-b3bf36796bcd",
   "metadata": {},
   "outputs": [],
   "source": []
  },
  {
   "cell_type": "code",
   "execution_count": null,
   "id": "6daafde3-ad84-4cc6-a761-11bd6babb121",
   "metadata": {},
   "outputs": [],
   "source": []
  },
  {
   "cell_type": "code",
   "execution_count": null,
   "id": "4cce308b-0d76-4547-aa0d-c1e49ec453b8",
   "metadata": {},
   "outputs": [],
   "source": []
  },
  {
   "cell_type": "code",
   "execution_count": null,
   "id": "c2dd6ab8-44d3-4263-bdbf-fa57c814a806",
   "metadata": {},
   "outputs": [],
   "source": []
  },
  {
   "cell_type": "code",
   "execution_count": null,
   "id": "353e0fd9-7ee6-4ffa-8fe9-e6242c501cc1",
   "metadata": {},
   "outputs": [],
   "source": []
  }
 ],
 "metadata": {
  "kernelspec": {
   "display_name": "Python 3 (ipykernel)",
   "language": "python",
   "name": "python3"
  },
  "language_info": {
   "codemirror_mode": {
    "name": "ipython",
    "version": 3
   },
   "file_extension": ".py",
   "mimetype": "text/x-python",
   "name": "python",
   "nbconvert_exporter": "python",
   "pygments_lexer": "ipython3",
   "version": "3.9.18"
  }
 },
 "nbformat": 4,
 "nbformat_minor": 5
}
