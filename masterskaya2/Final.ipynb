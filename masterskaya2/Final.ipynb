{
 "cells": [
  {
   "cell_type": "markdown",
   "id": "213c21e3-9010-44ca-b457-fb9b863d5858",
   "metadata": {},
   "source": [
    "## VER 2"
   ]
  },
  {
   "cell_type": "code",
   "execution_count": 21,
   "id": "eac8f8c1-b767-4f23-9101-0dfc275ee668",
   "metadata": {},
   "outputs": [],
   "source": [
    "import os\n",
    "import pandas as pd\n",
    "\n",
    "import numpy as np\n",
    "import matplotlib.pyplot as plt\n",
    "\n",
    "from sklearn.model_selection import train_test_split\n",
    "\n",
    "from sklearn.utils import resample\n",
    "\n",
    "from functools import reduce\n",
    "from sklearn.linear_model import LogisticRegression\n",
    "from sklearn.metrics import classification_report\n",
    "from sklearn.metrics import roc_auc_score, roc_curve, confusion_matrix, ConfusionMatrixDisplay\n",
    "import catboost\n",
    "\n"
   ]
  },
  {
   "cell_type": "code",
   "execution_count": 2,
   "id": "7e8e4e4c-60f1-44d4-bc09-09058f42d8b1",
   "metadata": {},
   "outputs": [],
   "source": [
    "# Основная директория\n",
    "#base_path = '/Users/migdalia/goinfre/description/filtered_data'\n",
    "base_path = '/Users/shogun/Desktop/ds_projects/masterskaya2/filtered_data'\n",
    "\n",
    "# Файлы\n",
    "file1 = 'apparel-messages.csv'\n",
    "file2 = 'apparel-purchases.csv'\n",
    "file3 = 'apparel-target_binary.csv'\n",
    "file4 = 'full_campaign_daily_event_channel.csv'\n",
    "file5 = 'full_campaign_daily_event.csv'\n",
    "\n",
    "# Полные пути\n",
    "path1 = os.path.join(base_path, file1)\n",
    "path2 = os.path.join(base_path, file2)\n",
    "path3 = os.path.join(base_path, file3)\n",
    "path4 = os.path.join(base_path, file4)\n",
    "path5 = os.path.join(base_path, file5)"
   ]
  },
  {
   "cell_type": "code",
   "execution_count": 58,
   "id": "b9e78390-fc90-4ebc-a7f0-f7d6273dac14",
   "metadata": {},
   "outputs": [
    {
     "name": "stdout",
     "output_type": "stream",
     "text": [
      "[OK1] Загружен apparel-messages.csv\n",
      "[OK2] Загружен apparel-purchases.csv\n",
      "[OK3] Загружен apparel-target_binary.csv\n",
      "[OK4] Загружен full_campaign_daily_event_channel.csv\n",
      "[OK5] Загружен full_campaign_daily_event.csv\n"
     ]
    }
   ],
   "source": [
    "# Загрузка с проверкой\n",
    "\n",
    "import pandas as pd\n",
    "\n",
    "if os.path.exists(path1):\n",
    "    messages = pd.read_csv(path1)\n",
    "    print('[OK1] Загружен apparel-messages.csv')\n",
    "else:\n",
    "    print(f'[ОШИБКА1] {file1} не найден')\n",
    "\n",
    "    \n",
    "if os.path.exists(path2):\n",
    "    purchases = pd.read_csv(path2)\n",
    "    print(f'[OK2] Загружен {file2}')\n",
    "else:\n",
    "    print(f'[ОШИБКА2] {file2} не найден')\n",
    "\n",
    "if os.path.exists(path3):\n",
    "    target = pd.read_csv(path3)\n",
    "    print(f'[OK3] Загружен {file3}')\n",
    "else:\n",
    "    print(f'[ОШИБКА3] {file3} не найден')\n",
    "\n",
    "    \n",
    "if os.path.exists(path4):\n",
    "    agg_event = pd.read_csv(path4)\n",
    "    print(f'[OK4] Загружен {file4}')\n",
    "else:\n",
    "    print(f'[ОШИБКА4] {file4} не найден')\n",
    "    \n",
    "if os.path.exists(path5):\n",
    "    agg_event_channel = pd.read_csv(path5)\n",
    "    print(f'[OK5] Загружен {file5}')\n",
    "else:\n",
    "    print(f'[ОШИБКА5] {file5} не найден')"
   ]
  },
  {
   "cell_type": "markdown",
   "id": "bc619768-db20-46b8-8a26-10befd1e5050",
   "metadata": {},
   "source": [
    "### Создание фичей"
   ]
  },
  {
   "cell_type": "code",
   "execution_count": 59,
   "id": "4d1746c1-2ecf-480b-a356-b36fb50d5b66",
   "metadata": {},
   "outputs": [],
   "source": [
    "\n",
    "df = purchases.merge(messages, on=[\"client_id\", \"message_id\"], how=\"left\", suffixes=('_purchase', '_message'))\n"
   ]
  },
  {
   "cell_type": "code",
   "execution_count": 60,
   "id": "0de3f7ec-ef74-4f66-9cfc-944526681023",
   "metadata": {},
   "outputs": [],
   "source": [
    "df = df.merge(target, on=\"client_id\", how=\"left\")\n"
   ]
  },
  {
   "cell_type": "code",
   "execution_count": 61,
   "id": "aac092e8-d63a-4317-9306-baebd0798995",
   "metadata": {},
   "outputs": [
    {
     "name": "stdout",
     "output_type": "stream",
     "text": [
      "<class 'pandas.core.frame.DataFrame'>\n",
      "RangeIndex: 862248 entries, 0 to 862247\n",
      "Data columns (total 12 columns):\n",
      " #   Column            Non-Null Count   Dtype  \n",
      "---  ------            --------------   -----  \n",
      " 0   client_id         862248 non-null  int64  \n",
      " 1   quantity          862248 non-null  int64  \n",
      " 2   price             862248 non-null  float64\n",
      " 3   category_ids      862248 non-null  object \n",
      " 4   date_purchase     862248 non-null  object \n",
      " 5   message_id        862248 non-null  object \n",
      " 6   bulk_campaign_id  805820 non-null  float64\n",
      " 7   event             805820 non-null  object \n",
      " 8   channel           805820 non-null  object \n",
      " 9   date_message      805820 non-null  object \n",
      " 10  created_at        805820 non-null  object \n",
      " 11  target            862248 non-null  int64  \n",
      "dtypes: float64(2), int64(3), object(7)\n",
      "memory usage: 78.9+ MB\n"
     ]
    }
   ],
   "source": [
    "df.info()"
   ]
  },
  {
   "cell_type": "code",
   "execution_count": 62,
   "id": "38e9024b-c2a3-4439-a9e7-8c03e0b091f3",
   "metadata": {},
   "outputs": [],
   "source": [
    "df['date'] = pd.to_datetime(df['date_message'])\n"
   ]
  },
  {
   "cell_type": "code",
   "execution_count": 63,
   "id": "df2f76ce-dce8-4ed0-af77-ba4d30fcea8b",
   "metadata": {},
   "outputs": [],
   "source": [
    "agg_event['date'] = pd.to_datetime(agg_event['date'])\n",
    "agg_event_channel['date'] = pd.to_datetime(agg_event_channel['date'])\n",
    "\n",
    "df = df.merge(agg_event, on=[\"bulk_campaign_id\", \"date\"], how=\"left\", suffixes=('', '_agg'))\n",
    "df = df.merge(agg_event_channel, on=[\"bulk_campaign_id\", \"date\"], how=\"left\", suffixes=('', '_channel'))\n"
   ]
  },
  {
   "cell_type": "code",
   "execution_count": 64,
   "id": "a4d64cf4-fddc-4f80-a6fd-9114ee134f5f",
   "metadata": {},
   "outputs": [],
   "source": [
    "import ast\n",
    "df['category_ids'] = df['category_ids'].apply(ast.literal_eval)\n"
   ]
  },
  {
   "cell_type": "code",
   "execution_count": 65,
   "id": "e0db21fe-d524-4712-b7c2-0cd4c1a7a5dc",
   "metadata": {},
   "outputs": [],
   "source": [
    "df = df.dropna(subset=['message_id'])\n"
   ]
  },
  {
   "cell_type": "code",
   "execution_count": 66,
   "id": "37ce4ed0-648c-4569-9535-9d9458c4c6ff",
   "metadata": {},
   "outputs": [
    {
     "name": "stdout",
     "output_type": "stream",
     "text": [
      "<class 'pandas.core.frame.DataFrame'>\n",
      "RangeIndex: 862248 entries, 0 to 862247\n",
      "Data columns (total 69 columns):\n",
      " #   Column                           Non-Null Count   Dtype         \n",
      "---  ------                           --------------   -----         \n",
      " 0   client_id                        862248 non-null  int64         \n",
      " 1   quantity                         862248 non-null  int64         \n",
      " 2   price                            862248 non-null  float64       \n",
      " 3   category_ids                     862248 non-null  object        \n",
      " 4   date_purchase                    862248 non-null  object        \n",
      " 5   message_id                       862248 non-null  object        \n",
      " 6   bulk_campaign_id                 805820 non-null  float64       \n",
      " 7   event                            805820 non-null  object        \n",
      " 8   channel                          805820 non-null  object        \n",
      " 9   date_message                     805820 non-null  object        \n",
      " 10  created_at                       805820 non-null  object        \n",
      " 11  target                           862248 non-null  int64         \n",
      " 12  date                             805820 non-null  datetime64[ns]\n",
      " 13  count_click_email                805756 non-null  float64       \n",
      " 14  count_click_mobile_push          805756 non-null  float64       \n",
      " 15  count_open_email                 805756 non-null  float64       \n",
      " 16  count_open_mobile_push           805756 non-null  float64       \n",
      " 17  count_purchase_email             805756 non-null  float64       \n",
      " 18  count_purchase_mobile_push       805756 non-null  float64       \n",
      " 19  count_soft_bounce_email          805756 non-null  float64       \n",
      " 20  count_subscribe_email            805756 non-null  float64       \n",
      " 21  count_unsubscribe_email          805756 non-null  float64       \n",
      " 22  nunique_click_email              805756 non-null  float64       \n",
      " 23  nunique_click_mobile_push        805756 non-null  float64       \n",
      " 24  nunique_open_email               805756 non-null  float64       \n",
      " 25  nunique_open_mobile_push         805756 non-null  float64       \n",
      " 26  nunique_purchase_email           805756 non-null  float64       \n",
      " 27  nunique_purchase_mobile_push     805756 non-null  float64       \n",
      " 28  nunique_soft_bounce_email        805756 non-null  float64       \n",
      " 29  nunique_subscribe_email          805756 non-null  float64       \n",
      " 30  nunique_unsubscribe_email        805756 non-null  float64       \n",
      " 31  count_hard_bounce_mobile_push    805756 non-null  float64       \n",
      " 32  count_send_mobile_push           805756 non-null  float64       \n",
      " 33  nunique_hard_bounce_mobile_push  805756 non-null  float64       \n",
      " 34  nunique_send_mobile_push         805756 non-null  float64       \n",
      " 35  count_hard_bounce_email          805756 non-null  float64       \n",
      " 36  count_hbq_spam_email             805756 non-null  float64       \n",
      " 37  count_send_email                 805756 non-null  float64       \n",
      " 38  nunique_hard_bounce_email        805756 non-null  float64       \n",
      " 39  nunique_hbq_spam_email           805756 non-null  float64       \n",
      " 40  nunique_send_email               805756 non-null  float64       \n",
      " 41  count_soft_bounce_mobile_push    805756 non-null  float64       \n",
      " 42  nunique_soft_bounce_mobile_push  805756 non-null  float64       \n",
      " 43  count_complain_email             805756 non-null  float64       \n",
      " 44  nunique_complain_email           805756 non-null  float64       \n",
      " 45  count_close_mobile_push          805756 non-null  float64       \n",
      " 46  nunique_close_mobile_push        805756 non-null  float64       \n",
      " 47  count_click                      805756 non-null  float64       \n",
      " 48  count_complain                   805756 non-null  float64       \n",
      " 49  count_hard_bounce                805756 non-null  float64       \n",
      " 50  count_open                       805756 non-null  float64       \n",
      " 51  count_purchase                   805756 non-null  float64       \n",
      " 52  count_send                       805756 non-null  float64       \n",
      " 53  count_soft_bounce                805756 non-null  float64       \n",
      " 54  count_subscribe                  805756 non-null  float64       \n",
      " 55  count_unsubscribe                805756 non-null  float64       \n",
      " 56  nunique_click                    805756 non-null  float64       \n",
      " 57  nunique_complain                 805756 non-null  float64       \n",
      " 58  nunique_hard_bounce              805756 non-null  float64       \n",
      " 59  nunique_open                     805756 non-null  float64       \n",
      " 60  nunique_purchase                 805756 non-null  float64       \n",
      " 61  nunique_send                     805756 non-null  float64       \n",
      " 62  nunique_soft_bounce              805756 non-null  float64       \n",
      " 63  nunique_subscribe                805756 non-null  float64       \n",
      " 64  nunique_unsubscribe              805756 non-null  float64       \n",
      " 65  count_hbq_spam                   805756 non-null  float64       \n",
      " 66  nunique_hbq_spam                 805756 non-null  float64       \n",
      " 67  count_close                      805756 non-null  float64       \n",
      " 68  nunique_close                    805756 non-null  float64       \n",
      "dtypes: datetime64[ns](1), float64(58), int64(3), object(7)\n",
      "memory usage: 453.9+ MB\n"
     ]
    },
    {
     "data": {
      "text/plain": [
       "client_id                  0\n",
       "quantity                   0\n",
       "price                      0\n",
       "category_ids               0\n",
       "date_purchase              0\n",
       "                       ...  \n",
       "nunique_unsubscribe    56492\n",
       "count_hbq_spam         56492\n",
       "nunique_hbq_spam       56492\n",
       "count_close            56492\n",
       "nunique_close          56492\n",
       "Length: 69, dtype: int64"
      ]
     },
     "execution_count": 66,
     "metadata": {},
     "output_type": "execute_result"
    }
   ],
   "source": [
    "df.info()\n",
    "df.isna().sum()\n"
   ]
  },
  {
   "cell_type": "code",
   "execution_count": 67,
   "id": "fe53dca9-f915-47cf-a13e-251f3845562d",
   "metadata": {},
   "outputs": [],
   "source": [
    "\n",
    "# Разворачиваем в DataFrame\n",
    "cat_levels = pd.DataFrame(df['category_ids'].to_list(), index=df.index)\n",
    "\n",
    "# Переименуем и добавим\n",
    "df['cat_lvl1'] = cat_levels[0]\n",
    "df['cat_lvl2'] = cat_levels[1]\n",
    "df['cat_lvl3'] = cat_levels[2]\n",
    "\n"
   ]
  },
  {
   "cell_type": "code",
   "execution_count": null,
   "id": "d0bd326c-1030-4662-bfb6-3fc1e940be52",
   "metadata": {},
   "outputs": [],
   "source": []
  },
  {
   "cell_type": "code",
   "execution_count": 68,
   "id": "d64b1de4-bc46-4683-929a-fcd23d8eef9a",
   "metadata": {},
   "outputs": [],
   "source": [
    "df = df.drop(columns=['category_ids'])"
   ]
  },
  {
   "cell_type": "code",
   "execution_count": 79,
   "id": "3f12ff31-dbdb-40f2-b77d-f0270b2d32ba",
   "metadata": {},
   "outputs": [],
   "source": [
    "date_columns = ['date_purchase', 'date_message', 'created_at', 'date']\n",
    "for col in date_columns:\n",
    "    df[col] = pd.to_datetime(df[col], errors='coerce')\n"
   ]
  },
  {
   "cell_type": "code",
   "execution_count": 80,
   "id": "e9f40cb5-56bc-4e35-8fe7-c3b7bccd67f4",
   "metadata": {},
   "outputs": [],
   "source": [
    "\n",
    "X = df.drop(columns=['target'])\n",
    "y = df['target']\n",
    "\n",
    "X_train, X_test, y_train, y_test = train_test_split(\n",
    "    X, y,\n",
    "    test_size=0.2,\n",
    "    random_state=42,\n",
    "    stratify=y\n",
    ")\n"
   ]
  },
  {
   "cell_type": "code",
   "execution_count": 71,
   "id": "d0ece0ef-f925-435d-bba9-47072ecd618c",
   "metadata": {},
   "outputs": [],
   "source": [
    "from imblearn.over_sampling import RandomOverSampler\n",
    "from sklearn.model_selection import train_test_split\n"
   ]
  },
  {
   "cell_type": "code",
   "execution_count": 82,
   "id": "43f1b9f9-a73b-4a45-bdb7-56494e505321",
   "metadata": {},
   "outputs": [
    {
     "name": "stderr",
     "output_type": "stream",
     "text": [
      "/Users/shogun/anaconda3/envs/kaggle/lib/python3.9/site-packages/sklearn/base.py:484: FutureWarning: `BaseEstimator._check_n_features` is deprecated in 1.6 and will be removed in 1.7. Use `sklearn.utils.validation._check_n_features` instead.\n",
      "  warnings.warn(\n",
      "/Users/shogun/anaconda3/envs/kaggle/lib/python3.9/site-packages/sklearn/base.py:493: FutureWarning: `BaseEstimator._check_feature_names` is deprecated in 1.6 and will be removed in 1.7. Use `sklearn.utils.validation._check_feature_names` instead.\n",
      "  warnings.warn(\n"
     ]
    }
   ],
   "source": [
    "ros = RandomOverSampler(random_state=42)\n",
    "X_train_resampled, y_train_resampled = ros.fit_resample(X_train, y_train)\n"
   ]
  },
  {
   "cell_type": "code",
   "execution_count": 81,
   "id": "94d768fe-90cd-4289-9e0d-af0b595baa2a",
   "metadata": {},
   "outputs": [
    {
     "name": "stdout",
     "output_type": "stream",
     "text": [
      "До оверсэмплинга: [663145  26653]\n",
      "После оверсэмплинга: [663145 663145]\n"
     ]
    }
   ],
   "source": [
    "\n",
    "print(\"До оверсэмплинга:\", np.bincount(y_train))\n",
    "print(\"После оверсэмплинга:\", np.bincount(y_train_resampled))\n"
   ]
  },
  {
   "cell_type": "code",
   "execution_count": 77,
   "id": "b8b5fad3-1e19-47ed-848d-3d4e01d125eb",
   "metadata": {},
   "outputs": [
    {
     "name": "stdout",
     "output_type": "stream",
     "text": [
      "До оверсэмплинга: [663145  26653]\n",
      "После оверсэмплинга: [663145 663145]\n"
     ]
    }
   ],
   "source": [
    "\n",
    "print(\"До оверсэмплинга:\", np.bincount(y_train))\n",
    "print(\"После оверсэмплинга:\", np.bincount(y_train_resampled))\n"
   ]
  },
  {
   "cell_type": "code",
   "execution_count": 42,
   "id": "3b05ecaa-ce0f-485d-a7c8-a97f38d54e02",
   "metadata": {},
   "outputs": [],
   "source": [
    "#df.info()"
   ]
  },
  {
   "cell_type": "code",
   "execution_count": null,
   "id": "eb267ca6-4179-4959-b7b7-87a05a53594a",
   "metadata": {},
   "outputs": [],
   "source": []
  },
  {
   "cell_type": "code",
   "execution_count": 83,
   "id": "ca70b865-4d59-40fb-8ebb-fd2df4efb06b",
   "metadata": {},
   "outputs": [],
   "source": [
    "categorical_features = [\n",
    "    'message_id',\n",
    "    'bulk_campaign_id',   # хотя float64, но по смыслу ID — категориальный\n",
    "    'event',\n",
    "    'channel',\n",
    "    'cat_lvl1',\n",
    "    'cat_lvl2',\n",
    "    'cat_lvl3',\n",
    "    #'client_id'         \n",
    "]\n",
    "for col in categorical_features:\n",
    "    X_train_resampled[col] = X_train_resampled[col].astype(str)\n",
    "    X_test[col] = X_test[col].astype(str)\n"
   ]
  },
  {
   "cell_type": "code",
   "execution_count": 84,
   "id": "3227634e-fec2-4932-9356-05c8f5dbba85",
   "metadata": {},
   "outputs": [
    {
     "name": "stdout",
     "output_type": "stream",
     "text": [
      "date_purchase        0\n",
      "date_message     56428\n",
      "created_at       56428\n",
      "date             56428\n",
      "dtype: int64\n"
     ]
    }
   ],
   "source": [
    "datetime_cols = df.select_dtypes(include=['datetime64[ns]']).columns\n",
    "print(df[datetime_cols].isnull().sum())\n"
   ]
  },
  {
   "cell_type": "code",
   "execution_count": null,
   "id": "053d4b99-66de-417d-84c4-af440adc9235",
   "metadata": {},
   "outputs": [],
   "source": []
  },
  {
   "cell_type": "code",
   "execution_count": 85,
   "id": "bb86a04b-1879-4e2f-9890-98fb0be36d0a",
   "metadata": {},
   "outputs": [],
   "source": [
    "for col in ['date_purchase', 'date_message', 'created_at', 'date']:\n",
    "    # Создаём признаки месяца и дня\n",
    "    X_train_resampled[f'{col}_month'] = X_train_resampled[col].dt.month.fillna(0).astype(int)\n",
    "    X_train_resampled[f'{col}_day'] = X_train_resampled[col].dt.day.fillna(0).astype(int)\n",
    "\n",
    "    X_test[f'{col}_month'] = X_test[col].dt.month.fillna(0).astype(int)\n",
    "    X_test[f'{col}_day'] = X_test[col].dt.day.fillna(0).astype(int)\n",
    "\n",
    "# Удаляем исходные колонки с датами\n",
    "X_train_resampled = X_train_resampled.drop(columns=['date_purchase', 'date_message', 'created_at', 'date'])\n",
    "X_test = X_test.drop(columns=['date_purchase', 'date_message', 'created_at', 'date'])\n"
   ]
  },
  {
   "cell_type": "code",
   "execution_count": 86,
   "id": "ad3883eb-893d-4468-8927-5dfdd751de28",
   "metadata": {},
   "outputs": [
    {
     "name": "stdout",
     "output_type": "stream",
     "text": [
      "0:\ttest: 0.9985513\tbest: 0.9985513 (0)\ttotal: 688ms\tremaining: 20s\n",
      "29:\ttest: 0.9999914\tbest: 0.9999915 (28)\ttotal: 21.4s\tremaining: 0us\n",
      "\n",
      "bestTest = 0.9999915321\n",
      "bestIteration = 28\n",
      "\n",
      "Shrink model to first 29 iterations.\n"
     ]
    },
    {
     "data": {
      "text/plain": [
       "<catboost.core.CatBoostClassifier at 0x2f0b3ff10>"
      ]
     },
     "execution_count": 86,
     "metadata": {},
     "output_type": "execute_result"
    }
   ],
   "source": [
    "\n",
    "\n",
    "cat_model = catboost.CatBoostClassifier(\n",
    "    iterations=30,\n",
    "    learning_rate=0.05,\n",
    "    depth=6,\n",
    "    verbose=100,\n",
    "    random_seed=42,\n",
    "    #eval_metric='F1',\n",
    "    eval_metric='AUC',\n",
    "    task_type='CPU'\n",
    ")\n",
    "\n",
    "cat_model.fit(\n",
    "    X_train_resampled, y_train_resampled,\n",
    "    cat_features=categorical_features,\n",
    "    eval_set=(X_test, y_test),\n",
    "    early_stopping_rounds=50\n",
    ")"
   ]
  },
  {
   "cell_type": "code",
   "execution_count": 49,
   "id": "08cd2dce-0faa-4b7b-9a5f-ecb1554b5591",
   "metadata": {},
   "outputs": [
    {
     "name": "stdout",
     "output_type": "stream",
     "text": [
      "<class 'pandas.core.frame.DataFrame'>\n",
      "Index: 172450 entries, 652099 to 39805\n",
      "Data columns (total 74 columns):\n",
      " #   Column                           Non-Null Count   Dtype  \n",
      "---  ------                           --------------   -----  \n",
      " 0   client_id                        172450 non-null  int64  \n",
      " 1   quantity                         172450 non-null  int64  \n",
      " 2   price                            172450 non-null  float64\n",
      " 3   message_id                       172450 non-null  object \n",
      " 4   bulk_campaign_id                 172450 non-null  object \n",
      " 5   event                            172450 non-null  object \n",
      " 6   channel                          172450 non-null  object \n",
      " 7   count_click_email                161123 non-null  float64\n",
      " 8   count_click_mobile_push          161123 non-null  float64\n",
      " 9   count_open_email                 161123 non-null  float64\n",
      " 10  count_open_mobile_push           161123 non-null  float64\n",
      " 11  count_purchase_email             161123 non-null  float64\n",
      " 12  count_purchase_mobile_push       161123 non-null  float64\n",
      " 13  count_soft_bounce_email          161123 non-null  float64\n",
      " 14  count_subscribe_email            161123 non-null  float64\n",
      " 15  count_unsubscribe_email          161123 non-null  float64\n",
      " 16  nunique_click_email              161123 non-null  float64\n",
      " 17  nunique_click_mobile_push        161123 non-null  float64\n",
      " 18  nunique_open_email               161123 non-null  float64\n",
      " 19  nunique_open_mobile_push         161123 non-null  float64\n",
      " 20  nunique_purchase_email           161123 non-null  float64\n",
      " 21  nunique_purchase_mobile_push     161123 non-null  float64\n",
      " 22  nunique_soft_bounce_email        161123 non-null  float64\n",
      " 23  nunique_subscribe_email          161123 non-null  float64\n",
      " 24  nunique_unsubscribe_email        161123 non-null  float64\n",
      " 25  count_hard_bounce_mobile_push    161123 non-null  float64\n",
      " 26  count_send_mobile_push           161123 non-null  float64\n",
      " 27  nunique_hard_bounce_mobile_push  161123 non-null  float64\n",
      " 28  nunique_send_mobile_push         161123 non-null  float64\n",
      " 29  count_hard_bounce_email          161123 non-null  float64\n",
      " 30  count_hbq_spam_email             161123 non-null  float64\n",
      " 31  count_send_email                 161123 non-null  float64\n",
      " 32  nunique_hard_bounce_email        161123 non-null  float64\n",
      " 33  nunique_hbq_spam_email           161123 non-null  float64\n",
      " 34  nunique_send_email               161123 non-null  float64\n",
      " 35  count_soft_bounce_mobile_push    161123 non-null  float64\n",
      " 36  nunique_soft_bounce_mobile_push  161123 non-null  float64\n",
      " 37  count_complain_email             161123 non-null  float64\n",
      " 38  nunique_complain_email           161123 non-null  float64\n",
      " 39  count_close_mobile_push          161123 non-null  float64\n",
      " 40  nunique_close_mobile_push        161123 non-null  float64\n",
      " 41  count_click                      161123 non-null  float64\n",
      " 42  count_complain                   161123 non-null  float64\n",
      " 43  count_hard_bounce                161123 non-null  float64\n",
      " 44  count_open                       161123 non-null  float64\n",
      " 45  count_purchase                   161123 non-null  float64\n",
      " 46  count_send                       161123 non-null  float64\n",
      " 47  count_soft_bounce                161123 non-null  float64\n",
      " 48  count_subscribe                  161123 non-null  float64\n",
      " 49  count_unsubscribe                161123 non-null  float64\n",
      " 50  nunique_click                    161123 non-null  float64\n",
      " 51  nunique_complain                 161123 non-null  float64\n",
      " 52  nunique_hard_bounce              161123 non-null  float64\n",
      " 53  nunique_open                     161123 non-null  float64\n",
      " 54  nunique_purchase                 161123 non-null  float64\n",
      " 55  nunique_send                     161123 non-null  float64\n",
      " 56  nunique_soft_bounce              161123 non-null  float64\n",
      " 57  nunique_subscribe                161123 non-null  float64\n",
      " 58  nunique_unsubscribe              161123 non-null  float64\n",
      " 59  count_hbq_spam                   161123 non-null  float64\n",
      " 60  nunique_hbq_spam                 161123 non-null  float64\n",
      " 61  count_close                      161123 non-null  float64\n",
      " 62  nunique_close                    161123 non-null  float64\n",
      " 63  cat_lvl1                         172450 non-null  object \n",
      " 64  cat_lvl2                         172450 non-null  object \n",
      " 65  cat_lvl3                         172450 non-null  object \n",
      " 66  date_purchase_month              172450 non-null  int64  \n",
      " 67  date_purchase_day                172450 non-null  int64  \n",
      " 68  date_message_month               172450 non-null  int64  \n",
      " 69  date_message_day                 172450 non-null  int64  \n",
      " 70  created_at_month                 172450 non-null  int64  \n",
      " 71  created_at_day                   172450 non-null  int64  \n",
      " 72  date_month                       172450 non-null  int64  \n",
      " 73  date_day                         172450 non-null  int64  \n",
      "dtypes: float64(57), int64(10), object(7)\n",
      "memory usage: 98.7+ MB\n"
     ]
    }
   ],
   "source": [
    "X_test.info()"
   ]
  },
  {
   "cell_type": "code",
   "execution_count": 87,
   "id": "569fe075-012d-41a1-b4c1-e32e438f78fb",
   "metadata": {},
   "outputs": [
    {
     "name": "stdout",
     "output_type": "stream",
     "text": [
      "ROC AUC: 1.0000\n"
     ]
    }
   ],
   "source": [
    "y_proba = cat_model.predict_proba(X_test)[:, 1]\n",
    "\n",
    "roc_auc = roc_auc_score(y_test, y_proba)\n",
    "print(f\"ROC AUC: {roc_auc:.4f}\")"
   ]
  },
  {
   "cell_type": "code",
   "execution_count": 88,
   "id": "a9d6e9ed-e1b7-4ad0-a952-7864cc946107",
   "metadata": {},
   "outputs": [
    {
     "name": "stdout",
     "output_type": "stream",
     "text": [
      "                     client_id  quantity     price  bulk_campaign_id  \\\n",
      "client_id             1.000000 -0.001427  0.004296          0.277426   \n",
      "quantity             -0.001427  1.000000 -0.003825         -0.016515   \n",
      "price                 0.004296 -0.003825  1.000000         -0.079562   \n",
      "bulk_campaign_id      0.277426 -0.016515 -0.079562          1.000000   \n",
      "target               -0.020941 -0.002335 -0.035889          0.032843   \n",
      "...                        ...       ...       ...               ...   \n",
      "nunique_unsubscribe  -0.088932  0.008566  0.017276         -0.048594   \n",
      "count_hbq_spam       -0.007870  0.006938 -0.016415          0.028867   \n",
      "nunique_hbq_spam     -0.007866  0.006938 -0.016420          0.028874   \n",
      "count_close                NaN       NaN       NaN               NaN   \n",
      "nunique_close              NaN       NaN       NaN               NaN   \n",
      "\n",
      "                       target  count_click_email  count_click_mobile_push  \\\n",
      "client_id           -0.020941          -0.161056                 0.159352   \n",
      "quantity            -0.002335           0.012001                -0.008260   \n",
      "price               -0.035889           0.040290                 0.001791   \n",
      "bulk_campaign_id     0.032843          -0.232237                 0.161012   \n",
      "target               1.000000          -0.038514                -0.006320   \n",
      "...                       ...                ...                      ...   \n",
      "nunique_unsubscribe -0.030810           0.655863                -0.139368   \n",
      "count_hbq_spam      -0.008979           0.004724                -0.011268   \n",
      "nunique_hbq_spam    -0.008980           0.004698                -0.011264   \n",
      "count_close               NaN                NaN                      NaN   \n",
      "nunique_close             NaN                NaN                      NaN   \n",
      "\n",
      "                     count_open_email  count_open_mobile_push  \\\n",
      "client_id                   -0.095822                0.212201   \n",
      "quantity                     0.007105               -0.011861   \n",
      "price                        0.024545               -0.021168   \n",
      "bulk_campaign_id            -0.193575                0.256946   \n",
      "target                      -0.019537                0.017668   \n",
      "...                               ...                     ...   \n",
      "nunique_unsubscribe          0.489470               -0.199597   \n",
      "count_hbq_spam               0.012233               -0.016138   \n",
      "nunique_hbq_spam             0.012227               -0.016132   \n",
      "count_close                       NaN                     NaN   \n",
      "nunique_close                     NaN                     NaN   \n",
      "\n",
      "                     count_purchase_email  ...  nunique_open  \\\n",
      "client_id                       -0.169605  ...      0.166401   \n",
      "quantity                         0.010772  ...     -0.008661   \n",
      "price                            0.039430  ...     -0.010561   \n",
      "bulk_campaign_id                -0.368213  ...      0.171108   \n",
      "target                          -0.029186  ...      0.009462   \n",
      "...                                   ...  ...           ...   \n",
      "nunique_unsubscribe              0.442356  ...      0.004558   \n",
      "count_hbq_spam                  -0.011794  ...     -0.010779   \n",
      "nunique_hbq_spam                -0.011801  ...     -0.010775   \n",
      "count_close                           NaN  ...           NaN   \n",
      "nunique_close                         NaN  ...           NaN   \n",
      "\n",
      "                     nunique_purchase  nunique_send  nunique_soft_bounce  \\\n",
      "client_id                   -0.136588      0.026273            -0.068515   \n",
      "quantity                     0.008262      0.000408             0.004666   \n",
      "price                        0.033275      0.018148             0.024958   \n",
      "bulk_campaign_id            -0.358441      0.047527             0.001157   \n",
      "target                      -0.032949     -0.014822            -0.007715   \n",
      "...                               ...           ...                  ...   \n",
      "nunique_unsubscribe          0.407546      0.551939             0.588217   \n",
      "count_hbq_spam              -0.014481      0.013847             0.045093   \n",
      "nunique_hbq_spam            -0.014488      0.013831             0.045072   \n",
      "count_close                       NaN           NaN                  NaN   \n",
      "nunique_close                     NaN           NaN                  NaN   \n",
      "\n",
      "                     nunique_subscribe  nunique_unsubscribe  count_hbq_spam  \\\n",
      "client_id                    -0.091098            -0.088932       -0.007870   \n",
      "quantity                      0.009530             0.008566        0.006938   \n",
      "price                         0.016776             0.017276       -0.016415   \n",
      "bulk_campaign_id             -0.060652            -0.048594        0.028867   \n",
      "target                       -0.030285            -0.030810       -0.008979   \n",
      "...                                ...                  ...             ...   \n",
      "nunique_unsubscribe           0.951722             1.000000        0.003018   \n",
      "count_hbq_spam               -0.016211             0.003018        1.000000   \n",
      "nunique_hbq_spam             -0.016227             0.002993        1.000000   \n",
      "count_close                        NaN                  NaN             NaN   \n",
      "nunique_close                      NaN                  NaN             NaN   \n",
      "\n",
      "                     nunique_hbq_spam  count_close  nunique_close  \n",
      "client_id                   -0.007866          NaN            NaN  \n",
      "quantity                     0.006938          NaN            NaN  \n",
      "price                       -0.016420          NaN            NaN  \n",
      "bulk_campaign_id             0.028874          NaN            NaN  \n",
      "target                      -0.008980          NaN            NaN  \n",
      "...                               ...          ...            ...  \n",
      "nunique_unsubscribe          0.002993          NaN            NaN  \n",
      "count_hbq_spam               1.000000          NaN            NaN  \n",
      "nunique_hbq_spam             1.000000          NaN            NaN  \n",
      "count_close                       NaN          NaN            NaN  \n",
      "nunique_close                     NaN          NaN            NaN  \n",
      "\n",
      "[61 rows x 61 columns]\n"
     ]
    }
   ],
   "source": [
    "# Оставить только числовые столбцы\n",
    "df_numeric = df.select_dtypes(include=['number'])\n",
    "\n",
    "# Посчитать корреляцию по числовым столбцам\n",
    "corr_matrix = df_numeric.corr()\n",
    "\n",
    "print(corr_matrix)\n"
   ]
  },
  {
   "cell_type": "code",
   "execution_count": 96,
   "id": "310bbf3c-e1b2-4bf7-907e-2fd441ae2d44",
   "metadata": {},
   "outputs": [
    {
     "name": "stdout",
     "output_type": "stream",
     "text": [
      "Признаки для удаления из-за высокой корреляции: ['nunique_click_email', 'nunique_click_mobile_push', 'nunique_open_email', 'nunique_purchase_mobile_push', 'nunique_soft_bounce_email', 'nunique_hard_bounce_mobile_push', 'nunique_send_mobile_push', 'nunique_hard_bounce_email', 'nunique_send_email', 'nunique_soft_bounce_mobile_push', 'nunique_click', 'nunique_hard_bounce', 'nunique_purchase', 'nunique_send']\n"
     ]
    }
   ],
   "source": [
    "\n",
    "\n",
    "# Считаем корреляционную матрицу (только числовые)\n",
    "# Оставить только числовые столбцы\n",
    "df_numeric = df_reduced.select_dtypes(include=['number'])\n",
    "\n",
    "\n",
    "corr_matrix = df_numeric.corr().abs()\n",
    "\n",
    "# Создаём маску, чтобы смотреть только верхний треугольник матрицы (без диагонали)\n",
    "upper = corr_matrix.where(np.triu(np.ones(corr_matrix.shape), k=1).astype(bool))\n",
    "\n",
    "# Задаём порог сильной корреляции, например 0.9\n",
    "threshold = 0.85\n",
    "\n",
    "# Находим имена колонок, которые коррелируют больше threshold с другими\n",
    "to_drop = [column for column in upper.columns if any(upper[column] > threshold)]\n",
    "\n",
    "print(\"Признаки для удаления из-за высокой корреляции:\", to_drop)\n"
   ]
  },
  {
   "cell_type": "code",
   "execution_count": 97,
   "id": "97d0cdd0-fba4-48ad-80cf-ee56bf29553e",
   "metadata": {},
   "outputs": [],
   "source": [
    "# Удаляем из датафрейма\n",
    "# df_reduced = df.drop(columns=to_drop)\n",
    "df_reduced = df.drop(columns=list(to_drop)).copy()\n"
   ]
  },
  {
   "cell_type": "code",
   "execution_count": 134,
   "id": "8a1770bb-2f4d-42dd-9ba9-74d692947021",
   "metadata": {},
   "outputs": [],
   "source": [
    "\n",
    "X2 = df_reduced.drop(columns=['target', 'client_id', 'message_id', 'bulk_campaign_id'])\n",
    "y2 = df_reduced['target']\n",
    "\n",
    "X_train2, X_test2, y_train2, y_test2 = train_test_split(\n",
    "    X2, y2,\n",
    "    test_size=0.2,\n",
    "    random_state=42,\n",
    "    stratify=y\n",
    ")\n"
   ]
  },
  {
   "cell_type": "code",
   "execution_count": 119,
   "id": "4c8c8d0f-bf00-4169-bd9a-275f5be22ff0",
   "metadata": {},
   "outputs": [],
   "source": [
    "#df_reduced.info()"
   ]
  },
  {
   "cell_type": "code",
   "execution_count": 135,
   "id": "3de8fd4e-4355-4958-ab54-d48c9dafd7eb",
   "metadata": {},
   "outputs": [],
   "source": [
    "categorical_features2 = [\n",
    "    #'message_id',\n",
    "    #'bulk_campaign_id',   # хотя float64, но по смыслу ID — категориальный\n",
    "    'event',\n",
    "    'channel',\n",
    "    'cat_lvl1',\n",
    "    'cat_lvl2',\n",
    "    'cat_lvl3',\n",
    "    #'client_id'         \n",
    "]\n",
    "for col in categorical_features2:\n",
    "    X_train2[col] = X_train2[col].astype(str)\n",
    "    X_test2[col] = X_test2[col].astype(str)\n"
   ]
  },
  {
   "cell_type": "code",
   "execution_count": 136,
   "id": "0c3294b4-68e4-46b7-872b-9a4249a8d73a",
   "metadata": {},
   "outputs": [
    {
     "name": "stdout",
     "output_type": "stream",
     "text": [
      "['date_purchase', 'date_message', 'created_at', 'date']\n"
     ]
    }
   ],
   "source": [
    "datetime_cols = X_train2.select_dtypes(include=['datetime']).columns.tolist()\n",
    "print(datetime_cols)\n"
   ]
  },
  {
   "cell_type": "code",
   "execution_count": 137,
   "id": "29171d43-eee3-4da8-be63-ffc1fa6ce351",
   "metadata": {},
   "outputs": [],
   "source": [
    "for col in ['date_purchase', 'date_message', 'created_at', 'date']:\n",
    "    # Признаки: месяц и день\n",
    "    X_train2[f'{col}_month'] = X_train2[col].dt.month.fillna(0).astype(int)\n",
    "    X_train2[f'{col}_day'] = X_train2[col].dt.day.fillna(0).astype(int)\n",
    "\n",
    "    X_test2[f'{col}_month'] = X_test2[col].dt.month.fillna(0).astype(int)\n",
    "    X_test2[f'{col}_day'] = X_test2[col].dt.day.fillna(0).astype(int)\n",
    "\n",
    "# Удаляем исходные datetime-колонки\n",
    "X_train2 = X_train2.drop(columns=['date_purchase', 'date_message', 'created_at', 'date'])\n",
    "X_test2 = X_test2.drop(columns=['date_purchase', 'date_message', 'created_at', 'date'])\n"
   ]
  },
  {
   "cell_type": "code",
   "execution_count": 138,
   "id": "f3929624-440e-4464-9620-12645a66d985",
   "metadata": {},
   "outputs": [],
   "source": [
    "for col in ['date_purchase', 'date_message', 'created_at', 'date']:\n",
    "    if col in X_train2.columns:\n",
    "        X_train2[f'{col}_month'] = X_train2[col].dt.month.fillna(0).astype(int)\n",
    "        X_train2[f'{col}_day'] = X_train2[col].dt.day.fillna(0).astype(int)\n",
    "        X_train2 = X_train2.drop(columns=[col])\n",
    "\n",
    "    if col in X_test2.columns:\n",
    "        X_test2[f'{col}_month'] = X_test2[col].dt.month.fillna(0).astype(int)\n",
    "        X_test2[f'{col}_day'] = X_test2[col].dt.day.fillna(0).astype(int)\n",
    "        X_test2 = X_test2.drop(columns=[col])\n"
   ]
  },
  {
   "cell_type": "code",
   "execution_count": 139,
   "id": "3fe65a35-0f38-47b6-b6c7-6c6011457689",
   "metadata": {},
   "outputs": [],
   "source": [
    "missing = [col for col in categorical_features2 if col not in X_train2.columns]\n",
    "if missing:\n",
    "    print(\"Нет в X_train2:\", missing)\n"
   ]
  },
  {
   "cell_type": "code",
   "execution_count": 129,
   "id": "9782ac71-dff2-47a4-a637-759ac2371230",
   "metadata": {},
   "outputs": [
    {
     "data": {
      "text/plain": [
       "message_id          object\n",
       "bulk_campaign_id    object\n",
       "event               object\n",
       "channel             object\n",
       "cat_lvl1            object\n",
       "cat_lvl2            object\n",
       "cat_lvl3            object\n",
       "dtype: object"
      ]
     },
     "execution_count": 129,
     "metadata": {},
     "output_type": "execute_result"
    }
   ],
   "source": [
    "X_train2[categorical_features2].dtypes\n"
   ]
  },
  {
   "cell_type": "code",
   "execution_count": 133,
   "id": "66a0d258-1426-4a66-844f-68ae2d5938e7",
   "metadata": {},
   "outputs": [
    {
     "data": {
      "text/plain": [
       "Index(['quantity', 'price', 'message_id', 'bulk_campaign_id', 'event',\n",
       "       'channel', 'count_click_email', 'count_click_mobile_push',\n",
       "       'count_open_email', 'count_open_mobile_push', 'count_purchase_email',\n",
       "       'count_purchase_mobile_push', 'count_soft_bounce_email',\n",
       "       'count_subscribe_email', 'count_unsubscribe_email',\n",
       "       'nunique_open_mobile_push', 'nunique_purchase_email',\n",
       "       'nunique_subscribe_email', 'nunique_unsubscribe_email',\n",
       "       'count_hard_bounce_mobile_push', 'count_send_mobile_push',\n",
       "       'count_hard_bounce_email', 'count_hbq_spam_email', 'count_send_email',\n",
       "       'nunique_hbq_spam_email', 'count_soft_bounce_mobile_push',\n",
       "       'count_complain_email', 'nunique_complain_email',\n",
       "       'count_close_mobile_push', 'nunique_close_mobile_push', 'count_click',\n",
       "       'count_complain', 'count_hard_bounce', 'count_open', 'count_purchase',\n",
       "       'count_send', 'count_soft_bounce', 'count_subscribe',\n",
       "       'count_unsubscribe', 'nunique_complain', 'nunique_open',\n",
       "       'nunique_soft_bounce', 'nunique_subscribe', 'nunique_unsubscribe',\n",
       "       'count_hbq_spam', 'nunique_hbq_spam', 'count_close', 'nunique_close',\n",
       "       'cat_lvl1', 'cat_lvl2', 'cat_lvl3', 'date_purchase_month',\n",
       "       'date_purchase_day', 'date_message_month', 'date_message_day',\n",
       "       'created_at_month', 'created_at_day', 'date_month', 'date_day'],\n",
       "      dtype='object')"
      ]
     },
     "execution_count": 133,
     "metadata": {},
     "output_type": "execute_result"
    }
   ],
   "source": [
    "X_train_final.columns"
   ]
  },
  {
   "cell_type": "code",
   "execution_count": 140,
   "id": "188bc953-31a4-4f3d-9898-1f93960fc3b4",
   "metadata": {},
   "outputs": [],
   "source": [
    "# Разбиваем X_train2 на обучающую и валидационную части\n",
    "X_train_final, X_valid, y_train_final, y_valid = train_test_split(\n",
    "    X_train2, y_train2,\n",
    "    test_size=0.2,\n",
    "    stratify=y_train2,\n",
    "    random_state=42\n",
    ")\n"
   ]
  },
  {
   "cell_type": "code",
   "execution_count": 143,
   "id": "ba45df1b-8697-490a-bfab-82076a95bb1f",
   "metadata": {},
   "outputs": [
    {
     "name": "stdout",
     "output_type": "stream",
     "text": [
      "0:\ttest: 0.5633029\tbest: 0.5633029 (0)\ttotal: 511ms\tremaining: 5m 57s\n",
      "100:\ttest: 0.7650980\tbest: 0.7650980 (100)\ttotal: 36.3s\tremaining: 3m 35s\n",
      "200:\ttest: 0.8209275\tbest: 0.8209275 (200)\ttotal: 1m 16s\tremaining: 3m 9s\n",
      "300:\ttest: 0.8487355\tbest: 0.8487355 (300)\ttotal: 1m 58s\tremaining: 2m 37s\n",
      "400:\ttest: 0.8649843\tbest: 0.8649843 (400)\ttotal: 2m 46s\tremaining: 2m 4s\n",
      "500:\ttest: 0.8778992\tbest: 0.8778992 (500)\ttotal: 3m 52s\tremaining: 1m 32s\n",
      "600:\ttest: 0.8861545\tbest: 0.8861545 (600)\ttotal: 4m 44s\tremaining: 46.8s\n",
      "699:\ttest: 0.8943426\tbest: 0.8943426 (699)\ttotal: 5m 38s\tremaining: 0us\n",
      "\n",
      "bestTest = 0.8943425702\n",
      "bestIteration = 699\n",
      "\n"
     ]
    },
    {
     "data": {
      "text/plain": [
       "<catboost.core.CatBoostClassifier at 0x4ba43d460>"
      ]
     },
     "execution_count": 143,
     "metadata": {},
     "output_type": "execute_result"
    }
   ],
   "source": [
    "cat_model2 = catboost.CatBoostClassifier(\n",
    "    iterations=700,\n",
    "    learning_rate=0.05,\n",
    "    depth=6,\n",
    "    verbose=100,\n",
    "    random_seed=42,\n",
    "    eval_metric='AUC',\n",
    "    task_type='CPU',\n",
    "    early_stopping_rounds=150\n",
    ")\n",
    "\n",
    "cat_model2.fit(\n",
    "    X_train_final, y_train_final,\n",
    "    cat_features=categorical_features2,\n",
    "    eval_set=(X_valid, y_valid),\n",
    "    use_best_model=True\n",
    ")\n"
   ]
  },
  {
   "cell_type": "code",
   "execution_count": null,
   "id": "c7717c24-365c-45c4-bdf8-454f0157b6df",
   "metadata": {},
   "outputs": [],
   "source": [
    "X_train_final"
   ]
  },
  {
   "cell_type": "code",
   "execution_count": 144,
   "id": "7eae4561-04c9-4356-b1be-6572c78b69db",
   "metadata": {},
   "outputs": [
    {
     "data": {
      "text/plain": [
       "0.8902456281769814"
      ]
     },
     "execution_count": 144,
     "metadata": {},
     "output_type": "execute_result"
    }
   ],
   "source": [
    "\n",
    "y_pred_proba = cat_model2.predict_proba(X_test2)[:, 1]\n",
    "roc_auc_score(y_test2, y_pred_proba)\n"
   ]
  },
  {
   "cell_type": "code",
   "execution_count": null,
   "id": "0eae48d1-2806-4827-ba62-70c2568979b6",
   "metadata": {},
   "outputs": [],
   "source": []
  }
 ],
 "metadata": {
  "kernelspec": {
   "display_name": "Python 3 (ipykernel)",
   "language": "python",
   "name": "python3"
  },
  "language_info": {
   "codemirror_mode": {
    "name": "ipython",
    "version": 3
   },
   "file_extension": ".py",
   "mimetype": "text/x-python",
   "name": "python",
   "nbconvert_exporter": "python",
   "pygments_lexer": "ipython3",
   "version": "3.9.18"
  }
 },
 "nbformat": 4,
 "nbformat_minor": 5
}
